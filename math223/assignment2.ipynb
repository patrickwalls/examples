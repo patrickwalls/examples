{
 "cells": [
  {
   "cell_type": "markdown",
   "id": "e621235f",
   "metadata": {
    "deletable": false,
    "editable": false,
    "nbgrader": {
     "cell_type": "markdown",
     "checksum": "6030ae9a31650f7a26375c378f1d3428",
     "grade": false,
     "grade_id": "cell-fa8fdad22b0d80d4",
     "locked": true,
     "schema_version": 3,
     "solution": false,
     "task": false
    }
   },
   "source": [
    "# MATH 223 Python Assignment 2\n",
    "\n",
    "* Write your solutions in the cells with `YOUR CODE HERE`.\n",
    "* It's a good idea to copy/paste code from this notebook into a new notebook for rough work and then enter your solutions below. \n",
    "* Students are encouraged to collaborate but each student must submit their own notebook.\n",
    "* Run the test cells to verify your work. **Warning!** There are hidden tests for grading that are only run after you submit your work. Your solutions may not be entirely correct even if they pass all tests below.\n",
    "* Submit this notebook file (`.ipynb`) to Canvas when complete."
   ]
  },
  {
   "cell_type": "code",
   "execution_count": null,
   "id": "3b46ea29",
   "metadata": {
    "deletable": false,
    "editable": false,
    "nbgrader": {
     "cell_type": "code",
     "checksum": "c283126143e95725d86b46ced2537196",
     "grade": false,
     "grade_id": "cell-c951d29d7e3cd723",
     "locked": true,
     "schema_version": 3,
     "solution": false,
     "task": false
    }
   },
   "outputs": [],
   "source": [
    "import numpy as np\n",
    "import scipy.linalg as la\n",
    "import matplotlib.pyplot as plt"
   ]
  },
  {
   "cell_type": "markdown",
   "id": "f24df876",
   "metadata": {
    "deletable": false,
    "editable": false,
    "nbgrader": {
     "cell_type": "markdown",
     "checksum": "cb487d50899dc476948d8a3efd4ab1f6",
     "grade": false,
     "grade_id": "cell-64978a91c562b64e",
     "locked": true,
     "schema_version": 3,
     "solution": false,
     "task": false
    }
   },
   "source": [
    "## How to use `la.eig`\n",
    "\n",
    "The function `la.eig` computes eigenvalues and eigenvectors of a matrix $A$. For example, consider the matrix\n",
    "\n",
    "$$\n",
    "A_0 = \\begin{bmatrix} 1 & 2 \\\\ 2 & 1 \\end{bmatrix}\n",
    "$$\n",
    "\n",
    "The eigenvalues are $\\lambda_0 = 3$ and $\\lambda_1 = -1$ with corresponding unit eigenvectors\n",
    "\n",
    "$$\n",
    "\\vec{v}_0 = \\frac{1}{\\sqrt{2}} \\begin{bmatrix} 1 \\\\ 1 \\end{bmatrix}\n",
    "\\hspace{5mm}\n",
    "\\vec{v}_1 = \\frac{1}{\\sqrt{2}} \\begin{bmatrix} -1 \\\\ 1 \\end{bmatrix}\n",
    "$$\n",
    "\n",
    "Let's use `la.eig` to compute $\\lambda_0$, $\\lambda_1$, $\\vec{v}_0$, and $\\vec{v}_1$."
   ]
  },
  {
   "cell_type": "code",
   "execution_count": null,
   "id": "0fe07272",
   "metadata": {
    "deletable": false,
    "editable": false,
    "nbgrader": {
     "cell_type": "code",
     "checksum": "f9a6b29b941dc95e27dead22230fac95",
     "grade": false,
     "grade_id": "cell-551feea52654c3ad",
     "locked": true,
     "schema_version": 3,
     "solution": false,
     "task": false
    }
   },
   "outputs": [],
   "source": [
    "A0 = np.array([[1,2],[2,1]])\n",
    "D,V = la.eig(A0)"
   ]
  },
  {
   "cell_type": "code",
   "execution_count": null,
   "id": "7be8e372",
   "metadata": {
    "deletable": false,
    "editable": false,
    "nbgrader": {
     "cell_type": "code",
     "checksum": "aa65a3bf3d332df39ca096046ef3074a",
     "grade": false,
     "grade_id": "cell-bce72419d065644e",
     "locked": true,
     "schema_version": 3,
     "solution": false,
     "task": false
    }
   },
   "outputs": [],
   "source": [
    "D"
   ]
  },
  {
   "cell_type": "code",
   "execution_count": null,
   "id": "332bd6a6",
   "metadata": {
    "deletable": false,
    "editable": false,
    "nbgrader": {
     "cell_type": "code",
     "checksum": "1a230568a3157f6ee6604d1723c7dd10",
     "grade": false,
     "grade_id": "cell-f87ae3a67e2da3e5",
     "locked": true,
     "schema_version": 3,
     "solution": false,
     "task": false
    }
   },
   "outputs": [],
   "source": [
    "V"
   ]
  },
  {
   "cell_type": "markdown",
   "id": "59731496",
   "metadata": {
    "deletable": false,
    "editable": false,
    "nbgrader": {
     "cell_type": "markdown",
     "checksum": "9c438cbd6efab8a315c88c6bedf7b4bd",
     "grade": false,
     "grade_id": "cell-55e2a1a758601967",
     "locked": true,
     "schema_version": 3,
     "solution": false,
     "task": false
    }
   },
   "source": [
    "The function `la.eig` returns a vector `D` of eigenvalues and a matrix `V` with unit eigenvectors in the columns. In particular, eigenvalue `D[0]` corresponds to eigenvector `V[:,0]`, `D[1]` corresponds to `V[:,1]`, etc.\n",
    "\n",
    "Also note that the vector `D` of eigenvalues is always complex even if the eigenvalues are real numbers. We can convert the values to real numbers using the function `np.real`."
   ]
  },
  {
   "cell_type": "code",
   "execution_count": null,
   "id": "946a1278",
   "metadata": {
    "deletable": false,
    "editable": false,
    "nbgrader": {
     "cell_type": "code",
     "checksum": "1cdbe19ed1c9c37e16d0c6e89a42fe25",
     "grade": false,
     "grade_id": "cell-1128a7265def2af8",
     "locked": true,
     "schema_version": 3,
     "solution": false,
     "task": false
    }
   },
   "outputs": [],
   "source": [
    "D = np.real(D)"
   ]
  },
  {
   "cell_type": "code",
   "execution_count": null,
   "id": "b600629e",
   "metadata": {
    "deletable": false,
    "editable": false,
    "nbgrader": {
     "cell_type": "code",
     "checksum": "1421fecf26eab00a112f7796c0d65384",
     "grade": false,
     "grade_id": "cell-fb42f44888d48e5b",
     "locked": true,
     "schema_version": 3,
     "solution": false,
     "task": false
    }
   },
   "outputs": [],
   "source": [
    "D[0]"
   ]
  },
  {
   "cell_type": "code",
   "execution_count": null,
   "id": "34b2bbf1",
   "metadata": {
    "deletable": false,
    "editable": false,
    "nbgrader": {
     "cell_type": "code",
     "checksum": "81d7f3dd11a3b6956af1aeebc635a652",
     "grade": false,
     "grade_id": "cell-01ad6b98ffdc7b4f",
     "locked": true,
     "schema_version": 3,
     "solution": false,
     "task": false
    }
   },
   "outputs": [],
   "source": [
    "V[:,0]"
   ]
  },
  {
   "cell_type": "markdown",
   "id": "53aca7b9",
   "metadata": {
    "deletable": false,
    "editable": false,
    "nbgrader": {
     "cell_type": "markdown",
     "checksum": "94d5b306d4efb05b217b9f92311c31a6",
     "grade": false,
     "grade_id": "cell-f27ba5f8062cc7fa",
     "locked": true,
     "schema_version": 3,
     "solution": false,
     "task": false
    }
   },
   "source": [
    "Compare the eigenvector we comptued by hand:\n",
    "\n",
    "$$\n",
    "\\vec{v}_0 = \\frac{1}{\\sqrt{2}} \\begin{bmatrix} 1 \\\\ 1 \\end{bmatrix}\n",
    "$$"
   ]
  },
  {
   "cell_type": "code",
   "execution_count": null,
   "id": "df6194a7",
   "metadata": {
    "deletable": false,
    "editable": false,
    "nbgrader": {
     "cell_type": "code",
     "checksum": "573b262ef3854e6c395dafb7978a769a",
     "grade": false,
     "grade_id": "cell-de761f64a5eb4893",
     "locked": true,
     "schema_version": 3,
     "solution": false,
     "task": false
    }
   },
   "outputs": [],
   "source": [
    "(1/2**0.5)*np.array([1,1])"
   ]
  },
  {
   "cell_type": "markdown",
   "id": "875b2a1f",
   "metadata": {
    "deletable": false,
    "editable": false,
    "nbgrader": {
     "cell_type": "markdown",
     "checksum": "1e87f362b0dc7aada633ea7645eebb2d",
     "grade": false,
     "grade_id": "cell-a604ef6b7254f7e2",
     "locked": true,
     "schema_version": 3,
     "solution": false,
     "task": false
    }
   },
   "source": [
    "They are the same!"
   ]
  },
  {
   "cell_type": "markdown",
   "id": "c3fd9e01",
   "metadata": {
    "deletable": false,
    "editable": false,
    "nbgrader": {
     "cell_type": "markdown",
     "checksum": "54ca00865aff24dadbd3052280017398",
     "grade": false,
     "grade_id": "cell-b6c2203cdc192a8b",
     "locked": true,
     "schema_version": 3,
     "solution": false,
     "task": false
    }
   },
   "source": [
    "## Problem 1\n",
    "\n",
    "### Problem 1a (2 marks)\n",
    "\n",
    "Use the functions `np.arange` (see [documentation](https://numpy.org/doc/stable/reference/generated/numpy.arange.html)) and `np.reshape` (see [documentation](https://numpy.org/doc/stable/reference/generated/numpy.reshape.html)) to create the $10 \\times 10$ matrix with entries from 0 to 99 which increase across the rows:\n",
    "\n",
    "$$\n",
    "A_1 = \\begin{bmatrix}\n",
    "0 & 1 & 2 & \\cdots & 9 \\\\\n",
    "10 & 11 & 12 & \\cdots & 19 \\\\\n",
    "\\vdots & \\vdots & \\vdots & \\ddots & \\vdots \\\\\n",
    "90 & 91 & 92 & \\cdots & 99\n",
    "\\end{bmatrix}\n",
    "$$\n",
    "\n",
    "Save the result as `A1`."
   ]
  },
  {
   "cell_type": "code",
   "execution_count": null,
   "id": "e272fa81",
   "metadata": {
    "deletable": false,
    "nbgrader": {
     "cell_type": "code",
     "checksum": "4b927285b0358875e85968f71109a488",
     "grade": false,
     "grade_id": "cell-93c24c8725fe4036",
     "locked": false,
     "schema_version": 3,
     "solution": true,
     "task": false
    }
   },
   "outputs": [],
   "source": [
    "# YOUR CODE HERE\n",
    "A1 = "
   ]
  },
  {
   "cell_type": "code",
   "execution_count": null,
   "id": "f395e3f0",
   "metadata": {
    "deletable": false,
    "editable": false,
    "nbgrader": {
     "cell_type": "code",
     "checksum": "e5a3697b5aeed6c212e2914ac368eb65",
     "grade": true,
     "grade_id": "cell-f1d568efffcaf47e",
     "locked": true,
     "points": 1,
     "schema_version": 3,
     "solution": false,
     "task": false
    }
   },
   "outputs": [],
   "source": [
    "\"Verify A1 is a NumPy array of size (10,10). (1 mark)\"\n",
    "assert isinstance(A1,np.ndarray)\n",
    "assert A1.shape == (10,10)\n",
    "print(\"Problem 1a Test 1: Success!\")"
   ]
  },
  {
   "cell_type": "code",
   "execution_count": null,
   "id": "b711db43",
   "metadata": {
    "deletable": false,
    "editable": false,
    "nbgrader": {
     "cell_type": "code",
     "checksum": "40d81f6b228428db917e16fe8a04330f",
     "grade": true,
     "grade_id": "cell-74ac8492d697a9e0",
     "locked": true,
     "points": 1,
     "schema_version": 3,
     "solution": false,
     "task": false
    }
   },
   "outputs": [],
   "source": [
    "\"Verify A1 has correct values. This cell contains hidden tests. (1 mark)\"\n",
    "assert A1[0,0] == 0 and A1[9,9] == 99\n",
    "print(\"Problem 1a Test 2: Success!\")"
   ]
  },
  {
   "cell_type": "markdown",
   "id": "ebd57ad1",
   "metadata": {
    "deletable": false,
    "editable": false,
    "nbgrader": {
     "cell_type": "markdown",
     "checksum": "e0457866607a537353a795b728702022",
     "grade": false,
     "grade_id": "cell-bfcd1e3162e216b4",
     "locked": true,
     "schema_version": 3,
     "solution": false,
     "task": false
    }
   },
   "source": [
    "### Problem 1b (2 marks)\n",
    "\n",
    "The eigenvalues of $A_1$ are real numbers. Find the largest eigenvalue of $A_1$ and save the result as `lambda1` (as a real number)."
   ]
  },
  {
   "cell_type": "code",
   "execution_count": null,
   "id": "17817586",
   "metadata": {
    "deletable": false,
    "nbgrader": {
     "cell_type": "code",
     "checksum": "43f1c1064d020d16e316f4adbc9feb60",
     "grade": false,
     "grade_id": "cell-5565c2f4d4d7b8d2",
     "locked": false,
     "schema_version": 3,
     "solution": true,
     "task": false
    }
   },
   "outputs": [],
   "source": [
    "# YOUR CODE HERE\n",
    "lambda1 = "
   ]
  },
  {
   "cell_type": "code",
   "execution_count": null,
   "id": "82ce4d35",
   "metadata": {
    "deletable": false,
    "editable": false,
    "nbgrader": {
     "cell_type": "code",
     "checksum": "575369aad5274e6c8183b6bd2832d969",
     "grade": true,
     "grade_id": "cell-6477756710098b0a",
     "locked": true,
     "points": 1,
     "schema_version": 3,
     "solution": false,
     "task": false
    }
   },
   "outputs": [],
   "source": [
    "\"Verify lambda1 is a positive number. (1 mark)\"\n",
    "assert lambda1 > 0\n",
    "print(\"Problem 1b Test 1: Success!\")"
   ]
  },
  {
   "cell_type": "code",
   "execution_count": null,
   "id": "82f5c8d7",
   "metadata": {
    "deletable": false,
    "editable": false,
    "nbgrader": {
     "cell_type": "code",
     "checksum": "b40ae55aa0a43edd4278b8a534915281",
     "grade": true,
     "grade_id": "cell-0d0c08c2458e112b",
     "locked": true,
     "points": 1,
     "schema_version": 3,
     "solution": false,
     "task": false
    }
   },
   "outputs": [],
   "source": [
    "\"Verify value of lambda1. This cell contains hidden tests. (1 mark)\"\n",
    "assert lambda1 > 500\n",
    "print(\"Problem 1b Test 2: Success!\")"
   ]
  },
  {
   "cell_type": "markdown",
   "id": "db1d35cd",
   "metadata": {
    "deletable": false,
    "editable": false,
    "nbgrader": {
     "cell_type": "markdown",
     "checksum": "7799bcab0d064f99beca6e31bf354efd",
     "grade": false,
     "grade_id": "cell-092024579a58aebd",
     "locked": true,
     "schema_version": 3,
     "solution": false,
     "task": false
    }
   },
   "source": [
    "### Problem 1c (2 marks)\n",
    "\n",
    "Determine the algebraic multiplicity of the eigenvalue $\\lambda=0$ for $A_1$. Save the result as `algmult`."
   ]
  },
  {
   "cell_type": "code",
   "execution_count": null,
   "id": "06b578f9",
   "metadata": {
    "deletable": false,
    "nbgrader": {
     "cell_type": "code",
     "checksum": "fe98344c9580bfb616b71721ba066b2b",
     "grade": false,
     "grade_id": "cell-e5ee8def2179df0c",
     "locked": false,
     "schema_version": 3,
     "solution": true,
     "task": false
    }
   },
   "outputs": [],
   "source": [
    "# YOUR CODE HERE\n",
    "algmult = "
   ]
  },
  {
   "cell_type": "code",
   "execution_count": null,
   "id": "3acc9d13",
   "metadata": {
    "deletable": false,
    "editable": false,
    "nbgrader": {
     "cell_type": "code",
     "checksum": "e8272c84292d725d3a620a96a387fa15",
     "grade": true,
     "grade_id": "cell-af4b363107b1e780",
     "locked": true,
     "points": 1,
     "schema_version": 3,
     "solution": false,
     "task": false
    }
   },
   "outputs": [],
   "source": [
    "\"Verify algmult is a positive number. (1 mark)\"\n",
    "assert algmult > 0\n",
    "print(\"Problem 1c Test 1: Success!\")"
   ]
  },
  {
   "cell_type": "code",
   "execution_count": null,
   "id": "1c529856",
   "metadata": {
    "deletable": false,
    "editable": false,
    "nbgrader": {
     "cell_type": "code",
     "checksum": "6564724d121a8ed2494e3ea7c86e6b35",
     "grade": true,
     "grade_id": "cell-797b15add819405f",
     "locked": true,
     "points": 1,
     "schema_version": 3,
     "solution": false,
     "task": false
    }
   },
   "outputs": [],
   "source": [
    "\"Verify value of algmult. This cell contains hidden tests. (1 mark)\"\n",
    "assert algmult > 0\n",
    "print(\"Problem 1c Test 2: Success!\")"
   ]
  },
  {
   "cell_type": "markdown",
   "id": "3fb327fe",
   "metadata": {
    "deletable": false,
    "editable": false,
    "nbgrader": {
     "cell_type": "markdown",
     "checksum": "f21057e73aa15ff9eded7904c2c25341",
     "grade": false,
     "grade_id": "cell-a0dfe3d7025ec2a4",
     "locked": true,
     "schema_version": 3,
     "solution": false,
     "task": false
    }
   },
   "source": [
    "## Problem 2 (3 marks)\n",
    "\n",
    "Construct a $3 \\times 3$ matrix $A_2$ with eigenvalues $\\lambda_1 = -1$, $\\lambda_2 = 1$, $\\lambda_3 = 2$ such that all entries of $A_2$ are nonzero. Save the result as `A2`.\n",
    "\n",
    "Hint: create $A_2 = PDP^{-1}$ for matrices $P$ and $D$ using the function `la.inv` (see [documentation](https://docs.scipy.org/doc/scipy/reference/generated/scipy.linalg.inv.html))."
   ]
  },
  {
   "cell_type": "code",
   "execution_count": null,
   "id": "24623a3d",
   "metadata": {
    "deletable": false,
    "nbgrader": {
     "cell_type": "code",
     "checksum": "946856e1fce98329f810011945f46a64",
     "grade": false,
     "grade_id": "cell-799a6f001382c209",
     "locked": false,
     "schema_version": 3,
     "solution": true,
     "task": false
    }
   },
   "outputs": [],
   "source": [
    "# YOUR CODE HERE\n",
    "A2 = "
   ]
  },
  {
   "cell_type": "code",
   "execution_count": null,
   "id": "570e5caa",
   "metadata": {
    "deletable": false,
    "editable": false,
    "nbgrader": {
     "cell_type": "code",
     "checksum": "3133b0a8817d310f996c7ea36dfd5edd",
     "grade": true,
     "grade_id": "cell-8e23091aa2aa9f98",
     "locked": true,
     "points": 1,
     "schema_version": 3,
     "solution": false,
     "task": false
    }
   },
   "outputs": [],
   "source": [
    "\"Verify A2 is a NumPy array of size (3,3). (1 mark)\"\n",
    "assert isinstance(A2,np.ndarray)\n",
    "assert A2.shape == (3,3)\n",
    "print(\"Problem 2 Test 1: Success!\")"
   ]
  },
  {
   "cell_type": "code",
   "execution_count": null,
   "id": "941dbca0",
   "metadata": {
    "deletable": false,
    "editable": false,
    "nbgrader": {
     "cell_type": "code",
     "checksum": "78010d9269b738eb2a376f466c836948",
     "grade": true,
     "grade_id": "cell-74a8df330cc992a2",
     "locked": true,
     "points": 1,
     "schema_version": 3,
     "solution": false,
     "task": false
    }
   },
   "outputs": [],
   "source": [
    "\"Verify entries of A2 are nonzero real numbers. (1 mark)\"\n",
    "assert np.all(A2 != 0)\n",
    "assert np.max(np.abs(A2.imag)) == 0.\n",
    "print(\"Problem 2 Test 2: Success!\")"
   ]
  },
  {
   "cell_type": "code",
   "execution_count": null,
   "id": "5cf0f41e",
   "metadata": {
    "deletable": false,
    "editable": false,
    "nbgrader": {
     "cell_type": "code",
     "checksum": "06c6a2f99260cbb9b1549c4ee221b8ca",
     "grade": true,
     "grade_id": "cell-f94cfbc568e59788",
     "locked": true,
     "points": 1,
     "schema_version": 3,
     "solution": false,
     "task": false
    }
   },
   "outputs": [],
   "source": [
    "\"Verify eigenvalues of A2 are -1,1,2. (1 mark)\"\n",
    "D2,_ = la.eig(A2)\n",
    "D2 = np.sort(np.real(D2))\n",
    "assert np.allclose(D2,[-1,1,2])\n",
    "print(\"Problem 2 Test 3: Success!\")"
   ]
  },
  {
   "cell_type": "markdown",
   "id": "5f22cf41",
   "metadata": {
    "deletable": false,
    "editable": false,
    "nbgrader": {
     "cell_type": "markdown",
     "checksum": "08c519d8e7a4f7eb68526ad8748a089b",
     "grade": false,
     "grade_id": "cell-e7b4276d5f54c349",
     "locked": true,
     "schema_version": 3,
     "solution": false,
     "task": false
    }
   },
   "source": [
    "## Problem 3\n",
    "\n",
    "Consider the matrix $A_3$ of size $100 \\times 100$ with $2$ in the diagonal and $1$ in the upper and lower diagonals\n",
    "\n",
    "$$\n",
    "A_3 = \\left[ \\begin{array}{rrrrr} 2 & 1 & & & \\\\ 1 & 2 & 1 & & \\\\ & \\ddots & \\ddots & \\ddots & \\\\ & & 1 & 2 & 1 \\\\ & & & 1 & 2 \\end{array} \\right]\n",
    "$$\n",
    "\n",
    "### Problem 3a (2 marks)\n",
    "\n",
    "Use the functions `np.eye` (see [documentation](https://numpy.org/devdocs/reference/generated/numpy.eye.html)) and `np.diag` (see [documentation](https://numpy.org/devdocs/reference/generated/numpy.diag.html)) to construct the matrix $A_3$ and save the result as `A3`."
   ]
  },
  {
   "cell_type": "code",
   "execution_count": null,
   "id": "a0364246",
   "metadata": {
    "deletable": false,
    "nbgrader": {
     "cell_type": "code",
     "checksum": "e49733773fe92efc45f839d686547476",
     "grade": false,
     "grade_id": "cell-7d75179b87543fc7",
     "locked": false,
     "schema_version": 3,
     "solution": true,
     "task": false
    }
   },
   "outputs": [],
   "source": [
    "# YOUR CODE HERE\n",
    "A3 = "
   ]
  },
  {
   "cell_type": "code",
   "execution_count": null,
   "id": "95c2032b",
   "metadata": {
    "deletable": false,
    "editable": false,
    "nbgrader": {
     "cell_type": "code",
     "checksum": "46dad928a0abedc95beb1ec1c91d0b32",
     "grade": true,
     "grade_id": "cell-825c1ec1229044fb",
     "locked": true,
     "points": 1,
     "schema_version": 3,
     "solution": false,
     "task": false
    }
   },
   "outputs": [],
   "source": [
    "\"Verify A3 is a NumPy array of size (100,100). (1 mark)\"\n",
    "assert isinstance(A3,np.ndarray)\n",
    "assert A3.shape == (100,100)\n",
    "print(\"Problem 3a Test 1: Success!\")"
   ]
  },
  {
   "cell_type": "code",
   "execution_count": null,
   "id": "0a50c02b",
   "metadata": {
    "deletable": false,
    "editable": false,
    "nbgrader": {
     "cell_type": "code",
     "checksum": "5ea3c00c5d6aeecc2d1d14455a1652f0",
     "grade": true,
     "grade_id": "cell-76a5c72225cd5651",
     "locked": true,
     "points": 1,
     "schema_version": 3,
     "solution": false,
     "task": false
    }
   },
   "outputs": [],
   "source": [
    "\"Verify A3 has correct values. This cell contains hidden tests. (1 mark)\"\n",
    "assert np.allclose(A3[0,:3],[2,1,0])\n",
    "assert np.allclose(A3[-1,-3:],[0,1,2])\n",
    "print(\"Problem 3a Test 2: Success!\")"
   ]
  },
  {
   "cell_type": "markdown",
   "id": "22fcfd42",
   "metadata": {
    "deletable": false,
    "editable": false,
    "nbgrader": {
     "cell_type": "markdown",
     "checksum": "157ff36552e8e3ba6503842f6e8f34a9",
     "grade": false,
     "grade_id": "cell-ff0f772ee651dbfd",
     "locked": true,
     "schema_version": 3,
     "solution": false,
     "task": false
    }
   },
   "source": [
    "### Problem 3b (2 marks)\n",
    "\n",
    "Use the functions `la.eig`, `np.sort` (see [documentation](https://numpy.org/devdocs/reference/generated/numpy.sort.html)) and `np.real` (see [documentation](https://numpy.org/devdocs/reference/generated/numpy.real.html)) to compute the eigenvalues of $A_3$ and sort the (real) eigenvalues into increasing order. Save the result as `A3_evals`."
   ]
  },
  {
   "cell_type": "code",
   "execution_count": null,
   "id": "c37d7b75",
   "metadata": {
    "deletable": false,
    "nbgrader": {
     "cell_type": "code",
     "checksum": "7eb9c607de65bbe7f419b8e9b8fa355b",
     "grade": false,
     "grade_id": "cell-be8c6cfb17e03a26",
     "locked": false,
     "schema_version": 3,
     "solution": true,
     "task": false
    }
   },
   "outputs": [],
   "source": [
    "# YOUR CODE HERE\n",
    "A3_evals = "
   ]
  },
  {
   "cell_type": "code",
   "execution_count": null,
   "id": "ce7b2b69",
   "metadata": {
    "deletable": false,
    "editable": false,
    "nbgrader": {
     "cell_type": "code",
     "checksum": "232f6f95f9c5e186c42134cbab86c8a1",
     "grade": true,
     "grade_id": "cell-446d0a73e4eda58e",
     "locked": true,
     "points": 1,
     "schema_version": 3,
     "solution": false,
     "task": false
    }
   },
   "outputs": [],
   "source": [
    "\"Verify A3_evals is a NumPy array of length (100). (1 mark)\"\n",
    "assert isinstance(A3_evals,np.ndarray)\n",
    "assert A3_evals.size == 100\n",
    "print(\"Problem 3b Test 1: Success!\")"
   ]
  },
  {
   "cell_type": "code",
   "execution_count": null,
   "id": "38d146f2",
   "metadata": {
    "deletable": false,
    "editable": false,
    "nbgrader": {
     "cell_type": "code",
     "checksum": "4d84ad1b4e281b7b50e05377fdad4ea1",
     "grade": true,
     "grade_id": "cell-40eabb819cbf1a06",
     "locked": true,
     "points": 1,
     "schema_version": 3,
     "solution": false,
     "task": false
    }
   },
   "outputs": [],
   "source": [
    "\"Verify A3_evals has correct values. This cell contains hidden tests. (1 mark)\"\n",
    "assert np.allclose(A3_evals[:2],[0.00096744, 0.00386881])\n",
    "assert np.allclose(A3_evals[-2:],[3.99613119, 3.99903256])\n",
    "print(\"Problem 3b Test 2: Success!\")"
   ]
  },
  {
   "cell_type": "markdown",
   "id": "f75fcea8",
   "metadata": {
    "deletable": false,
    "editable": false,
    "nbgrader": {
     "cell_type": "markdown",
     "checksum": "8306d7e5a1fb40b46b3a0b5535b70eec",
     "grade": false,
     "grade_id": "cell-bd9d3188b93c0838",
     "locked": true,
     "schema_version": 3,
     "solution": false,
     "task": false
    }
   },
   "source": [
    "If done correctly, the cell below creates the figure below:"
   ]
  },
  {
   "cell_type": "code",
   "execution_count": null,
   "id": "b99f71a4",
   "metadata": {
    "deletable": false,
    "editable": false,
    "nbgrader": {
     "cell_type": "code",
     "checksum": "159530783430394bfd9a2298a110897c",
     "grade": false,
     "grade_id": "cell-32536e3e1f1e364a",
     "locked": true,
     "schema_version": 3,
     "solution": false,
     "task": false
    }
   },
   "outputs": [],
   "source": [
    "plt.plot(A3_evals,'.')\n",
    "plt.plot()\n",
    "plt.show()"
   ]
  },
  {
   "cell_type": "markdown",
   "id": "5abf0ad2",
   "metadata": {
    "deletable": false,
    "editable": false,
    "nbgrader": {
     "cell_type": "markdown",
     "checksum": "56e9a16d05f8eead70cef13e78d626d0",
     "grade": false,
     "grade_id": "cell-be5beb0f3d240139",
     "locked": true,
     "schema_version": 3,
     "solution": false,
     "task": false
    }
   },
   "source": [
    "![Problem 3a](https://personal.math.ubc.ca/~pwalls/data/A3_evals.png)"
   ]
  },
  {
   "cell_type": "markdown",
   "id": "5b32f64d",
   "metadata": {
    "deletable": false,
    "editable": false,
    "nbgrader": {
     "cell_type": "markdown",
     "checksum": "bcb787f7dde8beaf987a4f78397eabd5",
     "grade": false,
     "grade_id": "cell-0c55cbbf450e40a4",
     "locked": true,
     "schema_version": 3,
     "solution": false,
     "task": false
    }
   },
   "source": [
    "### Proboem 3c (3 marks)\n",
    "\n",
    "Let $\\lambda_0,\\lambda_1,\\dots,\\lambda_{99}$ be the eigenvalues of $A_3$ in increasing order. Find integers $a$, $b$ and $c$ such that $\\lambda_n = a + b \\cos(\\pi n / c)$. Save the values as `a3`, `b3` and `c3`. Note that you can determine the integers $a$, $b$ and $c$ simply by inspection. This problem shows that the eigenvalues of $A_3$ satiafy the beautifu formula:\n",
    "\n",
    "$$\n",
    "\\lambda_n = a + b \\cos(\\pi n / c)\n",
    "$$"
   ]
  },
  {
   "cell_type": "code",
   "execution_count": null,
   "id": "22a3181f",
   "metadata": {
    "deletable": false,
    "nbgrader": {
     "cell_type": "code",
     "checksum": "b9273894870c708873489ff8e5211419",
     "grade": false,
     "grade_id": "cell-dd840d82aae63ef6",
     "locked": false,
     "schema_version": 3,
     "solution": true,
     "task": false
    }
   },
   "outputs": [],
   "source": [
    "# YOUR CODE HERE\n",
    "\n",
    "# Verify the result\n",
    "N = 100\n",
    "n = np.arange(N)\n",
    "plt.plot(n,a3 + b3*np.cos(np.pi*n/c3),'b',alpha=0.5)\n",
    "plt.plot(n,A3_evals,'b.',alpha=0.5)\n",
    "plt.show()"
   ]
  },
  {
   "cell_type": "code",
   "execution_count": null,
   "id": "94bb3427",
   "metadata": {
    "deletable": false,
    "editable": false,
    "nbgrader": {
     "cell_type": "code",
     "checksum": "439da25a729b34ce080513670d12b69a",
     "grade": true,
     "grade_id": "cell-cc2430985bae2603",
     "locked": true,
     "points": 1,
     "schema_version": 3,
     "solution": false,
     "task": false
    }
   },
   "outputs": [],
   "source": [
    "\"Verify a3. This cell contains hidden tests. (1 mark)\"\n",
    "assert a3 > 0\n",
    "print(\"Problem 3c Test 1: Success!\")"
   ]
  },
  {
   "cell_type": "code",
   "execution_count": null,
   "id": "5cf656b7",
   "metadata": {
    "deletable": false,
    "editable": false,
    "nbgrader": {
     "cell_type": "code",
     "checksum": "8f0b4e3c761b0f1c72d0d788a0a8b36a",
     "grade": true,
     "grade_id": "cell-480720d783750bfb",
     "locked": true,
     "points": 1,
     "schema_version": 3,
     "solution": false,
     "task": false
    }
   },
   "outputs": [],
   "source": [
    "\"Verify b3. This cell contains hidden tests. (1 mark)\"\n",
    "assert b3 < 0\n",
    "print(\"Problem 3c Test 2: Success!\")"
   ]
  },
  {
   "cell_type": "code",
   "execution_count": null,
   "id": "872f8b0b",
   "metadata": {
    "deletable": false,
    "editable": false,
    "nbgrader": {
     "cell_type": "code",
     "checksum": "4735aadcb6c3a64194d9dca841b43bab",
     "grade": true,
     "grade_id": "cell-403845108624c273",
     "locked": true,
     "points": 1,
     "schema_version": 3,
     "solution": false,
     "task": false
    }
   },
   "outputs": [],
   "source": [
    "\"Verify c3. This cell contains hidden tests. (1 mark)\"\n",
    "assert c3 > 0\n",
    "print(\"Problem 3c Test 3: Success!\")"
   ]
  },
  {
   "cell_type": "markdown",
   "id": "de0dae71",
   "metadata": {
    "deletable": false,
    "editable": false,
    "nbgrader": {
     "cell_type": "markdown",
     "checksum": "ced6aa6b03b029e7fbee52fca059b4bd",
     "grade": false,
     "grade_id": "cell-f7e40838eb86962a",
     "locked": true,
     "schema_version": 3,
     "solution": false,
     "task": false
    }
   },
   "source": [
    "## Problem 4\n",
    "\n",
    "Consider the matrix $A_4$ with 0 on the diagonal and $1/(N-1)$ everywhere else:\n",
    "\n",
    "$$\n",
    "A_4 = \\frac{1}{N-1} \\begin{bmatrix}\n",
    "0 & 1 & 1 & \\cdots & 1 \\\\\n",
    "1 & 0 & 1 & \\cdots & 1 \\\\\n",
    "1 & 1 & 0 & \\cdots & 1 \\\\\n",
    "\\vdots & \\vdots & \\vdots & \\ddots & \\vdots \\\\\n",
    "1 & 1 & 1 & \\cdots & 0 \\\\\n",
    "\\end{bmatrix}\n",
    "$$\n",
    "\n",
    "### Problem 4a (2 marks)\n",
    "\n",
    "Use the functions `np.eye` and `np.ones` (see [documentation](https://numpy.org/doc/stable/reference/generated/numpy.ones.html) to create the matrix $A_4$ for $N = 200$. Save the result as $A4$."
   ]
  },
  {
   "cell_type": "code",
   "execution_count": null,
   "id": "f5714ff8",
   "metadata": {
    "deletable": false,
    "nbgrader": {
     "cell_type": "code",
     "checksum": "79e3aaa0043affe2efdbe9631d388d4a",
     "grade": false,
     "grade_id": "cell-13fe6cbed2afbf56",
     "locked": false,
     "schema_version": 3,
     "solution": true,
     "task": false
    }
   },
   "outputs": [],
   "source": [
    "# YOUR CODE HERE\n",
    "A4 = "
   ]
  },
  {
   "cell_type": "code",
   "execution_count": null,
   "id": "0bc5709d",
   "metadata": {
    "deletable": false,
    "editable": false,
    "nbgrader": {
     "cell_type": "code",
     "checksum": "426aa918fdca708780b7bac51aa81ba9",
     "grade": true,
     "grade_id": "cell-4eb0e1297bd436f7",
     "locked": true,
     "points": 1,
     "schema_version": 3,
     "solution": false,
     "task": false
    }
   },
   "outputs": [],
   "source": [
    "\"Verify A4 is a NumPy array of size (200,200). (1 mark)\"\n",
    "assert isinstance(A4,np.ndarray)\n",
    "assert A4.shape == (200,200)\n",
    "print(\"Problem 4a Test 1: Success!\")"
   ]
  },
  {
   "cell_type": "code",
   "execution_count": null,
   "id": "1a117d9a",
   "metadata": {
    "deletable": false,
    "editable": false,
    "nbgrader": {
     "cell_type": "code",
     "checksum": "e9b7bdc06e2e27be4248a0c8b350d9b7",
     "grade": true,
     "grade_id": "cell-6cc9d7cb40fe277f",
     "locked": true,
     "points": 1,
     "schema_version": 3,
     "solution": false,
     "task": false
    }
   },
   "outputs": [],
   "source": [
    "\"Verify A4 has correct values. This cell contains hidden tests. (1 mark)\"\n",
    "assert A4[0,0] == 0\n",
    "assert np.abs(A4[1,0] - 1/199) < 1e-10\n",
    "print(\"Problem 4a Test 2: Success!\")"
   ]
  },
  {
   "cell_type": "markdown",
   "id": "6d432b63",
   "metadata": {
    "deletable": false,
    "editable": false,
    "nbgrader": {
     "cell_type": "markdown",
     "checksum": "0e20aca5a01068fedd94c21bd5542e6a",
     "grade": false,
     "grade_id": "cell-4ff9a35905f391fe",
     "locked": true,
     "schema_version": 3,
     "solution": false,
     "task": false
    }
   },
   "source": [
    "### Problem 4b (2 marks)\n",
    "\n",
    "Determine the matrix $A_{\\infty}$ in the limit $A_{\\infty} = \\lim_{k \\to \\infty} A^k$. Save the result as `A4infty`."
   ]
  },
  {
   "cell_type": "code",
   "execution_count": null,
   "id": "ea6cb3e1",
   "metadata": {
    "deletable": false,
    "nbgrader": {
     "cell_type": "code",
     "checksum": "8a5888988f9fc560a260a65c5f26bbb4",
     "grade": false,
     "grade_id": "cell-a3b9e2aeb054ce8b",
     "locked": false,
     "schema_version": 3,
     "solution": true,
     "task": false
    }
   },
   "outputs": [],
   "source": [
    "# YOUR CODE HERE\n",
    "A4infty = "
   ]
  },
  {
   "cell_type": "code",
   "execution_count": null,
   "id": "1910683d",
   "metadata": {
    "deletable": false,
    "editable": false,
    "nbgrader": {
     "cell_type": "code",
     "checksum": "e31c224c27b7718e11deaba0f5fdc20a",
     "grade": true,
     "grade_id": "cell-4b692ccb931c25c5",
     "locked": true,
     "points": 1,
     "schema_version": 3,
     "solution": false,
     "task": false
    }
   },
   "outputs": [],
   "source": [
    "\"Verify A4infty is a NumPy array of size (200,200). (1 mark)\"\n",
    "assert isinstance(A4infty,np.ndarray)\n",
    "assert A4infty.shape == (200,200)\n",
    "print(\"Problem 4b Test 1: Success!\")"
   ]
  },
  {
   "cell_type": "code",
   "execution_count": null,
   "id": "56c66927",
   "metadata": {
    "deletable": false,
    "editable": false,
    "nbgrader": {
     "cell_type": "code",
     "checksum": "101349addea1a6da3f82aba060613b6e",
     "grade": true,
     "grade_id": "cell-b0c6fa0d146be3cd",
     "locked": true,
     "points": 1,
     "schema_version": 3,
     "solution": false,
     "task": false
    }
   },
   "outputs": [],
   "source": [
    "\"Verify A4 has correct values. This cell contains hidden tests. (1 mark)\"\n",
    "assert np.abs(la.det(A4infty)) < 1e-10\n",
    "print(\"Problem 4b Test 2: Success!\")"
   ]
  },
  {
   "cell_type": "markdown",
   "id": "7e4ebb0c",
   "metadata": {
    "deletable": false,
    "editable": false,
    "nbgrader": {
     "cell_type": "markdown",
     "checksum": "1ef1540dab0843795ad330c8e1f71871",
     "grade": false,
     "grade_id": "cell-52139f6b5b3e285c",
     "locked": true,
     "schema_version": 3,
     "solution": false,
     "task": false
    }
   },
   "source": [
    "## Problem 5 (2 marks)\n",
    "\n",
    "The matrix $R_5$ below is a 3D rotation matrix:"
   ]
  },
  {
   "cell_type": "code",
   "execution_count": null,
   "id": "707d3442",
   "metadata": {
    "deletable": false,
    "editable": false,
    "nbgrader": {
     "cell_type": "code",
     "checksum": "3bebba7a0da9ffc540f7648e01f52161",
     "grade": false,
     "grade_id": "cell-5ab0add96da0c0ed",
     "locked": true,
     "schema_version": 3,
     "solution": false,
     "task": false
    }
   },
   "outputs": [],
   "source": [
    "R5 = np.array([[-0.47492144, -0.22606924,  0.85049534],\n",
    "               [ 0.81603782, -0.47492144,  0.32944181],\n",
    "               [ 0.32944181,  0.85049534,  0.41003142]])"
   ]
  },
  {
   "cell_type": "markdown",
   "id": "dc9f0f89",
   "metadata": {
    "deletable": false,
    "editable": false,
    "nbgrader": {
     "cell_type": "markdown",
     "checksum": "d640d20d10c6e89d6c33d340eb355521",
     "grade": false,
     "grade_id": "cell-b28dad2fd4ea932a",
     "locked": true,
     "schema_version": 3,
     "solution": false,
     "task": false
    }
   },
   "source": [
    "Plot the cube with vertices at $(\\pm 1, \\pm 1, \\pm 1)$ and plot the rotation by $R_5$:"
   ]
  },
  {
   "cell_type": "code",
   "execution_count": null,
   "id": "51c472fb",
   "metadata": {
    "deletable": false,
    "editable": false,
    "nbgrader": {
     "cell_type": "code",
     "checksum": "9b7dc61c9d6868ee6dd546e828570a2b",
     "grade": false,
     "grade_id": "cell-b0b77afe4a797500",
     "locked": true,
     "schema_version": 3,
     "solution": false,
     "task": false
    }
   },
   "outputs": [],
   "source": [
    "ax = plt.figure().add_subplot(projection='3d')\n",
    "\n",
    "cube = np.array([[-1,1,1,-1,-1,-1,-1,1,1,-1,-1,1,1,1,1,-1,-1],\n",
    "                 [-1,-1,-1,-1,-1,1,1,1,1,1,1,1,-1,-1,1,1,-1],\n",
    "                 [-1,-1,1,1,-1,-1,-1,-1,1,1,-1,-1,-1,1,1,1,1]])\n",
    "ax.plot(cube[0,:],cube[1,:],cube[2,:],'b');\n",
    "\n",
    "cubeR5 = R5@cube\n",
    "ax.plot(cubeR5[0,:],cubeR5[1,:],cubeR5[2,:],'r',alpha=0.7);\n",
    "\n",
    "ax.set_xlim([-2,2]), ax.set_ylim([-2,2]), ax.set_zlim([-2,2])\n",
    "ax.set_xlabel('x'); ax.set_ylabel('y'); ax.set_zlabel('z');\n",
    "plt.show()"
   ]
  },
  {
   "cell_type": "markdown",
   "id": "62d7fee7",
   "metadata": {
    "deletable": false,
    "editable": false,
    "nbgrader": {
     "cell_type": "markdown",
     "checksum": "9ba33650a31086c27df9701fcb9c5450",
     "grade": false,
     "grade_id": "cell-821ce5f012caf8b6",
     "locked": true,
     "schema_version": 3,
     "solution": false,
     "task": false
    }
   },
   "source": [
    "Find the axis of rotation of $R_5$ and save the result as `v5`. (The vector should be **unit** vector with **real** entries such that the `z` entry is positive so that the axis is pointing up when plotted in $\\mathbb{R}^3$.)"
   ]
  },
  {
   "cell_type": "code",
   "execution_count": null,
   "id": "3cd69660",
   "metadata": {
    "deletable": false,
    "nbgrader": {
     "cell_type": "code",
     "checksum": "0f8dc3241240d8807e8589dc780c3666",
     "grade": false,
     "grade_id": "cell-d992624fe6900e02",
     "locked": false,
     "schema_version": 3,
     "solution": true,
     "task": false
    }
   },
   "outputs": [],
   "source": [
    "# YOUR CODE HERE\n",
    "v5 = "
   ]
  },
  {
   "cell_type": "code",
   "execution_count": null,
   "id": "65ff8e69",
   "metadata": {
    "deletable": false,
    "editable": false,
    "nbgrader": {
     "cell_type": "code",
     "checksum": "80ef66c03fcc3ae20d6036c684ff3243",
     "grade": true,
     "grade_id": "cell-f067f30c796cf2a9",
     "locked": true,
     "points": 1,
     "schema_version": 3,
     "solution": false,
     "task": false
    }
   },
   "outputs": [],
   "source": [
    "\"Verify v5 is a NumPy array of length 3. (1 mark)\"\n",
    "assert isinstance(v5,np.ndarray)\n",
    "assert v5.size == 3\n",
    "print(\"Problem 5 Test 1: Success!\")"
   ]
  },
  {
   "cell_type": "code",
   "execution_count": null,
   "id": "3014b57f",
   "metadata": {
    "deletable": false,
    "editable": false,
    "nbgrader": {
     "cell_type": "code",
     "checksum": "f7aa96ef755c79d68200aef216085a2d",
     "grade": true,
     "grade_id": "cell-e73fab9a83e812a8",
     "locked": true,
     "points": 1,
     "schema_version": 3,
     "solution": false,
     "task": false
    }
   },
   "outputs": [],
   "source": [
    "\"Verify v5 has correct values. This cell contains hidden tests. (1 mark)\"\n",
    "assert np.abs(v5[0] - 1/np.sqrt(6)) < 1e-8\n",
    "assert v5[2] > 0\n",
    "print(\"Problem 5 Test 2: Success!\")"
   ]
  }
 ],
 "metadata": {
  "kernelspec": {
   "display_name": "Python 3 (ipykernel)",
   "language": "python",
   "name": "python3"
  },
  "language_info": {
   "codemirror_mode": {
    "name": "ipython",
    "version": 3
   },
   "file_extension": ".py",
   "mimetype": "text/x-python",
   "name": "python",
   "nbconvert_exporter": "python",
   "pygments_lexer": "ipython3",
   "version": "3.9.12"
  }
 },
 "nbformat": 4,
 "nbformat_minor": 5
}
