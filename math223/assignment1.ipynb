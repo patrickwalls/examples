{
 "cells": [
  {
   "cell_type": "markdown",
   "id": "935f5f97-c93c-4d51-994b-2b291c014584",
   "metadata": {
    "deletable": false,
    "editable": false,
    "nbgrader": {
     "cell_type": "markdown",
     "checksum": "76ad4d4c93c7a49b5783f71223485e91",
     "grade": false,
     "grade_id": "cell-f77267a529f5c035",
     "locked": true,
     "schema_version": 3,
     "solution": false,
     "task": false
    }
   },
   "source": [
    "# MATH 223 Python Assignment 1\n",
    "\n",
    "* Write your solutions in the cells with `YOUR CODE HERE`.\n",
    "* It's a good idea to copy/paste code from this notebook into a new notebook for rough work and then enter your solutions below. \n",
    "* Students are encouraged to collaborate but each student must submit their own notebook.\n",
    "* Run the test cells to verify your work. **Warning!** There are hidden tests for grading that are only run after you submit your work. Your solutions may not be entirely correct even if they pass all tests below.\n",
    "* Submit this notebook file (`.ipynb`) to Canvas when complete."
   ]
  },
  {
   "cell_type": "code",
   "execution_count": null,
   "id": "b4f9af6b-60a5-4570-af72-6c3cc492d66a",
   "metadata": {
    "deletable": false,
    "editable": false,
    "nbgrader": {
     "cell_type": "code",
     "checksum": "38e21bc49cf9e0c76789ef5405fd86e4",
     "grade": false,
     "grade_id": "cell-a7e8d304202ba7ad",
     "locked": true,
     "schema_version": 3,
     "solution": false,
     "task": false
    }
   },
   "outputs": [],
   "source": [
    "import numpy as np\n",
    "import scipy.linalg as la\n",
    "import matplotlib.pyplot as plt"
   ]
  },
  {
   "cell_type": "markdown",
   "id": "1eab93e0-2160-4034-8092-694914e4ab56",
   "metadata": {
    "deletable": false,
    "editable": false,
    "nbgrader": {
     "cell_type": "markdown",
     "checksum": "fa27d808faf2271154c4dc8a7b0fe1f9",
     "grade": false,
     "grade_id": "cell-133bb69db36fdc7f",
     "locked": true,
     "schema_version": 3,
     "solution": false,
     "task": false
    }
   },
   "source": [
    "## Problem 1: Linear Transformations in 2D"
   ]
  },
  {
   "cell_type": "markdown",
   "id": "b7404d6e-4043-4da0-b865-99a16725e264",
   "metadata": {
    "deletable": false,
    "editable": false,
    "nbgrader": {
     "cell_type": "markdown",
     "checksum": "7c921f332ee00c7cdb8c7eeb22ab6a43",
     "grade": false,
     "grade_id": "cell-f7b1697f70e7d837",
     "locked": true,
     "schema_version": 3,
     "solution": false,
     "task": false
    }
   },
   "source": [
    "### Import Dataset\n",
    "\n",
    "Import the dataset `points.csv`:"
   ]
  },
  {
   "cell_type": "code",
   "execution_count": null,
   "id": "b8238cc3-6a0f-48dc-9109-8d1377974257",
   "metadata": {
    "deletable": false,
    "editable": false,
    "nbgrader": {
     "cell_type": "code",
     "checksum": "014beef820f101b01601302618e7f2d6",
     "grade": false,
     "grade_id": "cell-47f560eabb604d56",
     "locked": true,
     "schema_version": 3,
     "solution": false,
     "task": false
    }
   },
   "outputs": [],
   "source": [
    "points = np.loadtxt('points.csv',delimiter=',')"
   ]
  },
  {
   "cell_type": "markdown",
   "id": "9685968e-7d8e-4f9b-ba63-b441e5891b3a",
   "metadata": {
    "deletable": false,
    "editable": false,
    "nbgrader": {
     "cell_type": "markdown",
     "checksum": "84a66f418d0c58991d9f3196cb75c6e2",
     "grade": false,
     "grade_id": "cell-b5274fc88def7fee",
     "locked": true,
     "schema_version": 3,
     "solution": false,
     "task": false
    }
   },
   "source": [
    "The dataset `points.csv` is a 2 by 1000 matrix:"
   ]
  },
  {
   "cell_type": "code",
   "execution_count": null,
   "id": "a0d0c504-2651-44d6-8e08-81411fb53963",
   "metadata": {
    "deletable": false,
    "editable": false,
    "nbgrader": {
     "cell_type": "code",
     "checksum": "ead9f25ece67728a2473da219b399802",
     "grade": false,
     "grade_id": "cell-a9b9c8b9a8199392",
     "locked": true,
     "schema_version": 3,
     "solution": false,
     "task": false
    }
   },
   "outputs": [],
   "source": [
    "points.shape"
   ]
  },
  {
   "cell_type": "markdown",
   "id": "5e405d17-1431-4af4-98d4-43d5ac838d43",
   "metadata": {
    "deletable": false,
    "editable": false,
    "nbgrader": {
     "cell_type": "markdown",
     "checksum": "9d7bdf3a7880c166b2b4f6323cbe470a",
     "grade": false,
     "grade_id": "cell-dab269c560a8a137",
     "locked": true,
     "schema_version": 3,
     "solution": false,
     "task": false
    }
   },
   "source": [
    "Each column in `points` represents a point in $\\mathbb{R}^2$. Create a scatter plot to visualize the points. In the cell below, the parameter `s = 2` specifies the size of the points in the plot and `c = [[0.75,0,0,1]]` specifies the color as an RGBA vector `[red,green,blue,opacity]`."
   ]
  },
  {
   "cell_type": "code",
   "execution_count": null,
   "id": "34de27ab-563a-45e2-991b-0f9b03b5fe77",
   "metadata": {
    "deletable": false,
    "editable": false,
    "nbgrader": {
     "cell_type": "code",
     "checksum": "dd44f62e8aa07bd779a64cff95c9a516",
     "grade": false,
     "grade_id": "cell-afb3253f47037620",
     "locked": true,
     "schema_version": 3,
     "solution": false,
     "task": false
    }
   },
   "outputs": [],
   "source": [
    "plt.scatter(points[0,:],points[1,:],s=2,c=[[0.75,0,0,1]])\n",
    "plt.axis('equal'), plt.grid(True)\n",
    "plt.show()"
   ]
  },
  {
   "cell_type": "markdown",
   "id": "3daecb64-4be6-4970-9322-5b55878770f2",
   "metadata": {
    "deletable": false,
    "editable": false,
    "nbgrader": {
     "cell_type": "markdown",
     "checksum": "4f190ad9fd92fa8ef8682d2fd865d624",
     "grade": false,
     "grade_id": "cell-15b79862cdf9263a",
     "locked": true,
     "schema_version": 3,
     "solution": false,
     "task": false
    }
   },
   "source": [
    "### Rotation Matrix\n",
    "\n",
    "A rotation matrix is given by\n",
    "\n",
    "$$\n",
    "R_{\\theta} = \\begin{bmatrix} \\cos(\\theta) & \\sin(\\theta) \\\\ -\\sin(\\theta) & \\cos(\\theta) \\end{bmatrix}\n",
    "$$\n",
    "\n",
    "The linear transformation corresponding to $R_{\\theta}$ is rotation clockwise by $\\theta$ radians."
   ]
  },
  {
   "cell_type": "code",
   "execution_count": null,
   "id": "8d56cb1d-9018-4473-bacc-89def6f6169c",
   "metadata": {
    "deletable": false,
    "editable": false,
    "nbgrader": {
     "cell_type": "code",
     "checksum": "4cdac4e72b134cf09a146b59d6e243f8",
     "grade": false,
     "grade_id": "cell-91414b4313898118",
     "locked": true,
     "schema_version": 3,
     "solution": false,
     "task": false
    }
   },
   "outputs": [],
   "source": [
    "theta = np.pi/6\n",
    "R = np.array([[np.cos(theta),np.sin(theta)],[-np.sin(theta),np.cos(theta)]])\n",
    "points1 = R@points\n",
    "plt.scatter(points[0,:],points[1,:],s=2,c=[[0.75,0,0,0.1]])\n",
    "plt.scatter(points1[0,:],points1[1,:],s=2,c=[[0.75,0,0,1]])\n",
    "plt.axis('equal'), plt.grid(True)\n",
    "plt.show()"
   ]
  },
  {
   "cell_type": "markdown",
   "id": "a5377e31-f03a-444f-a655-176636dd8914",
   "metadata": {
    "deletable": false,
    "editable": false,
    "nbgrader": {
     "cell_type": "markdown",
     "checksum": "58871ca20b92096e49e892d39c6fd683",
     "grade": false,
     "grade_id": "cell-c1eb821793fb4faa",
     "locked": true,
     "schema_version": 3,
     "solution": false,
     "task": false
    }
   },
   "source": [
    "### Scaling Matrix\n",
    "\n",
    "A scaling matrix is given by\n",
    "\n",
    "$$\n",
    "C_{a,b} = \\begin{bmatrix} a & 0 \\\\ 0 & b \\end{bmatrix}\n",
    "$$\n",
    "\n",
    "The linear transformation corresponding to $C_{a,b}$ is scaling by $a$ is the $x$-direction and scaling by $b$ in the $y$-direction."
   ]
  },
  {
   "cell_type": "code",
   "execution_count": null,
   "id": "427327f6-87c5-4fb2-87d3-8a5da32f7e9d",
   "metadata": {
    "deletable": false,
    "editable": false,
    "nbgrader": {
     "cell_type": "code",
     "checksum": "e47e978e8c53404d94aa30c3a06f15a9",
     "grade": false,
     "grade_id": "cell-d91dc55436b8b86d",
     "locked": true,
     "schema_version": 3,
     "solution": false,
     "task": false
    }
   },
   "outputs": [],
   "source": [
    "a = 3\n",
    "b = 1/2\n",
    "C = np.diag([a,b])\n",
    "points2 = C@points\n",
    "plt.scatter(points[0,:],points[1,:],s=2,c=[[0.75,0,0,0.1]])\n",
    "plt.scatter(points2[0,:],points2[1,:],s=2,c=[[0.75,0,0,1]])\n",
    "plt.axis('equal'), plt.grid(True)\n",
    "plt.show()"
   ]
  },
  {
   "cell_type": "markdown",
   "id": "f39af294-440a-4a41-9e9b-da3923141126",
   "metadata": {
    "deletable": false,
    "editable": false,
    "nbgrader": {
     "cell_type": "markdown",
     "checksum": "11f8162a2221fb1a7caa1b310f518cc1",
     "grade": false,
     "grade_id": "cell-dd5972fc0dc4a00a",
     "locked": true,
     "schema_version": 3,
     "solution": false,
     "task": false
    }
   },
   "source": [
    "### Shearing Matrix\n",
    "\n",
    "A shear matrix is given by\n",
    "\n",
    "$$\n",
    "S_u = \\begin{bmatrix} 1 & u \\\\ 0 & 1 \\end{bmatrix}\n",
    "$$\n",
    "\n",
    "The linear transformation corresponding to $S_u$ is shearing by factor $u$ in the $x$-direction."
   ]
  },
  {
   "cell_type": "code",
   "execution_count": null,
   "id": "7ce0e054-1f5a-40aa-854e-fb044568cd1d",
   "metadata": {
    "deletable": false,
    "editable": false,
    "nbgrader": {
     "cell_type": "code",
     "checksum": "f9a01409bf0d3452d2588af80a4a7268",
     "grade": false,
     "grade_id": "cell-f276257dab514a02",
     "locked": true,
     "schema_version": 3,
     "solution": false,
     "task": false
    }
   },
   "outputs": [],
   "source": [
    "u = 1\n",
    "S = np.array([[1,u],[0,1]])\n",
    "points3 = S@points\n",
    "plt.scatter(points[0,:],points[1,:],s=2,c=[[0.75,0,0,0.1]])\n",
    "plt.scatter(points3[0,:],points3[1,:],s=2,c=[[0.75,0,0,1]])\n",
    "plt.axis('equal'), plt.grid(True)\n",
    "plt.show()"
   ]
  },
  {
   "cell_type": "markdown",
   "id": "53a03a73-75db-4deb-89e5-45525206c919",
   "metadata": {
    "deletable": false,
    "editable": false,
    "nbgrader": {
     "cell_type": "markdown",
     "checksum": "6879706b8565f62f50f4c708d9c2da59",
     "grade": false,
     "grade_id": "cell-02a9c1c7353bc12f",
     "locked": true,
     "schema_version": 3,
     "solution": false,
     "task": false
    }
   },
   "source": [
    "### Matrix Multiplication\n",
    "\n",
    "Combine linear transformations using matrix multiplication."
   ]
  },
  {
   "cell_type": "code",
   "execution_count": null,
   "id": "4e4fdccb-1234-4c5d-a99c-de44d7e33c48",
   "metadata": {
    "deletable": false,
    "editable": false,
    "nbgrader": {
     "cell_type": "code",
     "checksum": "bf705aee2a2928be97c4b80c3fe5ea4f",
     "grade": false,
     "grade_id": "cell-82435c027ace2fe4",
     "locked": true,
     "schema_version": 3,
     "solution": false,
     "task": false
    }
   },
   "outputs": [],
   "source": [
    "points4 = S @ C @ R @ points\n",
    "plt.scatter(points[0,:],points[1,:],s=2,c=[[0.75,0,0,0.1]])\n",
    "plt.scatter(points4[0,:],points4[1,:],s=2,c=[[0.75,0,0,1]])\n",
    "plt.axis('equal'), plt.grid(True)\n",
    "plt.show()"
   ]
  },
  {
   "cell_type": "markdown",
   "id": "5b030c15",
   "metadata": {
    "deletable": false,
    "editable": false,
    "nbgrader": {
     "cell_type": "markdown",
     "checksum": "fcf3879e58f715aad3bda1cb6352d076",
     "grade": false,
     "grade_id": "cell-8708bb92dae435c5",
     "locked": true,
     "schema_version": 3,
     "solution": false,
     "task": false
    }
   },
   "source": [
    "### Problem 1a (3 marks)\n",
    "\n",
    "Find the matrix corresponding to the linear transformation in the image below. The matrix is a combinations of the transformations outlined above. Save the result as `T1a`.\n",
    "\n",
    "![prob1a.png](prob1a.png)"
   ]
  },
  {
   "cell_type": "code",
   "execution_count": null,
   "id": "ebc32dd8",
   "metadata": {
    "deletable": false,
    "nbgrader": {
     "cell_type": "code",
     "checksum": "c5bd3beca99ee5c76bf922b764d1f168",
     "grade": false,
     "grade_id": "cell-10761bcd9cc2f1d5",
     "locked": false,
     "schema_version": 3,
     "solution": true,
     "task": false
    }
   },
   "outputs": [],
   "source": [
    "# YOUR CODE HERE"
   ]
  },
  {
   "cell_type": "code",
   "execution_count": null,
   "id": "d849072a",
   "metadata": {
    "deletable": false,
    "editable": false,
    "nbgrader": {
     "cell_type": "code",
     "checksum": "3de8d5567b2b000fc4d0de922d1d1992",
     "grade": true,
     "grade_id": "cell-b6f75e319e387cd2",
     "locked": true,
     "points": 1,
     "schema_version": 3,
     "solution": false,
     "task": false
    }
   },
   "outputs": [],
   "source": [
    "\"Verify T1a is a NumPy array of size (2,2). (1 mark)\"\n",
    "assert isinstance(T1a,np.ndarray)\n",
    "assert T1a.shape == (2,2)\n",
    "print(\"Problem 1a Test 1: Success!\")"
   ]
  },
  {
   "cell_type": "code",
   "execution_count": null,
   "id": "3ba00801",
   "metadata": {
    "deletable": false,
    "editable": false,
    "nbgrader": {
     "cell_type": "code",
     "checksum": "26fef6ec9019f0ca6af490eaab858b3a",
     "grade": true,
     "grade_id": "cell-efbc00f36cfb9ebd",
     "locked": true,
     "points": 2,
     "schema_version": 3,
     "solution": false,
     "task": false
    }
   },
   "outputs": [],
   "source": [
    "\"Verify T1a has correct entries up to 8 decimal places. This cell contains hidden tests. (2 marks)\"\n",
    "assert np.allclose(np.round(T1a,1),[[0.7,-0.4],[-0.7, -0.4]]) , \"Check entries to one decimal place.\"\n",
    "print(\"Problem 1a Test 2: Success!\")"
   ]
  },
  {
   "cell_type": "markdown",
   "id": "fca54ba3-ec96-4baf-a4d4-f3c73066359b",
   "metadata": {
    "deletable": false,
    "editable": false,
    "nbgrader": {
     "cell_type": "markdown",
     "checksum": "5437db27abd3548eb9f52ecd8a5dd0e0",
     "grade": false,
     "grade_id": "cell-bd394d424e4f50ea",
     "locked": true,
     "schema_version": 3,
     "solution": false,
     "task": false
    }
   },
   "source": [
    "### Problem 1b (3 marks)\n",
    "\n",
    "Find the matrix corresponding to the linear transformation in the image below. The matrix is a combinations of the transformations outlined above. Save the result as `T1b`.\n",
    "\n",
    "![prob1b.png](prob1b.png)"
   ]
  },
  {
   "cell_type": "code",
   "execution_count": null,
   "id": "113ba75c",
   "metadata": {
    "deletable": false,
    "nbgrader": {
     "cell_type": "code",
     "checksum": "86b0f5c063f9bbea5aca30013f62bfbe",
     "grade": false,
     "grade_id": "cell-55e863bb5f4e7004",
     "locked": false,
     "schema_version": 3,
     "solution": true,
     "task": false
    }
   },
   "outputs": [],
   "source": [
    "# YOUR CODE HERE"
   ]
  },
  {
   "cell_type": "code",
   "execution_count": null,
   "id": "de839dcd",
   "metadata": {
    "deletable": false,
    "editable": false,
    "nbgrader": {
     "cell_type": "code",
     "checksum": "547ccf224ea304e5dd60599b98393b40",
     "grade": true,
     "grade_id": "cell-fc129d3ca27caa67",
     "locked": true,
     "points": 1,
     "schema_version": 3,
     "solution": false,
     "task": false
    }
   },
   "outputs": [],
   "source": [
    "\"Verify T1b is a NumPy array of size (2,2). (1 mark)\"\n",
    "assert isinstance(T1b,np.ndarray)\n",
    "assert T1a.shape == (2,2)\n",
    "print(\"Problem 1b Test 1: Success!\")"
   ]
  },
  {
   "cell_type": "code",
   "execution_count": null,
   "id": "357f1fd0",
   "metadata": {
    "deletable": false,
    "editable": false,
    "nbgrader": {
     "cell_type": "code",
     "checksum": "7407e91c6251b354e11a798b3b8a0a6b",
     "grade": true,
     "grade_id": "cell-f1c325264cbd2791",
     "locked": true,
     "points": 2,
     "schema_version": 3,
     "solution": false,
     "task": false
    }
   },
   "outputs": [],
   "source": [
    "\"Verify T1b has correct entries up to 8 decimal places. This cell contains hidden tests. (2 marks)\"\n",
    "assert np.allclose(T1b.sum(),1.5) , \"Entries should add up to 1.5.\"\n",
    "print(\"Problem 1b Test 2: Success!\")"
   ]
  },
  {
   "cell_type": "markdown",
   "id": "6a0eb7e0",
   "metadata": {
    "deletable": false,
    "editable": false,
    "nbgrader": {
     "cell_type": "markdown",
     "checksum": "feadcc7150cf138cd3f4f1d1992d4ae1",
     "grade": false,
     "grade_id": "cell-ab1224a86553d0a1",
     "locked": true,
     "schema_version": 3,
     "solution": false,
     "task": false
    }
   },
   "source": [
    "## Problem 2: Solving Systems of Equations\n",
    "\n",
    "Compute the solution of a linear system $A \\mathbf{x} = \\mathbf{b}$ using the function `scipy.linalg.solve`. For example, the cell below computes the solution for the system:\n",
    "\n",
    "$$\n",
    "\\left[ \\begin{array}{rrr} -2 & 1 & 0 \\\\ 1 & -2 & 1 \\\\ 0 & 1 & -2 \\end{array} \\right]\n",
    "\\begin{bmatrix} x_0 \\\\ x_1 \\\\ x_2 \\end{bmatrix}\n",
    "= \\begin{bmatrix} 1 \\\\ 2 \\\\ 1 \\end{bmatrix}\n",
    "$$"
   ]
  },
  {
   "cell_type": "code",
   "execution_count": null,
   "id": "7f437271",
   "metadata": {
    "deletable": false,
    "editable": false,
    "nbgrader": {
     "cell_type": "code",
     "checksum": "7c96a6b6e68ddf78cf68a8e49179d8e3",
     "grade": false,
     "grade_id": "cell-67b7ba2fe5d662d0",
     "locked": true,
     "schema_version": 3,
     "solution": false,
     "task": false
    }
   },
   "outputs": [],
   "source": [
    "A = np.array([[-2,1,0],[1,-2,1],[0,1,-2]])\n",
    "b = np.array([1,2,1])\n",
    "x = la.solve(A,b)\n",
    "x"
   ]
  },
  {
   "cell_type": "markdown",
   "id": "4a0a36a9",
   "metadata": {
    "deletable": false,
    "editable": false,
    "nbgrader": {
     "cell_type": "markdown",
     "checksum": "d702caecf598246a7fc716b5c75b5fd5",
     "grade": false,
     "grade_id": "cell-e44d3f95001a80bd",
     "locked": true,
     "schema_version": 3,
     "solution": false,
     "task": false
    }
   },
   "source": [
    "### Problem 2a (3 marks)\n",
    "\n",
    "Compute the solution of the system\n",
    "\n",
    "$$\n",
    "\\left[ \\begin{array}{rrr} 0 & -1 & 1 \\\\ 1 & 2 & 0 \\\\ 1 & 0 & -1 \\end{array} \\right]\n",
    "\\begin{bmatrix} x_0 \\\\ x_1 \\\\ x_2 \\end{bmatrix}\n",
    "= \\begin{bmatrix} 1 \\\\ 0 \\\\ 1 \\end{bmatrix}\n",
    "$$\n",
    "\n",
    "Save the result as `x2a`."
   ]
  },
  {
   "cell_type": "code",
   "execution_count": null,
   "id": "47d25686",
   "metadata": {
    "deletable": false,
    "nbgrader": {
     "cell_type": "code",
     "checksum": "97a75c4e443a9c902ebdce76e7bb7a1a",
     "grade": false,
     "grade_id": "cell-3622ebbb281250ef",
     "locked": false,
     "schema_version": 3,
     "solution": true,
     "task": false
    }
   },
   "outputs": [],
   "source": [
    "# YOUR CODE HERE"
   ]
  },
  {
   "cell_type": "code",
   "execution_count": null,
   "id": "03884abb",
   "metadata": {
    "deletable": false,
    "editable": false,
    "nbgrader": {
     "cell_type": "code",
     "checksum": "78e427ad55983ba93a6fda5c9c7b3301",
     "grade": true,
     "grade_id": "cell-9e409221661900f6",
     "locked": true,
     "points": 1,
     "schema_version": 3,
     "solution": false,
     "task": false
    }
   },
   "outputs": [],
   "source": [
    "\"Verify x2a is a NumPy array of length 3. (1 mark)\"\n",
    "assert isinstance(x2a,np.ndarray)\n",
    "assert x2a.size == 3\n",
    "print(\"Problem 2a Test 1: Success!\")"
   ]
  },
  {
   "cell_type": "code",
   "execution_count": null,
   "id": "b4e74884",
   "metadata": {
    "deletable": false,
    "editable": false,
    "nbgrader": {
     "cell_type": "code",
     "checksum": "bf52033bca00af9a41a7926bbd67f481",
     "grade": true,
     "grade_id": "cell-53fe853280cbd3dc",
     "locked": true,
     "points": 2,
     "schema_version": 3,
     "solution": false,
     "task": false
    }
   },
   "outputs": [],
   "source": [
    "\"Verify x2a has correct entries up to 8 decimal places. This cell contains hidden tests. (2 marks)\"\n",
    "assert np.allclose(x2a.sum(),1.0) , \"Entries should add up to 1.0.\"\n",
    "print(\"Problem 1b Test 2: Success!\")"
   ]
  },
  {
   "cell_type": "markdown",
   "id": "9ecdef0b",
   "metadata": {
    "deletable": false,
    "editable": false,
    "nbgrader": {
     "cell_type": "markdown",
     "checksum": "2d42f95c1d5fcb9f3319c3e268ce55b7",
     "grade": false,
     "grade_id": "cell-e74ac24b4422f9de",
     "locked": true,
     "schema_version": 3,
     "solution": false,
     "task": false
    }
   },
   "source": [
    "### Problem 2b (3 marks)\n",
    "\n",
    "Find the unique polynomial $p(x) = c_0 + c_1 x + c_2 x^2$ which satisfies $p(-1)=3,p(1)=1,p(2)=2$ by solving the linear system\n",
    "\n",
    "$$\n",
    "\\left[ \\begin{array}{rrr} 1 & -1 & \\phantom{+}1 \\\\ 1 & 1 & 1 \\\\ 1 & 2 & 4 \\end{array} \\right]\n",
    "\\begin{bmatrix} c_0 \\\\ c_1 \\\\ c_2 \\end{bmatrix}\n",
    "= \\begin{bmatrix} 3 \\\\ 1 \\\\ 2 \\end{bmatrix}\n",
    "$$\n",
    "\n",
    "Save the vector of coefficients as `c2b`."
   ]
  },
  {
   "cell_type": "code",
   "execution_count": null,
   "id": "743aa5f5",
   "metadata": {
    "deletable": false,
    "nbgrader": {
     "cell_type": "code",
     "checksum": "76dd368b798fc43fc64c477a8142ab61",
     "grade": false,
     "grade_id": "cell-52cfbe4f1f0400d8",
     "locked": false,
     "schema_version": 3,
     "solution": true,
     "task": false
    }
   },
   "outputs": [],
   "source": [
    "# YOUR CODE HERE\n",
    "\n",
    "# Plot the result to verify your solution.\n",
    "x = np.linspace(-2,3,50)\n",
    "y = c2b[0] + c2b[1]*x + c2b[2]*x**2\n",
    "plt.plot(x,y,'b')\n",
    "plt.plot([-1,1,2],[3,1,2],'r.',ms=10)\n",
    "plt.show()"
   ]
  },
  {
   "cell_type": "code",
   "execution_count": null,
   "id": "984a2220",
   "metadata": {
    "deletable": false,
    "editable": false,
    "nbgrader": {
     "cell_type": "code",
     "checksum": "2c3236bda6a541bcd1de4134eb4ee7a5",
     "grade": true,
     "grade_id": "cell-b498c19c8fca9282",
     "locked": true,
     "points": 1,
     "schema_version": 3,
     "solution": false,
     "task": false
    }
   },
   "outputs": [],
   "source": [
    "\"Verify c2b is a NumPy array of length 3. (1 mark)\"\n",
    "assert isinstance(c2b,np.ndarray)\n",
    "assert c2b.size == 3\n",
    "print(\"Problem 2b Test 1: Success!\")"
   ]
  },
  {
   "cell_type": "code",
   "execution_count": null,
   "id": "1f2aa628",
   "metadata": {
    "deletable": false,
    "editable": false,
    "nbgrader": {
     "cell_type": "code",
     "checksum": "afedd082ad9af36d3d1a6e78cfdd7970",
     "grade": true,
     "grade_id": "cell-34c9290b92a10421",
     "locked": true,
     "points": 2,
     "schema_version": 3,
     "solution": false,
     "task": false
    }
   },
   "outputs": [],
   "source": [
    "\"Verify c2b has correct entries up to 8 decimal places. This cell contains hidden tests. (2 marks)\"\n",
    "assert np.allclose(c2b.sum(),1.0) , \"Entries should add up to 1.0.\"\n",
    "print(\"Problem 2b Test 2: Success!\")"
   ]
  },
  {
   "cell_type": "markdown",
   "id": "3dee6d47-5031-4b6c-896a-109b5b269d3e",
   "metadata": {
    "deletable": false,
    "editable": false,
    "nbgrader": {
     "cell_type": "markdown",
     "checksum": "5fc7ee413afde4a2af3d6a08a1662ca3",
     "grade": false,
     "grade_id": "cell-36d74002cce24eae",
     "locked": true,
     "schema_version": 3,
     "solution": false,
     "task": false
    }
   },
   "source": [
    "## Problem 3: Numerical Integration\n",
    "\n",
    "Fix an integer $N$. Consider the matrix:\n",
    "\n",
    "$$\n",
    "M =\n",
    "\\frac{1}{N}\n",
    "\\begin{bmatrix}\n",
    "0 & 0 & 0 & 0 & \\cdots & 0 \\\\\n",
    "1 & 0 & 0 & 0 & \\cdots & 0 \\\\\n",
    "1 & 1 & 0 & 0 & \\cdots & 0 \\\\\n",
    "1 & 1 & 1 & 0 & \\ddots & 0 \\\\\n",
    "\\vdots & \\vdots & \\vdots & \\ddots & \\ddots & \\vdots \\\\\n",
    "1 & 1 & 1 & \\cdots & 1 & 0 \\\\\n",
    "\\end{bmatrix}\n",
    "$$\n",
    "\n",
    "where $M$ has:\n",
    "\n",
    "* $N+1$ rows and $N+1$ columns\n",
    "* $1/N$ in all entries below the diagonal\n",
    "* value 0 on and above the diagonal"
   ]
  },
  {
   "cell_type": "markdown",
   "id": "8a980168",
   "metadata": {
    "deletable": false,
    "editable": false,
    "nbgrader": {
     "cell_type": "markdown",
     "checksum": "d2469616d709e34031593c60ea7a60d8",
     "grade": false,
     "grade_id": "cell-02269023a6c122f5",
     "locked": true,
     "schema_version": 3,
     "solution": false,
     "task": false
    }
   },
   "source": [
    "### Problem 3a (3 marks)\n",
    "\n",
    "Use a combination of the functions `np.tril`, `np.ones` and `np.eye` to construct the matrix $M$ above for $N=100$. Save the result as `M3a`. See the [NumPy documentation](https://numpy.org/doc/stable/) to find out how to use the functions `np.tril`, `np.ones` and `np.eye`."
   ]
  },
  {
   "cell_type": "code",
   "execution_count": null,
   "id": "0f3eddbe",
   "metadata": {
    "deletable": false,
    "nbgrader": {
     "cell_type": "code",
     "checksum": "36922360f661bfb04c18f9d075614887",
     "grade": false,
     "grade_id": "cell-3d8c2476c580d87d",
     "locked": false,
     "schema_version": 3,
     "solution": true,
     "task": false
    }
   },
   "outputs": [],
   "source": [
    "# YOUR CODE HERE"
   ]
  },
  {
   "cell_type": "code",
   "execution_count": null,
   "id": "2850f799",
   "metadata": {
    "deletable": false,
    "editable": false,
    "nbgrader": {
     "cell_type": "code",
     "checksum": "7e6f942f70648fe40500f3a94b35de8a",
     "grade": true,
     "grade_id": "cell-dda367da8e6edc1a",
     "locked": true,
     "points": 1,
     "schema_version": 3,
     "solution": false,
     "task": false
    }
   },
   "outputs": [],
   "source": [
    "\"Verify M3a is a NumPy array of size (101,101). (1 mark)\"\n",
    "assert isinstance(M3a,np.ndarray)\n",
    "assert M3a.shape == (101,101)\n",
    "print(\"Problem 3a Test 1: Success!\")"
   ]
  },
  {
   "cell_type": "code",
   "execution_count": null,
   "id": "c305a878",
   "metadata": {
    "deletable": false,
    "editable": false,
    "nbgrader": {
     "cell_type": "code",
     "checksum": "c91cdee80dcd0a2dd3f36fefeafab352",
     "grade": true,
     "grade_id": "cell-2293424461329c09",
     "locked": true,
     "points": 2,
     "schema_version": 3,
     "solution": false,
     "task": false
    }
   },
   "outputs": [],
   "source": [
    "\"Verify M3a has correct entries up to 8 decimal places. This cell contains hidden tests. (2 marks)\"\n",
    "assert np.allclose(M3a[1:3,:2],[[0.01,0.],[0.01,0.01]]) , \"Entries in rows 1 and 2 and columns 1 and 2 should be [0.01,0.],[0.01,0.01].\"\n",
    "print(\"Problem 3a Test 2: Success!\")"
   ]
  },
  {
   "cell_type": "markdown",
   "id": "94aec03e",
   "metadata": {
    "deletable": false,
    "editable": false,
    "nbgrader": {
     "cell_type": "markdown",
     "checksum": "4cd8f44bb73e34c4feaa2447a9907e21",
     "grade": false,
     "grade_id": "cell-a89790111e3fa875",
     "locked": true,
     "schema_version": 3,
     "solution": false,
     "task": false
    }
   },
   "source": [
    "### Problem 3b (3 marks)\n",
    "\n",
    "The matrix $M$ above performs numerical integration (by left Riemann sums) on the vector $\\mathbf{y} \\in \\mathbb{R}^{N+1}$. Let's see why this is the case.\n",
    "\n",
    "Let $\\mathbf{x}$ be the vector with $N+1$ evenly spaced entries from 0 to 1:\n",
    "\n",
    "$$\n",
    "\\mathbf{x}\n",
    "= \\begin{bmatrix} x_0 \\\\ x_1 \\\\ x_2 \\\\ \\vdots \\\\ x_{N-1} \\\\ x_N \\end{bmatrix}\n",
    "= \\begin{bmatrix} 0 \\\\ 1/N \\\\ 2/N \\\\ \\vdots \\\\ (N-1)/N \\\\ 1 \\end{bmatrix}\n",
    "$$\n",
    "\n",
    "In other words, $x_k = k/N$ for $k=0,\\dots,N$. Let $f(x)$ be a function on $[0,1]$ and define $\\mathbf{y} \\in \\mathbb{R}^{N+1}$ by $y_k = f(x_k)$ for $k=0,\\dots,N$. The vector $\\mathbf{w} = M \\mathbf{y}$ is an approximation of the function\n",
    "\n",
    "$$\n",
    "F(x) = \\int_0^x f(t) dt\n",
    "$$\n",
    "\n",
    "In particular, if $w_k$ is the entry of $\\mathbf{w}$ at index $k$ (starting from index 0) then\n",
    "\n",
    "$$\n",
    "w_k = \\frac{1}{N} \\sum_{i=0}^{k-1} y_i\n",
    "$$\n",
    "\n",
    "This is the left Riemann sum for $f(x)$ on the interval $[0,k/N]$.\n",
    "\n",
    "Use the functions `np.linspace` and `np.exp` to construct the vector $\\mathbf{y}$ for $N=100$ and $f(x) = e^{-10x^2}$. Save the result as `y3b`."
   ]
  },
  {
   "cell_type": "code",
   "execution_count": null,
   "id": "6012ae15",
   "metadata": {
    "deletable": false,
    "nbgrader": {
     "cell_type": "code",
     "checksum": "7a44a4e017f53addecc0f02c41c8ee37",
     "grade": false,
     "grade_id": "cell-3b6c74d0125c60d8",
     "locked": false,
     "schema_version": 3,
     "solution": true,
     "task": false
    }
   },
   "outputs": [],
   "source": [
    "# YOUR CODE HERE\n",
    "\n",
    "# Plot the result to verify your solution\n",
    "plt.plot(np.linspace(0,1,101),y3b,'.'), plt.grid(True)\n",
    "plt.show()"
   ]
  },
  {
   "cell_type": "code",
   "execution_count": null,
   "id": "b67627c8",
   "metadata": {
    "deletable": false,
    "editable": false,
    "nbgrader": {
     "cell_type": "code",
     "checksum": "9ff9f429238c878589739d0de6283c64",
     "grade": true,
     "grade_id": "cell-db518fda37c06b78",
     "locked": true,
     "points": 1,
     "schema_version": 3,
     "solution": false,
     "task": false
    }
   },
   "outputs": [],
   "source": [
    "\"Verify y3b is a NumPy array of length 101. (1 mark)\"\n",
    "assert isinstance(y3b,np.ndarray)\n",
    "assert y3b.size == 101\n",
    "print(\"Problem 3b Test 1: Success!\")"
   ]
  },
  {
   "cell_type": "code",
   "execution_count": null,
   "id": "1551c2a2",
   "metadata": {
    "deletable": false,
    "editable": false,
    "nbgrader": {
     "cell_type": "code",
     "checksum": "f002175ebc09ce8060c3c259a80e5cdf",
     "grade": true,
     "grade_id": "cell-b3defdddd074c854",
     "locked": true,
     "points": 2,
     "schema_version": 3,
     "solution": false,
     "task": false
    }
   },
   "outputs": [],
   "source": [
    "\"Verify y3b has correct entries up to 8 decimal places. This cell contains hidden tests. (2 marks)\"\n",
    "assert np.allclose(y3b[20],0.6703200460356392) , \"Entry at index 20 should be 0.6703200460356392.\"\n",
    "assert np.allclose(y3b[60],0.02732372244729257) , \"Entry at index 60 should be 0.02732372244729257.\"\n",
    "print(\"Problem 3b Test 2: Success!\")"
   ]
  },
  {
   "cell_type": "markdown",
   "id": "9a13934c",
   "metadata": {
    "deletable": false,
    "editable": false,
    "nbgrader": {
     "cell_type": "markdown",
     "checksum": "823f0b9df0a44ad9f6b4a61fec14dc64",
     "grade": false,
     "grade_id": "cell-3777f7074c1cbdd0",
     "locked": true,
     "schema_version": 3,
     "solution": false,
     "task": false
    }
   },
   "source": [
    "### Problem 3c (3 marks)\n",
    "\n",
    "Use matrix multiplication to construct the vector $\\mathbf{w} = M \\mathbf{y}$ where $M$ and $\\mathbf{y}$ are `M3a` and `y3b` respectively. Save the result as `w3c`."
   ]
  },
  {
   "cell_type": "code",
   "execution_count": null,
   "id": "c083ba05",
   "metadata": {
    "deletable": false,
    "nbgrader": {
     "cell_type": "code",
     "checksum": "490406424c1eb3253dc8a30ba766ff40",
     "grade": false,
     "grade_id": "cell-9b9bf29c4595b5ce",
     "locked": false,
     "schema_version": 3,
     "solution": true,
     "task": false
    }
   },
   "outputs": [],
   "source": [
    "# YOUR CODE HERE\n",
    "\n",
    "# Plot the result to verify your solution\n",
    "plt.plot(np.linspace(0,1,101),w3c,'.'), plt.grid(True)\n",
    "plt.show()"
   ]
  },
  {
   "cell_type": "code",
   "execution_count": null,
   "id": "bb05a78c",
   "metadata": {
    "deletable": false,
    "editable": false,
    "nbgrader": {
     "cell_type": "code",
     "checksum": "a9785e20575f27af594b4c3462c7438f",
     "grade": true,
     "grade_id": "cell-7095446c5b198431",
     "locked": true,
     "points": 1,
     "schema_version": 3,
     "solution": false,
     "task": false
    }
   },
   "outputs": [],
   "source": [
    "\"Verify w3c is a NumPy array of length 101. (1 mark)\"\n",
    "assert isinstance(w3c,np.ndarray)\n",
    "assert w3c.size == 101\n",
    "print(\"Problem 3c Test 1: Success!\")"
   ]
  },
  {
   "cell_type": "code",
   "execution_count": null,
   "id": "5962e48f",
   "metadata": {
    "deletable": false,
    "editable": false,
    "nbgrader": {
     "cell_type": "code",
     "checksum": "c987e936c27ed616576d9090e712ba53",
     "grade": true,
     "grade_id": "cell-72f06d918fce5c8d",
     "locked": true,
     "points": 2,
     "schema_version": 3,
     "solution": false,
     "task": false
    }
   },
   "outputs": [],
   "source": [
    "\"Verify w3c has correct entries up to 8 decimal places. This cell contains hidden tests. (2 marks)\"\n",
    "assert np.allclose(w3c[20],0.17787686111744105) , \"Entry at index 20 should be 0.17787686111744105.\"\n",
    "assert np.allclose(w3c[60],0.2830670905645971) , \"Entry at index 60 should be 0.2830670905645971.\"\n",
    "print(\"Problem 3c Test 2: Success!\")"
   ]
  },
  {
   "cell_type": "markdown",
   "id": "535e85e9",
   "metadata": {
    "deletable": false,
    "editable": false,
    "nbgrader": {
     "cell_type": "markdown",
     "checksum": "3cb85b4f2eb6f7ee5ca38244b04bbf41",
     "grade": false,
     "grade_id": "cell-c715e3a881f96959",
     "locked": true,
     "schema_version": 3,
     "solution": false,
     "task": false
    }
   },
   "source": [
    "## Problem 4: Gaussian Elimination\n",
    "\n",
    "The functions below perform the elementary row operations in the Gaussian elimination algorithm."
   ]
  },
  {
   "cell_type": "code",
   "execution_count": null,
   "id": "52472150",
   "metadata": {
    "deletable": false,
    "editable": false,
    "nbgrader": {
     "cell_type": "code",
     "checksum": "76b2143d5641959fd87579a2a0241c24",
     "grade": false,
     "grade_id": "cell-ce070d68c5d0b9c2",
     "locked": true,
     "schema_version": 3,
     "solution": false,
     "task": false
    }
   },
   "outputs": [],
   "source": [
    "def add_rows(A,c,i,j):\n",
    "    \"Add c times row i to row j in matrix A.\"\n",
    "    Ac = A.copy()\n",
    "    Ac[j,:] = c*Ac[i,:] + Ac[j,:]\n",
    "    return Ac\n",
    "\n",
    "def switch_rows(A,i,j):\n",
    "    \"Interchange row i and row j in matrix A.\"\n",
    "    Ac = A.copy()\n",
    "    Ai = Ac[i,:].copy()\n",
    "    Aj = Ac[j,:].copy()\n",
    "    Ac[j,:] = Ai\n",
    "    Ac[i,:] = Aj\n",
    "    return Ac\n",
    "\n",
    "def scale_row(A,c,i):\n",
    "    \"Multiply row i by c in matrix A.\"\n",
    "    Ac = A.copy()\n",
    "    Ac[i,:] = c*Ac[i,:]\n",
    "    return Ac"
   ]
  },
  {
   "cell_type": "markdown",
   "id": "1801ea34",
   "metadata": {
    "deletable": false,
    "editable": false,
    "nbgrader": {
     "cell_type": "markdown",
     "checksum": "7905267622420ad3016eb12b2d72ddce",
     "grade": false,
     "grade_id": "cell-297d14292652e9a1",
     "locked": true,
     "schema_version": 3,
     "solution": false,
     "task": false
    }
   },
   "source": [
    "For example, let's find the reduced row echelon form for the matrix\n",
    "\n",
    "$$\n",
    "A = \\begin{bmatrix} 2 & 4 & 0 \\\\ 1 & 2 & 2 \\\\ 3 & 1 & -2 \\end{bmatrix}\n",
    "$$\n",
    "\n",
    "Note that we should enter the values as floats (ie. decimals) so that the matrix entries are floats and not integers."
   ]
  },
  {
   "cell_type": "code",
   "execution_count": null,
   "id": "aa6760ea",
   "metadata": {
    "deletable": false,
    "editable": false,
    "nbgrader": {
     "cell_type": "code",
     "checksum": "c98d03ec996fa9ad30b010ff098f2fb1",
     "grade": false,
     "grade_id": "cell-728fd71d439de0e1",
     "locked": true,
     "schema_version": 3,
     "solution": false,
     "task": false
    }
   },
   "outputs": [],
   "source": [
    "A = np.array([[2.,4.,0.],[1.,2.,2.],[3.,1.,-2.]])\n",
    "A"
   ]
  },
  {
   "cell_type": "code",
   "execution_count": null,
   "id": "b54bc046",
   "metadata": {
    "deletable": false,
    "editable": false,
    "nbgrader": {
     "cell_type": "code",
     "checksum": "289c808e91c5ec5b159619eb9e03435c",
     "grade": false,
     "grade_id": "cell-38a88942b0936b01",
     "locked": true,
     "schema_version": 3,
     "solution": false,
     "task": false
    }
   },
   "outputs": [],
   "source": [
    "A1 = add_rows(A,-1/2,0,1)\n",
    "A1"
   ]
  },
  {
   "cell_type": "code",
   "execution_count": null,
   "id": "763ae4c1",
   "metadata": {
    "deletable": false,
    "editable": false,
    "nbgrader": {
     "cell_type": "code",
     "checksum": "ad0a9f357d84c9bb11f8ba81589866b7",
     "grade": false,
     "grade_id": "cell-b8b84e7a5702e6c8",
     "locked": true,
     "schema_version": 3,
     "solution": false,
     "task": false
    }
   },
   "outputs": [],
   "source": [
    "A2 = add_rows(A1,-3/2,0,2)\n",
    "A2"
   ]
  },
  {
   "cell_type": "code",
   "execution_count": null,
   "id": "5f8beb1a",
   "metadata": {
    "deletable": false,
    "editable": false,
    "nbgrader": {
     "cell_type": "code",
     "checksum": "78328ae1d3d6f8a5cf6eb8b55fe40330",
     "grade": false,
     "grade_id": "cell-bcebed1ccb6cd22f",
     "locked": true,
     "schema_version": 3,
     "solution": false,
     "task": false
    }
   },
   "outputs": [],
   "source": [
    "A3 = switch_rows(A2,1,2)\n",
    "A3"
   ]
  },
  {
   "cell_type": "code",
   "execution_count": null,
   "id": "78af3eb6",
   "metadata": {
    "deletable": false,
    "editable": false,
    "nbgrader": {
     "cell_type": "code",
     "checksum": "4dcac561c43334bcd5bb036cd08c127c",
     "grade": false,
     "grade_id": "cell-5df2e7d62175d847",
     "locked": true,
     "schema_version": 3,
     "solution": false,
     "task": false
    }
   },
   "outputs": [],
   "source": [
    "A4 = scale_row(A3,1/2,0)\n",
    "A5 = scale_row(A4,-1/5,1)\n",
    "A6 = scale_row(A5,1/2,2)\n",
    "A6"
   ]
  },
  {
   "cell_type": "markdown",
   "id": "a9b3ef3c",
   "metadata": {
    "deletable": false,
    "editable": false,
    "nbgrader": {
     "cell_type": "markdown",
     "checksum": "65743d78dbab7c32d1eac50e9d3cdcb1",
     "grade": false,
     "grade_id": "cell-208acc9e2f5e5815",
     "locked": true,
     "schema_version": 3,
     "solution": false,
     "task": false
    }
   },
   "source": [
    "### Problem 4a (3 marks)\n",
    "\n",
    "Apply the Gaussian elimination algorithm to the matrix\n",
    "\n",
    "$$\n",
    "A = \\begin{bmatrix}\n",
    "2 & 1 & 0 & 1 \\\\\n",
    "1 & 2 & 1 & 0 \\\\\n",
    "0 & 1 & 2 & 1 \\\\\n",
    "1 & 0 & 1 & 2\n",
    "\\end{bmatrix}\n",
    "$$\n",
    "\n",
    "Save the reduced row echelon form of $A$ as `rref4a`."
   ]
  },
  {
   "cell_type": "code",
   "execution_count": null,
   "id": "8f57170e",
   "metadata": {
    "deletable": false,
    "nbgrader": {
     "cell_type": "code",
     "checksum": "950ea33700c821b2270e39ae98905343",
     "grade": false,
     "grade_id": "cell-47929b73fb2a02af",
     "locked": false,
     "schema_version": 3,
     "solution": true,
     "task": false
    }
   },
   "outputs": [],
   "source": [
    "A = np.array([[2.,1.,0.,1.],[1.,2.,1.,0.],[0.,1.,2.,1.],[1.,0.,1.,2.]])\n",
    "\n",
    "# YOUR CODE HERE"
   ]
  },
  {
   "cell_type": "code",
   "execution_count": null,
   "id": "f7db0043",
   "metadata": {
    "deletable": false,
    "editable": false,
    "nbgrader": {
     "cell_type": "code",
     "checksum": "663c487757b472b03c0dcc5574450a2f",
     "grade": true,
     "grade_id": "cell-e7cf9f1a785965b2",
     "locked": true,
     "points": 1,
     "schema_version": 3,
     "solution": false,
     "task": false
    }
   },
   "outputs": [],
   "source": [
    "\"Verify rref4a is a NumPy array of size (4,4). (1 mark)\"\n",
    "assert isinstance(rref4a,np.ndarray)\n",
    "assert rref4a.shape == (4,4)\n",
    "print(\"Problem 4a Test 1: Success!\")"
   ]
  },
  {
   "cell_type": "code",
   "execution_count": null,
   "id": "d4ad58d3",
   "metadata": {
    "deletable": false,
    "editable": false,
    "nbgrader": {
     "cell_type": "code",
     "checksum": "f7af33994b58ce88cef2eed372b08cf1",
     "grade": true,
     "grade_id": "cell-31ed40a43d777053",
     "locked": true,
     "points": 2,
     "schema_version": 3,
     "solution": false,
     "task": false
    }
   },
   "outputs": [],
   "source": [
    "\"Verify rref4a has correct entries up to 8 decimal places. This cell contains hidden tests. (2 marks)\"\n",
    "assert np.all(np.abs(np.diag(rref4a)) <= 1.) , \"All diagonal entries should be either 0 or 1.\"\n",
    "assert np.allclose(rref4a[2:,:2],[[0.,0.],[0.,0.]]) , \"All entries below diagonal should be 0.\"\n",
    "print(\"Problem 4a Test 2: Success!\")"
   ]
  },
  {
   "cell_type": "markdown",
   "id": "63af1b3b",
   "metadata": {
    "deletable": false,
    "editable": false,
    "nbgrader": {
     "cell_type": "markdown",
     "checksum": "54a839a117d4b62b1991c8b6f9426533",
     "grade": false,
     "grade_id": "cell-075984d7ac4d7005",
     "locked": true,
     "schema_version": 3,
     "solution": false,
     "task": false
    }
   },
   "source": [
    "### Problem 4b (1 mark)\n",
    "\n",
    "Determine the rank of $A$ by inspecting the reduced row echelon form of $A$. Save the result as `r4b`"
   ]
  },
  {
   "cell_type": "code",
   "execution_count": null,
   "id": "cab0dfb0",
   "metadata": {
    "deletable": false,
    "nbgrader": {
     "cell_type": "code",
     "checksum": "413163194912f965cc2c9d37d4686e1f",
     "grade": false,
     "grade_id": "cell-d0dfb80817e660a7",
     "locked": false,
     "schema_version": 3,
     "solution": true,
     "task": false
    }
   },
   "outputs": [],
   "source": [
    "# YOUR CODE HERE"
   ]
  },
  {
   "cell_type": "code",
   "execution_count": null,
   "id": "01217714",
   "metadata": {
    "deletable": false,
    "editable": false,
    "nbgrader": {
     "cell_type": "code",
     "checksum": "9013c0501ae24f2a88130a14d327a734",
     "grade": true,
     "grade_id": "cell-81c425075162e770",
     "locked": true,
     "points": 1,
     "schema_version": 3,
     "solution": false,
     "task": false
    }
   },
   "outputs": [],
   "source": [
    "\"Verify r4b is the correct value. This cell contains tests. (1 mark)\"\n",
    "assert r4b > 0\n",
    "print(\"Problem 4b Test 1: Success!\")"
   ]
  },
  {
   "cell_type": "markdown",
   "id": "8ce803ad",
   "metadata": {
    "deletable": false,
    "editable": false,
    "nbgrader": {
     "cell_type": "markdown",
     "checksum": "9a85d3b09fa211acaee204308156efa3",
     "grade": false,
     "grade_id": "cell-7187bd94a1ff1d01",
     "locked": true,
     "schema_version": 3,
     "solution": false,
     "task": false
    }
   },
   "source": [
    "### Problem 4c (1 mark)\n",
    "\n",
    "Use the function `np.linalg.matrix_rank` to compute the rank of the matrix `M3a` from Probem 3a above. Use the result to determine the dimension of the nullspace. Save the result (ie. the dimension of the nullspace of `M3a`) as `n4c`. See the [NumPy documentation](https://numpy.org/doc/stable/reference/generated/numpy.linalg.matrix_rank.html)."
   ]
  },
  {
   "cell_type": "code",
   "execution_count": null,
   "id": "314851a7",
   "metadata": {
    "deletable": false,
    "nbgrader": {
     "cell_type": "code",
     "checksum": "0fd6f13e4394c075e0624414ad0293ff",
     "grade": false,
     "grade_id": "cell-8b49a39728718d4f",
     "locked": false,
     "schema_version": 3,
     "solution": true,
     "task": false
    }
   },
   "outputs": [],
   "source": [
    "# YOUR CODE HERE"
   ]
  },
  {
   "cell_type": "code",
   "execution_count": null,
   "id": "e8478dee",
   "metadata": {
    "deletable": false,
    "editable": false,
    "nbgrader": {
     "cell_type": "code",
     "checksum": "ea86da3f9029e44f303824527bbe2257",
     "grade": true,
     "grade_id": "cell-b4f8dc6778adec1d",
     "locked": true,
     "points": 1,
     "schema_version": 3,
     "solution": false,
     "task": false
    }
   },
   "outputs": [],
   "source": [
    "\"Verify n4c is the correct value. This cell contains tests. (1 mark)\"\n",
    "assert n4c > 0\n",
    "print(\"Problem 4c Test 1: Success!\")"
   ]
  }
 ],
 "metadata": {
  "kernelspec": {
   "display_name": "Python 3 (ipykernel)",
   "language": "python",
   "name": "python3"
  },
  "language_info": {
   "codemirror_mode": {
    "name": "ipython",
    "version": 3
   },
   "file_extension": ".py",
   "mimetype": "text/x-python",
   "name": "python",
   "nbconvert_exporter": "python",
   "pygments_lexer": "ipython3",
   "version": "3.9.12"
  }
 },
 "nbformat": 4,
 "nbformat_minor": 5
}
