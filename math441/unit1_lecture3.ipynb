{
 "cells": [
  {
   "cell_type": "markdown",
   "id": "5961e85d-f82a-4a31-88dc-367db3dfffb1",
   "metadata": {},
   "source": [
    "# MATH 441 Optimization Problems"
   ]
  },
  {
   "cell_type": "code",
   "execution_count": 1,
   "id": "142ab502-508a-4ece-8836-c4e52cea0828",
   "metadata": {
    "tags": []
   },
   "outputs": [],
   "source": [
    "import numpy as np\n",
    "import matplotlib.pyplot as plt\n",
    "import networkx as nx\n",
    "from scipy.optimize import linprog\n",
    "import pandas as pd"
   ]
  },
  {
   "cell_type": "markdown",
   "id": "b7648a31-bea4-4994-bf2e-c72b2639f34c",
   "metadata": {},
   "source": [
    "## Graphs\n",
    "\n",
    "* A **graph** is a pair $(V,E)$ where $V$ is a set of **nodes** and $E$ is a set of **edges**\n",
    "* Enumerate the nodes such that each node has an index $i$\n",
    "* An edge is a line which connects a pair of nodes\n",
    "* An edge $e$ which connects nodes $i$ and $j$ is represented by the pair of indices $e = (i,j)$\n",
    "* A **directed graph** is a graph where the edges are ordered pairs $(i,j)$ such that the edge is drawn from $i$ to $j$\n",
    "* A **network** is a connected, directed graph\n",
    "\n",
    "Represent a directed graph by the **node-arc incidence matrix** $A = [a_{ij}]$ where:\n",
    "\n",
    "* $a_{ik} = 1$ if edge $k$ ends at node $i$ ($e_k = (j,i)$)\n",
    "* $a_{ik} = -1$ if edge $k$ begins at node $i$ ($e_k = (i,j)$)\n",
    "* $a_{ik} = 0$ otherwise\n",
    "\n",
    "In other words:\n",
    "\n",
    "* columns of $A$ correspond to edges\n",
    "* rows of $A$ correspond to nodes\n",
    "* each column has 1 and -1 and all other entries 0\n",
    "* if $e_k = (i,j)$ then column $k$ has 1 in row $j$ and -1 in row $i$"
   ]
  },
  {
   "cell_type": "markdown",
   "id": "5d5dcebd-beb6-477f-91c5-b3ce7aaeaebd",
   "metadata": {},
   "source": [
    "## Example\n",
    "\n",
    "Use the function `nx.incidence_matrix` to generate the incidence matrix. By default it is sparse matrix. Use the method `toarray()` to create dense array."
   ]
  },
  {
   "cell_type": "code",
   "execution_count": 2,
   "id": "7d28566d-f544-474b-8012-2dbe2b69c38c",
   "metadata": {
    "tags": []
   },
   "outputs": [
    {
     "data": {
      "image/png": "[encoded data removed]",
      "text/plain": [
       "<Figure size 400x300 with 1 Axes>"
      ]
     },
     "metadata": {},
     "output_type": "display_data"
    }
   ],
   "source": [
    "nodes = [0,1,2,3]\n",
    "coordinates = [(0,0),(0.5,1),(1,0),(0.5,0.4)]\n",
    "edges = [(0,1),(0,2),(0,3),(1,2),(1,3),(2,3)]\n",
    "G = nx.DiGraph()\n",
    "G.add_nodes_from(nodes)\n",
    "G.add_edges_from(edges)\n",
    "plt.figure(figsize=(4,3))\n",
    "nx.draw(G,pos=coordinates,with_labels=True,node_color='lightblue')"
   ]
  },
  {
   "cell_type": "code",
   "execution_count": 3,
   "id": "0789f478-0b08-4c47-b486-4e08a7cc8c56",
   "metadata": {
    "tags": []
   },
   "outputs": [
    {
     "name": "stderr",
     "output_type": "stream",
     "text": [
      "/var/folders/2h/25vcwmr52mvfqs1h92028rph0000gn/T/ipykernel_71578/2531804110.py:1: FutureWarning: incidence_matrix will return a scipy.sparse array instead of a matrix in Networkx 3.0.\n",
      "  A = nx.incidence_matrix(G,oriented=True).toarray()\n"
     ]
    }
   ],
   "source": [
    "A = nx.incidence_matrix(G,oriented=True).toarray()"
   ]
  },
  {
   "cell_type": "code",
   "execution_count": 4,
   "id": "36a2d393-6888-4770-8222-7b5774d99280",
   "metadata": {
    "tags": []
   },
   "outputs": [
    {
     "data": {
      "text/plain": [
       "array([[-1., -1., -1.,  0.,  0.,  0.],\n",
       "       [ 1.,  0.,  0., -1., -1.,  0.],\n",
       "       [ 0.,  1.,  0.,  1.,  0., -1.],\n",
       "       [ 0.,  0.,  1.,  0.,  1.,  1.]])"
      ]
     },
     "execution_count": 4,
     "metadata": {},
     "output_type": "execute_result"
    }
   ],
   "source": [
    "A"
   ]
  },
  {
   "cell_type": "markdown",
   "id": "00769f5f-911e-4b4f-9ecd-3c3d771f8ab5",
   "metadata": {},
   "source": [
    "## Network Flows\n",
    "\n",
    "Let $G = (V,E)$ be a **network**. Enumerate the nodes such that each node is assigned an index $i$ from $0$ to $m-1$ where $m = |V|$ is the total number of nodes. Enumerate the edges such that each edge is assigned an index $k$ from $0$ to $n-1$ where $n = |E|$ is the total number of edges. That is, $E = \\{ e_0, e_1, \\dots, e_{n-1} \\}$. Write $e_k = (i_k,j_k)$ for each edge to show that edge $k$ goes from node $i_k$ to node $j_k$."
   ]
  },
  {
   "cell_type": "markdown",
   "id": "3d309470-fe25-4433-acf4-dd26f54987f7",
   "metadata": {},
   "source": [
    "Each node is assigned a **supply/demand** value $b_i$. We **assume** the total supply is equal to the total demand $\\sum_i b_i = 0$. If $b_i > 0$ then node $i$ is a **source** with **supply** $b_i$, if $b_i < 0$ then node $i$ is a **sink** with **demand** $b_i$, and if $b_i = 0$ then node $i$ is a **shipping** node. Let $\\mathbf{b}$ be the **supply constraint** vector. Note that $\\mathbf{b}$ has length $m$."
   ]
  },
  {
   "cell_type": "markdown",
   "id": "dac70c72-4549-4cc1-a461-d61af580917c",
   "metadata": {},
   "source": [
    "Let $c_k$ be the **cost** to ship a unit of product along the edge $e_k$ from node $i_k$ to node $j_k$. Let $x_k$ be the total **flow** of product from node $i$ to node $j$ along the edge $e_k = (i,j)$. The **network flow** is the vector $\\mathbf{x}$. The **cost** of the flow is\n",
    "\n",
    "$$\n",
    "\\sum_k c_k x_k\n",
    "$$\n",
    "\n",
    "The **balance equation** at each node specifies that the flow into a node minus the flow out is equal to the supply/demand at the node. The balance equation at node $i$ is:\n",
    "\n",
    "$$\n",
    "\\sum_{e_k = (j,i)} x_k - \\sum_{e_k = (i,j)} x_k = -b_i \\ , \\ \\ i=0,\\dots,m-1\n",
    "$$\n",
    "\n",
    "Let $A$ be the matrix of the balance equations such that $A \\mathbf{x} = -\\mathbf{b}$. The matrix $A = [a_{ij}]$ is the **node-arc incidence matrix**.\n",
    "\n",
    "Let $u_k$ be the flow **capacity** of the edge $e_k = (i,j)$ connecting node $i$ and node $j$. The network flow $\\mathbf{x}$ is subject to the constraint $0 \\leq x_k \\leq u_k$ for each edge $e_k$.\n",
    "\n",
    "$$\n",
    "0 \\leq x_k \\leq u_k \\ , \\ \\ k=0,\\dots,n-1\n",
    "$$"
   ]
  },
  {
   "cell_type": "markdown",
   "id": "d7f09d71-b465-4fe7-ab38-f6fc4b4ef623",
   "metadata": {},
   "source": [
    "## Example\n",
    "\n",
    "Let's try to recreate the network flow in Figure 14.12 in Vanderbei p.242."
   ]
  },
  {
   "cell_type": "code",
   "execution_count": 5,
   "id": "c4e587e0-f313-43d3-8700-1f08ffbbe45b",
   "metadata": {
    "tags": []
   },
   "outputs": [
    {
     "data": {
      "image/png": "[encoded data removed]",
      "text/plain": [
       "<Figure size 400x300 with 1 Axes>"
      ]
     },
     "metadata": {},
     "output_type": "display_data"
    }
   ],
   "source": [
    "nodes = ['a','b','c','d','e','f','g']\n",
    "coordinates = {'a':(0,3),'b':(2,1),'c':(1,1),'d':(2,2),'e':(3,3),'f':(0,0),'g':(3,0)}\n",
    "edges = [('a','c'),('a','d'),('a','e'),('b','a'),('b','c'),('b','e'),('d','b'),\n",
    "         ('d','e'),('f','a'),('f','b'),('f','c'),('f','g'),('g','b'),('g','e')]\n",
    "G = nx.DiGraph()\n",
    "G.add_nodes_from(nodes)\n",
    "G.add_edges_from(edges)\n",
    "plt.figure(figsize=(4,3))\n",
    "nx.draw(G,pos=coordinates,with_labels=True,node_color='lightblue')"
   ]
  },
  {
   "cell_type": "code",
   "execution_count": 6,
   "id": "73c63294-36b5-4d33-b761-15316d8f31c2",
   "metadata": {
    "tags": []
   },
   "outputs": [
    {
     "name": "stderr",
     "output_type": "stream",
     "text": [
      "/var/folders/2h/25vcwmr52mvfqs1h92028rph0000gn/T/ipykernel_71578/2531804110.py:1: FutureWarning: incidence_matrix will return a scipy.sparse array instead of a matrix in Networkx 3.0.\n",
      "  A = nx.incidence_matrix(G,oriented=True).toarray()\n"
     ]
    }
   ],
   "source": [
    "A = nx.incidence_matrix(G,oriented=True).toarray()"
   ]
  },
  {
   "cell_type": "code",
   "execution_count": 7,
   "id": "0e8c1a80-495f-42f8-88b8-6e4d50ac681f",
   "metadata": {
    "tags": []
   },
   "outputs": [
    {
     "name": "stdout",
     "output_type": "stream",
     "text": [
      "[[-1. -1. -1.  1.  0.  0.  0.  0.  1.  0.  0.  0.  0.  0.]\n",
      " [ 0.  0.  0. -1. -1. -1.  1.  0.  0.  1.  0.  0.  1.  0.]\n",
      " [ 1.  0.  0.  0.  1.  0.  0.  0.  0.  0.  1.  0.  0.  0.]\n",
      " [ 0.  1.  0.  0.  0.  0. -1. -1.  0.  0.  0.  0.  0.  0.]\n",
      " [ 0.  0.  1.  0.  0.  1.  0.  1.  0.  0.  0.  0.  0.  1.]\n",
      " [ 0.  0.  0.  0.  0.  0.  0.  0. -1. -1. -1. -1.  0.  0.]\n",
      " [ 0.  0.  0.  0.  0.  0.  0.  0.  0.  0.  0.  1. -1. -1.]]\n"
     ]
    }
   ],
   "source": [
    "print(A)"
   ]
  },
  {
   "cell_type": "code",
   "execution_count": 8,
   "id": "fc7f321f-9f4c-40cb-af5f-1c1721ed08c9",
   "metadata": {
    "tags": []
   },
   "outputs": [
    {
     "data": {
      "text/plain": [
       "NodeView(('a', 'b', 'c', 'd', 'e', 'f', 'g'))"
      ]
     },
     "execution_count": 8,
     "metadata": {},
     "output_type": "execute_result"
    }
   ],
   "source": [
    "G.nodes"
   ]
  },
  {
   "cell_type": "code",
   "execution_count": 9,
   "id": "aa917da2-487f-40e7-8dfb-ef0d35836192",
   "metadata": {
    "tags": []
   },
   "outputs": [],
   "source": [
    "b = np.array([0,0,-6,-6,-2,9,5])"
   ]
  },
  {
   "cell_type": "code",
   "execution_count": 10,
   "id": "e935ed2f-2ac9-45e9-8215-d6343cd7e8b2",
   "metadata": {
    "tags": []
   },
   "outputs": [],
   "source": [
    "c = np.array([48,28,10,7,65,7,38,15,56,48,108,24,33,19])"
   ]
  },
  {
   "cell_type": "code",
   "execution_count": 11,
   "id": "0e074374-00a8-4d65-9149-ffaf64da2d6f",
   "metadata": {
    "tags": []
   },
   "outputs": [],
   "source": [
    "result = linprog(c,A_eq=A,b_eq=-b)"
   ]
  },
  {
   "cell_type": "code",
   "execution_count": 12,
   "id": "d34d0179-c14d-4d09-bc12-38d401ad3aa3",
   "metadata": {
    "tags": []
   },
   "outputs": [
    {
     "data": {
      "text/plain": [
       "array([ 6.,  6.,  0., 12.,  0.,  0.,  0.,  0.,  0.,  9.,  0.,  0.,  3.,\n",
       "        2.])"
      ]
     },
     "execution_count": 12,
     "metadata": {},
     "output_type": "execute_result"
    }
   ],
   "source": [
    "result.x"
   ]
  },
  {
   "cell_type": "code",
   "execution_count": 13,
   "id": "9a1d07c7-5b17-4ada-bc56-a2db2b8f5a72",
   "metadata": {
    "tags": []
   },
   "outputs": [
    {
     "name": "stdout",
     "output_type": "stream",
     "text": [
      "Flow along edge ('a', 'c') is 6.0\n",
      "Flow along edge ('a', 'd') is 6.0\n",
      "Flow along edge ('a', 'e') is 0.0\n",
      "Flow along edge ('b', 'a') is 12.0\n",
      "Flow along edge ('b', 'c') is 0.0\n",
      "Flow along edge ('b', 'e') is 0.0\n",
      "Flow along edge ('d', 'b') is 0.0\n",
      "Flow along edge ('d', 'e') is 0.0\n",
      "Flow along edge ('f', 'a') is 0.0\n",
      "Flow along edge ('f', 'b') is 9.0\n",
      "Flow along edge ('f', 'c') is 0.0\n",
      "Flow along edge ('f', 'g') is 0.0\n",
      "Flow along edge ('g', 'b') is 3.0\n",
      "Flow along edge ('g', 'e') is 2.0\n"
     ]
    }
   ],
   "source": [
    "for k in range(len(edges)):\n",
    "    print(\"Flow along edge\",edges[k],\"is\",result.x[k])"
   ]
  },
  {
   "cell_type": "markdown",
   "id": "e712d98e-98bb-407d-a22e-087cb16aeb17",
   "metadata": {},
   "source": [
    "## Maximum Flow\n",
    "\n",
    "Choose one source node $s$ and one target node $t$. Set the demand $b_i = 0$ for all nodes except $s$ and $t$. Choose an upper bound (capacity) for the flow along each edge $k$. Find the maximum supply into node $s$ that can flow through the newtork to node $t$. In other words, let $s$ have index 0, let $t$ have index $m-1$ and maximize the flow out\n",
    "\n",
    "$$\n",
    "\\sum_{e_k=(0,j)} x_k\n",
    "$$\n",
    "\n",
    "subject to the capacity constraints\n",
    "\n",
    "$$\n",
    "0 \\leq x_k \\leq u_k \\ , \\ \\ k=0,\\dots,n-1\n",
    "$$\n",
    "\n",
    "and the balance equations for each node **except** the source and target nodes\n",
    "\n",
    "$$\n",
    "\\sum_{e_k = (j,i)} x_k - \\sum_{e_k = (i,j)} x_k = 0 \\ , \\ \\ i=1,\\dots,m-2\n",
    "$$\n"
   ]
  },
  {
   "cell_type": "markdown",
   "id": "ed69950b-9eac-4ccf-8a7a-a42b489ae96e",
   "metadata": {},
   "source": [
    "## Example"
   ]
  },
  {
   "cell_type": "code",
   "execution_count": 27,
   "id": "58e5fc26-f130-49df-bdd1-b1c1d133b21f",
   "metadata": {
    "tags": []
   },
   "outputs": [],
   "source": [
    "nodes = pd.read_csv(\"stations.csv\",index_col=0)"
   ]
  },
  {
   "cell_type": "code",
   "execution_count": 28,
   "id": "b0d6d920-8da7-4791-b8a1-d4303e51221a",
   "metadata": {
    "tags": []
   },
   "outputs": [
    {
     "data": {
      "text/html": [
       "<div>\n",
       "<style scoped>\n",
       "    .dataframe tbody tr th:only-of-type {\n",
       "        vertical-align: middle;\n",
       "    }\n",
       "\n",
       "    .dataframe tbody tr th {\n",
       "        vertical-align: top;\n",
       "    }\n",
       "\n",
       "    .dataframe thead th {\n",
       "        text-align: right;\n",
       "    }\n",
       "</style>\n",
       "<table border=\"1\" class=\"dataframe\">\n",
       "  <thead>\n",
       "    <tr style=\"text-align: right;\">\n",
       "      <th></th>\n",
       "      <th>name</th>\n",
       "      <th>x</th>\n",
       "      <th>y</th>\n",
       "    </tr>\n",
       "    <tr>\n",
       "      <th>index</th>\n",
       "      <th></th>\n",
       "      <th></th>\n",
       "      <th></th>\n",
       "    </tr>\n",
       "  </thead>\n",
       "  <tbody>\n",
       "    <tr>\n",
       "      <th>0</th>\n",
       "      <td>Downtown</td>\n",
       "      <td>-123.121405</td>\n",
       "      <td>49.280311</td>\n",
       "    </tr>\n",
       "    <tr>\n",
       "      <th>1</th>\n",
       "      <td>HastingsClark</td>\n",
       "      <td>-123.077084</td>\n",
       "      <td>49.281288</td>\n",
       "    </tr>\n",
       "    <tr>\n",
       "      <th>2</th>\n",
       "      <td>BoundaryHastings</td>\n",
       "      <td>-123.023351</td>\n",
       "      <td>49.281132</td>\n",
       "    </tr>\n",
       "    <tr>\n",
       "      <th>3</th>\n",
       "      <td>MainTerminal</td>\n",
       "      <td>-123.099939</td>\n",
       "      <td>49.272719</td>\n",
       "    </tr>\n",
       "    <tr>\n",
       "      <th>4</th>\n",
       "      <td>Clark1st</td>\n",
       "      <td>-123.077314</td>\n",
       "      <td>49.269678</td>\n",
       "    </tr>\n",
       "  </tbody>\n",
       "</table>\n",
       "</div>"
      ],
      "text/plain": [
       "                   name           x          y\n",
       "index                                         \n",
       "0              Downtown -123.121405  49.280311\n",
       "1         HastingsClark -123.077084  49.281288\n",
       "2      BoundaryHastings -123.023351  49.281132\n",
       "3          MainTerminal -123.099939  49.272719\n",
       "4              Clark1st -123.077314  49.269678"
      ]
     },
     "execution_count": 28,
     "metadata": {},
     "output_type": "execute_result"
    }
   ],
   "source": [
    "nodes.head()"
   ]
  },
  {
   "cell_type": "code",
   "execution_count": 29,
   "id": "724ec147-4643-400b-a219-0a0392e0c061",
   "metadata": {
    "tags": []
   },
   "outputs": [],
   "source": [
    "edges = pd.read_csv(\"routes.csv\")"
   ]
  },
  {
   "cell_type": "code",
   "execution_count": 30,
   "id": "d4fc4f7a-bc7c-4b3a-ab47-e77da886f402",
   "metadata": {
    "tags": []
   },
   "outputs": [
    {
     "data": {
      "text/html": [
       "<div>\n",
       "<style scoped>\n",
       "    .dataframe tbody tr th:only-of-type {\n",
       "        vertical-align: middle;\n",
       "    }\n",
       "\n",
       "    .dataframe tbody tr th {\n",
       "        vertical-align: top;\n",
       "    }\n",
       "\n",
       "    .dataframe thead th {\n",
       "        text-align: right;\n",
       "    }\n",
       "</style>\n",
       "<table border=\"1\" class=\"dataframe\">\n",
       "  <thead>\n",
       "    <tr style=\"text-align: right;\">\n",
       "      <th></th>\n",
       "      <th>from</th>\n",
       "      <th>to</th>\n",
       "    </tr>\n",
       "  </thead>\n",
       "  <tbody>\n",
       "    <tr>\n",
       "      <th>0</th>\n",
       "      <td>5</td>\n",
       "      <td>2</td>\n",
       "    </tr>\n",
       "    <tr>\n",
       "      <th>1</th>\n",
       "      <td>5</td>\n",
       "      <td>4</td>\n",
       "    </tr>\n",
       "    <tr>\n",
       "      <th>2</th>\n",
       "      <td>5</td>\n",
       "      <td>12</td>\n",
       "    </tr>\n",
       "    <tr>\n",
       "      <th>3</th>\n",
       "      <td>2</td>\n",
       "      <td>5</td>\n",
       "    </tr>\n",
       "    <tr>\n",
       "      <th>4</th>\n",
       "      <td>2</td>\n",
       "      <td>1</td>\n",
       "    </tr>\n",
       "  </tbody>\n",
       "</table>\n",
       "</div>"
      ],
      "text/plain": [
       "   from  to\n",
       "0     5   2\n",
       "1     5   4\n",
       "2     5  12\n",
       "3     2   5\n",
       "4     2   1"
      ]
     },
     "execution_count": 30,
     "metadata": {},
     "output_type": "execute_result"
    }
   ],
   "source": [
    "edges.head()"
   ]
  },
  {
   "cell_type": "code",
   "execution_count": 31,
   "id": "d038b316-13ce-41e1-bfef-a6d4d363d38e",
   "metadata": {
    "tags": []
   },
   "outputs": [],
   "source": [
    "G = nx.DiGraph()"
   ]
  },
  {
   "cell_type": "code",
   "execution_count": 32,
   "id": "9cb18488-c33d-4621-8b87-048ceedf0274",
   "metadata": {
    "tags": []
   },
   "outputs": [],
   "source": [
    "G.add_nodes_from(nodes.index)"
   ]
  },
  {
   "cell_type": "code",
   "execution_count": 33,
   "id": "d16c8465-b484-4d9d-abbc-17c7db6ae1cd",
   "metadata": {
    "tags": []
   },
   "outputs": [
    {
     "data": {
      "text/plain": [
       "NodeView((0, 1, 2, 3, 4, 5, 6, 7, 8, 9, 10, 11, 12, 13, 14, 15, 16, 17, 18, 19, 20, 21, 22, 23, 24))"
      ]
     },
     "execution_count": 33,
     "metadata": {},
     "output_type": "execute_result"
    }
   ],
   "source": [
    "G.nodes"
   ]
  },
  {
   "cell_type": "markdown",
   "id": "daae5036-74f0-487b-9021-464c498162e9",
   "metadata": {},
   "source": [
    "Use the `.add_edge` method so that we can include a `capacity` attribute to each edge."
   ]
  },
  {
   "cell_type": "code",
   "execution_count": 34,
   "id": "173f9076-f13f-45c9-996d-787d45a9a73e",
   "metadata": {
    "tags": []
   },
   "outputs": [],
   "source": [
    "for i in edges.index:\n",
    "    source = edges.iloc[i,0]\n",
    "    target = edges.iloc[i,1]\n",
    "    G.add_edge(source,target,capacity=10)"
   ]
  },
  {
   "cell_type": "code",
   "execution_count": 35,
   "id": "075b86e3-69b9-4b3b-ad73-09780cc2ad69",
   "metadata": {
    "tags": []
   },
   "outputs": [],
   "source": [
    "coordinates = []\n",
    "for i in nodes.index:\n",
    "    x = nodes.iloc[i,1]\n",
    "    y = nodes.iloc[i,2]\n",
    "    coordinates.append((x,y))"
   ]
  },
  {
   "cell_type": "code",
   "execution_count": 36,
   "id": "f936555c-9f22-47dc-9850-617d1c477c61",
   "metadata": {
    "tags": []
   },
   "outputs": [
    {
     "data": {
      "image/png": "[encoded data removed]",
      "text/plain": [
       "<Figure size 640x480 with 1 Axes>"
      ]
     },
     "metadata": {},
     "output_type": "display_data"
    }
   ],
   "source": [
    "nx.draw(G,pos=coordinates,\n",
    "        with_labels=True,\n",
    "        node_color='lightblue')"
   ]
  },
  {
   "cell_type": "code",
   "execution_count": 37,
   "id": "50956a68-1edc-4fb8-98a6-0c64d6c76de0",
   "metadata": {
    "tags": []
   },
   "outputs": [
    {
     "name": "stderr",
     "output_type": "stream",
     "text": [
      "/var/folders/2h/25vcwmr52mvfqs1h92028rph0000gn/T/ipykernel_71578/302284512.py:1: FutureWarning: incidence_matrix will return a scipy.sparse array instead of a matrix in Networkx 3.0.\n",
      "  A = nx.incidence_matrix(G,oriented=True).toarray()\n"
     ]
    }
   ],
   "source": [
    "A = nx.incidence_matrix(G,oriented=True).toarray()\n",
    "A1 = A[1:-1,:]\n",
    "b1 = np.zeros(A1.shape[0])\n",
    "c1 = (A[0,:] - np.abs(A[0,:]))/2"
   ]
  },
  {
   "cell_type": "code",
   "execution_count": 38,
   "id": "fd5acbd3-bbfc-42fd-b134-92ba58b4a80f",
   "metadata": {
    "tags": []
   },
   "outputs": [
    {
     "data": {
      "text/plain": [
       "array([-1., -1., -1., -1.,  0.,  0.,  0.,  0.,  0.,  0.,  0.,  0.,  0.,\n",
       "        0.,  0.,  0.,  0.,  0.,  0.,  0.,  0.,  0.,  0.,  0.,  0.,  0.,\n",
       "        0.,  0.,  0.,  0.,  0.,  0.,  0.,  0.,  0.,  0.,  0.,  0.,  0.,\n",
       "        0.,  0.,  0.,  0.,  0.,  0.,  0.,  0.,  0.,  0.,  0.,  0.,  0.,\n",
       "        0.,  0.,  0.,  0.,  0.,  0.,  0.,  0.,  0.,  0.,  0.,  0.,  0.,\n",
       "        0.,  0.,  0.,  0.,  0.,  0.,  0.,  0.,  0.,  0.,  0.,  0.,  0.,\n",
       "        0.,  0.,  0.,  0.,  0.,  0.])"
      ]
     },
     "execution_count": 38,
     "metadata": {},
     "output_type": "execute_result"
    }
   ],
   "source": [
    "c1"
   ]
  },
  {
   "cell_type": "code",
   "execution_count": 41,
   "id": "3a5d8c6d-5512-473e-a5d3-e8d6c4f620a5",
   "metadata": {
    "tags": []
   },
   "outputs": [
    {
     "data": {
      "text/plain": [
       "<matplotlib.image.AxesImage at 0x7f9248416890>"
      ]
     },
     "execution_count": 41,
     "metadata": {},
     "output_type": "execute_result"
    },
    {
     "data": {
      "image/png": "[encoded data removed]",
      "text/plain": [
       "<Figure size 640x480 with 1 Axes>"
      ]
     },
     "metadata": {},
     "output_type": "display_data"
    }
   ],
   "source": [
    "plt.imshow(A)"
   ]
  },
  {
   "cell_type": "code",
   "execution_count": 45,
   "id": "10953f92-0af0-42da-8c4d-ecb0071b2d14",
   "metadata": {
    "tags": []
   },
   "outputs": [
    {
     "data": {
      "text/html": [
       "<div>\n",
       "<style scoped>\n",
       "    .dataframe tbody tr th:only-of-type {\n",
       "        vertical-align: middle;\n",
       "    }\n",
       "\n",
       "    .dataframe tbody tr th {\n",
       "        vertical-align: top;\n",
       "    }\n",
       "\n",
       "    .dataframe thead th {\n",
       "        text-align: right;\n",
       "    }\n",
       "</style>\n",
       "<table border=\"1\" class=\"dataframe\">\n",
       "  <thead>\n",
       "    <tr style=\"text-align: right;\">\n",
       "      <th></th>\n",
       "      <th>from</th>\n",
       "      <th>to</th>\n",
       "    </tr>\n",
       "  </thead>\n",
       "  <tbody>\n",
       "    <tr>\n",
       "      <th>0</th>\n",
       "      <td>5</td>\n",
       "      <td>2</td>\n",
       "    </tr>\n",
       "    <tr>\n",
       "      <th>1</th>\n",
       "      <td>5</td>\n",
       "      <td>4</td>\n",
       "    </tr>\n",
       "    <tr>\n",
       "      <th>2</th>\n",
       "      <td>5</td>\n",
       "      <td>12</td>\n",
       "    </tr>\n",
       "    <tr>\n",
       "      <th>3</th>\n",
       "      <td>2</td>\n",
       "      <td>5</td>\n",
       "    </tr>\n",
       "    <tr>\n",
       "      <th>4</th>\n",
       "      <td>2</td>\n",
       "      <td>1</td>\n",
       "    </tr>\n",
       "    <tr>\n",
       "      <th>...</th>\n",
       "      <td>...</td>\n",
       "      <td>...</td>\n",
       "    </tr>\n",
       "    <tr>\n",
       "      <th>79</th>\n",
       "      <td>8</td>\n",
       "      <td>9</td>\n",
       "    </tr>\n",
       "    <tr>\n",
       "      <th>80</th>\n",
       "      <td>8</td>\n",
       "      <td>7</td>\n",
       "    </tr>\n",
       "    <tr>\n",
       "      <th>81</th>\n",
       "      <td>8</td>\n",
       "      <td>16</td>\n",
       "    </tr>\n",
       "    <tr>\n",
       "      <th>82</th>\n",
       "      <td>6</td>\n",
       "      <td>7</td>\n",
       "    </tr>\n",
       "    <tr>\n",
       "      <th>83</th>\n",
       "      <td>6</td>\n",
       "      <td>14</td>\n",
       "    </tr>\n",
       "  </tbody>\n",
       "</table>\n",
       "<p>84 rows × 2 columns</p>\n",
       "</div>"
      ],
      "text/plain": [
       "    from  to\n",
       "0      5   2\n",
       "1      5   4\n",
       "2      5  12\n",
       "3      2   5\n",
       "4      2   1\n",
       "..   ...  ..\n",
       "79     8   9\n",
       "80     8   7\n",
       "81     8  16\n",
       "82     6   7\n",
       "83     6  14\n",
       "\n",
       "[84 rows x 2 columns]"
      ]
     },
     "execution_count": 45,
     "metadata": {},
     "output_type": "execute_result"
    }
   ],
   "source": [
    "edges"
   ]
  },
  {
   "cell_type": "code",
   "execution_count": 35,
   "id": "74be820a-c12c-432d-9e48-465af5aeace1",
   "metadata": {
    "tags": []
   },
   "outputs": [],
   "source": [
    "max_flow,flow_dict = nx.maximum_flow(G,18,0)"
   ]
  },
  {
   "cell_type": "code",
   "execution_count": 36,
   "id": "dea138d0-9aad-425b-b34c-91280c0bd3de",
   "metadata": {
    "tags": []
   },
   "outputs": [
    {
     "data": {
      "text/plain": [
       "40"
      ]
     },
     "execution_count": 36,
     "metadata": {},
     "output_type": "execute_result"
    }
   ],
   "source": [
    "max_flow"
   ]
  },
  {
   "cell_type": "code",
   "execution_count": 37,
   "id": "40a5c2af-0f45-4e58-80d2-cc760b7d34b0",
   "metadata": {
    "tags": []
   },
   "outputs": [
    {
     "data": {
      "text/plain": [
       "{0: {9: 0, 7: 0, 1: 0, 3: 0},\n",
       " 1: {2: 0, 4: 0, 0: 10},\n",
       " 2: {5: 0, 1: 0},\n",
       " 3: {4: 0, 0: 10, 10: 0},\n",
       " 4: {5: 0, 11: 0, 1: 10, 3: 0},\n",
       " 5: {2: 0, 4: 0, 12: 0},\n",
       " 6: {7: 0, 14: 0},\n",
       " 7: {0: 10, 15: 0, 8: 0, 6: 0},\n",
       " 8: {9: 0, 7: 10, 16: 0},\n",
       " 9: {17: 0, 0: 10, 10: 0, 8: 0},\n",
       " 10: {11: 0, 9: 0, 13: 0, 3: 10},\n",
       " 11: {4: 10, 10: 0, 13: 0, 12: 0},\n",
       " 12: {5: 0, 11: 0, 19: 0},\n",
       " 13: {11: 10, 19: 0, 10: 10, 18: 0},\n",
       " 14: {15: 0, 20: 0, 6: 0},\n",
       " 15: {7: 0, 14: 0, 20: 0, 16: 0},\n",
       " 16: {17: 0, 15: 0, 21: 0, 8: 10},\n",
       " 17: {9: 10, 18: 0, 22: 0, 16: 10},\n",
       " 18: {17: 10, 19: 10, 13: 10, 23: 10},\n",
       " 19: {13: 10, 18: 0, 12: 0, 24: 0},\n",
       " 20: {15: 0, 14: 0, 21: 0},\n",
       " 21: {22: 0, 20: 0, 16: 0},\n",
       " 22: {17: 10, 23: 0, 21: 0},\n",
       " 23: {18: 0, 24: 0, 22: 10},\n",
       " 24: {19: 0, 23: 0}}"
      ]
     },
     "execution_count": 37,
     "metadata": {},
     "output_type": "execute_result"
    }
   ],
   "source": [
    "flow_dict"
   ]
  },
  {
   "cell_type": "markdown",
   "id": "eaa13e23-52be-46ef-930f-fa166dd4d6d3",
   "metadata": {},
   "source": [
    "## Shortest Path"
   ]
  },
  {
   "cell_type": "code",
   "execution_count": 39,
   "id": "d174d455-eed0-4ab3-9a10-42ce8e493d48",
   "metadata": {
    "tags": []
   },
   "outputs": [
    {
     "data": {
      "text/plain": [
       "[6, 7, 0, 1, 2]"
      ]
     },
     "execution_count": 39,
     "metadata": {},
     "output_type": "execute_result"
    }
   ],
   "source": [
    "nx.shortest_path(G,6,2)"
   ]
  },
  {
   "cell_type": "code",
   "execution_count": null,
   "id": "4fad6c65-a57a-40bf-b2cc-683e15b29d5e",
   "metadata": {},
   "outputs": [],
   "source": []
  }
 ],
 "metadata": {
  "kernelspec": {
   "display_name": "Python 3 (ipykernel)",
   "language": "python",
   "name": "python3"
  },
  "language_info": {
   "codemirror_mode": {
    "name": "ipython",
    "version": 3
   },
   "file_extension": ".py",
   "mimetype": "text/x-python",
   "name": "python",
   "nbconvert_exporter": "python",
   "pygments_lexer": "ipython3",
   "version": "3.10.12"
  }
 },
 "nbformat": 4,
 "nbformat_minor": 5
}
