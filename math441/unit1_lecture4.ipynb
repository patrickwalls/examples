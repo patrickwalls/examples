{
 "cells": [
  {
   "cell_type": "markdown",
   "metadata": {},
   "source": [
    "# MATH 441 Optimization Problems\n",
    "\n",
    "### Outline for Today\n",
    "* The Production problem (Resource Allocation)\n",
    "* The Consumption problem (Resource Extraction)\n",
    "* Examples in groups"
   ]
  },
  {
   "cell_type": "markdown",
   "metadata": {},
   "source": [
    "### Production (aka Resource Allocation)\n",
    "\n",
    "#### Problem Statement\n",
    "\n",
    "A production facility uses $m$ types of raw materials (like iron, oil, basic elements, ...) to produce $n$ types of products (like steel, plastic, fertilizer, ...). The amount of each material is limited. How much of each product should the facility produce to maximize profit?\n"
   ]
  },
  {
   "cell_type": "markdown",
   "metadata": {},
   "source": [
    "\n",
    "\n",
    "#### Define Variables\n",
    "\n",
    "* $\\rho_i$ is the cost per unit of material $i=1,\\dots,m$\n",
    "* $\\sigma_j$ is the price per unit of product $j=1,\\dots,n$\n",
    "* $a_{ij}$ is the amount of material $i$ require to produce a unit of product $j$\n",
    "* $b_i$ is the amount of material $i$ available\n",
    "* $x_j$ is the number of units of product $j$ to make (decision variables)\n",
    "* $c_j$ is the overall profit per unit of product $j$, so its revenue minus its cost\n"
   ]
  },
  {
   "cell_type": "markdown",
   "metadata": {},
   "source": [
    "\n",
    "#### Identify Constraints and Make Assumptions\n",
    "\n",
    "* The amount of each product produced by the facility does not change the market price\n",
    "* The amount of each material is limited\n",
    "\n",
    "#### Build Solutions\n",
    "\n",
    "The profit per unit of product $j$ is revenue minus cost:\n",
    "\n",
    "$$\n",
    "c_j = \\sigma_j - \\sum_i \\rho_i a_{ij}\n",
    "$$\n",
    "\n",
    "The total profit to maximize is\n",
    "\n",
    "$$\n",
    "\\mathbf{c}^T \\mathbf{x} = \\sum_j c_j x_j = \\sum_j \\sigma_j x_j  - \\sum_j \\sum_i \\rho_i a_{ij} x_j\n",
    "$$\n",
    "\n",
    "subject to the contraint\n",
    "\n",
    "$$\n",
    "\\sum_j a_{ij} x_j \\leq b_i \\ , \\ \\ i = 1,\\dots,m\n",
    "$$\n",
    "\n",
    "$$ x_j > 0, \\ \\ j = 1,\\dots, m$$\n",
    "\n",
    "This is a linear programming problem that we can solve using the simplex method or any LP solver: maximize $\\mathbf{c}^T \\mathbf{x}$ subject to $A \\mathbf{x} \\leq \\mathbf{b}$.\n",
    "\n",
    "See Linear Programming (Vanderbei) Section 1.1.\n"
   ]
  },
  {
   "cell_type": "code",
   "execution_count": 44,
   "metadata": {},
   "outputs": [],
   "source": [
    "import numpy as np\n",
    "import cvxpy as cp\n",
    "import pandas as pd"
   ]
  },
  {
   "cell_type": "code",
   "execution_count": 45,
   "metadata": {},
   "outputs": [],
   "source": [
    "m=3 # Number of materials\n",
    "n=4 # Number of products"
   ]
  },
  {
   "cell_type": "code",
   "execution_count": 46,
   "metadata": {},
   "outputs": [],
   "source": [
    "sigma =np.array([10,7,15,10]) # Revenue of each product\n",
    "A = np.array([[2.  , 1.  , 3.  , 2.  ],\n",
    "              [1.  , 1.75, 1.  , 1.  ],\n",
    "              [2.  , 3.5 , 5.  , 2.  ]]) # Amount of material for each product\n",
    "rho = np.array([0.90 , 0.80 , 0.24]) # Cost per unit of material\n",
    "b = np.array([100,110,200]) # How much of each material is available"
   ]
  },
  {
   "cell_type": "markdown",
   "metadata": {},
   "source": [
    "Let's solve this problem using cvxpy"
   ]
  },
  {
   "cell_type": "code",
   "execution_count": 47,
   "metadata": {},
   "outputs": [],
   "source": [
    "X = cp.Variable(n)"
   ]
  },
  {
   "cell_type": "code",
   "execution_count": 48,
   "metadata": {},
   "outputs": [],
   "source": [
    "obj = cp.Maximize(sigma @ X -(A @ X) @ rho)\n",
    "constraint_0 = [A@X<=b]\n",
    "constraint_1 = [X>=0]\n",
    "prob = cp.Problem(obj,constraint_0+constraint_1)"
   ]
  },
  {
   "cell_type": "code",
   "execution_count": null,
   "metadata": {},
   "outputs": [],
   "source": [
    "prob.solve()"
   ]
  },
  {
   "cell_type": "code",
   "execution_count": null,
   "metadata": {},
   "outputs": [],
   "source": [
    "X.value.round(3)"
   ]
  },
  {
   "cell_type": "markdown",
   "metadata": {},
   "source": [
    "### Consumption (aka Resource Extraction)\n",
    "\n",
    "#### Problem Statement\n",
    "\n",
    "I would like make sure that I meet my recommended dietary allowance each day - enough calories, carbs, fats, proteins, etc.. Based on the food available to me at the supermarket, how can I do this while minimizing the cost?\n",
    "\n",
    "For example, one slice of pizza costs $5 and gives 200 calories, 30g carbs, 10g fat, 10g protein etc.\n"
   ]
  },
  {
   "cell_type": "markdown",
   "metadata": {},
   "source": [
    "\n",
    "#### Define Variables\n",
    "\n",
    "* $c_j$ \n",
    "* $x_j$ \n",
    "* $a_{ij}$ \n",
    "* $b_i$ "
   ]
  },
  {
   "cell_type": "markdown",
   "metadata": {},
   "source": [
    "\n",
    "\n",
    "#### Identify Constraints and Make Assumptions\n",
    "\n",
    "* I need to have sufficient amounts of each nutrient.\n",
    "* I can have as many of each food item as needed.\n",
    "\n",
    "#### Build Solutions\n",
    "\n",
    "The total shopping cost\n",
    "\n",
    "$$\n",
    "\\mathbf{c}^T \\mathbf{x} = \\sum_j c_j x_j\n",
    "$$\n",
    "\n",
    "The mineral requirement constraints are\n",
    "\n",
    "$$\n",
    "\\sum_j a_{ij} x_j \\ ?? \\ b_i \\ , \\ \\ i = 1,\\dots,m\n",
    "$$\n",
    "\n",
    "$$x_j >0, \\ \\ j = 1,\\dots,n$$\n",
    "\n",
    "This is also a linear programming problem that we can solve!\n",
    "\n",
    "See Linear Programming (Vanderbei) Problem 5.16 p. 86."
   ]
  },
  {
   "cell_type": "code",
   "execution_count": 51,
   "metadata": {},
   "outputs": [],
   "source": [
    "n=4 # Number of food items\n",
    "m=3 # Number of nutrients"
   ]
  },
  {
   "cell_type": "code",
   "execution_count": 52,
   "metadata": {},
   "outputs": [],
   "source": [
    "c =np.array([10,7,15,10]) # Cost of each food item\n",
    "A = np.array([[2.  , 1.  , 3.  , 2.  ],\n",
    "              [1.  , 1.75, 1.  , 1.  ],\n",
    "              [2.  , 3.5 , 5.  , 2.  ]]) # Amount of each nutrient in each food item\n",
    "b = np.array([100,110,200]) # How much of each nutrient I need"
   ]
  },
  {
   "cell_type": "code",
   "execution_count": 53,
   "metadata": {},
   "outputs": [],
   "source": [
    "X = cp.Variable(n)"
   ]
  },
  {
   "cell_type": "code",
   "execution_count": 54,
   "metadata": {},
   "outputs": [],
   "source": [
    "obj = cp.Minimize(c @ X)\n",
    "constraint_0 = [A@X>=b]\n",
    "constraint_1 = [X>=0]\n",
    "prob = cp.Problem(obj,constraint_0+constraint_1)\n"
   ]
  },
  {
   "cell_type": "code",
   "execution_count": null,
   "metadata": {},
   "outputs": [],
   "source": [
    "prob.solve()"
   ]
  },
  {
   "cell_type": "code",
   "execution_count": null,
   "metadata": {},
   "outputs": [],
   "source": [
    "X.value.round(3)"
   ]
  },
  {
   "cell_type": "markdown",
   "metadata": {},
   "source": [
    "#### Let's use real data and see what results we get."
   ]
  },
  {
   "cell_type": "markdown",
   "metadata": {},
   "source": [
    "Loading in the real data:"
   ]
  },
  {
   "cell_type": "code",
   "execution_count": 57,
   "metadata": {},
   "outputs": [],
   "source": [
    "food = pd.read_csv(\"food.csv\")"
   ]
  },
  {
   "cell_type": "code",
   "execution_count": 58,
   "metadata": {},
   "outputs": [],
   "source": [
    "c = np.array(food['Cost'])\n",
    "A = np.array(food[['Protein','Carbohydrate','Fat']]).T\n",
    "b = np.array([200,350,150]) # These are our requirements"
   ]
  },
  {
   "cell_type": "code",
   "execution_count": 59,
   "metadata": {},
   "outputs": [],
   "source": [
    "X = cp.Variable(food.shape[0])"
   ]
  },
  {
   "cell_type": "code",
   "execution_count": 60,
   "metadata": {},
   "outputs": [],
   "source": [
    "obj = cp.Minimize(c @ X)\n",
    "constraint_0 = [A@X>=b]\n",
    "constraint_1 = [X>=0]\n",
    "prob = cp.Problem(obj,constraint_0+constraint_1)"
   ]
  },
  {
   "cell_type": "code",
   "execution_count": null,
   "metadata": {},
   "outputs": [],
   "source": [
    "prob.solve()"
   ]
  },
  {
   "cell_type": "code",
   "execution_count": null,
   "metadata": {},
   "outputs": [],
   "source": [
    "for i in range(food.shape[0]):\n",
    "    print(food.iloc[i]['Name'],abs(X.value.round(3)[i]))"
   ]
  },
  {
   "cell_type": "markdown",
   "metadata": {},
   "source": [
    "#### What other optimization problems fit either a resource allocation problem or a resource extraction problem?"
   ]
  },
  {
   "cell_type": "code",
   "execution_count": null,
   "metadata": {},
   "outputs": [],
   "source": []
  },
  {
   "cell_type": "markdown",
   "metadata": {},
   "source": [
    "##### Extra: Comparison between these two problems"
   ]
  },
  {
   "cell_type": "markdown",
   "metadata": {},
   "source": [
    "Resource Allocation:\n",
    "\n",
    "$$\n",
    "\\text{max } \\mathbf{c}^T \\mathbf{x} \\text{ with the constraint } A\\mathbf{x}\\leq b\n",
    "$$\n",
    "\n",
    "Resource Extraction:\n",
    "\n",
    "$$\n",
    "\\text{min } \\mathbf{c}^T \\mathbf{x} \\text{ with the constraint } A\\mathbf{x}\\geq b\n",
    "$$"
   ]
  },
  {
   "cell_type": "markdown",
   "metadata": {},
   "source": [
    "Are these the same problem but with different values?\n",
    "\n",
    "We know that max $\\mathbf{c}^T \\mathbf{x}$ = - min $-\\mathbf{c}^T \\mathbf{x}$ \n",
    "\n",
    "But are what about the constraints?\n",
    "$$Ax\\leq b \\implies -Ax\\geq -b$$\n"
   ]
  },
  {
   "cell_type": "markdown",
   "metadata": {},
   "source": [
    "\n",
    "\n",
    "This means we can rewrite the resource allocation problem as an extraction problem\n",
    "\n",
    "$$\n",
    "\\text{max } \\mathbf{c}^T \\mathbf{x} \\text{ with the constraint } A\\mathbf{x}\\leq b\n",
    "$$\n",
    "\n",
    "$$\n",
    "\\implies -\\text{min } -\\mathbf{c}^T \\mathbf{x} \\text{ with the constraint } A\\mathbf{x}\\leq b\n",
    "$$\n",
    "\n",
    "$$\n",
    "\\implies -\\text{min } -\\mathbf{c}^T \\mathbf{x} \\text{ with the constraint } -A\\mathbf{x}\\geq -b\n",
    "$$"
   ]
  },
  {
   "cell_type": "markdown",
   "metadata": {},
   "source": [
    "Let's test it!"
   ]
  },
  {
   "cell_type": "code",
   "execution_count": 63,
   "metadata": {},
   "outputs": [],
   "source": [
    "n=4 # number of food items\n",
    "m=3 # number of nutrients\n",
    "c =-np.array([ 6.92,  3.86, 10.3 ,  6.92]) # cost of each food item\n",
    "A = -np.array([[2.  , 1.  , 3.  , 2.  ],\n",
    "              [1.  , 1.75, 1.  , 1.  ],\n",
    "              [2.  , 3.5 , 5.  , 2.  ]]) # Amount of each nutrient in each food item\n",
    "b = -np.array([100,110,200]) # how much of each nutrient I need"
   ]
  },
  {
   "cell_type": "code",
   "execution_count": 64,
   "metadata": {},
   "outputs": [],
   "source": [
    "X = cp.Variable(n)"
   ]
  },
  {
   "cell_type": "code",
   "execution_count": 65,
   "metadata": {},
   "outputs": [],
   "source": [
    "obj = cp.Minimize(c @ X)\n",
    "constraint = [A@X>=b, X>=0]\n",
    "prob = -cp.Problem(obj,constraint)\n"
   ]
  },
  {
   "cell_type": "code",
   "execution_count": null,
   "metadata": {},
   "outputs": [],
   "source": [
    "prob.solve()\n"
   ]
  },
  {
   "cell_type": "code",
   "execution_count": null,
   "metadata": {},
   "outputs": [],
   "source": [
    "X.value.round(3)"
   ]
  }
 ],
 "metadata": {
  "kernelspec": {
   "display_name": ".venv",
   "language": "python",
   "name": "python3"
  },
  "language_info": {
   "codemirror_mode": {
    "name": "ipython",
    "version": 3
   },
   "file_extension": ".py",
   "mimetype": "text/x-python",
   "name": "python",
   "nbconvert_exporter": "python",
   "pygments_lexer": "ipython3",
   "version": "3.11.0"
  }
 },
 "nbformat": 4,
 "nbformat_minor": 2
}
