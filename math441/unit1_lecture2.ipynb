{
 "cells": [
  {
   "cell_type": "markdown",
   "id": "5961e85d-f82a-4a31-88dc-367db3dfffb1",
   "metadata": {},
   "source": [
    "# MATH 441 Optimization Problems"
   ]
  },
  {
   "cell_type": "code",
   "execution_count": 2,
   "id": "a024661e-d397-4584-b6a5-54d51cbc9bba",
   "metadata": {
    "tags": []
   },
   "outputs": [],
   "source": [
    "import numpy as np\n",
    "import scipy.linalg as la\n",
    "import matplotlib.pyplot as plt\n",
    "import cvxpy as cp\n",
    "from scipy.optimize import linprog"
   ]
  },
  {
   "cell_type": "markdown",
   "id": "5c7c1863-8c20-41d9-8429-386768336ff6",
   "metadata": {},
   "source": [
    "## Mathematical Modelling Process\n",
    "\n",
    "* Problem statement\n",
    "* Define variables\n",
    "* Identify constraints and make assumptions\n",
    "* Build solutions\n",
    "* Analyze the model\n",
    "* Report results"
   ]
  },
  {
   "cell_type": "markdown",
   "id": "be9b9b68-9ff9-4f6d-bee9-2ba84c848102",
   "metadata": {},
   "source": [
    "## Transportation (aka Optimal Transport)\n",
    "\n",
    "### Problem Statement\n",
    "\n",
    "A company has products at different storage locations (called supply nodes) and needs to deliver the product to several customer locations (called demand nodes). How do we move supply to meet the demand at minimal cost?"
   ]
  },
  {
   "cell_type": "markdown",
   "id": "bb376b8d-c1d0-4c5e-baf6-c7c291095701",
   "metadata": {},
   "source": [
    "### Define Variables\n",
    "\n",
    "* $x_{ij}$ is the number of units to deliver from supply node $i$ to demand node $j$\n",
    "* $c_{ij}$ is the cost per unit to deliver from supply node $i$ to demand node $j$\n",
    "* $s_i$ is the number of units available at supply node $i$\n",
    "* $d_j$ is the number of units required at demand node $j$\n",
    "* $m$ is the number of supply nodes\n",
    "* $n$ is the number of demand nodes"
   ]
  },
  {
   "cell_type": "markdown",
   "id": "9746d432-5535-4e98-a496-5301ab98f404",
   "metadata": {},
   "source": [
    "### Identify Constraints and Make Assumptions\n",
    "\n",
    "* Total supply is equal to the total demand\n",
    "* Cost to deliver supply is proportional to distance between nodes\n",
    "* Product quantities are continuous (not discrete)"
   ]
  },
  {
   "cell_type": "markdown",
   "id": "0972441b-493c-4bfb-be85-7ddda306319c",
   "metadata": {},
   "source": [
    "### Build Solutions\n",
    "\n",
    "The total transportation cost is\n",
    "\n",
    "$$\n",
    "\\sum_{i=0}^{m-1} \\sum_{j=0}^{n-1} c_{ij} x_{ij}\n",
    "$$\n",
    "\n",
    "The supply constraint for each supply node:\n",
    "\n",
    "$$\n",
    "\\sum_{j=0}^{n-1} x_{ij} = s_i \\ , \\ \\ i = 0,\\dots,m-1\n",
    "$$\n",
    "\n",
    "The demand constraint for each demand node:\n",
    "\n",
    "$$\n",
    "\\sum_{i=0}^{m-1} x_{ij} = d_j \\ , \\ \\ j = 0,\\dots,n-1\n",
    "$$\n",
    "\n",
    "The total demand is equal to the total supply:\n",
    "\n",
    "$$\n",
    "\\sum_{i=0}^{m-1} s_i = \\sum_{j=0}^{n-1} d_j\n",
    "$$"
   ]
  },
  {
   "cell_type": "markdown",
   "id": "bfb9ddf7-20b2-4db6-b84e-ddcf5bbcd218",
   "metadata": {},
   "source": [
    "### Compute Solutions with CVXPY"
   ]
  },
  {
   "cell_type": "code",
   "execution_count": 30,
   "id": "1d5f8157-bb24-467d-a232-830cb434acaa",
   "metadata": {
    "tags": []
   },
   "outputs": [
    {
     "data": {
      "image/png": "[encoded data removed]",
      "text/plain": [
       "<Figure size 640x480 with 1 Axes>"
      ]
     },
     "metadata": {},
     "output_type": "display_data"
    }
   ],
   "source": [
    "s_nodes = np.array([(0.,0.),(1.,0.),(0.,1.),(-1.,0.)])\n",
    "s = np.array([5.,6.,3.,8.])\n",
    "d_nodes = np.array([(2.,1.),(-2.,0.),(-1.,2.),(1.,3.),(-1.,-1.)])\n",
    "d = np.array([9.,1.,3.,5.,4.])\n",
    "\n",
    "assert np.sum(s) == np.sum(d)\n",
    "\n",
    "plt.scatter(s_nodes[:,0],s_nodes[:,1],s=10*s)\n",
    "plt.scatter(d_nodes[:,0],d_nodes[:,1],s=10*d)\n",
    "\n",
    "plt.legend(['Supply Nodes','Demand Nodes'],loc='upper left')\n",
    "plt.xlim([-3,3]), plt.ylim([-2,4]), plt.grid(True)\n",
    "plt.show()"
   ]
  },
  {
   "cell_type": "markdown",
   "id": "0b441096-355c-4be1-aa85-9288ac9781d9",
   "metadata": {},
   "source": [
    "Compute the cost matrix $C = [c_{ij}]$:"
   ]
  },
  {
   "cell_type": "code",
   "execution_count": 31,
   "id": "433f33b3-9b17-4e7f-93fc-14304e6aa809",
   "metadata": {
    "tags": []
   },
   "outputs": [
    {
     "name": "stdout",
     "output_type": "stream",
     "text": [
      "[[2.23606798 2.         2.23606798 3.16227766 1.41421356]\n",
      " [1.41421356 3.         2.82842712 3.         2.23606798]\n",
      " [2.         2.23606798 1.41421356 2.23606798 2.23606798]\n",
      " [3.16227766 1.         2.         3.60555128 1.        ]]\n"
     ]
    }
   ],
   "source": [
    "m = len(s)\n",
    "n = len(d)\n",
    "\n",
    "C = np.zeros([m,n])\n",
    "for i in range(m):\n",
    "    for j in range(n):\n",
    "        # Distance from supply node i to demand node j\n",
    "        C[i,j] = np.linalg.norm(d_nodes[j,:] - s_nodes[i,:])\n",
    "\n",
    "print(C)"
   ]
  },
  {
   "cell_type": "markdown",
   "id": "f3ecdf80-f798-4856-aa69-198f39cbfe91",
   "metadata": {},
   "source": [
    "Compute the solution using `CVXPY`:"
   ]
  },
  {
   "cell_type": "code",
   "execution_count": 32,
   "id": "9f1b0005-365e-44fb-b848-afff3f0620fb",
   "metadata": {
    "tags": []
   },
   "outputs": [],
   "source": [
    "X = cp.Variable((m,n))\n",
    "obj = cp.Minimize(cp.sum(cp.multiply(C,X)))\n",
    "constraint1 = [cp.sum(X[i,:]) == s[i] for i in range(m)]\n",
    "constraint2 = [cp.sum(X[:,j]) == d[j] for j in range(n)]\n",
    "constraint3 = [X >= 0]\n",
    "constraints = constraint1 + constraint2 + constraint3\n",
    "prob = cp.Problem(obj,constraints)"
   ]
  },
  {
   "cell_type": "code",
   "execution_count": 33,
   "id": "6859015e-e720-44cf-9865-3c8d8cc7c4ae",
   "metadata": {
    "tags": []
   },
   "outputs": [
    {
     "data": {
      "text/plain": [
       "39.22624459495728"
      ]
     },
     "execution_count": 33,
     "metadata": {},
     "output_type": "execute_result"
    }
   ],
   "source": [
    "prob.solve()"
   ]
  },
  {
   "cell_type": "code",
   "execution_count": 34,
   "id": "8b91586b-800f-4689-a105-f7ee6fe2a7c6",
   "metadata": {
    "tags": []
   },
   "outputs": [
    {
     "data": {
      "text/plain": [
       "array([[ 3.,  0.,  0.,  2.,  0.],\n",
       "       [ 6., -0.,  0.,  0., -0.],\n",
       "       [ 0.,  0.,  0.,  3.,  0.],\n",
       "       [ 0.,  1.,  3.,  0.,  4.]])"
      ]
     },
     "execution_count": 34,
     "metadata": {},
     "output_type": "execute_result"
    }
   ],
   "source": [
    "X.value.round(3)"
   ]
  },
  {
   "cell_type": "code",
   "execution_count": 35,
   "id": "127e0151-46ec-40e3-9f38-2e306ef98a0f",
   "metadata": {
    "tags": []
   },
   "outputs": [
    {
     "data": {
      "image/png": "[encoded data removed]",
      "text/plain": [
       "<Figure size 640x480 with 1 Axes>"
      ]
     },
     "metadata": {},
     "output_type": "display_data"
    }
   ],
   "source": [
    "plt.scatter(s_nodes[:,0],s_nodes[:,1],s=10*s)\n",
    "plt.scatter(d_nodes[:,0],d_nodes[:,1],s=10*d)\n",
    "max_X = X.value.max()\n",
    "\n",
    "for i in range(m):\n",
    "    for j in range(n):\n",
    "        plt.plot([s_nodes[i,0],d_nodes[j,0]],[s_nodes[i,1],d_nodes[j,1]],c='k',lw=2,alpha=np.abs(X.value[i,j])/max_X)\n",
    "\n",
    "plt.legend(['Supply Nodes','Demand Nodes'],loc='upper left')\n",
    "plt.xlim([-3,3]), plt.ylim([-2,4]), plt.grid(True)\n",
    "plt.show()"
   ]
  },
  {
   "cell_type": "markdown",
   "id": "68c1127f-6397-40b2-8964-8450755aaa10",
   "metadata": {},
   "source": [
    "### Standard Form"
   ]
  },
  {
   "cell_type": "markdown",
   "id": "dfcf488d-340a-4aa8-aeb6-cb165a88740d",
   "metadata": {},
   "source": [
    "What is the vector of decision variables? It's a matrix $X = [x_{ij}]$. How do we translate this into $A \\mathbf{x} = \\mathbf{b}$? Flatten the matrix $X$ into the vector $\\mathbf{x}$."
   ]
  },
  {
   "cell_type": "code",
   "execution_count": 36,
   "id": "1580dee3-8028-46f9-9ed6-054beb675d68",
   "metadata": {
    "tags": []
   },
   "outputs": [
    {
     "data": {
      "text/plain": [
       "array([[ 0,  1,  2,  3],\n",
       "       [ 4,  5,  6,  7],\n",
       "       [ 8,  9, 10, 11]])"
      ]
     },
     "execution_count": 36,
     "metadata": {},
     "output_type": "execute_result"
    }
   ],
   "source": [
    "X = np.array([[0,1,2,3],[4,5,6,7],[8,9,10,11]])\n",
    "X"
   ]
  },
  {
   "cell_type": "code",
   "execution_count": 37,
   "id": "d65e2c94-7b7b-45ff-9f67-45515f04f093",
   "metadata": {
    "tags": []
   },
   "outputs": [
    {
     "data": {
      "text/plain": [
       "array([ 0,  1,  2,  3,  4,  5,  6,  7,  8,  9, 10, 11])"
      ]
     },
     "execution_count": 37,
     "metadata": {},
     "output_type": "execute_result"
    }
   ],
   "source": [
    "x = X.flatten()\n",
    "x"
   ]
  },
  {
   "cell_type": "code",
   "execution_count": 38,
   "id": "7631980f-616f-45b5-a95c-6f22544b7aba",
   "metadata": {
    "tags": []
   },
   "outputs": [
    {
     "data": {
      "text/plain": [
       "array([[ 0,  1,  2,  3],\n",
       "       [ 4,  5,  6,  7],\n",
       "       [ 8,  9, 10, 11]])"
      ]
     },
     "execution_count": 38,
     "metadata": {},
     "output_type": "execute_result"
    }
   ],
   "source": [
    "x = x.reshape((3,4))\n",
    "x"
   ]
  },
  {
   "cell_type": "markdown",
   "id": "ecab60df-3e77-478c-93c7-d5f99475bc44",
   "metadata": {},
   "source": [
    "Let's assume $m = 3$ and $n = 4$. Define the vector $\\mathbf{x}$ as the \"flattened\" matrix $X$:\n",
    "\n",
    "$$\n",
    "X = \\begin{bmatrix} x_{0,0} & x_{0,1} & x_{0,2} & x_{0,3} \\\\ x_{1,0} & x_{1,1} & x_{1,2} & x_{1,3} \\\\ x_{2,0} & x_{2,1} & x_{2,2} & x_{2,3} \\end{bmatrix}\n",
    "\\hspace{20mm}\n",
    "\\mathbf{x} = \\begin{bmatrix} x_{0,0} \\\\ x_{0,1} \\\\ x_{0,2} \\\\ x_{0,3} \\\\ x_{1,0} \\\\ x_{1,1} \\\\ x_{1,2} \\\\ x_{1,3} \\\\ x_{2,0} \\\\ x_{2,1} \\\\ x_{2,2} \\\\ x_{2,3} \\end{bmatrix}\n",
    "$$"
   ]
  },
  {
   "cell_type": "markdown",
   "id": "1866d6d2-438f-410b-ad9d-ed04f391fef9",
   "metadata": {},
   "source": [
    "The first supply constraint is: $\\sum_{j=0}^3 x_{0,j} = s_0$. What does the first row of $A$ look like?\n",
    "\n",
    "$$\n",
    "\\begin{bmatrix} 1 & 1 & 1 & 1 & 0 & 0 & 0 & 0 & 0 & 0 & 0 & 0 \\end{bmatrix}\n",
    "$$\n",
    "\n",
    "What about the rows for the other supply constraints: $\\sum_{j=0}^3 x_{1,j} = s_1$ and $\\sum_{j=0}^3 x_{2,j} = s_2$.\n",
    "\n",
    "$$\n",
    "\\begin{bmatrix} 0 & 0 & 0 & 0 & 1 & 1 & 1 & 1 & 0 & 0 & 0 & 0 \\end{bmatrix}\n",
    "$$\n",
    "\n",
    "$$\n",
    "\\begin{bmatrix} 0 & 0 & 0 & 0 & 0 & 0 & 0 & 0 & 1 & 1 & 1 & 1 \\end{bmatrix}\n",
    "$$"
   ]
  },
  {
   "cell_type": "markdown",
   "id": "9f1958c0-8305-49cc-867d-97b8bb670c8a",
   "metadata": {},
   "source": [
    "This is the [kronecker product](https://en.wikipedia.org/wiki/Kronecker_product) of the identity matrix $I$ (of size 3) and the transpose of the vector $\\mathbf{e}$ of all 1s (of length 4).\n",
    "\n",
    "$$\n",
    "I \\otimes \\mathbf{e}^T =\n",
    "\\begin{bmatrix}\n",
    "1 & 1 & 1 & 1 & 0 & 0 & 0 & 0 & 0 & 0 & 0 & 0 \\\\\n",
    "0 & 0 & 0 & 0 & 1 & 1 & 1 & 1 & 0 & 0 & 0 & 0 \\\\\n",
    "0 & 0 & 0 & 0 & 0 & 0 & 0 & 0 & 1 & 1 & 1 & 1\n",
    "\\end{bmatrix}\n",
    "$$"
   ]
  },
  {
   "cell_type": "code",
   "execution_count": 39,
   "id": "7ea2a308-ceb7-4033-a472-2ae704fed7cc",
   "metadata": {
    "tags": []
   },
   "outputs": [
    {
     "data": {
      "text/plain": [
       "array([[1., 0., 0.],\n",
       "       [0., 1., 0.],\n",
       "       [0., 0., 1.]])"
      ]
     },
     "execution_count": 39,
     "metadata": {},
     "output_type": "execute_result"
    }
   ],
   "source": [
    "np.eye(3)"
   ]
  },
  {
   "cell_type": "code",
   "execution_count": 40,
   "id": "1b2e0d6c-0752-43d8-8dac-203138edf707",
   "metadata": {
    "tags": []
   },
   "outputs": [
    {
     "data": {
      "text/plain": [
       "array([1., 1., 1., 1.])"
      ]
     },
     "execution_count": 40,
     "metadata": {},
     "output_type": "execute_result"
    }
   ],
   "source": [
    "np.ones(4)"
   ]
  },
  {
   "cell_type": "code",
   "execution_count": 41,
   "id": "1513e929-b7f4-46da-8bab-1020bd6384cf",
   "metadata": {
    "tags": []
   },
   "outputs": [
    {
     "data": {
      "text/plain": [
       "array([[1., 1., 1., 1., 0., 0., 0., 0., 0., 0., 0., 0.],\n",
       "       [0., 0., 0., 0., 1., 1., 1., 1., 0., 0., 0., 0.],\n",
       "       [0., 0., 0., 0., 0., 0., 0., 0., 1., 1., 1., 1.]])"
      ]
     },
     "execution_count": 41,
     "metadata": {},
     "output_type": "execute_result"
    }
   ],
   "source": [
    "np.kron(np.eye(3),np.ones(4))"
   ]
  },
  {
   "cell_type": "markdown",
   "id": "4b8b266f-e436-4eae-8911-2b2fe87745f8",
   "metadata": {},
   "source": [
    "What do the demand constraints look like in the matrix $A$?\n",
    "\n",
    "The first demand constraint is: $\\sum_{i=0}^2 x_{i,0} = d_0$ or $x_{0,0} + x_{1,0} + x_{2,0} = d_0$.\n",
    "\n",
    "$$\n",
    "\\mathbf{x} = \\begin{bmatrix} x_{0,0} \\\\ x_{0,1} \\\\ x_{0,2} \\\\ x_{0,3} \\\\ x_{1,0} \\\\ \\vdots \\\\ x_{2,3} \\end{bmatrix}\n",
    "$$"
   ]
  },
  {
   "cell_type": "markdown",
   "id": "ff190c70-74d9-45b9-9451-c7141c16d05f",
   "metadata": {},
   "source": [
    "$$\n",
    "\\mathbf{e}^T \\otimes I =\n",
    "\\begin{bmatrix}\n",
    "1 & 0 & 0 & 0 & 1 & 0 & 0 & 0 & 1 & 0 & 0 & 0 \\\\\n",
    "0 & 1 & 0 & 0 & 0 & 1 & 0 & 0 & 0 & 1 & 0 & 0 \\\\\n",
    "0 & 0 & 1 & 0 & 0 & 0 & 1 & 0 & 0 & 0 & 1 & 0 \\\\\n",
    "0 & 0 & 0 & 1 & 0 & 0 & 0 & 1 & 0 & 0 & 0 & 1\n",
    "\\end{bmatrix}\n",
    "$$"
   ]
  },
  {
   "cell_type": "markdown",
   "id": "b79c3aa4-b47c-4b5d-93f1-b3877204a2a5",
   "metadata": {},
   "source": [
    "This is also a kronecker product but this time $\\mathbf{e}$ is the vector of 1s of length 3 and $I$ is the identiy matrix of size 4."
   ]
  },
  {
   "cell_type": "code",
   "execution_count": 42,
   "id": "6e4947e1-9412-42b3-8d24-3d53f2757f6b",
   "metadata": {
    "tags": []
   },
   "outputs": [
    {
     "data": {
      "text/plain": [
       "array([[1., 0., 0., 0., 1., 0., 0., 0., 1., 0., 0., 0.],\n",
       "       [0., 1., 0., 0., 0., 1., 0., 0., 0., 1., 0., 0.],\n",
       "       [0., 0., 1., 0., 0., 0., 1., 0., 0., 0., 1., 0.],\n",
       "       [0., 0., 0., 1., 0., 0., 0., 1., 0., 0., 0., 1.]])"
      ]
     },
     "execution_count": 42,
     "metadata": {},
     "output_type": "execute_result"
    }
   ],
   "source": [
    "np.kron(np.ones(3),np.eye(4))"
   ]
  },
  {
   "cell_type": "code",
   "execution_count": 43,
   "id": "a65cf76e-3f87-4ec6-879a-34d3af29dbd4",
   "metadata": {
    "tags": []
   },
   "outputs": [],
   "source": [
    "m = 3; n = 4;\n",
    "A1 = np.kron(np.eye(m),np.ones(n))\n",
    "A2 = np.kron(np.ones(m),np.eye(n))\n",
    "A = np.vstack([A1,A2])"
   ]
  },
  {
   "cell_type": "code",
   "execution_count": 44,
   "id": "13e259d6-456b-4137-9efd-56e8bf43ad63",
   "metadata": {
    "tags": []
   },
   "outputs": [
    {
     "data": {
      "text/plain": [
       "array([[1., 1., 1., 1., 0., 0., 0., 0., 0., 0., 0., 0.],\n",
       "       [0., 0., 0., 0., 1., 1., 1., 1., 0., 0., 0., 0.],\n",
       "       [0., 0., 0., 0., 0., 0., 0., 0., 1., 1., 1., 1.],\n",
       "       [1., 0., 0., 0., 1., 0., 0., 0., 1., 0., 0., 0.],\n",
       "       [0., 1., 0., 0., 0., 1., 0., 0., 0., 1., 0., 0.],\n",
       "       [0., 0., 1., 0., 0., 0., 1., 0., 0., 0., 1., 0.],\n",
       "       [0., 0., 0., 1., 0., 0., 0., 1., 0., 0., 0., 1.]])"
      ]
     },
     "execution_count": 44,
     "metadata": {},
     "output_type": "execute_result"
    }
   ],
   "source": [
    "A"
   ]
  },
  {
   "cell_type": "markdown",
   "id": "8f7e803c-1bad-4751-b447-8b9e57893fa2",
   "metadata": {},
   "source": [
    "The vector $\\mathbf{b}$ is the supply vector and demand vector stacked.\n",
    "$$\n",
    "\\mathbf{b} = \\begin{bmatrix} \\mathbf{s} \\\\ \\mathbf{d} \\end{bmatrix}\n",
    "$$"
   ]
  },
  {
   "cell_type": "markdown",
   "id": "7054fa1a-3d6a-4d3e-a744-bf2e53965d46",
   "metadata": {},
   "source": [
    "What about the cost function $\\mathbf{c}$? Create a matrix $C = [c_{ij}]$ where $c_{ij}$ is the distance from supply node $i$ to demand node $j$, and then let $\\mathbf{c}$ be the flattened vector.\n",
    "\n",
    "Let's do an example."
   ]
  },
  {
   "cell_type": "code",
   "execution_count": 45,
   "id": "5062fc65-39e3-445d-9ee4-c76a019da7a7",
   "metadata": {
    "tags": []
   },
   "outputs": [
    {
     "data": {
      "image/png": "[encoded data removed]",
      "text/plain": [
       "<Figure size 640x480 with 1 Axes>"
      ]
     },
     "metadata": {},
     "output_type": "display_data"
    }
   ],
   "source": [
    "s_nodes = np.array([(0,0),(1,0),(0,1)])\n",
    "s = np.array([4,2,5])\n",
    "plt.scatter(s_nodes[:,0],s_nodes[:,1],s=20*s,label='Supply Nodes')\n",
    "\n",
    "d_nodes = np.array([(1,1),(1,2)])\n",
    "d = np.array([4,7])\n",
    "plt.scatter(d_nodes[:,0],d_nodes[:,1],s=20*d,label='Supply Nodes')\n",
    "\n",
    "plt.grid(True), plt.legend()\n",
    "plt.show()"
   ]
  },
  {
   "cell_type": "code",
   "execution_count": 46,
   "id": "7a1a4367-802e-42d4-b084-9ed91a040547",
   "metadata": {
    "tags": []
   },
   "outputs": [
    {
     "data": {
      "text/plain": [
       "array([[1., 1., 0., 0., 0., 0.],\n",
       "       [0., 0., 1., 1., 0., 0.],\n",
       "       [0., 0., 0., 0., 1., 1.],\n",
       "       [1., 0., 1., 0., 1., 0.],\n",
       "       [0., 1., 0., 1., 0., 1.]])"
      ]
     },
     "execution_count": 46,
     "metadata": {},
     "output_type": "execute_result"
    }
   ],
   "source": [
    "m = 3; n = 2;\n",
    "A1 = np.kron(np.eye(m),np.ones(n))\n",
    "A2 = np.kron(np.ones(m),np.eye(n))\n",
    "A = np.vstack([A1,A2])\n",
    "A"
   ]
  },
  {
   "cell_type": "code",
   "execution_count": 47,
   "id": "4a509ba5-65b5-4f2c-b8c8-f706aeba98f3",
   "metadata": {
    "tags": []
   },
   "outputs": [
    {
     "data": {
      "text/plain": [
       "array([4, 2, 5, 4, 7])"
      ]
     },
     "execution_count": 47,
     "metadata": {},
     "output_type": "execute_result"
    }
   ],
   "source": [
    "b = np.hstack([s,d])\n",
    "b"
   ]
  },
  {
   "cell_type": "code",
   "execution_count": 48,
   "id": "7c0d5d1d-e1a0-4779-a20c-f6ee9e761cf1",
   "metadata": {
    "tags": []
   },
   "outputs": [],
   "source": [
    "C = np.zeros((m,n))\n",
    "for i in range(m):\n",
    "    for j in range(n):\n",
    "        C[i,j] = np.linalg.norm(s_nodes[i,:] - d_nodes[j,:])"
   ]
  },
  {
   "cell_type": "code",
   "execution_count": 49,
   "id": "04a93ab9-bae3-4483-bc70-838270eefa25",
   "metadata": {
    "tags": []
   },
   "outputs": [
    {
     "data": {
      "text/plain": [
       "array([[1.41421356, 2.23606798],\n",
       "       [1.        , 2.        ],\n",
       "       [1.        , 1.41421356]])"
      ]
     },
     "execution_count": 49,
     "metadata": {},
     "output_type": "execute_result"
    }
   ],
   "source": [
    "C"
   ]
  },
  {
   "cell_type": "code",
   "execution_count": 50,
   "id": "0b8056e9-4302-4c03-ab02-c0c25a4a63af",
   "metadata": {
    "tags": []
   },
   "outputs": [],
   "source": [
    "c = C.flatten()"
   ]
  },
  {
   "cell_type": "code",
   "execution_count": 51,
   "id": "baec4a00-3c3f-4ce4-9d97-45f1f9647332",
   "metadata": {
    "tags": []
   },
   "outputs": [],
   "source": [
    "result = linprog(c,A_eq=A,b_eq=b)"
   ]
  },
  {
   "cell_type": "code",
   "execution_count": 52,
   "id": "bf9295cf-b34f-4aab-b02a-20bf1ee9a6ab",
   "metadata": {
    "tags": []
   },
   "outputs": [
    {
     "data": {
      "text/plain": [
       "array([[2., 2.],\n",
       "       [2., 0.],\n",
       "       [0., 5.]])"
      ]
     },
     "execution_count": 52,
     "metadata": {},
     "output_type": "execute_result"
    }
   ],
   "source": [
    "X = result.x.reshape((m,n))\n",
    "X"
   ]
  },
  {
   "cell_type": "markdown",
   "id": "c77c2896-f0aa-478d-8478-e8c862000d18",
   "metadata": {},
   "source": [
    "This makes sense since supply node 2 is closest to demand node 1 with demand 7 and so all 5 units at supply node 2 go to demand node 1 and there is nothing left to move from supply node 2 to demand node 0: $x_{2,1} = 5$ and $x_{2,0}=0$.\n",
    "\n",
    "Then move 2 units form supply node 0 to demand node 1 and the remainder to demand 0: $x_{0,1} = 2$ and $x_{0,0} = 2$.\n",
    "\n",
    "Finally $x_{1,0} = 2$ and $x_{1,1} = 0$."
   ]
  },
  {
   "cell_type": "markdown",
   "id": "d033b80d-5c5b-4c07-861e-484c9c215fce",
   "metadata": {},
   "source": [
    "### Compare with CVXPY\n",
    "\n",
    "Let's do the first example again but using `linprog` and compare."
   ]
  },
  {
   "cell_type": "code",
   "execution_count": 53,
   "id": "5303fd33-b46c-4212-8f3c-50fa9b2c2cd6",
   "metadata": {},
   "outputs": [
    {
     "data": {
      "text/plain": [
       "array([[ 3.,  0.,  0.,  2.,  0.],\n",
       "       [ 6.,  0.,  0.,  0.,  0.],\n",
       "       [ 0.,  0.,  0.,  3.,  0.],\n",
       "       [ 0.,  1.,  3., -0.,  4.]])"
      ]
     },
     "execution_count": 53,
     "metadata": {},
     "output_type": "execute_result"
    }
   ],
   "source": [
    "s_nodes = np.array([(0.,0.),(1.,0.),(0.,1.),(-1.,0.)])\n",
    "s = np.array([5.,6.,3.,8.])\n",
    "d_nodes = np.array([(2.,1.),(-2.,0.),(-1.,2.),(1.,3.),(-1.,-1.)])\n",
    "d = np.array([9.,1.,3.,5.,4.])\n",
    "\n",
    "assert np.sum(s) == np.sum(d)\n",
    "\n",
    "m = len(s)\n",
    "n = len(d)\n",
    "\n",
    "C = np.zeros([m,n])\n",
    "for i in range(m):\n",
    "    for j in range(n):\n",
    "        # Distance from supply node i to demand node j\n",
    "        C[i,j] = np.linalg.norm(d_nodes[j,:] - s_nodes[i,:])\n",
    "\n",
    "A1 = np.kron(np.eye(m),np.ones(n))\n",
    "A2 = np.kron(np.ones(m),np.eye(n))\n",
    "A = np.vstack([A1,A2])\n",
    "\n",
    "c = C.flatten()\n",
    "b = np.hstack([s,d])\n",
    "\n",
    "result = linprog(c,A_eq=A,b_eq=b)\n",
    "\n",
    "result.x.reshape((m,n))"
   ]
  },
  {
   "cell_type": "markdown",
   "id": "3d47184c-8add-4531-93de-c1aa714abd82",
   "metadata": {},
   "source": [
    "Same solution!"
   ]
  }
 ],
 "metadata": {
  "kernelspec": {
   "display_name": "Python 3 (ipykernel)",
   "language": "python",
   "name": "python3"
  },
  "language_info": {
   "codemirror_mode": {
    "name": "ipython",
    "version": 3
   },
   "file_extension": ".py",
   "mimetype": "text/x-python",
   "name": "python",
   "nbconvert_exporter": "python",
   "pygments_lexer": "ipython3",
   "version": "3.10.12"
  }
 },
 "nbformat": 4,
 "nbformat_minor": 5
}
