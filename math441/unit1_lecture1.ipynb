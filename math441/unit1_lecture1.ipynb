{
 "cells": [
  {
   "cell_type": "markdown",
   "id": "f8305698-ab49-42f3-99f1-f9a6641e8a49",
   "metadata": {},
   "source": [
    "# MATH 441 Discrete Optimization Problems\n",
    "\n",
    "* LP Problems in Standard Form\n",
    "* Feasible Solutions\n",
    "* Finding Vertices"
   ]
  },
  {
   "cell_type": "code",
   "execution_count": 2,
   "id": "11fe5806-5392-4173-bb4b-3f0d76d11afb",
   "metadata": {
    "tags": []
   },
   "outputs": [],
   "source": [
    "import numpy as np\n",
    "import scipy.linalg as la\n",
    "import matplotlib.pyplot as plt"
   ]
  },
  {
   "cell_type": "markdown",
   "id": "47d14bae-4d3b-48db-ba92-8cbb3a1e9f50",
   "metadata": {},
   "source": [
    "## LP Problems in Standard Form"
   ]
  },
  {
   "cell_type": "markdown",
   "id": "cb8a14ab-1fc5-498a-b41c-eb619a5c0786",
   "metadata": {},
   "source": [
    "The **standard form** of a linear optimization problem is:\n",
    "\n",
    "$$\n",
    "\\begin{array}{rc}\n",
    "\\text{maximize:} & \\mathbf{c}^T \\mathbf{x} \\\\\n",
    "\\text{subject to:} & A \\mathbf{x} \\leq \\mathbf{b} \\\\\n",
    "& \\mathbf{x} \\geq 0\n",
    "\\end{array}\n",
    "$$\n",
    "\n",
    "where:\n",
    "\n",
    "* $\\mathbf{c} \\in \\mathbb{R}^n$\n",
    "* $\\mathbf{x} \\in \\mathbb{R}^n$\n",
    "* $A$ is a $m \\times n$ matrix\n",
    "* $\\mathbf{b} \\in \\mathbb{R}^m$\n",
    "\n",
    "Note: vector inequality $\\mathbf{u} \\leq \\mathbf{v}$ means $u_i \\leq v_i$ for each $i=0,\\dots,n-1$."
   ]
  },
  {
   "cell_type": "markdown",
   "id": "d53f89c8-7351-437a-9c8b-d8d649e218c4",
   "metadata": {},
   "source": [
    "The matrix equations above can be written explicitly as:\n",
    "\n",
    "$$\n",
    "\\begin{array}{rc}\n",
    "\\text{maximize:} & c_0x_0 + \\cdots + c_{n-1}x_{n-1} \\\\\n",
    "\\text{subject to:} & a_{0,0}x_0 + \\cdots + a_{0,n-1}x_{n-1} \\leq b_0 \\\\\n",
    "& a_{1,0}x_0 + \\cdots + a_{1,n-1}x_{n-1} \\leq b_1 \\\\\n",
    "& \\vdots \\\\\n",
    "& a_{m-1,0}x_0 + \\cdots + a_{m-1,n-1}x_{n-1} \\leq b_{m-1} \\\\\n",
    "& x_0 \\geq 0, \\dots , x_{n-1} \\geq 0\n",
    "\\end{array}\n",
    "$$\n",
    "\n",
    "Note: use 0-indexing as in Python, $\\mathbf{x} = (x_0,x_1,\\dots,x_{n-1})$."
   ]
  },
  {
   "cell_type": "markdown",
   "id": "d006feae-648c-4c8c-947a-7666a43b04a1",
   "metadata": {},
   "source": [
    "## Feasible Solutions\n",
    "\n",
    "Let's recall the basic definitions of LP:\n",
    "\n",
    "* A vector $\\mathbf{x} \\in \\mathbb{R}^n$ is a **feasible solution** if it satisfies the constraints: $A \\mathbf{x} \\leq \\mathbf{b}$ and $\\mathbf{x} \\geq 0$.\n",
    "* A feasible solution $\\mathbf{x} \\in \\mathbb{R}^n$ is **optimal** if $\\mathbf{c}^T \\mathbf{y} \\leq \\mathbf{c}^T \\mathbf{x}$ for all other feasible solutions $\\mathbf{y} \\in \\mathbb{R}^n$.\n",
    "* A linear optimization problem is **infeasible** if there are no feasible solutions.\n",
    "* A linear optimization problem is **unbounded** if the set of feasible solutions is unbounded.\n",
    "* A set $S \\subset \\mathbb{R}^n$ is **convex** if for all $\\mathbf{x},\\mathbf{y} \\in S$ the line connecting $\\mathbf{x}$ and $\\mathbf{y}$ is also contained in $S$.\n",
    "* The set of feasible solutions $S = \\{ \\mathbf{x} \\in \\mathbb{R}^n : A \\mathbf{x} \\leq \\mathbf{b} \\ , \\ \\mathbf{x} \\geq 0 \\}$ is a convex set.\n",
    "* A **polytope** in $\\mathbb{R}^n$ is a bounded set such that the boundary consists of hyperplanes (of dimension n-1).\n",
    "* A **vertex** of a polytope in $\\mathbb{R}^n$ is a point on the boundary which lies in the intersection of $n$ hyperplanes (of dimension n-1) on the boundary.\n",
    "\n",
    "**Theorem.** The set of feasible solutions of a bounded linear optimization problem is a convex polytope and an optimal solution exists at a vertex.\n",
    "\n",
    "**Question**. How do we find all the vertices of the convex polytope of feasible solutions? Why don't we just find the vertices and then compute values $\\mathbf{c}^T \\mathbf{x}$ at vertices to find the optimal solution? Maybe there are too many. How many vertices are there?\n",
    "\n",
    "* There are $n$ decision variables which define constraints $x_j \\geq 0$, $j=1,\\dots,n$\n",
    "* Define $m$ slack variables $a_{i,0}x_0 + \\cdots + a_{i,n-1} x_{n-1} + w_i = b_i$, $w_i \\geq 0$, $i=0,\\dots,m-1$\n",
    "* Set $n$ variables to 0 and solve for the rest to find a vertex\n",
    "* There are (at most) $n+m \\choose n$ vertices"
   ]
  },
  {
   "cell_type": "markdown",
   "id": "c462d03c-43f0-4568-9c0a-a322e5add80b",
   "metadata": {},
   "source": [
    "## Slack Variables\n",
    "\n",
    "Introduce **slack variables** $w_0,\\dots,w_{m-1}$ for each inequality constraint:\n",
    "\n",
    "$$\n",
    "\\begin{array}{rc}\n",
    "\\text{maximize:} & c_0x_0 + \\cdots + c_{n-1}x_{n-1} \\\\\n",
    "\\text{subject to:} & a_{0,0}x_0 + \\cdots + a_{0,n-1}x_{n-1} + w_0 = b_0 \\\\\n",
    "& a_{1,0}x_0 + \\cdots + a_{1,n-1}x_{n-1} + w_1 = b_1 \\\\\n",
    "& \\vdots \\\\\n",
    "& a_{m-1,0}x_0 + \\cdots + a_{m-1,n-1}x_{n-1} + w_{m-1} = b_{m-1} \\\\\n",
    "& x_0 \\geq 0, \\dots , x_{n-1} \\geq 0, w_0 \\geq 0, \\dots , w_{m-1} \\geq 0\n",
    "\\end{array}\n",
    "$$\n",
    "\n",
    "Note: the equality constraints can be written as $A \\mathbf{x} + I \\mathbf{w} = \\mathbf{b}$. Equivalently:\n",
    "\n",
    "$$\n",
    "[ \\ A \\ I \\ ] \\begin{bmatrix} \\mathbf{x} \\\\ \\mathbf{w} \\end{bmatrix} = \\mathbf{b}\n",
    "$$\n",
    "\n",
    "Let's make some obervations:\n",
    "\n",
    "* The equation $x_j = 0$ defines a hyperplane in $\\mathbb{R}^n$ for each $j$\n",
    "* The equation $w_i = 0$ defines the hyperplane $\\langle \\mathbf{a}_i, \\mathbf{x} \\rangle = b_i$ in $\\mathbb{R}^n$ for each $i$ (where $\\mathbf{a}_i$ is the $i$th row of $A$)\n",
    "* The slack variable $w_i$ is the \"distance\" to the constraint $\\langle \\mathbf{a}_i, \\mathbf{x} \\rangle = b_i$\n",
    "* The intersection of $n$ hyperplanes in $\\mathbb{R}^n$ defines a vertex on the boundary of the convex polytope of feasible solutions (or the intersection is empty or outside the feasible set)"
   ]
  },
  {
   "cell_type": "markdown",
   "id": "378fa2f0-db08-4e74-9f66-094eafef0fd9",
   "metadata": {},
   "source": [
    "## Basic/Nonbasic Variables\n",
    " \n",
    " *What's the point?* An optimal solution exists at a vertex therefore we want to systematically identify vertices:\n",
    "\n",
    "* Choose any $m$ variables from the list $x_0,\\dots,x_{n-1},w_0,\\dots,w_{m-1}$ and call them **basic variables**\n",
    "* The remaining $n$ variables are called **nonbasic variables**\n",
    "* Set all nonbasic variables to 0 and solve for *positive* values of basic variables (if possible)\n",
    "* The result $\\mathbf{x} = (x_0,\\dots,x_{n-1})^T$ is a vertex of the convex polytope of feasible solutions"
   ]
  },
  {
   "cell_type": "markdown",
   "id": "9cfd06ee-70b2-40d5-ae50-411492585aec",
   "metadata": {},
   "source": [
    "**Example.** Find all vertices of the convex polytope of feasible solutions of the linear optimization problem defined by\n",
    "\n",
    "$$\n",
    "A = \\left[ \\begin{array}{rr} -1 & 1 \\\\ 2 & 1 \\\\ 1 & 0 \\end{array} \\right]\n",
    "\\hspace{10mm}\n",
    "\\mathbf{b} = \\begin{bmatrix} 2 \\\\ 5 \\\\ 2 \\end{bmatrix}\n",
    "\\hspace{10mm}\n",
    "\\mathbf{c} = \\begin{bmatrix} 1 \\\\ 1 \\end{bmatrix}\n",
    "$$\n",
    "\n",
    "*Solution.* There are 5 variables in total: $x_0,x_1,w_0,w_1,w_2$. Setup the matrix $[A \\, I]$ and solve for basic variables."
   ]
  },
  {
   "cell_type": "code",
   "execution_count": 3,
   "id": "03c9f55b-f50a-4a92-bc82-909afdd7e899",
   "metadata": {
    "tags": []
   },
   "outputs": [
    {
     "name": "stdout",
     "output_type": "stream",
     "text": [
      "[[-1.  1.  1.  0.  0.]\n",
      " [ 2.  1.  0.  1.  0.]\n",
      " [ 1.  0.  0.  0.  1.]]\n"
     ]
    }
   ],
   "source": [
    "A = np.array([[-1.,1.],[2.,1.],[1.,0.]])\n",
    "I = np.eye(3)\n",
    "T = np.hstack([A,I])\n",
    "print(T)"
   ]
  },
  {
   "cell_type": "markdown",
   "id": "a77afbb1-4c32-4e6a-a67a-3215ec0dbdbe",
   "metadata": {},
   "source": [
    "Define the right hand side vector $\\mathbf{b}$."
   ]
  },
  {
   "cell_type": "code",
   "execution_count": 4,
   "id": "148e2437-8b32-47b0-a072-07bd06f1634d",
   "metadata": {
    "tags": []
   },
   "outputs": [
    {
     "name": "stdout",
     "output_type": "stream",
     "text": [
      "[[2.]\n",
      " [5.]\n",
      " [2.]]\n"
     ]
    }
   ],
   "source": [
    "b = np.array([[2.],[5.],[2.]])\n",
    "print(b)"
   ]
  },
  {
   "cell_type": "markdown",
   "id": "534c8a1e-dc86-4fb8-bee3-c9811961bec4",
   "metadata": {},
   "source": [
    "The syntax `T[:,indices]` will select the columns of matrix $T$ given a list of column indices. For example, select columns 0, 1 and 4:"
   ]
  },
  {
   "cell_type": "code",
   "execution_count": 5,
   "id": "1e39eb46-5ce0-4e20-8e3c-f797949229d6",
   "metadata": {
    "tags": []
   },
   "outputs": [
    {
     "data": {
      "text/plain": [
       "array([[-1.,  1.,  0.],\n",
       "       [ 2.,  1.,  0.],\n",
       "       [ 1.,  0.,  1.]])"
      ]
     },
     "execution_count": 5,
     "metadata": {},
     "output_type": "execute_result"
    }
   ],
   "source": [
    "T[:,[0,1,4]]"
   ]
  },
  {
   "cell_type": "markdown",
   "id": "21eebb53-8882-43a1-9fdf-1bb790c48464",
   "metadata": {},
   "source": [
    "There are $n=2$ decision variables and $m=3$ constraints therefore there are ${n+m \\choose m} = {5 \\choose 3} = 10$ ways to choose $m$ basic variables."
   ]
  },
  {
   "cell_type": "code",
   "execution_count": 6,
   "id": "6a78bd53-f9b4-46b8-af63-1250131c85f0",
   "metadata": {},
   "outputs": [
    {
     "name": "stdout",
     "output_type": "stream",
     "text": [
      "[0. 0. 2. 5. 2.]\n"
     ]
    }
   ],
   "source": [
    "basic = [2,3,4]\n",
    "u = la.solve(T[:,basic],b)\n",
    "X = np.zeros(5)\n",
    "X[basic] = u.flatten()\n",
    "print(X)"
   ]
  },
  {
   "cell_type": "markdown",
   "id": "21a49609-a364-4016-9d7e-eece0c6ed951",
   "metadata": {},
   "source": [
    "This defines a vertex $\\mathbf{x}=(0,0)$."
   ]
  },
  {
   "cell_type": "code",
   "execution_count": 7,
   "id": "6e2dee8d-5142-4463-b253-325198f93871",
   "metadata": {},
   "outputs": [
    {
     "name": "stdout",
     "output_type": "stream",
     "text": [
      "[0. 2. 0. 3. 2.]\n"
     ]
    }
   ],
   "source": [
    "basic = [1,3,4]\n",
    "u = la.solve(T[:,basic],b)\n",
    "X = np.zeros(5)\n",
    "X[basic] = u.flatten()\n",
    "print(X)"
   ]
  },
  {
   "cell_type": "markdown",
   "id": "ae4afbb5-0e70-4f2f-bbbe-19f5d85f52d5",
   "metadata": {},
   "source": [
    "This defines a vertex $\\mathbf{x}=(0,2)$."
   ]
  },
  {
   "cell_type": "code",
   "execution_count": 10,
   "id": "e707318d-8b02-4521-b1ca-475c5f079ccc",
   "metadata": {},
   "outputs": [
    {
     "name": "stdout",
     "output_type": "stream",
     "text": [
      "[ 0.  5. -3.  0.  2.]\n"
     ]
    }
   ],
   "source": [
    "basic = [1,2,4]\n",
    "u = la.solve(T[:,basic],b)\n",
    "X = np.zeros(5)\n",
    "X[basic] = u.flatten()\n",
    "print(X)"
   ]
  },
  {
   "cell_type": "markdown",
   "id": "247a7b47-bdf5-403c-b28e-0534fd66e80b",
   "metadata": {},
   "source": [
    "Negative value -3 means the point $\\mathbf{x}=(0,5)$ is not feasible."
   ]
  },
  {
   "cell_type": "code",
   "execution_count": 11,
   "id": "6e9ae190-1e22-4ce0-a720-cb47e706a0b1",
   "metadata": {},
   "outputs": [
    {
     "name": "stdout",
     "output_type": "stream",
     "text": [
      "[[1. 1. 0.]\n",
      " [1. 0. 1.]\n",
      " [0. 0. 0.]]\n"
     ]
    }
   ],
   "source": [
    "basic = [1,2,3]\n",
    "print(T[:,basic])\n",
    "#u = la.solve(T[:,basic],b)\n",
    "#X = np.zeros(5)\n",
    "#X[basic] = u.flatten()\n",
    "#print(X)"
   ]
  },
  {
   "cell_type": "markdown",
   "id": "d7ffdb02-e266-4a2f-bdf8-3952a9de5b81",
   "metadata": {},
   "source": [
    "No solution therefore constraints 0 and 4 do not intersect."
   ]
  },
  {
   "cell_type": "code",
   "execution_count": 12,
   "id": "664581b4-71e7-45bc-b813-a0fecfd1e4fd",
   "metadata": {},
   "outputs": [
    {
     "name": "stdout",
     "output_type": "stream",
     "text": [
      "[-2.  0.  0.  9.  4.]\n"
     ]
    }
   ],
   "source": [
    "basic = [0,3,4]\n",
    "u = la.solve(T[:,basic],b)\n",
    "X = np.zeros(5)\n",
    "X[basic] = u.flatten()\n",
    "print(X)"
   ]
  },
  {
   "cell_type": "markdown",
   "id": "bba737eb-40c7-42cd-a10c-abcafad5c1b7",
   "metadata": {},
   "source": [
    "Negative value means the point is not feasible."
   ]
  },
  {
   "cell_type": "code",
   "execution_count": 13,
   "id": "6f71793e-c51f-42d0-8830-6b90401432b2",
   "metadata": {
    "tags": []
   },
   "outputs": [
    {
     "name": "stdout",
     "output_type": "stream",
     "text": [
      "[ 2.5  0.   4.5  0.  -0.5]\n"
     ]
    }
   ],
   "source": [
    "basic = [0,2,4]\n",
    "u = la.solve(T[:,basic],b)\n",
    "X = np.zeros(5)\n",
    "X[basic] = u.flatten()\n",
    "print(X)"
   ]
  },
  {
   "cell_type": "markdown",
   "id": "8dbba0f6-ec36-4cb0-8639-99de151b7047",
   "metadata": {},
   "source": [
    "Negative value means the point is not feasible."
   ]
  },
  {
   "cell_type": "code",
   "execution_count": 14,
   "id": "65bfae72-40fb-4b05-afe7-002ed999bd27",
   "metadata": {},
   "outputs": [
    {
     "name": "stdout",
     "output_type": "stream",
     "text": [
      "[2. 0. 4. 1. 0.]\n"
     ]
    }
   ],
   "source": [
    "basic = [0,2,3]\n",
    "u = la.solve(T[:,basic],b)\n",
    "X = np.zeros(5)\n",
    "X[basic] = u.flatten()\n",
    "print(X)"
   ]
  },
  {
   "cell_type": "markdown",
   "id": "ff6822b5-4694-42ab-8b33-7ff774ab6824",
   "metadata": {},
   "source": [
    "This defines a vertex $\\mathbf{x}=(2,0)$."
   ]
  },
  {
   "cell_type": "code",
   "execution_count": 15,
   "id": "4d43fb8d-5597-4fe1-ad5c-d1d5f2bea554",
   "metadata": {},
   "outputs": [
    {
     "name": "stdout",
     "output_type": "stream",
     "text": [
      "[1. 3. 0. 0. 1.]\n"
     ]
    }
   ],
   "source": [
    "basic = [0,1,4]\n",
    "u = la.solve(T[:,basic],b)\n",
    "X = np.zeros(5)\n",
    "X[basic] = u.flatten()\n",
    "print(X)"
   ]
  },
  {
   "cell_type": "markdown",
   "id": "9cb9fd85-f8f2-415f-b243-825d967a7932",
   "metadata": {},
   "source": [
    "This defines a vertex $\\mathbf{x}=(1,3)$."
   ]
  },
  {
   "cell_type": "code",
   "execution_count": 16,
   "id": "8120cabc-1b02-45b7-b1da-b02a8da2d29a",
   "metadata": {},
   "outputs": [
    {
     "name": "stdout",
     "output_type": "stream",
     "text": [
      "[ 2.  4.  0. -3.  0.]\n"
     ]
    }
   ],
   "source": [
    "basic = [0,1,3]\n",
    "u = la.solve(T[:,basic],b)\n",
    "X = np.zeros(5)\n",
    "X[basic] = u.flatten()\n",
    "print(X)"
   ]
  },
  {
   "cell_type": "markdown",
   "id": "686dda12-e513-4087-bd51-9794fc1b4a38",
   "metadata": {},
   "source": [
    "Negative value means the point is not feasible."
   ]
  },
  {
   "cell_type": "code",
   "execution_count": 17,
   "id": "db18f41c-d679-4c9f-b397-90e3232dfbf8",
   "metadata": {},
   "outputs": [
    {
     "name": "stdout",
     "output_type": "stream",
     "text": [
      "[2. 1. 3. 0. 0.]\n"
     ]
    }
   ],
   "source": [
    "basic = [0,1,2]\n",
    "u = la.solve(T[:,basic],b)\n",
    "X = np.zeros(5)\n",
    "X[basic] = u.flatten()\n",
    "print(X)"
   ]
  },
  {
   "cell_type": "markdown",
   "id": "e83b4934-690b-4d29-a350-e7526616e39c",
   "metadata": {},
   "source": [
    "This defines a vertex $\\mathbf{x}=(2,1)$."
   ]
  },
  {
   "cell_type": "markdown",
   "id": "94e2b06e-aedb-4b35-ba26-796eb1ace43a",
   "metadata": {},
   "source": [
    "The vertices of the convex polytope are (0,0), (0,2), (2,0), (1,3) and (2,1). Use `plt.fill` to plot the polytope. Note that we have to order the vertices clockwise (or counterclockwise) for `plt.fill` to fill the region properly."
   ]
  },
  {
   "cell_type": "code",
   "execution_count": 18,
   "id": "a8027867-4046-45c5-9b14-39c1c669ad85",
   "metadata": {},
   "outputs": [
    {
     "data": {
      "image/png": "[encoded data removed]",
      "text/plain": [
       "<Figure size 640x480 with 1 Axes>"
      ]
     },
     "metadata": {},
     "output_type": "display_data"
    }
   ],
   "source": [
    "xcoord = [0,0,1,2,2]\n",
    "ycoord = [0,2,3,1,0]\n",
    "plt.fill(xcoord,ycoord)\n",
    "plt.show()"
   ]
  },
  {
   "cell_type": "markdown",
   "id": "dbf9148d-bc20-4067-846f-39356d6e03cd",
   "metadata": {},
   "source": [
    "## Simplex Method \n",
    "\n",
    "Let $A$ be an $m \\times n$ matrix, $\\mathbf{b} \\in \\mathbb{R}^m$ and $\\mathbf{c} \\in \\mathbb{R}^n$. Consider the linear optimization problem: maximize $\\mathbf{c}^T \\mathbf{x}$ subject to $A \\mathbf{x} \\leq \\mathbf{b}$, $\\mathbf{x} \\geq 0$.\n",
    "\n",
    "Introduce slack variables $w_0,\\dots,w_{m-1}$ for each constraint. The **simplex algorithm** is:\n",
    "\n",
    "* Phase I: Find any vertex\n",
    "    * If $\\mathbf{b} \\geq 0$ then choose $\\mathbf{x} = 0$.\n",
    "    * Otherwise, solve initialization problem.\n",
    "* Phase II: Move from vertex to vertex to increase the value of objective function\n",
    "    * Identify entering and leaving variables.\n",
    "    * Perform pivot operation.\n",
    "    * Repeat!"
   ]
  },
  {
   "cell_type": "markdown",
   "id": "308a4048-5484-44b5-9020-f271866264ae",
   "metadata": {},
   "source": [
    "## Pivot Operation\n",
    "\n",
    "Assume for now that $\\mathbf{b} \\geq 0$. Construct the initial **tableau** matrix:\n",
    "\n",
    "$$\n",
    "T = \n",
    "\\begin{bmatrix}\n",
    "A & I & \\mathbf{b} \\\\\n",
    "\\mathbf{c}^T & 0 & 0\n",
    "\\end{bmatrix}\n",
    "$$\n",
    "\n",
    "My definition is different from other sources. I put $\\mathbf{c}^T$ in the bottom row because I want the row indices of $T$ to match the indices of the slack variables. Like row 0 of $T$ corresponds to $w_0$, row 1 corresponds to $w_1$, etc.\n",
    "\n",
    "The **basic variables** correspond to the columns of $T$ which are columns of the identity matrix (in the first $m$ rows). In the initial tableau, the slack variables $w_0,\\dots,w_{m-1}$ are the basic variables and the decision variables $x_0,\\dots,x_{n-1}$ are the nonbasic variables. The corresponding vertex is $\\mathbf{x}=0$.\n",
    "\n",
    "We want to move to an adjacent vertex by selecting a new basic variable (the **entering variable**) and removing an existing basic variable (the **leaving variable**).\n",
    "\n",
    "We choose the entering and leaving variables such that:\n",
    "\n",
    "* The value of the objective function increases.\n",
    "* The new list of basic variables defines a vertex. In other words, the values of the basic variables (with nonbasic variables set to 0) are all *positive*.\n",
    "\n",
    "How do we do this? Choose the entering variable such that it has a positive coefficient in the objective function. That is, choose a column with a positive value in the last row. Increasing the value of this variable will increase the value of the objective function.\n",
    "\n",
    "Choose the leaving variable such that the values of the basic variables (with nonbasic variables set to 0) are all positive. To do this, let $k$ be the column index of the entering variable. Look at the ratios\n",
    "\n",
    "$$\n",
    "\\frac{t_{i,n+m}}{t_{i,k}} \\ , \\ i = 0,\\dots,m-1\n",
    "$$\n",
    "\n",
    "where $t_{i,n+m}$ are the entries in the last column of $T$, and $t_{i,k}$ are the entries in the $k$th column of $T$. Select row $i$ such that this ratio is postive and minimal. (Exercise: **Why?!**)\n",
    "\n",
    "Let $k$ be the column index of the entering variable. Let $\\ell$ be the row index of the leaving variable. The pivot operation applies row operations to the tableau $T$ such that column $k$ has 1 in row $\\ell$ and all other entries 0. The last column of the tableau should always have positive entries in rows $0,\\dots,m-1$.\n",
    "\n",
    "Write a function called `tableau` which creates the matrix\n",
    "\n",
    "$$\n",
    "T = \n",
    "\\begin{bmatrix}\n",
    "A & I & \\mathbf{b} \\\\\n",
    "\\mathbf{c}^T & 0 & 0\n",
    "\\end{bmatrix}\n",
    "$$"
   ]
  },
  {
   "cell_type": "code",
   "execution_count": 27,
   "id": "d233fe44-3bc1-4f19-87fe-ae2eeb2f4031",
   "metadata": {
    "tags": []
   },
   "outputs": [],
   "source": [
    "def tableau(A,b,c):\n",
    "    m,n = A.shape\n",
    "    I = np.eye(m)\n",
    "    T = np.vstack([ np.hstack([A,I,b.reshape((m,1))]) , np.hstack([c.flatten(),np.zeros(m+1)]) ])\n",
    "    return T"
   ]
  },
  {
   "cell_type": "markdown",
   "id": "9293feac-4118-470b-bb98-9f7d9b265099",
   "metadata": {},
   "source": [
    "Write a function called `pivot` which takes a tableau matrix $T$ and indices `k` and `l`. The function performs the pivot operation on $T$ and returns the new tableau matrix."
   ]
  },
  {
   "cell_type": "code",
   "execution_count": 28,
   "id": "4af43477-0549-48ec-a153-85eca407d9ea",
   "metadata": {},
   "outputs": [],
   "source": [
    "def pivot(T,k,l):\n",
    "    E = np.eye(T.shape[0])\n",
    "    E[:,l] = -T[:,k]/T[l,k]\n",
    "    E[l,l] = 1/T[l,k]\n",
    "    return E@T"
   ]
  },
  {
   "cell_type": "markdown",
   "id": "10561572-e845-4a1a-ade0-06f2dbe77f87",
   "metadata": {},
   "source": [
    "**Example.** (Vanderbei: Exercise 2.1)\n",
    "\n",
    "$$\n",
    "A = \\begin{bmatrix} 2 & 1 & 1 & 3 \\\\ 1 & 3 & 1 & 2 \\end{bmatrix}\n",
    "\\hspace{1in}\n",
    "\\mathbf{b} = \\begin{bmatrix} 5 \\\\ 3 \\end{bmatrix}\n",
    "\\hspace{1in}\n",
    "\\mathbf{c} = \\begin{bmatrix} 6 \\\\ 8 \\\\ 5 \\\\ 9 \\end{bmatrix}\n",
    "$$"
   ]
  },
  {
   "cell_type": "code",
   "execution_count": 30,
   "id": "674be33a-11b7-4493-81d1-380c9fd2867c",
   "metadata": {},
   "outputs": [
    {
     "name": "stdout",
     "output_type": "stream",
     "text": [
      "[[2. 1. 1. 3. 1. 0. 5.]\n",
      " [1. 3. 1. 2. 0. 1. 3.]\n",
      " [6. 8. 5. 9. 0. 0. 0.]]\n"
     ]
    }
   ],
   "source": [
    "A = np.array([[2.,1.,1.,3.],[1.,3.,1.,2.]])\n",
    "c = np.array([6.,8.,5.,9.])\n",
    "b = np.array([5.,3.])\n",
    "T = tableau(A,b,c)\n",
    "print(T)"
   ]
  },
  {
   "cell_type": "markdown",
   "id": "7b618464-ef89-431d-89aa-bf693c0a1474",
   "metadata": {},
   "source": [
    "We see that column $k=3$ has the largest positive entry in the last row. Look at the ratios $\\frac{t_{0,6}}{t_{0,3}}=5/3$ and $\\frac{t_{1,6}}{t_{1,3}}=3/2$. Since the ratio for $i=1$ is positive and minimal we choose $\\ell=1$."
   ]
  },
  {
   "cell_type": "code",
   "execution_count": 31,
   "id": "1622e908-81ca-429d-b20a-d8d4e05c6e96",
   "metadata": {},
   "outputs": [
    {
     "name": "stdout",
     "output_type": "stream",
     "text": [
      "[[  0.5  -3.5  -0.5   0.    1.   -1.5   0.5]\n",
      " [  0.5   1.5   0.5   1.    0.    0.5   1.5]\n",
      " [  1.5  -5.5   0.5   0.    0.   -4.5 -13.5]]\n"
     ]
    }
   ],
   "source": [
    "T1 = pivot(T,3,1)\n",
    "print(T1)"
   ]
  },
  {
   "cell_type": "markdown",
   "id": "a495a586-fd2b-4405-8033-c95026d94cfb",
   "metadata": {},
   "source": [
    "Repeat!"
   ]
  },
  {
   "cell_type": "code",
   "execution_count": 32,
   "id": "94c05ce4-49ca-46b0-890e-6213b45c7c3d",
   "metadata": {},
   "outputs": [
    {
     "name": "stdout",
     "output_type": "stream",
     "text": [
      "[[  1.  -7.  -1.   0.   2.  -3.   1.]\n",
      " [  0.   5.   1.   1.  -1.   2.   1.]\n",
      " [  0.   5.   2.   0.  -3.   0. -15.]]\n"
     ]
    }
   ],
   "source": [
    "T2 = pivot(T1,0,0)\n",
    "print(T2)"
   ]
  },
  {
   "cell_type": "code",
   "execution_count": 35,
   "id": "f485aa79-b918-40b9-87f1-8747c0e727b6",
   "metadata": {},
   "outputs": [
    {
     "name": "stdout",
     "output_type": "stream",
     "text": [
      "[[  1.   -0.    0.4   1.4   0.6  -0.2   2.4]\n",
      " [  0.    1.    0.2   0.2  -0.2   0.4   0.2]\n",
      " [  0.    0.    1.   -1.   -2.   -2.  -16. ]]\n"
     ]
    }
   ],
   "source": [
    "T3 = pivot(T2,1,1)\n",
    "print(T3.round(3))"
   ]
  },
  {
   "cell_type": "code",
   "execution_count": 36,
   "id": "2f02725b-35b7-4ea7-8e14-7edfc35b5fd2",
   "metadata": {},
   "outputs": [
    {
     "name": "stdout",
     "output_type": "stream",
     "text": [
      "[[  1.  -2.  -0.   1.   1.  -1.   2.]\n",
      " [  0.   5.   1.   1.  -1.   2.   1.]\n",
      " [  0.  -5.   0.  -2.  -1.  -4. -17.]]\n"
     ]
    }
   ],
   "source": [
    "T4 = pivot(T3,2,1)\n",
    "print(T4.round(3))"
   ]
  },
  {
   "cell_type": "markdown",
   "id": "749b2d72-4fae-4147-bd0c-dea8791a5514",
   "metadata": {},
   "source": [
    "All the entries in the bottom row are negative therefore we have arrived! The optimal value is $17$ and occurs at $\\mathbf{x} = (2,0,1,0)$."
   ]
  },
  {
   "cell_type": "markdown",
   "id": "f2ed046a-ec0b-40c6-ac08-e49fea8a0c00",
   "metadata": {},
   "source": [
    "**Question.** Why does the optimal value appear in the last row and column of the tableau?"
   ]
  },
  {
   "cell_type": "markdown",
   "id": "07442027-e18f-48a1-9e5b-d58eab4cf262",
   "metadata": {},
   "source": [
    "**Example.** (Vanderbei: Exercise 2.9) Solve the following problem:\n",
    "\n",
    "$$\n",
    "A = \\left[ \\begin{array}{rrr} 0 & 2 & 3 \\\\ 1 & 1 & 2 \\\\ 1 & 2 & 3 \\\\  \\end{array} \\right]\n",
    "\\hspace{1in}\n",
    "\\mathbf{b} = \\left[ \\begin{array}{r} 5 \\\\ 4 \\\\ 7 \\end{array} \\right]\n",
    "\\hspace{1in}\n",
    "\\mathbf{c} = \\left[ \\begin{array}{r} 2 \\\\ 3 \\\\ 4 \\end{array} \\right]\n",
    "$$"
   ]
  },
  {
   "cell_type": "code",
   "execution_count": 38,
   "id": "6dbbb667-bd83-4c91-b5a1-fc5c0737dabb",
   "metadata": {
    "tags": []
   },
   "outputs": [],
   "source": [
    "A = np.array([[0,2,3],[1,1,2],[1,2,3]])\n",
    "b = np.array([5,4,7])\n",
    "c = np.array([2,3,4])\n",
    "T = tableau(A,b,c)"
   ]
  },
  {
   "cell_type": "code",
   "execution_count": 39,
   "id": "52debe9a-e951-4b3d-bb2e-083e12e1b266",
   "metadata": {
    "tags": []
   },
   "outputs": [
    {
     "data": {
      "text/plain": [
       "array([[0., 2., 3., 1., 0., 0., 5.],\n",
       "       [1., 1., 2., 0., 1., 0., 4.],\n",
       "       [1., 2., 3., 0., 0., 1., 7.],\n",
       "       [2., 3., 4., 0., 0., 0., 0.]])"
      ]
     },
     "execution_count": 39,
     "metadata": {},
     "output_type": "execute_result"
    }
   ],
   "source": [
    "T"
   ]
  },
  {
   "cell_type": "code",
   "execution_count": 40,
   "id": "5072ab40-25b3-4a93-ab99-4c9aaa31796c",
   "metadata": {
    "tags": []
   },
   "outputs": [
    {
     "data": {
      "text/plain": [
       "array([[ 0.  ,  0.67,  1.  ,  0.33,  0.  ,  0.  ,  1.67],\n",
       "       [ 1.  , -0.33,  0.  , -0.67,  1.  ,  0.  ,  0.67],\n",
       "       [ 1.  ,  0.  ,  0.  , -1.  ,  0.  ,  1.  ,  2.  ],\n",
       "       [ 2.  ,  0.33,  0.  , -1.33,  0.  ,  0.  , -6.67]])"
      ]
     },
     "execution_count": 40,
     "metadata": {},
     "output_type": "execute_result"
    }
   ],
   "source": [
    "T1 = pivot(T,2,0)\n",
    "T1.round(2)"
   ]
  },
  {
   "cell_type": "code",
   "execution_count": 41,
   "id": "bf30fd0f-b23f-46fc-8d12-256df73297d1",
   "metadata": {
    "tags": []
   },
   "outputs": [
    {
     "data": {
      "text/plain": [
       "array([[ 0.  ,  0.67,  1.  ,  0.33,  0.  ,  0.  ,  1.67],\n",
       "       [ 1.  , -0.33,  0.  , -0.67,  1.  ,  0.  ,  0.67],\n",
       "       [ 0.  ,  0.33,  0.  , -0.33, -1.  ,  1.  ,  1.33],\n",
       "       [ 0.  ,  1.  ,  0.  ,  0.  , -2.  ,  0.  , -8.  ]])"
      ]
     },
     "execution_count": 41,
     "metadata": {},
     "output_type": "execute_result"
    }
   ],
   "source": [
    "T2 = pivot(T1,0,1)\n",
    "T2.round(2)"
   ]
  },
  {
   "cell_type": "code",
   "execution_count": 42,
   "id": "5296c8f7-a91a-46a7-ba3d-89ade8639e46",
   "metadata": {
    "tags": []
   },
   "outputs": [
    {
     "data": {
      "text/plain": [
       "array([[  0. ,   1. ,   1.5,   0.5,   0. ,   0. ,   2.5],\n",
       "       [  1. ,   0. ,   0.5,  -0.5,   1. ,   0. ,   1.5],\n",
       "       [  0. ,   0. ,  -0.5,  -0.5,  -1. ,   1. ,   0.5],\n",
       "       [  0. ,   0. ,  -1.5,  -0.5,  -2. ,   0. , -10.5]])"
      ]
     },
     "execution_count": 42,
     "metadata": {},
     "output_type": "execute_result"
    }
   ],
   "source": [
    "T3 = pivot(T2,1,0)\n",
    "T3.round(2)"
   ]
  },
  {
   "cell_type": "markdown",
   "id": "51de94c5-9271-4779-93fe-af43777eb0e5",
   "metadata": {},
   "source": [
    "Optimial value $10.5$ occurs at $\\mathbf{x} = (1.5,2.5,0.0)$."
   ]
  },
  {
   "cell_type": "markdown",
   "id": "f06b9fd2-5e1e-445f-98ee-6c73a0ee51a3",
   "metadata": {},
   "source": [
    "## SciPy Solver\n",
    "\n",
    "[SciPy](https://scipy.org) is a library of Python packages for scientific computing. The subackage `scipy.optimize` includes the function `linprog` to compute solutions of linear optimization problems. See the [SciPy tutorial on optimization](https://docs.scipy.org/doc/scipy/tutorial/optimize.html)."
   ]
  },
  {
   "cell_type": "code",
   "execution_count": 44,
   "id": "9556cf10-b8d9-4dea-9d74-69d406e4a1ea",
   "metadata": {},
   "outputs": [],
   "source": [
    "from scipy.optimize import linprog"
   ]
  },
  {
   "cell_type": "markdown",
   "id": "94e9bda5-8a31-471b-8215-376c2044c08c",
   "metadata": {},
   "source": [
    "Note that the function `linprog` assumes the objective function is to be **minimized** therefore we should enter our objective functions as $-\\mathbf{c}$."
   ]
  },
  {
   "cell_type": "markdown",
   "id": "bdea7252-0bb7-4ed1-b75a-4de9848dd6ae",
   "metadata": {},
   "source": [
    "**Exercise.** Compute the solutions of the examples above."
   ]
  },
  {
   "cell_type": "code",
   "execution_count": 45,
   "id": "628681d9-1a19-4d17-8561-1696120cee09",
   "metadata": {
    "tags": []
   },
   "outputs": [],
   "source": [
    "A = np.array([[0,2,3],[1,1,2],[1,2,3]])\n",
    "b = np.array([5,4,7])\n",
    "c = np.array([2,3,4])"
   ]
  },
  {
   "cell_type": "code",
   "execution_count": 51,
   "id": "8f9dbc64-59a0-46a2-97a8-4cf2c731da45",
   "metadata": {
    "tags": []
   },
   "outputs": [],
   "source": [
    "result = linprog(-c,A,b)"
   ]
  },
  {
   "cell_type": "code",
   "execution_count": 52,
   "id": "9cc28527-a2fc-49aa-9fed-a953f8b03e38",
   "metadata": {
    "tags": []
   },
   "outputs": [
    {
     "data": {
      "text/plain": [
       "scipy.optimize._optimize.OptimizeResult"
      ]
     },
     "execution_count": 52,
     "metadata": {},
     "output_type": "execute_result"
    }
   ],
   "source": [
    "type(result)"
   ]
  },
  {
   "cell_type": "code",
   "execution_count": 53,
   "id": "4d1cb08f-2135-4159-baf6-b11d8a74f520",
   "metadata": {
    "tags": []
   },
   "outputs": [
    {
     "data": {
      "text/plain": [
       "array([0. , 0.5, 1.5])"
      ]
     },
     "execution_count": 53,
     "metadata": {},
     "output_type": "execute_result"
    }
   ],
   "source": [
    "result.x"
   ]
  },
  {
   "cell_type": "code",
   "execution_count": 54,
   "id": "84d5bec3-ee87-4961-825b-116dede01b04",
   "metadata": {
    "tags": []
   },
   "outputs": [
    {
     "data": {
      "text/plain": [
       "        message: Optimization terminated successfully. (HiGHS Status 7: Optimal)\n",
       "        success: True\n",
       "         status: 0\n",
       "            fun: 3.0\n",
       "              x: [ 0.000e+00  5.000e-01  1.500e+00]\n",
       "            nit: 3\n",
       "          lower:  residual: [ 0.000e+00  5.000e-01  1.500e+00]\n",
       "                 marginals: [ 1.000e+00  0.000e+00  0.000e+00]\n",
       "          upper:  residual: [       inf        inf        inf]\n",
       "                 marginals: [ 0.000e+00  0.000e+00  0.000e+00]\n",
       "          eqlin:  residual: []\n",
       "                 marginals: []\n",
       "        ineqlin:  residual: [ 0.000e+00  0.000e+00]\n",
       "                 marginals: [-3.000e+00 -3.000e+00]\n",
       " mip_node_count: 0\n",
       " mip_dual_bound: 0.0\n",
       "        mip_gap: 0.0"
      ]
     },
     "execution_count": 54,
     "metadata": {},
     "output_type": "execute_result"
    }
   ],
   "source": [
    "result"
   ]
  },
  {
   "cell_type": "code",
   "execution_count": 55,
   "id": "a62fabf1-4c64-4030-a4e6-92c9b02078c2",
   "metadata": {
    "tags": []
   },
   "outputs": [
    {
     "data": {
      "text/plain": [
       "        message: Optimization terminated successfully. (HiGHS Status 7: Optimal)\n",
       "        success: True\n",
       "         status: 0\n",
       "            fun: 3.0\n",
       "              x: [ 0.000e+00  5.000e-01  1.500e+00]\n",
       "            nit: 3\n",
       "          lower:  residual: [ 0.000e+00  5.000e-01  1.500e+00]\n",
       "                 marginals: [ 1.000e+00  0.000e+00  0.000e+00]\n",
       "          upper:  residual: [       inf        inf        inf]\n",
       "                 marginals: [ 0.000e+00  0.000e+00  0.000e+00]\n",
       "          eqlin:  residual: []\n",
       "                 marginals: []\n",
       "        ineqlin:  residual: [ 0.000e+00  0.000e+00]\n",
       "                 marginals: [-3.000e+00 -3.000e+00]\n",
       " mip_node_count: 0\n",
       " mip_dual_bound: 0.0\n",
       "        mip_gap: 0.0"
      ]
     },
     "execution_count": 55,
     "metadata": {},
     "output_type": "execute_result"
    }
   ],
   "source": [
    "A = np.array([[-1,-1,-1],[2,-1,1]])\n",
    "b = np.array([-2,1])\n",
    "c = np.array([2,-6,0])\n",
    "result = linprog(-c,A,b)\n",
    "result"
   ]
  },
  {
   "cell_type": "markdown",
   "id": "abd951e1-fa6e-4063-a1fc-36a86aab33c6",
   "metadata": {},
   "source": [
    "**Exercise.** Compute solutions to random examples."
   ]
  },
  {
   "cell_type": "code",
   "execution_count": null,
   "id": "481673d2-2da7-4884-b7dd-ac01b442eec2",
   "metadata": {},
   "outputs": [],
   "source": [
    "m,n = 50,200\n",
    "A = np.random.randint(0,2,(m,n))\n",
    "b = np.random.randint(1,50,(m,1))\n",
    "c = np.random.rand(n)\n",
    "\n",
    "result = linprog(-c,A,b)\n",
    "\n",
    "print(results.x)"
   ]
  }
 ],
 "metadata": {
  "kernelspec": {
   "display_name": "Python 3 (ipykernel)",
   "language": "python",
   "name": "python3"
  },
  "language_info": {
   "codemirror_mode": {
    "name": "ipython",
    "version": 3
   },
   "file_extension": ".py",
   "mimetype": "text/x-python",
   "name": "python",
   "nbconvert_exporter": "python",
   "pygments_lexer": "ipython3",
   "version": "3.10.12"
  }
 },
 "nbformat": 4,
 "nbformat_minor": 5
}
