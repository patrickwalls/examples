{
 "cells": [
  {
   "cell_type": "markdown",
   "id": "97cc84dc-ff8e-42cf-8a3d-e6b1ec91dc5b",
   "metadata": {
    "deletable": false,
    "editable": false,
    "nbgrader": {
     "cell_type": "markdown",
     "checksum": "fc43208af6aa77ac8c831bcc5972548f",
     "grade": false,
     "grade_id": "cell-7fa8d868baad336c",
     "locked": true,
     "schema_version": 3,
     "solution": false,
     "task": false
    },
    "tags": []
   },
   "source": [
    "# MATH 257/316 Python Assignment 2\n",
    "\n",
    "* See [Python for UBC Math](https://ubcmath.github.io/python/) for an introduction to Python and Jupyter\n",
    "* See [MATH 316 Jupyter Notebooks](https://ubcmath.github.io/MATH316/) to see more examples\n",
    "* Run the tests to verify your solutions\n",
    "* There are **hidden tests** therefore your solutions may not be entirely correct even if they pass the tests below\n",
    "* Submit your `.ipynb` notebook file to Canvas (download from Syzygy to your machine and upload to Canvas)"
   ]
  },
  {
   "cell_type": "code",
   "execution_count": null,
   "id": "84925f49-7a50-4b90-aabb-e0e66831075f",
   "metadata": {
    "deletable": false,
    "editable": false,
    "nbgrader": {
     "cell_type": "code",
     "checksum": "2f9e16cf74360104d2ac3a0860c2577b",
     "grade": false,
     "grade_id": "cell-4b96a645afa9927b",
     "locked": true,
     "schema_version": 3,
     "solution": false,
     "task": false
    },
    "tags": []
   },
   "outputs": [],
   "source": [
    "import numpy as np\n",
    "import scipy.linalg as la\n",
    "import matplotlib.pyplot as plt\n",
    "import scipy.integrate as spi"
   ]
  },
  {
   "cell_type": "markdown",
   "id": "c8215f29-2bd3-45f6-ad79-b3f9adaca742",
   "metadata": {
    "deletable": false,
    "editable": false,
    "nbgrader": {
     "cell_type": "markdown",
     "checksum": "3175b8a4e865bfd35afd352df0d69554",
     "grade": false,
     "grade_id": "cell-16f7124e0ac4f1a4",
     "locked": true,
     "schema_version": 3,
     "solution": false,
     "task": false
    },
    "tags": []
   },
   "source": [
    "## Piecewise Functions with NumPy\n",
    "\n",
    "The function `np.piecewise` creates a piecewise defined funciton. See the [documentation](https://numpy.org/doc/stable/reference/generated/numpy.piecewise.html). Let's use `np.piecewise` to create the function step function:\n",
    "\n",
    "$$\n",
    "u_{a,b}(x) = \\left\\{ \\begin{array}{cc} 0 & x <  a \\\\ 1 & a \\leq x \\leq b \\\\ 0 & x > b \\end{array} \\right.\n",
    "$$"
   ]
  },
  {
   "cell_type": "code",
   "execution_count": null,
   "id": "e1fa8474-02e0-4b72-af00-16ac29477420",
   "metadata": {
    "deletable": false,
    "editable": false,
    "nbgrader": {
     "cell_type": "code",
     "checksum": "f0703758d3b307b239e7601811eea662",
     "grade": false,
     "grade_id": "cell-a06d66c31e190842",
     "locked": true,
     "schema_version": 3,
     "solution": false,
     "task": false
    },
    "tags": []
   },
   "outputs": [],
   "source": [
    "u = lambda x,a,b: np.piecewise(x,[x < a,x >= a,x > b],[0,1,0])"
   ]
  },
  {
   "cell_type": "markdown",
   "id": "704c6f32-b950-4041-9fc9-ba29c0907719",
   "metadata": {
    "deletable": false,
    "editable": false,
    "nbgrader": {
     "cell_type": "markdown",
     "checksum": "f883e1eda1fe88431fb13029228fce61",
     "grade": false,
     "grade_id": "cell-f9bd12eb2ae904ab",
     "locked": true,
     "schema_version": 3,
     "solution": false,
     "task": false
    }
   },
   "source": [
    "Plot the function $u_{a,b}(x)$ for $a=-1,b=1$ on the interval $[-2,2]$."
   ]
  },
  {
   "cell_type": "code",
   "execution_count": null,
   "id": "6aa9c0d1-a2db-484c-9117-727f37eeb7ce",
   "metadata": {
    "deletable": false,
    "editable": false,
    "nbgrader": {
     "cell_type": "code",
     "checksum": "fac805c088192234a5fb375f6c3e7990",
     "grade": false,
     "grade_id": "cell-e07ebcbff298b2cd",
     "locked": true,
     "schema_version": 3,
     "solution": false,
     "task": false
    },
    "tags": []
   },
   "outputs": [],
   "source": [
    "x = np.linspace(-2,2,200)\n",
    "y = u(x,-1,1)\n",
    "plt.plot(x,y)\n",
    "plt.show()"
   ]
  },
  {
   "cell_type": "markdown",
   "id": "de59a192-21bc-49cd-b46e-4296880dd006",
   "metadata": {
    "deletable": false,
    "editable": false,
    "nbgrader": {
     "cell_type": "markdown",
     "checksum": "a13a35a04be4652e55302e929ed9e1d4",
     "grade": false,
     "grade_id": "cell-4fe2f48f066c7998",
     "locked": true,
     "schema_version": 3,
     "solution": false,
     "task": false
    },
    "tags": []
   },
   "source": [
    "Use the step function $u_{a,b}(x)$ to construct the even extension $f_{even}(x)$ to the interval $[-2,2]$ of the following function:\n",
    "\n",
    "$$\n",
    "f(x) = \\left\\{ \\begin{array}{cc} 0 & 0 \\leq x < 1 \\\\ x & 1 \\leq x \\leq 2 \\end{array} \\right.\n",
    "$$"
   ]
  },
  {
   "cell_type": "code",
   "execution_count": null,
   "id": "fda86c90-29e9-4de2-9fbb-99668339dd68",
   "metadata": {
    "deletable": false,
    "editable": false,
    "nbgrader": {
     "cell_type": "code",
     "checksum": "523b4b30a2286ff86d65a23e9c6aac12",
     "grade": false,
     "grade_id": "cell-b47388ed7a9f75a2",
     "locked": true,
     "schema_version": 3,
     "solution": false,
     "task": false
    },
    "tags": []
   },
   "outputs": [],
   "source": [
    "feven = lambda x: -x*u(x,-2,-1) + x*u(x,1,2)"
   ]
  },
  {
   "cell_type": "markdown",
   "id": "861485ac-ca09-461b-9b25-485152b9e77b",
   "metadata": {
    "deletable": false,
    "editable": false,
    "nbgrader": {
     "cell_type": "markdown",
     "checksum": "86e46b62a69f9965612e0bb983088d19",
     "grade": false,
     "grade_id": "cell-38ce3d8a926b2438",
     "locked": true,
     "schema_version": 3,
     "solution": false,
     "task": false
    }
   },
   "source": [
    "Plot the function $f_{even}(x)$ on the interval $[-2,2]$:"
   ]
  },
  {
   "cell_type": "code",
   "execution_count": null,
   "id": "6127f3c8-4c8e-42fe-8336-72e1ffc04b12",
   "metadata": {
    "deletable": false,
    "editable": false,
    "nbgrader": {
     "cell_type": "code",
     "checksum": "be0abaf214cfcc537d4b3d538517f688",
     "grade": false,
     "grade_id": "cell-1553aa8c33054bdd",
     "locked": true,
     "schema_version": 3,
     "solution": false,
     "task": false
    },
    "tags": []
   },
   "outputs": [],
   "source": [
    "x = np.linspace(-2,2,200)\n",
    "y = feven(x)\n",
    "plt.plot(x,y)\n",
    "plt.grid(True), plt.axis('equal')\n",
    "plt.show()"
   ]
  },
  {
   "cell_type": "markdown",
   "id": "a81c455d-8f3b-4824-9db6-1516d93c7673",
   "metadata": {
    "deletable": false,
    "editable": false,
    "nbgrader": {
     "cell_type": "markdown",
     "checksum": "028170256410921ce93151014888667f",
     "grade": false,
     "grade_id": "cell-17870c9ed4214c6c",
     "locked": true,
     "schema_version": 3,
     "solution": false,
     "task": false
    },
    "tags": []
   },
   "source": [
    "## Problem 1 (4 marks)"
   ]
  },
  {
   "cell_type": "markdown",
   "id": "21546283-ec7a-49da-add2-f922c08822ee",
   "metadata": {
    "deletable": false,
    "editable": false,
    "nbgrader": {
     "cell_type": "markdown",
     "checksum": "af8d33306b07e8487a83e757b18e01ed",
     "grade": false,
     "grade_id": "cell-9ebcee89f002f347",
     "locked": true,
     "schema_version": 3,
     "solution": false,
     "task": false
    },
    "tags": []
   },
   "source": [
    "Use the step function $u_{a,b}(x)$ to construct the **odd** extension $f_{odd}(x)$ of the following function to the interval $[-2,2]$:\n",
    "\n",
    "$$\n",
    "f(x) = \\left\\{ \\begin{array}{cc} 0 & 0 \\leq x < 1 \\\\ 1 - \\cos(2 \\pi x) & 1 \\leq x \\leq 2 \\end{array} \\right.\n",
    "$$\n",
    "\n",
    "Save $f_{odd}(x)$ as a Python function called `fodd`."
   ]
  },
  {
   "cell_type": "code",
   "execution_count": null,
   "id": "0b50ea83-723b-4ff1-bd66-ea5cb683bb17",
   "metadata": {
    "deletable": false,
    "nbgrader": {
     "cell_type": "code",
     "checksum": "e878e8ed61d8550b7ec84cfecf3e6634",
     "grade": false,
     "grade_id": "cell-980a4992f4bee72e",
     "locked": false,
     "schema_version": 3,
     "solution": true,
     "task": false
    },
    "tags": []
   },
   "outputs": [],
   "source": [
    "# YOUR CODE HERE\n",
    "fodd = lambda x: "
   ]
  },
  {
   "cell_type": "code",
   "execution_count": null,
   "id": "dddb96bd-4820-4f6a-8bbf-af4ef34bc1c5",
   "metadata": {
    "deletable": false,
    "editable": false,
    "nbgrader": {
     "cell_type": "code",
     "checksum": "0bff81fc7de9376e11ec7e6274060441",
     "grade": true,
     "grade_id": "cell-f9d6db0c258c9cff",
     "locked": true,
     "points": 1,
     "schema_version": 3,
     "solution": false,
     "task": false
    },
    "tags": []
   },
   "outputs": [],
   "source": [
    "# Test 1: Verify that fodd is defined as a function. (1 mark)\n",
    "assert callable(fodd) == True ,  \"fodd should be a Python function.\"\n",
    "print(\"Test 1: Success!\")"
   ]
  },
  {
   "cell_type": "code",
   "execution_count": null,
   "id": "2c3b6ea0-27fb-44f7-af14-963086e015bf",
   "metadata": {
    "deletable": false,
    "editable": false,
    "nbgrader": {
     "cell_type": "code",
     "checksum": "e8370c3b87b5a34534117416c97fe560",
     "grade": true,
     "grade_id": "cell-970c83ad7c4766e3",
     "locked": true,
     "points": 1,
     "schema_version": 3,
     "solution": false,
     "task": false
    },
    "tags": []
   },
   "outputs": [],
   "source": [
    "# Test 2: Verify values of fodd. (1 mark)\n",
    "assert fodd(-1.5) == -2 ,  \"food(-1.5) should be -2.\"\n",
    "assert fodd(-0.5) == 0 ,  \"food(-0.5) should be 0.\"\n",
    "assert fodd(0.5) == 0 ,  \"food(0.5) should be 0.\"\n",
    "assert fodd(1.5) == 2 ,  \"food(-1.5) should be 2.\"\n",
    "print(\"Test 2: Success!\")"
   ]
  },
  {
   "cell_type": "code",
   "execution_count": null,
   "id": "d91122ad-fc24-47d8-8917-697e81e780a7",
   "metadata": {
    "deletable": false,
    "editable": false,
    "nbgrader": {
     "cell_type": "code",
     "checksum": "bc9045b2d4223d88127695a22a1664db",
     "grade": true,
     "grade_id": "cell-659fb0e585bc5442",
     "locked": true,
     "points": 2,
     "schema_version": 3,
     "solution": false,
     "task": false
    },
    "tags": []
   },
   "outputs": [],
   "source": [
    "# Test 3: Verify function fodd returns correct values. This cell contains hidden tests. (2 marks)"
   ]
  },
  {
   "cell_type": "markdown",
   "id": "1bf3f3e2-762a-40d1-b91b-b09358b2015d",
   "metadata": {
    "deletable": false,
    "editable": false,
    "nbgrader": {
     "cell_type": "markdown",
     "checksum": "486b504a87df16e9c872118dfc3f24df",
     "grade": false,
     "grade_id": "cell-313241344555c10d",
     "locked": true,
     "schema_version": 3,
     "solution": false,
     "task": false
    },
    "tags": []
   },
   "source": [
    "Plot the function $f_{odd}(x)$ over the interval $[-2,2]$:"
   ]
  },
  {
   "cell_type": "code",
   "execution_count": null,
   "id": "38b091c8-9c24-4c3a-972b-d9e9a33d566f",
   "metadata": {
    "deletable": false,
    "editable": false,
    "nbgrader": {
     "cell_type": "code",
     "checksum": "611522228f3b8268e27bc91dbbcfd79f",
     "grade": false,
     "grade_id": "cell-0d2e161fe22434c5",
     "locked": true,
     "schema_version": 3,
     "solution": false,
     "task": false
    },
    "tags": []
   },
   "outputs": [],
   "source": [
    "x = np.linspace(-2,2,200)\n",
    "plt.plot(x,fodd(x))\n",
    "plt.show()"
   ]
  },
  {
   "cell_type": "markdown",
   "id": "e659299e-3ea0-4dfc-8fbf-e30d55a03c8f",
   "metadata": {
    "deletable": false,
    "editable": false,
    "nbgrader": {
     "cell_type": "markdown",
     "checksum": "46e4fa5752d49a1f31eb19a66e4b6e7b",
     "grade": false,
     "grade_id": "cell-6a9ae1d054a5bb2d",
     "locked": true,
     "schema_version": 3,
     "solution": false,
     "task": false
    },
    "tags": []
   },
   "source": [
    "## Problem 2 (4 marks)\n",
    "\n",
    "The function `fourier` below computes the Fourier coefficients for a function $f(x)$ on the interval $[-L,L]$. See [MATH 316 > Fourier Series](https://ubcmath.github.io/MATH316/fourier.html)."
   ]
  },
  {
   "cell_type": "code",
   "execution_count": null,
   "id": "922568dd-222e-43bd-903b-43132a9ef139",
   "metadata": {
    "deletable": false,
    "editable": false,
    "nbgrader": {
     "cell_type": "code",
     "checksum": "75027dc73fecea0c03e1f6468a8f2958",
     "grade": false,
     "grade_id": "cell-9aac1b6d5f333fd5",
     "locked": true,
     "schema_version": 3,
     "solution": false,
     "task": false
    },
    "tags": []
   },
   "outputs": [],
   "source": [
    "def fourier(f,L,N):\n",
    "    a = np.zeros(N)\n",
    "    b = np.zeros(N)\n",
    "    I,_ = spi.quad(f,-L,L)\n",
    "    a0 = 1/L*I\n",
    "    for n in range(1,N+1):\n",
    "        integrand = lambda x: f(x)*np.cos(n*np.pi*x/L)\n",
    "        I,_ = spi.quad(integrand,-L,L)\n",
    "        a[n-1] = 1/L*I\n",
    "        integrand = lambda x: f(x)*np.sin(n*np.pi*x/L)\n",
    "        I,_ = spi.quad(integrand,-L,L)\n",
    "        b[n-1] = 1/L*I\n",
    "    return a0,a,b"
   ]
  },
  {
   "cell_type": "markdown",
   "id": "a5dfed79-072d-4ecb-a15f-71dbc071b24d",
   "metadata": {
    "deletable": false,
    "editable": false,
    "nbgrader": {
     "cell_type": "markdown",
     "checksum": "933b00745801360471b006fb0adb3e5a",
     "grade": false,
     "grade_id": "cell-6179ea86cd3352be",
     "locked": true,
     "schema_version": 3,
     "solution": false,
     "task": false
    },
    "tags": []
   },
   "source": [
    "Use the function `fourier` to compute the Fourier coefficients of the **odd** extension $f_{odd}(x)$ to the interval $[-2,2]$ of the function $f(x)$ defined in Problem 1 above. Since $f_{odd}(x)$ is an odd funciton we have $a_n = 0$ for all $n$. Save the coefficients $b_1,b_2,b_3,b_4,b_5$ as `b1`, `b2`, `b3`, `b4`, `b5` respectively."
   ]
  },
  {
   "cell_type": "code",
   "execution_count": null,
   "id": "7f738beb-7943-470a-9041-125171ac06ac",
   "metadata": {
    "deletable": false,
    "nbgrader": {
     "cell_type": "code",
     "checksum": "86672172994a4317018bc7f53ba5ca56",
     "grade": false,
     "grade_id": "cell-ef61519740e0b38a",
     "locked": false,
     "schema_version": 3,
     "solution": true,
     "task": false
    },
    "tags": []
   },
   "outputs": [],
   "source": [
    "# YOUR CODE HERE\n",
    "b1 = \n",
    "b2 = \n",
    "b3 = \n",
    "b4 = \n",
    "b5 = "
   ]
  },
  {
   "cell_type": "code",
   "execution_count": null,
   "id": "5c8d14ea-e2ce-4a6c-be30-a4809ae1cd54",
   "metadata": {
    "deletable": false,
    "editable": false,
    "nbgrader": {
     "cell_type": "code",
     "checksum": "92e7a916fcbc820d07104a4d4ea5569c",
     "grade": true,
     "grade_id": "cell-658ad66cfb3f6420",
     "locked": true,
     "points": 1,
     "schema_version": 3,
     "solution": false,
     "task": false
    },
    "tags": []
   },
   "outputs": [],
   "source": [
    "# Test 1: Verify that b1,b2,b3,b4,b5 are numbers. (1 mark)\n",
    "assert isinstance(b1,float) ,  \"b1 should be a floating point number.\"\n",
    "assert isinstance(b2,float) ,  \"b2 should be a floating point number.\"\n",
    "assert isinstance(b3,float) ,  \"b3 should be a floating point number.\"\n",
    "assert isinstance(b4,float) ,  \"b4 should be a floating point number.\"\n",
    "assert isinstance(b5,float) ,  \"b5 should be a floating point number.\"\n",
    "print(\"Test 1: Success!\")"
   ]
  },
  {
   "cell_type": "code",
   "execution_count": null,
   "id": "b64123e3-71c3-446e-82c2-ae3c8618f0b1",
   "metadata": {
    "deletable": false,
    "editable": false,
    "nbgrader": {
     "cell_type": "code",
     "checksum": "d6848600d46a9ff48b8323ed98f0b086",
     "grade": true,
     "grade_id": "cell-e3214a23de410330",
     "locked": true,
     "points": 1,
     "schema_version": 3,
     "solution": false,
     "task": false
    },
    "tags": []
   },
   "outputs": [],
   "source": [
    "# Test 2: Verify first 2 decimal places of b1,b2,b3,b4,b5. (1 mark)\n",
    "assert np.round(b1,2) == .68 ,  \"b1 rounded to 2 decimal places should be 0.68.\"\n",
    "assert np.round(b2,2) == -.85 ,  \"b1 rounded to 2 decimal places should be -0.85.\"\n",
    "assert np.round(b3,2) == .49 ,  \"b1 rounded to 2 decimal places should be 0.49.\"\n",
    "assert np.round(b4,2) == .00 ,  \"b1 rounded to 2 decimal places should be 0.00.\"\n",
    "assert np.round(b5,2) == -.23 ,  \"b1 rounded to 2 decimal places should be -0.23.\"\n",
    "print(\"Test 2: Success!\")"
   ]
  },
  {
   "cell_type": "code",
   "execution_count": null,
   "id": "c4e07383-11d9-4ba6-b853-580ef080e182",
   "metadata": {
    "deletable": false,
    "editable": false,
    "nbgrader": {
     "cell_type": "code",
     "checksum": "0ae46c8e7479aea5b5b8dca438f4565d",
     "grade": true,
     "grade_id": "cell-8c4836c120137004",
     "locked": true,
     "points": 2,
     "schema_version": 3,
     "solution": false,
     "task": false
    },
    "tags": []
   },
   "outputs": [],
   "source": [
    "# Test 3: Verify b1,b2,b3,b4,b5 are correct values. This cell contains hidden tests. (2 marks)"
   ]
  },
  {
   "cell_type": "markdown",
   "id": "409f3389-b29f-479c-b053-25f3784dd820",
   "metadata": {
    "deletable": false,
    "editable": false,
    "nbgrader": {
     "cell_type": "markdown",
     "checksum": "bcef96f4af123acf07f109de4233e357",
     "grade": false,
     "grade_id": "cell-d4898ff9db610c8f",
     "locked": true,
     "schema_version": 3,
     "solution": false,
     "task": false
    },
    "tags": []
   },
   "source": [
    "Plot the partial sine series of the odd extension:"
   ]
  },
  {
   "cell_type": "code",
   "execution_count": null,
   "id": "0519bbfa-df54-47f7-919f-e5cdd9ed5b1b",
   "metadata": {
    "deletable": false,
    "editable": false,
    "nbgrader": {
     "cell_type": "code",
     "checksum": "7a5a430d0d15831001ee3aa19d910617",
     "grade": false,
     "grade_id": "cell-84c16b185ae30437",
     "locked": true,
     "schema_version": 3,
     "solution": false,
     "task": false
    },
    "tags": []
   },
   "outputs": [],
   "source": [
    "x = np.linspace(-2,2,200)\n",
    "bs = [b1,b2,b3,b4,b5]\n",
    "y = sum([bs[n-1]*np.sin(np.pi*n*x/2) for n in range(1,6)])\n",
    "plt.plot(x,fodd(x),x,y)\n",
    "plt.show()"
   ]
  },
  {
   "cell_type": "markdown",
   "id": "7e7568a3-3a25-46bd-a374-863249ed44e9",
   "metadata": {
    "deletable": false,
    "editable": false,
    "nbgrader": {
     "cell_type": "markdown",
     "checksum": "928adc811d98488a0c4ec994b9a6a9e2",
     "grade": false,
     "grade_id": "cell-d1280a10167b584f",
     "locked": true,
     "schema_version": 3,
     "solution": false,
     "task": false
    }
   },
   "source": [
    "## Problem 3 (6 marks)\n",
    "\n",
    "Consider the equation\n",
    "\n",
    "$$\n",
    "u_t = u_{xx} \\ , \\ \\ 0 \\leq x \\leq 1 \\ , \\ \\ t \\geq 0\n",
    "$$\n",
    "\n",
    "with mixed boundary conditions $u(0,t) = u_x(1,t)=0$, and initial condition $u(x,0) = f(x)$ where \n",
    "\n",
    "$$\n",
    "f(x) = \\left\\{ \\begin{array}{cc} 0 & 0 \\leq x < 0.4 \\\\ 1 & 0.4 \\leq x \\leq 0.8 \\\\ 0 & 0.8 < x \\leq 1 \\end{array} \\right.\n",
    "$$\n",
    "\n",
    "The function `heat` below implements the forward-time-central-space (FTCS) finite difference method for the heat equation with constant Dirichlet/Neumann boundary conditions. See [MATH 316 Jupyter Notebooks > Heat Equation](https://ubcmath.github.io/MATH316/heat.html#ftcs-with-mixed-bcs)."
   ]
  },
  {
   "cell_type": "code",
   "execution_count": null,
   "id": "c448887f-e88f-42b4-874b-86b2933b4be5",
   "metadata": {
    "deletable": false,
    "editable": false,
    "nbgrader": {
     "cell_type": "code",
     "checksum": "c9a363cd0201cc347d830307a859027c",
     "grade": false,
     "grade_id": "cell-a27df2fc7e6824b9",
     "locked": true,
     "schema_version": 3,
     "solution": false,
     "task": false
    },
    "tags": []
   },
   "outputs": [],
   "source": [
    "def heat(alpha,L,f,BCtype0,BC0,BCtypeL,BCL,tf,N,M):\n",
    "    \n",
    "    dx = L/N\n",
    "    dt = tf/M\n",
    "    r = alpha*dt/dx**2\n",
    "    \n",
    "    x = np.linspace(0,L,N+1)\n",
    "    U = np.zeros((N+1,M+1))\n",
    "    U[:,0] = f(x)\n",
    "    A = np.zeros((N+1,N+1))\n",
    "    q = np.zeros(N+1)\n",
    "    \n",
    "    if (BCtype0 not in ['D','N']) or (BCtypeL not in ['D','N']):\n",
    "        raise Exception(\"Expecting boundary conditions of type 'D' or 'N'.\")\n",
    "    if BCtype0 == 'D':\n",
    "        U[0,0] = BC0\n",
    "        A[0,0] = 1\n",
    "    if BCtype0 == 'N':\n",
    "        A[0,0] = 1 - 2*r\n",
    "        A[0,1] = 2*r\n",
    "        q[0] = -2*alpha**2*dt/dx*BC0\n",
    "    if BCtypeL == 'D':\n",
    "        U[N,0] = BCL\n",
    "        A[N,N] = 1\n",
    "    if BCtypeL == 'N':\n",
    "        A[N,N] = 1 - 2*r\n",
    "        A[N,N-1] = 2*r\n",
    "        q[N] = 2*alpha**2*dt/dx*BCL\n",
    "    \n",
    "    for n in range(1,N):\n",
    "        A[n,n-1] = r\n",
    "        A[n,n] = 1 - 2*r\n",
    "        A[n,n+1] = r\n",
    "        \n",
    "    for k in range(M):\n",
    "        U[:,k+1] = A@U[:,k] + q\n",
    "        \n",
    "    return U"
   ]
  },
  {
   "cell_type": "markdown",
   "id": "c4070de8-0c37-4af9-bfc4-ef295f07103e",
   "metadata": {
    "deletable": false,
    "editable": false,
    "nbgrader": {
     "cell_type": "markdown",
     "checksum": "7fc8996cd479f7715b7d0b5993f68ac4",
     "grade": false,
     "grade_id": "cell-e2f50926ce12d4ba",
     "locked": true,
     "schema_version": 3,
     "solution": false,
     "task": false
    }
   },
   "source": [
    "**Part a.** Use the function `heat` to compute the numerical solution up to $t_f = 0.25$ for $N=50$ and $M=2000$. Save the result as `Ua`."
   ]
  },
  {
   "cell_type": "code",
   "execution_count": null,
   "id": "8c5dc638-7c44-4d00-a37f-2fe7ac94a973",
   "metadata": {
    "deletable": false,
    "nbgrader": {
     "cell_type": "code",
     "checksum": "3c5fb799d453f2ed2fcea03f725e5ee7",
     "grade": false,
     "grade_id": "cell-693c6e25ee8089f9",
     "locked": false,
     "schema_version": 3,
     "solution": true,
     "task": false
    },
    "tags": []
   },
   "outputs": [],
   "source": [
    "# YOUR CODE HERE\n",
    "Ua = "
   ]
  },
  {
   "cell_type": "code",
   "execution_count": null,
   "id": "fb7ca360-047d-4174-8a6c-6ed7997cbcac",
   "metadata": {
    "deletable": false,
    "editable": false,
    "nbgrader": {
     "cell_type": "code",
     "checksum": "755f89cebb28d2a9ca134bd778d5fe95",
     "grade": true,
     "grade_id": "cell-3112a8ecf96f48e3",
     "locked": true,
     "points": 1,
     "schema_version": 3,
     "solution": false,
     "task": false
    },
    "tags": []
   },
   "outputs": [],
   "source": [
    "# Test 1: Verify Ua is a NumPy array of size 51 x 2001. (1 mark)\n",
    "assert isinstance(Ua,np.ndarray) ,  \"Ua should be a NumPy array.\"\n",
    "assert Ua.shape == (51,2001) ,  \"Ua should be a NumPy array of size 51 by 2001.\"\n",
    "print(\"Test 1: Success!\")"
   ]
  },
  {
   "cell_type": "code",
   "execution_count": null,
   "id": "d39fc06d-196d-4c06-b205-2509bd3f972b",
   "metadata": {
    "deletable": false,
    "editable": false,
    "nbgrader": {
     "cell_type": "code",
     "checksum": "de8fdf622842534c239f4b9f07787edc",
     "grade": true,
     "grade_id": "cell-6fa7d02f010f93dd",
     "locked": true,
     "points": 1,
     "schema_version": 3,
     "solution": false,
     "task": false
    },
    "tags": []
   },
   "outputs": [],
   "source": [
    "# Test 2: Verify first column of Ua corresponds to f(x). (1 mark)\n",
    "assert Ua[0,0] == 0 ,  \"Ua[0,0] should be f(0) = 0.\"\n",
    "assert Ua[30,0] == 1 ,  \"Ua[30,0] should be f(0.6) = 1.\"\n",
    "assert Ua[45,0] == 0 ,  \"Ua[30,0] should be f(0.9) = 0.\"\n",
    "print(\"Test 2: Success!\")"
   ]
  },
  {
   "cell_type": "code",
   "execution_count": null,
   "id": "dae8a5c1-bb58-43ae-b850-f6f83961d904",
   "metadata": {
    "deletable": false,
    "editable": false,
    "nbgrader": {
     "cell_type": "code",
     "checksum": "2f4305aaaa311cfe245e59f9b2d8c39c",
     "grade": true,
     "grade_id": "cell-ad1554bf123ee131",
     "locked": true,
     "points": 2,
     "schema_version": 3,
     "solution": false,
     "task": false
    },
    "tags": []
   },
   "outputs": [],
   "source": [
    "# Test 3: Verify Ua has the correct values. This cell contains hidden tests. (2 marks)"
   ]
  },
  {
   "cell_type": "markdown",
   "id": "a0c877d1-4144-4a3e-b995-2a0999542393",
   "metadata": {
    "deletable": false,
    "editable": false,
    "nbgrader": {
     "cell_type": "markdown",
     "checksum": "359d298fb922502dac53f508bf6ed501",
     "grade": false,
     "grade_id": "cell-ad434d126131a44a",
     "locked": true,
     "schema_version": 3,
     "solution": false,
     "task": false
    },
    "tags": []
   },
   "source": [
    "Plot the numerical solution:"
   ]
  },
  {
   "cell_type": "code",
   "execution_count": null,
   "id": "cf3408a4-4b7c-415b-9b88-b546eb52b877",
   "metadata": {
    "deletable": false,
    "editable": false,
    "nbgrader": {
     "cell_type": "code",
     "checksum": "52738ee30eed33bb59c3a5fc0575d0e8",
     "grade": false,
     "grade_id": "cell-ccdd98b56932576f",
     "locked": true,
     "schema_version": 3,
     "solution": false,
     "task": false
    },
    "tags": []
   },
   "outputs": [],
   "source": [
    "plt.imshow(Ua,aspect='auto',cmap='jet'), plt.colorbar()\n",
    "plt.show()"
   ]
  },
  {
   "cell_type": "markdown",
   "id": "e29fce3a-a455-41a1-bf65-6b64c6786dff",
   "metadata": {
    "deletable": false,
    "editable": false,
    "nbgrader": {
     "cell_type": "markdown",
     "checksum": "d91200789fd2079539d8c527fb2ea22a",
     "grade": false,
     "grade_id": "cell-6d47549aa300833c",
     "locked": true,
     "schema_version": 3,
     "solution": false,
     "task": false
    },
    "tags": []
   },
   "source": [
    "We know that the steady state is $u(x,t) \\to 0$ as $t \\to \\infty$. Does this agree with the plot above?"
   ]
  },
  {
   "cell_type": "markdown",
   "id": "84d4bea7-63c1-4fdf-96b9-3074c61c5874",
   "metadata": {
    "deletable": false,
    "editable": false,
    "nbgrader": {
     "cell_type": "markdown",
     "checksum": "ce2c78b93db204cc3b4a1432bcd858b8",
     "grade": false,
     "grade_id": "cell-4f55e13482e6dd68",
     "locked": true,
     "schema_version": 3,
     "solution": false,
     "task": false
    },
    "tags": []
   },
   "source": [
    "Plot the solution for $t=0.00,0.01,0.02,0.03,0.04,0.05$:"
   ]
  },
  {
   "cell_type": "code",
   "execution_count": null,
   "id": "871cd059-521f-446c-b28e-b08b58949a1c",
   "metadata": {
    "deletable": false,
    "editable": false,
    "nbgrader": {
     "cell_type": "code",
     "checksum": "4ba502ad81ee5ee242d2f27a21d58305",
     "grade": false,
     "grade_id": "cell-ac12e47eb2fbfa74",
     "locked": true,
     "schema_version": 3,
     "solution": false,
     "task": false
    },
    "tags": []
   },
   "outputs": [],
   "source": [
    "nsteps = 5\n",
    "tstep = 80\n",
    "x = np.linspace(0,1,51)\n",
    "for k in range(nsteps+1):\n",
    "    t = k*0.01\n",
    "    plt.plot(x,Ua[:,k*tstep],label='t={:.2f}'.format(t))\n",
    "plt.legend(loc='upper left')\n",
    "plt.grid(True)\n",
    "plt.show()"
   ]
  },
  {
   "cell_type": "markdown",
   "id": "615445a3-e747-4266-842f-6ae92a9184c2",
   "metadata": {
    "deletable": false,
    "editable": false,
    "nbgrader": {
     "cell_type": "markdown",
     "checksum": "5b3249cd72afeb8528360a9194bb0705",
     "grade": false,
     "grade_id": "cell-d3df9680255765cd",
     "locked": true,
     "schema_version": 3,
     "solution": false,
     "task": false
    },
    "tags": []
   },
   "source": [
    "**Part b.** Use the function `heat` to compute the numerical solution up to $t_f = 0.25$ for $N=50$ and and find the smallest $M$ such that the numerical solution is stable (see [numerical stability of FTCS scheme](https://en.wikipedia.org/wiki/FTCS_scheme#Stability).). The value $M$ corresponds to a time step $\\Delta t$. Save the value $M$ as `M` and $\\Delta t$ as `dt`."
   ]
  },
  {
   "cell_type": "code",
   "execution_count": null,
   "id": "0dc517d9-b579-4970-812f-cbd942d80797",
   "metadata": {
    "deletable": false,
    "nbgrader": {
     "cell_type": "code",
     "checksum": "09e9f6a0f72f8101dfc7c6c6e34ee865",
     "grade": false,
     "grade_id": "cell-4e61d917431bf34a",
     "locked": false,
     "schema_version": 3,
     "solution": true,
     "task": false
    },
    "tags": []
   },
   "outputs": [],
   "source": [
    "# YOUR CODE HERE\n",
    "M = \n",
    "dt = "
   ]
  },
  {
   "cell_type": "code",
   "execution_count": null,
   "id": "ab87da47-33c0-4e61-a03b-5abb12328b91",
   "metadata": {
    "deletable": false,
    "editable": false,
    "nbgrader": {
     "cell_type": "code",
     "checksum": "9bc7b6ccf23dabb5c9f0186ef75673c4",
     "grade": true,
     "grade_id": "cell-224ef79daae534c9",
     "locked": true,
     "points": 1,
     "schema_version": 3,
     "solution": false,
     "task": false
    },
    "tags": []
   },
   "outputs": [],
   "source": [
    "# Test 1: Verify M and dt are positive numbers. (1 mark)\n",
    "assert M > 0 ,  \"M should be a positive number.\"\n",
    "assert dt > 0 ,  \"dta should be a positive number.\"\n",
    "print(\"Test 1: Success!\")"
   ]
  },
  {
   "cell_type": "code",
   "execution_count": null,
   "id": "cf772d38-2f27-41dd-8b69-dadb836555fe",
   "metadata": {
    "deletable": false,
    "editable": false,
    "nbgrader": {
     "cell_type": "code",
     "checksum": "32696799e9c5cd54cddeb81a020bc8a9",
     "grade": true,
     "grade_id": "cell-8d01d26fcc72a38c",
     "locked": true,
     "points": 1,
     "schema_version": 3,
     "solution": false,
     "task": false
    },
    "tags": []
   },
   "outputs": [],
   "source": [
    "# Test 2: Verify M and dt are the correct values. This cell contains hidden tests. (2 marks)"
   ]
  }
 ],
 "metadata": {
  "kernelspec": {
   "display_name": "Python 3 (ipykernel)",
   "language": "python",
   "name": "python3"
  },
  "language_info": {
   "codemirror_mode": {
    "name": "ipython",
    "version": 3
   },
   "file_extension": ".py",
   "mimetype": "text/x-python",
   "name": "python",
   "nbconvert_exporter": "python",
   "pygments_lexer": "ipython3",
   "version": "3.10.12"
  }
 },
 "nbformat": 4,
 "nbformat_minor": 5
}
