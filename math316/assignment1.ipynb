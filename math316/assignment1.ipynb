{
 "cells": [
  {
   "cell_type": "markdown",
   "id": "24a2ba6f-ef01-4725-a36b-27cd49d6ceab",
   "metadata": {
    "deletable": false,
    "editable": false,
    "nbgrader": {
     "cell_type": "markdown",
     "checksum": "5ff17ae850d0ae4fa545d9f1978ab4d2",
     "grade": false,
     "grade_id": "cell-0942c3d5087f8fce",
     "locked": true,
     "schema_version": 3,
     "solution": false,
     "task": false
    },
    "tags": []
   },
   "source": [
    "# MATH 257/316 Python Assignment 1\n",
    "\n",
    "* See [Python for UBC Math](https://ubcmath.github.io/python/) for an introduction to Python and Jupyter\n",
    "* See [MATH 316 Jupyter Notebooks](https://ubcmath.github.io/MATH316/) to see more examples\n",
    "* Run the tests to verify your solutions\n",
    "* There are **hidden tests** therefore your solutions may not be entirely correct even if they pass the tests below\n",
    "* Submit your `.ipynb` notebook file to Canvas (download from Syzygy to your machine and upload to Canvas)"
   ]
  },
  {
   "cell_type": "code",
   "execution_count": null,
   "id": "4ced0a6f-9d17-40f5-9811-59e28c069a0c",
   "metadata": {
    "deletable": false,
    "editable": false,
    "nbgrader": {
     "cell_type": "code",
     "checksum": "d721e9ab2ebc8c635d4717695aa52383",
     "grade": false,
     "grade_id": "cell-5471e1c12374dd32",
     "locked": true,
     "schema_version": 3,
     "solution": false,
     "task": false
    },
    "tags": []
   },
   "outputs": [],
   "source": [
    "import numpy as np\n",
    "import scipy.linalg as la\n",
    "import matplotlib.pyplot as plt"
   ]
  },
  {
   "cell_type": "markdown",
   "id": "8a4db17e-67cd-4c64-8527-fc4a23ab4aa5",
   "metadata": {
    "deletable": false,
    "editable": false,
    "nbgrader": {
     "cell_type": "markdown",
     "checksum": "63befbd65f0cc4e4b75c6d4e0a42cb39",
     "grade": false,
     "grade_id": "cell-62d13672b66ef648",
     "locked": true,
     "schema_version": 3,
     "solution": false,
     "task": false
    },
    "tags": []
   },
   "source": [
    "## Problem 1 (5 marks)\n",
    "\n",
    "Consider the equation\n",
    "\n",
    "$$\n",
    "u_t = \\alpha^2 u_{xx} \\ , \\ \\ 0 \\leq x \\leq \\pi \\ , \\ \\ t \\geq 0\n",
    "$$\n",
    "\n",
    "with $\\alpha^2 = 2$, initial condition $u(x,0) = \\cos(x/2)$ and boundary conditions $u_x(0,t) = u_x(\\pi,t)=0$. The Fourier series solution is of the form\n",
    "\n",
    "$$\n",
    "u(x,t) = \\frac{a_0}{2} + \\sum_{n=1}^{\\infty} a_n \\cos(nx) e^{-2 n^2 t}\n",
    "$$\n",
    "\n",
    "Find a formula for the coefficients $a_n$. Enter the formula as a Python function called `a` with input parameter `n`."
   ]
  },
  {
   "cell_type": "code",
   "execution_count": null,
   "id": "0e651928-99e9-4fa6-9602-260b926c12fd",
   "metadata": {
    "deletable": false,
    "nbgrader": {
     "cell_type": "code",
     "checksum": "edb06bd8ef5ca412e038173230fe52e2",
     "grade": false,
     "grade_id": "cell-a1b4f2d27e9c07d9",
     "locked": false,
     "schema_version": 3,
     "solution": true,
     "task": false
    },
    "tags": []
   },
   "outputs": [],
   "source": [
    "# YOUR CODE HERE\n",
    "a = lambda n: # enter formula for a(n)"
   ]
  },
  {
   "cell_type": "code",
   "execution_count": null,
   "id": "918c0889-ebbd-4fc7-b12b-00b5c7786a69",
   "metadata": {
    "deletable": false,
    "editable": false,
    "nbgrader": {
     "cell_type": "code",
     "checksum": "eaed1092fa85091786db70468052893d",
     "grade": true,
     "grade_id": "cell-b2e0934d3a596790",
     "locked": true,
     "points": 1,
     "schema_version": 3,
     "solution": false,
     "task": false
    },
    "tags": []
   },
   "outputs": [],
   "source": [
    "# Test 1: Verify that a is defined as a function. (1 mark)\n",
    "assert callable(a) == True ,  \"a should be a Python function.\"\n",
    "print(\"Test 1: Success!\")"
   ]
  },
  {
   "cell_type": "code",
   "execution_count": null,
   "id": "d737841f-8297-4de5-bfd6-2fde64966ce5",
   "metadata": {
    "deletable": false,
    "editable": false,
    "nbgrader": {
     "cell_type": "code",
     "checksum": "f12ccefff43d77fa1140ac57a828decc",
     "grade": true,
     "grade_id": "cell-f39841d13f1e3830",
     "locked": true,
     "points": 1,
     "schema_version": 3,
     "solution": false,
     "task": false
    },
    "tags": []
   },
   "outputs": [],
   "source": [
    "# Test 2: Verify that a(0), a(1) and a(3) are positive numbers. (1 mark)\n",
    "assert a(0) > 0 ,  \"a(0) should be positive.\"\n",
    "assert a(1) > 0 ,  \"a(1) should be positive.\"\n",
    "assert a(3) > 0 ,  \"a(3) should be positive.\"\n",
    "print(\"Test 2: Success!\")"
   ]
  },
  {
   "cell_type": "code",
   "execution_count": null,
   "id": "dd222c3b-8e35-47bc-92ae-7ccd585d252f",
   "metadata": {
    "deletable": false,
    "editable": false,
    "nbgrader": {
     "cell_type": "code",
     "checksum": "357ab3693de66bf47546e175c30e414c",
     "grade": true,
     "grade_id": "cell-2d0243d0f956d23c",
     "locked": true,
     "points": 1,
     "schema_version": 3,
     "solution": false,
     "task": false
    },
    "tags": []
   },
   "outputs": [],
   "source": [
    "# Test 3: Verify a(0) and a(4) are correct values. (1 mark)\n",
    "assert abs(a(0) - 4/np.pi) < 1e-12 ,  \"a(0) should be 4/pi.\"\n",
    "assert abs(a(4) + 0.020210151503732742) < 1e-12 ,  \"a(4) should be -0.020210151503732742.\"\n",
    "print(\"Test 3: Success!\")"
   ]
  },
  {
   "cell_type": "code",
   "execution_count": null,
   "id": "fd953d65-1b67-45ec-963e-f6556e8b237b",
   "metadata": {
    "deletable": false,
    "editable": false,
    "nbgrader": {
     "cell_type": "code",
     "checksum": "327eeb15dd942a27d07950fe6f6577d9",
     "grade": true,
     "grade_id": "cell-d4620c8bc71abbdf",
     "locked": true,
     "points": 2,
     "schema_version": 3,
     "solution": false,
     "task": false
    },
    "tags": []
   },
   "outputs": [],
   "source": [
    "# Test 4: Verify function a(n) returns correct values. This cell contains hidden tests. (2 marks)"
   ]
  },
  {
   "cell_type": "markdown",
   "id": "7351dec5-6ccc-4462-9187-ce17451f6eb9",
   "metadata": {
    "deletable": false,
    "editable": false,
    "nbgrader": {
     "cell_type": "markdown",
     "checksum": "bfbc9515b73aa68b74915480c7210866",
     "grade": false,
     "grade_id": "cell-41a1176073f7032a",
     "locked": true,
     "schema_version": 3,
     "solution": false,
     "task": false
    },
    "tags": []
   },
   "source": [
    "The following code plots the partial sum\n",
    "\n",
    "$$\n",
    "u(x,t) \\approx \\frac{a_0}{2} + \\sum_{n=1}^{N} a_n \\cos(nx) e^{-2 n^2 t}\n",
    "$$\n",
    "\n",
    "up to $N=100$ for each $t=0.0,0.1,0.2,\\dots,2.0$:"
   ]
  },
  {
   "cell_type": "code",
   "execution_count": null,
   "id": "6b9a0325-ca40-4506-a4d9-204d8c521fcf",
   "metadata": {
    "deletable": false,
    "editable": false,
    "nbgrader": {
     "cell_type": "code",
     "checksum": "f2e89cd4f84f57d62045ade5bb4f42b3",
     "grade": false,
     "grade_id": "cell-40bfb88c9c3d469e",
     "locked": true,
     "schema_version": 3,
     "solution": false,
     "task": false
    },
    "tags": []
   },
   "outputs": [],
   "source": [
    "N = 100\n",
    "x = np.linspace(0,np.pi,200)\n",
    "for t in np.linspace(0,2,21):\n",
    "    u = a(0)/2 + sum([a(n)*np.cos(n*x)*np.exp(-2*n**2*t) for n in range(1,N+1)])\n",
    "    plt.plot(x,u,'C0')\n",
    "plt.grid(True)\n",
    "plt.show()"
   ]
  },
  {
   "cell_type": "markdown",
   "id": "1a975fe7-075b-4ee1-9160-62e09475c668",
   "metadata": {
    "deletable": false,
    "editable": false,
    "nbgrader": {
     "cell_type": "markdown",
     "checksum": "939ecf2bf6d531b0b80967036f708cd8",
     "grade": false,
     "grade_id": "cell-b80836cf6c9b4bc9",
     "locked": true,
     "schema_version": 3,
     "solution": false,
     "task": false
    },
    "tags": []
   },
   "source": [
    "The plot at time $t=0$ should match the initial condition $u(x,0) = \\cos(x/2)$. The plot at time $t=2$ should be close to the steady state solution."
   ]
  },
  {
   "cell_type": "markdown",
   "id": "47ba4bbd-a508-4dea-86e3-48c3f90b4820",
   "metadata": {
    "deletable": false,
    "editable": false,
    "nbgrader": {
     "cell_type": "markdown",
     "checksum": "60bc78b5de8a3880a740c20205cd9dbd",
     "grade": false,
     "grade_id": "cell-c0695412cb2c2cef",
     "locked": true,
     "schema_version": 3,
     "solution": false,
     "task": false
    },
    "tags": []
   },
   "source": [
    "## Problem 2 (5 marks)\n",
    "\n",
    "The function `heatFTCSN` computes the approximation of the heat equation with Neumann boundary conditions using the foward-time-central-space finite difference method. Compute the numerical solution for the equation in Problem 1 above using $t_f=2$, $N=20$ and $M=5000$. Save the numerical approximation as a matrix `U`"
   ]
  },
  {
   "cell_type": "code",
   "execution_count": null,
   "id": "ae7ca46a-00f8-4774-8ce2-1f4419c719c1",
   "metadata": {
    "deletable": false,
    "editable": false,
    "nbgrader": {
     "cell_type": "code",
     "checksum": "8c5a8af4dc7d23c408a5b4b05bd04976",
     "grade": false,
     "grade_id": "cell-2fbd626a0bf08782",
     "locked": true,
     "schema_version": 3,
     "solution": false,
     "task": false
    },
    "tags": []
   },
   "outputs": [],
   "source": [
    "def heatFTCSN(alpha,L,f,Q0,QL,tf,N,M):\n",
    "    dx = L/N\n",
    "    dt = tf/M\n",
    "    x = np.linspace(0,L,N+1)\n",
    "    U = np.zeros((N+1,M+1))\n",
    "    U[:,0] = f(x)\n",
    "    r = alpha*dt/dx**2\n",
    "    A = np.zeros((N+1,N+1))\n",
    "    A[0,0] = 1 - 2*r\n",
    "    A[0,1] = 2*r\n",
    "    A[N,N] = 1 - 2*r\n",
    "    A[N,N-1] = 2*r\n",
    "    for n in range(1,N):\n",
    "        A[n,n-1] = r\n",
    "        A[n,n] = 1 - 2*r\n",
    "        A[n,n+1] = r\n",
    "    q = np.zeros(N+1)\n",
    "    q[0] = -2*alpha**2*dt/dx*Q0\n",
    "    q[N] = 2*alpha**2*dt/dx*QL\n",
    "    for k in range(M):\n",
    "        U[:,k+1] = A@U[:,k] + q\n",
    "    return U"
   ]
  },
  {
   "cell_type": "code",
   "execution_count": null,
   "id": "77f79a21-8df3-4f32-b8a0-3c1f708e1564",
   "metadata": {
    "deletable": false,
    "nbgrader": {
     "cell_type": "code",
     "checksum": "15d63a135ea1c2eb02e346ee339d06f5",
     "grade": false,
     "grade_id": "cell-23f9eb94e5d35439",
     "locked": false,
     "schema_version": 3,
     "solution": true,
     "task": false
    },
    "tags": []
   },
   "outputs": [],
   "source": [
    "# YOUR CODE HERE\n",
    "U = "
   ]
  },
  {
   "cell_type": "code",
   "execution_count": null,
   "id": "f6c646e8-de69-481c-a05c-a80d6087f6d8",
   "metadata": {
    "deletable": false,
    "editable": false,
    "nbgrader": {
     "cell_type": "code",
     "checksum": "6d998dc95a74e4fd5a6aac38db6dea08",
     "grade": true,
     "grade_id": "cell-fe9ab9fd69999927",
     "locked": true,
     "points": 1,
     "schema_version": 3,
     "solution": false,
     "task": false
    },
    "tags": []
   },
   "outputs": [],
   "source": [
    "# Test 1: Verify U is a NumPy array of size 21 x 5001. (1 mark)\n",
    "assert isinstance(U,np.ndarray) == True ,  \"U should be a NumPy array.\"\n",
    "assert U.shape == (21,5001),  \"U should a matrix of size 21 by 5001.\"\n",
    "print(\"Test 1: Success!\")"
   ]
  },
  {
   "cell_type": "code",
   "execution_count": null,
   "id": "6299a587-4e40-41ac-92a5-65f1f294b544",
   "metadata": {
    "deletable": false,
    "editable": false,
    "nbgrader": {
     "cell_type": "code",
     "checksum": "4a483bf7d3fdc8a9eb5b938cd854d658",
     "grade": true,
     "grade_id": "cell-c27253a2649d8aa0",
     "locked": true,
     "points": 1,
     "schema_version": 3,
     "solution": false,
     "task": false
    },
    "tags": []
   },
   "outputs": [],
   "source": [
    "# Test 2: Verify initial condition is satisfied: u(x,0) = cos(x/2). (1 mark)\n",
    "x = np.linspace(0,np.pi,21)\n",
    "fx = np.cos(x/2)\n",
    "assert np.allclose(U[:,0],fx),  \"u(x,0) = cos(x/2).\"\n",
    "print(\"Test 2: Success!\")"
   ]
  },
  {
   "cell_type": "code",
   "execution_count": null,
   "id": "54232883-9582-4501-bb57-624bab128376",
   "metadata": {
    "deletable": false,
    "editable": false,
    "nbgrader": {
     "cell_type": "code",
     "checksum": "2db86f713bc6ee276a2c8e661a6a4cbe",
     "grade": true,
     "grade_id": "cell-42377cab88b29720",
     "locked": true,
     "points": 1,
     "schema_version": 3,
     "solution": false,
     "task": false
    },
    "tags": []
   },
   "outputs": [],
   "source": [
    "# Test 3: Verify values at t = 2. (1 mark)\n",
    "u2 = np.array([0.66154164, 0.66123082, 0.66030602, 0.65878999, 0.65672005,\n",
    "                0.65414713, 0.65113458, 0.64775654, 0.64409617, 0.64024358,\n",
    "                0.63629362, 0.63234355, 0.62849064, 0.62482977, 0.6214511 ,\n",
    "                0.61843784, 0.61586423, 0.61379366, 0.61227713, 0.61135201,0.61104108])\n",
    "assert np.allclose(U[:,-1],u2) ,  \"u(0,2) = .\"\n",
    "print(\"Test 3: Success!\")"
   ]
  },
  {
   "cell_type": "code",
   "execution_count": null,
   "id": "024c7049-6f85-4367-a258-7acdcb38ac7f",
   "metadata": {
    "deletable": false,
    "editable": false,
    "nbgrader": {
     "cell_type": "code",
     "checksum": "355e8915cdc10606640999dc715e4366",
     "grade": true,
     "grade_id": "cell-d02677ded3467f70",
     "locked": true,
     "points": 2,
     "schema_version": 3,
     "solution": false,
     "task": false
    },
    "tags": []
   },
   "outputs": [],
   "source": [
    "# Test 4: Verify values of U are correct. This cell contains hidden tests. (2 marks)"
   ]
  },
  {
   "cell_type": "markdown",
   "id": "3d409dd1-e7a5-4812-b7bc-5be65d3e7d8e",
   "metadata": {
    "deletable": false,
    "editable": false,
    "nbgrader": {
     "cell_type": "markdown",
     "checksum": "cb33706d583a369fd28344fe5f39d4cb",
     "grade": false,
     "grade_id": "cell-1d2623ba1c11ea4c",
     "locked": true,
     "schema_version": 3,
     "solution": false,
     "task": false
    },
    "tags": []
   },
   "source": [
    "The following code plots the finite difference solution $u_{n,k}$ for $k=0,250,500,750,\\dots,5000$."
   ]
  },
  {
   "cell_type": "code",
   "execution_count": null,
   "id": "e9ff5f33-575d-41f8-a828-9532c27dd90c",
   "metadata": {
    "deletable": false,
    "editable": false,
    "nbgrader": {
     "cell_type": "code",
     "checksum": "5f17ba0daeeddd476e4a2c0a12bf1f1d",
     "grade": false,
     "grade_id": "cell-0512f1de5847779e",
     "locked": true,
     "schema_version": 3,
     "solution": false,
     "task": false
    },
    "tags": []
   },
   "outputs": [],
   "source": [
    "x = np.linspace(0,np.pi,21)\n",
    "dt = 2/5000\n",
    "for t in np.linspace(0,2,21):\n",
    "    k = int(t/dt)\n",
    "    u = U[:,k]\n",
    "    plt.plot(x,u,'C0')\n",
    "plt.grid(True)\n",
    "plt.show()"
   ]
  },
  {
   "cell_type": "markdown",
   "id": "beab79d7-bc67-4b5b-a988-3103916ebcb4",
   "metadata": {
    "deletable": false,
    "editable": false,
    "nbgrader": {
     "cell_type": "markdown",
     "checksum": "842cd433923b55a505e3a0242a842127",
     "grade": false,
     "grade_id": "cell-d1f509c80b245dad",
     "locked": true,
     "schema_version": 3,
     "solution": false,
     "task": false
    },
    "tags": []
   },
   "source": [
    "The plot at time $t=0$ should match the initial condition $u(x,0) = \\cos(x/2)$. The plot at time $t=2$ should be close to the steady state solution. The figure should match the figure in Problem 1."
   ]
  }
 ],
 "metadata": {
  "kernelspec": {
   "display_name": "Python 3 (ipykernel)",
   "language": "python",
   "name": "python3"
  },
  "language_info": {
   "codemirror_mode": {
    "name": "ipython",
    "version": 3
   },
   "file_extension": ".py",
   "mimetype": "text/x-python",
   "name": "python",
   "nbconvert_exporter": "python",
   "pygments_lexer": "ipython3",
   "version": "3.10.12"
  }
 },
 "nbformat": 4,
 "nbformat_minor": 5
}
