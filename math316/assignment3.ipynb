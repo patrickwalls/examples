{
 "cells": [
  {
   "cell_type": "markdown",
   "id": "4bfc57a5-05a6-4af8-b5ef-be4f50d0e8b0",
   "metadata": {
    "deletable": false,
    "editable": false,
    "nbgrader": {
     "cell_type": "markdown",
     "checksum": "d62438281ebffd5bc8458dcbab3b7345",
     "grade": false,
     "grade_id": "cell-814a10e35286e579",
     "locked": true,
     "schema_version": 3,
     "solution": false,
     "task": false
    },
    "tags": []
   },
   "source": [
    "# MATH 257/316 Python Assignment 3\n",
    "\n",
    "* See [Python for UBC Math](https://ubcmath.github.io/python/) for an introduction to Python and Jupyter\n",
    "* See [MATH 316 Jupyter Notebooks](https://ubcmath.github.io/MATH316/) to see more examples\n",
    "* Run the tests to verify your solutions\n",
    "* There are **hidden tests** therefore your solutions may not be entirely correct even if they pass the tests below\n",
    "* Submit your `.ipynb` notebook file to Canvas (download from Syzygy to your machine and upload to Canvas)"
   ]
  },
  {
   "cell_type": "code",
   "execution_count": null,
   "id": "2c4d194a-ca0d-4e04-b989-d13c5e4c7038",
   "metadata": {
    "deletable": false,
    "editable": false,
    "nbgrader": {
     "cell_type": "code",
     "checksum": "3bf7b809dc2e26da93aeb2186345807d",
     "grade": false,
     "grade_id": "cell-2cf1b9c316be7271",
     "locked": true,
     "schema_version": 3,
     "solution": false,
     "task": false
    },
    "tags": []
   },
   "outputs": [],
   "source": [
    "import numpy as np\n",
    "import scipy.linalg as la\n",
    "import matplotlib.pyplot as plt\n",
    "import scipy.integrate as spi\n",
    "from matplotlib.animation import FuncAnimation\n",
    "from IPython.display import HTML"
   ]
  },
  {
   "cell_type": "code",
   "execution_count": null,
   "id": "c2d812cc-f84d-466b-828a-229b6d7cbd39",
   "metadata": {
    "tags": []
   },
   "outputs": [],
   "source": [
    "def animate(U,nframes,L=1,fps=20):\n",
    "    fig,ax = plt.subplots()\n",
    "    line, = plt.plot([],[])\n",
    "    ax.set_xlim(-0.1,1.1)\n",
    "    ax.set_ylim(U.min()*1.02,U.max()*1.02)\n",
    "    ax.grid(True)\n",
    "    K = U.shape[1]\n",
    "    tstep = K//nframes\n",
    "    x = np.linspace(0,L,U.shape[0])\n",
    "    update = lambda k: line.set_data(x,U[:,k*tstep])\n",
    "    ani = FuncAnimation(fig,update,frames=nframes,interval=1000/fps)\n",
    "    plt.close()\n",
    "    return ani"
   ]
  },
  {
   "cell_type": "markdown",
   "id": "9bccfde9-4b05-4e58-a603-da0047080d7e",
   "metadata": {
    "deletable": false,
    "editable": false,
    "nbgrader": {
     "cell_type": "markdown",
     "checksum": "fdd4d363ca8b703a6f7e176e09a90a86",
     "grade": false,
     "grade_id": "cell-dbc19e72dc34aa2d",
     "locked": true,
     "schema_version": 3,
     "solution": false,
     "task": false
    }
   },
   "source": [
    "## Problem 1 (6 marks)\n",
    "\n",
    "Consider the wave equation with homogeneous Dirichlet boundary conditions and no initial velocity:\n",
    "\n",
    "$$\n",
    "u_{tt} = u_{xx} \\ , \\ \\ u(0,t) = u(L,t) = 0 \\ , \\ \\ u(x,0) = f(x) \\ , \\ \\ u_t(x,0) = 0\n",
    "$$\n",
    "\n",
    "The general solution is given by the Fourier series\n",
    "\n",
    "$$\n",
    "u(x,t) = \\sum_{n=1}^{\\infty} b_n \\sin \\left( \\frac{n \\pi x}{L} \\right) \\cos \\left( \\frac{n \\pi t}{L} \\right)\n",
    "$$\n",
    "\n",
    "where $b_n$ are the Fourier coefficients of the odd extension of $f(x)$ to $[-L,L]$\n",
    "\n",
    "$$\n",
    "f_{odd}(x) = \\sum_{n=1}^{\\infty} b_n \\sin \\left( \\frac{n \\pi x}{L} \\right)\n",
    "$$\n",
    "\n",
    "**Part A.** Use the step function $u_{a,b}(x)$ from Assignment 2 to construct the odd extension of the function\n",
    "\n",
    "$$\n",
    "f(x) = x - x^4 \\ , \\ \\ x \\in [0,1]\n",
    "$$\n",
    "\n",
    "to the interval $[-1,1]$. Save the result as `f1odd`."
   ]
  },
  {
   "cell_type": "code",
   "execution_count": null,
   "id": "4e701a35-8984-47d3-bd72-8ba5a1354fc8",
   "metadata": {
    "deletable": false,
    "nbgrader": {
     "cell_type": "code",
     "checksum": "1cfa8361784df569a04dce71ad47631f",
     "grade": false,
     "grade_id": "cell-bb620cc10d45ce1e",
     "locked": false,
     "schema_version": 3,
     "solution": true,
     "task": false
    },
    "tags": []
   },
   "outputs": [],
   "source": [
    "# YOUR CODE HERE"
   ]
  },
  {
   "cell_type": "code",
   "execution_count": null,
   "id": "6aa14a2b-df35-4d2b-aa75-ff33d16c5dd5",
   "metadata": {
    "deletable": false,
    "editable": false,
    "nbgrader": {
     "cell_type": "code",
     "checksum": "099d52c5c11c9170d77712f7a2b613e5",
     "grade": true,
     "grade_id": "cell-135702c64ab75065",
     "locked": true,
     "points": 1,
     "schema_version": 3,
     "solution": false,
     "task": false
    },
    "tags": []
   },
   "outputs": [],
   "source": [
    "# Test 1: Verify that f1odd is defined as a function. (1 mark)\n",
    "assert callable(f1odd) == True ,  \"f1odd should be a Python function.\"\n",
    "print(\"Test 1: Success!\")"
   ]
  },
  {
   "cell_type": "code",
   "execution_count": null,
   "id": "40283865-90ab-47ff-bf60-04cb14b82bca",
   "metadata": {
    "deletable": false,
    "editable": false,
    "nbgrader": {
     "cell_type": "code",
     "checksum": "9ee33857644e10fd32963b7ff54c741c",
     "grade": true,
     "grade_id": "cell-ac9dcc893aaec467",
     "locked": true,
     "points": 1,
     "schema_version": 3,
     "solution": false,
     "task": false
    },
    "tags": []
   },
   "outputs": [],
   "source": [
    "# Test 2: Verify values of fodd. (1 mark)\n",
    "assert np.allclose(f1odd(1/2),7/16) ,  \"f1odd(1/2) should be 7/16.\"\n",
    "assert np.allclose(f1odd(1),0) ,  \"f1odd(1) should be 0.\"\n",
    "assert np.allclose(f1odd(-1/2),-7/16) ,  \"f1odd(1) should be -7/16.\"\n",
    "print(\"Test 2: Success!\")"
   ]
  },
  {
   "cell_type": "code",
   "execution_count": null,
   "id": "01c2ac40-aa1a-4447-b32f-a65ed0425f9c",
   "metadata": {
    "deletable": false,
    "editable": false,
    "nbgrader": {
     "cell_type": "code",
     "checksum": "59f658ff664690b22834a5be5eae2b3a",
     "grade": true,
     "grade_id": "cell-9fe4ecc924da0572",
     "locked": true,
     "points": 1,
     "schema_version": 3,
     "solution": false,
     "task": false
    },
    "tags": []
   },
   "outputs": [],
   "source": [
    "# Test 3: Verify function fodd returns correct values. This cell contains hidden tests. (1 mark)"
   ]
  },
  {
   "cell_type": "markdown",
   "id": "b35535e0-ed8e-474c-869a-83cfdea7af07",
   "metadata": {
    "deletable": false,
    "editable": false,
    "nbgrader": {
     "cell_type": "markdown",
     "checksum": "61698fcfb3ce48c70d98fc1c75896e04",
     "grade": false,
     "grade_id": "cell-1fd95e4e7d364beb",
     "locked": true,
     "schema_version": 3,
     "solution": false,
     "task": false
    },
    "tags": []
   },
   "source": [
    "Plot the function `f1odd` to verify:"
   ]
  },
  {
   "cell_type": "code",
   "execution_count": null,
   "id": "6df13436-903a-4f78-8dc8-203551f82240",
   "metadata": {
    "deletable": false,
    "editable": false,
    "nbgrader": {
     "cell_type": "code",
     "checksum": "2e3ec5b6db1699bfd32c2a5f1d17208b",
     "grade": false,
     "grade_id": "cell-d66f46f51ff212ef",
     "locked": true,
     "schema_version": 3,
     "solution": false,
     "task": false
    },
    "tags": []
   },
   "outputs": [],
   "source": [
    "x = np.linspace(-1,1,200)\n",
    "y = f1odd(x)\n",
    "plt.plot(x,y)\n",
    "plt.grid(True)\n",
    "plt.show()"
   ]
  },
  {
   "cell_type": "markdown",
   "id": "09f7989f-1ba2-4433-8837-025749377420",
   "metadata": {
    "deletable": false,
    "editable": false,
    "nbgrader": {
     "cell_type": "markdown",
     "checksum": "d1eca355009450b8accbb539ec2bdd6c",
     "grade": false,
     "grade_id": "cell-f30df1699b0906ff",
     "locked": true,
     "schema_version": 3,
     "solution": false,
     "task": false
    },
    "tags": []
   },
   "source": [
    "**Part B.** Use the function `fourier` (see [MATH 316 > Fourier Series](https://ubcmath.github.io/MATH316/fourier.html#computing-coefficients)) to compute the Fourier coefficients of `f1odd` up to $N=5$. Since the function is odd, we expect `a0` and `a` to be all zeros. Save the coefficients as `b1`, `b2`, `b3`, `b4` and `b5`."
   ]
  },
  {
   "cell_type": "code",
   "execution_count": null,
   "id": "d98eff56-bfde-4d81-b8cf-51b5d779ae5a",
   "metadata": {
    "deletable": false,
    "editable": false,
    "nbgrader": {
     "cell_type": "code",
     "checksum": "bc334ea1510e7f6f0dd870ba7774f1da",
     "grade": false,
     "grade_id": "cell-f54f4d5c2dccc50d",
     "locked": true,
     "schema_version": 3,
     "solution": false,
     "task": false
    },
    "tags": []
   },
   "outputs": [],
   "source": [
    "def fourier(f,L,N):\n",
    "    a = np.zeros(N)\n",
    "    b = np.zeros(N)\n",
    "    I,_ = spi.quad(f,-L,L)\n",
    "    a0 = 1/L*I\n",
    "    for n in range(1,N+1):\n",
    "        integrand = lambda x: f(x)*np.cos(n*np.pi*x/L)\n",
    "        I,_ = spi.quad(integrand,-L,L)\n",
    "        a[n-1] = 1/L*I\n",
    "        integrand = lambda x: f(x)*np.sin(n*np.pi*x/L)\n",
    "        I,_ = spi.quad(integrand,-L,L)\n",
    "        b[n-1] = 1/L*I\n",
    "    return a0,a,b"
   ]
  },
  {
   "cell_type": "code",
   "execution_count": null,
   "id": "e823abc7-16fc-49ae-bd69-42415a1bcc55",
   "metadata": {
    "deletable": false,
    "nbgrader": {
     "cell_type": "code",
     "checksum": "96995437e307da5b6c55685dbabbc92a",
     "grade": false,
     "grade_id": "cell-db5f3d7afce73fcc",
     "locked": false,
     "schema_version": 3,
     "solution": true,
     "task": false
    },
    "tags": []
   },
   "outputs": [],
   "source": [
    "# YOUR CODE HERE"
   ]
  },
  {
   "cell_type": "code",
   "execution_count": null,
   "id": "d1ee53fd-9f4a-4c02-8ba7-198f042d2bb9",
   "metadata": {
    "deletable": false,
    "editable": false,
    "nbgrader": {
     "cell_type": "code",
     "checksum": "1b4e840bac26b4b4815c9cadd78f79f7",
     "grade": true,
     "grade_id": "cell-4bf2cf0264346e1d",
     "locked": true,
     "points": 1,
     "schema_version": 3,
     "solution": false,
     "task": false
    },
    "tags": []
   },
   "outputs": [],
   "source": [
    "# Test 1: Verify values are numbers. (1 mark)\n",
    "assert b1 > 0 , \"b1 is positive.\"\n",
    "assert b2 < 0 , \"b2 is negative.\"\n",
    "assert b3 > 0 , \"b3 is positive.\"\n",
    "assert b4 < 0 , \"b4 is negative.\"\n",
    "assert b5 > 0 , \"b5 is positive.\"\n",
    "print(\"Test 1: Success!\")"
   ]
  },
  {
   "cell_type": "code",
   "execution_count": null,
   "id": "d4e4ea31-2ec7-488d-b8b5-51def5579273",
   "metadata": {
    "deletable": false,
    "editable": false,
    "nbgrader": {
     "cell_type": "code",
     "checksum": "63689f052bc368021b166209b59b14da",
     "grade": true,
     "grade_id": "cell-c042ba1d6ead0153",
     "locked": true,
     "points": 1,
     "schema_version": 3,
     "solution": false,
     "task": false
    },
    "tags": []
   },
   "outputs": [],
   "source": [
    "# Test 2: Verify first first and last entries. (1 mark)\n",
    "assert np.round(b1,2) == .46 ,  \"b1 rounded to 2 decimal places should be 0.46.\"\n",
    "assert np.round(b5,3) == .006 ,  \"b5 rounded to 3 decimal places should be 0.006.\"\n",
    "print(\"Test 2: Success!\")"
   ]
  },
  {
   "cell_type": "code",
   "execution_count": null,
   "id": "31c3a08a-5a8d-40ac-8af9-1f1efa7be77a",
   "metadata": {
    "deletable": false,
    "editable": false,
    "nbgrader": {
     "cell_type": "code",
     "checksum": "ab725aef455ff57c48f08ba4f72087bf",
     "grade": true,
     "grade_id": "cell-7f939ceb9f6633fa",
     "locked": true,
     "points": 1,
     "schema_version": 3,
     "solution": false,
     "task": false
    },
    "tags": []
   },
   "outputs": [],
   "source": [
    "# Test 3: Verify correct values. This cell contains hidden tests. (1 mark)"
   ]
  },
  {
   "cell_type": "markdown",
   "id": "9d9854bb-ef1f-4d36-b3a8-848b46dfdc25",
   "metadata": {
    "deletable": false,
    "editable": false,
    "nbgrader": {
     "cell_type": "markdown",
     "checksum": "4ff90287bc2eaa59d4a762942df61e10",
     "grade": false,
     "grade_id": "cell-3c1bcc3250f5f784",
     "locked": true,
     "schema_version": 3,
     "solution": false,
     "task": false
    },
    "tags": []
   },
   "source": [
    "Plot the sine series with the function:"
   ]
  },
  {
   "cell_type": "code",
   "execution_count": null,
   "id": "4e340a66-b73e-4438-9f4a-e30f3e264f21",
   "metadata": {
    "deletable": false,
    "editable": false,
    "nbgrader": {
     "cell_type": "code",
     "checksum": "018e391b5bfc3a267b0e0dfa637fa7cf",
     "grade": false,
     "grade_id": "cell-a9815b148c3228fa",
     "locked": true,
     "schema_version": 3,
     "solution": false,
     "task": false
    },
    "tags": []
   },
   "outputs": [],
   "source": [
    "x = np.linspace(-1,1,100)\n",
    "y = f1odd(x)\n",
    "s = b1*np.sin(np.pi*x) + b2*np.sin(2*np.pi*x) + b3*np.sin(3*np.pi*x) + b4*np.sin(4*np.pi*x) + b5*np.sin(5*np.pi*x)\n",
    "plt.plot(x,y,'.',label='$f_{odd}(t)$')\n",
    "plt.plot(x,s,label='sine series')\n",
    "plt.grid(True), plt.legend()\n",
    "plt.show()"
   ]
  },
  {
   "cell_type": "markdown",
   "id": "f7e0c8c2-c80c-4b97-b424-ab122a211a8a",
   "metadata": {
    "deletable": false,
    "editable": false,
    "nbgrader": {
     "cell_type": "markdown",
     "checksum": "ac1f471f39104b1ab1d54e5e4f4d97d5",
     "grade": false,
     "grade_id": "cell-3707127f33b00268",
     "locked": true,
     "schema_version": 3,
     "solution": false,
     "task": false
    },
    "tags": []
   },
   "source": [
    "Remove the `#` in the cell below to animate the solution of the wave equation:"
   ]
  },
  {
   "cell_type": "code",
   "execution_count": null,
   "id": "15053b17-b4dc-43f7-abd0-d97a58a70b39",
   "metadata": {
    "tags": []
   },
   "outputs": [],
   "source": [
    "B = [b1,b2,b3,b4,b5]\n",
    "u = lambda x,t: sum([B[n-1]*np.sin(n*np.pi*x)*np.cos(n*np.pi*t) for n in range(5)])\n",
    "\n",
    "x = np.linspace(0,1,51)\n",
    "t = np.linspace(0,10,1001)\n",
    "X,T = np.meshgrid(x,t)\n",
    "U = u(X,T).T\n",
    "\n",
    "nframes = 200\n",
    "# ani = animate(U,nframes)\n",
    "# HTML(ani.to_html5_video())"
   ]
  },
  {
   "cell_type": "markdown",
   "id": "dcc41fdf-4902-4349-b31b-f620a76308fd",
   "metadata": {
    "deletable": false,
    "editable": false,
    "nbgrader": {
     "cell_type": "markdown",
     "checksum": "31b6862f95020a4955380f2416976956",
     "grade": false,
     "grade_id": "cell-9e16d6e16e5c4ae9",
     "locked": true,
     "schema_version": 3,
     "solution": false,
     "task": false
    },
    "tags": []
   },
   "source": [
    "## Problem 2 (4 marks)\n",
    "\n",
    "Consider the equation\n",
    "\n",
    "$$\n",
    "u_{tt} = u_{xx} \\ , \\ \\ u(0,t) = u(1,t) = 0 \\ , \\ \\ u(x,0) = x - x^4 \\ , \\ \\ u_t(x,0) = 0\n",
    "$$\n",
    "\n",
    "The function `wave` below implements the central-time-central-space (CTCS) finite difference method for the wave equation. See [MATH 316 Jupyter Notebooks > Wave Equation](https://ubcmath.github.io/MATH316/wave.html#ctcs-with-mixed-bcs)."
   ]
  },
  {
   "cell_type": "code",
   "execution_count": null,
   "id": "1c4a0d74-0d2d-4f3d-a6bb-7e76f9bcde0e",
   "metadata": {
    "deletable": false,
    "editable": false,
    "nbgrader": {
     "cell_type": "code",
     "checksum": "6d125be8a81c4c277693c0e88e9a3e4a",
     "grade": false,
     "grade_id": "cell-59f55d5e1afc94b9",
     "locked": true,
     "schema_version": 3,
     "solution": false,
     "task": false
    },
    "tags": []
   },
   "outputs": [],
   "source": [
    "def wave(c,L,f,g,BCtype0,BC0,BCtypeL,BCL,tf,N,K):\n",
    "    dx = L/N\n",
    "    dt = tf/K\n",
    "    r = c*dt/dx\n",
    "    x = np.linspace(0,L,N+1)\n",
    "    U = np.zeros((N+1,K+1))\n",
    "    U[:,0] = f(x)\n",
    "    A = np.zeros((N+1,N+1))\n",
    "    q = np.zeros(N+1)\n",
    "    G = g(x)\n",
    "\n",
    "    if (BCtype0 not in ['D','N']) or (BCtypeL not in ['D','N']):\n",
    "        raise Exception(\"Expecting boundary conditions of type 'D' or 'N'.\")\n",
    "    if BCtype0 == 'D':\n",
    "        U[0,0] = BC0\n",
    "        A[0,0] = 2.\n",
    "        G[0] = 0.\n",
    "    if BCtype0 == 'N':\n",
    "        A[0,0] = 2*(1 - r**2)\n",
    "        A[0,1] = 2*r**2\n",
    "        q[0] = -2*r**2*dx*BC0\n",
    "    if BCtypeL == 'D':\n",
    "        U[N,0] = BCL\n",
    "        A[N,N] = 2.\n",
    "        G[N] = 0.\n",
    "    if BCtypeL == 'N':\n",
    "        A[N,N] = 2*(1 - r**2)\n",
    "        A[N,N-1] = 2*r**2\n",
    "        q[N] = 2*r**2*dx*BCL\n",
    "    \n",
    "    for n in range(1,N):\n",
    "        A[n,n-1] = r**2\n",
    "        A[n,n] = 2*(1 - r**2)\n",
    "        A[n,n+1] = r**2\n",
    "\n",
    "    U[:,1] = 1/2*A@U[:,0] + 1/2*q + dx*G\n",
    "    for k in range(1,K):\n",
    "        U[:,k+1] = A@U[:,k] - U[:,k-1] + q\n",
    "    \n",
    "    return U"
   ]
  },
  {
   "cell_type": "markdown",
   "id": "346b0b22-a56a-4403-9113-1555aa2a4a72",
   "metadata": {
    "deletable": false,
    "editable": false,
    "nbgrader": {
     "cell_type": "markdown",
     "checksum": "5a2c55e524addecc65cae40031892ffa",
     "grade": false,
     "grade_id": "cell-a955385f0620359e",
     "locked": true,
     "schema_version": 3,
     "solution": false,
     "task": false
    },
    "tags": []
   },
   "source": [
    "Compute the finite difference approximation using $t_f=5$, $N=50$, $K=5000$. Save the result as `U2`."
   ]
  },
  {
   "cell_type": "code",
   "execution_count": null,
   "id": "ff949491-692b-49fb-a5be-84d53d3a96de",
   "metadata": {
    "deletable": false,
    "nbgrader": {
     "cell_type": "code",
     "checksum": "fe53f56f53a39315c2e59a37c6ed732c",
     "grade": false,
     "grade_id": "cell-84c1401b56d63a7c",
     "locked": false,
     "schema_version": 3,
     "solution": true,
     "task": false
    },
    "tags": []
   },
   "outputs": [],
   "source": [
    "# YOUR CODE HERE"
   ]
  },
  {
   "cell_type": "code",
   "execution_count": null,
   "id": "51b7b94d-eea0-491b-815f-fffd9736ffff",
   "metadata": {
    "deletable": false,
    "editable": false,
    "nbgrader": {
     "cell_type": "code",
     "checksum": "65b6fbfa3add421a2eaeb1f42148e20d",
     "grade": true,
     "grade_id": "cell-bbd3333ca7f50e68",
     "locked": true,
     "points": 1,
     "schema_version": 3,
     "solution": false,
     "task": false
    },
    "tags": []
   },
   "outputs": [],
   "source": [
    "# Test 1: Verify U2 is a NumPy array of size 51 by 5001. (1 mark)\n",
    "assert isinstance(U2,np.ndarray) , \"U2 should be a NumPy array.\"\n",
    "assert U2.shape == (51,5001) , \"U2 should be 51 by 5001.\"\n",
    "print(\"Test 1: Success!\")"
   ]
  },
  {
   "cell_type": "code",
   "execution_count": null,
   "id": "f8dfd5cb-e736-4075-9f42-7d5626e094db",
   "metadata": {
    "deletable": false,
    "editable": false,
    "nbgrader": {
     "cell_type": "code",
     "checksum": "dd0d63d0c29c87af7c8c3b53c2d08ec0",
     "grade": true,
     "grade_id": "cell-cfe04777e02e620f",
     "locked": true,
     "points": 1,
     "schema_version": 3,
     "solution": false,
     "task": false
    },
    "tags": []
   },
   "outputs": [],
   "source": [
    "# Test 2: Verify values of U2. (1 mark)\n",
    "assert np.allclose(U2[0,0],0)\n",
    "assert np.allclose(U2[25,0],7/16)\n",
    "assert np.allclose(U2[-1,0],0)\n",
    "assert np.allclose(U2[10,-1],-0.39216876433588327)\n",
    "print(\"Test 2: Success!\")"
   ]
  },
  {
   "cell_type": "code",
   "execution_count": null,
   "id": "d6aeeee5-c5d7-42c7-b489-376a8bcaf98b",
   "metadata": {
    "deletable": false,
    "editable": false,
    "nbgrader": {
     "cell_type": "code",
     "checksum": "92360bf6313d7b8da58d7ed1f2c81732",
     "grade": true,
     "grade_id": "cell-e83d2d74f152a165",
     "locked": true,
     "points": 2,
     "schema_version": 3,
     "solution": false,
     "task": false
    },
    "tags": []
   },
   "outputs": [],
   "source": [
    "# Test 3: Verify U2 has correct values. This cell contains hidden tests. (2 marks)"
   ]
  },
  {
   "cell_type": "markdown",
   "id": "4690b5b8-b921-442f-be12-5d20382bcdd5",
   "metadata": {
    "deletable": false,
    "editable": false,
    "nbgrader": {
     "cell_type": "markdown",
     "checksum": "6c875b8268887af03a4d5a2446c1b80c",
     "grade": false,
     "grade_id": "cell-4d6d2db6e3ffbce4",
     "locked": true,
     "schema_version": 3,
     "solution": false,
     "task": false
    },
    "tags": []
   },
   "source": [
    "Remove the `#` in the cell below to animate the solution:"
   ]
  },
  {
   "cell_type": "code",
   "execution_count": null,
   "id": "2123a6a3-d75c-4071-b22a-c117ab170ad0",
   "metadata": {
    "tags": []
   },
   "outputs": [],
   "source": [
    "nframes = 200\n",
    "# ani = animate(U2,nframes)\n",
    "# HTML(ani.to_html5_video())"
   ]
  },
  {
   "cell_type": "markdown",
   "id": "e25b2a43-a5b9-4037-a75a-bbc1fb93c290",
   "metadata": {
    "deletable": false,
    "editable": false,
    "nbgrader": {
     "cell_type": "markdown",
     "checksum": "15f7a664f1f90629339e5d5bf7ab74f4",
     "grade": false,
     "grade_id": "cell-dae42afd518949af",
     "locked": true,
     "schema_version": 3,
     "solution": false,
     "task": false
    },
    "tags": []
   },
   "source": [
    "## Problem 3 (4 marks)\n",
    "\n",
    "Consider the equation\n",
    "\n",
    "$$\n",
    "u_{tt} = u_{xx} \\ , \\ \\ u_x(0,t) = 1 \\ , \\ \\ u(1,t) = 0 \\ , \\ \\ u(x,0) = x - x^4 \\ , \\ \\ u_t(x,0) = 0.1(1 - x^2)\n",
    "$$\n",
    "\n",
    "Compute the finite difference approximation using $tf=10$, $N=50$, $K=8000$. Save the result as `U3`."
   ]
  },
  {
   "cell_type": "code",
   "execution_count": null,
   "id": "3ccb0eb0-5822-480e-97e2-7aa4f5c3ffd4",
   "metadata": {
    "deletable": false,
    "nbgrader": {
     "cell_type": "code",
     "checksum": "9fddd98137c51608828707ef4499df64",
     "grade": false,
     "grade_id": "cell-5e68614d1763044f",
     "locked": false,
     "schema_version": 3,
     "solution": true,
     "task": false
    },
    "tags": []
   },
   "outputs": [],
   "source": [
    "# YOUR CODE HERE"
   ]
  },
  {
   "cell_type": "code",
   "execution_count": null,
   "id": "5fb4118e-433f-4364-8354-744ebe9d1b77",
   "metadata": {
    "deletable": false,
    "editable": false,
    "nbgrader": {
     "cell_type": "code",
     "checksum": "73d916bc3d4755c3473473b163550b19",
     "grade": true,
     "grade_id": "cell-45b5e4860780a314",
     "locked": true,
     "points": 1,
     "schema_version": 3,
     "solution": false,
     "task": false
    },
    "tags": []
   },
   "outputs": [],
   "source": [
    "# Test 1: Verify U3 is a NumPy array of size 51 by 8001. (1 mark)\n",
    "assert isinstance(U3,np.ndarray) , \"U3 should be a NumPy array.\"\n",
    "assert U3.shape == (51,8001) , \"U3 should be 51 by 8001.\"\n",
    "print(\"Test 1: Success!\")"
   ]
  },
  {
   "cell_type": "code",
   "execution_count": null,
   "id": "51465d9b-2ab4-4343-8fba-f80eee480f41",
   "metadata": {
    "deletable": false,
    "editable": false,
    "nbgrader": {
     "cell_type": "code",
     "checksum": "81f0ba013a7f25608abb9ce86b4ba731",
     "grade": true,
     "grade_id": "cell-8ea974dd58b6065e",
     "locked": true,
     "points": 1,
     "schema_version": 3,
     "solution": false,
     "task": false
    },
    "tags": []
   },
   "outputs": [],
   "source": [
    "# Test 2: Verify values of U3. (1 mark)\n",
    "assert np.allclose(U3[0,0],0)\n",
    "assert np.allclose(U3[25,0],7/16)\n",
    "assert np.allclose(U3[-1,0],0)\n",
    "assert np.allclose(U3[20,-1],-1.5739665440937018)\n",
    "print(\"Test 2: Success!\")"
   ]
  },
  {
   "cell_type": "code",
   "execution_count": null,
   "id": "042aaa7a-ade1-462e-b7e8-ce03e396fa41",
   "metadata": {
    "deletable": false,
    "editable": false,
    "nbgrader": {
     "cell_type": "code",
     "checksum": "f3870c2eaf0f4a698c7c21f411ff61c6",
     "grade": true,
     "grade_id": "cell-be3015d40b38cebb",
     "locked": true,
     "points": 2,
     "schema_version": 3,
     "solution": false,
     "task": false
    },
    "tags": []
   },
   "outputs": [],
   "source": [
    "# Test 3: Verify U3 has correct values. This cell contains hidden tests. (2 marks)"
   ]
  },
  {
   "cell_type": "markdown",
   "id": "5f6f8cad-c47f-4234-8560-2daa4a1f4672",
   "metadata": {
    "deletable": false,
    "editable": false,
    "nbgrader": {
     "cell_type": "markdown",
     "checksum": "68649d1f5587299a9bedb655b1768d6e",
     "grade": false,
     "grade_id": "cell-fff86f8244e6550d",
     "locked": true,
     "schema_version": 3,
     "solution": false,
     "task": false
    },
    "tags": []
   },
   "source": [
    "Remove the `#` in the cell below to animate the result:"
   ]
  },
  {
   "cell_type": "code",
   "execution_count": null,
   "id": "8be0f1b8-92e1-4de0-bdc1-248a1be2939a",
   "metadata": {
    "tags": []
   },
   "outputs": [],
   "source": [
    "nframes = 200\n",
    "# ani = animate(U3,nframes)\n",
    "# HTML(ani.to_html5_video())"
   ]
  }
 ],
 "metadata": {
  "kernelspec": {
   "display_name": "Python 3 (ipykernel)",
   "language": "python",
   "name": "python3"
  },
  "language_info": {
   "codemirror_mode": {
    "name": "ipython",
    "version": 3
   },
   "file_extension": ".py",
   "mimetype": "text/x-python",
   "name": "python",
   "nbconvert_exporter": "python",
   "pygments_lexer": "ipython3",
   "version": "3.10.12"
  }
 },
 "nbformat": 4,
 "nbformat_minor": 5
}
