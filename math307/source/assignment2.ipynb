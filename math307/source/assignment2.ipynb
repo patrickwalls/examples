{
 "cells": [
  {
   "cell_type": "markdown",
   "id": "f571f57c",
   "metadata": {
    "nbgrader": {
     "grade": false,
     "grade_id": "cell-302bc79bfc42d310",
     "locked": true,
     "schema_version": 3,
     "solution": false,
     "task": false
    }
   },
   "source": [
    "# MATH 307 Assignment 2\n",
    "\n",
    "* See [Mathematical Python](https://patrickwalls.github.io/mathematicalpython/) for an introduction to Python and Jupyter\n",
    "* See [MATH 307 Jupyter Notebooks](https://ubcmath.github.io/MATH307/) for examples\n",
    "* Run the tests to verify your solutions\n",
    "* There are **hidden tests** therefore your solutions may not be entirely correct even if they pass the tests below\n",
    "* Submit your `.ipynb` notebook file to Canvas"
   ]
  },
  {
   "cell_type": "code",
   "execution_count": 1,
   "id": "b56303f3",
   "metadata": {
    "nbgrader": {
     "grade": false,
     "grade_id": "cell-4f016963b5cc0413",
     "locked": true,
     "schema_version": 3,
     "solution": false,
     "task": false
    }
   },
   "outputs": [],
   "source": [
    "import numpy as np\n",
    "import scipy.linalg as la\n",
    "import matplotlib.pyplot as plt\n",
    "import matplotlib as mpl\n",
    "mpl.rc('image', cmap='RdBu')"
   ]
  },
  {
   "cell_type": "markdown",
   "id": "1ea142d9",
   "metadata": {
    "nbgrader": {
     "grade": false,
     "grade_id": "cell-c07689bcd958386a",
     "locked": true,
     "schema_version": 3,
     "solution": false,
     "task": false
    }
   },
   "source": [
    "## Problem 1 (6 marks)\n",
    "\n",
    "A [Toeplitz matrix](https://en.wikipedia.org/wiki/Toeplitz_matrix) has constant values along the diagonals. The function `scipy.linalg.toeplitz` creates a Toeplitz matrix from a given vector. For example:"
   ]
  },
  {
   "cell_type": "code",
   "execution_count": 2,
   "id": "d514833d",
   "metadata": {
    "nbgrader": {
     "grade": false,
     "grade_id": "cell-dc7622731dc46299",
     "locked": true,
     "schema_version": 3,
     "solution": false,
     "task": false
    }
   },
   "outputs": [
    {
     "name": "stdout",
     "output_type": "stream",
     "text": [
      "[[-2  1  0  0  0  0  0]\n",
      " [ 1 -2  1  0  0  0  0]\n",
      " [ 0  1 -2  1  0  0  0]\n",
      " [ 0  0  1 -2  1  0  0]\n",
      " [ 0  0  0  1 -2  1  0]\n",
      " [ 0  0  0  0  1 -2  1]\n",
      " [ 0  0  0  0  0  1 -2]]\n"
     ]
    }
   ],
   "source": [
    "M = la.toeplitz([-2,1,0,0,0,0,0])\n",
    "print(M)"
   ]
  },
  {
   "cell_type": "markdown",
   "id": "3c8bff29",
   "metadata": {
    "nbgrader": {
     "grade": false,
     "grade_id": "cell-b9c012b3c9ae8af8",
     "locked": true,
     "schema_version": 3,
     "solution": false,
     "task": false
    }
   },
   "source": [
    "* Use the function `numpy.linalg.matrix_rank` to compute the rank of a matrix\n",
    "* The nullspace of $M$ is denoted $N(M)$\n",
    "* The range of $M$ is denoted $R(M)$"
   ]
  },
  {
   "cell_type": "markdown",
   "id": "efc043ee",
   "metadata": {
    "nbgrader": {
     "grade": false,
     "grade_id": "cell-e7580c7ae13905b2",
     "locked": true,
     "schema_version": 3,
     "solution": false,
     "task": false
    }
   },
   "source": [
    "### Problem 1a (2 marks)\n",
    "\n",
    "Compute the dimensions of $N(M_1)$ and $R(M_1)$ for the matrix $M_1$ below. Save responses as `nullspace_M1` and `range_M1` respectively."
   ]
  },
  {
   "cell_type": "code",
   "execution_count": 3,
   "id": "75e40144",
   "metadata": {
    "nbgrader": {
     "grade": false,
     "grade_id": "cell-22c0ac1405367851",
     "locked": true,
     "schema_version": 3,
     "solution": false,
     "task": false
    }
   },
   "outputs": [
    {
     "name": "stdout",
     "output_type": "stream",
     "text": [
      "[[1 1 0 0 0 0 0 1]\n",
      " [1 1 1 0 0 0 0 0]\n",
      " [0 1 1 1 0 0 0 0]\n",
      " [0 0 1 1 1 0 0 0]\n",
      " [0 0 0 1 1 1 0 0]\n",
      " [0 0 0 0 1 1 1 0]\n",
      " [0 0 0 0 0 1 1 1]\n",
      " [1 0 0 0 0 0 1 1]]\n"
     ]
    }
   ],
   "source": [
    "M1 = la.toeplitz([1,1,0,0,0,0,0,1])\n",
    "print(M1)"
   ]
  },
  {
   "cell_type": "code",
   "execution_count": 4,
   "id": "aa7d67d0",
   "metadata": {
    "nbgrader": {
     "grade": false,
     "grade_id": "cell-47c828aad9d9bb00",
     "locked": false,
     "schema_version": 3,
     "solution": true,
     "task": false
    }
   },
   "outputs": [],
   "source": [
    "### BEGIN SOLUTION\n",
    "nullspace_M1 = 0\n",
    "range_M1 = 8\n",
    "### END SOLUTION"
   ]
  },
  {
   "cell_type": "code",
   "execution_count": 5,
   "id": "087bb2a0",
   "metadata": {
    "nbgrader": {
     "grade": true,
     "grade_id": "cell-3a4a194ab54daa87",
     "locked": true,
     "points": 1,
     "schema_version": 3,
     "solution": false,
     "task": false
    }
   },
   "outputs": [
    {
     "name": "stdout",
     "output_type": "stream",
     "text": [
      "Problem 1a Test 1: Success!\n"
     ]
    }
   ],
   "source": [
    "\"Verify nullspace_M1 and range_M1 are non-negative numbers. (1 mark)\"\n",
    "assert nullspace_M1 >= 0 and range_M1 >= 0\n",
    "print(\"Problem 1a Test 1: Success!\")"
   ]
  },
  {
   "cell_type": "code",
   "execution_count": 6,
   "id": "254a87d7",
   "metadata": {
    "nbgrader": {
     "grade": true,
     "grade_id": "cell-cf424c49ee898a9b",
     "locked": true,
     "points": 1,
     "schema_version": 3,
     "solution": false,
     "task": false
    }
   },
   "outputs": [
    {
     "name": "stdout",
     "output_type": "stream",
     "text": [
      "Problem 1a Test 2: Success!\n"
     ]
    }
   ],
   "source": [
    "\"Verify values of nullspace_M1 and range_M1. This cell contains hidden tests. (1 mark)\"\n",
    "assert nullspace_M1 >= 0 and range_M1 >= 0\n",
    "### BEGIN HIDDEN TESTS\n",
    "M1 = la.toeplitz([1,1,0,0,0,0,0,1])\n",
    "r = np.linalg.matrix_rank(M1)\n",
    "assert range_M1 == r\n",
    "assert nullspace_M1 == (M1.shape[1] - r)\n",
    "### END HIDDEN TESTS\n",
    "print(\"Problem 1a Test 2: Success!\")"
   ]
  },
  {
   "cell_type": "markdown",
   "id": "00d9c29f",
   "metadata": {
    "nbgrader": {
     "grade": false,
     "grade_id": "cell-774b3b7e69d23263",
     "locked": true,
     "schema_version": 3,
     "solution": false,
     "task": false
    }
   },
   "source": [
    "### Problem 1b (2 marks)\n",
    "\n",
    "Compute the dimensions of $N(M_2)$ and $R(M_2)$ for the matrix $M_2$ below. Save responses as `nullspace_M2` and `range_M2` respectively."
   ]
  },
  {
   "cell_type": "code",
   "execution_count": 7,
   "id": "6eda3f9c",
   "metadata": {
    "nbgrader": {
     "grade": false,
     "grade_id": "cell-30db1e224c56dba6",
     "locked": true,
     "schema_version": 3,
     "solution": false,
     "task": false
    }
   },
   "outputs": [
    {
     "name": "stdout",
     "output_type": "stream",
     "text": [
      "[[2 1 1 0 0 0 1 1]\n",
      " [1 2 1 1 0 0 0 1]\n",
      " [1 1 2 1 1 0 0 0]\n",
      " [0 1 1 2 1 1 0 0]\n",
      " [0 0 1 1 2 1 1 0]\n",
      " [0 0 0 1 1 2 1 1]\n",
      " [1 0 0 0 1 1 2 1]\n",
      " [1 1 0 0 0 1 1 2]]\n"
     ]
    }
   ],
   "source": [
    "M2 = la.toeplitz([2,1,1,0,0,0,1,1])\n",
    "print(M2)"
   ]
  },
  {
   "cell_type": "code",
   "execution_count": 8,
   "id": "00930cda",
   "metadata": {
    "nbgrader": {
     "grade": false,
     "grade_id": "cell-6c82573446f0d349",
     "locked": false,
     "schema_version": 3,
     "solution": true,
     "task": false
    }
   },
   "outputs": [],
   "source": [
    "### BEGIN SOLUTION\n",
    "nullspace_M2 = 2\n",
    "range_M2 = 6\n",
    "### END SOLUTION"
   ]
  },
  {
   "cell_type": "code",
   "execution_count": 9,
   "id": "a809c11f",
   "metadata": {
    "nbgrader": {
     "grade": true,
     "grade_id": "cell-2c9cb136a3c6d37c",
     "locked": true,
     "points": 1,
     "schema_version": 3,
     "solution": false,
     "task": false
    }
   },
   "outputs": [
    {
     "name": "stdout",
     "output_type": "stream",
     "text": [
      "Problem 1b Test 1: Success!\n"
     ]
    }
   ],
   "source": [
    "\"Verify nullspace_M2 and range_M2 are non-negative numbers. (1 mark)\"\n",
    "assert nullspace_M2 >= 0 and range_M2 >= 0\n",
    "print(\"Problem 1b Test 1: Success!\")"
   ]
  },
  {
   "cell_type": "code",
   "execution_count": 10,
   "id": "9c9dad30",
   "metadata": {
    "nbgrader": {
     "grade": true,
     "grade_id": "cell-56db7cdb7ebbf6ed",
     "locked": true,
     "points": 1,
     "schema_version": 3,
     "solution": false,
     "task": false
    }
   },
   "outputs": [
    {
     "name": "stdout",
     "output_type": "stream",
     "text": [
      "Problem 1b Test 2: Success!\n"
     ]
    }
   ],
   "source": [
    "\"Verify values of nullspace_M2 and range_M2. This cell contains hidden tests. (1 mark)\"\n",
    "assert nullspace_M2 >= 0 and range_M2 >= 0\n",
    "### BEGIN HIDDEN TESTS\n",
    "M2 = la.toeplitz([2,1,1,0,0,0,1,1])\n",
    "r = np.linalg.matrix_rank(M2)\n",
    "assert range_M2 == r\n",
    "assert nullspace_M2 == (M2.shape[0] - r)\n",
    "### END HIDDEN TESTS\n",
    "print(\"Problem 1b Test 2: Success!\")"
   ]
  },
  {
   "cell_type": "markdown",
   "id": "45275e7a",
   "metadata": {
    "nbgrader": {
     "grade": false,
     "grade_id": "cell-c1cb3796f4db8ba7",
     "locked": true,
     "schema_version": 3,
     "solution": false,
     "task": false
    }
   },
   "source": [
    "### Problem 1c (2 marks)\n",
    "\n",
    "Compute the dimensions of $N(M_3)$ and $R(M_3)$ for the matrix $M_3$ below. Save responses as `nullspace_M3` and `range_M3` respectively."
   ]
  },
  {
   "cell_type": "code",
   "execution_count": 11,
   "id": "ba5de31e",
   "metadata": {
    "nbgrader": {
     "grade": false,
     "grade_id": "cell-3ec40e069cae2fea",
     "locked": true,
     "schema_version": 3,
     "solution": false,
     "task": false
    }
   },
   "outputs": [
    {
     "name": "stdout",
     "output_type": "stream",
     "text": [
      "[[2 2 1 0 0 0 1 2]\n",
      " [2 2 2 1 0 0 0 1]\n",
      " [1 2 2 2 1 0 0 0]\n",
      " [0 1 2 2 2 1 0 0]\n",
      " [0 0 1 2 2 2 1 0]\n",
      " [0 0 0 1 2 2 2 1]\n",
      " [1 0 0 0 1 2 2 2]\n",
      " [2 1 0 0 0 1 2 2]]\n"
     ]
    }
   ],
   "source": [
    "M3 = la.toeplitz([2,2,1,0,0,0,1,2])\n",
    "print(M3)"
   ]
  },
  {
   "cell_type": "code",
   "execution_count": 12,
   "id": "fd05f9dd",
   "metadata": {
    "nbgrader": {
     "grade": false,
     "grade_id": "cell-028eb265830a1c9c",
     "locked": false,
     "schema_version": 3,
     "solution": true,
     "task": false
    }
   },
   "outputs": [],
   "source": [
    "### BEGIN SOLUTION\n",
    "nullspace_M3 = 3\n",
    "range_M3 = 5\n",
    "### END SOLUTION"
   ]
  },
  {
   "cell_type": "code",
   "execution_count": 13,
   "id": "58a3d1ce",
   "metadata": {
    "nbgrader": {
     "grade": true,
     "grade_id": "cell-df81e64cd6e8994b",
     "locked": true,
     "points": 1,
     "schema_version": 3,
     "solution": false,
     "task": false
    }
   },
   "outputs": [
    {
     "name": "stdout",
     "output_type": "stream",
     "text": [
      "Problem 1c Test 1: Success!\n"
     ]
    }
   ],
   "source": [
    "\"Verify nullspace_M3 and range_M3 are non-negative numbers. (1 mark)\"\n",
    "assert nullspace_M3 >= 0 and range_M3 >= 0\n",
    "print(\"Problem 1c Test 1: Success!\")"
   ]
  },
  {
   "cell_type": "code",
   "execution_count": 14,
   "id": "56599687",
   "metadata": {
    "nbgrader": {
     "grade": true,
     "grade_id": "cell-591449a982f85e79",
     "locked": true,
     "points": 1,
     "schema_version": 3,
     "solution": false,
     "task": false
    }
   },
   "outputs": [
    {
     "name": "stdout",
     "output_type": "stream",
     "text": [
      "Problem 1c Test 2: Success!\n"
     ]
    }
   ],
   "source": [
    "\"Verify values of nullspace_M3 and range_M3. This cell contains hidden tests. (1 mark)\"\n",
    "assert nullspace_M3 >= 0 and range_M3 >= 0\n",
    "### BEGIN HIDDEN TESTS\n",
    "M3 = la.toeplitz([2,2,1,0,0,0,1,2])\n",
    "r = np.linalg.matrix_rank(M3)\n",
    "assert range_M3 == r\n",
    "assert nullspace_M3 == (M3.shape[0] - r)\n",
    "### END HIDDEN TESTS\n",
    "print(\"Problem 1c Test 2: Success!\")"
   ]
  },
  {
   "cell_type": "markdown",
   "id": "c9c4b62c",
   "metadata": {
    "nbgrader": {
     "grade": false,
     "grade_id": "cell-12587aba8138324e",
     "locked": true,
     "schema_version": 3,
     "solution": false,
     "task": false
    }
   },
   "source": [
    "## Problem 2 (6 marks)\n",
    "\n",
    "The code cells below perform the following tasks:\n",
    "\n",
    "* Create matrices $A_0,\\dots,A_9$ each of size 5 x 3 which represent the digits 0 to 9\n",
    "* Visualize the matrices as 5 x 3 pixel images\n",
    "* Flatten each matrix $A_k$ into a vector $\\mathbf{v}_k$ of length 15 and construct a 15 x 10 matrix $A$ with vectors $\\mathbf{v}_0,\\dots,\\mathbf{v}_9$ in the columns:\n",
    "\n",
    "$$\n",
    "A = \\begin{bmatrix} & & \\\\ \\mathbf{v}_0 & \\cdots & \\mathbf{v}_9 \\\\ & & \\end{bmatrix}\n",
    "$$\n",
    "\n",
    "Use the matrix $A$ to answer the problems (a)-(e) below."
   ]
  },
  {
   "cell_type": "code",
   "execution_count": 15,
   "id": "fc85b29a",
   "metadata": {
    "nbgrader": {
     "grade": false,
     "grade_id": "cell-7e29ede404190467",
     "locked": true,
     "schema_version": 3,
     "solution": false,
     "task": false
    }
   },
   "outputs": [
    {
     "data": {
      "image/png": "[encoded data removed]",
      "text/plain": [
       "<Figure size 1600x700 with 20 Axes>"
      ]
     },
     "metadata": {},
     "output_type": "display_data"
    }
   ],
   "source": [
    "A0 = np.array([[1.,1.,1.],\n",
    "               [1.,0.,1.],\n",
    "               [1.,0.,1.],\n",
    "               [1.,0.,1.],\n",
    "               [1.,1.,1.]])\n",
    "\n",
    "A1 = np.array([[0.,1.,0.],\n",
    "               [0.,1.,0.],\n",
    "               [0.,1.,0.],\n",
    "               [0.,1.,0.],\n",
    "               [0.,1.,0.]])\n",
    "\n",
    "A2 = np.array([[1.,1.,1.],\n",
    "               [0.,0.,1.],\n",
    "               [1.,1.,1.],\n",
    "               [1.,0.,0.],\n",
    "               [1.,1.,1.]])\n",
    "\n",
    "A3 = np.array([[1.,1.,1.],\n",
    "               [0.,0.,1.],\n",
    "               [0.,1.,1.],\n",
    "               [0.,0.,1.],\n",
    "               [1.,1.,1.]])\n",
    "\n",
    "A4 = np.array([[1.,0.,1.],\n",
    "               [1.,0.,1.],\n",
    "               [1.,1.,1.],\n",
    "               [0.,0.,1.],\n",
    "               [0.,0.,1.]])\n",
    "\n",
    "A5 = np.array([[1.,1.,1.],\n",
    "               [1.,0.,0.],\n",
    "               [1.,1.,1.],\n",
    "               [0.,0.,1.],\n",
    "               [1.,1.,1.]])\n",
    "\n",
    "A6 = np.array([[1.,1.,1.],\n",
    "               [1.,0.,0.],\n",
    "               [1.,1.,1.],\n",
    "               [1.,0.,1.],\n",
    "               [1.,1.,1.]])\n",
    "\n",
    "A7 = np.array([[1.,1.,1.],\n",
    "               [0.,0.,1.],\n",
    "               [0.,0.,1.],\n",
    "               [0.,0.,1.],\n",
    "               [0.,0.,1.]])\n",
    "\n",
    "A8 = np.array([[1.,1.,1.],\n",
    "               [1.,0.,1.],\n",
    "               [1.,1.,1.],\n",
    "               [1.,0.,1.],\n",
    "               [1.,1.,1.]])\n",
    "\n",
    "A9 = np.array([[1.,1.,1.],\n",
    "               [1.,0.,1.],\n",
    "               [1.,1.,1.],\n",
    "               [0.,0.,1.],\n",
    "               [1.,1.,1.]])\n",
    "\n",
    "digits = [A0,A1,A2,A3,A4,A5,A6,A7,A8,A9]\n",
    "plt.figure(figsize=(16,7))\n",
    "for n,digit in enumerate(digits):\n",
    "    plt.subplot(2,5,n+1)\n",
    "    plt.imshow(digit)\n",
    "    plt.title('$A_{}$'.format(n)), plt.colorbar(), plt.clim(-1,1)\n",
    "plt.show()"
   ]
  },
  {
   "cell_type": "markdown",
   "id": "7e08f636",
   "metadata": {
    "nbgrader": {
     "grade": false,
     "grade_id": "cell-1b1c7b24a74004d5",
     "locked": true,
     "schema_version": 3,
     "solution": false,
     "task": false
    }
   },
   "source": [
    "Flatten each matrix into a vector of length 15 and put the vectors into the columns of a matrix $A$:"
   ]
  },
  {
   "cell_type": "code",
   "execution_count": 16,
   "id": "fb0891e4",
   "metadata": {
    "nbgrader": {
     "grade": false,
     "grade_id": "cell-2d46048097241477",
     "locked": true,
     "schema_version": 3,
     "solution": false,
     "task": false
    }
   },
   "outputs": [
    {
     "data": {
      "text/plain": [
       "array([[1., 0., 1., 1., 1., 1., 1., 1., 1., 1.],\n",
       "       [1., 1., 1., 1., 0., 1., 1., 1., 1., 1.],\n",
       "       [1., 0., 1., 1., 1., 1., 1., 1., 1., 1.],\n",
       "       [1., 0., 0., 0., 1., 1., 1., 0., 1., 1.],\n",
       "       [0., 1., 0., 0., 0., 0., 0., 0., 0., 0.],\n",
       "       [1., 0., 1., 1., 1., 0., 0., 1., 1., 1.],\n",
       "       [1., 0., 1., 0., 1., 1., 1., 0., 1., 1.],\n",
       "       [0., 1., 1., 1., 1., 1., 1., 0., 1., 1.],\n",
       "       [1., 0., 1., 1., 1., 1., 1., 1., 1., 1.],\n",
       "       [1., 0., 1., 0., 0., 0., 1., 0., 1., 0.],\n",
       "       [0., 1., 0., 0., 0., 0., 0., 0., 0., 0.],\n",
       "       [1., 0., 0., 1., 1., 1., 1., 1., 1., 1.],\n",
       "       [1., 0., 1., 1., 0., 1., 1., 0., 1., 1.],\n",
       "       [1., 1., 1., 1., 0., 1., 1., 0., 1., 1.],\n",
       "       [1., 0., 1., 1., 1., 1., 1., 1., 1., 1.]])"
      ]
     },
     "execution_count": 16,
     "metadata": {},
     "output_type": "execute_result"
    }
   ],
   "source": [
    "A = np.column_stack([digit.flatten() for digit in digits])\n",
    "A"
   ]
  },
  {
   "cell_type": "markdown",
   "id": "fee21adf",
   "metadata": {
    "nbgrader": {
     "grade": false,
     "grade_id": "cell-81e4eba61717760f",
     "locked": true,
     "schema_version": 3,
     "solution": false,
     "task": false
    }
   },
   "source": [
    "Let $\\mathbf{v}_k$ be the $k$th column of $A$. Remember that indices start at 0 in Python. The vector $\\mathbf{v}_k$ reshaped into a $5 \\times 3$ matrix is exactly $A_k$. For example, the column at index 4 in $A$ reshaped into a $5 \\times 3$ matrix is displayed below."
   ]
  },
  {
   "cell_type": "code",
   "execution_count": 17,
   "id": "f23c8f96",
   "metadata": {
    "nbgrader": {
     "grade": false,
     "grade_id": "cell-da44dd84dfa9498b",
     "locked": true,
     "schema_version": 3,
     "solution": false,
     "task": false
    }
   },
   "outputs": [
    {
     "data": {
      "image/png": "[encoded data removed]",
      "text/plain": [
       "<Figure size 640x480 with 2 Axes>"
      ]
     },
     "metadata": {},
     "output_type": "display_data"
    }
   ],
   "source": [
    "k = 4\n",
    "vk = A[:,k]\n",
    "plt.imshow(vk.reshape(5,3)), plt.colorbar(), plt.clim([-1,1])\n",
    "plt.show()"
   ]
  },
  {
   "cell_type": "markdown",
   "id": "501a1372",
   "metadata": {
    "nbgrader": {
     "grade": false,
     "grade_id": "cell-235ed1647171769b",
     "locked": true,
     "schema_version": 3,
     "solution": false,
     "task": false
    }
   },
   "source": [
    "### Problem 2a (1 mark)\n",
    "\n",
    "Determine the rank of $A$ and save the value as `rankA`."
   ]
  },
  {
   "cell_type": "code",
   "execution_count": 18,
   "id": "3ce5f329",
   "metadata": {
    "nbgrader": {
     "grade": false,
     "grade_id": "cell-f38cdbea574b182f",
     "locked": false,
     "schema_version": 3,
     "solution": true,
     "task": false
    }
   },
   "outputs": [],
   "source": [
    "### BEGIN SOLUTION\n",
    "rankA = 9\n",
    "### END SOLUTION"
   ]
  },
  {
   "cell_type": "code",
   "execution_count": 19,
   "id": "19a87148",
   "metadata": {
    "nbgrader": {
     "grade": true,
     "grade_id": "cell-ae51ea4612d01a55",
     "locked": true,
     "points": 1,
     "schema_version": 3,
     "solution": false,
     "task": false
    }
   },
   "outputs": [
    {
     "name": "stdout",
     "output_type": "stream",
     "text": [
      "Problem 2a Test 1: Success!\n"
     ]
    }
   ],
   "source": [
    "\"Verify value of rankA. This cell contains hidden tests. (1 mark)\"\n",
    "assert rankA > 0\n",
    "### BEGIN HIDDEN TESTS\n",
    "assert rankA == 9\n",
    "### END HIDDEN TESTS\n",
    "print(\"Problem 2a Test 1: Success!\")"
   ]
  },
  {
   "cell_type": "markdown",
   "id": "a1ca03fe",
   "metadata": {
    "nbgrader": {
     "grade": false,
     "grade_id": "cell-69186ad8f8ced494",
     "locked": true,
     "schema_version": 3,
     "solution": false,
     "task": false
    }
   },
   "source": [
    "### Problem 2b (1 mark)\n",
    "\n",
    "**True** or **False**: The vectors $\\mathbf{v}_0,\\dots,\\mathbf{v}_9$ are linearly independent. Save your response as `observation2b`."
   ]
  },
  {
   "cell_type": "code",
   "execution_count": 20,
   "id": "f1396ea9",
   "metadata": {
    "nbgrader": {
     "grade": false,
     "grade_id": "cell-972e07484c2bbe9a",
     "locked": false,
     "schema_version": 3,
     "solution": true,
     "task": false
    }
   },
   "outputs": [],
   "source": [
    "### BEGIN SOLUTION\n",
    "observation2b = False\n",
    "### END SOLUTION"
   ]
  },
  {
   "cell_type": "code",
   "execution_count": 21,
   "id": "f64c275f",
   "metadata": {
    "nbgrader": {
     "grade": true,
     "grade_id": "cell-609ce3f5c86a8c6d",
     "locked": true,
     "points": 1,
     "schema_version": 3,
     "solution": false,
     "task": false
    }
   },
   "outputs": [
    {
     "name": "stdout",
     "output_type": "stream",
     "text": [
      "Problem 2b Test 1: Success!\n"
     ]
    }
   ],
   "source": [
    "\"Verify value of observation2b. This cell contains hidden tests. (1 mark)\"\n",
    "assert isinstance(observation2b,bool)\n",
    "### BEGIN HIDDEN TESTS\n",
    "assert observation2b == False\n",
    "### END HIDDEN TESTS\n",
    "print(\"Problem 2b Test 1: Success!\")"
   ]
  },
  {
   "cell_type": "markdown",
   "id": "b9b9072e",
   "metadata": {
    "nbgrader": {
     "grade": false,
     "grade_id": "cell-9b06f4fa6aa3ba63",
     "locked": true,
     "schema_version": 3,
     "solution": false,
     "task": false
    }
   },
   "source": [
    "### Problem 2c (2 marks)\n",
    "\n",
    "The digit 8 looks like a combination of 2 and 5. Compute the orthogonal projection of $\\mathbf{v}_8$ onto $\\mathrm{span} \\{ \\mathbf{v}_2 , \\mathbf{v}_5 \\}$. Save the result as `proj825`.\n",
    "\n",
    "Note that you can select columns 2 and 5 from matrix `A` and save to variable `A25` with the command:\n",
    "\n",
    "```\n",
    "A25 = A[:,[2,5]]\n",
    "```\n",
    "\n",
    "and compute the thin QR decomposition using the function [`scipy.linalg.qr`](https://docs.scipy.org/doc/scipy/reference/generated/scipy.linalg.qr.html) with the parameter `mode='economic'`:\n",
    "\n",
    "```\n",
    "Q1,R1 = la.qr(A25,mode='economic')\n",
    "```\n",
    "\n",
    "Recall the projection of a vector $\\mathbf{v}$ onto $R(M)$ for some matrix $M$ is $Q_1Q_1^T\\mathbf{v}$ where $M=Q_1R_1$."
   ]
  },
  {
   "cell_type": "code",
   "execution_count": 22,
   "id": "d6951249",
   "metadata": {
    "nbgrader": {
     "grade": false,
     "grade_id": "cell-01ed9ddf6ca08841",
     "locked": false,
     "schema_version": 3,
     "solution": true,
     "task": false
    }
   },
   "outputs": [],
   "source": [
    "### BEGIN SOLUTION\n",
    "v8 = A[:,8]\n",
    "A25 = A[:,[2,5]]\n",
    "Q1,R1 = la.qr(A25,mode='economic')\n",
    "proj825 = Q1@Q1.T@v8\n",
    "### END SOLUTION"
   ]
  },
  {
   "cell_type": "code",
   "execution_count": 23,
   "id": "553aaeb1",
   "metadata": {
    "nbgrader": {
     "grade": true,
     "grade_id": "cell-8eda0bdc0404c991",
     "locked": true,
     "points": 1,
     "schema_version": 3,
     "solution": false,
     "task": false
    }
   },
   "outputs": [
    {
     "name": "stdout",
     "output_type": "stream",
     "text": [
      "Problem 2c Test 1: Success!\n"
     ]
    }
   ],
   "source": [
    "\"Verify type and size of proj825. (1 mark)\"\n",
    "assert isinstance(proj825,np.ndarray)\n",
    "assert proj825.size == 15\n",
    "print(\"Problem 2c Test 1: Success!\")"
   ]
  },
  {
   "cell_type": "code",
   "execution_count": 24,
   "id": "20b479e7",
   "metadata": {
    "nbgrader": {
     "grade": true,
     "grade_id": "cell-430f4a4c312c5102",
     "locked": true,
     "points": 1,
     "schema_version": 3,
     "solution": false,
     "task": false
    }
   },
   "outputs": [
    {
     "name": "stdout",
     "output_type": "stream",
     "text": [
      "Problem 2c Test 2: Success!\n"
     ]
    }
   ],
   "source": [
    "\"Verify value of proj825. This cell contains hidden tests. (1 mark)\"\n",
    "assert np.allclose(proj825[:3].flatten(),[1.1 , 1.1 , 1.1])\n",
    "### BEGIN HIDDEN TESTS\n",
    "solution2c = [1.1,1.1,1.1,0.55,0.,0.55,1.1,1.1,1.1,0.55,0.,0.55,1.1,1.1,1.1]\n",
    "assert np.allclose(proj825.flatten(),solution2c)\n",
    "### END HIDDEN TESTS\n",
    "print(\"Problem 2c Test 2: Success!\")"
   ]
  },
  {
   "cell_type": "markdown",
   "id": "7800ee7e",
   "metadata": {
    "nbgrader": {
     "grade": false,
     "grade_id": "cell-24a615890649b44b",
     "locked": true,
     "schema_version": 3,
     "solution": false,
     "task": false
    }
   },
   "source": [
    "Visualize the projection as a 5 x 3 pixel image:"
   ]
  },
  {
   "cell_type": "code",
   "execution_count": 25,
   "id": "e35d4da0",
   "metadata": {
    "nbgrader": {
     "grade": false,
     "grade_id": "cell-0b8281751d6597ae",
     "locked": true,
     "schema_version": 3,
     "solution": false,
     "task": false
    }
   },
   "outputs": [
    {
     "data": {
      "image/png": "[encoded data removed]",
      "text/plain": [
       "<Figure size 640x480 with 2 Axes>"
      ]
     },
     "metadata": {},
     "output_type": "display_data"
    }
   ],
   "source": [
    "plt.imshow(proj825.reshape(5,3)), plt.colorbar(), plt.clim([-1,1])\n",
    "plt.show()"
   ]
  },
  {
   "cell_type": "markdown",
   "id": "b793ee2a",
   "metadata": {
    "nbgrader": {
     "grade": false,
     "grade_id": "cell-653c371ad7dcf38d",
     "locked": true,
     "schema_version": 3,
     "solution": false,
     "task": false
    }
   },
   "source": [
    "### Problem 2d (2 marks)\n",
    "\n",
    "Find the shortest distance from $\\mathbf{v}_9$ to $\\mathrm{span} \\{ \\mathbf{v}_0 , \\mathbf{v}_1 , \\mathbf{v}_2 , \\mathbf{v}_3 , \\mathbf{v}_4 \\}$. Save the result as `distance9`. Use the function [`scipy.linalg.norm`](https://docs.scipy.org/doc/scipy/reference/generated/scipy.linalg.norm.html) to compute the norm."
   ]
  },
  {
   "cell_type": "code",
   "execution_count": 26,
   "id": "106188cf",
   "metadata": {
    "nbgrader": {
     "grade": false,
     "grade_id": "cell-d78e2e61f1545d28",
     "locked": false,
     "schema_version": 3,
     "solution": true,
     "task": false
    }
   },
   "outputs": [],
   "source": [
    "### BEGIN SOLUTION\n",
    "v9 = A[:,9]\n",
    "Q1,R1 = la.qr(A[:,[0,1,2,3,4]],mode='economic')\n",
    "distance9 = la.norm(v9 - Q1@Q1.T@v9)\n",
    "### END SOLUTION"
   ]
  },
  {
   "cell_type": "code",
   "execution_count": 27,
   "id": "4d014f68",
   "metadata": {
    "nbgrader": {
     "grade": true,
     "grade_id": "cell-ea07f610840230fa",
     "locked": true,
     "points": 1,
     "schema_version": 3,
     "solution": false,
     "task": false
    }
   },
   "outputs": [
    {
     "name": "stdout",
     "output_type": "stream",
     "text": [
      "Problem 2d Test 1: Success!\n"
     ]
    }
   ],
   "source": [
    "\"Verify distance9 is a positive number. (1 mark)\"\n",
    "assert distance9 > 0\n",
    "print(\"Problem 2d Test 1: Success!\")"
   ]
  },
  {
   "cell_type": "code",
   "execution_count": 28,
   "id": "89d345ac",
   "metadata": {
    "nbgrader": {
     "grade": true,
     "grade_id": "cell-fc8fe1d419a84b5a",
     "locked": true,
     "points": 1,
     "schema_version": 3,
     "solution": false,
     "task": false
    }
   },
   "outputs": [
    {
     "name": "stdout",
     "output_type": "stream",
     "text": [
      "Problem 2d Test 2: Success!\n"
     ]
    }
   ],
   "source": [
    "\"Verify value of distance9. This cell contains hidden tests. (1 mark)\"\n",
    "assert np.round(distance9,1) == 0.7\n",
    "### BEGIN HIDDEN TESTS\n",
    "assert np.allclose(distance9,0.7009845293191765)\n",
    "### END HIDDEN TESTS\n",
    "print(\"Problem 2d Test 2: Success!\")"
   ]
  },
  {
   "cell_type": "markdown",
   "id": "716dafe8",
   "metadata": {
    "nbgrader": {
     "grade": false,
     "grade_id": "cell-d965ae0773f39bfd",
     "locked": true,
     "schema_version": 3,
     "solution": false,
     "task": false
    }
   },
   "source": [
    "## Problem 3 (8 marks)\n",
    "\n",
    "Let $M = Q_1 R_1$ be the thin QR decomposition of $M$. The projection of a vector $\\mathbf{v}$ onto the range $R(M)$ is given by\n",
    "\n",
    "$$\n",
    "\\mathrm{proj}_{R(M)} (\\mathbf{v}) = Q_1 Q_1^T \\mathbf{v}\n",
    "$$\n",
    "\n",
    "Compute the thin QR decomposition using the function [`scipy.linalg.qr`](https://docs.scipy.org/doc/scipy/reference/generated/scipy.linalg.qr.html) with the parameter `mode='economic'`:\n",
    "\n",
    "```\n",
    "Q1,R1 = la.qr(M,mode='economic')\n",
    "```\n",
    "\n",
    "Consider the matrix\n",
    "\n",
    "$$\n",
    "M = \\begin{bmatrix} 1 & 1 & 0 \\\\ 1 & 1 & 1 \\\\ 0 & 1 & 1 \\\\ 1 & 0 & 1 \\\\ 1 & 2 & 1 \\end{bmatrix}\n",
    "$$"
   ]
  },
  {
   "cell_type": "code",
   "execution_count": 29,
   "id": "86c7354e",
   "metadata": {
    "nbgrader": {
     "grade": false,
     "grade_id": "cell-c5a2b0c1f3e2127e",
     "locked": true,
     "schema_version": 3,
     "solution": false,
     "task": false
    }
   },
   "outputs": [],
   "source": [
    "M = np.array([[1.,1.,0.],\n",
    "              [1.,1.,1.],\n",
    "              [0.,1.,1.],\n",
    "              [1.,0.,1.],\n",
    "              [1.,2.,1.]])"
   ]
  },
  {
   "cell_type": "markdown",
   "id": "cdb38335",
   "metadata": {
    "nbgrader": {
     "grade": false,
     "grade_id": "cell-d1b22bc6db89edca",
     "locked": true,
     "schema_version": 3,
     "solution": false,
     "task": false
    }
   },
   "source": [
    "### Problem 3a (2 marks)\n",
    "\n",
    "Compute the thin QR decomposition $M = Q_1 R_1$. Save the result as `Q1M` and `R1M`."
   ]
  },
  {
   "cell_type": "code",
   "execution_count": 30,
   "id": "c258dbe4",
   "metadata": {
    "nbgrader": {
     "grade": false,
     "grade_id": "cell-eccf4f368340019b",
     "locked": false,
     "schema_version": 3,
     "solution": true,
     "task": false
    }
   },
   "outputs": [],
   "source": [
    "### BEGIN SOLUTION\n",
    "Q1M,R1M = la.qr(M,mode='economic')\n",
    "### END SOLUTION"
   ]
  },
  {
   "cell_type": "code",
   "execution_count": 31,
   "id": "5546ab75",
   "metadata": {
    "nbgrader": {
     "grade": true,
     "grade_id": "cell-983bb638c385a4c0",
     "locked": true,
     "points": 1,
     "schema_version": 3,
     "solution": false,
     "task": false
    }
   },
   "outputs": [
    {
     "name": "stdout",
     "output_type": "stream",
     "text": [
      "Problem 3a Test 1: Success!\n"
     ]
    }
   ],
   "source": [
    "\"Verify type of Q1M and R1M. (1 mark)\"\n",
    "assert isinstance(Q1M,np.ndarray)\n",
    "assert isinstance(R1M,np.ndarray)\n",
    "print(\"Problem 3a Test 1: Success!\")"
   ]
  },
  {
   "cell_type": "code",
   "execution_count": 32,
   "id": "59a193a2",
   "metadata": {
    "nbgrader": {
     "grade": true,
     "grade_id": "cell-765f4cd67182ab93",
     "locked": true,
     "points": 1,
     "schema_version": 3,
     "solution": false,
     "task": false
    }
   },
   "outputs": [
    {
     "name": "stdout",
     "output_type": "stream",
     "text": [
      "Problem 3a Test 2: Success!\n"
     ]
    }
   ],
   "source": [
    "\"Verify values of Q1M and R1M. This cell contains hidden tests. (1 mark)\"\n",
    "assert np.allclose(Q1M[0,0],-0.5)\n",
    "assert np.allclose(R1M[0,0],-2)\n",
    "### BEGIN HIDDEN TESTS\n",
    "R1M_solution = np.array([[-2.,-2.,-1.5],[0.,-1.73205081,-0.57735027],[0.,0.,-1.19023807]])\n",
    "Q1M_solution = np.array([[-0.5,0.,0.63012604],[-0.5,0.,-0.21004201],[-0.,-0.57735027,-0.56011203],[-0.5,0.57735027,-0.49009803],[-0.5,-0.57735027,0.070014]])\n",
    "assert np.allclose(Q1M,Q1M_solution)\n",
    "assert np.allclose(R1M,R1M_solution)\n",
    "### END HIDDEN TESTS\n",
    "print(\"Problem 3a Test 2: Success!\")"
   ]
  },
  {
   "cell_type": "markdown",
   "id": "0eecf0f9",
   "metadata": {
    "nbgrader": {
     "grade": false,
     "grade_id": "cell-6616f8cf21a0ac9b",
     "locked": true,
     "schema_version": 3,
     "solution": false,
     "task": false
    }
   },
   "source": [
    "### Problem 3b (2 marks)\n",
    "\n",
    "Use $Q_1$ to compute the projection of $\\mathbf{v}$ onto $R(M)$ where\n",
    "\n",
    "$$\n",
    "\\mathbf{v} = \\left[ \\begin{array}{r} 1 \\\\ 2 \\\\ 1 \\\\ 1 \\\\ -1 \\end{array} \\right]\n",
    "$$\n",
    "\n",
    "Save the result as `proj`."
   ]
  },
  {
   "cell_type": "code",
   "execution_count": 33,
   "id": "f8ebe704",
   "metadata": {
    "nbgrader": {
     "grade": false,
     "grade_id": "cell-03f28b32e906b51b",
     "locked": false,
     "schema_version": 3,
     "solution": true,
     "task": false
    }
   },
   "outputs": [],
   "source": [
    "### BEGIN SOLUTION\n",
    "v = np.array([1,2,1,1,-1]).reshape(5,1)\n",
    "proj = Q1M @ Q1M.T @ v\n",
    "### END SOLUTION"
   ]
  },
  {
   "cell_type": "code",
   "execution_count": 34,
   "id": "2432480b",
   "metadata": {
    "nbgrader": {
     "grade": true,
     "grade_id": "cell-4395add049de2804",
     "locked": true,
     "points": 1,
     "schema_version": 3,
     "solution": false,
     "task": false
    }
   },
   "outputs": [
    {
     "name": "stdout",
     "output_type": "stream",
     "text": [
      "Problem 3b Test 1: Success!\n"
     ]
    }
   ],
   "source": [
    "\"Verify type of proj. (1 mark)\"\n",
    "assert isinstance(proj,np.ndarray)\n",
    "print(\"Problem 3b Test 1: Success!\")"
   ]
  },
  {
   "cell_type": "code",
   "execution_count": 35,
   "id": "3be5bbcd",
   "metadata": {
    "nbgrader": {
     "grade": true,
     "grade_id": "cell-64e4da933f92fdc5",
     "locked": true,
     "points": 1,
     "schema_version": 3,
     "solution": false,
     "task": false
    }
   },
   "outputs": [
    {
     "name": "stdout",
     "output_type": "stream",
     "text": [
      "Problem 3b Test 2: Success!\n"
     ]
    }
   ],
   "source": [
    "\"Verify values of proj. This cell contains hidden tests. (1 mark)\"\n",
    "assert np.allclose(proj[0],0.17647059)\n",
    "### BEGIN HIDDEN TESTS\n",
    "proj_solution = [0.17647059,0.94117647,0.17647059,1.52941176,0.35294118]\n",
    "assert np.allclose(proj.flatten(),proj_solution)\n",
    "### END HIDDEN TESTS\n",
    "print(\"Problem 3b Test 2: Success!\")"
   ]
  },
  {
   "cell_type": "markdown",
   "id": "d5f67d82",
   "metadata": {
    "nbgrader": {
     "grade": false,
     "grade_id": "cell-b5854465eeb3d696",
     "locked": true,
     "schema_version": 3,
     "solution": false,
     "task": false
    }
   },
   "source": [
    "### Problem 3c (2 marks)\n",
    "\n",
    "Find the projection matrix $P$ which projects onto $R(M)^{\\perp}$ (the orthogonal complement of the range $R(M)$). Save the result as `P`."
   ]
  },
  {
   "cell_type": "code",
   "execution_count": 36,
   "id": "e682f405",
   "metadata": {
    "nbgrader": {
     "grade": false,
     "grade_id": "cell-4f28b9e86b3a8f9e",
     "locked": false,
     "schema_version": 3,
     "solution": true,
     "task": false
    }
   },
   "outputs": [],
   "source": [
    "### BEGIN SOLUTION\n",
    "P = np.eye(5) - Q1M@Q1M.T\n",
    "### END SOLUTION"
   ]
  },
  {
   "cell_type": "code",
   "execution_count": 37,
   "id": "fb132254",
   "metadata": {
    "nbgrader": {
     "grade": true,
     "grade_id": "cell-7e1f979df4e90056",
     "locked": true,
     "points": 1,
     "schema_version": 3,
     "solution": false,
     "task": false
    }
   },
   "outputs": [
    {
     "name": "stdout",
     "output_type": "stream",
     "text": [
      "Problem 3c Test 1: Success!\n"
     ]
    }
   ],
   "source": [
    "\"Verify type and size of P. (1 mark)\"\n",
    "assert isinstance(P,np.ndarray) , \"P should be a NumPy array.\"\n",
    "assert P.shape == (5,5) , \"P should be a 5x5 matrix.\"\n",
    "print(\"Problem 3c Test 1: Success!\")"
   ]
  },
  {
   "cell_type": "code",
   "execution_count": 38,
   "id": "a9d13cf3",
   "metadata": {
    "nbgrader": {
     "grade": true,
     "grade_id": "cell-2b84def6a36feb03",
     "locked": true,
     "points": 1,
     "schema_version": 3,
     "solution": false,
     "task": false
    }
   },
   "outputs": [
    {
     "name": "stdout",
     "output_type": "stream",
     "text": [
      "Problem 3c Test 2: Success!\n"
     ]
    }
   ],
   "source": [
    "\"Verify values of P. This cell contains hidden tests. (1 mark)\"\n",
    "assert np.allclose(P[0,0],0.35294118)\n",
    "### BEGIN HIDDEN TESTS\n",
    "assert np.allclose(P[3,:],[ 0.05882353, -0.35294118,  0.05882353,  0.17647059,  0.11764706])\n",
    "### END HIDDEN TESTS\n",
    "print(\"Problem 3c Test 2: Success!\")"
   ]
  },
  {
   "cell_type": "markdown",
   "id": "4427b4e9",
   "metadata": {
    "nbgrader": {
     "grade": false,
     "grade_id": "cell-16e8705520eb5dc1",
     "locked": true,
     "schema_version": 3,
     "solution": false,
     "task": false
    }
   },
   "source": [
    "### Problem 3d (2 marks)\n",
    "\n",
    "Find the shortest distance from the vector\n",
    "\n",
    "$$\n",
    "\\mathbf{w} = \\left[ \\begin{array}{r} 1 \\\\ 3 \\\\ 1 \\\\ 0 \\\\ 2 \\end{array} \\right]\n",
    "$$\n",
    "\n",
    "to the subspace $R(M)$. Save the result as `distance3`. Use the function [`scipy.linalg.norm`](https://docs.scipy.org/doc/scipy/reference/generated/scipy.linalg.norm.html) to compute the norm of a matrix."
   ]
  },
  {
   "cell_type": "code",
   "execution_count": 39,
   "id": "582b051c",
   "metadata": {
    "nbgrader": {
     "grade": false,
     "grade_id": "cell-5d99588f53797102",
     "locked": false,
     "schema_version": 3,
     "solution": true,
     "task": false
    }
   },
   "outputs": [],
   "source": [
    "### BEGIN SOLUTION\n",
    "w = np.array([1,3,1,0,2]).reshape(5,1)\n",
    "distance3 = la.norm(w - Q1M@Q1M.T@w)\n",
    "### END SOLUTION"
   ]
  },
  {
   "cell_type": "code",
   "execution_count": 40,
   "id": "d02911ff",
   "metadata": {
    "nbgrader": {
     "grade": true,
     "grade_id": "cell-c656194d0bf57c1c",
     "locked": true,
     "points": 1,
     "schema_version": 3,
     "solution": false,
     "task": false
    }
   },
   "outputs": [
    {
     "name": "stdout",
     "output_type": "stream",
     "text": [
      "Problem 3d Test 1: Success!\n"
     ]
    }
   ],
   "source": [
    "\"Verify distance3 is a positive number. (1 mark)\"\n",
    "assert distance3 > 0\n",
    "print(\"Problem 3d Test 1: Success!\")"
   ]
  },
  {
   "cell_type": "code",
   "execution_count": 41,
   "id": "a71c69f2",
   "metadata": {
    "nbgrader": {
     "grade": true,
     "grade_id": "cell-532b08c4b2a7bcfd",
     "locked": true,
     "points": 1,
     "schema_version": 3,
     "solution": false,
     "task": false
    }
   },
   "outputs": [
    {
     "name": "stdout",
     "output_type": "stream",
     "text": [
      "Problem 3d Test 2: Success!\n"
     ]
    }
   ],
   "source": [
    "\"Verify value of distance3. This cell contains hidden tests. (1 mark)\"\n",
    "assert np.round(distance3,1) == 1.7\n",
    "### BEGIN HIDDEN TESTS\n",
    "assert np.allclose(distance3,1.6803361008336115)\n",
    "### END HIDDEN TESTS\n",
    "print(\"Problem 3d Test 2: Success!\")"
   ]
  }
 ],
 "metadata": {
  "celltoolbar": "Create Assignment",
  "kernelspec": {
   "display_name": "Python 3 (ipykernel)",
   "language": "python",
   "name": "python3"
  },
  "language_info": {
   "codemirror_mode": {
    "name": "ipython",
    "version": 3
   },
   "file_extension": ".py",
   "mimetype": "text/x-python",
   "name": "python",
   "nbconvert_exporter": "python",
   "pygments_lexer": "ipython3",
   "version": "3.9.12"
  }
 },
 "nbformat": 4,
 "nbformat_minor": 5
}
