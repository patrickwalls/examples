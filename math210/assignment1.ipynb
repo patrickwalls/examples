{
 "cells": [
  {
   "cell_type": "markdown",
   "id": "ec1fb6d9",
   "metadata": {
    "deletable": false,
    "editable": false,
    "nbgrader": {
     "cell_type": "markdown",
     "checksum": "5dbf32d7ad737f99ed2b80e66d814e7e",
     "grade": false,
     "grade_id": "cell-aa40e6c9b7316602",
     "locked": true,
     "schema_version": 3,
     "solution": false,
     "task": false
    }
   },
   "source": [
    "# MATH 210 Assignment 1\n",
    "\n",
    "### Instructions\n",
    "\n",
    "* Write your solutions in the cells with `YOUR CODE HERE`.\n",
    "* You may work with others but submit your own solutions.\n",
    "* **Do not import** any Python packages such as `math` or `numpy` to complete this assignment.\n",
    "* Execute the test cells to verify that your solutions pass.\n",
    "* **This notebook contains hidden tests!** Your solution may not be completely correct even if it passes all tests below.\n",
    "* Submit this notebook to Canvas."
   ]
  },
  {
   "cell_type": "markdown",
   "id": "d2953527",
   "metadata": {
    "deletable": false,
    "editable": false,
    "nbgrader": {
     "cell_type": "markdown",
     "checksum": "76d4accb80d9265d150151103e3cdf8e",
     "grade": false,
     "grade_id": "cell-1076f9998c448d2c",
     "locked": true,
     "schema_version": 3,
     "solution": false,
     "task": false
    }
   },
   "source": [
    "### Problem 1 (4 marks)\n",
    "\n",
    "Consider the infinite series formula\n",
    "\n",
    "$$\n",
    "\\sum_{k = 1}^{\\infty} \\frac{(-1)^{k+1}}{(2k - 1)^5} = \\frac{5 \\pi^5}{1536}\n",
    "$$\n",
    "\n",
    "We can rearrange the formula as\n",
    "\n",
    "$$\n",
    "\\pi = \\left(\\frac{1536}{5} \\sum_{k = 1}^{\\infty} \\frac{(-1)^{k+1}}{(2k - 1)^5} \\right)^{1/5}\n",
    "$$\n",
    "\n",
    "Use a list comprehension and the builtin function `sum` to compute the first 10 terms of the series\n",
    "\n",
    "$$\n",
    "\\left(\\frac{1536}{5} \\sum_{k = 1}^{10} \\frac{(-1)^{k+1}}{(2k - 1)^5} \\right)^{1/5}\n",
    "$$\n",
    "\n",
    "and assign the value to the variable `P1`. (Note: the result `P1` is an approximation of $\\pi$.)"
   ]
  },
  {
   "cell_type": "code",
   "execution_count": null,
   "id": "7d90a4fe",
   "metadata": {
    "deletable": false,
    "nbgrader": {
     "cell_type": "code",
     "checksum": "1bc9014cf239779e6bb62638221261f0",
     "grade": false,
     "grade_id": "cell-60575b628ba6c404",
     "locked": false,
     "schema_version": 3,
     "solution": true,
     "task": false
    }
   },
   "outputs": [],
   "source": [
    "# YOUR CODE HERE"
   ]
  },
  {
   "cell_type": "code",
   "execution_count": null,
   "id": "6822eb8a",
   "metadata": {
    "deletable": false,
    "editable": false,
    "nbgrader": {
     "cell_type": "code",
     "checksum": "f324143037db2257da48f6466d37accd",
     "grade": true,
     "grade_id": "cell-58beebcb9186fd19",
     "locked": true,
     "points": 1,
     "schema_version": 3,
     "solution": false,
     "task": false
    }
   },
   "outputs": [],
   "source": [
    "\"Check if P1 is a float. (1 mark)\"\n",
    "assert isinstance(P1,float) , \"P1 should be a float.\"\n",
    "print(\"Problem 1 Test 1: Success!\")"
   ]
  },
  {
   "cell_type": "code",
   "execution_count": null,
   "id": "e0514b94",
   "metadata": {
    "deletable": false,
    "editable": false,
    "nbgrader": {
     "cell_type": "code",
     "checksum": "5b013493253b874e035cd6b487145243",
     "grade": true,
     "grade_id": "cell-9823d1c68053d38d",
     "locked": true,
     "points": 1,
     "schema_version": 3,
     "solution": false,
     "task": false
    }
   },
   "outputs": [],
   "source": [
    "\"Check if P1 is an approximation of pi. (1 mark)\"\n",
    "assert abs(P1 - 3.14159) < 0.00001 , \"P1 should be an approximation of pi.\"\n",
    "print(\"Problem 1 Test 2: Success!\")"
   ]
  },
  {
   "cell_type": "code",
   "execution_count": null,
   "id": "072eef54",
   "metadata": {
    "deletable": false,
    "editable": false,
    "nbgrader": {
     "cell_type": "code",
     "checksum": "695436b77f58f32d2b3319305ba87826",
     "grade": true,
     "grade_id": "cell-97e2685b56db8621",
     "locked": true,
     "points": 2,
     "schema_version": 3,
     "solution": false,
     "task": false
    }
   },
   "outputs": [],
   "source": [
    "\"Check if P1 has the correct value. This cell contains hidden tests. (2 marks)\"\n",
    "assert abs(P1 - 3.14159) < 0.00001 , \"P1 should be an approximation of pi.\"\n",
    "print(\"Problem 1 Test 3: Success!\")"
   ]
  },
  {
   "cell_type": "markdown",
   "id": "cc1fd0f2",
   "metadata": {
    "deletable": false,
    "editable": false,
    "nbgrader": {
     "cell_type": "markdown",
     "checksum": "30f4f6b76b133c49166967687a8aeb99",
     "grade": false,
     "grade_id": "cell-66e5e20e48cc5414",
     "locked": true,
     "schema_version": 3,
     "solution": false,
     "task": false
    }
   },
   "source": [
    "### Problem 2 (3 marks)\n",
    "\n",
    "Write a list comprehension to create a list with values\n",
    "\n",
    "$$\n",
    "[-101,-97,-93,-89,\\dots,87,91,95,99]\n",
    "$$\n",
    "\n",
    "Save the result as `P2`."
   ]
  },
  {
   "cell_type": "code",
   "execution_count": null,
   "id": "20c5c356",
   "metadata": {
    "deletable": false,
    "nbgrader": {
     "cell_type": "code",
     "checksum": "0048adc499768f364a4b6bc311dc1ce2",
     "grade": false,
     "grade_id": "cell-6f38c5c2d9810a0d",
     "locked": false,
     "schema_version": 3,
     "solution": true,
     "task": false
    }
   },
   "outputs": [],
   "source": [
    "# YOUR CODE HERE"
   ]
  },
  {
   "cell_type": "code",
   "execution_count": null,
   "id": "39c9af67",
   "metadata": {
    "deletable": false,
    "editable": false,
    "nbgrader": {
     "cell_type": "code",
     "checksum": "ffaf34b4c754c39ecd35eae142f539ce",
     "grade": true,
     "grade_id": "cell-b1156af4c3187285",
     "locked": true,
     "points": 1,
     "schema_version": 3,
     "solution": false,
     "task": false
    }
   },
   "outputs": [],
   "source": [
    "\"Check if P2 is a list of length 51. (1 mark)\"\n",
    "assert isinstance(P2,list) , \"P2 should be a list.\"\n",
    "assert len(P2) == 51, \"P2 should be a list of length 51.\"\n",
    "print(\"Problem 2 Test 1: Success!\")"
   ]
  },
  {
   "cell_type": "code",
   "execution_count": null,
   "id": "904cb59c",
   "metadata": {
    "deletable": false,
    "editable": false,
    "nbgrader": {
     "cell_type": "code",
     "checksum": "d113666dd481ccc26275f81e9155a051",
     "grade": true,
     "grade_id": "cell-6c2c0365b00a66e2",
     "locked": true,
     "points": 2,
     "schema_version": 3,
     "solution": false,
     "task": false
    }
   },
   "outputs": [],
   "source": [
    "\"Check if P2 has the correct values in the list. This cell contains hidden tests. (2 marks)\"\n",
    "assert P2[:4] == [-101,-97,-93,-89], \"First 4 values of P2 are -101, -97, -93, -89.\"\n",
    "print(\"Problem 2 Test 2: Success!\")"
   ]
  },
  {
   "cell_type": "markdown",
   "id": "989947d6",
   "metadata": {
    "deletable": false,
    "editable": false,
    "nbgrader": {
     "cell_type": "markdown",
     "checksum": "bce8918e29e005075ae18240d8b11657",
     "grade": false,
     "grade_id": "cell-e40c6b2f40046831",
     "locked": true,
     "schema_version": 3,
     "solution": false,
     "task": false
    }
   },
   "source": [
    "### Problem 3 (4 marks)\n",
    "\n",
    "Represent a vector $\\mathbf{v} \\in \\mathbb{R}^3$ as a list of numbers `[a,b,c]`. The [cross product](https://en.wikipedia.org/wiki/Cross_product) of vectors is given by the formula\n",
    "\n",
    "$$\n",
    "[ a , b , c ] \\times [ x , y , z ] = [ bz - cy , cx - az , ay - bx ]\n",
    "$$\n",
    "\n",
    "Write a function called `cross` which takes 2 input parameters `u` and `v` (lists of length 3 representing vectors $\\mathbf{u}$ and $\\mathbf{v}$), and returns the cross product $\\mathbf{u} \\times \\mathbf{v}$ as a list of length 3."
   ]
  },
  {
   "cell_type": "code",
   "execution_count": null,
   "id": "0442aac1",
   "metadata": {
    "deletable": false,
    "nbgrader": {
     "cell_type": "code",
     "checksum": "fe2fb6bc0314f7e9d6f313b626919e78",
     "grade": false,
     "grade_id": "cell-c98f723b81172d79",
     "locked": false,
     "schema_version": 3,
     "solution": true,
     "task": false
    }
   },
   "outputs": [],
   "source": [
    "# YOUR CODE HERE"
   ]
  },
  {
   "cell_type": "code",
   "execution_count": null,
   "id": "72fb9ac4",
   "metadata": {
    "deletable": false,
    "editable": false,
    "nbgrader": {
     "cell_type": "code",
     "checksum": "fa04da672d495c6517ce19b31bd8a540",
     "grade": true,
     "grade_id": "cell-71b70efd48c8a261",
     "locked": true,
     "points": 1,
     "schema_version": 3,
     "solution": false,
     "task": false
    }
   },
   "outputs": [],
   "source": [
    "\"Check if cross accepts 2 input parameters. (1 mark)\"\n",
    "cross([1,2,3],[4,5,6])\n",
    "assert True , \"cross does not run.\"\n",
    "print(\"Problem 3 Test 1: Success!\")"
   ]
  },
  {
   "cell_type": "code",
   "execution_count": null,
   "id": "faad205a",
   "metadata": {
    "deletable": false,
    "editable": false,
    "nbgrader": {
     "cell_type": "code",
     "checksum": "2d60794a258932f8713650eeed0e935a",
     "grade": true,
     "grade_id": "cell-08e4ea2222319e00",
     "locked": true,
     "points": 1,
     "schema_version": 3,
     "solution": false,
     "task": false
    }
   },
   "outputs": [],
   "source": [
    "\"Check if cross returns a list. (1 mark)\"\n",
    "w = cross([1,2,3],[4,5,6])\n",
    "assert isinstance(w,list) , \"cross should return a list.\"\n",
    "print(\"Problem 3 Test 2: Success!\")"
   ]
  },
  {
   "cell_type": "code",
   "execution_count": null,
   "id": "600288f1",
   "metadata": {
    "deletable": false,
    "editable": false,
    "nbgrader": {
     "cell_type": "code",
     "checksum": "9af9afdcc3c26e0a3ef44684c96ae48e",
     "grade": true,
     "grade_id": "cell-af4dcfcca94d72ce",
     "locked": true,
     "points": 2,
     "schema_version": 3,
     "solution": false,
     "task": false
    }
   },
   "outputs": [],
   "source": [
    "\"Check if cross returns correct values. This cell contains hidden tests. (2 marks)\"\n",
    "u = [1,0,0]\n",
    "v = [0,1,0]\n",
    "w = cross(u,v)\n",
    "assert w == [0,0,1] , \"cross([1,0,0],[0,1,0]) should return [0,0,1].\"\n",
    "print(\"Problem 3 Test 3: Success!\")"
   ]
  },
  {
   "cell_type": "markdown",
   "id": "063011ca",
   "metadata": {
    "deletable": false,
    "editable": false,
    "nbgrader": {
     "cell_type": "markdown",
     "checksum": "324f08ea70b656b023c43b62659979ef",
     "grade": false,
     "grade_id": "cell-215e651a27ad9973",
     "locked": true,
     "schema_version": 3,
     "solution": false,
     "task": false
    }
   },
   "source": [
    "### Problem 4 (4 marks)\n",
    "\n",
    "Write a function called `seriesN` which takes 2 input parameters `x` and `N` and returns the sum\n",
    "\n",
    "$$\n",
    "\\sum_{n=0}^{N} \\frac{x^2}{2^n + 1}\n",
    "$$"
   ]
  },
  {
   "cell_type": "code",
   "execution_count": null,
   "id": "3bed36d8",
   "metadata": {
    "deletable": false,
    "nbgrader": {
     "cell_type": "code",
     "checksum": "af8eeadae6161852186bfa85faa504f0",
     "grade": false,
     "grade_id": "cell-2c498a7bf0750d90",
     "locked": false,
     "schema_version": 3,
     "solution": true,
     "task": false
    }
   },
   "outputs": [],
   "source": [
    "# YOUR CODE HERE"
   ]
  },
  {
   "cell_type": "code",
   "execution_count": null,
   "id": "7ddd9fd5",
   "metadata": {
    "deletable": false,
    "editable": false,
    "nbgrader": {
     "cell_type": "code",
     "checksum": "a524a5ad18b8a077efa229358b5d8d8c",
     "grade": true,
     "grade_id": "cell-6cfee83dfdd14fe7",
     "locked": true,
     "points": 1,
     "schema_version": 3,
     "solution": false,
     "task": false
    }
   },
   "outputs": [],
   "source": [
    "\"Check if seriesN accepts 2 input parameters. (1 mark)\"\n",
    "seriesN(0.2,10)\n",
    "assert True , \"seriesN does not run.\"\n",
    "print(\"Problem 4 Test 1: Success!\")"
   ]
  },
  {
   "cell_type": "code",
   "execution_count": null,
   "id": "37403973",
   "metadata": {
    "deletable": false,
    "editable": false,
    "nbgrader": {
     "cell_type": "code",
     "checksum": "cb62bfaba074b886c839a6c6e84fa6e5",
     "grade": true,
     "grade_id": "cell-33ffba19403e82f6",
     "locked": true,
     "points": 1,
     "schema_version": 3,
     "solution": false,
     "task": false
    }
   },
   "outputs": [],
   "source": [
    "\"Check if seriesN returns a float. (1 mark)\"\n",
    "result = seriesN(0.2,10)\n",
    "assert isinstance(result,float) , \"seriesN should return a float.\"\n",
    "print(\"Problem 4 Test 2: Success!\")"
   ]
  },
  {
   "cell_type": "code",
   "execution_count": null,
   "id": "3ab5ef53",
   "metadata": {
    "deletable": false,
    "editable": false,
    "nbgrader": {
     "cell_type": "code",
     "checksum": "30dda05c7b6d376cc7a6cf9c50b609c9",
     "grade": true,
     "grade_id": "cell-42899dae299322f8",
     "locked": true,
     "points": 2,
     "schema_version": 3,
     "solution": false,
     "task": false
    }
   },
   "outputs": [],
   "source": [
    "\"Check if seriesN returns correct values. This cell contains hidden tests. (2 marks)\"\n",
    "assert abs(seriesN(1,1) - 5/6) < 1e-12, \"seriesN(1,1) should return 5/6.\"\n",
    "print(\"Problem 4 Test 3: Success!\")"
   ]
  },
  {
   "cell_type": "markdown",
   "id": "c51b23dc",
   "metadata": {
    "deletable": false,
    "editable": false,
    "nbgrader": {
     "cell_type": "markdown",
     "checksum": "9f8346d2e6af0ea0fe05696f39750e36",
     "grade": false,
     "grade_id": "cell-33a1260e7dfb5811",
     "locked": true,
     "schema_version": 3,
     "solution": false,
     "task": false
    }
   },
   "source": [
    "### Problem 5 (5 marks)\n",
    "\n",
    "Represent a polynomial $p(x) = a_0 + a_1 x + \\cdots + a_d x^d$ as a list of numbers `[a0,a1,...,ad]`. Write a function called `poly_integral` which takes a list `p` representing a polynomial $p(x) = a_0 + a_1 x + \\cdots + a_d x^d$, and numbers `a` and `b`, and returns the value of definite integral\n",
    "\n",
    "$$\n",
    "\\int_a^b p(x) \\, dx\n",
    "$$"
   ]
  },
  {
   "cell_type": "code",
   "execution_count": null,
   "id": "e788ad8c",
   "metadata": {
    "deletable": false,
    "nbgrader": {
     "cell_type": "code",
     "checksum": "9e5f995233ae804086e5b50a17885ce6",
     "grade": false,
     "grade_id": "cell-10709266a0c473a7",
     "locked": false,
     "schema_version": 3,
     "solution": true,
     "task": false
    }
   },
   "outputs": [],
   "source": [
    "# YOUR CODE HERE"
   ]
  },
  {
   "cell_type": "code",
   "execution_count": null,
   "id": "4bde5cf9",
   "metadata": {
    "deletable": false,
    "editable": false,
    "nbgrader": {
     "cell_type": "code",
     "checksum": "4d8b81acb54da33af2be68753c878e29",
     "grade": true,
     "grade_id": "cell-112c6d82a168f976",
     "locked": true,
     "points": 1,
     "schema_version": 3,
     "solution": false,
     "task": false
    }
   },
   "outputs": [],
   "source": [
    "\"Check if poly_diff accepts 3 input parameters. (1 mark)\"\n",
    "poly_integral([1,2,3],0,1)\n",
    "assert True , \"poly_integral does not run.\"\n",
    "print(\"Problem 5 Test 1: Success!\")"
   ]
  },
  {
   "cell_type": "code",
   "execution_count": null,
   "id": "c6517711",
   "metadata": {
    "deletable": false,
    "editable": false,
    "nbgrader": {
     "cell_type": "code",
     "checksum": "4bc878cd941d95de30672a44cb86e606",
     "grade": true,
     "grade_id": "cell-661f4358ce446496",
     "locked": true,
     "points": 1,
     "schema_version": 3,
     "solution": false,
     "task": false
    }
   },
   "outputs": [],
   "source": [
    "\"Check if poly_integral returns a float when p = 1+x and a=0,b=1. (1 mark)\"\n",
    "result = poly_integral([1,1],0,1)\n",
    "assert isinstance(result,float) , \"poly_integral should return a float.\"\n",
    "print(\"Problem 5 Test 2: Success!\")"
   ]
  },
  {
   "cell_type": "code",
   "execution_count": null,
   "id": "db1af3a5",
   "metadata": {
    "deletable": false,
    "editable": false,
    "nbgrader": {
     "cell_type": "code",
     "checksum": "d602035ec8798feac58348bfcd7e966e",
     "grade": true,
     "grade_id": "cell-f84d04b6ff99ab1d",
     "locked": true,
     "points": 3,
     "schema_version": 3,
     "solution": false,
     "task": false
    }
   },
   "outputs": [],
   "source": [
    "\"Check if poly_integral returns the correct values. This cell contains hidden tests. (3 marks)\"\n",
    "result = poly_integral([1,1],0,1)\n",
    "assert abs(result - 1.5) < 1e-10 , \"poly_integral([1,1],0,1) should return 1.5.\"\n",
    "print(\"Problem 5 Test 3: Success!\")"
   ]
  }
 ],
 "metadata": {
  "kernelspec": {
   "display_name": "Python 3 (ipykernel)",
   "language": "python",
   "name": "python3"
  },
  "language_info": {
   "codemirror_mode": {
    "name": "ipython",
    "version": 3
   },
   "file_extension": ".py",
   "mimetype": "text/x-python",
   "name": "python",
   "nbconvert_exporter": "python",
   "pygments_lexer": "ipython3",
   "version": "3.10.12"
  }
 },
 "nbformat": 4,
 "nbformat_minor": 5
}
