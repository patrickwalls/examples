{
 "cells": [
  {
   "cell_type": "markdown",
   "id": "237f991f",
   "metadata": {
    "deletable": false,
    "editable": false,
    "nbgrader": {
     "cell_type": "markdown",
     "checksum": "0fcdb6fd8371d852506b99732e4eb1c5",
     "grade": false,
     "grade_id": "cell-def867036c041da0",
     "locked": true,
     "schema_version": 3,
     "solution": false,
     "task": false
    }
   },
   "source": [
    "# MATH 210 Assignment 3\n",
    "\n",
    "### Instructions\n",
    "\n",
    "* Write your solutions in the cells with `YOUR CODE HERE`.\n",
    "* You may work with others but submit your own solutions.\n",
    "* Execute the test cells to verify that your solutions pass.\n",
    "* **This notebook contains hidden tests!** Your solution may not be completely correct even if it passes all tests below.\n",
    "* Submit this notebook to Canvas."
   ]
  },
  {
   "cell_type": "code",
   "execution_count": null,
   "id": "8ecde854",
   "metadata": {
    "deletable": false,
    "editable": false,
    "nbgrader": {
     "cell_type": "code",
     "checksum": "a16ff8708483acfbb438f78e4a0cb63f",
     "grade": false,
     "grade_id": "cell-cc41537650395035",
     "locked": true,
     "schema_version": 3,
     "solution": false,
     "task": false
    }
   },
   "outputs": [],
   "source": [
    "import numpy as np\n",
    "import matplotlib.pyplot as plt"
   ]
  },
  {
   "cell_type": "markdown",
   "id": "f790f174",
   "metadata": {
    "deletable": false,
    "editable": false,
    "nbgrader": {
     "cell_type": "markdown",
     "checksum": "67937282be67442829caa5a5649ce96a",
     "grade": false,
     "grade_id": "cell-2482fad9e47117bb",
     "locked": true,
     "schema_version": 3,
     "solution": false,
     "task": false
    }
   },
   "source": [
    "## Problem 1 (6 marks)\n",
    "\n",
    "Write a function called `fourier` which takes input parameters `c` and `num` where `c` is a Python list of numbers `c = [c0,c1,...,cN]` and `num` is a postive integer. The function `fourier` plots the function\n",
    "\n",
    "$$\n",
    "f(x) = \\frac{c_0}{2} + \\sum_{k=1}^N c_k \\cos(2 \\pi k x) \n",
    "$$\n",
    "\n",
    "over the interval $[0,1]$ using `num` equally spaced points from `0` to `1`. (In other words, use `np.linspace(0,1,num)` for the `x` values.) The function also returns the `x` and `y` values of the plot in a matrix with 2 columns with `x` values in the first column and `y` values in the second. The function `np.column_stack` may be helpful. (Note that the function is a (partial) [Fourier cosine series](https://en.wikipedia.org/wiki/Fourier_sine_and_cosine_series).)\n",
    "\n",
    "For example:\n",
    "\n",
    "```\n",
    "fourier([1,2,4,8,16],100)\n",
    "```\n",
    "\n",
    "creates the figure\n",
    "\n",
    "<img src=\"http://www.math.ubc.ca/~pwalls/data/a3prob1.png\" style=\"width: 500px\">"
   ]
  },
  {
   "cell_type": "code",
   "execution_count": null,
   "id": "1a26b821",
   "metadata": {
    "deletable": false,
    "nbgrader": {
     "cell_type": "code",
     "checksum": "ccb0cd1f46225c4960f6d8d52cf3b5b6",
     "grade": false,
     "grade_id": "cell-9d61d16703ed95e0",
     "locked": false,
     "schema_version": 3,
     "solution": true,
     "task": false
    }
   },
   "outputs": [],
   "source": [
    "# YOUR CODE HERE"
   ]
  },
  {
   "cell_type": "code",
   "execution_count": null,
   "id": "e92c4c3f",
   "metadata": {
    "deletable": false,
    "editable": false,
    "nbgrader": {
     "cell_type": "code",
     "checksum": "67bd125b56e1361702e13751ca5e00ea",
     "grade": true,
     "grade_id": "cell-9f9691b3351f1558",
     "locked": true,
     "points": 1,
     "schema_version": 3,
     "solution": false,
     "task": false
    }
   },
   "outputs": [],
   "source": [
    "\"Check fourier returns the correct datatype. (1 mark)\"\n",
    "assert isinstance(fourier([1,1,5,1,5],200),np.ndarray) , \"Return value should be a NumPy array.\"\n",
    "print(\"Problem 1 Test 1: Success!\")"
   ]
  },
  {
   "cell_type": "code",
   "execution_count": null,
   "id": "3c8972b4",
   "metadata": {
    "deletable": false,
    "editable": false,
    "nbgrader": {
     "cell_type": "code",
     "checksum": "f9e79f0b92a541760ea792a61a823a16",
     "grade": true,
     "grade_id": "cell-7c3743e922404df7",
     "locked": true,
     "points": 2,
     "schema_version": 3,
     "solution": false,
     "task": false
    }
   },
   "outputs": [],
   "source": [
    "\"Check fourier returns the correct size of NumPy array. (2 marks)\"\n",
    "assert fourier([1,2,3],200).shape == (200,2) , \"Return value should be matrix with size num by 2.\"\n",
    "print(\"Problem 1 Test 2: Success!\")"
   ]
  },
  {
   "cell_type": "code",
   "execution_count": null,
   "id": "a2083f89",
   "metadata": {
    "deletable": false,
    "editable": false,
    "nbgrader": {
     "cell_type": "code",
     "checksum": "73ca0b76385741ed3667703310d76934",
     "grade": true,
     "grade_id": "cell-b5887c9275dd0c44",
     "locked": true,
     "points": 3,
     "schema_version": 3,
     "solution": false,
     "task": false
    }
   },
   "outputs": [],
   "source": [
    "\"Check fourier returns the correct values. This cell contains hidden tests. (3 marks)\"\n",
    "epsilon = 1e-8\n",
    "M = fourier([1,-1,2,-1,1],200)\n",
    "ans1 = np.array([[0., 1.5],[0.00502513, 1.49303019],[0.01005025, 1.47222285]])\n",
    "ans2 = np.array([[0.50251256, 5.49576411],[0.50753769, 5.46194589],[0.51256281, 5.39467572]])\n",
    "ans3 = np.array([[0.98994975, 1.47222285],[0.99497487, 1.49303019],[1., 1.5]])\n",
    "assert np.max(np.abs(M[:3,:] - ans1)) < epsilon\n",
    "assert np.max(np.abs(M[100:103,:] - ans2)) < epsilon\n",
    "assert np.max(np.abs(M[-3:,:] - ans3)) < epsilon\n",
    "print(\"Problem 1 Test 3: Success!\")"
   ]
  },
  {
   "cell_type": "markdown",
   "id": "615a72a9",
   "metadata": {
    "deletable": false,
    "editable": false,
    "nbgrader": {
     "cell_type": "markdown",
     "checksum": "98e91ac023003876185450832c1b40ad",
     "grade": false,
     "grade_id": "cell-4844a2f059a5a7cc",
     "locked": true,
     "schema_version": 3,
     "solution": false,
     "task": false
    }
   },
   "source": [
    "## Problem 2 (4 marks)\n",
    "\n",
    "Write a function called `k_product` which takes input parameters `x` and `N` and returns the product\n",
    "\n",
    "$$\n",
    "x\\prod_{k=1}^N \\left( 1 - \\frac{x^2}{k^2 \\pi^2} \\right)\n",
    "$$\n",
    "\n",
    "Use the function `np.prod` with NumPy arrays. Note the infinite product satisfies\n",
    "\n",
    "$$\n",
    "\\sin(x) = x \\prod_{k=1}^{\\infty} \\left( 1 - \\frac{x^2}{k^2 \\pi^2} \\right)\n",
    "$$\n",
    "\n",
    "Do **not** use a `for` loop. Use NumPy array functions and operations."
   ]
  },
  {
   "cell_type": "code",
   "execution_count": null,
   "id": "0117f2d5",
   "metadata": {
    "deletable": false,
    "nbgrader": {
     "cell_type": "code",
     "checksum": "31a04ef6630f5cdabe04bf600947f401",
     "grade": false,
     "grade_id": "cell-c5499ece79c20e61",
     "locked": false,
     "schema_version": 3,
     "solution": true,
     "task": false
    }
   },
   "outputs": [],
   "source": [
    "# YOUR CODE HERE"
   ]
  },
  {
   "cell_type": "code",
   "execution_count": null,
   "id": "b07a2577",
   "metadata": {
    "deletable": false,
    "editable": false,
    "nbgrader": {
     "cell_type": "code",
     "checksum": "4bfad713a24ba99b2beb59d16aae202d",
     "grade": true,
     "grade_id": "cell-28f775de1774745d",
     "locked": true,
     "points": 1,
     "schema_version": 3,
     "solution": false,
     "task": false
    }
   },
   "outputs": [],
   "source": [
    "\"Check that k_product returns the correct datatype. (1 mark)\"\n",
    "assert isinstance(k_product(1,2),np.float64) , \"Return value should be a NumPy float.\"\n",
    "print(\"Problem 2 Test 1: Success!\")"
   ]
  },
  {
   "cell_type": "code",
   "execution_count": null,
   "id": "a5ed3af0",
   "metadata": {
    "deletable": false,
    "editable": false,
    "nbgrader": {
     "cell_type": "code",
     "checksum": "84fdb69c3ad2df9830a5b1e2af5215b9",
     "grade": true,
     "grade_id": "cell-94f5e49183b4fecc",
     "locked": true,
     "points": 1,
     "schema_version": 3,
     "solution": false,
     "task": false
    }
   },
   "outputs": [],
   "source": [
    "\"Check that k_product returns the correct values. (1 mark)\"\n",
    "epsilon = 1e-10\n",
    "assert np.abs(k_product(1,1) - (1 - 1/np.pi**2)) < epsilon\n",
    "print(\"Problem 2 Test 2: Success!\")"
   ]
  },
  {
   "cell_type": "code",
   "execution_count": null,
   "id": "15dbaba2",
   "metadata": {
    "deletable": false,
    "editable": false,
    "nbgrader": {
     "cell_type": "code",
     "checksum": "1d7f85adf9930870ab9332273b5b9885",
     "grade": true,
     "grade_id": "cell-b8a6d21cfd4852cc",
     "locked": true,
     "points": 2,
     "schema_version": 3,
     "solution": false,
     "task": false
    }
   },
   "outputs": [],
   "source": [
    "\"Check that k_product returns the correct values. This cell contains hidden tests. (2 marks)\"\n",
    "epsilon = 1e-10\n",
    "assert np.abs(k_product(np.pi/4,50) - 0.7079824300576587) < epsilon\n",
    "print(\"Problem 2 Test 3: Success!\")"
   ]
  },
  {
   "cell_type": "markdown",
   "id": "8da668ac",
   "metadata": {
    "deletable": false,
    "editable": false,
    "nbgrader": {
     "cell_type": "markdown",
     "checksum": "5676c50ec68985dbc6fdff453d52ed23",
     "grade": false,
     "grade_id": "cell-90ef10d712ccdc5d",
     "locked": true,
     "schema_version": 3,
     "solution": false,
     "task": false
    }
   },
   "source": [
    "## Problem 3 (5 marks)\n",
    "\n",
    "Write a function called `mn_integral` which takes input parameters `a`, `b`, `m`, `n` and `N` and returns the Riemann sum approximation (with midpoints and `N` subintervals of equal length) of the integral\n",
    "$$\n",
    "\\int_a^b x^m \\cos(nx) \\, dx\n",
    "$$"
   ]
  },
  {
   "cell_type": "code",
   "execution_count": null,
   "id": "1cdec8ec",
   "metadata": {
    "deletable": false,
    "nbgrader": {
     "cell_type": "code",
     "checksum": "cc40f5758d3ec414e6985c8e3bcb0d0d",
     "grade": false,
     "grade_id": "cell-0cf55684009b90e1",
     "locked": false,
     "schema_version": 3,
     "solution": true,
     "task": false
    }
   },
   "outputs": [],
   "source": [
    "# YOUR CODE HERE"
   ]
  },
  {
   "cell_type": "code",
   "execution_count": null,
   "id": "a5d55527",
   "metadata": {
    "deletable": false,
    "editable": false,
    "nbgrader": {
     "cell_type": "code",
     "checksum": "4f597aea2f3982dba859a0831461c4b4",
     "grade": true,
     "grade_id": "cell-b7675f8540aa93b6",
     "locked": true,
     "points": 1,
     "schema_version": 3,
     "solution": false,
     "task": false
    }
   },
   "outputs": [],
   "source": [
    "\"Check that mn_integral returns the correct type. (1 mark)\"\n",
    "assert isinstance(mn_integral(0,2,1,1,10),np.float64) , \"Return type should be a NumPy float.\"\n",
    "print(\"Problem 3 Test 1: Success!\")"
   ]
  },
  {
   "cell_type": "code",
   "execution_count": null,
   "id": "b979462b",
   "metadata": {
    "deletable": false,
    "editable": false,
    "nbgrader": {
     "cell_type": "code",
     "checksum": "455bbd246f1eb6f0545ba74c6939f855",
     "grade": true,
     "grade_id": "cell-97d7cd39e5d0c1ea",
     "locked": true,
     "points": 2,
     "schema_version": 3,
     "solution": false,
     "task": false
    }
   },
   "outputs": [],
   "source": [
    "\"Check that mn_integral returns the correct values. (2 marks)\"\n",
    "epsilon = 1e-8\n",
    "assert np.abs(mn_integral(0,np.pi/4,1,1,1) - 0.28494767187968045) < epsilon\n",
    "print(\"Problem 3 Test 2: Success!\")"
   ]
  },
  {
   "cell_type": "code",
   "execution_count": null,
   "id": "7a841b04",
   "metadata": {
    "deletable": false,
    "editable": false,
    "nbgrader": {
     "cell_type": "code",
     "checksum": "21ba7b46f53eb0c3b5809f3d8b55c7b4",
     "grade": true,
     "grade_id": "cell-602410d655a8bbca",
     "locked": true,
     "points": 2,
     "schema_version": 3,
     "solution": false,
     "task": false
    }
   },
   "outputs": [],
   "source": [
    "\"Check that mn_integral returns the correct values. (2 marks)\"\n",
    "assert mn_integral(0,2,1,0,1) == 2\n",
    "print(\"Problem 3 Test 3: Success!\")"
   ]
  },
  {
   "cell_type": "markdown",
   "id": "b66bb1e6",
   "metadata": {
    "deletable": false,
    "editable": false,
    "nbgrader": {
     "cell_type": "markdown",
     "checksum": "0f49555a9404dd777b66788f66524738",
     "grade": false,
     "grade_id": "cell-e1120453cf88aa81",
     "locked": true,
     "schema_version": 3,
     "solution": false,
     "task": false
    }
   },
   "source": [
    "##  Problem 4 (5 marks)\n",
    "\n",
    "Write a function called `erf` which takes input parameters `x` and `error` and returns the approximation of the integral\n",
    "\n",
    "$$\n",
    "\\int_0^x e^{-t^2} dt\n",
    "$$\n",
    "\n",
    "given by the trapezoid method with $N$ subintervals of equal length which guarantees the error is less than `error`. For $K_2$, use the exact value of the maximum of $|f''(x)|$ for $x \\in [0,\\infty)$."
   ]
  },
  {
   "cell_type": "code",
   "execution_count": null,
   "id": "d77473a2",
   "metadata": {
    "deletable": false,
    "nbgrader": {
     "cell_type": "code",
     "checksum": "b81a20f54fce85ded48da7cad922ca8f",
     "grade": false,
     "grade_id": "cell-b170f87ca3d3aec0",
     "locked": false,
     "schema_version": 3,
     "solution": true,
     "task": false
    }
   },
   "outputs": [],
   "source": [
    "# YOUR CODE HERE"
   ]
  },
  {
   "cell_type": "code",
   "execution_count": null,
   "id": "3b704be7",
   "metadata": {
    "deletable": false,
    "editable": false,
    "nbgrader": {
     "cell_type": "code",
     "checksum": "ea4bf089ce09f2c807ab4273b4cbf085",
     "grade": true,
     "grade_id": "cell-a885827d438220b3",
     "locked": true,
     "points": 1,
     "schema_version": 3,
     "solution": false,
     "task": false
    }
   },
   "outputs": [],
   "source": [
    "\"Check that erf returns the correct type. (1 mark)\"\n",
    "assert isinstance(erf(2,0.001),np.float64) , \"Return value should be a NumPy float.\"\n",
    "print(\"Problem 4 Test 1: Success!\")"
   ]
  },
  {
   "cell_type": "code",
   "execution_count": null,
   "id": "0d8f6d28",
   "metadata": {
    "deletable": false,
    "editable": false,
    "nbgrader": {
     "cell_type": "code",
     "checksum": "ff7cf422df36199dd02f45cefa9b976c",
     "grade": true,
     "grade_id": "cell-4821e7265743adf9",
     "locked": true,
     "points": 2,
     "schema_version": 3,
     "solution": false,
     "task": false
    }
   },
   "outputs": [],
   "source": [
    "\"Check that erf returns the correct values. (2 marks)\"\n",
    "epsilon = 1e-10\n",
    "assert np.abs(erf(1,0.01) - 0.744368339763667) < epsilon\n",
    "print(\"Problem 4 Test 2: Success!\")"
   ]
  },
  {
   "cell_type": "code",
   "execution_count": null,
   "id": "fe619db9",
   "metadata": {
    "deletable": false,
    "editable": false,
    "nbgrader": {
     "cell_type": "code",
     "checksum": "8d6c1056db65da2127040937aea6da70",
     "grade": true,
     "grade_id": "cell-5188eda2ac651f00",
     "locked": true,
     "points": 2,
     "schema_version": 3,
     "solution": false,
     "task": false
    }
   },
   "outputs": [],
   "source": [
    "\"Check that erf returns the correct values. This cell contains hidden tests. (2 marks)\"\n",
    "epsilon = 1e-10\n",
    "assert np.abs(erf(1,0.0001) - 0.7467876578237478) < epsilon\n",
    "print(\"Problem 4 Test 3: Success!\")"
   ]
  },
  {
   "cell_type": "markdown",
   "id": "7956fcf2",
   "metadata": {
    "deletable": false,
    "editable": false,
    "nbgrader": {
     "cell_type": "markdown",
     "checksum": "76ce9e0a0e2456e6413448e8eb839e24",
     "grade": false,
     "grade_id": "cell-89a50863d9d22972",
     "locked": true,
     "schema_version": 3,
     "solution": false,
     "task": false
    }
   },
   "source": [
    "##  Problem 5 (5 marks)\n",
    "\n",
    "Write a function called `Ei` which takes input parameters `x` and `error` and returns the approximation of the integral\n",
    "\n",
    "$$\n",
    "\\int_1^x \\frac{e^{-t}}{t} dt\n",
    "$$\n",
    "\n",
    "given by the trapezoid method with $N$ subintervals of equal length which guarantees the error is less than `error`. For $K_2$, use the exact value of the maximum of $|f''(x)|$ for $x \\in [1,\\infty)$."
   ]
  },
  {
   "cell_type": "code",
   "execution_count": null,
   "id": "07db661d",
   "metadata": {
    "deletable": false,
    "nbgrader": {
     "cell_type": "code",
     "checksum": "f3484dbe52a45df5c108bfa434eed493",
     "grade": false,
     "grade_id": "cell-089c21c078558af6",
     "locked": false,
     "schema_version": 3,
     "solution": true,
     "task": false
    }
   },
   "outputs": [],
   "source": [
    "# YOUR CODE HERE"
   ]
  },
  {
   "cell_type": "code",
   "execution_count": null,
   "id": "d0dfd0bd",
   "metadata": {
    "deletable": false,
    "editable": false,
    "nbgrader": {
     "cell_type": "code",
     "checksum": "64f7d3b4ec28c130069e2ea77857ca70",
     "grade": true,
     "grade_id": "cell-0286fc9d045097fc",
     "locked": true,
     "points": 1,
     "schema_version": 3,
     "solution": false,
     "task": false
    }
   },
   "outputs": [],
   "source": [
    "\"Check that Ei returns the correct type. (1 mark)\"\n",
    "assert isinstance(Ei(2,0.001),np.float64) , \"Return value should be a NumPy float.\"\n",
    "print(\"Problem 5 Test 1: Success!\")"
   ]
  },
  {
   "cell_type": "code",
   "execution_count": null,
   "id": "37852042",
   "metadata": {
    "deletable": false,
    "editable": false,
    "nbgrader": {
     "cell_type": "code",
     "checksum": "0ea25f8f52abd42960cf73431c419efd",
     "grade": true,
     "grade_id": "cell-50cbb1d431ff52db",
     "locked": true,
     "points": 1,
     "schema_version": 3,
     "solution": false,
     "task": false
    }
   },
   "outputs": [],
   "source": [
    "\"Check that Ei returns the correct values. (1 mark)\"\n",
    "assert Ei(1,0.01) == 0\n",
    "print(\"Problem 5 Test 2: Success!\")"
   ]
  },
  {
   "cell_type": "code",
   "execution_count": null,
   "id": "88aa5517",
   "metadata": {
    "deletable": false,
    "editable": false,
    "nbgrader": {
     "cell_type": "code",
     "checksum": "4ab9e6133de5033a8ac9cdce8cfdfd2c",
     "grade": true,
     "grade_id": "cell-713488b8daf3f5e7",
     "locked": true,
     "points": 3,
     "schema_version": 3,
     "solution": false,
     "task": false
    }
   },
   "outputs": [],
   "source": [
    "\"Check that Ei returns the correct values. This cell contains hidden tests. (3 marks)\"\n",
    "epsilon = 1e-10\n",
    "assert np.abs(Ei(5,0.001) - 0.21833350347126337) < epsilon\n",
    "print(\"Problem 5 Test 3: Success!\")"
   ]
  }
 ],
 "metadata": {
  "kernelspec": {
   "display_name": "Python 3 (ipykernel)",
   "language": "python",
   "name": "python3"
  },
  "language_info": {
   "codemirror_mode": {
    "name": "ipython",
    "version": 3
   },
   "file_extension": ".py",
   "mimetype": "text/x-python",
   "name": "python",
   "nbconvert_exporter": "python",
   "pygments_lexer": "ipython3",
   "version": "3.10.12"
  }
 },
 "nbformat": 4,
 "nbformat_minor": 5
}
