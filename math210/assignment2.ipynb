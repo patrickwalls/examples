{
 "cells": [
  {
   "cell_type": "markdown",
   "id": "cf483ce5",
   "metadata": {
    "deletable": false,
    "editable": false,
    "nbgrader": {
     "cell_type": "markdown",
     "checksum": "fb2dbf7a0248dcec7a22e1aa20e80918",
     "grade": false,
     "grade_id": "cell-0d8959e454a4d19d",
     "locked": true,
     "schema_version": 3,
     "solution": false,
     "task": false
    }
   },
   "source": [
    "# MATH 210 Assignment 2\n",
    "\n",
    "### Instructions\n",
    "\n",
    "* Write your solutions in the cells with `YOUR CODE HERE`.\n",
    "* You may work with others but submit your own solutions.\n",
    "* **Do not import** any Python packages such as `math` or `numpy` to complete this assignment.\n",
    "* Execute the test cells to verify that your solutions pass.\n",
    "* **This notebook contains hidden tests!** Your solution may not be completely correct even if it passes all tests below.\n",
    "* Submit this notebook to Canvas."
   ]
  },
  {
   "cell_type": "markdown",
   "id": "a766b1a2",
   "metadata": {
    "deletable": false,
    "editable": false,
    "nbgrader": {
     "cell_type": "markdown",
     "checksum": "456e5201cf9e0062b507d7b49cedf6e6",
     "grade": false,
     "grade_id": "cell-bec18660bc0db1a1",
     "locked": true,
     "schema_version": 3,
     "solution": false,
     "task": false
    }
   },
   "source": [
    "## Problem 1 (5 marks)\n",
    "\n",
    "Write a function called `median` which takes a list of numbers `x` and returns the median value (see [Wikipedia:Median](https://en.wikipedia.org/wiki/Median)). If the length of the list `x` is odd then the median is the middle value and if the length is even then the median is the average of the two middle values. For example, the median of `[1,3,-1,6,2]` is `2` and the median of `[1,3,2,6,-1,0]` is `1.5`. Use the built-in function `sorted` to sort the list of values. Use the modulo operator `%` to determine if an integer is odd or even.\n",
    "\n",
    "This is an exercise in pure Python. Do **not** use any Python packages such as `math` or `numpy` or `scipy` for this exercise."
   ]
  },
  {
   "cell_type": "code",
   "execution_count": null,
   "id": "830fe029",
   "metadata": {
    "deletable": false,
    "nbgrader": {
     "cell_type": "code",
     "checksum": "cc5c8ed73223d896828162204aafd28a",
     "grade": false,
     "grade_id": "cell-b8dc729e3aef29ad",
     "locked": false,
     "schema_version": 3,
     "solution": true,
     "task": false
    }
   },
   "outputs": [],
   "source": [
    "# YOUR CODE HERE"
   ]
  },
  {
   "cell_type": "code",
   "execution_count": null,
   "id": "b5157b79",
   "metadata": {
    "deletable": false,
    "editable": false,
    "nbgrader": {
     "cell_type": "code",
     "checksum": "6c619241a6d2ad3761b7047367ac21c4",
     "grade": true,
     "grade_id": "cell-2ac08a19378ec6c1",
     "locked": true,
     "points": 1,
     "schema_version": 3,
     "solution": false,
     "task": false
    }
   },
   "outputs": [],
   "source": [
    "# Test 1: Check median returns the correct datatype. (1 mark)\n",
    "assert isinstance(median([1,2,3,4]),float)\n",
    "print(\"Problem 1 Test 1: Success!\")"
   ]
  },
  {
   "cell_type": "code",
   "execution_count": null,
   "id": "148d1ae1",
   "metadata": {
    "deletable": false,
    "editable": false,
    "nbgrader": {
     "cell_type": "code",
     "checksum": "f0a0779a706a33eab06dcd696f80b706",
     "grade": true,
     "grade_id": "cell-bfb18de96b51b807",
     "locked": true,
     "points": 1,
     "schema_version": 3,
     "solution": false,
     "task": false
    },
    "tags": []
   },
   "outputs": [],
   "source": [
    "# Test 2: Check median returns the correct values. (1 mark)\n",
    "assert abs(median([1.0,2.0,3.0]) - 2.0) < 1e-14\n",
    "print(\"Problem 1 Test 2: Success!\")"
   ]
  },
  {
   "cell_type": "code",
   "execution_count": null,
   "id": "cc79661f",
   "metadata": {
    "deletable": false,
    "editable": false,
    "nbgrader": {
     "cell_type": "code",
     "checksum": "604d18849bb5fe962ef87187a7aa5262",
     "grade": true,
     "grade_id": "cell-5744556726894c69",
     "locked": true,
     "points": 1,
     "schema_version": 3,
     "solution": false,
     "task": false
    },
    "tags": []
   },
   "outputs": [],
   "source": [
    "# Test 3: Check median returns the correct values. This cell contains hidden tests. (1 mark)\n",
    "assert abs(median([1.0,2.0,3.0,4.0]) - 2.5) < 1e-14\n",
    "print(\"Problem 1 Test 3: Success!\")"
   ]
  },
  {
   "cell_type": "code",
   "execution_count": null,
   "id": "d1bd6667-a803-4309-a419-b5a33d43a2b0",
   "metadata": {
    "deletable": false,
    "editable": false,
    "nbgrader": {
     "cell_type": "code",
     "checksum": "bb3308914a6c959eaedc4ac3dc3a7a1a",
     "grade": true,
     "grade_id": "cell-8c7495ed4cdc39ef",
     "locked": true,
     "points": 1,
     "schema_version": 3,
     "solution": false,
     "task": false
    },
    "tags": []
   },
   "outputs": [],
   "source": [
    "# Test 4: Check median returns the correct values. This cell contains hidden tests. (1 mark)"
   ]
  },
  {
   "cell_type": "code",
   "execution_count": null,
   "id": "ff69e2a0-7a48-4381-ab9c-890330c82b10",
   "metadata": {
    "deletable": false,
    "editable": false,
    "nbgrader": {
     "cell_type": "code",
     "checksum": "c4258f0bb066fc8011129f2c4703112e",
     "grade": true,
     "grade_id": "cell-0fd8eb31d3170113",
     "locked": true,
     "points": 1,
     "schema_version": 3,
     "solution": false,
     "task": false
    },
    "tags": []
   },
   "outputs": [],
   "source": [
    "# Test 5: Check median returns the correct values. This cell contains hidden tests. (1 mark)"
   ]
  },
  {
   "cell_type": "markdown",
   "id": "8eb24cb7-22fe-4b7a-a42f-dc6a5448ea4a",
   "metadata": {
    "deletable": false,
    "editable": false,
    "nbgrader": {
     "cell_type": "markdown",
     "checksum": "62a2aa62093d31c6507f629c6455efda",
     "grade": false,
     "grade_id": "cell-2eba774835e921fa",
     "locked": true,
     "schema_version": 3,
     "solution": false,
     "task": false
    },
    "tags": []
   },
   "source": [
    "## Problem 2 (5 marks)\n",
    "\n",
    "Write a function called `sequence` which takes input parameters `a` and `N` and returns the $N$th value $x_N$ of the recursive sequence\n",
    "\n",
    "$$\n",
    "x_0 = 1 \\ , \\ \\ x_{n+1} = \\frac{1 + ax_n}{1 + x_n^2}\n",
    "$$"
   ]
  },
  {
   "cell_type": "code",
   "execution_count": null,
   "id": "c46c37a5-ddd9-426c-ac49-afa9d149726b",
   "metadata": {
    "deletable": false,
    "nbgrader": {
     "cell_type": "code",
     "checksum": "c5430237cd81fe77451ebdebd8da3060",
     "grade": false,
     "grade_id": "cell-dfed481424a1bc36",
     "locked": false,
     "schema_version": 3,
     "solution": true,
     "task": false
    },
    "tags": []
   },
   "outputs": [],
   "source": [
    "# YOUR CODE HERE"
   ]
  },
  {
   "cell_type": "code",
   "execution_count": null,
   "id": "94862f01-7820-4cfe-987b-5e5696b686f6",
   "metadata": {
    "deletable": false,
    "editable": false,
    "nbgrader": {
     "cell_type": "code",
     "checksum": "393e4f42533b3e30d4d3b6d5a8363da8",
     "grade": true,
     "grade_id": "cell-305f5c1070b51790",
     "locked": true,
     "points": 1,
     "schema_version": 3,
     "solution": false,
     "task": false
    },
    "tags": []
   },
   "outputs": [],
   "source": [
    "# Test 1: Check if sequence returns a float. (1 mark)\n",
    "assert isinstance(sequence(2,4),float) , \"sequence should return a float.\"\n",
    "print(\"Problem 2 Test 1: Success!\")"
   ]
  },
  {
   "cell_type": "code",
   "execution_count": null,
   "id": "99ca5e96-966b-4515-a830-75937c473044",
   "metadata": {
    "deletable": false,
    "editable": false,
    "nbgrader": {
     "cell_type": "code",
     "checksum": "47d78840aa69c5e2348db81bc3ca1904",
     "grade": true,
     "grade_id": "cell-fcbd8666766f22fc",
     "locked": true,
     "points": 1,
     "schema_version": 3,
     "solution": false,
     "task": false
    },
    "tags": []
   },
   "outputs": [],
   "source": [
    "# Test 2: Check if sequence returns different numbers for different input. (1 mark)\n",
    "assert abs(sequence(2,5) - sequence(3,10)) > 0\n",
    "print(\"Problem 2 Test 2: Success!\")"
   ]
  },
  {
   "cell_type": "code",
   "execution_count": null,
   "id": "564f2d74-7385-43c8-922e-bad7045ea534",
   "metadata": {
    "deletable": false,
    "editable": false,
    "nbgrader": {
     "cell_type": "code",
     "checksum": "3d2bf80e371ab4b82813e01c931fdd9a",
     "grade": true,
     "grade_id": "cell-c9353f804484e67d",
     "locked": true,
     "points": 1,
     "schema_version": 3,
     "solution": false,
     "task": false
    },
    "tags": []
   },
   "outputs": [],
   "source": [
    "# Test 3: Check if sequence returns correct values. (1 mark)\n",
    "assert abs(sequence(2,10) - 1.323952613955125) < 1e-10\n",
    "print(\"Problem 2 Test 3: Success!\")"
   ]
  },
  {
   "cell_type": "code",
   "execution_count": null,
   "id": "be6efd2b-64e6-4d55-9759-2d3f255e3cf5",
   "metadata": {
    "deletable": false,
    "editable": false,
    "nbgrader": {
     "cell_type": "code",
     "checksum": "da7ab055b10b2c2a2396ed066cd47436",
     "grade": true,
     "grade_id": "cell-97137a53f47984b8",
     "locked": true,
     "points": 2,
     "schema_version": 3,
     "solution": false,
     "task": false
    },
    "tags": []
   },
   "outputs": [],
   "source": [
    "# Test 4: Check if sequence returns correct values. This cell contains hidden tests. (2 marks)"
   ]
  },
  {
   "cell_type": "markdown",
   "id": "679c2a08",
   "metadata": {
    "deletable": false,
    "editable": false,
    "nbgrader": {
     "cell_type": "markdown",
     "checksum": "05e5b20612bb9d7b7a7ef9e5443e4980",
     "grade": false,
     "grade_id": "cell-8e219b28754802fa",
     "locked": true,
     "schema_version": 3,
     "solution": false,
     "task": false
    }
   },
   "source": [
    "## Problem 3 (5 marks)\n",
    "\n",
    "Write a function called `sequence_ab` which takes 3 input parameters `a`, `b` and `N` and returns a Python list `[x0,x1,...,xN]` of length $N+1$ representing the recursive sequence\n",
    "\n",
    "$$\n",
    "x_0 = 1 \\ , \\ \\ x_1 = 1 \\ , \\ \\ x_{n+2} = a x_{n+1} + b x_{n}\n",
    "$$\n",
    "\n",
    "For example, if $a = b = 1$ and $N = 5$ then the function returns the partial Fibonacci sequence `[1,1,2,3,5,8]`."
   ]
  },
  {
   "cell_type": "code",
   "execution_count": null,
   "id": "77cae345",
   "metadata": {
    "deletable": false,
    "nbgrader": {
     "cell_type": "code",
     "checksum": "94f10803d1be873944fa8918f37bbe08",
     "grade": false,
     "grade_id": "cell-00a1f5264fda01d1",
     "locked": false,
     "schema_version": 3,
     "solution": true,
     "task": false
    }
   },
   "outputs": [],
   "source": [
    "# YOUR CODE HERE"
   ]
  },
  {
   "cell_type": "code",
   "execution_count": null,
   "id": "df1b0851",
   "metadata": {
    "deletable": false,
    "editable": false,
    "nbgrader": {
     "cell_type": "code",
     "checksum": "22e77d93fd534463c93a44f48772f8d7",
     "grade": true,
     "grade_id": "cell-353a2223da490408",
     "locked": true,
     "points": 1,
     "schema_version": 3,
     "solution": false,
     "task": false
    }
   },
   "outputs": [],
   "source": [
    "# Test 1: Check function returns correct datatype. (1 mark)\n",
    "assert type(sequence_ab(1,1,5)) == list , \"Return value should be a list.\"\n",
    "print(\"Problem 3 Test 1: Success!\")"
   ]
  },
  {
   "cell_type": "code",
   "execution_count": null,
   "id": "2a77bd61",
   "metadata": {
    "deletable": false,
    "editable": false,
    "nbgrader": {
     "cell_type": "code",
     "checksum": "ab84bb9933997594428eefb4c3ae9092",
     "grade": true,
     "grade_id": "cell-b1c687cb336730ee",
     "locked": true,
     "points": 1,
     "schema_version": 3,
     "solution": false,
     "task": false
    }
   },
   "outputs": [],
   "source": [
    "# Test 2: Check function returns a list of the correct length. (1 mark)\n",
    "assert len(sequence_ab(1,-1,23)) == 24 , \"Return value should be a list of length 24.\"\n",
    "print(\"Problem 3 Test 2: Success!\")"
   ]
  },
  {
   "cell_type": "code",
   "execution_count": null,
   "id": "b4740fb0",
   "metadata": {
    "deletable": false,
    "editable": false,
    "nbgrader": {
     "cell_type": "code",
     "checksum": "01914c0af6c383be9730f529583768a6",
     "grade": true,
     "grade_id": "cell-867c5eef7bd84ea4",
     "locked": true,
     "points": 1,
     "schema_version": 3,
     "solution": false,
     "task": false
    }
   },
   "outputs": [],
   "source": [
    "# Test 3: Check function returns correct values. (1 mark)\"\n",
    "assert sequence_ab(1,1,5) == [1,1,2,3,5,8] , \"Return value should be [1,1,2,3,5,8] when a=b=1 and N=5.\"\n",
    "print(\"Problem 3 Test 3: Success!\")"
   ]
  },
  {
   "cell_type": "code",
   "execution_count": null,
   "id": "3899b851",
   "metadata": {
    "deletable": false,
    "editable": false,
    "nbgrader": {
     "cell_type": "code",
     "checksum": "2966817a3744578fbb54bc68cf8ef3aa",
     "grade": true,
     "grade_id": "cell-4afe32e813ddbcc3",
     "locked": true,
     "points": 2,
     "schema_version": 3,
     "solution": false,
     "task": false
    }
   },
   "outputs": [],
   "source": [
    "# Test 4: Check function returns correct values. This cell contains hidden tests. (2 marks)"
   ]
  },
  {
   "cell_type": "markdown",
   "id": "3c109d9c",
   "metadata": {
    "deletable": false,
    "editable": false,
    "nbgrader": {
     "cell_type": "markdown",
     "checksum": "e7eb0c726500608e8bad20c96660433e",
     "grade": false,
     "grade_id": "cell-73950b42c0e65355",
     "locked": true,
     "schema_version": 3,
     "solution": false,
     "task": false
    }
   },
   "source": [
    "## Problem 4 (5 marks)\n",
    "\n",
    "Write a function called `newton_ab` which takes 6 input parameters `a`, `b`, `c`, `x0`, `max_iter` (default value `10`) and `epsilon` (default value `1e-10`) and implements Newton's method with initial guess `x0` and returns an approximation of a solution of the equation $f(x) = 0$ where\n",
    "\n",
    "$$\n",
    "f(x) = x^5 + ax^2 + bx + c\n",
    "$$\n",
    "\n",
    "The value `max_iter` is the maximum number of iterations of Newton's method to implement. The value `epsilon` is the stopping criteria: $|f(x_n)| < \\epsilon$. Use may use the function `newton` defined below."
   ]
  },
  {
   "cell_type": "code",
   "execution_count": null,
   "id": "e7a15331",
   "metadata": {
    "deletable": false,
    "editable": false,
    "nbgrader": {
     "cell_type": "code",
     "checksum": "1023265f37b26bf89eae9f831c3f269a",
     "grade": false,
     "grade_id": "cell-adf3601f994dd475",
     "locked": true,
     "schema_version": 3,
     "solution": false,
     "task": false
    }
   },
   "outputs": [],
   "source": [
    "def newton(f,Df,x0,epsilon,max_iter):\n",
    "    xn = x0\n",
    "    for n in range(0,max_iter):\n",
    "        fxn = f(xn)\n",
    "        if abs(fxn) < epsilon:\n",
    "            print('Found solution after',n,'iterations.')\n",
    "            return xn\n",
    "        Dfxn = Df(xn)\n",
    "        if abs(Dfxn) < 1e-12:\n",
    "            print('Zero derivative. No solution found.')\n",
    "            return None\n",
    "        xn = xn - fxn/Dfxn\n",
    "    print('Exceeded maximum iterations. No solution found.')\n",
    "    return None"
   ]
  },
  {
   "cell_type": "code",
   "execution_count": null,
   "id": "000a8e1f",
   "metadata": {
    "deletable": false,
    "nbgrader": {
     "cell_type": "code",
     "checksum": "dc9d7d7c8d8cb96ff8b711544832f5fa",
     "grade": false,
     "grade_id": "cell-23bed5d11ea74a18",
     "locked": false,
     "schema_version": 3,
     "solution": true,
     "task": false
    }
   },
   "outputs": [],
   "source": [
    "# YOUR CODE HERE"
   ]
  },
  {
   "cell_type": "code",
   "execution_count": null,
   "id": "a7ac3d9c",
   "metadata": {
    "deletable": false,
    "editable": false,
    "nbgrader": {
     "cell_type": "code",
     "checksum": "88e168187957bbd993967caf8de96d9f",
     "grade": true,
     "grade_id": "cell-e153d07912e38c56",
     "locked": true,
     "points": 1,
     "schema_version": 3,
     "solution": false,
     "task": false
    }
   },
   "outputs": [],
   "source": [
    "# Test 1: Check function accepts the right number of input parameters. (1 mark)\n",
    "assert type(newton_ab(2,-1,-1,1)) == float , \"Return value should be a float.\"\n",
    "assert type(newton_ab(2,-1,-1,1,10)) == float , \"Return value should be a float.\"\n",
    "assert type(newton_ab(2,-1,-1,1,10,1e-4)) == float , \"Return value should be a float.\"\n",
    "print(\"Problem 4 Test 1: Success!\")"
   ]
  },
  {
   "cell_type": "code",
   "execution_count": null,
   "id": "24b630b6",
   "metadata": {
    "deletable": false,
    "editable": false,
    "nbgrader": {
     "cell_type": "code",
     "checksum": "6bd9db7f4fe23c8fe58e3e53b83ad788",
     "grade": true,
     "grade_id": "cell-ead4ec53484a02c8",
     "locked": true,
     "points": 1,
     "schema_version": 3,
     "solution": false,
     "task": false
    }
   },
   "outputs": [],
   "source": [
    "# Test 2: Check function returns the correct datatype when there is a zero derivative. (1 mark)\n",
    "assert newton_ab(-2,-1,1,1,25,0.001) == None , \"Return value should be None when f'(x) = 5x^4 - 4x - 1 and x0 = 1.\"\n",
    "print(\"Problem 4 Test 2: Success!\")"
   ]
  },
  {
   "cell_type": "code",
   "execution_count": null,
   "id": "9c129247",
   "metadata": {
    "deletable": false,
    "editable": false,
    "nbgrader": {
     "cell_type": "code",
     "checksum": "4da75e9618b5cc3824b2cc3e952a82ac",
     "grade": true,
     "grade_id": "cell-0bf19de35de2d904",
     "locked": true,
     "points": 1,
     "schema_version": 3,
     "solution": false,
     "task": false
    }
   },
   "outputs": [],
   "source": [
    "# Test 3: Check function returns the correct datatype when exceed maximum iterations. (1 mark)\n",
    "assert newton_ab(2,-1,-1,10,2,1e-12) == None , \"Return value should be None when maximum iterations is exceeded.\"\n",
    "print(\"Problem 4 Test 3: Success!\")"
   ]
  },
  {
   "cell_type": "code",
   "execution_count": null,
   "id": "4af68856",
   "metadata": {
    "deletable": false,
    "editable": false,
    "nbgrader": {
     "cell_type": "code",
     "checksum": "86905eb2f6d5766a366ec791945d2f19",
     "grade": true,
     "grade_id": "cell-1821dab43585ca3c",
     "locked": true,
     "points": 1,
     "schema_version": 3,
     "solution": false,
     "task": false
    },
    "tags": []
   },
   "outputs": [],
   "source": [
    "# Test 4: Check function returns the correct values. (1 mark)\n",
    "assert abs(newton_ab(2,-1,-1,1) - 0.8421756416969274) < 1e-12\n",
    "assert abs(newton_ab(5,4,-3,1,10,1e-12) - 0.4691683039523567) < 1e-12\n",
    "print(\"Problem 4 Test 4: Success!\")"
   ]
  },
  {
   "cell_type": "code",
   "execution_count": null,
   "id": "98553629-9b76-43e6-9092-f17840ad7443",
   "metadata": {
    "deletable": false,
    "editable": false,
    "nbgrader": {
     "cell_type": "code",
     "checksum": "e6802faa0552b6d9e70dd33ff29155c4",
     "grade": true,
     "grade_id": "cell-a20d96b980b03f22",
     "locked": true,
     "points": 1,
     "schema_version": 3,
     "solution": false,
     "task": false
    },
    "tags": []
   },
   "outputs": [],
   "source": [
    "# Test 5: Check function returns the correct values. This cell contains hidden tests. (1 mark)"
   ]
  },
  {
   "cell_type": "markdown",
   "id": "328a3298",
   "metadata": {
    "deletable": false,
    "editable": false,
    "nbgrader": {
     "cell_type": "markdown",
     "checksum": "abfc9d73b34cdb41e0eced56019e0d30",
     "grade": false,
     "grade_id": "cell-7dda884225f23b65",
     "locked": true,
     "schema_version": 3,
     "solution": false,
     "task": false
    }
   },
   "source": [
    "## Problem 5 (5 marks)\n",
    "\n",
    "Represent a polynomial $p(x)=c_0+c_1x+c_2x^2+\\cdots+c_nx^n$ as a list of coefficients $[c_0,c_1,\\dots,c_n]$. Write a function called `poly_critical` which takes 4 input parameters `p`, `a`, `b` and `N` where:\n",
    "\n",
    "* `p` is a Python list of numbers representing a polynomial $p(x)$\n",
    "* `a` and `b` are numbers defining an interval $[a,b]$\n",
    "* `N` is a positive integer\n",
    "\n",
    "The function `poly_critical` implements $N$ iterations of the bisection method applied to the equation $p'(x)=0$ and returns an approximation of a critical point $x$ where $p'(x)=0$ for $x \\in [a,b]$.\n",
    "\n",
    "For example, if `p = [1,-1,1,0,0,1]` (which represents $p(x) = 1-x+x^2+x^5$), `a=0`, `b=1` and `N=100` then the function returns `0.4212656546685004` which approximates a solution of $5x^4+2x-1=0$.\n",
    "\n",
    "The function `poly_critical` may terminate in 4 ways:\n",
    "\n",
    "1. If `len(p) <= 2` (`p` is linear), the function should print `\"No critical points.\"` and return `None`.\n",
    "2. If either initial endpoint is a critical point, return the endpoint.\n",
    "3. If values at both endpoints and midpoint have the same sign at any iteration, the function should print `\"Bisection method fails.\"` and return `None`.\n",
    "4. The function implements N iterations of the bisection method successfully and returns the midpoint of the Nth subinterval.\n",
    "\n",
    "Use the functions `poly_eval`, `poly_diff` and `bisection` defined below. Note that the function `bisection` satisfies the condition 2,3,4 above for appropriate input."
   ]
  },
  {
   "cell_type": "code",
   "execution_count": null,
   "id": "1dbea0ab",
   "metadata": {
    "deletable": false,
    "editable": false,
    "nbgrader": {
     "cell_type": "code",
     "checksum": "8500ecca9102fed9f455785713e33cd9",
     "grade": false,
     "grade_id": "cell-70668f1fb7fdfd01",
     "locked": true,
     "schema_version": 3,
     "solution": false,
     "task": false
    }
   },
   "outputs": [],
   "source": [
    "def poly_eval(p,a):\n",
    "    return sum([p[n]*a**n for n in range(0,len(p))])\n",
    "\n",
    "def poly_diff(p):\n",
    "    if len(p) > 1:\n",
    "        dpdx = [p[n]*n for n in range(1,len(p))]\n",
    "    else:\n",
    "        dpdx = [0]\n",
    "    return dpdx\n",
    "    \n",
    "def bisection(f,a,b,N):\n",
    "    if f(a) == 0:\n",
    "        print(\"Found exact solution at endpoint x=a.\")\n",
    "        return a\n",
    "    if f(b) == 0:\n",
    "        print(\"Found exact solution at endpoint x=b.\")\n",
    "        return b\n",
    "    if f(a)*f(b) >= 0:\n",
    "        print(\"Bisection method fails.\")\n",
    "        return None\n",
    "    an = a\n",
    "    bn = b\n",
    "    for n in range(1,N+1):\n",
    "        mn = (an + bn)/2\n",
    "        fmn = f(mn)\n",
    "        if f(an)*fmn < 0:\n",
    "            bn = mn\n",
    "        elif f(bn)*fmn < 0:\n",
    "            an = mn\n",
    "        elif fmn == 0:\n",
    "            print(\"Found exact solution.\")\n",
    "            return mn\n",
    "        else:\n",
    "            print(\"Bisection method fails.\")\n",
    "            return None\n",
    "    return (an + bn)/2"
   ]
  },
  {
   "cell_type": "code",
   "execution_count": null,
   "id": "e0771b3b",
   "metadata": {
    "deletable": false,
    "nbgrader": {
     "cell_type": "code",
     "checksum": "e74e54ac6aac1b2d5cf93830b4177d9c",
     "grade": false,
     "grade_id": "cell-1d2fdd2df0746fdf",
     "locked": false,
     "schema_version": 3,
     "solution": true,
     "task": false
    }
   },
   "outputs": [],
   "source": [
    "# YOUR CODE HERE"
   ]
  },
  {
   "cell_type": "code",
   "execution_count": null,
   "id": "8f65a799",
   "metadata": {
    "deletable": false,
    "editable": false,
    "nbgrader": {
     "cell_type": "code",
     "checksum": "dfcd25dcbefe03988b0ae94ba46ba571",
     "grade": true,
     "grade_id": "cell-a7c018588f6973a2",
     "locked": true,
     "points": 1,
     "schema_version": 3,
     "solution": false,
     "task": false
    }
   },
   "outputs": [],
   "source": [
    "# Test 1: Check function returns the correct value when p(x) is linear. (1 mark)\n",
    "assert poly_critical([1,1],0,1,100) == None , \"Return value should be a None if p(x) is linear.\"\n",
    "print(\"Problem 5 Test 1: Success!\")"
   ]
  },
  {
   "cell_type": "code",
   "execution_count": null,
   "id": "82e2f4e4",
   "metadata": {
    "deletable": false,
    "editable": false,
    "nbgrader": {
     "cell_type": "code",
     "checksum": "97dba5c42af3ef7023b265fd6fde504b",
     "grade": true,
     "grade_id": "cell-144fdd5ea907bd8f",
     "locked": true,
     "points": 2,
     "schema_version": 3,
     "solution": false,
     "task": false
    }
   },
   "outputs": [],
   "source": [
    "# Test 2: Check function returns the correct value when critical points at the endpoints. (2 marks)\n",
    "assert abs(poly_critical([0,-3,0,1],0,1,100) - 1) < 1e-12 , \"Return values should be 1.0 when p(x) = x^3 - 3x and a=0, b=1.\"\n",
    "assert abs(poly_critical([0,-3,0,1],-1,0,100) - -1) < 1e-12 , \"Return values should be -1.0 when p(x) = x^3 - 3x and a=-1, b=0.\"\n",
    "print(\"Problem 5 Test 2: Success!\")"
   ]
  },
  {
   "cell_type": "code",
   "execution_count": null,
   "id": "73105596",
   "metadata": {
    "deletable": false,
    "editable": false,
    "nbgrader": {
     "cell_type": "code",
     "checksum": "6be9e75f58c2db27f3813ed960fef104",
     "grade": true,
     "grade_id": "cell-44f11f0f6b978db4",
     "locked": true,
     "points": 2,
     "schema_version": 3,
     "solution": false,
     "task": false
    }
   },
   "outputs": [],
   "source": [
    "# Test 3: Check function returns the correct datatype and value. This cell contains hidden tests. (2 marks)"
   ]
  },
  {
   "cell_type": "markdown",
   "id": "3e639dee",
   "metadata": {
    "deletable": false,
    "editable": false,
    "nbgrader": {
     "cell_type": "markdown",
     "checksum": "5880fc296cc5e3e3df04bf13913642dd",
     "grade": false,
     "grade_id": "cell-970e313acf951799",
     "locked": true,
     "schema_version": 3,
     "solution": false,
     "task": false
    }
   },
   "source": [
    "## Problem 6 (5 marks)\n",
    "\n",
    "Given a finite sequence of number $[a_0,a_1,\\dots,a_n]$ (of length $n+1$), define a new finite sequence $[b_0,b_1,\\dots, b_n]$ by the recursive formula\n",
    "\n",
    "$$\n",
    "b_n = a_{n} + \\frac{1}{b_{n-1}}\n",
    "$$\n",
    "\n",
    "For example:\n",
    "\n",
    "\\begin{align*}\n",
    "b_0 &= a_0 \\\\\n",
    "b_1 &= a_{1} + \\frac{1}{b_0} = a_{1} + \\frac{1}{a_0} \\\\\n",
    "b_2 &= a_{2} + \\frac{1}{b_1} = a_2 + \\frac{1}{a_{1} + \\frac{1}{a_0}}\\\\\n",
    "b_3 &= a_{3} + \\frac{1}{b_2} = a_3 + \\frac{1}{a_2 + \\frac{1}{a_{1} + \\frac{1}{a_0}}} \\\\\n",
    "& \\vdots \\\\\n",
    "b_n &= a_{n} + \\frac{1}{b_{n-1}} = a_n + \\frac{1}{\\ddots + \\frac{1}{a_0}} \n",
    "\\end{align*}\n",
    "\n",
    "Write a function called `sequence_to_fraction` which takes one input parameter `a` (a Python list of positive integers $[a_0,a_1,\\dots,a_n]$) and returns the last number $b_n$ in the sequence defined above\n",
    "\n",
    "$$\n",
    "b_n = a_n + \\frac{1}{a_{n-1} + \\frac{1}{\\ddots + \\frac{1}{a_0}}}\n",
    "$$\n",
    "\n",
    "\n"
   ]
  },
  {
   "cell_type": "code",
   "execution_count": null,
   "id": "f6c6640a",
   "metadata": {
    "deletable": false,
    "nbgrader": {
     "cell_type": "code",
     "checksum": "0867eadb6415149410b4f8b3b92dc42d",
     "grade": false,
     "grade_id": "cell-9c6015ad6263af5a",
     "locked": false,
     "schema_version": 3,
     "solution": true,
     "task": false
    }
   },
   "outputs": [],
   "source": [
    "# YOUR CODE HERE"
   ]
  },
  {
   "cell_type": "code",
   "execution_count": null,
   "id": "2f662312",
   "metadata": {
    "deletable": false,
    "editable": false,
    "nbgrader": {
     "cell_type": "code",
     "checksum": "18bf27a029801d009e18332f46b475e7",
     "grade": true,
     "grade_id": "cell-56b9cd8cb0a27347",
     "locked": true,
     "points": 1,
     "schema_version": 3,
     "solution": false,
     "task": false
    }
   },
   "outputs": [],
   "source": [
    "# Test 1: Check function returns the correct datatype. (1 mark)\n",
    "assert type(sequence_to_fraction([1,1,1,1,1,1,1,1,1,1,1])) == float , \"Return value should be a float.\"\n",
    "print(\"Problem 6 Test 1: Success!\")"
   ]
  },
  {
   "cell_type": "code",
   "execution_count": null,
   "id": "6ada5806",
   "metadata": {
    "deletable": false,
    "editable": false,
    "nbgrader": {
     "cell_type": "code",
     "checksum": "10288cd566dfb187023b35696891eb9c",
     "grade": true,
     "grade_id": "cell-6f7304bcbb8d2aa2",
     "locked": true,
     "points": 1,
     "schema_version": 3,
     "solution": false,
     "task": false
    }
   },
   "outputs": [],
   "source": [
    "# Test 2: Check function returns the correct values. (1 mark)\n",
    "assert abs(sequence_to_fraction([1,1,1]) - 1.5) < 1e-12\n",
    "print(\"Problem 6 Test 2: Success!\")"
   ]
  },
  {
   "cell_type": "code",
   "execution_count": null,
   "id": "8190b061",
   "metadata": {
    "deletable": false,
    "editable": false,
    "nbgrader": {
     "cell_type": "code",
     "checksum": "a636d589f34839c5fada193b294b8775",
     "grade": true,
     "grade_id": "cell-3791ac9e593daa46",
     "locked": true,
     "points": 1,
     "schema_version": 3,
     "solution": false,
     "task": false
    }
   },
   "outputs": [],
   "source": [
    "# Test 3: Check function returns the correct values. (1 mark)\n",
    "assert abs(sequence_to_fraction([1,1,1,1,1,1,1,1,1,1,1]) - 1.6179775280898876) < 1e-12\n",
    "print(\"Problem 6 Test 3: Success!\")"
   ]
  },
  {
   "cell_type": "code",
   "execution_count": null,
   "id": "9453a22c",
   "metadata": {
    "deletable": false,
    "editable": false,
    "nbgrader": {
     "cell_type": "code",
     "checksum": "bef3fdc58615aefd2d5170bd47d10121",
     "grade": true,
     "grade_id": "cell-a7cdbfb491c94b6d",
     "locked": true,
     "points": 2,
     "schema_version": 3,
     "solution": false,
     "task": false
    },
    "tags": []
   },
   "outputs": [],
   "source": [
    "# Test 4: Check function returns the correct values. This cell contains hidden tests. (2 marks)"
   ]
  }
 ],
 "metadata": {
  "kernelspec": {
   "display_name": "Python 3 (ipykernel)",
   "language": "python",
   "name": "python3"
  },
  "language_info": {
   "codemirror_mode": {
    "name": "ipython",
    "version": 3
   },
   "file_extension": ".py",
   "mimetype": "text/x-python",
   "name": "python",
   "nbconvert_exporter": "python",
   "pygments_lexer": "ipython3",
   "version": "3.10.12"
  }
 },
 "nbformat": 4,
 "nbformat_minor": 5
}
