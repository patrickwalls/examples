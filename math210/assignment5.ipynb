{
 "cells": [
  {
   "cell_type": "markdown",
   "id": "d7266cb1-89a2-4f36-a5af-238b2392eb8a",
   "metadata": {
    "deletable": false,
    "editable": false,
    "nbgrader": {
     "cell_type": "markdown",
     "checksum": "9602c61fa424209b0c6ff5045217173c",
     "grade": false,
     "grade_id": "cell-dae8ad9e5bf971ae",
     "locked": true,
     "schema_version": 3,
     "solution": false,
     "task": false
    },
    "tags": []
   },
   "source": [
    "# MATH 210 Assignment 5\n",
    "\n",
    "## Instructions\n",
    "\n",
    "* Write your solutions in the cells with `YOUR CODE HERE`.\n",
    "* You may work with others but submit your own solutions.\n",
    "* Execute the test cells to verify that your solutions pass.\n",
    "* **This notebook contains hidden tests!** Your solution may not be completely correct even if it passes all tests below.\n",
    "* Submit this notebook to Canvas."
   ]
  },
  {
   "cell_type": "code",
   "execution_count": null,
   "id": "68f3f382-6f05-41a0-bc1f-dcecbd072419",
   "metadata": {
    "deletable": false,
    "editable": false,
    "nbgrader": {
     "cell_type": "code",
     "checksum": "bd4239892d54ae27a2ffcf2f15c9c4b9",
     "grade": false,
     "grade_id": "cell-e1cb7f9dc90ceb15",
     "locked": true,
     "schema_version": 3,
     "solution": false,
     "task": false
    },
    "tags": []
   },
   "outputs": [],
   "source": [
    "import numpy as np\n",
    "import matplotlib.pyplot as plt\n",
    "import scipy.linalg as la"
   ]
  },
  {
   "cell_type": "markdown",
   "id": "3d16b9b2-3605-4f41-bc41-e451a40c0b9a",
   "metadata": {
    "deletable": false,
    "editable": false,
    "nbgrader": {
     "cell_type": "markdown",
     "checksum": "6c8f99294dec234916a2517fcd26754d",
     "grade": false,
     "grade_id": "cell-1c0edd78bb4af935",
     "locked": true,
     "schema_version": 3,
     "solution": false,
     "task": false
    }
   },
   "source": [
    "## Problem 1 (5 marks)\n",
    "\n",
    "Write a function called `interpolation` which takes an input parameter `y` (a Python list or NumPy array of length $N$) and returns a NumPy array `c` of length `len(y)` consisting of the coefficients of the unique polynomial\n",
    "\n",
    "$$\n",
    "p(x) = c_0 + c_1x + c_2x^2 + \\cdots + c_dx^d\n",
    "$$\n",
    "\n",
    "such that $p(n)=y_n$ for each $n=0,\\dots,N-1$. Use the function `scipy.linalg.solve` to solve the corresponding linear system $A \\mathbf{c} = \\mathbf{y}$ arising form the interpolation equations. The function `numpy.vander` may be helpful."
   ]
  },
  {
   "cell_type": "code",
   "execution_count": null,
   "id": "1a60bb50-846a-446c-8506-5851014de807",
   "metadata": {
    "deletable": false,
    "nbgrader": {
     "cell_type": "code",
     "checksum": "c456b0eacf967a64c0ce5b953771493b",
     "grade": false,
     "grade_id": "cell-57b47ae3ebddbf11",
     "locked": false,
     "schema_version": 3,
     "solution": true,
     "task": false
    },
    "tags": []
   },
   "outputs": [],
   "source": [
    "# YOUR CODE HERE"
   ]
  },
  {
   "cell_type": "markdown",
   "id": "747f67bf-de04-4641-8c23-0750da73b4c3",
   "metadata": {
    "deletable": false,
    "editable": false,
    "nbgrader": {
     "cell_type": "markdown",
     "checksum": "e0a7f256eee6472a0eaba2ca00ed3961",
     "grade": false,
     "grade_id": "cell-929170f2d5957459",
     "locked": true,
     "schema_version": 3,
     "solution": false,
     "task": false
    },
    "tags": []
   },
   "source": [
    "Plot the data `y` and interpolant polynomial `p(x)` with coefficients `c`."
   ]
  },
  {
   "cell_type": "code",
   "execution_count": null,
   "id": "d3843645-5ebd-438a-a23b-5c30d138739f",
   "metadata": {
    "deletable": false,
    "editable": false,
    "nbgrader": {
     "cell_type": "code",
     "checksum": "53839f23b2a164c586c870a9bb22266b",
     "grade": false,
     "grade_id": "cell-3ab55d2daa957007",
     "locked": true,
     "schema_version": 3,
     "solution": false,
     "task": false
    },
    "tags": []
   },
   "outputs": [],
   "source": [
    "y = [0,1,0,-1,0,2]\n",
    "c = interpolation(y)\n",
    "x = np.linspace(-1,len(y),100)\n",
    "p = sum([c[n]*x**n for n in range(0,len(y))])\n",
    "plt.plot(x,p,'b-')\n",
    "plt.plot(range(len(y)),y,'r.',ms=10)\n",
    "plt.legend(['Data','Interpolant'])\n",
    "plt.show()"
   ]
  },
  {
   "cell_type": "code",
   "execution_count": null,
   "id": "215f8d1a-de60-4581-bc21-73395c250268",
   "metadata": {
    "deletable": false,
    "editable": false,
    "nbgrader": {
     "cell_type": "code",
     "checksum": "ab7c6807b1d2994f204995d3c4cd665c",
     "grade": true,
     "grade_id": "cell-a980d0174230c638",
     "locked": true,
     "points": 1,
     "schema_version": 3,
     "solution": false,
     "task": false
    },
    "tags": []
   },
   "outputs": [],
   "source": [
    "# Test 1: Verify interpolation returns the correct datatype. (1 mark)\n",
    "assert isinstance(interpolation([0,1,0,1]),np.ndarray)\n",
    "print(\"Test 1: Success!\")"
   ]
  },
  {
   "cell_type": "code",
   "execution_count": null,
   "id": "1b9efea1-2660-4499-87ca-bd0bdf7343c6",
   "metadata": {
    "deletable": false,
    "editable": false,
    "nbgrader": {
     "cell_type": "code",
     "checksum": "af2f458867f4ec9b49dfe6e460b06cb4",
     "grade": true,
     "grade_id": "cell-6cdc930afa984eca",
     "locked": true,
     "points": 1,
     "schema_version": 3,
     "solution": false,
     "task": false
    },
    "tags": []
   },
   "outputs": [],
   "source": [
    "# Test 2: Verify interpolation returns an array of the correct size. (1 mark)\n",
    "assert interpolation([0,1,0,1]).size == 4\n",
    "print(\"Test 2: Success!\")"
   ]
  },
  {
   "cell_type": "code",
   "execution_count": null,
   "id": "bc7e5684-46a5-4f43-bd20-c1a32379f8fe",
   "metadata": {
    "deletable": false,
    "editable": false,
    "nbgrader": {
     "cell_type": "code",
     "checksum": "31d994e1818bc7404efbc51af9dd59f1",
     "grade": true,
     "grade_id": "cell-ee6e6e3e2b53e50a",
     "locked": true,
     "points": 1,
     "schema_version": 3,
     "solution": false,
     "task": false
    },
    "tags": []
   },
   "outputs": [],
   "source": [
    "# Test 3: Verify interpolation returns the correct values. (1 mark)\n",
    "assert np.allclose(interpolation([1,0,1]),[1,-2,1])\n",
    "print(\"Test 3: Success!\")"
   ]
  },
  {
   "cell_type": "code",
   "execution_count": null,
   "id": "9de4ad88-d034-4a18-9bce-e2505b713afa",
   "metadata": {
    "deletable": false,
    "editable": false,
    "nbgrader": {
     "cell_type": "code",
     "checksum": "cab600e96b704c71c8c7f2b4afa8b368",
     "grade": true,
     "grade_id": "cell-30912f64bc486dd9",
     "locked": true,
     "points": 2,
     "schema_version": 3,
     "solution": false,
     "task": false
    },
    "tags": []
   },
   "outputs": [],
   "source": [
    "# Test 4: Verify interpolation returns the correct values. This cell contains hidden tests. (2 marks)"
   ]
  },
  {
   "cell_type": "markdown",
   "id": "e837b88c-1773-4513-9c39-5d2781e8691f",
   "metadata": {
    "deletable": false,
    "editable": false,
    "nbgrader": {
     "cell_type": "markdown",
     "checksum": "4e8c2ea542d9cb96372490bdb4a6fb6b",
     "grade": false,
     "grade_id": "cell-14a1cc83bfc935ee",
     "locked": true,
     "schema_version": 3,
     "solution": false,
     "task": false
    },
    "tags": []
   },
   "source": [
    "## Problem 2 (4 marks)\n",
    "\n",
    "Compute coefficients $c_0,c_1,c_2$ such that the model $f(x) = c_0e^{-x} + c_1 e^{-2x} + c_2 e^{-3x}$ best fits the data `x` and `y`. Save the coefficients as a 1-dimensional NumPy array `c`."
   ]
  },
  {
   "cell_type": "code",
   "execution_count": null,
   "id": "18d44193-6947-42bd-8d31-50b814f610d0",
   "metadata": {
    "deletable": false,
    "editable": false,
    "nbgrader": {
     "cell_type": "code",
     "checksum": "0756059612aedfc286a30da392a371a2",
     "grade": false,
     "grade_id": "cell-af4eefc5f6409918",
     "locked": true,
     "schema_version": 3,
     "solution": false,
     "task": false
    },
    "tags": []
   },
   "outputs": [],
   "source": [
    "data = np.loadtxt('data.csv',delimiter=',')\n",
    "x = data[:,0]\n",
    "y = data[:,1]\n",
    "plt.scatter(x,y)\n",
    "plt.show()"
   ]
  },
  {
   "cell_type": "code",
   "execution_count": null,
   "id": "3056bf98-b7fa-406f-a1ed-75f361f4cb12",
   "metadata": {
    "deletable": false,
    "nbgrader": {
     "cell_type": "code",
     "checksum": "72bdc321671e974947b7bef3bb683e73",
     "grade": false,
     "grade_id": "cell-a07b90f45a4ab09c",
     "locked": false,
     "schema_version": 3,
     "solution": true,
     "task": false
    },
    "tags": []
   },
   "outputs": [],
   "source": [
    "# YOUR CODE HERE"
   ]
  },
  {
   "cell_type": "code",
   "execution_count": null,
   "id": "0f19d552-4ac1-4602-a0b7-0ed7b155c497",
   "metadata": {
    "deletable": false,
    "editable": false,
    "nbgrader": {
     "cell_type": "code",
     "checksum": "ddc8b64cd8c223a2268e0370ebe63d5a",
     "grade": true,
     "grade_id": "cell-f8f6aeba5f1d05c2",
     "locked": true,
     "points": 1,
     "schema_version": 3,
     "solution": false,
     "task": false
    },
    "tags": []
   },
   "outputs": [],
   "source": [
    "# Test 1: Verify c is a NumPy array. (1 mark)\n",
    "assert isinstance(c,np.ndarray)\n",
    "print(\"Test 1: Success!\")"
   ]
  },
  {
   "cell_type": "code",
   "execution_count": null,
   "id": "e38178dd-a454-4668-898d-8654c57833f7",
   "metadata": {
    "deletable": false,
    "editable": false,
    "nbgrader": {
     "cell_type": "code",
     "checksum": "d1d666d60f0cd5109d71ebdb4bb59819",
     "grade": true,
     "grade_id": "cell-1cac79ee8b086494",
     "locked": true,
     "points": 1,
     "schema_version": 3,
     "solution": false,
     "task": false
    },
    "tags": []
   },
   "outputs": [],
   "source": [
    "# Test 2: Verify c is length 3. (1 mark)\n",
    "assert len(c) == 3\n",
    "print(\"Test 2: Success!\")"
   ]
  },
  {
   "cell_type": "code",
   "execution_count": null,
   "id": "2e5e03bb-2987-4cfe-a5d2-fbf029434fb3",
   "metadata": {
    "deletable": false,
    "editable": false,
    "nbgrader": {
     "cell_type": "code",
     "checksum": "c4afa8923a597550317a8ceef2088084",
     "grade": true,
     "grade_id": "cell-3118e2498df480a5",
     "locked": true,
     "points": 2,
     "schema_version": 3,
     "solution": false,
     "task": false
    },
    "tags": []
   },
   "outputs": [],
   "source": [
    "# Test 3: Verify values of c. This cell contains hidden tests. (2 marks)"
   ]
  },
  {
   "cell_type": "markdown",
   "id": "bad4b8a6-c084-4fc5-87f1-b0ea8c647a2f",
   "metadata": {
    "deletable": false,
    "editable": false,
    "nbgrader": {
     "cell_type": "markdown",
     "checksum": "452dae23133b1056226cee9d0a877c29",
     "grade": false,
     "grade_id": "cell-61fa6dd540904525",
     "locked": true,
     "schema_version": 3,
     "solution": false,
     "task": false
    },
    "tags": []
   },
   "source": [
    "Plot the model with the data:"
   ]
  },
  {
   "cell_type": "code",
   "execution_count": null,
   "id": "6d697c2c-accf-474d-add8-38237f25af35",
   "metadata": {
    "deletable": false,
    "editable": false,
    "nbgrader": {
     "cell_type": "code",
     "checksum": "488f7d129aa3ff23458b58c94af766af",
     "grade": false,
     "grade_id": "cell-874b032cc756b335",
     "locked": true,
     "schema_version": 3,
     "solution": false,
     "task": false
    },
    "tags": []
   },
   "outputs": [],
   "source": [
    "X = np.linspace(0,5,200)\n",
    "Y = c[0]*np.exp(-X) + c[1]*np.exp(-2*X) + c[2]*np.exp(-3*X)\n",
    "plt.scatter(x,y)\n",
    "plt.plot(X,Y,'r')\n",
    "plt.show()"
   ]
  },
  {
   "cell_type": "markdown",
   "id": "f0196172-67a0-468e-99f9-16d1b2240772",
   "metadata": {
    "deletable": false,
    "editable": false,
    "nbgrader": {
     "cell_type": "markdown",
     "checksum": "fe05dd41973a6983ae3c356793f93fdb",
     "grade": false,
     "grade_id": "cell-8132f8263a0cb1a2",
     "locked": true,
     "schema_version": 3,
     "solution": false,
     "task": false
    },
    "tags": []
   },
   "source": [
    "## Problem 3 (6 marks)\n",
    "\n",
    "Write a function called `cval` which takes a 2D NumPy array $A$ representing a square matrix and returns the value\n",
    "\n",
    "$$\n",
    "c = \\sqrt{\\frac{\\lambda_{\\max}}{\\lambda_{\\min}}}\n",
    "$$\n",
    "\n",
    "where $\\lambda_{\\max}$ and $\\lambda_{\\min}$ are the maximum and minimum eigevalues of $A^TA$. Note that the eigenvalues of $A^TA$ are real and non-negative. If $\\lambda_{\\min} < 10^{-14}$ (ie. $\\lambda_{\\min} = 0$), then return `np.inf`. If the matrix $A$ is not square, print the statement `\"Matrix is not square\"` and return `None`."
   ]
  },
  {
   "cell_type": "code",
   "execution_count": null,
   "id": "e0bb7734-4d42-4a78-ab5c-ce0eadb5e7e7",
   "metadata": {
    "deletable": false,
    "nbgrader": {
     "cell_type": "code",
     "checksum": "08c2ea7a53d135704eb97ea905896600",
     "grade": false,
     "grade_id": "cell-e22d457ffa6f0c69",
     "locked": false,
     "schema_version": 3,
     "solution": true,
     "task": false
    },
    "tags": []
   },
   "outputs": [],
   "source": [
    "# YOUR CODE HERE"
   ]
  },
  {
   "cell_type": "code",
   "execution_count": null,
   "id": "a7fa4289-699e-4cd9-9afa-ab802bdb66aa",
   "metadata": {
    "deletable": false,
    "editable": false,
    "nbgrader": {
     "cell_type": "code",
     "checksum": "85f4fc5d195aec81b8d0ff0e410f2e9c",
     "grade": true,
     "grade_id": "cell-b6c7cd70a6119b41",
     "locked": true,
     "points": 1,
     "schema_version": 3,
     "solution": false,
     "task": false
    },
    "tags": []
   },
   "outputs": [],
   "source": [
    "# Test 1: Check cval returns the correct datatype for square matrix. (1 mark)\n",
    "A = np.random.rand(5,5)\n",
    "assert isinstance(cval(A),np.float64) , \"Return value should be a NumPy float.\"\n",
    "print(\"Test 1: Success!\")"
   ]
  },
  {
   "cell_type": "code",
   "execution_count": null,
   "id": "35bb3d53-58ee-48dc-8393-8c769cf68be3",
   "metadata": {
    "deletable": false,
    "editable": false,
    "nbgrader": {
     "cell_type": "code",
     "checksum": "4a2121210e4a60c3ffee2d827666808f",
     "grade": true,
     "grade_id": "cell-8326dc57081aca35",
     "locked": true,
     "points": 1,
     "schema_version": 3,
     "solution": false,
     "task": false
    },
    "tags": []
   },
   "outputs": [],
   "source": [
    "# Test 2: Check cval returns None for non-square matrix. (1 mark)\n",
    "A = np.random.rand(3,5)\n",
    "assert cval(A) == None , \"Return value should be None when A is not square.\"\n",
    "print(\"Test 2: Success!\")"
   ]
  },
  {
   "cell_type": "code",
   "execution_count": null,
   "id": "ffa2cd5f-aa5c-46b9-938b-1e90e25eebc3",
   "metadata": {
    "deletable": false,
    "editable": false,
    "nbgrader": {
     "cell_type": "code",
     "checksum": "9d5661d090a43d28c778597c6b589626",
     "grade": true,
     "grade_id": "cell-9691aa2334d83e30",
     "locked": true,
     "points": 1,
     "schema_version": 3,
     "solution": false,
     "task": false
    },
    "tags": []
   },
   "outputs": [],
   "source": [
    "# Test 3: Check cval returns inf when \\lambda_{min} == 0. (1 mark)\n",
    "A1 = np.ones((4,4))\n",
    "assert cval(A1) == np.inf , \"Return value should be inf when det(A) = 0.\"\n",
    "print(\"Test 3: Success!\")"
   ]
  },
  {
   "cell_type": "code",
   "execution_count": null,
   "id": "edbad1c1-3144-4c19-91b7-2c02f4132b5d",
   "metadata": {
    "deletable": false,
    "editable": false,
    "nbgrader": {
     "cell_type": "code",
     "checksum": "8b793c83f479c772b6e81a17d5e47614",
     "grade": true,
     "grade_id": "cell-df4f47b8d884d282",
     "locked": true,
     "points": 1,
     "schema_version": 3,
     "solution": false,
     "task": false
    },
    "tags": []
   },
   "outputs": [],
   "source": [
    "# Test 4: Check cval returns correct values. (1 mark)\n",
    "epsilon = 1e-8\n",
    "A1 = np.eye(5)\n",
    "assert np.abs(cval(A1) - 1.0) < epsilon , \"Return value should be 1.0 for the identity matrix.\"\n",
    "A2 = np.diag(np.arange(1,9))\n",
    "assert np.abs(cval(A2) - 8.0) < epsilon , \"Return value should be 8.0 for the diagonal matrix with entries [1,2,3,4,5,6,7,8].\"\n",
    "print(\"Test 4: Success!\")"
   ]
  },
  {
   "cell_type": "code",
   "execution_count": null,
   "id": "22c6a864-1e92-4e24-878e-f7d542fb2845",
   "metadata": {
    "deletable": false,
    "editable": false,
    "nbgrader": {
     "cell_type": "code",
     "checksum": "3cfb2d6adfde23aca3ccd07edab1ec7f",
     "grade": true,
     "grade_id": "cell-a0cc7d4f9394cc8a",
     "locked": true,
     "points": 2,
     "schema_version": 3,
     "solution": false,
     "task": false
    },
    "tags": []
   },
   "outputs": [],
   "source": [
    "# Test 5: Check cval returns correct values. This cell contains hidden tests. (2 marks)"
   ]
  }
 ],
 "metadata": {
  "kernelspec": {
   "display_name": "Python 3 (ipykernel)",
   "language": "python",
   "name": "python3"
  },
  "language_info": {
   "codemirror_mode": {
    "name": "ipython",
    "version": 3
   },
   "file_extension": ".py",
   "mimetype": "text/x-python",
   "name": "python",
   "nbconvert_exporter": "python",
   "pygments_lexer": "ipython3",
   "version": "3.11.3"
  }
 },
 "nbformat": 4,
 "nbformat_minor": 5
}
