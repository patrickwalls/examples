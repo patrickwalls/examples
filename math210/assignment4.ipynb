{
 "cells": [
  {
   "cell_type": "markdown",
   "id": "b4fba5cf",
   "metadata": {
    "deletable": false,
    "editable": false,
    "nbgrader": {
     "cell_type": "markdown",
     "checksum": "455997cd7fd7c5fbedd49fa1e2ca5ac5",
     "grade": false,
     "grade_id": "cell-53471ec755c61cf5",
     "locked": true,
     "schema_version": 3,
     "solution": false,
     "task": false
    }
   },
   "source": [
    "# MATH 210 Assignment 4\n",
    "\n",
    "### Instructions\n",
    "\n",
    "* Write your solutions in the cells with `YOUR CODE HERE`.\n",
    "* You may work with others but submit your own solutions.\n",
    "* Execute the test cells to verify that your solutions pass.\n",
    "* **This notebook contains hidden tests!** Your solution may not be completely correct even if it passes all tests below.\n",
    "* Do **not** import any Python packages (other than the packages in the cell below).\n",
    "* Submit this notebook to Canvas."
   ]
  },
  {
   "cell_type": "code",
   "execution_count": null,
   "id": "025d0f62",
   "metadata": {
    "deletable": false,
    "editable": false,
    "nbgrader": {
     "cell_type": "code",
     "checksum": "7cac03a2f1f5033bbce601ce154c75fb",
     "grade": false,
     "grade_id": "cell-39ac4495f587cc47",
     "locked": true,
     "schema_version": 3,
     "solution": false,
     "task": false
    },
    "tags": []
   },
   "outputs": [],
   "source": [
    "import numpy as np\n",
    "import matplotlib.pyplot as plt\n",
    "import scipy.integrate as spi\n",
    "import scipy.linalg as la"
   ]
  },
  {
   "cell_type": "markdown",
   "id": "e8cd1e7a-4d66-404a-b65a-70adc1f74595",
   "metadata": {
    "deletable": false,
    "editable": false,
    "nbgrader": {
     "cell_type": "markdown",
     "checksum": "8cdf53500d3d8764a8c2dbc5017515f0",
     "grade": false,
     "grade_id": "cell-e8e855c0c0522258",
     "locked": true,
     "schema_version": 3,
     "solution": false,
     "task": false
    },
    "tags": []
   },
   "source": [
    "## Problem 1 (5 marks)\n",
    "\n",
    "Write a function called `diffyq` which takes input parameters `y0`, `tf` and `N` and implements Euler's method with step size $h = \\frac{t_f}{N}$ to approximate the solution of the equation\n",
    "\n",
    "$$\n",
    "y' = t \\cos(y) + \\sin(ty) \\ , \\ y(0) = y_0\n",
    "$$\n",
    "\n",
    "over the interval $[0,t_f]$. The function returns a 2D NumPy array of size $N+1$ by 2 where the column at index 0 is the array of $t$ values from 0 to $t_f$, and the column at index 1 is the array of corresponding $y$ values given by Euler's method. The function [`numpy.column_stack`](https://numpy.org/doc/stable/reference/generated/numpy.column_stack.html) may be helpful.\n",
    "\n",
    "For example, the following code creates the figure below:\n",
    "\n",
    "```\n",
    "U = diffyq(1,10,1000)\n",
    "plt.plot(U[:,0],U[:,1])\n",
    "plt.show()\n",
    "```\n",
    "\n",
    "<img src=\"http://www.math.ubc.ca/~pwalls/data/a3prob6.png\" style=\"width: 500px\">"
   ]
  },
  {
   "cell_type": "code",
   "execution_count": null,
   "id": "8ed32788-b3a4-4a28-9d8a-24cdac59c136",
   "metadata": {
    "deletable": false,
    "nbgrader": {
     "cell_type": "code",
     "checksum": "f8de1d9ca5d61a20074744181a4e7870",
     "grade": false,
     "grade_id": "cell-c6e8176ede447d75",
     "locked": false,
     "schema_version": 3,
     "solution": true,
     "task": false
    },
    "tags": []
   },
   "outputs": [],
   "source": [
    "# YOUR CODE HERE"
   ]
  },
  {
   "cell_type": "code",
   "execution_count": null,
   "id": "fb79b7d3-1122-43b5-bd96-7c92c82e3cc9",
   "metadata": {
    "deletable": false,
    "editable": false,
    "nbgrader": {
     "cell_type": "code",
     "checksum": "18fa8d0e30da2b67140ccb3ffdc6158e",
     "grade": true,
     "grade_id": "cell-b342e595ae4d6cff",
     "locked": true,
     "points": 1,
     "schema_version": 3,
     "solution": false,
     "task": false
    },
    "tags": []
   },
   "outputs": [],
   "source": [
    "\"Verify diffyq returns a NumPy array. (1 mark)\"\n",
    "assert isinstance(diffyq(1,5,5),np.ndarray), \"Return type should be a NumPy array.\"\n",
    "print(\"Test 1: Success!\")"
   ]
  },
  {
   "cell_type": "code",
   "execution_count": null,
   "id": "ae0e737e-45af-44ca-af87-892c95ab01e6",
   "metadata": {
    "deletable": false,
    "editable": false,
    "nbgrader": {
     "cell_type": "code",
     "checksum": "657e850be9b2a3dffb6a2de521d14b06",
     "grade": true,
     "grade_id": "cell-b61d39c49a18d764",
     "locked": true,
     "points": 1,
     "schema_version": 3,
     "solution": false,
     "task": false
    },
    "tags": []
   },
   "outputs": [],
   "source": [
    "\"Verify diffyq returns an array of correct size. (1 mark)\"\n",
    "N = 20\n",
    "assert np.allclose(diffyq(-1,20,N).shape,(N+1,2)) , \"Return type should be a NumPy array of size N+1 by 2.\"\n",
    "print(\"Test 2: Success!\")"
   ]
  },
  {
   "cell_type": "code",
   "execution_count": null,
   "id": "4df8278e-ffc3-4972-a4c2-b6e77e582171",
   "metadata": {
    "deletable": false,
    "editable": false,
    "nbgrader": {
     "cell_type": "code",
     "checksum": "c9b5062b61c93b2c3fb0d42682242b10",
     "grade": true,
     "grade_id": "cell-1ad1e95730af0326",
     "locked": true,
     "points": 1,
     "schema_version": 3,
     "solution": false,
     "task": false
    },
    "tags": []
   },
   "outputs": [],
   "source": [
    "\"Verify diffyq returns t values. (1 mark)\"\n",
    "result = diffyq(3,0.5,10)\n",
    "assert np.allclose(result[:5,0],[0.,0.05,0.1,0.15,0.2])\n",
    "print(\"Test 3: Success!\")"
   ]
  },
  {
   "cell_type": "code",
   "execution_count": null,
   "id": "ebbb8e30-afc1-4cb5-a598-6bde138d6c24",
   "metadata": {
    "deletable": false,
    "editable": false,
    "nbgrader": {
     "cell_type": "code",
     "checksum": "10bacfe4373e6d23917b19a066a6f2f4",
     "grade": true,
     "grade_id": "cell-8b515b5a7b42320b",
     "locked": true,
     "points": 2,
     "schema_version": 3,
     "solution": false,
     "task": false
    },
    "tags": []
   },
   "outputs": [],
   "source": [
    "\"Verify diffyq returns correct y values. This cell contains hidden tests. (2 marks)\"\n",
    "y1 = np.array([0,0])\n",
    "result1 = diffyq(0,5,1)\n",
    "assert np.allclose(result1[:,1],y1)\n",
    "y2 = [-1.,-1.,-1.00714212,-1.02158761,-1.04384243,-1.07472931,-1.1153344]\n",
    "result2 = diffyq(-1,3,24)\n",
    "assert np.allclose(result2[:7,1],y2)\n",
    "print(\"Test 4: Success!\")"
   ]
  },
  {
   "cell_type": "markdown",
   "id": "c1932b16",
   "metadata": {
    "deletable": false,
    "editable": false,
    "nbgrader": {
     "cell_type": "markdown",
     "checksum": "66092d2ccc8bccd04562677778020113",
     "grade": false,
     "grade_id": "cell-1bb6c64b8c6eb75a",
     "locked": true,
     "schema_version": 3,
     "solution": false,
     "task": false
    }
   },
   "source": [
    "## Problem 2 (3 marks)\n",
    "\n",
    "Use `scipy.integrate.odeint` to approximate the solution of the equation\n",
    "\n",
    "$$\n",
    "y' = t \\cos(y) + \\sin(ty) \\ , \\ y(0) = 1\n",
    "$$\n",
    "\n",
    "over the interval $[0,10]$. Save the approximation of $y(10)$ as `y10`."
   ]
  },
  {
   "cell_type": "code",
   "execution_count": null,
   "id": "515a43df",
   "metadata": {
    "deletable": false,
    "nbgrader": {
     "cell_type": "code",
     "checksum": "b74a2bd2f08d960106e271f2b820b161",
     "grade": false,
     "grade_id": "cell-5cb7f89a49285ba9",
     "locked": false,
     "schema_version": 3,
     "solution": true,
     "task": false
    },
    "tags": []
   },
   "outputs": [],
   "source": [
    "# YOUR CODE HERE"
   ]
  },
  {
   "cell_type": "code",
   "execution_count": null,
   "id": "9416af03",
   "metadata": {
    "deletable": false,
    "editable": false,
    "nbgrader": {
     "cell_type": "code",
     "checksum": "aa930d0a7f0a0125b2106071fe3943b6",
     "grade": true,
     "grade_id": "cell-f41ae2ba054a1646",
     "locked": true,
     "points": 1,
     "schema_version": 3,
     "solution": false,
     "task": false
    },
    "tags": []
   },
   "outputs": [],
   "source": [
    "\"Verify y10 is positive number. (1 mark)\"\n",
    "assert y10 > 0\n",
    "print(\"Test 1: Success!\")"
   ]
  },
  {
   "cell_type": "code",
   "execution_count": null,
   "id": "7c241de2",
   "metadata": {
    "deletable": false,
    "editable": false,
    "nbgrader": {
     "cell_type": "code",
     "checksum": "1a2dd99ade12332f108521c110903f93",
     "grade": true,
     "grade_id": "cell-6feb48d2be644f34",
     "locked": true,
     "points": 2,
     "schema_version": 3,
     "solution": false,
     "task": false
    },
    "tags": []
   },
   "outputs": [],
   "source": [
    "\"Verify the value of y10. This cell contains hidden tests. (2 marks)\"\n",
    "assert np.abs(y10 - 1.57) < 0.01\n",
    "print(\"Test 2: Success!\")"
   ]
  },
  {
   "cell_type": "markdown",
   "id": "f6b85bfa",
   "metadata": {
    "deletable": false,
    "editable": false,
    "nbgrader": {
     "cell_type": "markdown",
     "checksum": "9c99e7ec364179c236d1394642fd033d",
     "grade": false,
     "grade_id": "cell-8012824549dbc689",
     "locked": true,
     "schema_version": 3,
     "solution": false,
     "task": false
    }
   },
   "source": [
    "##  Problem 3 (5 marks)\n",
    "\n",
    "Write a function called `odeSystem` which takes input parameters `p`, `q`, `r`, `u0` and `t` where\n",
    "\n",
    "* `p`, `q` and `r` are numbers\n",
    "* `u0` is a Python list defining the initial values $[x(t_0),x'(t_0),y(t_0),y'(t_0)]$\n",
    "* `t` is a 1D NumPy array of $t$ values over an interval $[t_0,t_f]$.\n",
    "\n",
    "The function uses `scipy.integrate.odeint` to numerically solve the system of equations:\n",
    "\n",
    "\\begin{align*}\n",
    "x'' - q^2 \\sin(r) y' + p^2 x &= 0 \\\\\n",
    "y'' + q^2 \\sin(r) x' + p^2 y &= 0\n",
    "\\end{align*}\n",
    "\n",
    "The function returns a 2D NumPy array of size `len(t)` by 3 where the column at index 0 is the array of $t$ values, the column at index 1 is the corresponding array of $x$ values and the column at index 2 is the corresponding array of $y$ values."
   ]
  },
  {
   "cell_type": "code",
   "execution_count": null,
   "id": "2df9771f",
   "metadata": {
    "deletable": false,
    "nbgrader": {
     "cell_type": "code",
     "checksum": "792270c715558ac193f6be8717500f7a",
     "grade": false,
     "grade_id": "cell-fc1a541f493bbd45",
     "locked": false,
     "schema_version": 3,
     "solution": true,
     "task": false
    },
    "tags": []
   },
   "outputs": [],
   "source": [
    "# YOUR CODE HERE"
   ]
  },
  {
   "cell_type": "markdown",
   "id": "639251f8",
   "metadata": {
    "deletable": false,
    "editable": false,
    "nbgrader": {
     "cell_type": "markdown",
     "checksum": "024bfff6ca8ace03c7981b9cf553bc07",
     "grade": false,
     "grade_id": "cell-e84a780604444961",
     "locked": true,
     "schema_version": 3,
     "solution": false,
     "task": false
    }
   },
   "source": [
    "For example, the code in the cell below generates the following figure:\n",
    "\n",
    "<img src=\"http://www.math.ubc.ca/~pwalls/data/a4prob2.png\" style=\"width: 500px\">"
   ]
  },
  {
   "cell_type": "code",
   "execution_count": null,
   "id": "cb6ae3ee",
   "metadata": {
    "deletable": false,
    "editable": false,
    "nbgrader": {
     "cell_type": "code",
     "checksum": "1a7e884c44a30329d008c92f5624a9ce",
     "grade": false,
     "grade_id": "cell-2afbf61b9557a6af",
     "locked": true,
     "schema_version": 3,
     "solution": false,
     "task": false
    },
    "tags": []
   },
   "outputs": [],
   "source": [
    "result = odeSystem(5,1,np.pi/2,[1,-1,1,2],np.linspace(0,20,1000))\n",
    "x = result[:,1]\n",
    "y = result[:,2]\n",
    "plt.plot(x,y)\n",
    "plt.axis('equal')\n",
    "plt.show()"
   ]
  },
  {
   "cell_type": "code",
   "execution_count": null,
   "id": "b6ac6891",
   "metadata": {
    "deletable": false,
    "editable": false,
    "nbgrader": {
     "cell_type": "code",
     "checksum": "069e8b62a016cf09f9a536f1132ec7b1",
     "grade": true,
     "grade_id": "cell-a8d81d8eceabf822",
     "locked": true,
     "points": 1,
     "schema_version": 3,
     "solution": false,
     "task": false
    },
    "tags": []
   },
   "outputs": [],
   "source": [
    "\"Verify odeSystem returns a NumPy array. (1 mark)\"\n",
    "assert isinstance(odeSystem(1,1,0,[0,0,0,0],np.linspace(0,1,10)),np.ndarray)\n",
    "print(\"Test 1: Success!\")"
   ]
  },
  {
   "cell_type": "code",
   "execution_count": null,
   "id": "f31873d4",
   "metadata": {
    "deletable": false,
    "editable": false,
    "nbgrader": {
     "cell_type": "code",
     "checksum": "ee50e9881d69626b47d639f9fbd1b771",
     "grade": true,
     "grade_id": "cell-2a462784cf10aee6",
     "locked": true,
     "points": 1,
     "schema_version": 3,
     "solution": false,
     "task": false
    },
    "tags": []
   },
   "outputs": [],
   "source": [
    "\"Verify odeSystem returns an array of the correct size. (1 mark)\"\n",
    "assert np.allclose(odeSystem(3,3,np.pi/6,[1,0,1,0],np.linspace(0,5,20)).shape, [20,3])\n",
    "assert np.allclose(odeSystem(2,1,np.pi/2,[1,-1,1,2],np.linspace(0,5,30)).shape, [30,3])\n",
    "print(\"Test 2: Success!\")"
   ]
  },
  {
   "cell_type": "code",
   "execution_count": null,
   "id": "f1b2989b",
   "metadata": {
    "deletable": false,
    "editable": false,
    "nbgrader": {
     "cell_type": "code",
     "checksum": "313719cb78a7c5026250a479b1520ba4",
     "grade": true,
     "grade_id": "cell-b6241cbf11011c30",
     "locked": true,
     "points": 1,
     "schema_version": 3,
     "solution": false,
     "task": false
    },
    "tags": []
   },
   "outputs": [],
   "source": [
    "\"Verify odeSystem returns the correct values. (1 mark)\"\n",
    "solution = odeSystem(2,1,np.pi/2,[1,-1,1,2],np.linspace(0,10,200))\n",
    "M = np.array([[0.        , 1.        , 1.        ],\n",
    "              [0.05025126, 0.94724525, 1.09659084],\n",
    "              [0.10050251, 0.88957504, 1.18488732],\n",
    "              [0.15075377, 0.82713834, 1.26424152],\n",
    "              [0.20100503, 0.76010173, 1.33408774]])\n",
    "assert np.allclose(solution[:5,:],M)\n",
    "print(\"Test 3: Success!\")"
   ]
  },
  {
   "cell_type": "code",
   "execution_count": null,
   "id": "2e453364-8900-4ccf-80c0-5b3ab5be890a",
   "metadata": {
    "deletable": false,
    "editable": false,
    "nbgrader": {
     "cell_type": "code",
     "checksum": "bfbda288208fc28f987ff784cf2422fe",
     "grade": true,
     "grade_id": "cell-8f33779b9c90bc57",
     "locked": true,
     "points": 2,
     "schema_version": 3,
     "solution": false,
     "task": false
    },
    "tags": []
   },
   "outputs": [],
   "source": [
    "\"Verify odeSystem returns the correct values. This cell contains hidden tests. (2 marks)\""
   ]
  },
  {
   "cell_type": "markdown",
   "id": "43867c24",
   "metadata": {
    "deletable": false,
    "editable": false,
    "nbgrader": {
     "cell_type": "markdown",
     "checksum": "4e9c094a82eff917932d360d1a218d22",
     "grade": false,
     "grade_id": "cell-1e9ae7657564eedd",
     "locked": true,
     "schema_version": 3,
     "solution": false,
     "task": false
    }
   },
   "source": [
    "## Problem 4 (5 marks)\n",
    "\n",
    "Write a function called `odeRK4` which takes input parameters `f`, `t` and `y0` where:\n",
    "\n",
    "* `f` is a function representing the right side of a differential equation $y' = f(t,y)$\n",
    "* `t` is a NumPy array of $t$ values\n",
    "* `y0` is the initial condition $y(t_0) = y_0$\n",
    "\n",
    "The function `odeRK4` returns a NumPy array of $y$ values given by the numerical method\n",
    "\n",
    "\\begin{align*}\n",
    "h &= t_{n+1} - t_n \\\\\n",
    "k_1 &= f(t_n,y_n) \\\\\n",
    "k_2 &= f(t_n + h/2,y_n + k_1 h/2) \\\\\n",
    "k_3 &= f(t_n + h/2,y_n + k_2 h/2) \\\\\n",
    "k_4 &= f(t_n + h,y_n + k_3h) \\\\\n",
    "y_{n+1} &= y_n + (k_1/6 + k_2/3 + k_3/3 + k_4/6)h\n",
    "\\end{align*}"
   ]
  },
  {
   "cell_type": "code",
   "execution_count": null,
   "id": "31486299",
   "metadata": {
    "deletable": false,
    "nbgrader": {
     "cell_type": "code",
     "checksum": "d1e994c74641f51043ab97cdfba8f32c",
     "grade": false,
     "grade_id": "cell-ad1da9ccf4abf178",
     "locked": false,
     "schema_version": 3,
     "solution": true,
     "task": false
    },
    "tags": []
   },
   "outputs": [],
   "source": [
    "# YOUR CODE HERE"
   ]
  },
  {
   "cell_type": "markdown",
   "id": "ae49d6a6",
   "metadata": {
    "deletable": false,
    "editable": false,
    "nbgrader": {
     "cell_type": "markdown",
     "checksum": "56ca3ace8bf42948897f980e5f9fbea5",
     "grade": false,
     "grade_id": "cell-3c7aec445849f012",
     "locked": true,
     "schema_version": 3,
     "solution": false,
     "task": false
    }
   },
   "source": [
    "The function odeRK4 should give a good approximation of the solution of any first order system such as $y'=y\\cos(t)$, $y(0)=1$."
   ]
  },
  {
   "cell_type": "code",
   "execution_count": null,
   "id": "6d1d284f",
   "metadata": {
    "deletable": false,
    "editable": false,
    "nbgrader": {
     "cell_type": "code",
     "checksum": "ce1535039132de81af855ca44a079ef1",
     "grade": false,
     "grade_id": "cell-594aa69a8d3b4997",
     "locked": true,
     "schema_version": 3,
     "solution": false,
     "task": false
    },
    "tags": []
   },
   "outputs": [],
   "source": [
    "t = np.linspace(0,5*np.pi,50)\n",
    "f = lambda t,y: y*np.cos(t)\n",
    "y0 = 1\n",
    "y = odeRK4(f,t,y0)\n",
    "t_exact = np.linspace(0,5*np.pi,200)\n",
    "y_exact = np.exp(np.sin(t_exact))\n",
    "plt.plot(t,y,'r.',t_exact,y_exact,'b'), plt.legend(['RK4','Exact'])\n",
    "plt.show()"
   ]
  },
  {
   "cell_type": "code",
   "execution_count": null,
   "id": "08d6a2e3",
   "metadata": {
    "deletable": false,
    "editable": false,
    "nbgrader": {
     "cell_type": "code",
     "checksum": "89238f5f708decfaaaaa64bd40ae7e84",
     "grade": true,
     "grade_id": "cell-437884657124f998",
     "locked": true,
     "points": 1,
     "schema_version": 3,
     "solution": false,
     "task": false
    },
    "tags": []
   },
   "outputs": [],
   "source": [
    "\"Check odeRK4 returns correct type. (1 mark)\"\n",
    "f = lambda t,y: -y\n",
    "t = np.linspace(0,1,10)\n",
    "y0 = 1\n",
    "assert isinstance(odeRK4(f,t,y0),np.ndarray) , \"Return value should be a NumPy array.\"\n",
    "print(\"Test 1: Success!\")"
   ]
  },
  {
   "cell_type": "code",
   "execution_count": null,
   "id": "3705be68",
   "metadata": {
    "deletable": false,
    "editable": false,
    "nbgrader": {
     "cell_type": "code",
     "checksum": "2d2e03fe33ae9cbb46d7db294aaf9237",
     "grade": true,
     "grade_id": "cell-956dbab1f0bf3f06",
     "locked": true,
     "points": 1,
     "schema_version": 3,
     "solution": false,
     "task": false
    },
    "tags": []
   },
   "outputs": [],
   "source": [
    "\"Check odeRK4 returns an array of the correct shape. (1 mark)\"\n",
    "f = lambda t,y: -y\n",
    "t = np.linspace(0,1,10)\n",
    "y0 = 1\n",
    "assert np.shape(odeRK4(f,t,y0)) == np.shape(t)\n",
    "print(\"Test 2: Success!\")"
   ]
  },
  {
   "cell_type": "code",
   "execution_count": null,
   "id": "3ecd9f15",
   "metadata": {
    "deletable": false,
    "editable": false,
    "nbgrader": {
     "cell_type": "code",
     "checksum": "d1914984687838f6c89494797eb4c142",
     "grade": true,
     "grade_id": "cell-be5b587b6144929d",
     "locked": true,
     "points": 1,
     "schema_version": 3,
     "solution": false,
     "task": false
    },
    "tags": []
   },
   "outputs": [],
   "source": [
    "\"Check odeRK4 returns correct values. (1 mark)\"\n",
    "f = lambda t,y: -y\n",
    "t = np.linspace(0,1,10)\n",
    "y0 = 1\n",
    "epsilon = 1e-8\n",
    "y = np.array([1. , 0.89483946, 0.80073765, 0.71653164, 0.64118079, 0.57375386, 0.5134176 , 0.45942632, 0.4111128 , 0.36787995])\n",
    "assert np.max(np.abs((odeRK4(f,t,y0) - y))) < epsilon\n",
    "print(\"Test 3: Success!\")"
   ]
  },
  {
   "cell_type": "code",
   "execution_count": null,
   "id": "52866e67",
   "metadata": {
    "deletable": false,
    "editable": false,
    "nbgrader": {
     "cell_type": "code",
     "checksum": "c8792a932e0964bdab8a673d1752d30d",
     "grade": true,
     "grade_id": "cell-9d7251f5af8066c1",
     "locked": true,
     "points": 2,
     "schema_version": 3,
     "solution": false,
     "task": false
    },
    "tags": []
   },
   "outputs": [],
   "source": [
    "\"Check odeRK4 returns correct values. This cell contains hidden tests. (2 marks)\""
   ]
  }
 ],
 "metadata": {
  "kernelspec": {
   "display_name": "Python 3 (ipykernel)",
   "language": "python",
   "name": "python3"
  },
  "language_info": {
   "codemirror_mode": {
    "name": "ipython",
    "version": 3
   },
   "file_extension": ".py",
   "mimetype": "text/x-python",
   "name": "python",
   "nbconvert_exporter": "python",
   "pygments_lexer": "ipython3",
   "version": "3.10.12"
  }
 },
 "nbformat": 4,
 "nbformat_minor": 5
}
