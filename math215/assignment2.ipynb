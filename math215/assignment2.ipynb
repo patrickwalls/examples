{
 "cells": [
  {
   "cell_type": "markdown",
   "id": "f725fc3f-322a-4093-ad65-4d9151776930",
   "metadata": {
    "deletable": false,
    "editable": false,
    "nbgrader": {
     "cell_type": "markdown",
     "checksum": "57740a37699d1780127b3372ca73cb3c",
     "grade": false,
     "grade_id": "cell-531d774b771fa9b1",
     "locked": true,
     "schema_version": 3,
     "solution": false,
     "task": false
    },
    "tags": []
   },
   "source": [
    "# MATH 215 Python Assignment 2\n",
    "\n",
    "## Instructions\n",
    "\n",
    "* Enter your solutions in cells with `YOUR CODE HERE` (all other cells are ignored by the autograder)\n",
    "* Run the tests to verify your work (and note some cells contain hidden tests)\n",
    "* Hidden tests only run during autograding\n",
    "* Do not import any pacakges (other than the standard packages in the cell below)\n",
    "* See [Python for UBC Math](https://ubcmath.github.io/python/) for instructions and examples\n",
    "* Submit the completed notebook to Canvas (download `.ipynb` file to your machine and then upload to Canvas)"
   ]
  },
  {
   "cell_type": "code",
   "execution_count": null,
   "id": "ef2739a5-60da-4801-b99d-15e8e47eb150",
   "metadata": {
    "deletable": false,
    "editable": false,
    "nbgrader": {
     "cell_type": "code",
     "checksum": "b2234804463d469a7dd06a1b73e4a2ef",
     "grade": false,
     "grade_id": "cell-719eb87f18300a07",
     "locked": true,
     "schema_version": 3,
     "solution": false,
     "task": false
    },
    "tags": []
   },
   "outputs": [],
   "source": [
    "import numpy as np\n",
    "import matplotlib.pyplot as plt"
   ]
  },
  {
   "cell_type": "markdown",
   "id": "6ea3b432-9cc7-4c3c-9247-f2dede5f634d",
   "metadata": {
    "deletable": false,
    "editable": false,
    "nbgrader": {
     "cell_type": "markdown",
     "checksum": "346e174127de903b1a6ec96eb50687ac",
     "grade": false,
     "grade_id": "cell-8c62263b2c7a93d0",
     "locked": true,
     "schema_version": 3,
     "solution": false,
     "task": false
    },
    "tags": []
   },
   "source": [
    "## Euler's Method\n",
    "\n",
    "The function `odeEuler` takes a Python function `f`, a vector `t` and initial value `y0` and returns the vector `y` of approximations $y_n \\approx y(t_n)$ computed by Euler's method:\n",
    "\n",
    "$$\n",
    "y_{n+1} = y_n + f(t_n,y_n)(t_{n+1} - t_n)\n",
    "$$\n",
    "\n",
    "Note:\n",
    "\n",
    "* function `f` represents the right hand side of the first order differential equation $y' = f(t,y)$\n",
    "* first entry of vector `t` is the value $t_0$\n",
    "* first entry of vector `y` is the value $y_0$\n",
    "* vectors `t` and `y` are the same length\n",
    "* entry of `y` at index `n` is the approximation $y_n \\approx y(t_n)$"
   ]
  },
  {
   "cell_type": "code",
   "execution_count": null,
   "id": "40e8251a-0ddf-4b84-86f2-96a2fe3ad0fc",
   "metadata": {
    "deletable": false,
    "editable": false,
    "nbgrader": {
     "cell_type": "code",
     "checksum": "da6842dbd2c8420bd7055d3b873e0954",
     "grade": false,
     "grade_id": "cell-44756e007d83f95b",
     "locked": true,
     "schema_version": 3,
     "solution": false,
     "task": false
    },
    "tags": []
   },
   "outputs": [],
   "source": [
    "def odeEuler(f,t,y0):\n",
    "    y = np.zeros(len(t))\n",
    "    y[0] = y0\n",
    "    for n in range(len(t)-1):\n",
    "        y[n+1] = y[n] + f(t[n],y[n])*(t[n+1] - t[n])\n",
    "    return y"
   ]
  },
  {
   "cell_type": "markdown",
   "id": "a76f712e-e286-4127-967a-4d395d9cd9a5",
   "metadata": {
    "deletable": false,
    "editable": false,
    "nbgrader": {
     "cell_type": "markdown",
     "checksum": "3a651cd28e7389d7a3baa2729a470c7b",
     "grade": false,
     "grade_id": "cell-a5e9881e21133971",
     "locked": true,
     "schema_version": 3,
     "solution": false,
     "task": false
    },
    "tags": []
   },
   "source": [
    "For example, approximate the solution of $y' = -ty$, $y(0)=1$ over the interval from $t_0 = 0$ to $t_f = 4$ with $N=20$ iterations of Euler's method with step size $h = (4-0)/20 = 0.2$. Plot the approximation with the exact solution $y(t) = e^{-t^2/2}$."
   ]
  },
  {
   "cell_type": "code",
   "execution_count": null,
   "id": "671eb466-e067-4264-bb5d-71ed334a4fe4",
   "metadata": {
    "deletable": false,
    "editable": false,
    "nbgrader": {
     "cell_type": "code",
     "checksum": "992bc5a5edaa552f59444c6e3a1e7a21",
     "grade": false,
     "grade_id": "cell-cc54e2137171cc87",
     "locked": true,
     "schema_version": 3,
     "solution": false,
     "task": false
    },
    "tags": []
   },
   "outputs": [],
   "source": [
    "t0 = 0; tf = 4; N = 20; h = (tf - t0)/N;\n",
    "\n",
    "f = lambda t,y: -t*y\n",
    "t = np.linspace(t0,tf,N+1)\n",
    "y0 = 1\n",
    "y = odeEuler(f,t,y0)\n",
    "plt.plot(t,y,\".-\",label=\"Euler's Method\")\n",
    "\n",
    "texact = np.linspace(t0,tf,(tf-t0)*100)\n",
    "yexact = np.exp(-texact**2/2)\n",
    "plt.plot(texact,yexact,label=\"Exact Solution\")\n",
    "\n",
    "plt.grid(True), plt.legend()\n",
    "plt.show()"
   ]
  },
  {
   "cell_type": "markdown",
   "id": "00fc68cc-21ea-4032-8a99-e94e70aebace",
   "metadata": {
    "deletable": false,
    "editable": false,
    "nbgrader": {
     "cell_type": "markdown",
     "checksum": "77a051f9c01a76bbf935572c15742a25",
     "grade": false,
     "grade_id": "cell-c43203aa09404f2e",
     "locked": true,
     "schema_version": 3,
     "solution": false,
     "task": false
    },
    "tags": []
   },
   "source": [
    "See [Python for UBC Math > Euler's Method](https://ubcmath.github.io/python/differential-equations/eulers-method.html) for more information."
   ]
  },
  {
   "cell_type": "markdown",
   "id": "2e7c98f1-e80e-4644-975a-5f806fbc3f1b",
   "metadata": {
    "deletable": false,
    "editable": false,
    "nbgrader": {
     "cell_type": "markdown",
     "checksum": "ba58228e28c7e568aa8198e9338daa3d",
     "grade": false,
     "grade_id": "cell-2f1ffecc7f971d8e",
     "locked": true,
     "schema_version": 3,
     "solution": false,
     "task": false
    }
   },
   "source": [
    "## Problem 1 (5 marks)\n",
    "\n",
    "Consider the equation $y' = y$, $y(0)=1$. The exact solution is $y(t) = e^t$. Complete the code below to implement Euler's method from $t_0 = 0$ to $t_f = 2$ with step size $h=2^{-k}$ where $k$ is the smallest positive integer such that the error at $t_f=2$ is less than $0.1$. Note that if $h=2^{-k}$ then $N=2^{k+1}$ in this case. Save the value $k$ as `k_1`.\n",
    "\n",
    "Note: We append `_1` to all the variable names to distinguish the variables used in Problem 1 from variables in other problems."
   ]
  },
  {
   "cell_type": "code",
   "execution_count": null,
   "id": "c9676af2-60e8-4e05-995f-fc613727aaf3",
   "metadata": {
    "deletable": false,
    "nbgrader": {
     "cell_type": "code",
     "checksum": "05a42ffeb20fdd7e12ee736ba5ac4d9b",
     "grade": false,
     "grade_id": "cell-b21f8313e2d91a42",
     "locked": false,
     "schema_version": 3,
     "solution": true,
     "task": false
    },
    "tags": []
   },
   "outputs": [],
   "source": [
    "# YOUR CODE HERE\n",
    "\n",
    "t0_1 = \n",
    "tf_1 = \n",
    "k_1 = \n",
    "N_1 = 2**(k_1 + 1)\n",
    "h_1 = (tf_1 - t0_1)/N_1;\n",
    "\n",
    "f_1 = \n",
    "t_1 = np.linspace(t0_1,tf_1,N_1 + 1)\n",
    "y0_1 = \n",
    "y_1 = odeEuler(f_1,t_1,y0_1)\n",
    "plt.plot(t_1,y_1,\".-\",label=\"Euler's Method\")\n",
    "\n",
    "texact_1 = np.linspace(t0_1,tf_1,(tf_1 - t0_1)*100)\n",
    "yexact_1 = np.exp(texact_1)\n",
    "plt.plot(texact_1,yexact_1,label=\"Exact Solution\")\n",
    "\n",
    "print(\"Step size h:\",h_1)\n",
    "print(\"Error at t = 2:\",abs(y_1[-1] - yexact_1[-1]))\n",
    "plt.grid(True), plt.legend()\n",
    "plt.show()"
   ]
  },
  {
   "cell_type": "code",
   "execution_count": null,
   "id": "c61e26d1-0e1d-4407-8489-124289c6ba3d",
   "metadata": {
    "deletable": false,
    "editable": false,
    "nbgrader": {
     "cell_type": "code",
     "checksum": "6c46dfb142a709c275eafeb91c23d13b",
     "grade": true,
     "grade_id": "cell-6b457153e7c8f113",
     "locked": true,
     "points": 1,
     "schema_version": 3,
     "solution": false,
     "task": false
    },
    "tags": []
   },
   "outputs": [],
   "source": [
    "# Test 1: Check if k_1 is defined as an integer. (1 mark)\n",
    "assert isinstance(k_1,int) , \"k_1 should be an integer.\"\n",
    "print(\"Problem 1 Test 1: Success!\")"
   ]
  },
  {
   "cell_type": "code",
   "execution_count": null,
   "id": "51417560-86e8-4811-a7ea-f87ed79203b4",
   "metadata": {
    "deletable": false,
    "editable": false,
    "nbgrader": {
     "cell_type": "code",
     "checksum": "7044f06194d5956d7968fdc348714af0",
     "grade": true,
     "grade_id": "cell-56f70a2f22d56ddf",
     "locked": true,
     "points": 1,
     "schema_version": 3,
     "solution": false,
     "task": false
    },
    "tags": []
   },
   "outputs": [],
   "source": [
    "# Test 2: Check if first entry of t_1 is 0 and last entry is 2. (1 mark)\n",
    "assert np.allclose(t_1[0],0) , \"First entry of t_1 should be 0.\"\n",
    "assert np.allclose(t_1[-1],2) , \"Last entry of t_1 should be 2.\"\n",
    "print(\"Problem 1 Test 2: Success!\")"
   ]
  },
  {
   "cell_type": "code",
   "execution_count": null,
   "id": "9fbda31a-11cc-40dd-92e6-9344ea8aee1e",
   "metadata": {
    "deletable": false,
    "editable": false,
    "nbgrader": {
     "cell_type": "code",
     "checksum": "a04f2381bbee4500462d2e8d5b978b1a",
     "grade": true,
     "grade_id": "cell-bbbd9aafa221fed1",
     "locked": true,
     "points": 1,
     "schema_version": 3,
     "solution": false,
     "task": false
    },
    "tags": []
   },
   "outputs": [],
   "source": [
    "# Test 3: Check if first entry of y_1 is 1 and length of y_1 is length of t_1. (1 mark)\n",
    "assert np.allclose(y_1[0],1) , \"First entry of y_1 should be 1.\"\n",
    "assert len(t_1) == len(y_1) , \"Vectors y_1 and t_1 should be the same length.\"\n",
    "print(\"Problem 1 Test 3: Success!\")"
   ]
  },
  {
   "cell_type": "code",
   "execution_count": null,
   "id": "d7f7f5b9-c2af-48af-babc-58d4ae7a146b",
   "metadata": {
    "deletable": false,
    "editable": false,
    "nbgrader": {
     "cell_type": "code",
     "checksum": "39fe546243d297964c7ee070d732bf67",
     "grade": true,
     "grade_id": "cell-ac6487f91cb5f323",
     "locked": true,
     "points": 1,
     "schema_version": 3,
     "solution": false,
     "task": false
    },
    "tags": []
   },
   "outputs": [],
   "source": [
    "# Test 4: Check if error at tf = 2 is less than 0.1. (1 mark)\n",
    "assert abs(y_1[-1] - yexact_1[-1]) < 0.1 ,  \"Error should be less than 0.1.\"\n",
    "print(\"Problem 1 Test 4: Success!\")"
   ]
  },
  {
   "cell_type": "code",
   "execution_count": null,
   "id": "669d8dc7-a383-4a14-ab5b-a46d8149159b",
   "metadata": {
    "deletable": false,
    "editable": false,
    "nbgrader": {
     "cell_type": "code",
     "checksum": "51663a7b73c48fd83c523f3bf08ac9e6",
     "grade": true,
     "grade_id": "cell-032d740b8ffaa7c8",
     "locked": true,
     "points": 1,
     "schema_version": 3,
     "solution": false,
     "task": false
    },
    "tags": []
   },
   "outputs": [],
   "source": [
    "# Test 5: Check if k_1 is the correct value. This cell contains hidden tests for grading. (1 mark)"
   ]
  },
  {
   "cell_type": "markdown",
   "id": "cbfbb41c-5907-4239-95f3-f4132950fc7f",
   "metadata": {
    "deletable": false,
    "editable": false,
    "nbgrader": {
     "cell_type": "markdown",
     "checksum": "62ed97aee3532beba4c31dbbd23e712c",
     "grade": false,
     "grade_id": "cell-6c5f0d901dddc491",
     "locked": true,
     "schema_version": 3,
     "solution": false,
     "task": false
    },
    "tags": []
   },
   "source": [
    "## Problem 2 (5 marks)\n",
    "\n",
    "Approximate the solution of $y' = t - y^2$, $y(0)=2$, over the interval $0 \\leq t \\leq 5$ using $N=100$ iterations of Euler's method. Save the vector of $t$ values as `t_2` and the vector of $y$ values as `y_2`.\n",
    "\n",
    "Note: We append `_2` to all the variable names to distinguish the variables used in Problem 2 from variables in other problems."
   ]
  },
  {
   "cell_type": "code",
   "execution_count": null,
   "id": "30ad170b-01eb-454f-b0ea-68ed6c244fbf",
   "metadata": {
    "deletable": false,
    "nbgrader": {
     "cell_type": "code",
     "checksum": "612fc1af0de1ea905d27c7cbb309ef76",
     "grade": false,
     "grade_id": "cell-05abfe292f5d2fea",
     "locked": false,
     "schema_version": 3,
     "solution": true,
     "task": false
    },
    "tags": []
   },
   "outputs": [],
   "source": [
    "# YOUR CODE HERE\n",
    "t0_2 = \n",
    "tf_2 = \n",
    "N_2 = \n",
    "f_2 = \n",
    "t_2 = np.linspace(t0_2,tf_2,N_2 + 1)\n",
    "y0_2 = \n",
    "y_2 = \n",
    "plt.plot(t_2,y_2)\n",
    "plt.grid(True)\n",
    "plt.show()"
   ]
  },
  {
   "cell_type": "code",
   "execution_count": null,
   "id": "358b3aec-c749-443b-8334-c9f1b04d6190",
   "metadata": {
    "deletable": false,
    "editable": false,
    "nbgrader": {
     "cell_type": "code",
     "checksum": "e83ed6da66eb86724dc0e2d7bdc5fea3",
     "grade": true,
     "grade_id": "cell-a796b07683239eee",
     "locked": true,
     "points": 1,
     "schema_version": 3,
     "solution": false,
     "task": false
    },
    "tags": []
   },
   "outputs": [],
   "source": [
    "# Test 1: Check if t_2 is an array of length 101. (1 mark)\n",
    "assert isinstance(t_2,np.ndarray) , \"t_2 should be a NumPy array.\"\n",
    "assert len(t_2) == 101 , \"t_2 should be length 101.\"\n",
    "print(\"Problem 2 Test 1: Success!\")"
   ]
  },
  {
   "cell_type": "code",
   "execution_count": null,
   "id": "0f3cb14d-5ef9-4d37-988e-149c7b325261",
   "metadata": {
    "deletable": false,
    "editable": false,
    "nbgrader": {
     "cell_type": "code",
     "checksum": "7b9a0133acf8b2faf65bcb7b74bf10fb",
     "grade": true,
     "grade_id": "cell-5464c61645e2bfa5",
     "locked": true,
     "points": 1,
     "schema_version": 3,
     "solution": false,
     "task": false
    },
    "tags": []
   },
   "outputs": [],
   "source": [
    "# Test 2: Check if t_2 starts with 0 and ends with 2. (1 mark)\n",
    "assert np.allclose(t_2[0],0) , \"First entry of t_2 should be 0.\"\n",
    "assert np.allclose(t_2[-1],5) , \"Last entry of t_2 should be 5.\"\n",
    "print(\"Problem 2 Test 2: Success!\")"
   ]
  },
  {
   "cell_type": "code",
   "execution_count": null,
   "id": "3391ce87-241d-4c5f-84f9-4cff596f9999",
   "metadata": {
    "deletable": false,
    "editable": false,
    "nbgrader": {
     "cell_type": "code",
     "checksum": "dd38eb9853d28b798e15fa5a8e6ac869",
     "grade": true,
     "grade_id": "cell-76ab2f2ee91433f5",
     "locked": true,
     "points": 1,
     "schema_version": 3,
     "solution": false,
     "task": false
    },
    "tags": []
   },
   "outputs": [],
   "source": [
    "# Test 3: Check if y_2 is an array of length 101. (1 mark)\n",
    "assert isinstance(y_2,np.ndarray) , \"y_2 should be a NumPy array.\"\n",
    "assert len(y_2) == 101 , \"y_2 should be length 101.\"\n",
    "print(\"Problem 2 Test 3: Success!\")"
   ]
  },
  {
   "cell_type": "code",
   "execution_count": null,
   "id": "0313793c-d8fb-4f7c-8988-040a84546a33",
   "metadata": {
    "deletable": false,
    "editable": false,
    "nbgrader": {
     "cell_type": "code",
     "checksum": "1b47b639ed80607ff8f24713eefa08bf",
     "grade": true,
     "grade_id": "cell-7b54fa052c7f35c1",
     "locked": true,
     "points": 1,
     "schema_version": 3,
     "solution": false,
     "task": false
    },
    "tags": []
   },
   "outputs": [],
   "source": [
    "# Test 4: Check if y_2 starts with 2 and ends with 2.1829670566456554. (1 mark)\n",
    "assert np.allclose(y_2[0],2) , \"First entry to y_2 should be 2.\"\n",
    "assert np.allclose(y_2[-1],2.1829670566456554) , \"Last entry of y_2 should be close to 2.1829670566456554.\"\n",
    "print(\"Problem 2 Test 4: Success!\")"
   ]
  },
  {
   "cell_type": "code",
   "execution_count": null,
   "id": "3fef849f-d192-45d5-ba37-3ec1f1ff6576",
   "metadata": {
    "deletable": false,
    "editable": false,
    "nbgrader": {
     "cell_type": "code",
     "checksum": "8cc7ad5e86fc879ea84e5a68dbadfe1f",
     "grade": true,
     "grade_id": "cell-b7c7e425cd03e009",
     "locked": true,
     "points": 1,
     "schema_version": 3,
     "solution": false,
     "task": false
    },
    "tags": []
   },
   "outputs": [],
   "source": [
    "# Test 5: Check if y_2 has correct values. This cell contains hidden tests for grading. (1 mark)"
   ]
  },
  {
   "cell_type": "markdown",
   "id": "7b1edbe6-30da-4ab7-b386-e28afeaa3203",
   "metadata": {
    "deletable": false,
    "editable": false,
    "nbgrader": {
     "cell_type": "markdown",
     "checksum": "9cb489939fc905f417d70340268b3a3a",
     "grade": false,
     "grade_id": "cell-6bde1d3925c6e365",
     "locked": true,
     "schema_version": 3,
     "solution": false,
     "task": false
    },
    "tags": []
   },
   "source": [
    "## Problem 3 (2 marks)\n",
    "\n",
    "Consider again the differential equation from the previous question $y' = t - y^2$. The equation is neither linear nor separable therefore we do not have any methods to find solutions analytically. But we can *always* use Euler's method to approximate. Approximate solutions for different initial values $y(0) > 0$ and observe the output.\n",
    "\n",
    "Determine whether the following statement is **True** or **False**:\n",
    "\n",
    "If $y_1(t)$ and $y_2(t)$ are any solutions of $y' = t-y^2$ such that $y_1(0)>0$ and $y_2(0)>0$ then $\\displaystyle \\lim_{t \\to \\infty} \\left( y_1(t) - y_2(t) \\right) = 0$.\n",
    "\n",
    "Save your response (**True** or **False**) as `observation3`."
   ]
  },
  {
   "cell_type": "code",
   "execution_count": null,
   "id": "c11f44c9-1f35-43b9-a6e8-e2a55dc39287",
   "metadata": {
    "deletable": false,
    "nbgrader": {
     "cell_type": "code",
     "checksum": "0818a4120cf107291ba9c6953508ed5d",
     "grade": false,
     "grade_id": "cell-fbc0f67ff3fe7c00",
     "locked": false,
     "schema_version": 3,
     "solution": true,
     "task": false
    },
    "tags": []
   },
   "outputs": [],
   "source": [
    "# YOUR CODE HERE\n",
    "observation3 = "
   ]
  },
  {
   "cell_type": "code",
   "execution_count": null,
   "id": "ea63a98e-7c03-474d-bc7a-1d03b767d2fc",
   "metadata": {
    "deletable": false,
    "editable": false,
    "nbgrader": {
     "cell_type": "code",
     "checksum": "e5e34fec147e08c02cc73ad3cf61958c",
     "grade": true,
     "grade_id": "cell-83cc1678184c442f",
     "locked": true,
     "points": 1,
     "schema_version": 3,
     "solution": false,
     "task": false
    },
    "tags": []
   },
   "outputs": [],
   "source": [
    "# Test 1: Check if observation3 is True or False. (1 mark)\n",
    "assert isinstance(observation3,bool) , \"observation3 should be True or False.\"\n",
    "print(\"Problem 3 Test 1: Success!\")"
   ]
  },
  {
   "cell_type": "code",
   "execution_count": null,
   "id": "dd94b5cb-cf0f-4f11-8074-4d84e2496e28",
   "metadata": {
    "deletable": false,
    "editable": false,
    "nbgrader": {
     "cell_type": "code",
     "checksum": "64e0c3fb2c158e60e24f52c41c75e1d5",
     "grade": true,
     "grade_id": "cell-3feebfd02db9c8c8",
     "locked": true,
     "points": 1,
     "schema_version": 3,
     "solution": false,
     "task": false
    },
    "tags": []
   },
   "outputs": [],
   "source": [
    "# Test 2: Check if observation3 is correct value. This cell contains hidden tests. (1 mark)"
   ]
  },
  {
   "cell_type": "markdown",
   "id": "81facfcf-57d4-4a8a-8866-89b8d349e56f",
   "metadata": {
    "deletable": false,
    "editable": false,
    "nbgrader": {
     "cell_type": "markdown",
     "checksum": "da4ff8dec64e44940ea94687405c4aef",
     "grade": false,
     "grade_id": "cell-828b762583c414c4",
     "locked": true,
     "schema_version": 3,
     "solution": false,
     "task": false
    },
    "tags": []
   },
   "source": [
    "## Problem 4 (4 marks)\n",
    "\n",
    "Approximate the solution of $y' = -y^2 \\sin(\\pi t)$, $y(0)=1$, over the interval $0 \\leq t \\leq 3$ using Euler's method. This is a separable equation therefore we can find the exat solution. Use separation of variables to compute the exact solution and enter the expression as `yexact_4` (using `texact_4` in the expression for the variable $t$). Use enough iterations such that the error at $t=3$ is less than 0.05. Save the vector of $t$ values as `t_4` and the vector of $y$ values as `y_4`.\n",
    "\n",
    "Note: We append `_4` to all the variable names to distinguish the variables used in Problem 4 from variables in other problems."
   ]
  },
  {
   "cell_type": "code",
   "execution_count": null,
   "id": "907c61d8-073e-4ef1-9c86-6ba7b92c79d9",
   "metadata": {
    "deletable": false,
    "nbgrader": {
     "cell_type": "code",
     "checksum": "c16c5c5d479bd5cd07ef6b4f89cea590",
     "grade": false,
     "grade_id": "cell-fe1a1bd9a274fea1",
     "locked": false,
     "schema_version": 3,
     "solution": true,
     "task": false
    },
    "tags": []
   },
   "outputs": [],
   "source": [
    "# YOUR CODE HERE\n",
    "t0_4 = \n",
    "tf_4 = \n",
    "N_4 = \n",
    "f_4 = \n",
    "t_4 = np.linspace(t0_4,tf_4,N_4 + 1)\n",
    "y0_4 = \n",
    "y_4 = \n",
    "plt.plot(t_4,y_4,label=\"Euler's Method\")\n",
    "\n",
    "texact_4 = np.linspace(t0_4,tf_4,(tf_4 - t0_4)*100)\n",
    "yexact_4 = \n",
    "plt.plot(texact_4,yexact_4,label=\"Exact Solution\")\n",
    "\n",
    "print(\"Error at t = 3:\",abs(y_4[-1] - yexact_4[-1]))\n",
    "plt.grid(True), plt.legend()\n",
    "plt.show()"
   ]
  },
  {
   "cell_type": "code",
   "execution_count": null,
   "id": "a4040512-0c51-4752-bc51-52acbc08d85e",
   "metadata": {
    "deletable": false,
    "editable": false,
    "nbgrader": {
     "cell_type": "code",
     "checksum": "866e277265a8b1c5629973787e786949",
     "grade": true,
     "grade_id": "cell-e5c3f2ed07e4b1f8",
     "locked": true,
     "points": 1,
     "schema_version": 3,
     "solution": false,
     "task": false
    },
    "tags": []
   },
   "outputs": [],
   "source": [
    "# Test 1: Check if first entry of t_4 is 0 and last entry is 3. (1 mark)\n",
    "assert np.allclose(t_4[0],0) , \"First entry of t_4 should be 0.\"\n",
    "assert np.allclose(t_4[-1],3) , \"Last entry of t_4 should be 3.\"\n",
    "print(\"Problem 4 Test 1: Success!\")"
   ]
  },
  {
   "cell_type": "code",
   "execution_count": null,
   "id": "bd1fd97e-1b1e-4cf8-98cd-022031927b58",
   "metadata": {
    "deletable": false,
    "editable": false,
    "nbgrader": {
     "cell_type": "code",
     "checksum": "25db5fb9c2b25490ff087164dca8a363",
     "grade": true,
     "grade_id": "cell-41d2798958a658a3",
     "locked": true,
     "points": 1,
     "schema_version": 3,
     "solution": false,
     "task": false
    },
    "tags": []
   },
   "outputs": [],
   "source": [
    "# Test 2: Check if first entry of y_4 is 1 and length of y_4 is length of t_4. (1 mark)\n",
    "assert np.allclose(y_4[0],1) , \"First entry of y_4 should be 1.\"\n",
    "assert len(t_4) == len(y_4) , \"Vectors y_1 and t_4 should be the same length.\"\n",
    "print(\"Problem 1 Test 2: Success!\")"
   ]
  },
  {
   "cell_type": "code",
   "execution_count": null,
   "id": "a99b0968-1505-4f77-9cb5-9a1c67253201",
   "metadata": {
    "deletable": false,
    "editable": false,
    "nbgrader": {
     "cell_type": "code",
     "checksum": "e13fb5c4c2a21ce30caacd7f1e081f0e",
     "grade": true,
     "grade_id": "cell-384ea607bc532a93",
     "locked": true,
     "points": 2,
     "schema_version": 3,
     "solution": false,
     "task": false
    },
    "tags": []
   },
   "outputs": [],
   "source": [
    "# Test 3: Check if error at tf = 3 is less than 0.05. (2 marks)\n",
    "assert abs(y_4[-1] - 0.6110154703516573) < 0.05 ,  \"Error should be less than 0.05.\"\n",
    "print(\"Problem 1 Test 3: Success!\")"
   ]
  }
 ],
 "metadata": {
  "kernelspec": {
   "display_name": "Python 3 (ipykernel)",
   "language": "python",
   "name": "python3"
  },
  "language_info": {
   "codemirror_mode": {
    "name": "ipython",
    "version": 3
   },
   "file_extension": ".py",
   "mimetype": "text/x-python",
   "name": "python",
   "nbconvert_exporter": "python",
   "pygments_lexer": "ipython3",
   "version": "3.10.12"
  }
 },
 "nbformat": 4,
 "nbformat_minor": 5
}
