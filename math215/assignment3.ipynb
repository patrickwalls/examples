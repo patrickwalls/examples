{
 "cells": [
  {
   "cell_type": "markdown",
   "id": "cf764c8a-d4f7-4aa5-878b-178d8109e02c",
   "metadata": {
    "deletable": false,
    "editable": false,
    "nbgrader": {
     "cell_type": "markdown",
     "checksum": "c050b15cc31c515722c0c3254bc0cee0",
     "grade": false,
     "grade_id": "cell-19e0342b34f3c555",
     "locked": true,
     "schema_version": 3,
     "solution": false,
     "task": false
    },
    "tags": []
   },
   "source": [
    "# MATH 215 Python Assignment 3\n",
    "\n",
    "## Instructions\n",
    "\n",
    "* Enter your solutions in cells with `YOUR CODE HERE` (all other cells are ignored by the autograder)\n",
    "* Run the tests to verify your work (and note some cells contain hidden tests)\n",
    "* Hidden tests only run during autograding\n",
    "* Do not import any pacakges (other than the standard packages in the cell below)\n",
    "* See [Python for UBC Math](https://ubcmath.github.io/python/) for instructions and examples\n",
    "* Submit the completed notebook to Canvas (download `.ipynb` file to your machine and then upload to Canvas)"
   ]
  },
  {
   "cell_type": "code",
   "execution_count": null,
   "id": "ab5cf0d7-5400-4bc6-8cae-850694587a28",
   "metadata": {
    "deletable": false,
    "editable": false,
    "nbgrader": {
     "cell_type": "code",
     "checksum": "5d6f6d23a4fc73f17e74836659f56903",
     "grade": false,
     "grade_id": "cell-dc52f766233c4bdf",
     "locked": true,
     "schema_version": 3,
     "solution": false,
     "task": false
    },
    "tags": []
   },
   "outputs": [],
   "source": [
    "import numpy as np\n",
    "import matplotlib.pyplot as plt"
   ]
  },
  {
   "cell_type": "markdown",
   "id": "7c4368b1-9336-4415-bc53-6b73499463ce",
   "metadata": {
    "deletable": false,
    "editable": false,
    "nbgrader": {
     "cell_type": "markdown",
     "checksum": "093efd8da279f6617e53bdfe052f7fbe",
     "grade": false,
     "grade_id": "cell-615206990453aacd",
     "locked": true,
     "schema_version": 3,
     "solution": false,
     "task": false
    },
    "tags": []
   },
   "source": [
    "## Python Functions\n",
    "\n",
    "The Python package `numpy` contains all the usual mathematical functions such as `np.exp`, `np.cos` and `np.sin`. Use the `lambda` keyword to create new Python functions.\n",
    "\n",
    "For example, the code below creates a function `f` which takes input parameter `x` and returns the value of the function\n",
    "\n",
    "$$\n",
    "f(x) = e^{-0.1x} \\cos(\\pi x)\n",
    "$$"
   ]
  },
  {
   "cell_type": "code",
   "execution_count": null,
   "id": "05de73c3-7208-447b-9469-a94e23005596",
   "metadata": {
    "deletable": false,
    "editable": false,
    "nbgrader": {
     "cell_type": "code",
     "checksum": "b200d9f71eef44307bb7035eaecf7096",
     "grade": false,
     "grade_id": "cell-e0a1b92f61845540",
     "locked": true,
     "schema_version": 3,
     "solution": false,
     "task": false
    },
    "tags": []
   },
   "outputs": [],
   "source": [
    "f = lambda x: np.exp(-0.1*x)*np.cos(np.pi*x)"
   ]
  },
  {
   "cell_type": "code",
   "execution_count": null,
   "id": "d0c05c01-3461-4c79-a746-4f137ea56c1a",
   "metadata": {
    "deletable": false,
    "editable": false,
    "nbgrader": {
     "cell_type": "code",
     "checksum": "c3d35e11b64f28ab04ae9cf2dc49953c",
     "grade": false,
     "grade_id": "cell-5ac32a9a0d12201a",
     "locked": true,
     "schema_version": 3,
     "solution": false,
     "task": false
    },
    "tags": []
   },
   "outputs": [],
   "source": [
    "f(0)"
   ]
  },
  {
   "cell_type": "code",
   "execution_count": null,
   "id": "edc41927-5dea-4670-be05-83eb115c174a",
   "metadata": {
    "deletable": false,
    "editable": false,
    "nbgrader": {
     "cell_type": "code",
     "checksum": "73b1259b1972051cfc6bd2c8f77b3c9a",
     "grade": false,
     "grade_id": "cell-b7f51cd0b59018a6",
     "locked": true,
     "schema_version": 3,
     "solution": false,
     "task": false
    },
    "tags": []
   },
   "outputs": [],
   "source": [
    "f(1)"
   ]
  },
  {
   "cell_type": "code",
   "execution_count": null,
   "id": "0b24e0c3-b0fb-4491-85a0-a49f686a1739",
   "metadata": {
    "deletable": false,
    "editable": false,
    "nbgrader": {
     "cell_type": "code",
     "checksum": "9be71fe96f839ef0ea94d88cef1725b8",
     "grade": false,
     "grade_id": "cell-b31fdf162529c335",
     "locked": true,
     "schema_version": 3,
     "solution": false,
     "task": false
    },
    "tags": []
   },
   "outputs": [],
   "source": [
    "f(5)"
   ]
  },
  {
   "cell_type": "markdown",
   "id": "992a2d2d-3626-4a2c-a7d9-0331632af530",
   "metadata": {
    "deletable": false,
    "editable": false,
    "nbgrader": {
     "cell_type": "markdown",
     "checksum": "b8f60d5798ed772d969272d232701c98",
     "grade": false,
     "grade_id": "cell-356173e29de8f590",
     "locked": true,
     "schema_version": 3,
     "solution": false,
     "task": false
    },
    "tags": []
   },
   "source": [
    "## Plotting Functions\n",
    "\n",
    "Use the function `f` to plot the graph $y = f(x)$. We construct a vector `x` of 1000 equally spaced values from $x=0$ to $x=50$ and then apply `f` to `x` to generate the vector of $y$ values. The number 1000 is arbitrary and we simply choose it to be large enough to plot the function smoothly. The function `plt.plot` simply connects the dots defined by the coordinates in vectors `x` and `y` and so we need lots of points to plot this particular function smoothly since it has a lot of oscillation."
   ]
  },
  {
   "cell_type": "code",
   "execution_count": null,
   "id": "85910506-c0ca-4bef-a34d-cd7652920327",
   "metadata": {
    "deletable": false,
    "editable": false,
    "nbgrader": {
     "cell_type": "code",
     "checksum": "d7958fe25cacfec4bc6212cd664c4ec9",
     "grade": false,
     "grade_id": "cell-1ffdc1707b2f9a45",
     "locked": true,
     "schema_version": 3,
     "solution": false,
     "task": false
    },
    "tags": []
   },
   "outputs": [],
   "source": [
    "x = np.linspace(0,50,1000)\n",
    "y = f(x)\n",
    "plt.plot(x,y)\n",
    "plt.show()"
   ]
  },
  {
   "cell_type": "markdown",
   "id": "061f4cd1-b9f9-4fc1-a2ee-ae504a22e867",
   "metadata": {
    "deletable": false,
    "editable": false,
    "nbgrader": {
     "cell_type": "markdown",
     "checksum": "b65454f618c9a2f1f4b25b4d8e4ee85d",
     "grade": false,
     "grade_id": "cell-06162bf3c91e39db",
     "locked": true,
     "schema_version": 3,
     "solution": false,
     "task": false
    },
    "tags": []
   },
   "source": [
    "See [Python for UBC Math > Plotting](https://ubcmath.github.io/python/getting-started/vectorization.html) for more details and examples."
   ]
  },
  {
   "cell_type": "markdown",
   "id": "a980ce88-f17c-472d-9b21-21add1a96e7b",
   "metadata": {
    "deletable": false,
    "editable": false,
    "nbgrader": {
     "cell_type": "markdown",
     "checksum": "2a7afe7eb7fe8cbf528539ee18f5a89c",
     "grade": false,
     "grade_id": "cell-9465e4f33556cb7f",
     "locked": true,
     "schema_version": 3,
     "solution": false,
     "task": false
    }
   },
   "source": [
    "## Problem 1 (5 marks)\n",
    "\n",
    "Find the unique solution of $y'' + 3y' + 2y = 0$, $y(0) = 1$, $y'(0) = 0$. Save the solution as a Python function called `y1`."
   ]
  },
  {
   "cell_type": "code",
   "execution_count": null,
   "id": "58e843f7-af31-40f4-97b6-fb6d18e0b060",
   "metadata": {
    "deletable": false,
    "nbgrader": {
     "cell_type": "code",
     "checksum": "b949570c825c4da729311b78b20ea5fe",
     "grade": false,
     "grade_id": "cell-f3550bb3a969af2f",
     "locked": false,
     "schema_version": 3,
     "solution": true,
     "task": false
    },
    "tags": []
   },
   "outputs": [],
   "source": [
    "# YOUR CODE HERE\n",
    "y1 = lambda t: "
   ]
  },
  {
   "cell_type": "code",
   "execution_count": null,
   "id": "020a95a5-09a8-4674-89f9-1d4914742753",
   "metadata": {
    "deletable": false,
    "editable": false,
    "nbgrader": {
     "cell_type": "code",
     "checksum": "fcc1693006ce7ca1c11205fa960d2828",
     "grade": true,
     "grade_id": "cell-07206cfc41278d68",
     "locked": true,
     "points": 1,
     "schema_version": 3,
     "solution": false,
     "task": false
    },
    "tags": []
   },
   "outputs": [],
   "source": [
    "# Test 1: Check if y1 is defined as a function. (1 mark)\n",
    "assert callable(y1) , \"y1 should be a function.\"\n",
    "print(\"Test 1: Success!\")"
   ]
  },
  {
   "cell_type": "code",
   "execution_count": null,
   "id": "93d0117d-55c1-4c86-ae0d-0c2cd08d702d",
   "metadata": {
    "deletable": false,
    "editable": false,
    "nbgrader": {
     "cell_type": "code",
     "checksum": "1d1889c46297126342c9d34707f03a70",
     "grade": true,
     "grade_id": "cell-99d8946ff0e80da7",
     "locked": true,
     "points": 1,
     "schema_version": 3,
     "solution": false,
     "task": false
    },
    "tags": []
   },
   "outputs": [],
   "source": [
    "# Test 2: Check if y1(0) = 1. (1 mark)\n",
    "assert np.allclose(y1(0),1) , \"y1(0) should be 1.\"\n",
    "print(\"Test 2: Success!\")"
   ]
  },
  {
   "cell_type": "code",
   "execution_count": null,
   "id": "be4a8d34-9dfe-4a43-9c30-d453c27b8a50",
   "metadata": {
    "deletable": false,
    "editable": false,
    "nbgrader": {
     "cell_type": "code",
     "checksum": "d7a06b0a1fbfc202398f769fd3cee516",
     "grade": true,
     "grade_id": "cell-d1c831dbffa73b8d",
     "locked": true,
     "points": 1,
     "schema_version": 3,
     "solution": false,
     "task": false
    },
    "tags": []
   },
   "outputs": [],
   "source": [
    "# Test 3: Check if y1 is near 0 for large t. (1 mark)\n",
    "assert np.allclose(y1(100),0) , \"y1(100) should be near 0.\"\n",
    "print(\"Test 3: Success!\")"
   ]
  },
  {
   "cell_type": "code",
   "execution_count": null,
   "id": "c3068d30-0976-4fea-84e2-dcfea6d0ca61",
   "metadata": {
    "deletable": false,
    "editable": false,
    "nbgrader": {
     "cell_type": "code",
     "checksum": "e279c1c5e485df109d6b81f58a40143c",
     "grade": true,
     "grade_id": "cell-e7efea905f533e9e",
     "locked": true,
     "points": 1,
     "schema_version": 3,
     "solution": false,
     "task": false
    },
    "tags": []
   },
   "outputs": [],
   "source": [
    "# Test 4: Check if y1 returns correct value. (1 mark)\n",
    "assert np.allclose(y1(0.5),0.8451818782538245) , \"y1(0.5) should be 0.8451818782538245.\"\n",
    "print(\"Test 4: Success!\")"
   ]
  },
  {
   "cell_type": "code",
   "execution_count": null,
   "id": "c9a891b3-822f-4324-bec2-935a2dbed144",
   "metadata": {
    "deletable": false,
    "editable": false,
    "nbgrader": {
     "cell_type": "code",
     "checksum": "67c7514ecd6348933991cae070310d83",
     "grade": true,
     "grade_id": "cell-560f3324945fe6f2",
     "locked": true,
     "points": 1,
     "schema_version": 3,
     "solution": false,
     "task": false
    },
    "tags": []
   },
   "outputs": [],
   "source": [
    "# Test 5: Check if y1 returns correct values. This cell contains hidden tests. (1 mark)"
   ]
  },
  {
   "cell_type": "markdown",
   "id": "35c58f9f-36ff-4d87-8dc8-1ae9d2e07482",
   "metadata": {
    "deletable": false,
    "editable": false,
    "nbgrader": {
     "cell_type": "markdown",
     "checksum": "b0ac201354bf5fca828b52f3fb62b649",
     "grade": false,
     "grade_id": "cell-49b445327e9d6abd",
     "locked": true,
     "schema_version": 3,
     "solution": false,
     "task": false
    },
    "tags": []
   },
   "source": [
    "Plot the function `y1` over the interval $[0,5]$."
   ]
  },
  {
   "cell_type": "code",
   "execution_count": null,
   "id": "6b1978ca-b566-41f8-9415-abb648ed0295",
   "metadata": {
    "deletable": false,
    "editable": false,
    "nbgrader": {
     "cell_type": "code",
     "checksum": "74025d2c09fd4920373552d3c8b361f9",
     "grade": false,
     "grade_id": "cell-251e50e2165390c1",
     "locked": true,
     "schema_version": 3,
     "solution": false,
     "task": false
    },
    "tags": []
   },
   "outputs": [],
   "source": [
    "t1 = np.linspace(0,5,200)\n",
    "plt.plot(t1,y1(t1))\n",
    "plt.show()"
   ]
  },
  {
   "cell_type": "markdown",
   "id": "59af360a-1bb8-4dba-aec7-60410b053cb7",
   "metadata": {
    "deletable": false,
    "editable": false,
    "nbgrader": {
     "cell_type": "markdown",
     "checksum": "20a00ab5f16aec41df6b3aa68901f9b9",
     "grade": false,
     "grade_id": "cell-a860e7aa5c3bb853",
     "locked": true,
     "schema_version": 3,
     "solution": false,
     "task": false
    }
   },
   "source": [
    "## Problem 2 (5 marks)\n",
    "\n",
    "Find the unique solution of $y'' + 2y' + 3y = 0$, $y(0) = 1$, $y'(0) = 0$. Save the solution as a Python function called `y2`."
   ]
  },
  {
   "cell_type": "code",
   "execution_count": null,
   "id": "e756697d-6fb9-4c59-9c7a-e86868ca009d",
   "metadata": {
    "deletable": false,
    "nbgrader": {
     "cell_type": "code",
     "checksum": "2138d22fca88c5685ed63ef1d3c6d46b",
     "grade": false,
     "grade_id": "cell-8f82f26a74ac42a3",
     "locked": false,
     "schema_version": 3,
     "solution": true,
     "task": false
    },
    "tags": []
   },
   "outputs": [],
   "source": [
    "# YOUR CODE HERE\n",
    "y2 = lambda t: "
   ]
  },
  {
   "cell_type": "code",
   "execution_count": null,
   "id": "e2964b8f-5145-47e2-8b74-24686f69a306",
   "metadata": {
    "deletable": false,
    "editable": false,
    "nbgrader": {
     "cell_type": "code",
     "checksum": "4b60f8077c1a80597575c5d4d7a1f787",
     "grade": true,
     "grade_id": "cell-2b91584de42ab53b",
     "locked": true,
     "points": 1,
     "schema_version": 3,
     "solution": false,
     "task": false
    },
    "tags": []
   },
   "outputs": [],
   "source": [
    "# Test 1: Check if y2 is defined as a function. (1 mark)\n",
    "assert callable(y2) , \"y2 should be a function.\"\n",
    "print(\"Test 1: Success!\")"
   ]
  },
  {
   "cell_type": "code",
   "execution_count": null,
   "id": "5ecc97f1-0a44-44e5-98df-3a67cbf6ee42",
   "metadata": {
    "deletable": false,
    "editable": false,
    "nbgrader": {
     "cell_type": "code",
     "checksum": "7bfd569242b03cb42e76fccd695fa6ef",
     "grade": true,
     "grade_id": "cell-94cdb841f9d20e69",
     "locked": true,
     "points": 1,
     "schema_version": 3,
     "solution": false,
     "task": false
    },
    "tags": []
   },
   "outputs": [],
   "source": [
    "# Test 2: Check if y2(0) = 1. (1 mark)\n",
    "assert np.allclose(y2(0),1) , \"y2(0) should be 1.\"\n",
    "print(\"Test 2: Success!\")"
   ]
  },
  {
   "cell_type": "code",
   "execution_count": null,
   "id": "6f4e590f-d31f-49cc-8db6-962817f6fc26",
   "metadata": {
    "deletable": false,
    "editable": false,
    "nbgrader": {
     "cell_type": "code",
     "checksum": "5a4ae407eba84dc5ad058f9c4814cab4",
     "grade": true,
     "grade_id": "cell-7bdc6cb0018a668c",
     "locked": true,
     "points": 1,
     "schema_version": 3,
     "solution": false,
     "task": false
    },
    "tags": []
   },
   "outputs": [],
   "source": [
    "# Test 3: Check if y2 is near 0 for large t. (1 mark)\n",
    "assert np.allclose(y2(100),0) , \"y2(100) should be near 0.\"\n",
    "print(\"Test 3: Success!\")"
   ]
  },
  {
   "cell_type": "code",
   "execution_count": null,
   "id": "d900b6c0-1757-442c-b608-4936a3df9ddf",
   "metadata": {
    "deletable": false,
    "editable": false,
    "nbgrader": {
     "cell_type": "code",
     "checksum": "97a47e716b9da340d3ea4d719b72a8ab",
     "grade": true,
     "grade_id": "cell-0d60c67f41b61c4a",
     "locked": true,
     "points": 1,
     "schema_version": 3,
     "solution": false,
     "task": false
    },
    "tags": []
   },
   "outputs": [],
   "source": [
    "# Test 4: Check if y2 returns correct value. (1 mark)\n",
    "assert np.allclose(y2(1),0.314316081745773) , \"y2(1) should be 0.314316081745773.\"\n",
    "print(\"Test 4: Success!\")"
   ]
  },
  {
   "cell_type": "code",
   "execution_count": null,
   "id": "689f0ad9-88da-416a-857d-493d5e6b6eb0",
   "metadata": {
    "deletable": false,
    "editable": false,
    "nbgrader": {
     "cell_type": "code",
     "checksum": "0b4346f928f79fc0e59e879fa1b9bd11",
     "grade": true,
     "grade_id": "cell-eda1b68751ec8f44",
     "locked": true,
     "points": 1,
     "schema_version": 3,
     "solution": false,
     "task": false
    },
    "tags": []
   },
   "outputs": [],
   "source": [
    "# Test 5: Check if y2 returns correct values. This cell contains hidden tests. (1 mark)"
   ]
  },
  {
   "cell_type": "markdown",
   "id": "f0fe1d54-2fce-4b4a-8117-4396b3c3e952",
   "metadata": {
    "deletable": false,
    "editable": false,
    "nbgrader": {
     "cell_type": "markdown",
     "checksum": "33571432921b6a179f6d1e7b6f769f5a",
     "grade": false,
     "grade_id": "cell-2331dd2ab58a93b0",
     "locked": true,
     "schema_version": 3,
     "solution": false,
     "task": false
    },
    "tags": []
   },
   "source": [
    "Plot the function `y2` over the interval $[0,5]$."
   ]
  },
  {
   "cell_type": "code",
   "execution_count": null,
   "id": "029d583b-7076-4f3e-948b-bc261723214b",
   "metadata": {
    "deletable": false,
    "editable": false,
    "nbgrader": {
     "cell_type": "code",
     "checksum": "f9e621475389a4867e8b9c6fad84e63a",
     "grade": false,
     "grade_id": "cell-d271b4d3ab1b66d8",
     "locked": true,
     "schema_version": 3,
     "solution": false,
     "task": false
    },
    "tags": []
   },
   "outputs": [],
   "source": [
    "t2 = np.linspace(0,5,200)\n",
    "plt.plot(t2,y2(t2))\n",
    "plt.show()"
   ]
  },
  {
   "cell_type": "markdown",
   "id": "230786b9-5910-4ad6-b8fe-3afccca7e531",
   "metadata": {
    "deletable": false,
    "editable": false,
    "nbgrader": {
     "cell_type": "markdown",
     "checksum": "b0439615d535be0bcbda71274fd08ff7",
     "grade": false,
     "grade_id": "cell-4df747f2288e4e6b",
     "locked": true,
     "schema_version": 3,
     "solution": false,
     "task": false
    },
    "tags": []
   },
   "source": [
    "### Problem 3 (7 marks)\n",
    "\n",
    "Consider a mass-spring system with damping\n",
    "\n",
    "$$\n",
    "mx'' + cx' + kx = F_0 \\cos(\\omega t)\n",
    "$$\n",
    "\n",
    "The steady state response of the system (ie. the particular solution) is\n",
    "\n",
    "$$\n",
    "x_{ss}(t) = A \\cos(\\omega t - \\gamma)\n",
    "$$\n",
    "\n",
    "where the amplitude is given by\n",
    "\n",
    "$$\n",
    "A = \\frac{F_0}{m \\sqrt{(2 \\omega p)^2 + (\\omega_0^2 - \\omega^2)^2 }}\n",
    "$$\n",
    "\n",
    "$$\n",
    "p = \\frac{c}{2m} \\ , \\ \\ \\omega_0 = \\sqrt{\\frac{k}{m}} \\ , \\ \\ \\gamma = \\arctan\\left( \\frac{2 \\omega p}{\\omega_0^2 - \\omega^2}\\right)\n",
    "$$\n",
    "\n",
    "If $\\omega_0^2 - 2p^2 > 0$, then the maximum amplitude occurs when the forcing frequency is\n",
    "\n",
    "$$\n",
    "\\omega = \\sqrt{\\omega_0^2 - 2p^2}\n",
    "$$\n",
    "\n",
    "This is known as the practical resonant frequency. See [DiffyQs 2.6.2](https://www.jirka.org/diffyqs/html/forcedo_section.html).\n",
    "\n",
    "Let $m=12$, $c = 4$, $k = 80$ and $F_0 = 100$. Create a Python function called `A` which takes an input parameter `w` (which represents the forcing frequency $\\omega$) and returns the amplitude $A$. Compute the practical resonant frequency and save the result as `wmax`."
   ]
  },
  {
   "cell_type": "code",
   "execution_count": null,
   "id": "0d1263e6-9933-4925-82ff-619050f891d9",
   "metadata": {
    "deletable": false,
    "nbgrader": {
     "cell_type": "code",
     "checksum": "eef44573557ed9059f7d3e606bad6bed",
     "grade": false,
     "grade_id": "cell-51bbd162c23863fd",
     "locked": false,
     "schema_version": 3,
     "solution": true,
     "task": false
    },
    "tags": []
   },
   "outputs": [],
   "source": [
    "# YOUR CODE HERE\n",
    "A = lambda w: \n",
    "wmax = "
   ]
  },
  {
   "cell_type": "code",
   "execution_count": null,
   "id": "1c1fb55a-c25e-4f5c-8c4c-3de50f827fb9",
   "metadata": {
    "deletable": false,
    "editable": false,
    "nbgrader": {
     "cell_type": "code",
     "checksum": "7ccdc8520c90fadac024553d9c61db39",
     "grade": true,
     "grade_id": "cell-a4277b37c58f94dd",
     "locked": true,
     "points": 1,
     "schema_version": 3,
     "solution": false,
     "task": false
    },
    "tags": []
   },
   "outputs": [],
   "source": [
    "# Test 1: Check if A is defined as a function. (1 mark)\n",
    "assert callable(A) , \"A should be a function.\"\n",
    "print(\"Test 1: Success!\")"
   ]
  },
  {
   "cell_type": "code",
   "execution_count": null,
   "id": "ca05b29c-5e00-4a86-b4ea-5a08ce2c4b42",
   "metadata": {
    "deletable": false,
    "editable": false,
    "nbgrader": {
     "cell_type": "code",
     "checksum": "99b6a9c37b61ec9c7d851cd7c8c195cf",
     "grade": true,
     "grade_id": "cell-a295dc2eb2acca5b",
     "locked": true,
     "points": 1,
     "schema_version": 3,
     "solution": false,
     "task": false
    },
    "tags": []
   },
   "outputs": [],
   "source": [
    "# Test 2: Check if A(0) = F0/k. (1 mark)\n",
    "assert np.allclose(A(0),1.25) , \"A(0) should be 1.25.\"\n",
    "print(\"Test 2: Success!\")"
   ]
  },
  {
   "cell_type": "code",
   "execution_count": null,
   "id": "01379ff9-97a9-4473-b956-f6c547ec717a",
   "metadata": {
    "deletable": false,
    "editable": false,
    "nbgrader": {
     "cell_type": "code",
     "checksum": "b614e133d13e90972d3739c1017bfdf2",
     "grade": true,
     "grade_id": "cell-323f2019d171eaa8",
     "locked": true,
     "points": 1,
     "schema_version": 3,
     "solution": false,
     "task": false
    },
    "tags": []
   },
   "outputs": [],
   "source": [
    "# Test 3: Check if A is near 0 for large w. (1 mark)\n",
    "assert np.abs(A(10000)) < 1e-6 , \"A(10000) should be near 0.\"\n",
    "print(\"Test 3: Success!\")"
   ]
  },
  {
   "cell_type": "code",
   "execution_count": null,
   "id": "29d2743a-9bf1-4be1-b546-04ab14781aa9",
   "metadata": {
    "deletable": false,
    "editable": false,
    "nbgrader": {
     "cell_type": "code",
     "checksum": "950fb01e363c4d941979843e51117aa9",
     "grade": true,
     "grade_id": "cell-a176217d7839e737",
     "locked": true,
     "points": 1,
     "schema_version": 3,
     "solution": false,
     "task": false
    },
    "tags": []
   },
   "outputs": [],
   "source": [
    "# Test 4: Check if A returns correct value. (1 mark)\n",
    "assert np.allclose(A(1),1.468050548786759) , \"A(1) should be 1.468050548786759.\"\n",
    "print(\"Test 4: Success!\")"
   ]
  },
  {
   "cell_type": "code",
   "execution_count": null,
   "id": "641dd254-b79a-49b1-87b5-f932dad03f36",
   "metadata": {
    "deletable": false,
    "editable": false,
    "nbgrader": {
     "cell_type": "code",
     "checksum": "79b9073f86a5b497b1c161c0c8366280",
     "grade": true,
     "grade_id": "cell-2c8fc4f0be694350",
     "locked": true,
     "points": 1,
     "schema_version": 3,
     "solution": false,
     "task": false
    },
    "tags": []
   },
   "outputs": [],
   "source": [
    "# Test 5: Check if A returns correct values. This cell contains hidden tests. (1 mark)"
   ]
  },
  {
   "cell_type": "code",
   "execution_count": null,
   "id": "80990f0e-5593-400b-befe-8bcf370760f2",
   "metadata": {
    "deletable": false,
    "editable": false,
    "nbgrader": {
     "cell_type": "code",
     "checksum": "e8a7d77aa4bb243a06a860df0860e040",
     "grade": true,
     "grade_id": "cell-aa8fb6a14e62fd04",
     "locked": true,
     "points": 1,
     "schema_version": 3,
     "solution": false,
     "task": false
    },
    "tags": []
   },
   "outputs": [],
   "source": [
    "# Test 6: Check if wmax is between 2 and 3. (1 mark)\n",
    "assert wmax > 2 , \"wmax should be larger than 2.\"\n",
    "assert wmax < 3 , \"wmax should be less then 3.\"\n",
    "print(\"Test 6: Success!\")"
   ]
  },
  {
   "cell_type": "code",
   "execution_count": null,
   "id": "213b3ed9-4825-4543-a2a3-af805ffe4a5c",
   "metadata": {
    "deletable": false,
    "editable": false,
    "nbgrader": {
     "cell_type": "code",
     "checksum": "b3b1a4525d3dcdebee506f140b8407ea",
     "grade": true,
     "grade_id": "cell-b1b9ebb2d45bd115",
     "locked": true,
     "points": 1,
     "schema_version": 3,
     "solution": false,
     "task": false
    },
    "tags": []
   },
   "outputs": [],
   "source": [
    "# Test 7: Check if wmax is the correct value. This cell contains hidden tests. (1 mark)"
   ]
  },
  {
   "cell_type": "markdown",
   "id": "a5bdb5dc-b88a-4ba8-9d05-f46a3dcc756f",
   "metadata": {
    "deletable": false,
    "editable": false,
    "nbgrader": {
     "cell_type": "markdown",
     "checksum": "b5ee6201314129bba342e8fea95b94f6",
     "grade": false,
     "grade_id": "cell-03dd6440c8800e97",
     "locked": true,
     "schema_version": 3,
     "solution": false,
     "task": false
    }
   },
   "source": [
    "Plot the amplitude $A$ of the steady state response as a function of $\\omega$ over the interval $0 \\leq \\omega \\leq 8$, and plot the point corresponding to the amplitude of the practical resonant frequency."
   ]
  },
  {
   "cell_type": "code",
   "execution_count": null,
   "id": "65c5ce74-9f68-4dca-85d7-03f819e19eaf",
   "metadata": {
    "deletable": false,
    "editable": false,
    "nbgrader": {
     "cell_type": "code",
     "checksum": "b5ae06422bb155b173b7087c6ce95e31",
     "grade": false,
     "grade_id": "cell-07cddae071c26a0b",
     "locked": true,
     "schema_version": 3,
     "solution": false,
     "task": false
    },
    "tags": []
   },
   "outputs": [],
   "source": [
    "w3 = np.linspace(0,8,500)\n",
    "plt.plot(w3,A(w3))\n",
    "plt.plot(wmax,A(wmax),'r*')\n",
    "plt.grid(True)\n",
    "plt.show()"
   ]
  },
  {
   "cell_type": "markdown",
   "id": "83b142f5-172b-40ff-9b48-74d12ee740d9",
   "metadata": {
    "deletable": false,
    "editable": false,
    "nbgrader": {
     "cell_type": "markdown",
     "checksum": "41d3e200b01f724f11cb81379000e4eb",
     "grade": false,
     "grade_id": "cell-80f256e430406735",
     "locked": true,
     "schema_version": 3,
     "solution": false,
     "task": false
    },
    "tags": []
   },
   "source": [
    "## Problem 4 (5 marks)\n",
    "\n",
    "Consider a mass-spring system without damping\n",
    "\n",
    "$$\n",
    "m x'' + k x = F_0 \\cos(\\omega t)\n",
    "$$\n",
    "\n",
    "The general solution is\n",
    "\n",
    "$$\n",
    "x(t) = C_1 \\cos(\\omega_0 t) + C_2 \\sin(\\omega_0 t) + \\frac{F_0}{m (\\omega_0^2 - \\omega^2)} \\cos(\\omega t)\n",
    "$$\n",
    "\n",
    "where\n",
    "\n",
    "$$\n",
    "\\omega_0 = \\sqrt{\\frac{k}{m}}\n",
    "$$\n",
    "\n",
    "is the natural frequency. See [DiffyQs 2.6.1](https://www.jirka.org/diffyqs/html/forcedo_section.html).\n",
    "\n",
    "Let $m=2$, $k=10$ and $F_0 = 1$ with initial conditions $x(0)=x'(0)=0$. Find the solution $x(t,\\omega)$ as a function of both time $t$ and the forcing frequency $\\omega$ and save the solution as a Python function called `x4` with input parameters `t` and `w`."
   ]
  },
  {
   "cell_type": "code",
   "execution_count": null,
   "id": "81fa10b4-8af6-4b94-b88f-176408fe0094",
   "metadata": {
    "deletable": false,
    "nbgrader": {
     "cell_type": "code",
     "checksum": "5478d7f13bbec53daa4f488c419e415c",
     "grade": false,
     "grade_id": "cell-27b0f8e722953174",
     "locked": false,
     "schema_version": 3,
     "solution": true,
     "task": false
    },
    "tags": []
   },
   "outputs": [],
   "source": [
    "# YOUR CODE HERE\n",
    "x4 = lambda t,w: "
   ]
  },
  {
   "cell_type": "code",
   "execution_count": null,
   "id": "410245df-2663-4e29-81ea-47c2a15367b2",
   "metadata": {
    "deletable": false,
    "editable": false,
    "nbgrader": {
     "cell_type": "code",
     "checksum": "40606b1f55ea87f113896385feba896e",
     "grade": true,
     "grade_id": "cell-1b2986bfab7b7199",
     "locked": true,
     "points": 1,
     "schema_version": 3,
     "solution": false,
     "task": false
    },
    "tags": []
   },
   "outputs": [],
   "source": [
    "# Test 1: Check if x4 is defined as a function. (1 mark)\n",
    "assert callable(x4) , \"x4 should be a function.\"\n",
    "print(\"Test 1: Success!\")"
   ]
  },
  {
   "cell_type": "code",
   "execution_count": null,
   "id": "79129f3d-11e7-4e38-b61a-1cb268f083df",
   "metadata": {
    "deletable": false,
    "editable": false,
    "nbgrader": {
     "cell_type": "code",
     "checksum": "893f361ee75cd835b89ac10d6319c6b3",
     "grade": true,
     "grade_id": "cell-5d441daf1fb7b28c",
     "locked": true,
     "points": 1,
     "schema_version": 3,
     "solution": false,
     "task": false
    },
    "tags": []
   },
   "outputs": [],
   "source": [
    "# Test 2: Check if x4(0,2) = 0. (1 mark)\n",
    "assert np.allclose(x4(0,2),0) , \"x4(0,2) should be 0.\"\n",
    "print(\"Test 2: Success!\")"
   ]
  },
  {
   "cell_type": "code",
   "execution_count": null,
   "id": "67e70c3b-0762-433a-9aa7-44c9e0777622",
   "metadata": {
    "deletable": false,
    "editable": false,
    "nbgrader": {
     "cell_type": "code",
     "checksum": "b5a182e4f3a6b6b6d8ff161b90b958e4",
     "grade": true,
     "grade_id": "cell-f1312be20ff281e4",
     "locked": true,
     "points": 1,
     "schema_version": 3,
     "solution": false,
     "task": false
    },
    "tags": []
   },
   "outputs": [],
   "source": [
    "# Test 3: Check if x4 returns correct value. (1 mark)\n",
    "assert np.allclose(x4(1,1),0.14469689779066328) , \"x4(1,1) should be 0.14469689779066328.\"\n",
    "print(\"Test 3: Success!\")"
   ]
  },
  {
   "cell_type": "code",
   "execution_count": null,
   "id": "65f7e124-39a5-4443-97b5-330e5b251814",
   "metadata": {
    "deletable": false,
    "editable": false,
    "nbgrader": {
     "cell_type": "code",
     "checksum": "fa30d1b78a7348525971c56bf9bde4bd",
     "grade": true,
     "grade_id": "cell-c8241d79353c0a48",
     "locked": true,
     "points": 2,
     "schema_version": 3,
     "solution": false,
     "task": false
    },
    "tags": []
   },
   "outputs": [],
   "source": [
    "# Test 4: Check if x4 returns correct values. This cell contains hidden tests. (2 marks)"
   ]
  },
  {
   "cell_type": "markdown",
   "id": "ba426157-60ae-469a-a7ad-a6e0da92f14c",
   "metadata": {
    "deletable": false,
    "editable": false,
    "nbgrader": {
     "cell_type": "markdown",
     "checksum": "14b0ae5fdf148fa16d65f9869c515661",
     "grade": false,
     "grade_id": "cell-eab8f03656e2a4f4",
     "locked": true,
     "schema_version": 3,
     "solution": false,
     "task": false
    },
    "tags": []
   },
   "source": [
    "Plot the function `x4` for $\\omega = 1,2,3$ over the interval $0 \\leq t \\leq 50$."
   ]
  },
  {
   "cell_type": "code",
   "execution_count": null,
   "id": "3d6f6a70-5be5-4822-bdcf-0aed1cb8b3e4",
   "metadata": {
    "deletable": false,
    "editable": false,
    "nbgrader": {
     "cell_type": "code",
     "checksum": "298f08c57d60d96282e5de3343923e13",
     "grade": false,
     "grade_id": "cell-75d98fb22dd6c99b",
     "locked": true,
     "schema_version": 3,
     "solution": false,
     "task": false
    },
    "tags": []
   },
   "outputs": [],
   "source": [
    "t4 = np.linspace(0,50,1000)\n",
    "plt.plot(t4,x4(t4,1),label='w=1')\n",
    "plt.plot(t4,x4(t4,2),label='w=2')\n",
    "plt.plot(t4,x4(t4,3),label='w=3')\n",
    "plt.legend(), plt.grid(True)\n",
    "plt.show()"
   ]
  },
  {
   "cell_type": "markdown",
   "id": "a22bd9c1-fd71-49bd-a331-fd421a95fbf0",
   "metadata": {
    "deletable": false,
    "editable": false,
    "nbgrader": {
     "cell_type": "markdown",
     "checksum": "9ee47281239b4467d357a459980b99c2",
     "grade": false,
     "grade_id": "cell-34933056beca88b7",
     "locked": true,
     "schema_version": 3,
     "solution": false,
     "task": false
    }
   },
   "source": [
    "When the forcing frequency $\\omega$ is nearly equal to the natural frequency $\\omega_0$, the system displays \"beats\" where the complementary solution and particular solution produce both constructive and destructive interference. The natural frequency is $\\omega_0 = \\sqrt{5} \\approx 2.236$ and we see \"beats\" for $\\omega = 2$ in the example above."
   ]
  }
 ],
 "metadata": {
  "kernelspec": {
   "display_name": "Python 3 (ipykernel)",
   "language": "python",
   "name": "python3"
  },
  "language_info": {
   "codemirror_mode": {
    "name": "ipython",
    "version": 3
   },
   "file_extension": ".py",
   "mimetype": "text/x-python",
   "name": "python",
   "nbconvert_exporter": "python",
   "pygments_lexer": "ipython3",
   "version": "3.10.12"
  }
 },
 "nbformat": 4,
 "nbformat_minor": 5
}
