{
 "cells": [
  {
   "cell_type": "markdown",
   "id": "0914e795-ae7f-4118-8605-1574d1438cb3",
   "metadata": {
    "deletable": false,
    "editable": false,
    "nbgrader": {
     "cell_type": "markdown",
     "checksum": "cae2392c1d84615a318f807c75178c9e",
     "grade": false,
     "grade_id": "cell-24cff01d257e1dfb",
     "locked": true,
     "schema_version": 3,
     "solution": false,
     "task": false
    },
    "tags": []
   },
   "source": [
    "# MATH 215 Python Assignment 1\n",
    "\n",
    "## Instructions\n",
    "\n",
    "* Enter your solutions in cells with `YOUR CODE HERE` (all other cells are ignored by the autograder)\n",
    "* Run the tests to verify your work\n",
    "* Some cells contain hidden tests for grading\n",
    "* Do not import any pacakges (other than the standard packages in the cell below)\n",
    "* See [Python for UBC Math](https://ubcmath.github.io/python/) for instructions and examples\n",
    "* Submit the completed notebook to Canvas (download `.ipynb` file to your machine and then upload to Canvas)"
   ]
  },
  {
   "cell_type": "code",
   "execution_count": null,
   "id": "e281393a-7bd1-4d96-a76b-fb4e44ce67d2",
   "metadata": {
    "deletable": false,
    "editable": false,
    "nbgrader": {
     "cell_type": "code",
     "checksum": "1caabd3e5db2034939248ab42a78aa45",
     "grade": false,
     "grade_id": "cell-f01583f78562cddd",
     "locked": true,
     "schema_version": 3,
     "solution": false,
     "task": false
    },
    "tags": []
   },
   "outputs": [],
   "source": [
    "import numpy as np\n",
    "import matplotlib.pyplot as plt"
   ]
  },
  {
   "cell_type": "markdown",
   "id": "9c223eab-6c09-4971-aba1-a2a865c41151",
   "metadata": {
    "deletable": false,
    "editable": false,
    "nbgrader": {
     "cell_type": "markdown",
     "checksum": "32de26f992e686700fc11df2f40839f6",
     "grade": false,
     "grade_id": "cell-32f20f6460a5b481",
     "locked": true,
     "schema_version": 3,
     "solution": false,
     "task": false
    },
    "tags": []
   },
   "source": [
    "## Plotting Solutions and Slope Fields\n",
    "\n",
    "The slope field of the equation $y' = f(t,y)$ plots a short line of slope $f(t,y)$ at each point in a grid in the $ty$-plane. The function `slopefield` defined below plots the slope field for the function `f(t,y)` over the intervals `tinterval` and `yinterval` with step sizes `tstep` and `ystep`. See [Python for UBC Math](https://ubcmath.github.io/python/differential-equations/slope-fields.html) for more details and examples about plotting functions and slope fields."
   ]
  },
  {
   "cell_type": "code",
   "execution_count": null,
   "id": "18006c4f-8f3b-4d80-9a00-f9237210091a",
   "metadata": {
    "deletable": false,
    "editable": false,
    "nbgrader": {
     "cell_type": "code",
     "checksum": "ee30fe7941730f7f523714580cbaeb9c",
     "grade": false,
     "grade_id": "cell-23e1f7074c04097b",
     "locked": true,
     "schema_version": 3,
     "solution": false,
     "task": false
    },
    "tags": []
   },
   "outputs": [],
   "source": [
    "def slopefield(f,tinterval,yinterval,tstep,ystep):\n",
    "    t = np.arange(tinterval[0],tinterval[1],tstep)\n",
    "    y = np.arange(yinterval[0],yinterval[1],ystep)\n",
    "    L = 0.7*min(tstep,ystep)\n",
    "    for i in range(len(t)):\n",
    "        for j in range(len(y)):\n",
    "            slope = f(t[i],y[j])\n",
    "            theta = np.arctan(slope)\n",
    "            dy = L*np.sin(theta)\n",
    "            dt = L*np.cos(theta)\n",
    "            plt.plot([t[i],t[i] + dt],[y[j],y[j] + dy],'b')"
   ]
  },
  {
   "cell_type": "markdown",
   "id": "1b88648f-4308-4449-8aa3-80c5a9cac177",
   "metadata": {
    "deletable": false,
    "editable": false,
    "nbgrader": {
     "cell_type": "markdown",
     "checksum": "0333538607285269578a5bae43afd946",
     "grade": false,
     "grade_id": "cell-205920a63be82bec",
     "locked": true,
     "schema_version": 3,
     "solution": false,
     "task": false
    },
    "tags": []
   },
   "source": [
    "We don't need to know *exactly* how the function `slopefield` works or what it is doing. We just need to know how to use it.\n",
    "\n",
    "For example, let's plot the slope field for the equation $y' = -ty$ over the intervals $0 \\leq t \\leq 4$ and $-2 \\leq y \\leq 2$ with step size $0.2$ in both directions."
   ]
  },
  {
   "cell_type": "code",
   "execution_count": null,
   "id": "6efcd790-854d-45cf-90a9-68aefa3ab104",
   "metadata": {
    "deletable": false,
    "editable": false,
    "nbgrader": {
     "cell_type": "code",
     "checksum": "961eb84cf7e6ed53d8a562cd46e48b59",
     "grade": false,
     "grade_id": "cell-b2e6b06c69e96ff1",
     "locked": true,
     "schema_version": 3,
     "solution": false,
     "task": false
    },
    "tags": []
   },
   "outputs": [],
   "source": [
    "f = lambda t,y: -t*y\n",
    "slopefield(f,[0,4],[-2,2],0.2,0.2)"
   ]
  },
  {
   "cell_type": "markdown",
   "id": "9a4332eb-a53f-4472-b5ef-63565234f31a",
   "metadata": {
    "deletable": false,
    "editable": false,
    "nbgrader": {
     "cell_type": "markdown",
     "checksum": "f5b49abd55f9bed70acfa4dec9b0e1da",
     "grade": false,
     "grade_id": "cell-93bd4d1a1e233686",
     "locked": true,
     "schema_version": 3,
     "solution": false,
     "task": false
    },
    "tags": []
   },
   "source": [
    "Use separation of variables to find the general solution $y(t) = C e^{-t^2/2}$. Plot the unique solution $y(t) = e^{-t^2/2}$ which satisfies $y(0)=1$ along with the slope field. The first line in the cell below defines the function $y(t)$ as a Python function called `y`."
   ]
  },
  {
   "cell_type": "code",
   "execution_count": null,
   "id": "c8e91397-4640-4968-a52e-866e799189c1",
   "metadata": {
    "deletable": false,
    "editable": false,
    "nbgrader": {
     "cell_type": "code",
     "checksum": "6f1464ac1ece83a073ee59d7e256225a",
     "grade": false,
     "grade_id": "cell-7caa9a1bea81dfdd",
     "locked": true,
     "schema_version": 3,
     "solution": false,
     "task": false
    },
    "tags": []
   },
   "outputs": [],
   "source": [
    "y = lambda t: np.exp(-t**2/2)\n",
    "t = np.linspace(0,4,200)\n",
    "plt.plot(t,y(t),'r')\n",
    "f = lambda t,y: -t*y\n",
    "slopefield(f,[0,4],[-2,2],0.2,0.2)"
   ]
  },
  {
   "cell_type": "markdown",
   "id": "4f0d1a3c-c516-4132-8d87-338f34c187af",
   "metadata": {
    "deletable": false,
    "editable": false,
    "nbgrader": {
     "cell_type": "markdown",
     "checksum": "b1e902f091c976d217700a215b2b6de3",
     "grade": false,
     "grade_id": "cell-f1de2f84472cba47",
     "locked": true,
     "schema_version": 3,
     "solution": false,
     "task": false
    },
    "tags": []
   },
   "source": [
    "**What's the point?** The slope field shows the shape of all solutions of the differential equation $y' = f(t,y)$. We can verify our analytical solutions by plotting particular solutions in the slope field and observing that they agree. We can also make observations about solutions of equations without finding solutions by simply observing the slope field. See [Python for UBC Math](https://ubcmath.github.io/python/differential-equations/slope-fields.html) for more examples and details."
   ]
  },
  {
   "cell_type": "markdown",
   "id": "97fa426f-08a9-4415-871c-63d96f2bf561",
   "metadata": {
    "deletable": false,
    "editable": false,
    "nbgrader": {
     "cell_type": "markdown",
     "checksum": "0e5fb4a465be3dbacd4e96409c881a5c",
     "grade": false,
     "grade_id": "cell-05e4ab186beee8de",
     "locked": true,
     "schema_version": 3,
     "solution": false,
     "task": false
    },
    "tags": []
   },
   "source": [
    "## Problem 1 (4 marks)\n",
    "\n",
    "Find the unique solution of the equation $y' = y \\cos(\\pi t)$, $y(0) = 1$. Enter your solution as a Python function called `y1`."
   ]
  },
  {
   "cell_type": "code",
   "execution_count": null,
   "id": "6933033c-4e33-4e1f-9acc-9bcd6e04ea63",
   "metadata": {
    "deletable": false,
    "nbgrader": {
     "cell_type": "code",
     "checksum": "030ca7cc475972677a04e4ab558d1841",
     "grade": false,
     "grade_id": "cell-19bb70bfd66a9976",
     "locked": false,
     "schema_version": 3,
     "solution": true,
     "task": false
    },
    "tags": []
   },
   "outputs": [],
   "source": [
    "# YOUR CODE HERE\n",
    "y1 = lambda t: # Enter formula for y1(t)"
   ]
  },
  {
   "cell_type": "code",
   "execution_count": null,
   "id": "7193a0d4-e3db-4b1a-9f54-2c9b5beaeabf",
   "metadata": {
    "deletable": false,
    "editable": false,
    "nbgrader": {
     "cell_type": "code",
     "checksum": "eb40a8727f7defc64a74fb3ae1f41e65",
     "grade": true,
     "grade_id": "cell-0a7739570dd4c34c",
     "locked": true,
     "points": 1,
     "schema_version": 3,
     "solution": false,
     "task": false
    },
    "tags": []
   },
   "outputs": [],
   "source": [
    "# Test 1: Check if y1 is defined as a function. (1 mark)\n",
    "assert callable(y1) , \"y1 should be a Python function.\"\n",
    "print(\"Problem 1 Test 1: Success!\")"
   ]
  },
  {
   "cell_type": "code",
   "execution_count": null,
   "id": "8309d7e1-d4eb-4b86-a0e1-d91d001882b7",
   "metadata": {
    "deletable": false,
    "editable": false,
    "nbgrader": {
     "cell_type": "code",
     "checksum": "2bb46ac1e046521fed8fd69ad3e6ae06",
     "grade": true,
     "grade_id": "cell-8be89b8bd1358b3d",
     "locked": true,
     "points": 1,
     "schema_version": 3,
     "solution": false,
     "task": false
    },
    "tags": []
   },
   "outputs": [],
   "source": [
    "# Test 2: Check if y1(0) is equal to 1. (1 mark)\n",
    "assert np.allclose(y1(0),1) , \"The value y1(0) should be 1.\"\n",
    "print(\"Problem 1 Test 2: Success!\")"
   ]
  },
  {
   "cell_type": "code",
   "execution_count": null,
   "id": "f0060066-3a5d-48e6-a9ea-c57ff0af63d5",
   "metadata": {
    "deletable": false,
    "editable": false,
    "nbgrader": {
     "cell_type": "code",
     "checksum": "5120738ea5832f549e38274b8653631a",
     "grade": true,
     "grade_id": "cell-838adbe1a5009e6d",
     "locked": true,
     "points": 2,
     "schema_version": 3,
     "solution": false,
     "task": false
    },
    "tags": []
   },
   "outputs": [],
   "source": [
    "# Test 3: This cell contains hidden tests for grading. (2 marks)"
   ]
  },
  {
   "cell_type": "code",
   "execution_count": null,
   "id": "e4eb1be0-6120-4961-ab8a-b23fb64b3a7b",
   "metadata": {
    "deletable": false,
    "editable": false,
    "nbgrader": {
     "cell_type": "code",
     "checksum": "3e932fe87c8c33647dda73d9ee27140d",
     "grade": false,
     "grade_id": "cell-a775303421788df3",
     "locked": true,
     "schema_version": 3,
     "solution": false,
     "task": false
    },
    "tags": []
   },
   "outputs": [],
   "source": [
    "# Plot the function y1 with the slope field to verify.\n",
    "t = np.linspace(0,3,200)\n",
    "plt.plot(t,y1(t),'r')\n",
    "f = lambda t,y: y*np.cos(np.pi*t)\n",
    "slopefield(f,[0,3],[0,2],0.1,0.1)"
   ]
  },
  {
   "cell_type": "markdown",
   "id": "1f05f745-611d-4d73-9bae-b91da7c5db20",
   "metadata": {
    "deletable": false,
    "editable": false,
    "nbgrader": {
     "cell_type": "markdown",
     "checksum": "ad266d0a90dd8fad3b44a1a25c73aa79",
     "grade": false,
     "grade_id": "cell-c4b92228c48cbb76",
     "locked": true,
     "schema_version": 3,
     "solution": false,
     "task": false
    },
    "tags": []
   },
   "source": [
    "## Problem 2 (3 marks)\n",
    "\n",
    "Consider the first order differential equation $y' = \\cos(t) - \\sin(y)$. Define the right hand side of the equation as a Python function called `f2` and plot the slope field over the intervals $0 \\leq t \\leq 5$ and $0 \\leq y \\leq 5$ with step size $h=0.2$ in both directions."
   ]
  },
  {
   "cell_type": "code",
   "execution_count": null,
   "id": "e541bced-9238-4f53-9a29-66887a453d97",
   "metadata": {
    "deletable": false,
    "nbgrader": {
     "cell_type": "code",
     "checksum": "1c561be096942dee80fbd7446c43237d",
     "grade": false,
     "grade_id": "cell-f7b9bf1a6d76fecc",
     "locked": false,
     "schema_version": 3,
     "solution": true,
     "task": false
    },
    "tags": []
   },
   "outputs": [],
   "source": [
    "# YOUR CODE HERE\n",
    "f2 = "
   ]
  },
  {
   "cell_type": "code",
   "execution_count": null,
   "id": "47c590c7-fac2-43c7-aa57-4d5297b6e6d2",
   "metadata": {
    "deletable": false,
    "editable": false,
    "nbgrader": {
     "cell_type": "code",
     "checksum": "1f0a347ff566b418e6c6dfd6e3c97716",
     "grade": true,
     "grade_id": "cell-da2e998ee96c74ce",
     "locked": true,
     "points": 1,
     "schema_version": 3,
     "solution": false,
     "task": false
    },
    "tags": []
   },
   "outputs": [],
   "source": [
    "# Test 1: Check if f2 is defined as a function. (1 mark)\n",
    "assert callable(f2) , \"f2 should be a Python function.\"\n",
    "print(\"Problem 2 Test 1: Success!\")"
   ]
  },
  {
   "cell_type": "code",
   "execution_count": null,
   "id": "d755a3b7-6933-4c6e-b123-3c2f403f4529",
   "metadata": {
    "deletable": false,
    "editable": false,
    "nbgrader": {
     "cell_type": "code",
     "checksum": "47df7a766cd199c479bb79551f54e0af",
     "grade": true,
     "grade_id": "cell-a03f89545bd8a5ba",
     "locked": true,
     "points": 1,
     "schema_version": 3,
     "solution": false,
     "task": false
    },
    "tags": []
   },
   "outputs": [],
   "source": [
    "# Test 2: Check if f2(0,0) is equal to 1, and if f2(pi/2,pi/2) is equal to -1. (1 mark)\n",
    "assert np.allclose(f2(0,0),1) , \"The value f2(0,0) should be 1.\"\n",
    "assert np.allclose(f2(np.pi/2,np.pi/2),-1) , \"The value f2(pi/2,pi/2) should be -1.\"\n",
    "print(\"Problem 2 Test 2: Success!\")"
   ]
  },
  {
   "cell_type": "code",
   "execution_count": null,
   "id": "78d8797a-7494-4ffa-acd0-02008e68ac61",
   "metadata": {
    "deletable": false,
    "editable": false,
    "nbgrader": {
     "cell_type": "code",
     "checksum": "484630ad2d684ae6781c71daae89ec6d",
     "grade": true,
     "grade_id": "cell-cb36cfe408992607",
     "locked": true,
     "points": 1,
     "schema_version": 3,
     "solution": false,
     "task": false
    },
    "tags": []
   },
   "outputs": [],
   "source": [
    "# Test 3: This cell contains hidden tests for grading. (1 mark)"
   ]
  },
  {
   "cell_type": "markdown",
   "id": "c447f3a9-a234-4e4c-addc-89935a377bf2",
   "metadata": {
    "deletable": false,
    "editable": false,
    "nbgrader": {
     "cell_type": "markdown",
     "checksum": "355ee2f0884477db29b8ed271a9a12f5",
     "grade": false,
     "grade_id": "cell-e4bb065561660867",
     "locked": true,
     "schema_version": 3,
     "solution": false,
     "task": false
    },
    "tags": []
   },
   "source": [
    "## Problem 3 (3 marks)\n",
    "\n",
    "Consider again the equation $y' = \\cos(t) - \\sin(y)$ in the previous problem. Note that the equation is neither separable nor linear and so we do not have any method to find solutions analytically. Plot the slope field over different intervals and then determine if the statements below are True or False.\n",
    "\n",
    "(a) If $y(t)$ is any solution of $y' = \\cos(t) - \\sin(y)$ such that $y(0) > 0$ then $y(t) > 0$ for all $t > 0$. Enter your response as `True` or `False` and save as `observation3a`.\n",
    "\n",
    "(b) If $y(t)$ is any solution of $y' = \\cos(t) - \\sin(y)$ such that $y(5) > 0$ then $y(0) > 0$. Enter your response as `True` or `False` and save as `observation3b`."
   ]
  },
  {
   "cell_type": "code",
   "execution_count": null,
   "id": "9771d1a0-4c19-4405-a8d0-58057b3b1570",
   "metadata": {
    "deletable": false,
    "nbgrader": {
     "cell_type": "code",
     "checksum": "b27d92cec0ae25ccabbe6e7dfbbbe91e",
     "grade": false,
     "grade_id": "cell-80b2de1f76bbceb6",
     "locked": false,
     "schema_version": 3,
     "solution": true,
     "task": false
    },
    "tags": []
   },
   "outputs": [],
   "source": [
    "# YOUR CODE HERE\n",
    "observation3a = \n",
    "observation3b = "
   ]
  },
  {
   "cell_type": "code",
   "execution_count": null,
   "id": "d05594dc-7d98-4251-a270-bed368c83183",
   "metadata": {
    "deletable": false,
    "editable": false,
    "nbgrader": {
     "cell_type": "code",
     "checksum": "d58445556eba8b76615670b4b80e5375",
     "grade": true,
     "grade_id": "cell-bc40936164dac6fd",
     "locked": true,
     "points": 1,
     "schema_version": 3,
     "solution": false,
     "task": false
    },
    "tags": []
   },
   "outputs": [],
   "source": [
    "# Test 1: Check if observation3a is True or False. (1 mark)\n",
    "assert isinstance(observation3a,bool) , \"observation3a should be either True or False.\"\n",
    "assert isinstance(observation3b,bool) , \"observation3b should be either True or False.\"\n",
    "print(\"Problem 3 Test 1: Success!\")"
   ]
  },
  {
   "cell_type": "code",
   "execution_count": null,
   "id": "a92be66d-5bde-4504-9731-12dc32cfde7b",
   "metadata": {
    "deletable": false,
    "editable": false,
    "nbgrader": {
     "cell_type": "code",
     "checksum": "7976ebbe92ed9a0084677a219838ba41",
     "grade": true,
     "grade_id": "cell-1c9cf1929c785496",
     "locked": true,
     "points": 1,
     "schema_version": 3,
     "solution": false,
     "task": false
    },
    "tags": []
   },
   "outputs": [],
   "source": [
    "# Test 2: This cell contains hidden tests for grading. (1 mark)"
   ]
  },
  {
   "cell_type": "code",
   "execution_count": null,
   "id": "dbf5d67c-20fa-4db0-88da-3d1b3888f5db",
   "metadata": {
    "deletable": false,
    "editable": false,
    "nbgrader": {
     "cell_type": "code",
     "checksum": "53cdcc25def24e6954f6b5605c43e76d",
     "grade": true,
     "grade_id": "cell-6309009e8fe67716",
     "locked": true,
     "points": 1,
     "schema_version": 3,
     "solution": false,
     "task": false
    },
    "tags": []
   },
   "outputs": [],
   "source": [
    "# Test 3: This cell contains hidden tests for grading. (1 mark)"
   ]
  },
  {
   "cell_type": "markdown",
   "id": "eb562eba-7cdd-4f6e-ab5f-dec3bb1107c4",
   "metadata": {
    "deletable": false,
    "editable": false,
    "nbgrader": {
     "cell_type": "markdown",
     "checksum": "7b7d15ce6812435f5b5f3672484ddb51",
     "grade": false,
     "grade_id": "cell-4ada2e81c266bcee",
     "locked": true,
     "schema_version": 3,
     "solution": false,
     "task": false
    },
    "tags": []
   },
   "source": [
    "## Problem 4 (4 marks)\n",
    "\n",
    "Find the unique solution of the equation $y' = 1 - y^2$, $y(0)=0$. Plot the solution over the interval $0 \\leq t \\leq 3$.\n",
    "\n",
    "In particular, create a vector of $200$ equally spaced $t$ values from $t=0$ to $t=3$. Save the vector as `t4`.\n",
    "\n",
    "Create the vector of corresponding $y$ values of the unique solution. Save the vector as `y4`."
   ]
  },
  {
   "cell_type": "code",
   "execution_count": null,
   "id": "abd8c108-a869-4862-8be5-77a785b6c6dd",
   "metadata": {
    "deletable": false,
    "nbgrader": {
     "cell_type": "code",
     "checksum": "b267a58f9401cc35d9056afb6b14a998",
     "grade": false,
     "grade_id": "cell-d195417d94d6dcc4",
     "locked": false,
     "schema_version": 3,
     "solution": true,
     "task": false
    },
    "tags": []
   },
   "outputs": [],
   "source": [
    "# YOUR CODE HERE\n",
    "t4 = \n",
    "y4 = "
   ]
  },
  {
   "cell_type": "code",
   "execution_count": null,
   "id": "a06e5faa-1e54-4f8b-b415-1c030202888e",
   "metadata": {
    "deletable": false,
    "editable": false,
    "nbgrader": {
     "cell_type": "code",
     "checksum": "b98aa915b08bb33693be0bcffd9a3705",
     "grade": true,
     "grade_id": "cell-7e7c5ce3f4d2848d",
     "locked": true,
     "points": 1,
     "schema_version": 3,
     "solution": false,
     "task": false
    },
    "tags": []
   },
   "outputs": [],
   "source": [
    "# Test 1: Check if t4 and y4 are NumPy arrays. (1 mark)\n",
    "assert isinstance(t4,np.ndarray) , \"t4 should be a NumPy array constructed by np.linspace.\"\n",
    "assert isinstance(y4,np.ndarray) , \"y4 should be a NumPy array.\"\n",
    "print(\"Problem 4 Test 1: Success!\")"
   ]
  },
  {
   "cell_type": "code",
   "execution_count": null,
   "id": "4d7a78df-e1e4-44f4-9217-491c9811546c",
   "metadata": {
    "deletable": false,
    "editable": false,
    "nbgrader": {
     "cell_type": "code",
     "checksum": "7553f1a76263f15851c01e1544426fe3",
     "grade": true,
     "grade_id": "cell-0ca3619c7d0e4a9b",
     "locked": true,
     "points": 1,
     "schema_version": 3,
     "solution": false,
     "task": false
    },
    "tags": []
   },
   "outputs": [],
   "source": [
    "# Test 2: Check if t4 has the correct values. (1 mark)\n",
    "assert len(t4) == 200 , \"t4 should have length 200.\"\n",
    "assert np.allclose(t4[0],0) , \"First entry of t4 should be 0.\"\n",
    "assert np.allclose(t4[-1],3) , \"Last entry of t4 should be 3.\"\n",
    "print(\"Problem 4 Test 2: Success!\")"
   ]
  },
  {
   "cell_type": "code",
   "execution_count": null,
   "id": "56c421d4-3648-40b7-858d-6960466cdd76",
   "metadata": {
    "deletable": false,
    "editable": false,
    "nbgrader": {
     "cell_type": "code",
     "checksum": "998719719128bd28cb39c3acf22256f6",
     "grade": true,
     "grade_id": "cell-ad56af915a54542f",
     "locked": true,
     "points": 1,
     "schema_version": 3,
     "solution": false,
     "task": false
    },
    "tags": []
   },
   "outputs": [],
   "source": [
    "# Test 3: Check if y4 has the correct values. (1 mark)\n",
    "assert len(y4) == 200 , \"y4 should have length 200.\"\n",
    "assert np.allclose(y4[0],0) , \"First entry of y4 should be 0.\"\n",
    "assert np.allclose(y4[-1],0.9950547536867305) , \"Last entry of y4 should be 0.9950547536867305.\"\n",
    "print(\"Problem 4 Test 3: Success!\")"
   ]
  },
  {
   "cell_type": "code",
   "execution_count": null,
   "id": "210cdc36-404c-42d0-a675-fe01b099e319",
   "metadata": {
    "deletable": false,
    "editable": false,
    "nbgrader": {
     "cell_type": "code",
     "checksum": "a3a351f55fb4d4c7d72f40f940f67075",
     "grade": true,
     "grade_id": "cell-a631d7b6ed6cf7e8",
     "locked": true,
     "points": 1,
     "schema_version": 3,
     "solution": false,
     "task": false
    },
    "tags": []
   },
   "outputs": [],
   "source": [
    "# Test 4: This cell contains hidden tests for grading. (1 marks)"
   ]
  },
  {
   "cell_type": "code",
   "execution_count": null,
   "id": "2ea8bcf7-83ad-45e1-8663-2dc35ff953cf",
   "metadata": {
    "deletable": false,
    "editable": false,
    "nbgrader": {
     "cell_type": "code",
     "checksum": "db3e564b7543913b39e63d7bf549ce48",
     "grade": false,
     "grade_id": "cell-4616710cd61a99a7",
     "locked": true,
     "schema_version": 3,
     "solution": false,
     "task": false
    },
    "tags": []
   },
   "outputs": [],
   "source": [
    "# Plot the values y4 with the slope field to verify.\n",
    "plt.plot(t4,y4,'r')\n",
    "f = lambda t,y: 1 - y**2\n",
    "slopefield(f,[0,3],[-2,2],0.2,0.2)"
   ]
  }
 ],
 "metadata": {
  "kernelspec": {
   "display_name": "Python 3 (ipykernel)",
   "language": "python",
   "name": "python3"
  },
  "language_info": {
   "codemirror_mode": {
    "name": "ipython",
    "version": 3
   },
   "file_extension": ".py",
   "mimetype": "text/x-python",
   "name": "python",
   "nbconvert_exporter": "python",
   "pygments_lexer": "ipython3",
   "version": "3.10.12"
  }
 },
 "nbformat": 4,
 "nbformat_minor": 5
}
