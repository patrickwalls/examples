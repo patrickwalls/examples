{
 "cells": [
  {
   "cell_type": "markdown",
   "id": "4c952941-dc64-417b-97c5-81260af1706c",
   "metadata": {
    "deletable": false,
    "editable": false,
    "nbgrader": {
     "cell_type": "markdown",
     "checksum": "3513a4ec38407e6359e73fe7b8da254c",
     "grade": false,
     "grade_id": "cell-b62d6214c9668b14",
     "locked": true,
     "schema_version": 3,
     "solution": false,
     "task": false
    },
    "tags": []
   },
   "source": [
    "# MATH 215 Python Assignment 5\n",
    "\n",
    "## Instructions\n",
    "\n",
    "* Enter your solutions in cells with `YOUR CODE HERE` (all other cells are ignored by the autograder)\n",
    "* Run the tests to verify your work (and note some cells contain hidden tests)\n",
    "* Hidden tests only run during autograding\n",
    "* Do not import any pacakges (other than the standard packages in the cell below)\n",
    "* See [Python for UBC Math](https://ubcmath.github.io/python/) for instructions and examples\n",
    "* Submit the completed notebook to Canvas (download `.ipynb` file to your machine and then upload to Canvas)"
   ]
  },
  {
   "cell_type": "code",
   "execution_count": null,
   "id": "4e5c6fb1-8b59-4753-8504-1c706bd4fb76",
   "metadata": {
    "deletable": false,
    "editable": false,
    "nbgrader": {
     "cell_type": "code",
     "checksum": "cddef1b0fd8072b8b72d1ec09c47996e",
     "grade": false,
     "grade_id": "cell-324adce3f2706c56",
     "locked": true,
     "schema_version": 3,
     "solution": false,
     "task": false
    },
    "tags": []
   },
   "outputs": [],
   "source": [
    "import numpy as np\n",
    "import matplotlib.pyplot as plt\n",
    "import scipy.linalg as la\n",
    "from scipy.integrate import odeint\n",
    "from scipy.optimize import fsolve"
   ]
  },
  {
   "cell_type": "markdown",
   "id": "a8988562-7969-4d39-bb7b-ca36885c7591",
   "metadata": {
    "deletable": false,
    "editable": false,
    "nbgrader": {
     "cell_type": "markdown",
     "checksum": "25461c16e5275ee4746f1052eade07ff",
     "grade": false,
     "grade_id": "cell-b96ab385f071b13e",
     "locked": true,
     "schema_version": 3,
     "solution": false,
     "task": false
    },
    "tags": []
   },
   "source": [
    "## Nullclines\n",
    "\n",
    "Consider a 2-dimensional autonomous first order system of differential equations\n",
    "\n",
    "$$\n",
    "\\begin{align*}\n",
    "x' &= f(x,y) \\\\\n",
    "y' &= g(x,y)\n",
    "\\end{align*}\n",
    "$$\n",
    "\n",
    "The **$x$-nullcline** is the curve defined by the equation $x' = 0$. Equivalently, the $x$-nullcline is the curve $f(x,y) = 0$. Any solution of the system has zero slope in the $x$-direction when it crosses the the $x$-nullcline. In other words, a solution is vertical when it crosses the $x$-nullcline.\n",
    "\n",
    "The **$y$-nullcline** is the curve defined by the equation $y' = 0$. Equivalently, the $y$-nullcline is the curve $g(x,y) = 0$. Any solution of the system has zero slope in the $y$-direction when it crosses the the $y$-nullcline. In other words, a solution is horizontal when it crosses the $y$-nullcline.\n",
    "\n",
    "The function `nullclines` takes input parameters `f`, `g`, `xinterval` and `yinterval` where:\n",
    "\n",
    "* `f` is a Python function which represents the equation `x' = f(x,y)`\n",
    "* `g` is a Python function which represents the equation `y' = g(x,y)`\n",
    "* `xinterval` defines the interval $x \\in [x_0,x_1]$ of the plot\n",
    "* `yinterval` defines the interval $y \\in [y_0,y_1]$ of the plot\n",
    "\n",
    "The function `nullclines` plots the nullclines $f(x,y) = 0$ and $g(x,y) = 0$ in the specified intervals."
   ]
  },
  {
   "cell_type": "code",
   "execution_count": null,
   "id": "a510f6d8-c03a-4540-9245-04d81b02926e",
   "metadata": {
    "deletable": false,
    "editable": false,
    "nbgrader": {
     "cell_type": "code",
     "checksum": "5d36303f12afbe94add7b4c2673a2f30",
     "grade": false,
     "grade_id": "cell-6cf8546a76dc6077",
     "locked": true,
     "schema_version": 3,
     "solution": false,
     "task": false
    },
    "tags": []
   },
   "outputs": [],
   "source": [
    "def nullclines(f,g,xinterval,yinterval):\n",
    "    x0,x1 = xinterval\n",
    "    y0,y1 = yinterval\n",
    "    x = np.linspace(x0,x1,int(100*(x1 - x0)))\n",
    "    y = np.linspace(y0,y1,int(100*(y1 - y0)))\n",
    "    X,Y = np.meshgrid(x,y)\n",
    "    U = f(X,Y)\n",
    "    V = g(X,Y)\n",
    "    plt.contour(X,Y,U,levels=0,colors='r')\n",
    "    plt.contour(X,Y,V,levels=0,colors='b')\n",
    "    plt.title(\"$x'=0$ (red) and y'=0 (blue)\")\n",
    "    plt.grid(True)"
   ]
  },
  {
   "cell_type": "markdown",
   "id": "a1a282f1-a46c-4e32-a48f-1f1709fbdf5b",
   "metadata": {
    "deletable": false,
    "editable": false,
    "nbgrader": {
     "cell_type": "markdown",
     "checksum": "93971433f7ea6db128fa1ef380336f13",
     "grade": false,
     "grade_id": "cell-f1fc4f23af6bf17d",
     "locked": true,
     "schema_version": 3,
     "solution": false,
     "task": false
    },
    "tags": []
   },
   "source": [
    "For example, plot the nullclines of the system\n",
    "\n",
    "$$\n",
    "\\begin{align*}\n",
    "x' &= x^2 + y^2 - 1 \\\\\n",
    "y' &= x^2 - y\n",
    "\\end{align*}\n",
    "$$\n",
    "\n",
    "over the intervals $-2 \\leq x \\leq 2$ and $-1.5 \\leq y \\leq 1.5$."
   ]
  },
  {
   "cell_type": "code",
   "execution_count": null,
   "id": "004059a3-fd0a-4426-823d-49cddbed6538",
   "metadata": {
    "deletable": false,
    "editable": false,
    "nbgrader": {
     "cell_type": "code",
     "checksum": "ea7e06d9f827da138f5686551313e522",
     "grade": false,
     "grade_id": "cell-1acd5f9d2b5b75ce",
     "locked": true,
     "schema_version": 3,
     "solution": false,
     "task": false
    },
    "tags": []
   },
   "outputs": [],
   "source": [
    "f = lambda x,y: x**2 + y**2 - 1\n",
    "g = lambda x,y: x**2 - y\n",
    "\n",
    "nullclines(f,g,[-2,2],[-1.5,1.5])"
   ]
  },
  {
   "cell_type": "markdown",
   "id": "5e109617-4a97-4583-9902-d1c644c201c4",
   "metadata": {
    "deletable": false,
    "editable": false,
    "nbgrader": {
     "cell_type": "markdown",
     "checksum": "622b19574b0a29a7cfb7f6d2512e56b4",
     "grade": false,
     "grade_id": "cell-69705313be720317",
     "locked": true,
     "schema_version": 3,
     "solution": false,
     "task": false
    }
   },
   "source": [
    "## Critical Points\n",
    "\n",
    "A critical point $(x^*,y^*)$ of the system satisfies $f(x^*,y^*) = 0$ and $g(x^*,y^*) = 0$. In other words, a critical point is a point of intersection of the nullclines.\n",
    "\n",
    "The function `critical` takes input parameters `f`, `g`, `x0` and `y0` where:\n",
    "\n",
    "* `f` is a Python function which represents the equation `x' = f(x,y)`\n",
    "* `g` is a Python function which represents the equation `y' = g(x,y)`\n",
    "* `x0` is an initial guess of the $x$ coordinate of a critical point\n",
    "* `y0` is an initial guess of the $y$ coordinate of a critical point\n",
    "\n",
    "The function `critical` computes an approximation of a critical point $(x^*,y^*)$ near the point $(x_0,y_0)$."
   ]
  },
  {
   "cell_type": "code",
   "execution_count": null,
   "id": "56e81bb4-7e99-4d52-94e3-b2ef7e5b6580",
   "metadata": {
    "deletable": false,
    "editable": false,
    "nbgrader": {
     "cell_type": "code",
     "checksum": "9fe60597af42543d58b258b8f6986d28",
     "grade": false,
     "grade_id": "cell-1b90ec65a98dfd1e",
     "locked": true,
     "schema_version": 3,
     "solution": false,
     "task": false
    },
    "tags": []
   },
   "outputs": [],
   "source": [
    "def critical(f,g,x0,y0):\n",
    "    F = lambda x: np.array([f(x[0],x[1]),g(x[0],x[1])])\n",
    "    x,y = fsolve(F,[x0,y0])\n",
    "    return x,y"
   ]
  },
  {
   "cell_type": "markdown",
   "id": "93e895d8-c92c-4ab9-ae10-fb7c5b8a23b0",
   "metadata": {
    "deletable": false,
    "editable": false,
    "nbgrader": {
     "cell_type": "markdown",
     "checksum": "aa0b6c0ebe5de0df5f1804e3b41e5a47",
     "grade": false,
     "grade_id": "cell-270e80cb453bce6a",
     "locked": true,
     "schema_version": 3,
     "solution": false,
     "task": false
    },
    "tags": []
   },
   "source": [
    "The plot of the nullclines in the previous example shows that there are 2 critical points.\n",
    "\n",
    "Approximate the critical point near $(0.7,0.6)$."
   ]
  },
  {
   "cell_type": "code",
   "execution_count": null,
   "id": "ea64749e-0486-4104-9723-6c3d1f271a32",
   "metadata": {
    "deletable": false,
    "editable": false,
    "nbgrader": {
     "cell_type": "code",
     "checksum": "cbc3c37093db3ca5b7a16d6ea4a5008f",
     "grade": false,
     "grade_id": "cell-e2f8051e6d057c0f",
     "locked": true,
     "schema_version": 3,
     "solution": false,
     "task": false
    },
    "tags": []
   },
   "outputs": [],
   "source": [
    "f = lambda x,y: x**2 + y**2 - 1\n",
    "g = lambda x,y: x**2 - y\n",
    "\n",
    "x1,y1 = critical(f,g,0.7,0.6)\n",
    "print(x1,y1)"
   ]
  },
  {
   "cell_type": "markdown",
   "id": "56d7ad35-d8ef-4b51-bea9-8d48c709c8aa",
   "metadata": {
    "deletable": false,
    "editable": false,
    "nbgrader": {
     "cell_type": "markdown",
     "checksum": "0d182568e9a6c2d728c44ee7cad7db5b",
     "grade": false,
     "grade_id": "cell-1b68fe14b8f369b0",
     "locked": true,
     "schema_version": 3,
     "solution": false,
     "task": false
    }
   },
   "source": [
    "Approximate the critical point near $(-0.7,0.6)$."
   ]
  },
  {
   "cell_type": "code",
   "execution_count": null,
   "id": "8880f0c4-a80b-42d6-ab3c-0376a86ff15a",
   "metadata": {
    "deletable": false,
    "editable": false,
    "nbgrader": {
     "cell_type": "code",
     "checksum": "e5587e7535cabcd9cb3e42996debfe44",
     "grade": false,
     "grade_id": "cell-f198340366586e7d",
     "locked": true,
     "schema_version": 3,
     "solution": false,
     "task": false
    },
    "tags": []
   },
   "outputs": [],
   "source": [
    "x2,y2 = critical(f,g,-0.7,0.5)\n",
    "print(x2,y2)"
   ]
  },
  {
   "cell_type": "markdown",
   "id": "284e4991-9eae-4c8e-8c07-c0ebf1e4e989",
   "metadata": {
    "deletable": false,
    "editable": false,
    "nbgrader": {
     "cell_type": "markdown",
     "checksum": "473439f855e4fca5b4c4055da404bc66",
     "grade": false,
     "grade_id": "cell-f83b0e19f308da0d",
     "locked": true,
     "schema_version": 3,
     "solution": false,
     "task": false
    },
    "tags": []
   },
   "source": [
    "## Jacobians\n",
    "\n",
    "The Jacobian of the system at a critical $(x^*,y^*)$ is given by\n",
    "\n",
    "$$\n",
    "J = \\begin{bmatrix} f_x(x^*,y^*) & f_y(x^*,y^*) \\\\ g_x(x^*,y^*) & g_y(x^*,y^*) \\end{bmatrix}\n",
    "$$\n",
    "\n",
    "For example, the general formula for the Jacobian from the previous example is\n",
    "\n",
    "$$\n",
    "J = \\begin{bmatrix} 2x^* & 2y^* \\\\ 2x^* & -1 \\end{bmatrix}\n",
    "$$\n",
    "\n",
    "Get the $x$ and $y$ coordinates critical point near $(0.7,0.6)$."
   ]
  },
  {
   "cell_type": "code",
   "execution_count": null,
   "id": "2d965245-5a23-4fa0-b47c-6d2d7b6d5a53",
   "metadata": {
    "deletable": false,
    "editable": false,
    "nbgrader": {
     "cell_type": "code",
     "checksum": "48ea3b1459e1f4ab7999e4cdfda1c005",
     "grade": false,
     "grade_id": "cell-1a16608943742259",
     "locked": true,
     "schema_version": 3,
     "solution": false,
     "task": false
    },
    "tags": []
   },
   "outputs": [],
   "source": [
    "print(x1,y1)"
   ]
  },
  {
   "cell_type": "markdown",
   "id": "2266918c-e1a5-464b-9063-89f8469c1b4c",
   "metadata": {
    "deletable": false,
    "editable": false,
    "nbgrader": {
     "cell_type": "markdown",
     "checksum": "ce9f395592d999da29de085bb828cc17",
     "grade": false,
     "grade_id": "cell-6861d7de9d37991e",
     "locked": true,
     "schema_version": 3,
     "solution": false,
     "task": false
    }
   },
   "source": [
    "Create the Jacobian matrix."
   ]
  },
  {
   "cell_type": "code",
   "execution_count": null,
   "id": "99761a05-bf74-4fcc-a4c6-4d04e51f5982",
   "metadata": {
    "deletable": false,
    "editable": false,
    "nbgrader": {
     "cell_type": "code",
     "checksum": "d6fa73159d9f3f661d5b4dea53934c9a",
     "grade": false,
     "grade_id": "cell-145fc4f3abc0f774",
     "locked": true,
     "schema_version": 3,
     "solution": false,
     "task": false
    },
    "tags": []
   },
   "outputs": [],
   "source": [
    "J1 = np.array([[2*x1,2*y1],[2*x1,-1]])\n",
    "print(J1)"
   ]
  },
  {
   "cell_type": "markdown",
   "id": "3ae00c38-5f9b-497d-be63-8fbe351170df",
   "metadata": {
    "deletable": false,
    "editable": false,
    "nbgrader": {
     "cell_type": "markdown",
     "checksum": "e60c6a32a97dfffc9ff674bec8de7054",
     "grade": false,
     "grade_id": "cell-9bb4ed8aa66a736e",
     "locked": true,
     "schema_version": 3,
     "solution": false,
     "task": false
    }
   },
   "source": [
    "Compute the eigenvalues and eigenvectors."
   ]
  },
  {
   "cell_type": "code",
   "execution_count": null,
   "id": "90e8a7d4-dabf-41bc-afdc-ec763932b843",
   "metadata": {
    "deletable": false,
    "editable": false,
    "nbgrader": {
     "cell_type": "code",
     "checksum": "fec4b00f60ea4cd31214195efb2fa3f3",
     "grade": false,
     "grade_id": "cell-8f81c4cc55a7294b",
     "locked": true,
     "schema_version": 3,
     "solution": false,
     "task": false
    },
    "tags": []
   },
   "outputs": [],
   "source": [
    "evals1,evecs1 = la.eig(J1)\n",
    "print(evals1)"
   ]
  },
  {
   "cell_type": "markdown",
   "id": "c932a3b7-a4c0-486d-a814-4cdd76455354",
   "metadata": {
    "deletable": false,
    "editable": false,
    "nbgrader": {
     "cell_type": "markdown",
     "checksum": "d4004373bca0c68985a0e483f708d78e",
     "grade": false,
     "grade_id": "cell-0f173cad3b77ce63",
     "locked": true,
     "schema_version": 3,
     "solution": false,
     "task": false
    }
   },
   "source": [
    "Note that the function `scipy.linalg.eig` always returns the eigenvalues as complex numbers. We need to interpret the output. In this case, the imginary parts are 0 therefore the eiganvalues are real and have opposite sign. Therefore the critical point near $(0.7,0.6)$ is a saddle point."
   ]
  },
  {
   "cell_type": "markdown",
   "id": "08cd8394-8917-4ca9-abfc-f2dcc8cd412e",
   "metadata": {
    "deletable": false,
    "editable": false,
    "nbgrader": {
     "cell_type": "markdown",
     "checksum": "e0048f10f909b066f7af82d56ca939d3",
     "grade": false,
     "grade_id": "cell-6c8b606137b7acd5",
     "locked": true,
     "schema_version": 3,
     "solution": false,
     "task": false
    }
   },
   "source": [
    "Now compute eigenvalues of the Jacobian at the critical point near $(-0.7,0.6)$."
   ]
  },
  {
   "cell_type": "code",
   "execution_count": null,
   "id": "5c73034c-9d0c-4a55-8baa-913334fc2149",
   "metadata": {
    "deletable": false,
    "editable": false,
    "nbgrader": {
     "cell_type": "code",
     "checksum": "c548adb78c34397da25f4ef7409016d3",
     "grade": false,
     "grade_id": "cell-b16c395bf36e4bfa",
     "locked": true,
     "schema_version": 3,
     "solution": false,
     "task": false
    },
    "tags": []
   },
   "outputs": [],
   "source": [
    "J2 = np.array([[2*x2,2*y2],[2*x2,-1]])\n",
    "evals2,evecs2 = la.eig(J2)\n",
    "print(evals2)"
   ]
  },
  {
   "cell_type": "markdown",
   "id": "00e92dd5-1afe-4267-9188-dd6e679c71bc",
   "metadata": {
    "deletable": false,
    "editable": false,
    "nbgrader": {
     "cell_type": "markdown",
     "checksum": "1f74910abd182be13aa34283472eb491",
     "grade": false,
     "grade_id": "cell-2dc116ad722835ba",
     "locked": true,
     "schema_version": 3,
     "solution": false,
     "task": false
    }
   },
   "source": [
    "The eigenvalues of the Jacobian are complex with negative real part. Therefore the critical point near $(-0.7,0.6)$ is a spiral sink."
   ]
  },
  {
   "cell_type": "markdown",
   "id": "4a7cfc36-2788-486f-820b-a495fd06a13d",
   "metadata": {
    "deletable": false,
    "editable": false,
    "nbgrader": {
     "cell_type": "markdown",
     "checksum": "438f2101be788028ac2fde292fdc9fd0",
     "grade": false,
     "grade_id": "cell-127841fd59891ee0",
     "locked": true,
     "schema_version": 3,
     "solution": false,
     "task": false
    }
   },
   "source": [
    "## Numerical Solutions\n",
    "\n",
    "The function `solution` takes input parameters `f`, `g`, `x0`, `y0` and `tf` where:\n",
    "\n",
    "* `f` is a Python function which represents the equation `x' = f(x,y)`\n",
    "* `g` is a Python function which represents the equation `y' = g(x,y)`\n",
    "* `x0` defines the initial value $x(0)$\n",
    "* `y0` defines the initial value $y(0)$\n",
    "* `tf` defines an interval $t \\in [0,t_f]$ for the nuemrical solution\n",
    "\n",
    "The function `solution` plots a numerical approximation of the trajectory $(x(t),y(t))$ of the solution with initial value $(x(0),y(0))$."
   ]
  },
  {
   "cell_type": "code",
   "execution_count": null,
   "id": "e12256d3-2f41-4a1a-a2c2-64a98c799de7",
   "metadata": {
    "deletable": false,
    "editable": false,
    "nbgrader": {
     "cell_type": "code",
     "checksum": "ff18d2c74a7d20b73340e8781647c730",
     "grade": false,
     "grade_id": "cell-a4ae6bca8a7af5fe",
     "locked": true,
     "schema_version": 3,
     "solution": false,
     "task": false
    },
    "tags": []
   },
   "outputs": [],
   "source": [
    "def solution(f,g,x0,y0,tf):\n",
    "    F = lambda x,t: np.array([f(x[0],x[1]),g(x[0],x[1])])\n",
    "    t = np.linspace(0,tf,int(tf*100))\n",
    "    u = odeint(F,[x0,y0],t)\n",
    "    plt.plot(u[:,0],u[:,1],'k')"
   ]
  },
  {
   "cell_type": "markdown",
   "id": "3a085060-8205-4c4a-9ba6-e0834fb7999b",
   "metadata": {
    "deletable": false,
    "editable": false,
    "nbgrader": {
     "cell_type": "markdown",
     "checksum": "3c9782eeaa359329441beb81daaccbc8",
     "grade": false,
     "grade_id": "cell-c5f383c54ddbde63",
     "locked": true,
     "schema_version": 3,
     "solution": false,
     "task": false
    }
   },
   "source": [
    "For example, let's plot numerical solutions for different initial values:"
   ]
  },
  {
   "cell_type": "code",
   "execution_count": null,
   "id": "2472bacf-84e1-4a12-8d69-a6de06850af1",
   "metadata": {
    "deletable": false,
    "editable": false,
    "nbgrader": {
     "cell_type": "code",
     "checksum": "8fa10b479f1f773bc8ad384acbcbf7c6",
     "grade": false,
     "grade_id": "cell-1404cb2f8a0f759c",
     "locked": true,
     "schema_version": 3,
     "solution": false,
     "task": false
    },
    "tags": []
   },
   "outputs": [],
   "source": [
    "f = lambda x,y: x**2 + y**2 - 1\n",
    "g = lambda x,y: x**2 - y\n",
    "\n",
    "nullclines(f,g,[-2,2],[-1.5,1.5])\n",
    "solution(f,g,-2,1,5)\n",
    "solution(f,g,0.8,-1,5)\n",
    "solution(f,g,0,-1.5,5)\n",
    "solution(f,g,-2,-1.5,5)\n",
    "solution(f,g,0.25,1.5,2.25)\n",
    "solution(f,g,0,1.5,5)\n",
    "solution(f,g,1,-0.5,1.3)"
   ]
  },
  {
   "cell_type": "markdown",
   "id": "8d4a7889-c134-4926-b271-fa1860022c55",
   "metadata": {
    "deletable": false,
    "editable": false,
    "nbgrader": {
     "cell_type": "markdown",
     "checksum": "f995203c5bab8dfe00fe1c57fdf29739",
     "grade": false,
     "grade_id": "cell-d1d1dce955ccf8ab",
     "locked": true,
     "schema_version": 3,
     "solution": false,
     "task": false
    },
    "tags": []
   },
   "source": [
    "Note that the choice `tf` in each trajectory is arbitrary. We simply choose a value which illustrates the shape of the trajectory within the window of the nullcline plot."
   ]
  },
  {
   "cell_type": "markdown",
   "id": "894d6b8b-bd08-4ad3-b28a-db752db45504",
   "metadata": {
    "deletable": false,
    "editable": false,
    "nbgrader": {
     "cell_type": "markdown",
     "checksum": "f5ecd5bc420c96908b034656f40ef6fc",
     "grade": false,
     "grade_id": "cell-918abbf71d8501ce",
     "locked": true,
     "schema_version": 3,
     "solution": false,
     "task": false
    }
   },
   "source": [
    "# Problem 1 (11 marks)\n",
    "\n",
    "Consider the 2-dimensional autonomous first order system of equations\n",
    "\n",
    "$$\n",
    "\\begin{align*}\n",
    "x' &= 2x^4 - x^2 y + y^2 - 1 \\\\\n",
    "y' &= x^2 - y^3\n",
    "\\end{align*}\n",
    "$$\n",
    "\n",
    "**Part A.** Enter the functions $f(x,y)$ and $g(x,y)$ as Python functions called `f1` and `g1`."
   ]
  },
  {
   "cell_type": "code",
   "execution_count": null,
   "id": "7b396eef-cc9f-4f3a-b156-31a758c1f4fb",
   "metadata": {
    "deletable": false,
    "nbgrader": {
     "cell_type": "code",
     "checksum": "279df26ae8c503f71153f4298cd7a569",
     "grade": false,
     "grade_id": "cell-1cc7a4a0eaafa9b8",
     "locked": false,
     "schema_version": 3,
     "solution": true,
     "task": false
    },
    "tags": []
   },
   "outputs": [],
   "source": [
    "# YOUR CODE HERE"
   ]
  },
  {
   "cell_type": "code",
   "execution_count": null,
   "id": "18c3d83f-2de6-43d1-b58d-aef467a9c798",
   "metadata": {
    "deletable": false,
    "editable": false,
    "nbgrader": {
     "cell_type": "code",
     "checksum": "88543c70ebd9a7b6f1ffaf0dc59ad2d1",
     "grade": true,
     "grade_id": "cell-10210a7bd171a825",
     "locked": true,
     "points": 1,
     "schema_version": 3,
     "solution": false,
     "task": false
    },
    "tags": []
   },
   "outputs": [],
   "source": [
    "# Test 1: Check if f1 and g1 are functions. (1 mark)\n",
    "assert callable(f1) , \"f1 should be a function.\"\n",
    "assert callable(g1) , \"f1 should be a function.\"\n",
    "print(\"Test 1: Success!\")"
   ]
  },
  {
   "cell_type": "code",
   "execution_count": null,
   "id": "3065c6ea-bf17-4e8f-9e17-be2a48dfa358",
   "metadata": {
    "deletable": false,
    "editable": false,
    "nbgrader": {
     "cell_type": "code",
     "checksum": "59726dc5e981f41b6ceaa7e491712157",
     "grade": true,
     "grade_id": "cell-54f07a4951df60e2",
     "locked": true,
     "points": 1,
     "schema_version": 3,
     "solution": false,
     "task": false
    },
    "tags": []
   },
   "outputs": [],
   "source": [
    "# Test 2: Check if f1 and g1 return correct values. (1 mark)\n",
    "assert np.allclose(f1(1,1),1)\n",
    "assert np.allclose(f1(0,2),3)\n",
    "assert np.allclose(g1(-1,0),1)\n",
    "assert np.allclose(g1(2,2),-4)\n",
    "print(\"Test 2: Success!\")"
   ]
  },
  {
   "cell_type": "code",
   "execution_count": null,
   "id": "f3ec1635-3c5b-431a-aa5c-983c66785086",
   "metadata": {
    "deletable": false,
    "editable": false,
    "nbgrader": {
     "cell_type": "code",
     "checksum": "c2662a75706af036ab16ed8f5c83b372",
     "grade": true,
     "grade_id": "cell-ffaa3a0aaf8bc274",
     "locked": true,
     "points": 1,
     "schema_version": 3,
     "solution": false,
     "task": false
    },
    "tags": []
   },
   "outputs": [],
   "source": [
    "# Test 3: Check if f1 and g1 are defined correctly. This cell contains hidden tests. (1 mark)"
   ]
  },
  {
   "cell_type": "markdown",
   "id": "2795763d-a9dd-4654-8fe5-2a695ab0a4fd",
   "metadata": {
    "deletable": false,
    "editable": false,
    "nbgrader": {
     "cell_type": "markdown",
     "checksum": "d3df0befd444457508832de84b49778f",
     "grade": false,
     "grade_id": "cell-6580c1d9ab7872ef",
     "locked": true,
     "schema_version": 3,
     "solution": false,
     "task": false
    },
    "tags": []
   },
   "source": [
    "Plot the nullclines:"
   ]
  },
  {
   "cell_type": "code",
   "execution_count": null,
   "id": "5f4f1fd7-b502-429e-b372-9589439cf33e",
   "metadata": {
    "deletable": false,
    "editable": false,
    "nbgrader": {
     "cell_type": "code",
     "checksum": "eb7773e2cab0099ad38cf4ebf9e1b075",
     "grade": false,
     "grade_id": "cell-c9778783690c86c9",
     "locked": true,
     "schema_version": 3,
     "solution": false,
     "task": false
    },
    "tags": []
   },
   "outputs": [],
   "source": [
    "nullclines(f1,g1,[-2,2],[-1.5,1.5])"
   ]
  },
  {
   "cell_type": "markdown",
   "id": "96d932d2-fdf3-4d95-88f1-a5007803c7de",
   "metadata": {
    "deletable": false,
    "editable": false,
    "nbgrader": {
     "cell_type": "markdown",
     "checksum": "141efd76ade36c09e4d2475c929dc617",
     "grade": false,
     "grade_id": "cell-174e23d65734f294",
     "locked": true,
     "schema_version": 3,
     "solution": false,
     "task": false
    },
    "tags": []
   },
   "source": [
    "**Part B.** The figure above shows that there are 2 critical points. Compute the $x$ and $y$ coordinates of the critical point $(x^*,y^*)$ with $x^* > 0$. Save the values as `x1b` and `y1b`. We are expecting values accurate to at least 12 decimal places."
   ]
  },
  {
   "cell_type": "code",
   "execution_count": null,
   "id": "380d5ee6-4ea7-49bf-b202-01060cdc255a",
   "metadata": {
    "deletable": false,
    "nbgrader": {
     "cell_type": "code",
     "checksum": "862a6423fb2e041193fb06f4446d6a3c",
     "grade": false,
     "grade_id": "cell-f724f75d0ca52709",
     "locked": false,
     "schema_version": 3,
     "solution": true,
     "task": false
    },
    "tags": []
   },
   "outputs": [],
   "source": [
    "# YOUR CODE HERE"
   ]
  },
  {
   "cell_type": "code",
   "execution_count": null,
   "id": "c5bb38ea-d94b-4568-9fd1-4f0bbfa6691e",
   "metadata": {
    "deletable": false,
    "editable": false,
    "nbgrader": {
     "cell_type": "code",
     "checksum": "efe03801fb3fa9d2309448d6674f5fd4",
     "grade": true,
     "grade_id": "cell-73a872fe33bf01f9",
     "locked": true,
     "points": 1,
     "schema_version": 3,
     "solution": false,
     "task": false
    },
    "tags": []
   },
   "outputs": [],
   "source": [
    "# Test 1: Check if x1b and y1b are positive numbers. (1 mark)\n",
    "assert x1b > 0\n",
    "assert y1b > 0\n",
    "print(\"Test 1: Success!\")"
   ]
  },
  {
   "cell_type": "code",
   "execution_count": null,
   "id": "f952fa81-9610-4c79-9925-6ee6bad1cead",
   "metadata": {
    "deletable": false,
    "editable": false,
    "nbgrader": {
     "cell_type": "code",
     "checksum": "426c471957be4edad85b32760bd99312",
     "grade": true,
     "grade_id": "cell-b48cf8636ad026e8",
     "locked": true,
     "points": 1,
     "schema_version": 3,
     "solution": false,
     "task": false
    },
    "tags": []
   },
   "outputs": [],
   "source": [
    "# Test 2: Check if x1b and y1b are correct values (up to at least 8 decimal places). This cell contains hidden tests. (1 mark)"
   ]
  },
  {
   "cell_type": "markdown",
   "id": "43259684-42d0-46e4-910b-91be828f16b1",
   "metadata": {
    "deletable": false,
    "editable": false,
    "nbgrader": {
     "cell_type": "markdown",
     "checksum": "89da748d0e9ee2cc7548793778b3d936",
     "grade": false,
     "grade_id": "cell-4f9ad4dfb1d947b0",
     "locked": true,
     "schema_version": 3,
     "solution": false,
     "task": false
    },
    "tags": []
   },
   "source": [
    "Plot the critical point with the nullclines:"
   ]
  },
  {
   "cell_type": "code",
   "execution_count": null,
   "id": "2c15aaad-af9d-4f2a-bc2c-8ec2f88b7f2a",
   "metadata": {
    "deletable": false,
    "editable": false,
    "nbgrader": {
     "cell_type": "code",
     "checksum": "412400593a45b3df0002f314f26784ad",
     "grade": false,
     "grade_id": "cell-6bb6ded67345eaab",
     "locked": true,
     "schema_version": 3,
     "solution": false,
     "task": false
    },
    "tags": []
   },
   "outputs": [],
   "source": [
    "nullclines(f1,g1,[-2,2],[-1.5,1.5])\n",
    "plt.plot(x1b,y1b,'k.',ms=10)\n",
    "plt.show()"
   ]
  },
  {
   "cell_type": "markdown",
   "id": "365be149-0402-4647-88cd-fd5ecc6547c3",
   "metadata": {
    "deletable": false,
    "editable": false,
    "nbgrader": {
     "cell_type": "markdown",
     "checksum": "0f28874b82709647bf6bdb517bab35b0",
     "grade": false,
     "grade_id": "cell-e00dbcb687e35f94",
     "locked": true,
     "schema_version": 3,
     "solution": false,
     "task": false
    },
    "tags": []
   },
   "source": [
    "**Part C.** Compute the Jacobian at the critical point found in part c. Save the matrix as `J1c`."
   ]
  },
  {
   "cell_type": "code",
   "execution_count": null,
   "id": "2de9d6ac-fcc3-449f-8d5b-3e1dcb19a8b5",
   "metadata": {
    "deletable": false,
    "nbgrader": {
     "cell_type": "code",
     "checksum": "217ecb871a88340fe2097bad6c36c16d",
     "grade": false,
     "grade_id": "cell-d81cbf681b63bdc0",
     "locked": false,
     "schema_version": 3,
     "solution": true,
     "task": false
    },
    "tags": []
   },
   "outputs": [],
   "source": [
    "# YOUR CODE HERE"
   ]
  },
  {
   "cell_type": "code",
   "execution_count": null,
   "id": "243f6891-12ee-4f89-9879-7f9fd3e5fae2",
   "metadata": {
    "deletable": false,
    "editable": false,
    "nbgrader": {
     "cell_type": "code",
     "checksum": "8f1a0a93a54493f1df31454c4e6b70ad",
     "grade": true,
     "grade_id": "cell-bd6a0fb2b4c1faaf",
     "locked": true,
     "points": 1,
     "schema_version": 3,
     "solution": false,
     "task": false
    },
    "tags": []
   },
   "outputs": [],
   "source": [
    "# Test 1: Check if J1c is a 2 x 2 NumPy array with correct top left entry. (1 mark)\n",
    "assert isinstance(J1c,np.ndarray)\n",
    "assert J1c.shape == (2,2)\n",
    "assert np.allclose(J1c[0,0],2.6802655)\n",
    "print(\"Test 1: Success!\")"
   ]
  },
  {
   "cell_type": "code",
   "execution_count": null,
   "id": "49ea4ea9-3476-4b69-9da9-c43750581f8b",
   "metadata": {
    "deletable": false,
    "editable": false,
    "nbgrader": {
     "cell_type": "code",
     "checksum": "1e2b843b244a728db9bc533d485e40a5",
     "grade": true,
     "grade_id": "cell-0fc46c835155135c",
     "locked": true,
     "points": 1,
     "schema_version": 3,
     "solution": false,
     "task": false
    },
    "tags": []
   },
   "outputs": [],
   "source": [
    "# Test 2: Check if J1c has the correct values. This cell contains hidden tests. (1 mark)"
   ]
  },
  {
   "cell_type": "markdown",
   "id": "25be0df5-ae3f-4bd4-905d-a38ef0e26d4b",
   "metadata": {
    "deletable": false,
    "editable": false,
    "nbgrader": {
     "cell_type": "markdown",
     "checksum": "fbf51c15805bf0714bff4a86ddbed970",
     "grade": false,
     "grade_id": "cell-eef1415c83c436a6",
     "locked": true,
     "schema_version": 3,
     "solution": false,
     "task": false
    },
    "tags": []
   },
   "source": [
    "**Part D.** Compute the eigevalues of `J1c` and classify the critical point as one of the folllowing: `'source'`, `'sink'`, `'spiral source'`, `'spiral sink'`, `'saddle point'`, `'center'`. Save your response as `classification1d.`"
   ]
  },
  {
   "cell_type": "code",
   "execution_count": null,
   "id": "b6037c94-ea93-4e65-9b80-3e4d4a36c214",
   "metadata": {
    "deletable": false,
    "nbgrader": {
     "cell_type": "code",
     "checksum": "c9f19477469da1123c9b945db24cd16f",
     "grade": false,
     "grade_id": "cell-38e2c568cef569df",
     "locked": false,
     "schema_version": 3,
     "solution": true,
     "task": false
    },
    "tags": []
   },
   "outputs": [],
   "source": [
    "# YOUR CODE HERE"
   ]
  },
  {
   "cell_type": "code",
   "execution_count": null,
   "id": "2ba67a6e-b1f8-4353-9192-d28646f3d2b1",
   "metadata": {
    "deletable": false,
    "editable": false,
    "nbgrader": {
     "cell_type": "code",
     "checksum": "9532b2f76b982ccab8e7eed81b2e10f5",
     "grade": true,
     "grade_id": "cell-8881c04d2f78d8ef",
     "locked": true,
     "points": 1,
     "schema_version": 3,
     "solution": false,
     "task": false
    },
    "tags": []
   },
   "outputs": [],
   "source": [
    "# Test 1: Check if classification1d is one of the names. (1 mark)\n",
    "assert classification1d in ['source','sink','spiral source','spiral sink','saddle point','center']\n",
    "print(\"Test 1: Success!\")"
   ]
  },
  {
   "cell_type": "code",
   "execution_count": null,
   "id": "5331b142-b58c-4395-a982-0284c974a881",
   "metadata": {
    "deletable": false,
    "editable": false,
    "nbgrader": {
     "cell_type": "code",
     "checksum": "030f318e40b426a01ec866e158a33a15",
     "grade": true,
     "grade_id": "cell-1bd700e018fbb5a8",
     "locked": true,
     "points": 1,
     "schema_version": 3,
     "solution": false,
     "task": false
    },
    "tags": []
   },
   "outputs": [],
   "source": [
    "# Test 2: Check if classification1d is the listed classications. This cell contains hidden tests. (1 mark)"
   ]
  },
  {
   "cell_type": "markdown",
   "id": "71e8bade-8994-46c3-86b8-6949369a1729",
   "metadata": {
    "deletable": false,
    "editable": false,
    "nbgrader": {
     "cell_type": "markdown",
     "checksum": "cae192a8f0293c513acce2e01eb140da",
     "grade": false,
     "grade_id": "cell-a8e26be03e591f7b",
     "locked": true,
     "schema_version": 3,
     "solution": false,
     "task": false
    },
    "tags": []
   },
   "source": [
    "**Part E.** Plot sample trajectories for the system near the other critical point $(x^*,y^*)$ with $x^* < 0$. Classify the critical point as one of the folllowing: `'source'`, `'sink'`, `'spiral source'`, `'spiral sink'`, `'saddle point'`, `'center'`. Save your response as `classification1e.`"
   ]
  },
  {
   "cell_type": "code",
   "execution_count": null,
   "id": "219c2b6c-2c0c-4d9a-90d3-06ecb69220c7",
   "metadata": {
    "deletable": false,
    "editable": false,
    "nbgrader": {
     "cell_type": "code",
     "checksum": "db74cb5ed81a5a38d40dcb780d54a277",
     "grade": false,
     "grade_id": "cell-3605ee4f4aeed316",
     "locked": true,
     "schema_version": 3,
     "solution": false,
     "task": false
    },
    "tags": []
   },
   "outputs": [],
   "source": [
    "nullclines(f1,g1,[-1,-0.5],[.5,1.5])\n",
    "solution(f1,g1,-1,1.5,4)\n",
    "solution(f1,g1,-.6,1.5,4)\n",
    "solution(f1,g1,-1,1,4)\n",
    "solution(f1,g1,-1,.5,4)"
   ]
  },
  {
   "cell_type": "code",
   "execution_count": null,
   "id": "f8b843e3-afc9-423e-8693-5094a6c96898",
   "metadata": {
    "deletable": false,
    "nbgrader": {
     "cell_type": "code",
     "checksum": "865205baf7242d4d682b2386710f101b",
     "grade": false,
     "grade_id": "cell-0337726820ae72d8",
     "locked": false,
     "schema_version": 3,
     "solution": true,
     "task": false
    },
    "tags": []
   },
   "outputs": [],
   "source": [
    "# YOUR CODE HERE"
   ]
  },
  {
   "cell_type": "code",
   "execution_count": null,
   "id": "279eaf7c-6654-4583-a4ff-8c30b9514606",
   "metadata": {
    "deletable": false,
    "editable": false,
    "nbgrader": {
     "cell_type": "code",
     "checksum": "f43a2657dcebb499a0a474271f82b96a",
     "grade": true,
     "grade_id": "cell-5675918ebbe8992a",
     "locked": true,
     "points": 1,
     "schema_version": 3,
     "solution": false,
     "task": false
    },
    "tags": []
   },
   "outputs": [],
   "source": [
    "# Test 1: Check if classification1e is one of the listed classications. (1 mark)\n",
    "assert classification1e in ['source','sink','spiral source','spiral sink','saddle point','center']\n",
    "print(\"Test 1: Success!\")"
   ]
  },
  {
   "cell_type": "code",
   "execution_count": null,
   "id": "4c544814-9cb6-4d92-90c5-98e1fd429131",
   "metadata": {
    "deletable": false,
    "editable": false,
    "nbgrader": {
     "cell_type": "code",
     "checksum": "5d8baf3f5ab51cd1a36acfdb8edcb9f5",
     "grade": true,
     "grade_id": "cell-389af21ee7111037",
     "locked": true,
     "points": 1,
     "schema_version": 3,
     "solution": false,
     "task": false
    },
    "tags": []
   },
   "outputs": [],
   "source": [
    "# Test 2: Check if classification1e is the correct classification. This cell contains hidden tests. (1 mark)"
   ]
  },
  {
   "cell_type": "markdown",
   "id": "25283e55-4831-4d98-adf1-57293d3469e5",
   "metadata": {
    "deletable": false,
    "editable": false,
    "nbgrader": {
     "cell_type": "markdown",
     "checksum": "9cdcf447c0c0093bb909d0e646e56ad5",
     "grade": false,
     "grade_id": "cell-acb6608b601a1416",
     "locked": true,
     "schema_version": 3,
     "solution": false,
     "task": false
    },
    "tags": []
   },
   "source": [
    "## Problem 2 (7 marks)\n",
    "\n",
    "Consider the 2-dimensional autonomous first order system of equations\n",
    "\n",
    "$$\n",
    "\\begin{align*}\n",
    "x' &= 2x - 4xy \\\\\n",
    "y' &= 4xy - 2y\n",
    "\\end{align*}\n",
    "$$\n",
    "\n",
    "**Part A.** Enter the functions $f(x,y)$ and $g(x,y)$ as Python functions called `f2` and `g2`."
   ]
  },
  {
   "cell_type": "code",
   "execution_count": null,
   "id": "19698ab2-1a4b-4cff-9ee8-cb9b76f58ae7",
   "metadata": {
    "deletable": false,
    "nbgrader": {
     "cell_type": "code",
     "checksum": "0deeaa78c4abf22d0d073d278ecc687d",
     "grade": false,
     "grade_id": "cell-9e54ddaba179b560",
     "locked": false,
     "schema_version": 3,
     "solution": true,
     "task": false
    },
    "tags": []
   },
   "outputs": [],
   "source": [
    "# YOUR CODE HERE"
   ]
  },
  {
   "cell_type": "code",
   "execution_count": null,
   "id": "f1995617-d3f8-436a-9382-9fefc8b1bab3",
   "metadata": {
    "deletable": false,
    "editable": false,
    "nbgrader": {
     "cell_type": "code",
     "checksum": "41e34dc313fe75b5547a4a21994763a9",
     "grade": true,
     "grade_id": "cell-97633ddcc19c371d",
     "locked": true,
     "points": 1,
     "schema_version": 3,
     "solution": false,
     "task": false
    },
    "tags": []
   },
   "outputs": [],
   "source": [
    "# Test 1: Check if f2 and g2 are functions. (1 mark)\n",
    "assert callable(f2) , \"f2 should be a function.\"\n",
    "assert callable(g2) , \"f2 should be a function.\"\n",
    "print(\"Test 1: Success!\")"
   ]
  },
  {
   "cell_type": "code",
   "execution_count": null,
   "id": "43bfd7a4-90a4-42a0-9de2-6d3cda8a424f",
   "metadata": {
    "deletable": false,
    "editable": false,
    "nbgrader": {
     "cell_type": "code",
     "checksum": "04c8346191f737ac0a8258ac530b8b81",
     "grade": true,
     "grade_id": "cell-c1d4ac48ca8dfbb3",
     "locked": true,
     "points": 1,
     "schema_version": 3,
     "solution": false,
     "task": false
    },
    "tags": []
   },
   "outputs": [],
   "source": [
    "# Test 2: Check if f2 and g2 return correct values. (1 mark)\n",
    "assert np.allclose(f2(1,1),-2)\n",
    "assert np.allclose(f2(0,2),0)\n",
    "assert np.allclose(g2(-1,0),0)\n",
    "assert np.allclose(g2(2,2),12)\n",
    "print(\"Test 2: Success!\")"
   ]
  },
  {
   "cell_type": "code",
   "execution_count": null,
   "id": "28c388cf-a265-4646-acbf-150c997849ac",
   "metadata": {
    "deletable": false,
    "editable": false,
    "nbgrader": {
     "cell_type": "code",
     "checksum": "69fe375b15943bfc6767007cd6b406d2",
     "grade": true,
     "grade_id": "cell-5e639234f1db0d72",
     "locked": true,
     "points": 1,
     "schema_version": 3,
     "solution": false,
     "task": false
    },
    "tags": []
   },
   "outputs": [],
   "source": [
    "# Test 3: Check if f2 and g2 are defined correctly. This cell contains hidden tests. (1 mark)"
   ]
  },
  {
   "cell_type": "markdown",
   "id": "660d5f0c-762d-4eac-aac9-3264c0e3e2a6",
   "metadata": {
    "deletable": false,
    "editable": false,
    "nbgrader": {
     "cell_type": "markdown",
     "checksum": "e44582e64c03c09e7b7e34381362a242",
     "grade": false,
     "grade_id": "cell-f4338b7d9b9fbe01",
     "locked": true,
     "schema_version": 3,
     "solution": false,
     "task": false
    },
    "tags": []
   },
   "source": [
    "Plot the nullclines:"
   ]
  },
  {
   "cell_type": "code",
   "execution_count": null,
   "id": "9b41d992-a33a-4403-8950-76d4dfe5d39a",
   "metadata": {
    "deletable": false,
    "editable": false,
    "nbgrader": {
     "cell_type": "code",
     "checksum": "4153f94c6bdba684f86d40cc4f031d03",
     "grade": false,
     "grade_id": "cell-6e222503e3ff7b99",
     "locked": true,
     "schema_version": 3,
     "solution": false,
     "task": false
    },
    "tags": []
   },
   "outputs": [],
   "source": [
    "nullclines(f2,g2,[-1,2],[-1,2])"
   ]
  },
  {
   "cell_type": "markdown",
   "id": "5d051ee3-29f2-49d7-9fb8-daba7166289b",
   "metadata": {
    "deletable": false,
    "editable": false,
    "nbgrader": {
     "cell_type": "markdown",
     "checksum": "cff230a58c8b91bd09ee926fe55d5ad8",
     "grade": false,
     "grade_id": "cell-3f458247a948b3f3",
     "locked": true,
     "schema_version": 3,
     "solution": false,
     "task": false
    },
    "tags": []
   },
   "source": [
    "**Part B.** There are 2 critical points. One critical point at $(0,0)$ and the other at $(0.5,0.5)$. Compute the Jacobian at $(0.5,0.5)$ and save the result as `J2b`."
   ]
  },
  {
   "cell_type": "code",
   "execution_count": null,
   "id": "266747bd-93f5-459b-9328-38e36bb46f42",
   "metadata": {
    "deletable": false,
    "nbgrader": {
     "cell_type": "code",
     "checksum": "1fe919a60c77d1a224bf6475128e2892",
     "grade": false,
     "grade_id": "cell-d7d468cc09426e9a",
     "locked": false,
     "schema_version": 3,
     "solution": true,
     "task": false
    },
    "tags": []
   },
   "outputs": [],
   "source": [
    "# YOUR CODE HERE"
   ]
  },
  {
   "cell_type": "code",
   "execution_count": null,
   "id": "10196005-4618-4a88-8178-817238d2bb1d",
   "metadata": {
    "deletable": false,
    "editable": false,
    "nbgrader": {
     "cell_type": "code",
     "checksum": "9a760625dea6096b03a514fad2760987",
     "grade": true,
     "grade_id": "cell-301ea08881f86f11",
     "locked": true,
     "points": 1,
     "schema_version": 3,
     "solution": false,
     "task": false
    },
    "tags": []
   },
   "outputs": [],
   "source": [
    "# Test 1: Check if J2b is a 2 x 2 NumPy array with correct top left entry. (1 mark)\n",
    "assert isinstance(J2b,np.ndarray)\n",
    "assert J2b.shape == (2,2)\n",
    "assert np.allclose(J2b[0,0],0.)\n",
    "print(\"Test 1: Success!\")"
   ]
  },
  {
   "cell_type": "code",
   "execution_count": null,
   "id": "e625821c-c8d7-4b98-b1db-1a4dbb423a6e",
   "metadata": {
    "deletable": false,
    "editable": false,
    "nbgrader": {
     "cell_type": "code",
     "checksum": "f356945130025b0678b515d9eff122ba",
     "grade": true,
     "grade_id": "cell-5333d3dccc467abd",
     "locked": true,
     "points": 1,
     "schema_version": 3,
     "solution": false,
     "task": false
    },
    "tags": []
   },
   "outputs": [],
   "source": [
    "# Test 2: Check if J2b has the correct values. This cell contains hidden tests. (1 mark)"
   ]
  },
  {
   "cell_type": "markdown",
   "id": "ed3019a8-eb2f-4bbf-98b0-35d01e2929d8",
   "metadata": {
    "deletable": false,
    "editable": false,
    "nbgrader": {
     "cell_type": "markdown",
     "checksum": "444507e0e85712272c0741aa7a47bb43",
     "grade": false,
     "grade_id": "cell-221f4b99388b033c",
     "locked": true,
     "schema_version": 3,
     "solution": false,
     "task": false
    },
    "tags": []
   },
   "source": [
    "In this example, the eigenvalues of the Jacobian are pure imaginary and therefore we cannot classify the critical point without more information."
   ]
  },
  {
   "cell_type": "code",
   "execution_count": null,
   "id": "4c9838b2-8797-4d58-a3cb-2d77fd8c52f4",
   "metadata": {
    "deletable": false,
    "editable": false,
    "nbgrader": {
     "cell_type": "code",
     "checksum": "980a48bd53c7830ac56607b07ab61116",
     "grade": false,
     "grade_id": "cell-e606965be7719b0f",
     "locked": true,
     "schema_version": 3,
     "solution": false,
     "task": false
    },
    "tags": []
   },
   "outputs": [],
   "source": [
    "evals2b,evecs2b = la.eig(J2b)\n",
    "print(evals2b)"
   ]
  },
  {
   "cell_type": "markdown",
   "id": "fb0eb081-74f5-49e4-9c1c-183878adf65c",
   "metadata": {
    "deletable": false,
    "editable": false,
    "nbgrader": {
     "cell_type": "markdown",
     "checksum": "3c1195d08091450c8a103bdee3a704e9",
     "grade": false,
     "grade_id": "cell-852a79acdfa7dd09",
     "locked": true,
     "schema_version": 3,
     "solution": false,
     "task": false
    },
    "tags": []
   },
   "source": [
    "**Part C.** Plot sample trajectories and observe the results. Classify the critical point $(0.5,0.5)$ based on the shape of trajectories in the figure below. Classify the critical point as one of the folllowing: `'source'`, `'sink'`, `'spiral source'`, `'spiral sink'`, `'saddle point'`, `'center'`. Save your response as `classification2c.`"
   ]
  },
  {
   "cell_type": "code",
   "execution_count": null,
   "id": "a048d960-c0d3-4622-8cbd-cd150810d806",
   "metadata": {
    "deletable": false,
    "editable": false,
    "nbgrader": {
     "cell_type": "code",
     "checksum": "e2e793f4a1c6d63adecb7b2c2d23a96e",
     "grade": false,
     "grade_id": "cell-9eee0120a74762f1",
     "locked": true,
     "schema_version": 3,
     "solution": false,
     "task": false
    },
    "tags": []
   },
   "outputs": [],
   "source": [
    "solution(f2,g2,0.1,0.1,4)\n",
    "solution(f2,g2,0.2,0.2,4)\n",
    "solution(f2,g2,0.3,0.3,4)\n",
    "solution(f2,g2,0.4,0.4,4)\n",
    "solution(f2,g2,0.5,0.5,4)"
   ]
  },
  {
   "cell_type": "code",
   "execution_count": null,
   "id": "cd92bd3d-72be-49eb-9b14-5762fc44aebc",
   "metadata": {
    "deletable": false,
    "nbgrader": {
     "cell_type": "code",
     "checksum": "f231d141174472122b5c4738e7e8579b",
     "grade": false,
     "grade_id": "cell-76508bd42f9d5d4d",
     "locked": false,
     "schema_version": 3,
     "solution": true,
     "task": false
    },
    "tags": []
   },
   "outputs": [],
   "source": [
    "# YOUR CODE HERE"
   ]
  },
  {
   "cell_type": "code",
   "execution_count": null,
   "id": "da07d461-0f64-413a-b5f9-ca304c494e04",
   "metadata": {
    "deletable": false,
    "editable": false,
    "nbgrader": {
     "cell_type": "code",
     "checksum": "87c344be9e182271afce7d8ced528e97",
     "grade": true,
     "grade_id": "cell-fa7268786b61babe",
     "locked": true,
     "points": 1,
     "schema_version": 3,
     "solution": false,
     "task": false
    },
    "tags": []
   },
   "outputs": [],
   "source": [
    "# Test 1: Check if classification2c is one of the listed classications. (1 mark)\n",
    "assert classification2c in ['source','sink','spiral source','spiral sink','saddle point','center']\n",
    "print(\"Test 1: Success!\")"
   ]
  },
  {
   "cell_type": "code",
   "execution_count": null,
   "id": "254b0d32-177a-45bf-9337-ce40c1965fbb",
   "metadata": {
    "deletable": false,
    "editable": false,
    "nbgrader": {
     "cell_type": "code",
     "checksum": "bf8b431841bfd75114e458adda92f5de",
     "grade": true,
     "grade_id": "cell-bb37eb61188fe823",
     "locked": true,
     "points": 1,
     "schema_version": 3,
     "solution": false,
     "task": false
    },
    "tags": []
   },
   "outputs": [],
   "source": [
    "# Test 2: Check if classification2c is the correct classification. This cell contains hidden tests. (1 mark)"
   ]
  }
 ],
 "metadata": {
  "kernelspec": {
   "display_name": "Python 3 (ipykernel)",
   "language": "python",
   "name": "python3"
  },
  "language_info": {
   "codemirror_mode": {
    "name": "ipython",
    "version": 3
   },
   "file_extension": ".py",
   "mimetype": "text/x-python",
   "name": "python",
   "nbconvert_exporter": "python",
   "pygments_lexer": "ipython3",
   "version": "3.10.12"
  }
 },
 "nbformat": 4,
 "nbformat_minor": 5
}
