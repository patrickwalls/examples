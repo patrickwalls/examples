{
 "cells": [
  {
   "cell_type": "markdown",
   "id": "41d1865a-1d1c-4337-a3d2-c5065e254879",
   "metadata": {
    "deletable": false,
    "editable": false,
    "nbgrader": {
     "cell_type": "markdown",
     "checksum": "04cf689d2175e7043322329a8114b941",
     "grade": false,
     "grade_id": "cell-7db2439fea6c1db3",
     "locked": true,
     "schema_version": 3,
     "solution": false,
     "task": false
    },
    "tags": []
   },
   "source": [
    "# MATH 360 Python Assignment 1\n",
    "\n",
    "* See [Mathematical Python](https://patrickwalls.github.io/mathematicalpython/) for an introduction to Python and Jupyter\n",
    "* See [Introduction to Mathematical Modelling](https://ubcmath.github.io/MATH360/) for more examples\n",
    "* Write solutions in the cells with `YOUR CODE HERE`\n",
    "* Do **not** import any packages (other than the standard packages in the cell below)\n",
    "* Run the tests to verify your solutions\n",
    "* There are **hidden tests** therefore your solutions may not be entirely correct even if they pass the tests below\n",
    "* Submit your `.ipynb` notebook file to Canvas (download from Syzygy to your machine and upload to Canvas)"
   ]
  },
  {
   "cell_type": "code",
   "execution_count": null,
   "id": "69f30549-c085-4abb-8d36-dd063abcce23",
   "metadata": {
    "deletable": false,
    "editable": false,
    "nbgrader": {
     "cell_type": "code",
     "checksum": "88578ba7f09851f9f38bd06c2b566980",
     "grade": false,
     "grade_id": "cell-4e361d2eeb9cae0d",
     "locked": true,
     "schema_version": 3,
     "solution": false,
     "task": false
    },
    "tags": []
   },
   "outputs": [],
   "source": [
    "import numpy as np\n",
    "import scipy.linalg as la\n",
    "import scipy.integrate as spi\n",
    "import matplotlib.pyplot as plt"
   ]
  },
  {
   "cell_type": "markdown",
   "id": "f0076355-6d43-4892-9346-4dd26d2ea2bb",
   "metadata": {
    "deletable": false,
    "editable": false,
    "nbgrader": {
     "cell_type": "markdown",
     "checksum": "234ab6284af868b34647fdf5098ec20b",
     "grade": false,
     "grade_id": "cell-de900efd7bc42867",
     "locked": true,
     "schema_version": 3,
     "solution": false,
     "task": false
    },
    "tags": []
   },
   "source": [
    "## Problem 1\n",
    "\n",
    "See [Mathematical Python > Differential Equations](https://patrickwalls.github.io/mathematicalpython/differential-equations/first-order/) to review how to use the function `scipy.integrate.odeint` to approximate solutions of differential equations. Consider a first order scalar equation with an initial condition:\n",
    "\n",
    "$$\n",
    "y' = f(y,t) \\ \\ , \\ y(t_0) = y_0\n",
    "$$\n",
    "\n",
    "Note that we represent the right-hand side of the equation as a function $f(y,t)$ where the unknown function $y(t)$ is the first parameter in the function. This is the order that `odeint` expects.\n",
    "\n",
    "### Part 1a (3 marks)\n",
    "\n",
    "Consider the equation $y' = t^2 - y^2$, $y(0) = 1$. Write a function called `f1a` which represents the right hand side of the equation."
   ]
  },
  {
   "cell_type": "code",
   "execution_count": null,
   "id": "e7a42a26-05a5-4fe7-ac0c-f1339683d46b",
   "metadata": {
    "deletable": false,
    "nbgrader": {
     "cell_type": "code",
     "checksum": "e32905aa19a63c0cf36a7fb83efc3719",
     "grade": false,
     "grade_id": "cell-11a9aecf5ee607fb",
     "locked": false,
     "schema_version": 3,
     "solution": true,
     "task": false
    },
    "tags": []
   },
   "outputs": [],
   "source": [
    "# YOUR CODE HERE"
   ]
  },
  {
   "cell_type": "code",
   "execution_count": null,
   "id": "2a944efa-7846-4396-a3cd-be6b302f9898",
   "metadata": {
    "deletable": false,
    "editable": false,
    "nbgrader": {
     "cell_type": "code",
     "checksum": "3eba4097563ec83236e143e423adeff8",
     "grade": true,
     "grade_id": "cell-e0ffa93ddaa57c6e",
     "locked": true,
     "points": 1,
     "schema_version": 3,
     "solution": false,
     "task": false
    },
    "tags": []
   },
   "outputs": [],
   "source": [
    "# Test 1: Verify f1a is a Python function which takes two input parameters. (1 mark)\n",
    "assert callable(f1a) , \"f1a should be a Python function.\"\n",
    "assert f1a(1,2) > 0 , \"f1a(1,2) should return a positive number.\"\n",
    "print(\"Test 1: Success!\")"
   ]
  },
  {
   "cell_type": "code",
   "execution_count": null,
   "id": "534ab0b3-5c7f-49ac-9517-17c66302e358",
   "metadata": {
    "deletable": false,
    "editable": false,
    "nbgrader": {
     "cell_type": "code",
     "checksum": "bed886c00c4c838a6857676953bfde17",
     "grade": true,
     "grade_id": "cell-f64e7afd731fc2b9",
     "locked": true,
     "points": 1,
     "schema_version": 3,
     "solution": false,
     "task": false
    },
    "tags": []
   },
   "outputs": [],
   "source": [
    "# Test 2: Verify f1a(1,2) = 3 and f1a(3,-2) = -5. (1 mark)\n",
    "assert abs(f1a(1,2) - 3) < 1e-14 , \"Value f1a(1,2) should be 3.\"\n",
    "assert abs(f1a(3,-2) + 5) < 1e-14 , \"Value f1a(3,-2) should be -5.\"\n",
    "print(\"Test 2: Success!\")"
   ]
  },
  {
   "cell_type": "code",
   "execution_count": null,
   "id": "aac52133-2fd0-49d5-8768-9b6cf2f46bd0",
   "metadata": {
    "deletable": false,
    "editable": false,
    "nbgrader": {
     "cell_type": "code",
     "checksum": "ae222bab4e17c1eabcb3eca2787524f8",
     "grade": true,
     "grade_id": "cell-cfd238dcace553f3",
     "locked": true,
     "points": 1,
     "schema_version": 3,
     "solution": false,
     "task": false
    },
    "tags": []
   },
   "outputs": [],
   "source": [
    "# Test 3: Verify f1a returns the correct values. This cell contains hidden tests. (1 mark)"
   ]
  },
  {
   "cell_type": "markdown",
   "id": "2c6785a0-74b6-4328-aeaa-8ed3e22cd554",
   "metadata": {
    "deletable": false,
    "editable": false,
    "nbgrader": {
     "cell_type": "markdown",
     "checksum": "e58633eb65fb380520adad2cb9c383a8",
     "grade": false,
     "grade_id": "cell-ab3234a52da73b98",
     "locked": true,
     "schema_version": 3,
     "solution": false,
     "task": false
    },
    "tags": []
   },
   "source": [
    "### Part 1b (3 marks)\n",
    "\n",
    "Use the function `odeint` to approximate the solution of the equation $y' = t^2 - y^2$, $y(0) = 1$, over the interval $[0,2]$ using 101 equally spaced points from 0 to 2. Save the result as `y1b`."
   ]
  },
  {
   "cell_type": "code",
   "execution_count": null,
   "id": "69bcbd9d-f402-44f9-b248-23a2777f4767",
   "metadata": {
    "deletable": false,
    "nbgrader": {
     "cell_type": "code",
     "checksum": "d7985b46525dae6dfd613e94a3c21b4e",
     "grade": false,
     "grade_id": "cell-02c22ebae72f5e8f",
     "locked": false,
     "schema_version": 3,
     "solution": true,
     "task": false
    },
    "tags": []
   },
   "outputs": [],
   "source": [
    "# YOUR CODE HERE"
   ]
  },
  {
   "cell_type": "code",
   "execution_count": null,
   "id": "c940a219-c35e-4c2d-b17d-cf01d327759d",
   "metadata": {
    "deletable": false,
    "editable": false,
    "nbgrader": {
     "cell_type": "code",
     "checksum": "fcc394aeb0624e0143b88cf3e0f3d244",
     "grade": true,
     "grade_id": "cell-f1ff5a4d9537f04c",
     "locked": true,
     "points": 1,
     "schema_version": 3,
     "solution": false,
     "task": false
    },
    "tags": []
   },
   "outputs": [],
   "source": [
    "# Test 1: Verify y1b is a NumPy array of length 101. (1 mark)\n",
    "assert isinstance(y1b,np.ndarray) , \"y1b should be a NumPy array.\"\n",
    "assert len(y1b) == 101 , \"y1b should have length 101.\"\n",
    "print(\"Test 1: Success!\")"
   ]
  },
  {
   "cell_type": "code",
   "execution_count": null,
   "id": "416d4a9f-0495-44b8-972d-c1f221512afb",
   "metadata": {
    "deletable": false,
    "editable": false,
    "nbgrader": {
     "cell_type": "code",
     "checksum": "be5e86145d9f312ffa5c16bf467fd467",
     "grade": true,
     "grade_id": "cell-2ccbaf87b14ccf2c",
     "locked": true,
     "points": 1,
     "schema_version": 3,
     "solution": false,
     "task": false
    },
    "tags": []
   },
   "outputs": [],
   "source": [
    "# Test 2: Verify values at t=0 and t=2. (1 mark)\n",
    "assert abs(y1b[0] - 1.0) < 1e-14 , \"Value y1b[0] should be 1.\"\n",
    "assert abs(y1b[-1] - 1.6794589163875036) < 1e-14 , \"Value y1b[-1] should be approximately 1.6794589.\"\n",
    "print(\"Test 2: Success!\")"
   ]
  },
  {
   "cell_type": "code",
   "execution_count": null,
   "id": "99641d24-7a37-45ed-94fd-699707219480",
   "metadata": {
    "deletable": false,
    "editable": false,
    "nbgrader": {
     "cell_type": "code",
     "checksum": "d5fd4dcdc259e75c1b8d15470e178d3e",
     "grade": true,
     "grade_id": "cell-c4ac90ec20195d99",
     "locked": true,
     "points": 1,
     "schema_version": 3,
     "solution": false,
     "task": false
    },
    "tags": []
   },
   "outputs": [],
   "source": [
    "# Test 3: Verify y1b has the correct values. This cell contains hidden tests. (1 mark)"
   ]
  },
  {
   "cell_type": "markdown",
   "id": "b60e1c17-e3c6-40b5-a325-e969ab7e8e44",
   "metadata": {
    "deletable": false,
    "editable": false,
    "nbgrader": {
     "cell_type": "markdown",
     "checksum": "9693d7844b4db48f7f4dfc7bffccf38a",
     "grade": false,
     "grade_id": "cell-690825d2dd0876ea",
     "locked": true,
     "schema_version": 3,
     "solution": false,
     "task": false
    },
    "tags": []
   },
   "source": [
    "Plot the result:"
   ]
  },
  {
   "cell_type": "code",
   "execution_count": null,
   "id": "6fde5502-4788-4e29-95ab-3cac6fca6990",
   "metadata": {
    "deletable": false,
    "editable": false,
    "nbgrader": {
     "cell_type": "code",
     "checksum": "49454494eef94780709fb0f08567b34b",
     "grade": false,
     "grade_id": "cell-276e24b0571bb4cc",
     "locked": true,
     "schema_version": 3,
     "solution": false,
     "task": false
    },
    "tags": []
   },
   "outputs": [],
   "source": [
    "x1b = np.linspace(0,2,101)\n",
    "plt.plot(x1b,y1b)\n",
    "plt.grid(True)\n",
    "plt.show()"
   ]
  },
  {
   "cell_type": "markdown",
   "id": "2e55d90e-bfe9-4c1f-83e4-7ebac39e10d5",
   "metadata": {
    "deletable": false,
    "editable": false,
    "nbgrader": {
     "cell_type": "markdown",
     "checksum": "c64ba3335b09be995132dff6c21571f5",
     "grade": false,
     "grade_id": "cell-d89652ed0d9a86f8",
     "locked": true,
     "schema_version": 3,
     "solution": false,
     "task": false
    },
    "tags": []
   },
   "source": [
    "## Problem 2\n",
    "\n",
    "Consider the second order differential equaton:\n",
    "\n",
    "$$\n",
    "t^2 x'' + t x' + (t^2 - 1)x = 0\n",
    "$$\n",
    "\n",
    "### Part 2a (3 marks)\n",
    "\n",
    "Convert the equation into a first order system with new variables $u_0 = x$ and $u_1 = x'$. Write a Python function called `f2a` to represent the right hand side of the system\n",
    "\n",
    "$$\n",
    "\\frac{d \\mathbf{u}}{dt} = \\mathbf{f}(\\mathbf{u},t)\n",
    "$$\n",
    "\n",
    "where $\\mathbf{u} = [u_0,u_1]$."
   ]
  },
  {
   "cell_type": "code",
   "execution_count": null,
   "id": "433d144d-5f67-448f-8a02-0f0733dda42d",
   "metadata": {
    "deletable": false,
    "nbgrader": {
     "cell_type": "code",
     "checksum": "babfdec9869ce0a0738527c9ebb9966c",
     "grade": false,
     "grade_id": "cell-a771fa878ecf5b44",
     "locked": false,
     "schema_version": 3,
     "solution": true,
     "task": false
    },
    "tags": []
   },
   "outputs": [],
   "source": [
    "# YOUR CODE HERE"
   ]
  },
  {
   "cell_type": "code",
   "execution_count": null,
   "id": "f6bbd4ab-630f-4def-b1dc-73399b2714d5",
   "metadata": {
    "deletable": false,
    "editable": false,
    "nbgrader": {
     "cell_type": "code",
     "checksum": "ee8f41419df1403bfb31ef6e07814985",
     "grade": true,
     "grade_id": "cell-c9be9d59c074d5a6",
     "locked": true,
     "points": 1,
     "schema_version": 3,
     "solution": false,
     "task": false
    },
    "tags": []
   },
   "outputs": [],
   "source": [
    "# Test 1: Verify f2a is a Python function which takes two input parameters and returns an array. (1 mark)\n",
    "assert callable(f2a) , \"f2a should be a Python function.\"\n",
    "assert len(f2a([0,1],1)) == 2 , \"f2a should return an array of length 2.\"\n",
    "print(\"Test 1: Success!\")"
   ]
  },
  {
   "cell_type": "code",
   "execution_count": null,
   "id": "8a0b2af7-89ee-44d8-beac-9f73f90a7550",
   "metadata": {
    "deletable": false,
    "editable": false,
    "nbgrader": {
     "cell_type": "code",
     "checksum": "be277b1eb8c58e3fc13b9ef805d1e00f",
     "grade": true,
     "grade_id": "cell-658c979e36ee6141",
     "locked": true,
     "points": 1,
     "schema_version": 3,
     "solution": false,
     "task": false
    },
    "tags": []
   },
   "outputs": [],
   "source": [
    "# Test 2: Verify values at x=1, x'=0 and t=1. (1 mark)\n",
    "assert np.allclose(f2a([0,1],1),[1,-1]) , \"f2a([0,1],1) should return array [1,-1].\"\n",
    "print(\"Test 2: Success!\")"
   ]
  },
  {
   "cell_type": "code",
   "execution_count": null,
   "id": "a7197ce7-74f0-4737-aacc-72b67dfee4e1",
   "metadata": {
    "deletable": false,
    "editable": false,
    "nbgrader": {
     "cell_type": "code",
     "checksum": "8dbeb2c5db93bd47c8f61fe26d0ed135",
     "grade": true,
     "grade_id": "cell-2d50ec06a78a0d50",
     "locked": true,
     "points": 1,
     "schema_version": 3,
     "solution": false,
     "task": false
    },
    "tags": []
   },
   "outputs": [],
   "source": [
    "# Test 3: Verify f2a returns the correct values. This cell contains hidden tests. (1 mark)"
   ]
  },
  {
   "cell_type": "markdown",
   "id": "dfae5000-b775-4fa1-ad13-914e3b39fbd5",
   "metadata": {
    "deletable": false,
    "editable": false,
    "nbgrader": {
     "cell_type": "markdown",
     "checksum": "c55db9d854c9460e3a75396208d05059",
     "grade": false,
     "grade_id": "cell-5f315fdb23404bc7",
     "locked": true,
     "schema_version": 3,
     "solution": false,
     "task": false
    },
    "tags": []
   },
   "source": [
    "### Part 2b (3 marks)\n",
    "\n",
    "Use the function `odeint` to approximate the solution $x(t)$ of the equation\n",
    "\n",
    "$$\n",
    "t^2 x'' + t x' + (t^2 - 1)x = 0 , \\ x(1) = 1 , \\ x'(1) = 0\n",
    "$$\n",
    "\n",
    "over the interval $[1,11]$ using 501 equally spaced points from 1 to 11. Save the result as `x2b`."
   ]
  },
  {
   "cell_type": "code",
   "execution_count": null,
   "id": "ff4b2cfb-6010-41cb-b7c7-e69b9cb3d4d5",
   "metadata": {
    "deletable": false,
    "nbgrader": {
     "cell_type": "code",
     "checksum": "f18ce80b31ac71566a5e5081a39e3d45",
     "grade": false,
     "grade_id": "cell-b983260236227286",
     "locked": false,
     "schema_version": 3,
     "solution": true,
     "task": false
    },
    "tags": []
   },
   "outputs": [],
   "source": [
    "# YOUR CODE HERE"
   ]
  },
  {
   "cell_type": "code",
   "execution_count": null,
   "id": "74f6e1ce-3484-4374-9e21-220f8fdd3b76",
   "metadata": {
    "deletable": false,
    "editable": false,
    "nbgrader": {
     "cell_type": "code",
     "checksum": "32cfad6084e6ba9603975775313df3df",
     "grade": true,
     "grade_id": "cell-8d06de3a96b7ea17",
     "locked": true,
     "points": 1,
     "schema_version": 3,
     "solution": false,
     "task": false
    },
    "tags": []
   },
   "outputs": [],
   "source": [
    "# Test 1: Verify x2b is a NumPy array of length 501. (1 mark)\n",
    "assert isinstance(x2b,np.ndarray) , \"x2b should be a NumPy array.\"\n",
    "assert len(x2b) == 501 , \"x2b should have length 501.\"\n",
    "print(\"Test 1: Success!\")"
   ]
  },
  {
   "cell_type": "code",
   "execution_count": null,
   "id": "9ae8bc74-a249-4cfc-8dde-a398ff3f76a8",
   "metadata": {
    "deletable": false,
    "editable": false,
    "nbgrader": {
     "cell_type": "code",
     "checksum": "a882846d97b9989a4e4da1f6ea238b41",
     "grade": true,
     "grade_id": "cell-ebbd224e2d8aa195",
     "locked": true,
     "points": 1,
     "schema_version": 3,
     "solution": false,
     "task": false
    },
    "tags": []
   },
   "outputs": [],
   "source": [
    "# Test 2: Verify values at t=1 and t=11. (1 mark)\n",
    "assert abs(x2b[0] - 1.0) < 1e-14 , \"Value x2b[0] should be 1.\"\n",
    "assert abs(x2b[-1] + 0.32505727130105394) < 1e-14 , \"Value x2b[-1] should be approximately -0.32505727130105394.\"\n",
    "print(\"Test 2: Success!\")"
   ]
  },
  {
   "cell_type": "code",
   "execution_count": null,
   "id": "ebcc556a-133a-4f73-8959-b04e65dd48ca",
   "metadata": {
    "deletable": false,
    "editable": false,
    "nbgrader": {
     "cell_type": "code",
     "checksum": "0202faf10506ca2e48c27ad89d9838d4",
     "grade": true,
     "grade_id": "cell-0630cd466c42d013",
     "locked": true,
     "points": 1,
     "schema_version": 3,
     "solution": false,
     "task": false
    },
    "tags": []
   },
   "outputs": [],
   "source": [
    "# Test 3: Verify x2b has the correct values. This cell contains hidden tests. (1 mark)"
   ]
  },
  {
   "cell_type": "markdown",
   "id": "76ab3d41-e664-4c58-9c55-f8ad5e1af910",
   "metadata": {
    "deletable": false,
    "editable": false,
    "nbgrader": {
     "cell_type": "markdown",
     "checksum": "9f16becc97f7423253964f7d00e9f51a",
     "grade": false,
     "grade_id": "cell-c7b3ec0ebb67634f",
     "locked": true,
     "schema_version": 3,
     "solution": false,
     "task": false
    },
    "tags": []
   },
   "source": [
    "Plot the result:"
   ]
  },
  {
   "cell_type": "code",
   "execution_count": null,
   "id": "ded033d7-0d12-4dd0-8b0a-e94fa438b626",
   "metadata": {
    "deletable": false,
    "editable": false,
    "nbgrader": {
     "cell_type": "code",
     "checksum": "ac783be7deb3e058524522bedbe14c89",
     "grade": false,
     "grade_id": "cell-2edf56c3a50b941a",
     "locked": true,
     "schema_version": 3,
     "solution": false,
     "task": false
    },
    "tags": []
   },
   "outputs": [],
   "source": [
    "t = np.linspace(1,11,501)\n",
    "plt.plot(t,x2b), plt.xlim([0,11]), plt.grid(True)\n",
    "plt.show()"
   ]
  },
  {
   "cell_type": "markdown",
   "id": "1accf948-96a6-44dc-80d1-2747fd52de65",
   "metadata": {
    "deletable": false,
    "editable": false,
    "nbgrader": {
     "cell_type": "markdown",
     "checksum": "e472c8f7c484f2bb5d4170926d339390",
     "grade": false,
     "grade_id": "cell-081c907dc327a043",
     "locked": true,
     "schema_version": 3,
     "solution": false,
     "task": false
    },
    "tags": []
   },
   "source": [
    "## Problem 3\n",
    "\n",
    "Consider the first order system of differential equations:\n",
    "\n",
    "$$\n",
    "\\begin{align*}\n",
    "x_0' &= x_0 x_1 - 3x_2 \\\\\n",
    "x_1' &= -x_0 x_1 + 2x_2 \\\\\n",
    "x_2' &= x_0 x_1 - 2.25x_2\n",
    "\\end{align*}\n",
    "$$\n",
    "\n",
    "### Part 3a\n",
    "\n",
    "Write a Python function called `f3a` to represent the right hand side of the system\n",
    "\n",
    "$$\n",
    "\\frac{d \\mathbf{x}}{dt} = \\mathbf{f}(\\mathbf{x},t)\n",
    "$$\n",
    "\n",
    "where $\\mathbf{x} = [x_0,x_1,x_2]$."
   ]
  },
  {
   "cell_type": "code",
   "execution_count": null,
   "id": "d9076d0d-2257-40c3-b56d-d87e217acfe3",
   "metadata": {
    "deletable": false,
    "nbgrader": {
     "cell_type": "code",
     "checksum": "8d9418aac2b1139e57016c86ff9080b8",
     "grade": false,
     "grade_id": "cell-695cbfb2bb03d442",
     "locked": false,
     "schema_version": 3,
     "solution": true,
     "task": false
    },
    "tags": []
   },
   "outputs": [],
   "source": [
    "# YOUR CODE HERE"
   ]
  },
  {
   "cell_type": "code",
   "execution_count": null,
   "id": "46c6250d-ab6b-443e-a834-030b6013d916",
   "metadata": {
    "deletable": false,
    "editable": false,
    "nbgrader": {
     "cell_type": "code",
     "checksum": "ca80e2d50cf13e65f9f68543685909a9",
     "grade": true,
     "grade_id": "cell-b0146e143dfa0ac0",
     "locked": true,
     "points": 1,
     "schema_version": 3,
     "solution": false,
     "task": false
    },
    "tags": []
   },
   "outputs": [],
   "source": [
    "# Test 1: Verify f3a is a Python function which takes two input parameters and returns an array. (1 mark)\n",
    "assert callable(f3a) , \"f2a should be a Python function.\"\n",
    "assert len(f3a([1,1,1],1)) == 3 , \"f3a should return an array of length 3.\"\n",
    "print(\"Test 1: Success!\")"
   ]
  },
  {
   "cell_type": "code",
   "execution_count": null,
   "id": "6b9fba08-4e9b-4dfa-8cc2-d491bc9b7f6b",
   "metadata": {
    "deletable": false,
    "editable": false,
    "nbgrader": {
     "cell_type": "code",
     "checksum": "20ad1981882b71bb2ac6203a767e9e64",
     "grade": true,
     "grade_id": "cell-b4d6d42efc726798",
     "locked": true,
     "points": 1,
     "schema_version": 3,
     "solution": false,
     "task": false
    },
    "tags": []
   },
   "outputs": [],
   "source": [
    "# Test 2: Verify values at x0=x1=x2=1 and t=1. (1 mark)\n",
    "assert np.allclose(f3a([1,1,1],1),[-2,1,-1.25]) , \"f3a([1,1,1],1) should return the array [-2,1,-1.25].\"\n",
    "print(\"Test 2: Success!\")"
   ]
  },
  {
   "cell_type": "code",
   "execution_count": null,
   "id": "85e1eafc-57e7-4402-8676-057953131931",
   "metadata": {
    "deletable": false,
    "editable": false,
    "nbgrader": {
     "cell_type": "code",
     "checksum": "bf7dbe4dde4e3bad8c2ae9dfccf2a93b",
     "grade": true,
     "grade_id": "cell-93d885f6a2753b94",
     "locked": true,
     "points": 1,
     "schema_version": 3,
     "solution": false,
     "task": false
    },
    "tags": []
   },
   "outputs": [],
   "source": [
    "# Test 3: Verify f3a returns the correct values. This cell contains hidden tests. (1 mark)"
   ]
  },
  {
   "cell_type": "markdown",
   "id": "0751defc-98b6-4961-b3c1-ef09b800abf4",
   "metadata": {
    "deletable": false,
    "editable": false,
    "nbgrader": {
     "cell_type": "markdown",
     "checksum": "839e41954d0a418b606035b73ae31353",
     "grade": false,
     "grade_id": "cell-a7be81f0d04a28bc",
     "locked": true,
     "schema_version": 3,
     "solution": false,
     "task": false
    },
    "tags": []
   },
   "source": [
    "### Part 3b (3 marks)\n",
    "\n",
    "Use the function `odeint` to approximate the solution $\\mathbf{x}(t)$ of the system above with initial values $x_0(0) = x_1(0) = x_2(0) = 1$. Approximate the solution over the interval $[0,10]$ using 501 equally spaced points from 0 to 10. Save the result as `x3b` (a NumPy array of size 501 by 3)."
   ]
  },
  {
   "cell_type": "code",
   "execution_count": null,
   "id": "af57e8c9-89e3-424e-a7ff-372597cc7c6a",
   "metadata": {
    "deletable": false,
    "nbgrader": {
     "cell_type": "code",
     "checksum": "dc21c4c9338765d486cc9e31ed48a396",
     "grade": false,
     "grade_id": "cell-24f7e63781603bde",
     "locked": false,
     "schema_version": 3,
     "solution": true,
     "task": false
    },
    "tags": []
   },
   "outputs": [],
   "source": [
    "# YOUR CODE HERE"
   ]
  },
  {
   "cell_type": "code",
   "execution_count": null,
   "id": "355dc528-60b0-4a01-a9e7-22fc47d0af88",
   "metadata": {
    "deletable": false,
    "editable": false,
    "nbgrader": {
     "cell_type": "code",
     "checksum": "ed7060c6ff24cf65c39a492e21ba5557",
     "grade": true,
     "grade_id": "cell-ba10ba53ba3e49a3",
     "locked": true,
     "points": 1,
     "schema_version": 3,
     "solution": false,
     "task": false
    },
    "tags": []
   },
   "outputs": [],
   "source": [
    "# Test 1: Verify x3b is a NumPy array of size 501 by 3. (1 mark)\n",
    "assert isinstance(x3b,np.ndarray) , \"x3b should be a NumPy array.\"\n",
    "assert x3b.shape == (501,3) , \"x3b should have shape (501,3).\"\n",
    "print(\"Test 1: Success!\")"
   ]
  },
  {
   "cell_type": "code",
   "execution_count": null,
   "id": "594ac54f-fca7-4879-afba-f8da3a7823bd",
   "metadata": {
    "deletable": false,
    "editable": false,
    "nbgrader": {
     "cell_type": "code",
     "checksum": "6df020a7cde08e1ac97c6def7855248d",
     "grade": true,
     "grade_id": "cell-ebb55258af8b73f9",
     "locked": true,
     "points": 1,
     "schema_version": 3,
     "solution": false,
     "task": false
    },
    "tags": []
   },
   "outputs": [],
   "source": [
    "# Test 2: Verify values at t=0 and t=10. (1 mark)\n",
    "assert np.allclose(x3b[0,:],[1,1,1]) , \"Value x3b[0,:] should be the intial values [1,1,1].\"\n",
    "assert np.allclose(x3b[-1,:],[0.39684616, 1.76721871, 0.27379751]) , \"Value x2b[-1,:] should be approximately [0.40, 1.77, 0.27].\"\n",
    "print(\"Test 2: Success!\")"
   ]
  },
  {
   "cell_type": "code",
   "execution_count": null,
   "id": "337c20af-8c99-4ee3-befb-35f3fac49c2b",
   "metadata": {
    "deletable": false,
    "editable": false,
    "nbgrader": {
     "cell_type": "code",
     "checksum": "7e6a9e14df512d8d3b640a3abeb540cb",
     "grade": true,
     "grade_id": "cell-a50cb7ff86a738e3",
     "locked": true,
     "points": 1,
     "schema_version": 3,
     "solution": false,
     "task": false
    },
    "tags": []
   },
   "outputs": [],
   "source": [
    "# Test 3: Verify x3b has the correct values. This cell contains hidden tests. (1 mark)"
   ]
  },
  {
   "cell_type": "markdown",
   "id": "8068cd91-0277-4943-9e1b-00874ce5f9a3",
   "metadata": {
    "deletable": false,
    "editable": false,
    "nbgrader": {
     "cell_type": "markdown",
     "checksum": "823403dd309232edc90557ebfa28ff70",
     "grade": false,
     "grade_id": "cell-f3c9502afc27bcab",
     "locked": true,
     "schema_version": 3,
     "solution": false,
     "task": false
    },
    "tags": []
   },
   "source": [
    "Plot the results:"
   ]
  },
  {
   "cell_type": "code",
   "execution_count": null,
   "id": "2e6c702a-fbdd-4c6c-bc23-07ca7c10ddb9",
   "metadata": {
    "deletable": false,
    "editable": false,
    "nbgrader": {
     "cell_type": "code",
     "checksum": "90bd1c79e42ee172d46db5a0b75a33bb",
     "grade": false,
     "grade_id": "cell-3d0f39bb6647c834",
     "locked": true,
     "schema_version": 3,
     "solution": false,
     "task": false
    },
    "tags": []
   },
   "outputs": [],
   "source": [
    "t = np.linspace(0,10,501)\n",
    "plt.plot(t,x3b), plt.grid(True)\n",
    "plt.show()"
   ]
  },
  {
   "cell_type": "markdown",
   "id": "55458e0e-2848-4de1-8d32-febc764fdf49",
   "metadata": {
    "deletable": false,
    "editable": false,
    "nbgrader": {
     "cell_type": "markdown",
     "checksum": "736496b068c6b81189b875f00c9ae4d5",
     "grade": false,
     "grade_id": "cell-9de0c2f177ed43e0",
     "locked": true,
     "schema_version": 3,
     "solution": false,
     "task": false
    },
    "tags": []
   },
   "source": [
    "## Problem 4 (3 marks)\n",
    "\n",
    "Consider the system of equations\n",
    "\n",
    "$$\n",
    "\\begin{align*}\n",
    "u_0' &= u_0 u_1 - u_1^2 \\\\\n",
    "u_1' &= u_0 u_1 - c u_0^2\n",
    "\\end{align*}\n",
    "$$\n",
    "\n",
    "where $c$ is a parameter such that $c \\ne 1$. There is only one steady state solution $(0,0)$ for any $c \\ne 1$ and the Jacobian is the zero matrix therefore we cannot use linearization to classify the steady state. Plot several trajectories for different initial conditions and different values of the parameter $c$. Find values $a$ and $b$ defining an interval such that if $c \\in (a,b)$ then $u_0(t) \\to 0$ and $u_1(t) \\to 0$ as $t \\to \\infty$ for any initial conditions. Save the values $a$ and $b$ as `a4` and `b4` respectively."
   ]
  },
  {
   "cell_type": "code",
   "execution_count": null,
   "id": "ca5a13d7-b552-4675-9f13-00e93adff48d",
   "metadata": {
    "deletable": false,
    "nbgrader": {
     "cell_type": "code",
     "checksum": "48b270cc140ea094daa8adbaf4a0a44b",
     "grade": false,
     "grade_id": "cell-370883285ba0dcfd",
     "locked": false,
     "schema_version": 3,
     "solution": true,
     "task": false
    },
    "tags": []
   },
   "outputs": [],
   "source": [
    "# YOUR CODE HERE"
   ]
  },
  {
   "cell_type": "code",
   "execution_count": null,
   "id": "9f77f634-9699-42d2-b649-4556aa9c0dc2",
   "metadata": {
    "deletable": false,
    "editable": false,
    "nbgrader": {
     "cell_type": "code",
     "checksum": "1fd8e02e5a3105fa2b2160333dfe42b4",
     "grade": true,
     "grade_id": "cell-a3a57578cf1ba569",
     "locked": true,
     "points": 1,
     "schema_version": 3,
     "solution": false,
     "task": false
    },
    "tags": []
   },
   "outputs": [],
   "source": [
    "# Test 1: Verify a4 and b4 are numeric types. (1 mark)\n",
    "assert isinstance(a4,(int,float))\n",
    "assert isinstance(b4,(int,float))\n",
    "print(\"Test 1: Success!\")"
   ]
  },
  {
   "cell_type": "code",
   "execution_count": null,
   "id": "50b42809-5d17-42e6-983f-61935508e082",
   "metadata": {
    "deletable": false,
    "editable": false,
    "nbgrader": {
     "cell_type": "code",
     "checksum": "5b10326098d142025e51ab7fe18a47d4",
     "grade": true,
     "grade_id": "cell-f52af7733b28c64a",
     "locked": true,
     "points": 1,
     "schema_version": 3,
     "solution": false,
     "task": false
    },
    "tags": []
   },
   "outputs": [],
   "source": [
    "# Test 2: Verify a4 is the correct value. This cell contains hidden tests. (1 mark)"
   ]
  },
  {
   "cell_type": "code",
   "execution_count": null,
   "id": "a6922020-28c3-4945-9904-b039e9f7233e",
   "metadata": {
    "deletable": false,
    "editable": false,
    "nbgrader": {
     "cell_type": "code",
     "checksum": "98200ca6611f09a70ded1a9d00185e46",
     "grade": true,
     "grade_id": "cell-a4596d3e5263eae3",
     "locked": true,
     "points": 1,
     "schema_version": 3,
     "solution": false,
     "task": false
    },
    "tags": []
   },
   "outputs": [],
   "source": [
    "# Test 3: Verify b4 is the correct value. This cell contains hidden tests. (1 mark)"
   ]
  }
 ],
 "metadata": {
  "kernelspec": {
   "display_name": "Python 3 (ipykernel)",
   "language": "python",
   "name": "python3"
  },
  "language_info": {
   "codemirror_mode": {
    "name": "ipython",
    "version": 3
   },
   "file_extension": ".py",
   "mimetype": "text/x-python",
   "name": "python",
   "nbconvert_exporter": "python",
   "pygments_lexer": "ipython3",
   "version": "3.10.12"
  }
 },
 "nbformat": 4,
 "nbformat_minor": 5
}
