{
 "cells": [
  {
   "cell_type": "markdown",
   "id": "754f7f3f-ab72-45d4-9abe-81f71550ebbd",
   "metadata": {},
   "source": [
    "# MATH 360 Worksheet 8"
   ]
  },
  {
   "cell_type": "code",
   "execution_count": 1,
   "id": "3cb4f143-887c-4050-ba0e-18c862a791dc",
   "metadata": {},
   "outputs": [],
   "source": [
    "import numpy as np\n",
    "import scipy.integrate as spi\n",
    "import matplotlib.pyplot as plt"
   ]
  },
  {
   "cell_type": "markdown",
   "id": "f7bcfe14-4ac3-4b2a-ae1b-e39cf43985ef",
   "metadata": {},
   "source": [
    "## Learning Goals\n",
    "\n",
    "* Apply the mass balance equation to a mathematical models of mass transfer\n",
    "* Apply the nondimensionalization procedure and interpret dimensionless parameters\n",
    "* Approximate solutions of first order systems of differential equations with SciPy"
   ]
  },
  {
   "cell_type": "markdown",
   "id": "11d4b96a-e394-404a-a144-5026adc760db",
   "metadata": {},
   "source": [
    "## Prelecture Readings\n",
    "\n",
    "* [MATH 360 > Mass Balance](http://localhost:8000/deterministic/mass/) including:\n",
    "  * [Conservation of Mass](http://localhost:8000/deterministic/mass/conservation.html)\n",
    "  * [Chemical Kinetics](http://localhost:8000/deterministic/mass/chemical.html)"
   ]
  },
  {
   "cell_type": "markdown",
   "id": "abe31f6d-a304-4bb0-82a1-a501ea70da05",
   "metadata": {},
   "source": [
    "## Mass Balance Equation\n",
    "\n",
    "What is the **mass balance equation** and how do we use it to construct mathematical models?"
   ]
  },
  {
   "cell_type": "code",
   "execution_count": null,
   "id": "3b09bb0d-3d8d-4150-a517-b044789e0cef",
   "metadata": {},
   "outputs": [],
   "source": []
  },
  {
   "cell_type": "markdown",
   "id": "96917a85-39ac-40fa-8e0e-21422fea7b8c",
   "metadata": {},
   "source": [
    "## 3-Tank System\n",
    "\n",
    "Consider a system of 3 tanks containing salt water solution (with different concentrations) such that each tank contains the same volume of solution and each flows into the others at the same constant rate. Construct a mathematical model of the system."
   ]
  },
  {
   "cell_type": "code",
   "execution_count": null,
   "id": "485c5c7d-e756-4589-9a7f-b93892a01715",
   "metadata": {},
   "outputs": [],
   "source": []
  },
  {
   "cell_type": "markdown",
   "id": "d015ac7e-c843-46fb-b583-38c96e1cfb42",
   "metadata": {},
   "source": [
    "## Law of Mass Action\n",
    "\n",
    "What is the **law of mass action** and how do we use it to construct mathematical models?"
   ]
  },
  {
   "cell_type": "code",
   "execution_count": null,
   "id": "92062f9f-4b7a-4af8-ac69-1987620bcde6",
   "metadata": {},
   "outputs": [],
   "source": []
  },
  {
   "cell_type": "markdown",
   "id": "e742a2c9-082d-4fd1-82c1-3ade6875df0c",
   "metadata": {},
   "source": [
    "## Hydrogenation of Ethylene\n",
    "\n",
    "Create a mathematical model of the hydrogenation of ethylene ($C_2H_4$) into ethane ($C_2H_6$) given by the reactions\n",
    "\n",
    "$$\n",
    "\\begin{align*}\n",
    "H_2 & \\overset{k_1}{\\underset{k_{-1}}{\\rightleftharpoons}} 2H \\\\\n",
    "C_2H_4 + H & \\overset{k_2}{\\rightarrow} C_2H_5 \\\\\n",
    "C_2H_5 + H & \\overset{k_3}{\\rightarrow} C_2H_6 \\\\\n",
    "\\end{align*}\n",
    "$$"
   ]
  },
  {
   "cell_type": "code",
   "execution_count": null,
   "id": "5129ebfb-a595-4645-adb6-93b2170e565e",
   "metadata": {},
   "outputs": [],
   "source": []
  },
  {
   "cell_type": "markdown",
   "id": "9d156f9b-7569-4b30-a11f-0aa8c4dc914c",
   "metadata": {},
   "source": [
    "## Epidemiology as Chemical Reactions\n",
    "\n",
    "We can construct the familiar [SIR model](https://en.wikipedia.org/wiki/Compartmental_models_in_epidemiology#The_SIR_model) in epidemiology in terms of \"chemical reactions\" and the law of mass action. In particular, the first reaction is a susceptible person interacts with an infectious person to create 2 infectious persons, and the second reaction in the system is that an infectious person becomes a recovered person:\n",
    "\n",
    "$$\n",
    "\\begin{align*}\n",
    "S + I & \\overset{k_1}{\\rightarrow} 2I \\\\\n",
    "I & \\overset{k_2}{\\rightarrow} R\n",
    "\\end{align*}\n",
    "$$\n",
    "\n",
    "Apply the law of mass action to find the system of equations:\n",
    "\n",
    "$$\n",
    "\\begin{align*}\n",
    "\\frac{dS}{dt} &= -k_1 SI \\\\\n",
    "\\frac{dI}{dt} &= k_1SI - k_2 I \\\\\n",
    "\\frac{dR}{dt} &= k_2 I\n",
    "\\end{align*}\n",
    "$$\n",
    "\n",
    "Note that $k_1 = \\beta/N$ and $k_2 = \\gamma$ in the usual formulation of the model (where $N = S + I + R$)."
   ]
  },
  {
   "cell_type": "markdown",
   "id": "6b82f910-4ef5-4aec-87b1-105aa944fc3a",
   "metadata": {},
   "source": [
    "Apply the same idea to construct a more complex model including vaccination and reinfection. Represent the system as a system of reactions:\n",
    "\n",
    "$$\n",
    "\\begin{align*}\n",
    "S + I & \\overset{k_1}{\\rightarrow} 2I \\\\\n",
    "I & \\overset{k_2}{\\rightarrow} R \\\\\n",
    "R & \\overset{k_3}{\\rightarrow} S \\\\\n",
    "S & \\overset{k_4}{\\rightarrow} V\n",
    "\\end{align*}\n",
    "$$\n",
    "\n",
    "where $S$ is the susceptible population, $I$ is the infectious population, $R$ is the recovered population, $V$ is the vaccinated population."
   ]
  },
  {
   "cell_type": "code",
   "execution_count": null,
   "id": "76940712-884f-4e08-a9dc-f092f2e4222f",
   "metadata": {},
   "outputs": [],
   "source": []
  },
  {
   "cell_type": "markdown",
   "id": "b61551d0-9528-4960-8090-93521d1aae05",
   "metadata": {},
   "source": [
    "## Solution Draining from a Tank\n",
    "\n",
    "Suppose a tank contains a salt water solution. The solution is drained from the bottom of the tank at a rate proportional to the pressure $\\rho gh$ where $\\rho$ is the density of the solution and $h$ is the height of the volume of solution in the tank. Suppose pure water is also flowing into the top of the tank at a rate that may change over time. Construct a mathematical model of the system."
   ]
  },
  {
   "cell_type": "code",
   "execution_count": null,
   "id": "815d3c6f-79ac-4f06-960a-a7e28e6d8d8c",
   "metadata": {},
   "outputs": [],
   "source": []
  }
 ],
 "metadata": {
  "kernelspec": {
   "display_name": "Python 3 (ipykernel)",
   "language": "python",
   "name": "python3"
  },
  "language_info": {
   "codemirror_mode": {
    "name": "ipython",
    "version": 3
   },
   "file_extension": ".py",
   "mimetype": "text/x-python",
   "name": "python",
   "nbconvert_exporter": "python",
   "pygments_lexer": "ipython3",
   "version": "3.10.12"
  }
 },
 "nbformat": 4,
 "nbformat_minor": 5
}
