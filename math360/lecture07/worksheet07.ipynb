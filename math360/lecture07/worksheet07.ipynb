{
 "cells": [
  {
   "cell_type": "markdown",
   "id": "af97e125-2baf-4251-9ad3-87d36a769b85",
   "metadata": {},
   "source": [
    "# MATH 360 Worksheet 7"
   ]
  },
  {
   "cell_type": "code",
   "execution_count": 1,
   "id": "e975295e-d532-4191-88c5-220b13ad137d",
   "metadata": {},
   "outputs": [],
   "source": [
    "import numpy as np\n",
    "import matplotlib.pyplot as plt\n",
    "import scipy.integrate as spi"
   ]
  },
  {
   "cell_type": "markdown",
   "id": "14359f1c-70bd-4333-a461-a7fba5e278cd",
   "metadata": {},
   "source": [
    "## Learning Goals\n",
    "\n",
    "* Apply the energy balance equation to global climate models\n",
    "* Describe, in general terms, basic concepts in climate science such as heat capacity, thermal radiation, solar constant, albedo, black body, Stefan-Boltzmann law, and greenhouse effect."
   ]
  },
  {
   "cell_type": "markdown",
   "id": "57396340-f3f6-4815-9733-8884dcf0ff80",
   "metadata": {},
   "source": [
    "## Prereading Activities\n",
    "\n",
    "* Chapter 2: Earth's Energy Budget (in [Mathematics and Climate](https://epubs.siam.org/doi/10.1137/1.9781611972610) by Kaper and Engler)\n",
    "* [MATH 360 > Heat Transfer](https://ubcmath.github.io/MATH360/deterministic/heat/index.html) including:\n",
    "  * [Energy Balance](https://ubcmath.github.io/MATH360/deterministic/heat/balance.html)\n",
    "  * [Thermal Radiation](https://ubcmath.github.io/MATH360/deterministic/heat/radiation.html)\n",
    "  * [Global Energy Balance](https://ubcmath.github.io/MATH360/deterministic/heat/climate.html)"
   ]
  },
  {
   "cell_type": "markdown",
   "id": "5f3df202-83be-497a-9380-6323353a7cf7",
   "metadata": {},
   "source": [
    "## Heat Capacity\n",
    "\n",
    "Describe **heat capacity** in your own words."
   ]
  },
  {
   "cell_type": "code",
   "execution_count": null,
   "id": "c195e5cf-877f-4999-bf89-62f5f14193f4",
   "metadata": {},
   "outputs": [],
   "source": []
  },
  {
   "cell_type": "markdown",
   "id": "92b684dd-5d31-4835-97ad-56905df6c4f9",
   "metadata": {},
   "source": [
    "Which has a *larger* heat capacity: air or water? Try to answer the question without searching the web."
   ]
  },
  {
   "cell_type": "code",
   "execution_count": null,
   "id": "4be91523-12fa-43fd-a9d8-f2298234cc5c",
   "metadata": {},
   "outputs": [],
   "source": []
  },
  {
   "cell_type": "markdown",
   "id": "d0138c21-b114-4fc0-a89b-15ffec2b7ef8",
   "metadata": {},
   "source": [
    "Google it! Were you correct? If not, try to articulate your misconception."
   ]
  },
  {
   "cell_type": "code",
   "execution_count": null,
   "id": "8b9250a9-ac48-4e6d-90f5-1c6f74c7e4af",
   "metadata": {},
   "outputs": [],
   "source": []
  },
  {
   "cell_type": "markdown",
   "id": "13972fe1-0453-4fb3-a234-179e0d6c320c",
   "metadata": {},
   "source": [
    "## Energy Balance Equation\n",
    "\n",
    "What is the **energy balance equation** and how do we use it to construct mathematical models?"
   ]
  },
  {
   "cell_type": "code",
   "execution_count": null,
   "id": "fd167397-c851-4c07-a9a6-bfa0e8468e73",
   "metadata": {},
   "outputs": [],
   "source": []
  },
  {
   "cell_type": "markdown",
   "id": "7a643611-6dfb-4a5b-92c8-7822b8033e04",
   "metadata": {},
   "source": [
    "Think of an example where heat is flowing through a system. Write a problem statement to describe the example."
   ]
  },
  {
   "cell_type": "code",
   "execution_count": null,
   "id": "dc80128e-6010-4766-9c3b-b3218e6bb8e5",
   "metadata": {},
   "outputs": [],
   "source": []
  },
  {
   "cell_type": "markdown",
   "id": "db595dc2-1a6a-4e39-b849-f083e56b31b9",
   "metadata": {},
   "source": [
    "## Radiation\n",
    "\n",
    "What is **thermal radiation** and how is it different from **conduction** or **convection**? If you don't have much experience with heat transfer, search the internet for an explanation that makes sense to you."
   ]
  },
  {
   "cell_type": "code",
   "execution_count": null,
   "id": "465c71a4-70a7-476e-ae5d-2f65ae82a0f7",
   "metadata": {},
   "outputs": [],
   "source": []
  },
  {
   "cell_type": "markdown",
   "id": "d1f8e403-206c-4861-af37-c7cb010e0aa9",
   "metadata": {},
   "source": [
    "What is the **solar constant** and what are its units and dimensions?"
   ]
  },
  {
   "cell_type": "code",
   "execution_count": null,
   "id": "59f5b161-86c1-420c-ad69-ef8c9a0663fd",
   "metadata": {},
   "outputs": [],
   "source": []
  },
  {
   "cell_type": "markdown",
   "id": "b813686a-c2e4-4d8c-bf84-b476a9cbc2ef",
   "metadata": {},
   "source": [
    "What is **albedo**? If the Earth was completely covered in snow and ice, would you expect the albedo to be higher or lower compared to what it is today?"
   ]
  },
  {
   "cell_type": "code",
   "execution_count": null,
   "id": "b22fc7de-3182-4d39-9eed-2342fe72cb45",
   "metadata": {},
   "outputs": [],
   "source": []
  },
  {
   "cell_type": "markdown",
   "id": "f78bc0ea-0f6e-412b-8cbc-57e1c927d407",
   "metadata": {},
   "source": [
    "What is the **Stefan–Boltzmann law** and how do we use it to contruct mathematical models of heat transfer?"
   ]
  },
  {
   "cell_type": "code",
   "execution_count": null,
   "id": "c2c8afd2-2163-4e40-839b-c38d0d3654bd",
   "metadata": {},
   "outputs": [],
   "source": []
  },
  {
   "cell_type": "markdown",
   "id": "8209f38d-0162-4611-8957-b0b56da465a8",
   "metadata": {},
   "source": [
    "## Temperature Dependent Albedo"
   ]
  },
  {
   "cell_type": "markdown",
   "id": "d7eefac3-9fcd-4246-88d1-be2d4c9c7aa9",
   "metadata": {},
   "source": [
    "The Earth's albedo depends on how much snow and ice cover the Earth. Global temperature below freezing would increase the amount of snow and ice which reflect more solar radiation therefore let us assume that the albedo varies with temperature according to the function:\n",
    "\n",
    "$$\n",
    "\\alpha = \\left\\{ \\begin{array}{ccc} 0.6 & , & T \\leq 255 \\\\ 0.6 - (0.4/35)(T - 255) & , & 255 \\leq T \\leq 290 \\\\ 0.2 & , & T \\geq 290 \\end{array} \\right.\n",
    "$$\n",
    "\n",
    "Construct a mathematical model of global temperature with albedo $\\alpha(T)$, apply the nondimensionalization procedure, visualize the results, and classify the steady states."
   ]
  },
  {
   "cell_type": "code",
   "execution_count": null,
   "id": "6808d1a7-52e4-4080-8261-610fa83bfda4",
   "metadata": {},
   "outputs": [],
   "source": []
  },
  {
   "cell_type": "markdown",
   "id": "05561842-27d3-49d0-a1f0-0b3ff43668ac",
   "metadata": {},
   "source": [
    "## Budyko's Model\n",
    "\n",
    "Observational data suggests that the Earth does not emit energy exactly like a black body. Budyko's model was proposed in the 1960s based on satelitte data and takes the form of a simple linear model\n",
    "\n",
    "$$\n",
    "Q_{out} = 4 \\pi R^2 (A + BT)\n",
    "$$\n",
    "\n",
    "where $R$ is the radius of the Earth, $A$ has dimensions M T<sup>-3</sup> (and units $W/m^2$) and $B$ has dimensions M T<sup>-3</sup> $\\Theta$<sup>-1</sup> (and units $W/(m^2 K)$). Use Budyko's model with the temperature dependent albedo in the previous example to constuct a mathematical model of global temperature. How does the model change?"
   ]
  },
  {
   "cell_type": "code",
   "execution_count": null,
   "id": "f3a73346-a679-4a81-80b1-d6419bb88999",
   "metadata": {},
   "outputs": [],
   "source": []
  }
 ],
 "metadata": {
  "kernelspec": {
   "display_name": "Python 3 (ipykernel)",
   "language": "python",
   "name": "python3"
  },
  "language_info": {
   "codemirror_mode": {
    "name": "ipython",
    "version": 3
   },
   "file_extension": ".py",
   "mimetype": "text/x-python",
   "name": "python",
   "nbconvert_exporter": "python",
   "pygments_lexer": "ipython3",
   "version": "3.10.12"
  }
 },
 "nbformat": 4,
 "nbformat_minor": 5
}
