{
 "cells": [
  {
   "cell_type": "markdown",
   "id": "dc49a18d-2f28-4c5d-98e4-4c2f1faef9da",
   "metadata": {
    "deletable": false,
    "editable": false,
    "nbgrader": {
     "cell_type": "markdown",
     "checksum": "32964820e718dca92b63f6224267b7b2",
     "grade": false,
     "grade_id": "cell-8e8621deb723e6ab",
     "locked": true,
     "schema_version": 3,
     "solution": false,
     "task": false
    },
    "tags": []
   },
   "source": [
    "# MATH 360 Python Assignment 0\n",
    "\n",
    "* See [Mathematical Python](https://patrickwalls.github.io/mathematicalpython/) for an introduction to Python and Jupyter\n",
    "* Write solutions in the cells with `YOUR CODE HERE`\n",
    "* Do **not** import any packages (other than the standard packages in the cell below)\n",
    "* Run the tests to verify your solutions\n",
    "* There are **hidden tests** therefore your solutions may not be entirely correct even if they pass the tests below\n",
    "* Submit your `.ipynb` notebook file to Canvas (download from Syzygy to your machine and upload to Canvas)"
   ]
  },
  {
   "cell_type": "code",
   "execution_count": null,
   "id": "e5d43382-74e7-4705-b467-8cf97d0ce538",
   "metadata": {
    "deletable": false,
    "editable": false,
    "nbgrader": {
     "cell_type": "code",
     "checksum": "2d91511cc4cfdd3628e4be9d2975bc05",
     "grade": false,
     "grade_id": "cell-a0b586283624e6d2",
     "locked": true,
     "schema_version": 3,
     "solution": false,
     "task": false
    },
    "tags": []
   },
   "outputs": [],
   "source": [
    "import numpy as np\n",
    "import scipy.linalg as la\n",
    "import matplotlib.pyplot as plt"
   ]
  },
  {
   "cell_type": "markdown",
   "id": "c692f5ef-bfe5-4308-822f-2bef1eb289b5",
   "metadata": {
    "deletable": false,
    "editable": false,
    "nbgrader": {
     "cell_type": "markdown",
     "checksum": "051686fa9d3c1b9378860b0c3304c62b",
     "grade": false,
     "grade_id": "cell-e5a486b671f144a9",
     "locked": true,
     "schema_version": 3,
     "solution": false,
     "task": false
    },
    "tags": []
   },
   "source": [
    "## Problem 1: Numbers\n",
    "\n",
    "See [Mathematical Python > Numbers](https://patrickwalls.github.io/mathematicalpython/python/numbers/) and [Mathematical Python > Variables](https://patrickwalls.github.io/mathematicalpython/python/variables/) to review how to perform numerical computations and save values to variables.\n",
    "\n",
    "### Part 1a (2 marks)\n",
    "\n",
    "Compute the following value for $r = 0.25$ and $N = 10$.\n",
    "\n",
    "$$\n",
    "\\frac{1 - r^{N + 1}}{1 - r}\n",
    "$$\n",
    "\n",
    "Save the result as `x1a`."
   ]
  },
  {
   "cell_type": "code",
   "execution_count": null,
   "id": "bcaa2887-9b22-4fd9-a6b8-e32f71abd630",
   "metadata": {
    "deletable": false,
    "nbgrader": {
     "cell_type": "code",
     "checksum": "7350773b8cbb3f52d69c977a64c9e475",
     "grade": false,
     "grade_id": "cell-52371be020c383a8",
     "locked": false,
     "schema_version": 3,
     "solution": true,
     "task": false
    },
    "tags": []
   },
   "outputs": [],
   "source": [
    "# YOUR CODE HERE"
   ]
  },
  {
   "cell_type": "code",
   "execution_count": null,
   "id": "16362ab2-732f-484c-922f-1a55aef567d1",
   "metadata": {
    "deletable": false,
    "editable": false,
    "nbgrader": {
     "cell_type": "code",
     "checksum": "cadd830e07e36a386a343c8f73ced021",
     "grade": true,
     "grade_id": "cell-b440b2378931201a",
     "locked": true,
     "points": 1,
     "schema_version": 3,
     "solution": false,
     "task": false
    },
    "tags": []
   },
   "outputs": [],
   "source": [
    "# Test 1: Verify x1a is a floating point number larger than 0. (1 mark)\n",
    "assert isinstance(x1a,float) , \"x1a should be a float.\"\n",
    "assert x1a > 0 , \"x1a should be positive.\"\n",
    "print(\"Test 1: Success!\")"
   ]
  },
  {
   "cell_type": "code",
   "execution_count": null,
   "id": "d21fa327-9a65-4db9-b50b-a5e1b46cfeae",
   "metadata": {
    "deletable": false,
    "editable": false,
    "nbgrader": {
     "cell_type": "code",
     "checksum": "85982fe18af6c0ae6edf3acf9f39cdf1",
     "grade": true,
     "grade_id": "cell-913584447aa1751c",
     "locked": true,
     "points": 1,
     "schema_version": 3,
     "solution": false,
     "task": false
    }
   },
   "outputs": [],
   "source": [
    "# Test 2: Verify x1a is the correct value. This cell contains hidden tests. (1 mark)"
   ]
  },
  {
   "cell_type": "markdown",
   "id": "72e70c48-f953-47be-806a-984a497d5756",
   "metadata": {
    "deletable": false,
    "editable": false,
    "nbgrader": {
     "cell_type": "markdown",
     "checksum": "3b9429dad2b2fd24ae891c03bae5644c",
     "grade": false,
     "grade_id": "cell-4c252f6c315578e1",
     "locked": true,
     "schema_version": 3,
     "solution": false,
     "task": false
    },
    "tags": []
   },
   "source": [
    "### Part 1b (2 marks)\n",
    "\n",
    "Compute the following value for $a = 2$, $b = -3$ and $c = -1$.\n",
    "\n",
    "$$\n",
    "\\frac{- b + \\sqrt{b^2 - 4ac}}{2a}\n",
    "$$\n",
    "\n",
    "Save the result as `x1b`."
   ]
  },
  {
   "cell_type": "code",
   "execution_count": null,
   "id": "bbdcaefe-6a25-4023-8946-10619d627fdf",
   "metadata": {
    "deletable": false,
    "nbgrader": {
     "cell_type": "code",
     "checksum": "962c4e11a0257db7a1aeb5a9a5c669ed",
     "grade": false,
     "grade_id": "cell-17626fb52c78fd2d",
     "locked": false,
     "schema_version": 3,
     "solution": true,
     "task": false
    },
    "tags": []
   },
   "outputs": [],
   "source": [
    "# YOUR CODE HERE"
   ]
  },
  {
   "cell_type": "code",
   "execution_count": null,
   "id": "4ec08cbc-0727-4a56-acb4-026091184d0a",
   "metadata": {
    "deletable": false,
    "editable": false,
    "nbgrader": {
     "cell_type": "code",
     "checksum": "5d6bccec56fcb1cada22a932772cba36",
     "grade": true,
     "grade_id": "cell-8c0deb76311d136f",
     "locked": true,
     "points": 1,
     "schema_version": 3,
     "solution": false,
     "task": false
    },
    "tags": []
   },
   "outputs": [],
   "source": [
    "# Test 1: Verify x1b is a floating point number larger than 0. (1 mark)\n",
    "assert isinstance(x1b,float) , \"x1b should be a float.\"\n",
    "assert x1b > 0 , \"x1b should be positive.\"\n",
    "print(\"Test 1: Success!\")"
   ]
  },
  {
   "cell_type": "code",
   "execution_count": null,
   "id": "d1ecd678-2278-4d28-ae5e-916d5abef6ac",
   "metadata": {
    "deletable": false,
    "editable": false,
    "nbgrader": {
     "cell_type": "code",
     "checksum": "8f1a6a2cfb400e9d6147139a6a54640b",
     "grade": true,
     "grade_id": "cell-cd817a8d8b4b31fa",
     "locked": true,
     "points": 1,
     "schema_version": 3,
     "solution": false,
     "task": false
    },
    "tags": []
   },
   "outputs": [],
   "source": [
    "# Test 2: Verify x1b is the correct value. This cell contains hidden tests. (1 mark)"
   ]
  },
  {
   "cell_type": "markdown",
   "id": "22af4af5-7af0-45c4-8baa-80d23aac1a76",
   "metadata": {
    "deletable": false,
    "editable": false,
    "nbgrader": {
     "cell_type": "markdown",
     "checksum": "3ca8f3bad5bf1928ebc7a7618c352ccc",
     "grade": false,
     "grade_id": "cell-bfc4dd4b480a4ba7",
     "locked": true,
     "schema_version": 3,
     "solution": false,
     "task": false
    },
    "tags": []
   },
   "source": [
    "### Part 1c (2 marks)\n",
    "\n",
    "Compute the following value for $a_0 = 3$, $a_1 = 7$, $a_2 = 15$, $a_3 = 1$ and $a_4 = 292$.\n",
    "\n",
    "$$\n",
    "a_0 + \\frac{1}{a_1 + \\frac{1}{a_2 + \\frac{1}{a_3 + \\frac{1}{a_4}}}}\n",
    "$$\n",
    "\n",
    "Save the result as `x1c`."
   ]
  },
  {
   "cell_type": "code",
   "execution_count": null,
   "id": "64f2efbd-0dbc-43f9-a689-0310744b99de",
   "metadata": {
    "deletable": false,
    "nbgrader": {
     "cell_type": "code",
     "checksum": "31e0cc24a6a74d911cb011d3a721038b",
     "grade": false,
     "grade_id": "cell-b59459e3690c59b6",
     "locked": false,
     "schema_version": 3,
     "solution": true,
     "task": false
    },
    "tags": []
   },
   "outputs": [],
   "source": [
    "# YOUR CODE HERE"
   ]
  },
  {
   "cell_type": "code",
   "execution_count": null,
   "id": "4e690d3e-fd16-4376-becf-d8546252e38b",
   "metadata": {
    "deletable": false,
    "editable": false,
    "nbgrader": {
     "cell_type": "code",
     "checksum": "ab3031a237e4f8d71920d0a58ad47a1e",
     "grade": true,
     "grade_id": "cell-6cefbaa36a234ca0",
     "locked": true,
     "points": 1,
     "schema_version": 3,
     "solution": false,
     "task": false
    },
    "tags": []
   },
   "outputs": [],
   "source": [
    "# Test 1: Verify x1c is a floating point number larger than 0. (1 mark)\n",
    "assert isinstance(x1c,float) , \"x1c should be a float.\"\n",
    "assert x1c > 0 , \"x1c should be positive.\"\n",
    "print(\"Test 1: Success!\")"
   ]
  },
  {
   "cell_type": "code",
   "execution_count": null,
   "id": "15ed9ff6-44f3-49f8-b7ea-37c084f97f7b",
   "metadata": {
    "deletable": false,
    "editable": false,
    "nbgrader": {
     "cell_type": "code",
     "checksum": "7d9ff174d8da957ad7fa1e96d2238984",
     "grade": true,
     "grade_id": "cell-93bfb86cdc805f26",
     "locked": true,
     "points": 1,
     "schema_version": 3,
     "solution": false,
     "task": false
    },
    "tags": []
   },
   "outputs": [],
   "source": [
    "# Test 2: Verify x1c is the correct value. This cell contains hidden tests. (1 mark)"
   ]
  },
  {
   "cell_type": "markdown",
   "id": "d2bf48ce-fa32-4a11-bf8c-230641879374",
   "metadata": {
    "deletable": false,
    "editable": false,
    "nbgrader": {
     "cell_type": "markdown",
     "checksum": "ff13d673eeb47a9eab3c616b1675985c",
     "grade": false,
     "grade_id": "cell-6038d0db9e17e457",
     "locked": true,
     "schema_version": 3,
     "solution": false,
     "task": false
    },
    "tags": []
   },
   "source": [
    "## Problem 2: Vectors\n",
    "\n",
    "See [Mathematical Python > NumPy](https://patrickwalls.github.io/mathematicalpython/scipy/numpy/) to review how to work with NumPy arrays.\n",
    "\n",
    "### Part 2a (2 marks)\n",
    "\n",
    "Create a NumPy array with 121 evenly spaced values from 0 to 15 (inclusive). Save the result as `v2a`."
   ]
  },
  {
   "cell_type": "code",
   "execution_count": null,
   "id": "6f5f7873-cb56-40b6-9b6e-c8fe0510c468",
   "metadata": {
    "deletable": false,
    "nbgrader": {
     "cell_type": "code",
     "checksum": "5d0d5253329f47e23c0e2206e29910bc",
     "grade": false,
     "grade_id": "cell-a9bcae4c88206fc9",
     "locked": false,
     "schema_version": 3,
     "solution": true,
     "task": false
    },
    "tags": []
   },
   "outputs": [],
   "source": [
    "# YOUR CODE HERE"
   ]
  },
  {
   "cell_type": "code",
   "execution_count": null,
   "id": "987083e9-63ad-4f44-a63e-19be28615c08",
   "metadata": {
    "deletable": false,
    "editable": false,
    "nbgrader": {
     "cell_type": "code",
     "checksum": "ebc97955eebbab9f47b36708dd348dd1",
     "grade": true,
     "grade_id": "cell-6eaa9fe6031fcd84",
     "locked": true,
     "points": 1,
     "schema_version": 3,
     "solution": false,
     "task": false
    },
    "tags": []
   },
   "outputs": [],
   "source": [
    "# Test 1: Verify v2a is a NumPy array of length 121 with first entry 0 and last entry 15. (1 mark)\n",
    "assert isinstance(v2a,np.ndarray) , \"v2a should be a NumPy array.\"\n",
    "assert len(v2a) == 121 , \"v2a should have length 121.\"\n",
    "assert v2a[0] == 0. , \"First entry of v2a should be 0.\"\n",
    "assert v2a[-1] == 15. , \"Last entry of v2a should be 15.\"\n",
    "print(\"Test 1: Success!\")"
   ]
  },
  {
   "cell_type": "code",
   "execution_count": null,
   "id": "9f6c17c7-8daf-4ae8-b73d-2214d0562442",
   "metadata": {
    "deletable": false,
    "editable": false,
    "nbgrader": {
     "cell_type": "code",
     "checksum": "7e7e2b076890b9efa1c37f008d779f2e",
     "grade": true,
     "grade_id": "cell-7530f160f0aa2b2e",
     "locked": true,
     "points": 1,
     "schema_version": 3,
     "solution": false,
     "task": false
    },
    "tags": []
   },
   "outputs": [],
   "source": [
    "# Test 2: Verify v2a is the correct value. This cell contains hidden tests. (1 mark)"
   ]
  },
  {
   "cell_type": "markdown",
   "id": "bcc851fc-a89f-498b-a254-712162179209",
   "metadata": {
    "deletable": false,
    "editable": false,
    "nbgrader": {
     "cell_type": "markdown",
     "checksum": "3f1c54e4a8482bd1f3d1d8dcf51eafd1",
     "grade": false,
     "grade_id": "cell-38f9ae7ebb1fed5f",
     "locked": true,
     "schema_version": 3,
     "solution": false,
     "task": false
    },
    "tags": []
   },
   "source": [
    "### Part 2b (2 marks)\n",
    "\n",
    "Create a NumPy array with 21 entries such that entry at index $n$ is given by the formula:\n",
    "\n",
    "$$\n",
    "\\frac{(-1)^n x^{n+1}}{n + 1}\n",
    "$$\n",
    "\n",
    "for $x = 1/2$. Save the result as `v2b`."
   ]
  },
  {
   "cell_type": "code",
   "execution_count": null,
   "id": "225a617a-7584-45aa-91b8-77ccba422254",
   "metadata": {
    "deletable": false,
    "nbgrader": {
     "cell_type": "code",
     "checksum": "96d100141691f417b13b545520f5a024",
     "grade": false,
     "grade_id": "cell-98e654a5c746ab9f",
     "locked": false,
     "schema_version": 3,
     "solution": true,
     "task": false
    },
    "tags": []
   },
   "outputs": [],
   "source": [
    "# YOUR CODE HERE"
   ]
  },
  {
   "cell_type": "code",
   "execution_count": null,
   "id": "7ad59fab-3f13-4c3f-ac8e-bda50330fe0b",
   "metadata": {
    "deletable": false,
    "editable": false,
    "nbgrader": {
     "cell_type": "code",
     "checksum": "bce0f0ed15c816e65dfa918699e733dd",
     "grade": true,
     "grade_id": "cell-e3cd5b1e423f6e1d",
     "locked": true,
     "points": 1,
     "schema_version": 3,
     "solution": false,
     "task": false
    },
    "tags": []
   },
   "outputs": [],
   "source": [
    "# Test 1: Verify v2b is a NumPy array of length 21 with first entry 1/2. (1 mark)\n",
    "assert isinstance(v2b,np.ndarray) , \"v2b should be a NumPy array.\"\n",
    "assert len(v2b) == 21 , \"v2b should have length 21.\"\n",
    "assert abs(v2b[0] - 1/2) < 1e-14 , \"First entry of v2b should be 1/2.\"\n",
    "print(\"Test 1: Success!\")"
   ]
  },
  {
   "cell_type": "code",
   "execution_count": null,
   "id": "9e03cb90-966f-455b-8260-c2971c724c97",
   "metadata": {
    "deletable": false,
    "editable": false,
    "nbgrader": {
     "cell_type": "code",
     "checksum": "98def8a28a2ff58aee3a01868bb66894",
     "grade": true,
     "grade_id": "cell-759f04b8f7313c58",
     "locked": true,
     "points": 1,
     "schema_version": 3,
     "solution": false,
     "task": false
    },
    "tags": []
   },
   "outputs": [],
   "source": [
    "# Test 2: Verify v2b has correct values. This cell contains hidden tests. (1 mark)"
   ]
  },
  {
   "cell_type": "markdown",
   "id": "2b5e1027-adcb-46bb-b26a-c26c07bff522",
   "metadata": {
    "deletable": false,
    "editable": false,
    "nbgrader": {
     "cell_type": "markdown",
     "checksum": "061eb21fbc0669f326e038bbbbc18b8f",
     "grade": false,
     "grade_id": "cell-38247e8c84c2dd9c",
     "locked": true,
     "schema_version": 3,
     "solution": false,
     "task": false
    },
    "tags": []
   },
   "source": [
    "### Part 2c (2 marks)\n",
    "\n",
    "Use `v2b` to compute the sum:\n",
    "\n",
    "$$\n",
    "\\sum_{n=1}^{21} \\frac{(-1)^{n+1} x^n}{n}\n",
    "$$\n",
    "\n",
    "for $x = 1/2$. Save the result as `y2c`."
   ]
  },
  {
   "cell_type": "code",
   "execution_count": null,
   "id": "b3eb4b4c-e3f6-49dc-abe8-c38e3afd6d0f",
   "metadata": {
    "deletable": false,
    "nbgrader": {
     "cell_type": "code",
     "checksum": "8e7887cd9aab57ebd16c79cc2785ddb4",
     "grade": false,
     "grade_id": "cell-b19c860d1e6f62a1",
     "locked": false,
     "schema_version": 3,
     "solution": true,
     "task": false
    },
    "tags": []
   },
   "outputs": [],
   "source": [
    "# YOUR CODE HERE"
   ]
  },
  {
   "cell_type": "code",
   "execution_count": null,
   "id": "6cb6f90a-a551-4a27-bd01-89da77655d8a",
   "metadata": {
    "deletable": false,
    "editable": false,
    "nbgrader": {
     "cell_type": "code",
     "checksum": "9faef7aec5ed6ede590d537feab88090",
     "grade": true,
     "grade_id": "cell-d2bf9dcd3e0042b0",
     "locked": true,
     "points": 1,
     "schema_version": 3,
     "solution": false,
     "task": false
    },
    "tags": []
   },
   "outputs": [],
   "source": [
    "# Test 1: Verify y2c is a float and is positive. (1 mark)\n",
    "assert isinstance(y2c,float) , \"y2c should be a float.\"\n",
    "assert y2c > 0\n",
    "print(\"Test 1: Success!\")"
   ]
  },
  {
   "cell_type": "code",
   "execution_count": null,
   "id": "c40a4053-f98d-4361-afd8-a1dc408646b3",
   "metadata": {
    "deletable": false,
    "editable": false,
    "nbgrader": {
     "cell_type": "code",
     "checksum": "15fb0be4511caae3ef941972896f3f49",
     "grade": true,
     "grade_id": "cell-fc3a0543b0086512",
     "locked": true,
     "points": 1,
     "schema_version": 3,
     "solution": false,
     "task": false
    },
    "tags": []
   },
   "outputs": [],
   "source": [
    "# Test 2: Verify y2c is the correct value. This cell contains hidden tests. (1 mark)"
   ]
  },
  {
   "cell_type": "markdown",
   "id": "59c4f6d4-2077-44ad-9574-3c1cd5ebdc32",
   "metadata": {
    "deletable": false,
    "editable": false,
    "nbgrader": {
     "cell_type": "markdown",
     "checksum": "91f74a23b02eead81cba9239178af539",
     "grade": false,
     "grade_id": "cell-e8f543d24ec95212",
     "locked": true,
     "schema_version": 3,
     "solution": false,
     "task": false
    },
    "tags": []
   },
   "source": [
    "## Problem 3: Matrices\n",
    "\n",
    "See [Mathematical Python > Linear Algebra](https://patrickwalls.github.io/mathematicalpython/linear-algebra/linear-algebra-scipy/) to review how to solve linear systems of equations."
   ]
  },
  {
   "cell_type": "markdown",
   "id": "4d343191-191a-4426-aa22-d96ec1696d52",
   "metadata": {
    "deletable": false,
    "editable": false,
    "nbgrader": {
     "cell_type": "markdown",
     "checksum": "a5b53e0589176e7057795b0572049de4",
     "grade": false,
     "grade_id": "cell-84ba704d84435004",
     "locked": true,
     "schema_version": 3,
     "solution": false,
     "task": false
    },
    "tags": []
   },
   "source": [
    "### Part 3a (2 marks)\n",
    "\n",
    "Create the 40 by 40 square matrix $A$ with -2 along the main diagonal and +1 along the upper and lower diagonals and 0 everywhere else:\n",
    "\n",
    "$$\n",
    "A =\n",
    "\\begin{bmatrix}\n",
    "-2 & +1 & 0 & & & \\cdots & 0 \\\\\n",
    "+1 & -2 & +1 & 0 & & \\cdots & 0 \\\\\n",
    "0 & +1 & -2 & +1 & 0 & \\cdots & 0 \\\\\n",
    "\\vdots & & & \\ddots & & & \\vdots \\\\\n",
    "0 & \\dots & 0 & +1 & -2 & +1 & 0 \\\\\n",
    "0 & \\dots & & 0 & +1 & -2 & +1 \\\\\n",
    "0 & \\dots & & & 0 & +1 & -2\n",
    "\\end{bmatrix}\n",
    "$$\n",
    "\n",
    "Save the result as `A3a`."
   ]
  },
  {
   "cell_type": "code",
   "execution_count": null,
   "id": "844ff96a-f440-45d9-b957-f1fe9c2bfd52",
   "metadata": {
    "deletable": false,
    "nbgrader": {
     "cell_type": "code",
     "checksum": "84dd4db25c4ef97034a6089fd1f44d36",
     "grade": false,
     "grade_id": "cell-f39bb2582344f08f",
     "locked": false,
     "schema_version": 3,
     "solution": true,
     "task": false
    }
   },
   "outputs": [],
   "source": [
    "# YOUR CODE HERE"
   ]
  },
  {
   "cell_type": "code",
   "execution_count": null,
   "id": "12deb926-eca5-47f8-94ba-901006f40813",
   "metadata": {
    "deletable": false,
    "editable": false,
    "nbgrader": {
     "cell_type": "code",
     "checksum": "e073f1d2b8b9df44bfe361d558477027",
     "grade": true,
     "grade_id": "cell-b1623ab737cb6dc8",
     "locked": true,
     "points": 1,
     "schema_version": 3,
     "solution": false,
     "task": false
    },
    "tags": []
   },
   "outputs": [],
   "source": [
    "# Test 1: Verify A3a is a NumPy array of size 40 by 40. (1 mark)\n",
    "assert isinstance(A3a,np.ndarray) , \"A3a should be a NumPy array.\"\n",
    "assert np.shape(A3a) == (40,40) , \"A3a should have shape 40 by 40.\"\n",
    "assert np.allclose(A3a[1,:3],[1,-2,1]) , \"Row at index 1 should begin with 1,-2,1.\"\n",
    "print(\"Test 1: Success!\")"
   ]
  },
  {
   "cell_type": "code",
   "execution_count": null,
   "id": "6036545f-c224-42f4-b29c-ec03e3a8b0b5",
   "metadata": {
    "deletable": false,
    "editable": false,
    "nbgrader": {
     "cell_type": "code",
     "checksum": "15f5437b368d06d1daf9273b86b7f423",
     "grade": true,
     "grade_id": "cell-25636334d51810a3",
     "locked": true,
     "points": 1,
     "schema_version": 3,
     "solution": false,
     "task": false
    },
    "tags": []
   },
   "outputs": [],
   "source": [
    "# Test 2: Verify A3a has the correct values. This cell contains hidden tests. (1 mark)"
   ]
  },
  {
   "cell_type": "markdown",
   "id": "609aa5ef-3f43-4a57-9ceb-4beca7315b8f",
   "metadata": {
    "deletable": false,
    "editable": false,
    "nbgrader": {
     "cell_type": "markdown",
     "checksum": "7c6b06bf228640e7ce026390afc41c0f",
     "grade": false,
     "grade_id": "cell-3223c5ef629a9e51",
     "locked": true,
     "schema_version": 3,
     "solution": false,
     "task": false
    },
    "tags": []
   },
   "source": [
    "### Part 3b (2 marks)\n",
    "\n",
    "Compute the solution $\\mathbf{x}$ of the system $A \\mathbf{x} = \\mathbf{b}$ where $A$ is the matrix from part 3(b) above and $\\mathbf{b}$ is a vector of all 1s. Save the result as `x3b`."
   ]
  },
  {
   "cell_type": "code",
   "execution_count": null,
   "id": "4eee7db0-7a9b-44bc-802c-e3ca83339511",
   "metadata": {
    "deletable": false,
    "nbgrader": {
     "cell_type": "code",
     "checksum": "e886fa2071dff4de67e342da00bf8a62",
     "grade": false,
     "grade_id": "cell-233c207717c8d04a",
     "locked": false,
     "schema_version": 3,
     "solution": true,
     "task": false
    },
    "tags": []
   },
   "outputs": [],
   "source": [
    "# YOUR CODE HERE"
   ]
  },
  {
   "cell_type": "markdown",
   "id": "7f20ea81-1bd4-4b80-a348-66106ef3dcb9",
   "metadata": {
    "deletable": false,
    "editable": false,
    "nbgrader": {
     "cell_type": "markdown",
     "checksum": "e8152e58be0d5392e72b811fc586325d",
     "grade": false,
     "grade_id": "cell-528e92814debcbe2",
     "locked": true,
     "schema_version": 3,
     "solution": false,
     "task": false
    },
    "tags": []
   },
   "source": [
    "Visualize the result. The plots should look like a parabola since $A$ is like a second derivative operator."
   ]
  },
  {
   "cell_type": "code",
   "execution_count": null,
   "id": "01255683-b67c-49d8-abce-ad78381af574",
   "metadata": {
    "deletable": false,
    "editable": false,
    "nbgrader": {
     "cell_type": "code",
     "checksum": "786da51210c8e24bd5cc250531654d90",
     "grade": false,
     "grade_id": "cell-c0aa5e2516c5d54e",
     "locked": true,
     "schema_version": 3,
     "solution": false,
     "task": false
    },
    "tags": []
   },
   "outputs": [],
   "source": [
    "plt.plot(x3b,'.-')\n",
    "plt.show()"
   ]
  },
  {
   "cell_type": "code",
   "execution_count": null,
   "id": "dd298aaa-7739-44fa-a44c-37467e077c6a",
   "metadata": {
    "deletable": false,
    "editable": false,
    "nbgrader": {
     "cell_type": "code",
     "checksum": "d66380e027e9f878e04ad4544ec92e0e",
     "grade": true,
     "grade_id": "cell-86de57b25b3d0f74",
     "locked": true,
     "points": 1,
     "schema_version": 3,
     "solution": false,
     "task": false
    },
    "tags": []
   },
   "outputs": [],
   "source": [
    "# Test 1: Verify x3b is a NumPy array of length 40. (1 mark)\n",
    "assert isinstance(x3b,np.ndarray) , \"x3b should be a NumPy array.\"\n",
    "assert np.size(x3b) == 40 , \"x3b should have length 40.\"\n",
    "assert np.allclose(x3b[20],-210)\n",
    "print(\"Test 1: Success!\")"
   ]
  },
  {
   "cell_type": "code",
   "execution_count": null,
   "id": "fa6691f2-faf8-4072-9856-741e02a6ff49",
   "metadata": {
    "deletable": false,
    "editable": false,
    "nbgrader": {
     "cell_type": "code",
     "checksum": "8186e0486b1dce08deefd220e0e039d1",
     "grade": true,
     "grade_id": "cell-58557f5901ade802",
     "locked": true,
     "points": 1,
     "schema_version": 3,
     "solution": false,
     "task": false
    },
    "tags": []
   },
   "outputs": [],
   "source": [
    "# Test 2: Verify x3b has the correct values. This cell contains hidden tests. (1 mark)"
   ]
  },
  {
   "cell_type": "markdown",
   "id": "eefd328c-e8cf-48fa-90fe-7a1a045ca334",
   "metadata": {
    "deletable": false,
    "editable": false,
    "nbgrader": {
     "cell_type": "markdown",
     "checksum": "6515ffa4dd65df3a3b59c0c4cc6aa1f1",
     "grade": false,
     "grade_id": "cell-812a06f115f0cf8a",
     "locked": true,
     "schema_version": 3,
     "solution": false,
     "task": false
    },
    "tags": []
   },
   "source": [
    "## Problem 4: Functions (5 marks)\n",
    "\n",
    "See [Mathematical Python > Functions](https://patrickwalls.github.io/mathematicalpython/python/functions/) to review how to define Python functions.\n",
    "\n",
    "### Part 4a (3 marks)\n",
    "\n",
    "Write a function called `f4a` which takes input parameter `x` and returns the value\n",
    "\n",
    "$$\n",
    "\\frac{1}{1 + x^2}\n",
    "$$"
   ]
  },
  {
   "cell_type": "code",
   "execution_count": null,
   "id": "d74d77a0-721a-417e-adfc-85a1c4fdfd05",
   "metadata": {
    "deletable": false,
    "nbgrader": {
     "cell_type": "code",
     "checksum": "9e4af326262a55c61735abd7eb3d286a",
     "grade": false,
     "grade_id": "cell-abc55e42286380bb",
     "locked": false,
     "schema_version": 3,
     "solution": true,
     "task": false
    },
    "tags": []
   },
   "outputs": [],
   "source": [
    "# YOUR CODE HERE"
   ]
  },
  {
   "cell_type": "code",
   "execution_count": null,
   "id": "b6c1140f-20ca-4879-a270-dacaf8b8ce93",
   "metadata": {
    "deletable": false,
    "editable": false,
    "nbgrader": {
     "cell_type": "code",
     "checksum": "67ea9240e57d44261cda5e5c4c683fd4",
     "grade": true,
     "grade_id": "cell-404a8246d514f128",
     "locked": true,
     "points": 1,
     "schema_version": 3,
     "solution": false,
     "task": false
    },
    "tags": []
   },
   "outputs": [],
   "source": [
    "# Test 1: Verify f4a is a Python function takes a single input parameter and outputs a positive number. (1 mark)\n",
    "assert callable(f4a) , \"f4a should be a Python function.\"\n",
    "assert f4a(0.1234) > 0 , \"f4a should return a positive number.\"\n",
    "print(\"Test 1: Success!\")"
   ]
  },
  {
   "cell_type": "code",
   "execution_count": null,
   "id": "b26a391c-71dd-46f5-b128-02a1f0833058",
   "metadata": {
    "deletable": false,
    "editable": false,
    "nbgrader": {
     "cell_type": "code",
     "checksum": "e6174f40dc8449c5cea8ec3dde74a5d9",
     "grade": true,
     "grade_id": "cell-c932f17a02cdc6b1",
     "locked": true,
     "points": 1,
     "schema_version": 3,
     "solution": false,
     "task": false
    }
   },
   "outputs": [],
   "source": [
    "# Test 2: Verify f4a(0) = 1 and f4a(-2) = 0.2. (1 mark)\n",
    "assert abs(f4a(0) - 1.0) < 1e-14 , \"Value f4a(0) should be 1.0.\"\n",
    "assert abs(f4a(-2) - 0.2) < 1e-14 , \"Value f4a(-2) should be 0.2.\"\n",
    "print(\"Test 2: Success!\")"
   ]
  },
  {
   "cell_type": "code",
   "execution_count": null,
   "id": "ad298c24-5989-4e6b-82bf-0e6c572d689f",
   "metadata": {
    "deletable": false,
    "editable": false,
    "nbgrader": {
     "cell_type": "code",
     "checksum": "0cba933442b4eba1fcf375e70e33aedb",
     "grade": true,
     "grade_id": "cell-a147ff806e96f9e1",
     "locked": true,
     "points": 1,
     "schema_version": 3,
     "solution": false,
     "task": false
    },
    "tags": []
   },
   "outputs": [],
   "source": [
    "# Test 3: Verify f4a returns the correct values. This cell contains hidden tests. (1 mark)"
   ]
  },
  {
   "cell_type": "markdown",
   "id": "54d0bbc4-ad91-4917-9542-e74d13184ad0",
   "metadata": {
    "deletable": false,
    "editable": false,
    "nbgrader": {
     "cell_type": "markdown",
     "checksum": "d8418284c8c5d07f15265cd46084924d",
     "grade": false,
     "grade_id": "cell-f302979bef7011c7",
     "locked": true,
     "schema_version": 3,
     "solution": false,
     "task": false
    },
    "tags": []
   },
   "source": [
    "### Part 4b (3 marks)\n",
    "\n",
    "Write a function called `f4b` which takes input parameters `x` and `N` and returns the sum:\n",
    "\n",
    "$$\n",
    "\\sum_{n=1}^{N} \\frac{\\cos(\\pi n x)}{n}\n",
    "$$"
   ]
  },
  {
   "cell_type": "code",
   "execution_count": null,
   "id": "ecae8466-c343-469e-b28a-509f53db005c",
   "metadata": {
    "deletable": false,
    "nbgrader": {
     "cell_type": "code",
     "checksum": "6b20348ea227dbcb13c27a05de51575e",
     "grade": false,
     "grade_id": "cell-a2854595e2a4b5f2",
     "locked": false,
     "schema_version": 3,
     "solution": true,
     "task": false
    },
    "tags": []
   },
   "outputs": [],
   "source": [
    "# YOUR CODE HERE"
   ]
  },
  {
   "cell_type": "code",
   "execution_count": null,
   "id": "38c966a0-2db5-4069-8b87-623db29891b7",
   "metadata": {
    "deletable": false,
    "editable": false,
    "nbgrader": {
     "cell_type": "code",
     "checksum": "65dfe550e83cb2bad67526afc62af77c",
     "grade": true,
     "grade_id": "cell-4b33f5652d195305",
     "locked": true,
     "points": 1,
     "schema_version": 3,
     "solution": false,
     "task": false
    },
    "tags": []
   },
   "outputs": [],
   "source": [
    "# Test 1: Verify f4b is a Python function takes two input parameters and returns a number. (1 mark)\n",
    "assert callable(f4b) , \"f4b should be a Python function.\"\n",
    "assert isinstance(f4b(0.12345,5),float) , \"f4b should return a float.\"\n",
    "print(\"Test 1: Success!\")"
   ]
  },
  {
   "cell_type": "code",
   "execution_count": null,
   "id": "4186c981-8732-4da5-ac86-3a455098ace9",
   "metadata": {
    "deletable": false,
    "editable": false,
    "nbgrader": {
     "cell_type": "code",
     "checksum": "f9855d2717b9ef5b8ff5386b27ccb3ef",
     "grade": true,
     "grade_id": "cell-a615d29dbf4c9c6b",
     "locked": true,
     "points": 1,
     "schema_version": 3,
     "solution": false,
     "task": false
    },
    "tags": []
   },
   "outputs": [],
   "source": [
    "# Test 2: Verify f4a(0,2) = 1 + 1/2 and f4a(1,3) = -1 + 1/2 - 1/3. (1 mark)\n",
    "assert abs(f4b(0,2) - 1.5) < 1e-14 , \"Value f4a(0) should be 1.0.\"\n",
    "assert abs(f4b(1,3) + 5/6) < 1e-14 , \"Value f4a(-2) should be 0.2.\"\n",
    "print(\"Test 2: Success!\")"
   ]
  },
  {
   "cell_type": "code",
   "execution_count": null,
   "id": "be0792f2-12ed-464c-bd7e-b7eea603a4ea",
   "metadata": {
    "deletable": false,
    "editable": false,
    "nbgrader": {
     "cell_type": "code",
     "checksum": "f5eba62381da126197603876a9938611",
     "grade": true,
     "grade_id": "cell-9733a98f01f6712f",
     "locked": true,
     "points": 1,
     "schema_version": 3,
     "solution": false,
     "task": false
    },
    "tags": []
   },
   "outputs": [],
   "source": [
    "# Test 3: Verify f4a returns the correct values. This cell contains hidden tests. (1 mark)"
   ]
  },
  {
   "cell_type": "markdown",
   "id": "30f06786-1ccd-4c8e-bf19-1729b6b0fb04",
   "metadata": {
    "deletable": false,
    "editable": false,
    "nbgrader": {
     "cell_type": "markdown",
     "checksum": "311207c1c1472d8a51073a21608cafe3",
     "grade": false,
     "grade_id": "cell-2b36c9c15384f95d",
     "locked": true,
     "schema_version": 3,
     "solution": false,
     "task": false
    },
    "tags": []
   },
   "source": [
    "## Problem 5: Plotting (3 marks)\n",
    "\n",
    "See [Mathematical Python > Matplotlib](https://patrickwalls.github.io/mathematicalpython/scipy/matplotlib/) to review how to plot a function.\n",
    "\n",
    "Plot the function $f(x) = e^{-x^2} \\cos(10x)$ on the interval $[-2,2]$. Use 501 equally spaced $x$ values from -2 to 2 (inclusive). Save the vector of $x$ values as `x5` and the $y$ values as `y5`."
   ]
  },
  {
   "cell_type": "code",
   "execution_count": null,
   "id": "5fe7b0f8-d8d6-4da1-a8f1-cb7a04be6474",
   "metadata": {
    "deletable": false,
    "nbgrader": {
     "cell_type": "code",
     "checksum": "c79607aa26c57854b786d9028f1fd444",
     "grade": false,
     "grade_id": "cell-44f733b83c38419c",
     "locked": false,
     "schema_version": 3,
     "solution": true,
     "task": false
    },
    "tags": []
   },
   "outputs": [],
   "source": [
    "# YOUR CODE HERE\n",
    "\n",
    "\n",
    "plt.plot(x5,y5)\n",
    "plt.show()"
   ]
  },
  {
   "cell_type": "code",
   "execution_count": null,
   "id": "f613652f-f9b6-49a7-90a3-05ee5dffd3c1",
   "metadata": {
    "deletable": false,
    "editable": false,
    "nbgrader": {
     "cell_type": "code",
     "checksum": "cae5b1005954e0d533ded532cd2c2bbe",
     "grade": true,
     "grade_id": "cell-7a520b93e694242e",
     "locked": true,
     "points": 1,
     "schema_version": 3,
     "solution": false,
     "task": false
    },
    "tags": []
   },
   "outputs": [],
   "source": [
    "# Test 1: Verify x5 is a NumPy array of length 501 with first entry -2 and last entry 2. (1 mark)\n",
    "assert isinstance(x5,np.ndarray) , \"x5 should be a NumPy array.\"\n",
    "assert len(x5) == 501 , \"x5 should have length 501.\"\n",
    "assert x5[0] == -2. , \"First entry of x5 should be -2.\"\n",
    "assert x5[-1] == 2. , \"Last entry of x5 should be 2.\"\n",
    "print(\"Test 1: Success!\")"
   ]
  },
  {
   "cell_type": "code",
   "execution_count": null,
   "id": "696bb2dd-9833-4e0d-ade6-dbe9b8937e27",
   "metadata": {
    "deletable": false,
    "editable": false,
    "nbgrader": {
     "cell_type": "code",
     "checksum": "d1e0a2c44b778f5ee7dbb5b6ec28a8b3",
     "grade": true,
     "grade_id": "cell-63f1f7cebda873d9",
     "locked": true,
     "points": 1,
     "schema_version": 3,
     "solution": false,
     "task": false
    },
    "tags": []
   },
   "outputs": [],
   "source": [
    "# Test 2: Verify y5 is a NumPy array of length 501 with entry 1 at index 250. (1 mark)\n",
    "assert isinstance(y5,np.ndarray) , \"y5 should be a NumPy array.\"\n",
    "assert len(y5) == 501 , \"y5 should have length 501.\"\n",
    "assert y5[250] == 1. , \"Entry of y5a at index 250 should be 1.0.\"\n",
    "print(\"Test 2: Success!\")"
   ]
  },
  {
   "cell_type": "code",
   "execution_count": null,
   "id": "2cc09ce0-2c34-43b1-9160-3bae10ded727",
   "metadata": {
    "deletable": false,
    "editable": false,
    "nbgrader": {
     "cell_type": "code",
     "checksum": "2736e45cdd0ab2052516ecc80d01b49f",
     "grade": true,
     "grade_id": "cell-650684b4d136dfa3",
     "locked": true,
     "points": 1,
     "schema_version": 3,
     "solution": false,
     "task": false
    },
    "tags": []
   },
   "outputs": [],
   "source": [
    "# Test 3: Verify y5 has the correct values. This cell contains hidden tests. (1 mark)"
   ]
  }
 ],
 "metadata": {
  "kernelspec": {
   "display_name": "Python 3 (ipykernel)",
   "language": "python",
   "name": "python3"
  },
  "language_info": {
   "codemirror_mode": {
    "name": "ipython",
    "version": 3
   },
   "file_extension": ".py",
   "mimetype": "text/x-python",
   "name": "python",
   "nbconvert_exporter": "python",
   "pygments_lexer": "ipython3",
   "version": "3.10.12"
  }
 },
 "nbformat": 4,
 "nbformat_minor": 5
}
