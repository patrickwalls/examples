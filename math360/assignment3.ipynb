{
 "cells": [
  {
   "cell_type": "markdown",
   "id": "373228c1-5ac7-4829-b074-295fd6a230e2",
   "metadata": {
    "deletable": false,
    "editable": false,
    "nbgrader": {
     "cell_type": "markdown",
     "checksum": "9b45e2b5ff894b7afb2d4eaef8afc8d7",
     "grade": false,
     "grade_id": "cell-5883cf7e8a4442f8",
     "locked": true,
     "schema_version": 3,
     "solution": false,
     "task": false
    },
    "tags": []
   },
   "source": [
    "# MATH 360 Python Assignment 3\n",
    "\n",
    "* See [Mathematical Python](https://patrickwalls.github.io/mathematicalpython/) for an introduction to Python and Jupyter\n",
    "* See [Introduction to Mathematical Modelling](https://ubcmath.github.io/MATH360/) for more examples\n",
    "* Write solutions in the cells with `YOUR CODE HERE`\n",
    "* Do **not** import any packages (other than the standard packages in the cell below)\n",
    "* Run the tests to verify your solutions\n",
    "* There are **hidden tests** therefore your solutions may not be entirely correct even if they pass the tests below\n",
    "* Submit your `.ipynb` notebook file to Canvas (download from Syzygy to your machine and upload to Canvas)"
   ]
  },
  {
   "cell_type": "code",
   "execution_count": null,
   "id": "ca8898df-7fdf-478b-8012-ef0934486518",
   "metadata": {
    "deletable": false,
    "editable": false,
    "nbgrader": {
     "cell_type": "code",
     "checksum": "62fcc28596c24fae5b1d1a7bcac20dc5",
     "grade": false,
     "grade_id": "cell-d5241b17ce62c169",
     "locked": true,
     "schema_version": 3,
     "solution": false,
     "task": false
    },
    "tags": []
   },
   "outputs": [],
   "source": [
    "import numpy as np\n",
    "import matplotlib.pyplot as plt\n",
    "import scipy.linalg as la\n",
    "from scipy.optimize import minimize\n",
    "from sklearn.linear_model import LogisticRegression"
   ]
  },
  {
   "cell_type": "markdown",
   "id": "b0917686-d9d2-44c8-9cd4-f26f087a5f9d",
   "metadata": {
    "deletable": false,
    "editable": false,
    "nbgrader": {
     "cell_type": "markdown",
     "checksum": "660854a80604384b56de28c01749e14d",
     "grade": false,
     "grade_id": "cell-4bc5943089bd5d8a",
     "locked": true,
     "schema_version": 3,
     "solution": false,
     "task": false
    }
   },
   "source": [
    "## Problem 1: Linear Regression\n",
    "\n",
    "Let us recall the formulation of linear regression (see [MATH 360 > Data-Driven Models > Linear Regression](https://ubcmath.github.io/MATH360/data-driven/linear-regression/least-squares.html#normal-equations)). Consider $N+1$ data points $(x_0,y_0),(x_1,y_1),\\dots,(x_N,y_N)$. The linear model $y = \\beta_0 + \\beta_1 x + \\varepsilon$ that best fits the data is the solution to the normal equations\n",
    "\n",
    "$$\n",
    "X^T X \\boldsymbol{\\beta} = X^T \\boldsymbol{y}\n",
    "$$\n",
    "\n",
    "where\n",
    "\n",
    "$$\n",
    "X = \\begin{bmatrix} 1 & x_0 \\\\ 1 & x_1 \\\\ \\vdots & \\vdots \\\\ 1 & x_N \\end{bmatrix}\n",
    "\\hspace{10mm}\n",
    "\\boldsymbol{y} = \\begin{bmatrix} y_0 \\\\ y_1 \\\\ \\vdots \\\\ y_N \\end{bmatrix}\n",
    "\\hspace{10mm}\n",
    "\\boldsymbol{\\beta} = \\begin{bmatrix} \\beta_0 \\\\ \\beta_1 \\end{bmatrix}\n",
    "$$\n",
    "\n",
    "The vector of coefficients $\\boldsymbol{\\beta}$ minimizes the residual sum of squares\n",
    "\n",
    "$$\n",
    "\\| \\boldsymbol{y} - X \\boldsymbol{\\beta} \\|^2\n",
    "$$\n",
    "\n",
    "Consider the following data:"
   ]
  },
  {
   "cell_type": "code",
   "execution_count": null,
   "id": "5faa4aaa-d90d-4818-8312-7c9840a4bc6b",
   "metadata": {
    "deletable": false,
    "editable": false,
    "nbgrader": {
     "cell_type": "code",
     "checksum": "aed3c66b993d245d263b58589bca94a0",
     "grade": false,
     "grade_id": "cell-150a135184ca7e3b",
     "locked": true,
     "schema_version": 3,
     "solution": false,
     "task": false
    }
   },
   "outputs": [],
   "source": [
    "x1 = [ 1.19, 3.75, 0.36, 3.03, 3.46, 0.77, 0.14, 1.54, 1.46, 2.87, 1.79, 0.86, 1.34, 1.39, 1.28, 1.07, 2.3 , 3.31, 2.24, 2.71, 2.56]\n",
    "y1 = [ 7.62,13.58, 8.34,12.54,12.08, 6.52, 4.15, 9.45,10.45,11.67, 7.70, 6.25,10.74, 5.96, 6.48, 7.83,10.26,10.65,10.01, 9.77, 8.80]\n",
    "plt.plot(x1,y1,'.')\n",
    "plt.grid(True), plt.xlim([-0.5,4.5]), plt.ylim([0,20])\n",
    "plt.show()"
   ]
  },
  {
   "cell_type": "markdown",
   "id": "4256b39b-1a56-4f6f-a238-0b21688e4d48",
   "metadata": {
    "deletable": false,
    "editable": false,
    "nbgrader": {
     "cell_type": "markdown",
     "checksum": "a2960db658e8cfa25016f37c5eb11d41",
     "grade": false,
     "grade_id": "cell-3384b331721a3d63",
     "locked": true,
     "schema_version": 3,
     "solution": false,
     "task": false
    },
    "tags": []
   },
   "source": [
    "### Part 1a (2 marks)\n",
    "\n",
    "Compute the matrix multiplication $X^TX$ for the data `x1` above. Save the result as `XTX1a`."
   ]
  },
  {
   "cell_type": "code",
   "execution_count": null,
   "id": "ae09b189-5e74-4216-811c-ae49b4b40e30",
   "metadata": {
    "deletable": false,
    "nbgrader": {
     "cell_type": "code",
     "checksum": "468acca6a41c727396387722d964163f",
     "grade": false,
     "grade_id": "cell-fcf4116e8dd85502",
     "locked": false,
     "schema_version": 3,
     "solution": true,
     "task": false
    }
   },
   "outputs": [],
   "source": [
    "# YOUR CODE HERE"
   ]
  },
  {
   "cell_type": "code",
   "execution_count": null,
   "id": "068bc497-df6f-4142-8362-e833c6af6548",
   "metadata": {
    "deletable": false,
    "editable": false,
    "nbgrader": {
     "cell_type": "code",
     "checksum": "86262f511a25fd99b7ed0c39ca5dc1d8",
     "grade": true,
     "grade_id": "cell-af1fe75b7d5f0750",
     "locked": true,
     "points": 1,
     "schema_version": 3,
     "solution": false,
     "task": false
    },
    "tags": []
   },
   "outputs": [],
   "source": [
    "# Test 1: Verify XTX1a is a 2 by 2 NumPy array. (1 mark)\n",
    "assert isinstance(XTX1a,np.ndarray)\n",
    "assert XTX1a.shape == (2,2)\n",
    "print(\"Test 1: Success!\")"
   ]
  },
  {
   "cell_type": "code",
   "execution_count": null,
   "id": "b2f37efd-207b-4de4-9744-24355feccbca",
   "metadata": {
    "deletable": false,
    "editable": false,
    "nbgrader": {
     "cell_type": "code",
     "checksum": "ad3fe2049c5348de891a1853169b686a",
     "grade": true,
     "grade_id": "cell-658cdfbfbc3ea957",
     "locked": true,
     "points": 1,
     "schema_version": 3,
     "solution": false,
     "task": false
    },
    "tags": []
   },
   "outputs": [],
   "source": [
    "# Test 2: Verify XTX1a has correct entries. This cell contains hidden tests. (1 mark)\n",
    "assert XTX1a[0,0] == 21."
   ]
  },
  {
   "cell_type": "markdown",
   "id": "c815002e-b92d-4f75-b1b6-065001e66e91",
   "metadata": {
    "deletable": false,
    "editable": false,
    "nbgrader": {
     "cell_type": "markdown",
     "checksum": "3aa677ee368d8c52d0d9a2c02e03d2d3",
     "grade": false,
     "grade_id": "cell-789087766f7a0b40",
     "locked": true,
     "schema_version": 3,
     "solution": false,
     "task": false
    },
    "tags": []
   },
   "source": [
    "### Part 1b (3 marks)\n",
    "\n",
    "Compute the coefficients $\\beta_0$ and $\\beta_1$ by computing the solution of the normal equations for the data `x1` and `y1`. Save the results as `beta01b` and `beta11b` respectively. (Note: we are appending `1b` to the variable names to distinguish these coefficients as the solutions for Part 1b.)"
   ]
  },
  {
   "cell_type": "code",
   "execution_count": null,
   "id": "da7a8c6e-2bd5-4235-9495-df98718d4a79",
   "metadata": {
    "deletable": false,
    "nbgrader": {
     "cell_type": "code",
     "checksum": "1532ec745a74711f37bdc3144d039698",
     "grade": false,
     "grade_id": "cell-aa33d9a4aa5a70bc",
     "locked": false,
     "schema_version": 3,
     "solution": true,
     "task": false
    },
    "tags": []
   },
   "outputs": [],
   "source": [
    "# YOUR CODE HERE"
   ]
  },
  {
   "cell_type": "code",
   "execution_count": null,
   "id": "231d93df-6703-4b3c-933a-2e95d02ab626",
   "metadata": {
    "deletable": false,
    "editable": false,
    "nbgrader": {
     "cell_type": "code",
     "checksum": "07edbf05f65ff8ea088658c4d1bf1256",
     "grade": true,
     "grade_id": "cell-bdf7aa0667cab42f",
     "locked": true,
     "points": 1,
     "schema_version": 3,
     "solution": false,
     "task": false
    },
    "tags": []
   },
   "outputs": [],
   "source": [
    "# Test 1: Verify beta01b and beta11b are positive numbers. (1 mark)\n",
    "assert beta01b > 0\n",
    "assert beta11b > 0\n",
    "print(\"Test 1: Success!\")"
   ]
  },
  {
   "cell_type": "code",
   "execution_count": null,
   "id": "dbc75c28-cedb-4aa0-8e28-13682b6d5a32",
   "metadata": {
    "deletable": false,
    "editable": false,
    "nbgrader": {
     "cell_type": "code",
     "checksum": "4ddef3307d0b0a531dd367e48a9b0eaa",
     "grade": true,
     "grade_id": "cell-15e325ddae8e09cc",
     "locked": true,
     "points": 1,
     "schema_version": 3,
     "solution": false,
     "task": false
    },
    "tags": []
   },
   "outputs": [],
   "source": [
    "# Test 2: Verify beta01b is the correct value. This cell contains hidden tests. (1 mark)\n",
    "assert np.round(beta01b) == 5"
   ]
  },
  {
   "cell_type": "code",
   "execution_count": null,
   "id": "9d5f7cf6-f54f-4288-852e-3bc11606bde1",
   "metadata": {
    "deletable": false,
    "editable": false,
    "nbgrader": {
     "cell_type": "code",
     "checksum": "58dc2d4fa3e45266f291006e81b44fa8",
     "grade": true,
     "grade_id": "cell-455aea48b406da5a",
     "locked": true,
     "points": 1,
     "schema_version": 3,
     "solution": false,
     "task": false
    },
    "tags": []
   },
   "outputs": [],
   "source": [
    "# Test 3: Verify beta11b is the correct value. This cell contains hidden tests. (1 mark)\n",
    "assert np.round(beta11b) == 2"
   ]
  },
  {
   "cell_type": "markdown",
   "id": "a03eaba7-5a8d-4115-beed-647466cc11a3",
   "metadata": {
    "deletable": false,
    "editable": false,
    "nbgrader": {
     "cell_type": "markdown",
     "checksum": "9fb3cc7c3192b2a88b6f0d0f0282742f",
     "grade": false,
     "grade_id": "cell-b3557ec53b417f9b",
     "locked": true,
     "schema_version": 3,
     "solution": false,
     "task": false
    },
    "tags": []
   },
   "source": [
    "Plot the linear model with the data to see the fit:"
   ]
  },
  {
   "cell_type": "code",
   "execution_count": null,
   "id": "66c93882-fe23-42e8-b75f-8fd94682c2f7",
   "metadata": {
    "deletable": false,
    "editable": false,
    "nbgrader": {
     "cell_type": "code",
     "checksum": "17f2e4d3468f95bcb16476057693d9f6",
     "grade": false,
     "grade_id": "cell-c658459770749269",
     "locked": true,
     "schema_version": 3,
     "solution": false,
     "task": false
    },
    "tags": []
   },
   "outputs": [],
   "source": [
    "xs1 = np.linspace(0,4,10)\n",
    "ys1 = beta01b + beta11b*xs1\n",
    "plt.plot(x1,y1,'.',xs1,ys1)\n",
    "plt.grid(True), plt.xlim([-0.5,4.5]), plt.ylim([0,20])\n",
    "plt.show()"
   ]
  },
  {
   "cell_type": "markdown",
   "id": "6a1152fc-367e-42b0-9796-4aec8f7273de",
   "metadata": {
    "deletable": false,
    "editable": false,
    "nbgrader": {
     "cell_type": "markdown",
     "checksum": "0bafa9a2f9a7473871bf9686ba67ab0b",
     "grade": false,
     "grade_id": "cell-a0d4c3f43f06c28a",
     "locked": true,
     "schema_version": 3,
     "solution": false,
     "task": false
    },
    "tags": []
   },
   "source": [
    "### Part 1c (2 marks)\n",
    "\n",
    "Compute the residual sum of squares $\\| \\boldsymbol{y} - X \\boldsymbol{\\beta} \\|^2$ for the optimial coefficients $\\beta_0$ and $\\beta_1$ computed in part 1b. Save the result as `RSS1c`."
   ]
  },
  {
   "cell_type": "code",
   "execution_count": null,
   "id": "d9d0732b-3438-4d82-9616-855187f9b025",
   "metadata": {
    "deletable": false,
    "nbgrader": {
     "cell_type": "code",
     "checksum": "ff65475421f6301818b3b0633bf12151",
     "grade": false,
     "grade_id": "cell-be768a1d23b99294",
     "locked": false,
     "schema_version": 3,
     "solution": true,
     "task": false
    },
    "tags": []
   },
   "outputs": [],
   "source": [
    "# YOUR CODE HERE"
   ]
  },
  {
   "cell_type": "code",
   "execution_count": null,
   "id": "fdc18bcb-4b52-4562-8133-74ad2aae7767",
   "metadata": {
    "deletable": false,
    "editable": false,
    "nbgrader": {
     "cell_type": "code",
     "checksum": "9194d4e871c91347682291913f8af288",
     "grade": true,
     "grade_id": "cell-7913c0fc155af612",
     "locked": true,
     "points": 1,
     "schema_version": 3,
     "solution": false,
     "task": false
    },
    "tags": []
   },
   "outputs": [],
   "source": [
    "# Test 1: Verify RSS1c is a positive number. (1 mark)\n",
    "assert RSS1c > 0\n",
    "print(\"Test 1: Success!\")"
   ]
  },
  {
   "cell_type": "code",
   "execution_count": null,
   "id": "1ea31dba-3a7e-4497-beff-f30186145ae2",
   "metadata": {
    "deletable": false,
    "editable": false,
    "nbgrader": {
     "cell_type": "code",
     "checksum": "19a2787535ec7fe54648ff1dab936233",
     "grade": true,
     "grade_id": "cell-905a8163ba976223",
     "locked": true,
     "points": 1,
     "schema_version": 3,
     "solution": false,
     "task": false
    },
    "tags": []
   },
   "outputs": [],
   "source": [
    "# Test 2: Verify RSS1c is the correct value. This cell contains hidden tests. (1 mark)\n",
    "assert np.round(RSS1c) == 37"
   ]
  },
  {
   "cell_type": "markdown",
   "id": "8ff2e589-5a80-41a7-8d56-67c8efdcf5dd",
   "metadata": {
    "deletable": false,
    "editable": false,
    "nbgrader": {
     "cell_type": "markdown",
     "checksum": "ab3602734f9c44443184d70e6f85e8d4",
     "grade": false,
     "grade_id": "cell-28ced3a4b843c938",
     "locked": true,
     "schema_version": 3,
     "solution": false,
     "task": false
    },
    "tags": []
   },
   "source": [
    "## Problem 2: Normal Equations\n",
    "\n",
    "Suppose we have 100 data points $(x_0,y_0),\\dots,(x_{99},y_{99})$ and we construct the normal equations $X^TX \\boldsymbol{\\beta} = X^T \\boldsymbol{y}$ such that:\n",
    "\n",
    "$$\n",
    "X^TX = \\begin{bmatrix} 100.0 & 54.29 \\\\ 54.29 & 38.2755 \\end{bmatrix}\n",
    "\\hspace{10mm}\n",
    "X^T \\boldsymbol{y} = \\begin{bmatrix} 296.39508636 \\\\ 150.40322735 \\end{bmatrix}\n",
    "$$\n",
    "\n",
    "### Part 2a (3 marks)\n",
    "\n",
    "Compute the coefficients $\\beta_0$ and $\\beta_1$ of the linear model $y = \\beta_0 + \\beta_1 x + \\varepsilon$ which best fits the data by computing the solution of the normal equations. Save the results as `beta02a` and `beta12a` respectively."
   ]
  },
  {
   "cell_type": "code",
   "execution_count": null,
   "id": "255e60b6-a830-435e-84cd-8219c6c8a296",
   "metadata": {
    "deletable": false,
    "nbgrader": {
     "cell_type": "code",
     "checksum": "a2a490d082a4ab5cd9ed9a1519e479eb",
     "grade": false,
     "grade_id": "cell-ffe0d42594711267",
     "locked": false,
     "schema_version": 3,
     "solution": true,
     "task": false
    },
    "tags": []
   },
   "outputs": [],
   "source": [
    "# YOUR CODE HERE"
   ]
  },
  {
   "cell_type": "code",
   "execution_count": null,
   "id": "bc674a08-6a9a-4a15-90f0-fac242313aa6",
   "metadata": {
    "deletable": false,
    "editable": false,
    "nbgrader": {
     "cell_type": "code",
     "checksum": "bdd7b67ae044c70adf8c11d4db714c88",
     "grade": true,
     "grade_id": "cell-46f66b83a030cb66",
     "locked": true,
     "points": 1,
     "schema_version": 3,
     "solution": false,
     "task": false
    },
    "tags": []
   },
   "outputs": [],
   "source": [
    "# Test 1: Verify beta02a is positive and beta12a is negative. (1 mark)\n",
    "assert beta02a > 0\n",
    "assert beta12a < 0\n",
    "print(\"Test 1: Success!\")"
   ]
  },
  {
   "cell_type": "code",
   "execution_count": null,
   "id": "d4b0762d-da7c-42ec-bdf3-943a264c91ed",
   "metadata": {
    "deletable": false,
    "editable": false,
    "nbgrader": {
     "cell_type": "code",
     "checksum": "f7eb7d74586b2b5820fb758a52ab578a",
     "grade": true,
     "grade_id": "cell-328a499fa007ca68",
     "locked": true,
     "points": 1,
     "schema_version": 3,
     "solution": false,
     "task": false
    },
    "tags": []
   },
   "outputs": [],
   "source": [
    "# Test 2: Verify beta02a is the correct value. This cell contains hidden tests. (1 mark)\n",
    "assert np.round(beta02a) == 4."
   ]
  },
  {
   "cell_type": "code",
   "execution_count": null,
   "id": "54db5c5c-71f2-4d1a-a0de-61a0db00257c",
   "metadata": {
    "deletable": false,
    "editable": false,
    "nbgrader": {
     "cell_type": "code",
     "checksum": "2fc3bfb78980b3e6e4b986858228038d",
     "grade": true,
     "grade_id": "cell-ef361e4fcdd9d4ce",
     "locked": true,
     "points": 1,
     "schema_version": 3,
     "solution": false,
     "task": false
    },
    "tags": []
   },
   "outputs": [],
   "source": [
    "# Test 3: Verify beta12a is the correct value. This cell contains hidden tests. (1 mark)\n",
    "assert np.round(beta12a) == -1."
   ]
  },
  {
   "cell_type": "markdown",
   "id": "c8c03f85-44e0-4dc3-b561-91ea36acef50",
   "metadata": {
    "deletable": false,
    "editable": false,
    "nbgrader": {
     "cell_type": "markdown",
     "checksum": "57c89b09b499ae12377be2daa619ba88",
     "grade": false,
     "grade_id": "cell-c6f386c8c1462b0f",
     "locked": true,
     "schema_version": 3,
     "solution": false,
     "task": false
    },
    "tags": []
   },
   "source": [
    "### Part 2b (4 marks)\n",
    "\n",
    "Now suppose we add an additional data point $(0.545,2.871)$ to the dataset. Let $X_{2b}$ be the matrix with 101 rows with the added point $x_{100} = 0.545$ and let $\\boldsymbol{y}_{2b}$ be the vector with added entry $y_{100} = 2.871$. Find the matrix $X_{2b}^T X_{2b}$, the vector $X_{2b}^T \\boldsymbol{y}_{2b}$ and compute the vector of coefficients $\\boldsymbol{\\beta}_{2b}$. Save the results as `XTX2b`, `XTy2b` and `beta2b` respectively."
   ]
  },
  {
   "cell_type": "code",
   "execution_count": null,
   "id": "12f5448b-1b1a-4329-af6d-c24e357c1b9c",
   "metadata": {
    "deletable": false,
    "nbgrader": {
     "cell_type": "code",
     "checksum": "6c0bedc26e916efb463c95a8b922d3f1",
     "grade": false,
     "grade_id": "cell-5f476bb3c47749db",
     "locked": false,
     "schema_version": 3,
     "solution": true,
     "task": false
    },
    "tags": []
   },
   "outputs": [],
   "source": [
    "# YOUR CODE HERE"
   ]
  },
  {
   "cell_type": "code",
   "execution_count": null,
   "id": "6f0b6bbc-77f6-4fa8-ab5b-b3c3d000c45a",
   "metadata": {
    "deletable": false,
    "editable": false,
    "nbgrader": {
     "cell_type": "code",
     "checksum": "89e5b53a290ffd88670776e9aec28bbd",
     "grade": true,
     "grade_id": "cell-5e16196159c283f9",
     "locked": true,
     "points": 1,
     "schema_version": 3,
     "solution": false,
     "task": false
    },
    "tags": []
   },
   "outputs": [],
   "source": [
    "# Test 1: Verify XTX2b, XTy2b and beta2b NumPy arrays. (1 mark)\n",
    "assert isinstance(XTX2b,np.ndarray)\n",
    "assert isinstance(XTy2b,np.ndarray)\n",
    "assert isinstance(beta2b,np.ndarray)\n",
    "print(\"Test 1: Success!\")"
   ]
  },
  {
   "cell_type": "code",
   "execution_count": null,
   "id": "89d28f5e-96ec-4584-a9ba-e0d39cba47c2",
   "metadata": {
    "deletable": false,
    "editable": false,
    "nbgrader": {
     "cell_type": "code",
     "checksum": "d7da108458231bdab6aff23b7e2ecac0",
     "grade": true,
     "grade_id": "cell-fe9440c9f02740bb",
     "locked": true,
     "points": 1,
     "schema_version": 3,
     "solution": false,
     "task": false
    },
    "tags": []
   },
   "outputs": [],
   "source": [
    "# Test 2: Verify XTX2b has correct entries. This cell contains hidden tests. (1 mark)\n",
    "assert XTX2b[0,0] == 101."
   ]
  },
  {
   "cell_type": "code",
   "execution_count": null,
   "id": "a57471be-1738-407b-a8b4-70f4ba83d391",
   "metadata": {
    "deletable": false,
    "editable": false,
    "nbgrader": {
     "cell_type": "code",
     "checksum": "c3ecb1d1cc43391f8aae8b7f5c1a382a",
     "grade": true,
     "grade_id": "cell-d865f9cb4cc95c6d",
     "locked": true,
     "points": 1,
     "schema_version": 3,
     "solution": false,
     "task": false
    },
    "tags": []
   },
   "outputs": [],
   "source": [
    "# Test 3: Verify XTy2b has correct entries. This cell contains hidden tests. (1 mark)\n",
    "assert np.round(XTy2b[0]) == 299."
   ]
  },
  {
   "cell_type": "code",
   "execution_count": null,
   "id": "02fa783a-6670-49c1-b0da-ab94550dcde8",
   "metadata": {
    "deletable": false,
    "editable": false,
    "nbgrader": {
     "cell_type": "code",
     "checksum": "ef7c43e047742233e85b0f3f47d37cb8",
     "grade": true,
     "grade_id": "cell-8930bc38a1eb8b6a",
     "locked": true,
     "points": 1,
     "schema_version": 3,
     "solution": false,
     "task": false
    },
    "tags": []
   },
   "outputs": [],
   "source": [
    "# Test 4: Verify beta2b has correct entries. This cell contains hidden tests. (1 mark)\n",
    "assert np.round(beta2b[0],1) == 3.6"
   ]
  },
  {
   "cell_type": "markdown",
   "id": "7d08222e-aafc-4b22-ad36-2924833d30c9",
   "metadata": {
    "deletable": false,
    "editable": false,
    "nbgrader": {
     "cell_type": "markdown",
     "checksum": "635351724f688acade2caed93e851133",
     "grade": false,
     "grade_id": "cell-ce5805876144fe25",
     "locked": true,
     "schema_version": 3,
     "solution": false,
     "task": false
    },
    "tags": []
   },
   "source": [
    "## Problem 3: Multiple Linear Regression\n",
    "\n",
    "Let us recall the formulation of multiple linear regression (see [MATH 360 > Data-Driven Models > Linear Regression](https://ubcmath.github.io/MATH360/data-driven/linear-regression/least-squares.html#normal-equations)). Consider $N+1$ data points $(\\boldsymbol{x}_0,y_0),(\\boldsymbol{x}_1,y_1),\\dots,(\\boldsymbol{x}_N,y_N)$ where each sample $\\boldsymbol{x}_i = (x_{i,1},\\dots,x_{i,p}) \\in \\mathbb{R}^p$ is a vector of $p$ independent variables. The linear model\n",
    "\n",
    "$$\n",
    "y = \\beta_0 + \\beta_1 x_1 + \\cdots + \\beta_p x_p + \\varepsilon\n",
    "$$\n",
    "\n",
    "that best fits the data is the solution to the normal equations\n",
    "\n",
    "$$\n",
    "X^T X \\boldsymbol{\\beta} = X^T \\boldsymbol{y}\n",
    "$$\n",
    "\n",
    "where\n",
    "\n",
    "$$\n",
    "X = \\begin{bmatrix} 1 & x_{0,1} & \\cdots & x_{0,p} \\\\ 1 & x_{1,1} & \\cdots & x_{1,p} \\\\ \\vdots & \\vdots & \\ddots & \\vdots \\\\ 1 & x_{N,1} & \\cdots & x_{N,p} \\end{bmatrix}\n",
    "\\hspace{10mm}\n",
    "\\boldsymbol{y} = \\begin{bmatrix} y_0 \\\\ y_1 \\\\ \\vdots \\\\ y_N \\end{bmatrix}\n",
    "\\hspace{10mm}\n",
    "\\boldsymbol{\\beta} = \\begin{bmatrix} \\beta_0 \\\\ \\beta_1 \\\\ \\vdots \\\\ \\beta_p \\end{bmatrix}\n",
    "$$\n",
    "\n",
    "The vector of coefficients $\\boldsymbol{\\beta}$ minimizes the residual sum of squares\n",
    "\n",
    "$$\n",
    "\\| \\boldsymbol{y} - X \\boldsymbol{\\beta} \\|^2\n",
    "$$\n",
    "\n",
    "Consider the following data:"
   ]
  },
  {
   "cell_type": "code",
   "execution_count": null,
   "id": "2ca92de9-7ba5-4d51-b0df-3d862966ccf7",
   "metadata": {
    "deletable": false,
    "editable": false,
    "nbgrader": {
     "cell_type": "code",
     "checksum": "6391708e06c94669e9e156b67bd796f1",
     "grade": false,
     "grade_id": "cell-536454ede1a9cf20",
     "locked": true,
     "schema_version": 3,
     "solution": false,
     "task": false
    },
    "tags": []
   },
   "outputs": [],
   "source": [
    "x13 = [2.95, 2.85, 0.75, 0.21, 2.25, 0.98, 3.09, 0.27, 2.94, 2.33, 3.42, 1.54, 3.03, 3.78, 0.28, 0.53, 2.98, 0.45, 1.79, 0.23]\n",
    "x23 = [0.47, 0.89, 0.60, 0.87, 1.17, 0.61, 1.56, 1.37, 0.05, 1.00, 1.79, 1.23, 0.65, 1.91, 0.03, 0.65, 0.11, 0.79, 1.27, 1.64]\n",
    "x33 = [3.69, 1.04, 3.91, 1.93, 0.91, 3.55, 4.23, 2.22, 3.16, 3.28, 0.58, 2.16, 0.38, 2.08, 3.79, 4.93, 2.60, 4.61, 4.38, 3.88]\n",
    "y3  = [4.3,11.58,-5.94,-2.78,8.91,-3.86,4.31,-2.32,5.24,3.27,15.79,3.41,13.74,13.34,-8.06,-9.2,7.22,-8.59,-2.36,-6.86]"
   ]
  },
  {
   "cell_type": "markdown",
   "id": "2ed855e3-d341-4ed1-8d66-ebbdf144758d",
   "metadata": {
    "deletable": false,
    "editable": false,
    "nbgrader": {
     "cell_type": "markdown",
     "checksum": "da1e69432295a8afe833644a5fa601c7",
     "grade": false,
     "grade_id": "cell-1549bb482624f8ed",
     "locked": true,
     "schema_version": 3,
     "solution": false,
     "task": false
    },
    "tags": []
   },
   "source": [
    "### Part 3a (2 marks)\n",
    "\n",
    "Construct the matrix $X$ for the data `x13`, `x23` and `x33` above. Save the result as `X3a`."
   ]
  },
  {
   "cell_type": "code",
   "execution_count": null,
   "id": "70787658-9240-44ae-851c-2fb3da34fd8c",
   "metadata": {
    "deletable": false,
    "nbgrader": {
     "cell_type": "code",
     "checksum": "943d1a154c4b8ee6b4855cdc8e8115d2",
     "grade": false,
     "grade_id": "cell-4f540f833cfa5c3c",
     "locked": false,
     "schema_version": 3,
     "solution": true,
     "task": false
    },
    "tags": []
   },
   "outputs": [],
   "source": [
    "# YOUR CODE HERE"
   ]
  },
  {
   "cell_type": "code",
   "execution_count": null,
   "id": "3b58c785-681a-4e8c-88b0-5e02e7eeef11",
   "metadata": {
    "deletable": false,
    "editable": false,
    "nbgrader": {
     "cell_type": "code",
     "checksum": "6c131c06b1204830ec05476b26d413fa",
     "grade": true,
     "grade_id": "cell-8ca5b980c1ed91fd",
     "locked": true,
     "points": 1,
     "schema_version": 3,
     "solution": false,
     "task": false
    },
    "tags": []
   },
   "outputs": [],
   "source": [
    "# Test 1: Verify X3a is a 20 by 4 NumPy array. (1 mark)\n",
    "assert isinstance(X3a,np.ndarray)\n",
    "assert X3a.shape == (20,4)\n",
    "print(\"Test 1: Success!\")"
   ]
  },
  {
   "cell_type": "code",
   "execution_count": null,
   "id": "bf3e185f-84a5-4039-934e-db1ce9a84ca6",
   "metadata": {
    "deletable": false,
    "editable": false,
    "nbgrader": {
     "cell_type": "code",
     "checksum": "5e32d01779cce494fb1dfebc226d7a26",
     "grade": true,
     "grade_id": "cell-9ba5ec80cc3545bb",
     "locked": true,
     "points": 1,
     "schema_version": 3,
     "solution": false,
     "task": false
    },
    "tags": []
   },
   "outputs": [],
   "source": [
    "# Test 2: Verify X3a has correct entries. This cell contains hidden tests. (1 mark)\n",
    "assert np.allclose(X3a[0,:],[1,2.95,0.47,3.69])"
   ]
  },
  {
   "cell_type": "markdown",
   "id": "04fa04ca-e7d2-4683-bd8e-3d5bf64a86a4",
   "metadata": {
    "deletable": false,
    "editable": false,
    "nbgrader": {
     "cell_type": "markdown",
     "checksum": "25620755e0291a268f486bc112793cdd",
     "grade": false,
     "grade_id": "cell-1290811a8ef9c322",
     "locked": true,
     "schema_version": 3,
     "solution": false,
     "task": false
    },
    "tags": []
   },
   "source": [
    "### Part 3b (2 marks)\n",
    "\n",
    "Compute the coefficients $\\beta_0$, $\\beta_1$, $\\beta_2$, and $\\beta_3$ for the linear model that best fits the data by solving the normal equations. Save the coefficients as `beta03b`, `beta13b`, `beta23b` and `beta33b` respectively."
   ]
  },
  {
   "cell_type": "code",
   "execution_count": null,
   "id": "a3943758-863d-4622-b57f-7338e7f9e3f8",
   "metadata": {
    "deletable": false,
    "nbgrader": {
     "cell_type": "code",
     "checksum": "fafa8c399c6618fbcf0660c384d972bc",
     "grade": false,
     "grade_id": "cell-6289103379f3d7e6",
     "locked": false,
     "schema_version": 3,
     "solution": true,
     "task": false
    },
    "tags": []
   },
   "outputs": [],
   "source": [
    "# YOUR CODE HERE"
   ]
  },
  {
   "cell_type": "code",
   "execution_count": null,
   "id": "c871cdff-d0f4-488a-97b8-43cfa34b781b",
   "metadata": {
    "deletable": false,
    "editable": false,
    "nbgrader": {
     "cell_type": "code",
     "checksum": "d544bdc6be3bc87410ce3f878ebdb9af",
     "grade": true,
     "grade_id": "cell-8bf134acdd9b0518",
     "locked": true,
     "points": 1,
     "schema_version": 3,
     "solution": false,
     "task": false
    },
    "tags": []
   },
   "outputs": [],
   "source": [
    "# Test 1: Verify beta03b, beta13b, beta23b are positive numbers and beta33b is negative. (1 mark)\n",
    "assert beta03b > 0\n",
    "assert beta13b > 0\n",
    "assert beta23b > 0\n",
    "assert beta33b < 0\n",
    "print(\"Test 1: Success!\")"
   ]
  },
  {
   "cell_type": "code",
   "execution_count": null,
   "id": "24b07bcc-49bb-4cd1-b2e3-d8ae3a3af3d3",
   "metadata": {
    "deletable": false,
    "editable": false,
    "nbgrader": {
     "cell_type": "code",
     "checksum": "7751975f6c7b803cb5acb2a437420b61",
     "grade": true,
     "grade_id": "cell-737249e06d1522b6",
     "locked": true,
     "points": 1,
     "schema_version": 3,
     "solution": false,
     "task": false
    },
    "tags": []
   },
   "outputs": [],
   "source": [
    "# Test 2: Verify beta03b, beta13b, beta23b, and beta33b are the correct values. This cell contains hidden tests. (1 mark)\n",
    "assert np.round(beta03b) == 1\n",
    "assert np.round(beta13b) == 4\n",
    "assert np.round(beta23b) == 1\n",
    "assert np.round(beta33b) == -3"
   ]
  },
  {
   "cell_type": "markdown",
   "id": "5fde82ff-887b-4564-a1ec-1ac00d8ef4b0",
   "metadata": {
    "deletable": false,
    "editable": false,
    "nbgrader": {
     "cell_type": "markdown",
     "checksum": "f748db4b65e88880d424d5d3308a3b26",
     "grade": false,
     "grade_id": "cell-f58ea2bb357cf75a",
     "locked": true,
     "schema_version": 3,
     "solution": false,
     "task": false
    },
    "tags": []
   },
   "source": [
    "### Part 3c (4 marks)\n",
    "\n",
    "Contruct the vector of residuals $\\boldsymbol{\\varepsilon} = \\boldsymbol{y} - X\\boldsymbol{\\beta}$ and the coefficient of determination $R^2$. Save the results as `res3c` and `R23c`."
   ]
  },
  {
   "cell_type": "code",
   "execution_count": null,
   "id": "703cda14-554c-4231-bd00-e64b5bb15108",
   "metadata": {
    "deletable": false,
    "nbgrader": {
     "cell_type": "code",
     "checksum": "1432d308859cd1c64064bf7d70db5a50",
     "grade": false,
     "grade_id": "cell-8320eb72e52726f4",
     "locked": false,
     "schema_version": 3,
     "solution": true,
     "task": false
    },
    "tags": []
   },
   "outputs": [],
   "source": [
    "# YOUR CODE HERE"
   ]
  },
  {
   "cell_type": "code",
   "execution_count": null,
   "id": "9fb450ee-0a28-448d-ab65-d0fbb4076c47",
   "metadata": {
    "deletable": false,
    "editable": false,
    "nbgrader": {
     "cell_type": "code",
     "checksum": "566320f0afd99e97be0d8fbfb6bc3a22",
     "grade": true,
     "grade_id": "cell-fe42912beac5cbb8",
     "locked": true,
     "points": 1,
     "schema_version": 3,
     "solution": false,
     "task": false
    },
    "tags": []
   },
   "outputs": [],
   "source": [
    "# Test 1: Verify R23c is between 0 and 1. (1 mark)\n",
    "assert R23c > 0\n",
    "assert R23c < 1\n",
    "print(\"Test 1: Success!\")"
   ]
  },
  {
   "cell_type": "code",
   "execution_count": null,
   "id": "a5dac0da-1736-4470-b20d-0e69c9b29396",
   "metadata": {
    "deletable": false,
    "editable": false,
    "nbgrader": {
     "cell_type": "code",
     "checksum": "d503fc882d78651847b9f27ef979dc2f",
     "grade": true,
     "grade_id": "cell-4fcca55824548d69",
     "locked": true,
     "points": 1,
     "schema_version": 3,
     "solution": false,
     "task": false
    },
    "tags": []
   },
   "outputs": [],
   "source": [
    "# Test 2: Verify R23c is the correct value up to 14 decimal places. This cell contains hidden tests. (1 mark)\n",
    "assert np.round(R23c,4) == 0.9992"
   ]
  },
  {
   "cell_type": "code",
   "execution_count": null,
   "id": "a24c4358-75e2-4792-bd78-a849ae294771",
   "metadata": {
    "deletable": false,
    "editable": false,
    "nbgrader": {
     "cell_type": "code",
     "checksum": "055382d282ccfea3466f74335b536198",
     "grade": true,
     "grade_id": "cell-d8aa3c27625ea6a2",
     "locked": true,
     "points": 1,
     "schema_version": 3,
     "solution": false,
     "task": false
    },
    "tags": []
   },
   "outputs": [],
   "source": [
    "# Test 3: Verify res3c is a NumPy array of length 20. (1 mark)\n",
    "assert isinstance(res3c,np.ndarray)\n",
    "assert np.size(res3c) == 20\n",
    "print(\"Test 3: Success!\")"
   ]
  },
  {
   "cell_type": "code",
   "execution_count": null,
   "id": "ada8d709-7fa4-4b13-8fd9-f7441c4129f8",
   "metadata": {
    "deletable": false,
    "editable": false,
    "nbgrader": {
     "cell_type": "code",
     "checksum": "e23d7943e6fcaf159de89cab9dcbc5fa",
     "grade": true,
     "grade_id": "cell-27014dd61c41f8bf",
     "locked": true,
     "points": 1,
     "schema_version": 3,
     "solution": false,
     "task": false
    },
    "tags": []
   },
   "outputs": [],
   "source": [
    "# Test 4: Verify res3c has the correct entries. This cell contains hidden tests. (1 mark)\n",
    "assert np.abs(res3c[0] - 0.0435831177938617) < 1e-12"
   ]
  },
  {
   "cell_type": "markdown",
   "id": "bb1093e8-9a65-4722-bd68-0821ab4513f3",
   "metadata": {
    "deletable": false,
    "editable": false,
    "nbgrader": {
     "cell_type": "markdown",
     "checksum": "db18523fa2293ee55acbeff919bfa5b0",
     "grade": false,
     "grade_id": "cell-ee62d4de995abca7",
     "locked": true,
     "schema_version": 3,
     "solution": false,
     "task": false
    },
    "tags": []
   },
   "source": [
    "### Part 3d (1 mark)\n",
    "\n",
    "We say that a linear regression model is a good representation of the data if the residuals are normally distributed with mean 0 and the residuals are independent of the independent variables and the index. The cell below plots the diagnostic plots for the residuals versus the independent variables and index:"
   ]
  },
  {
   "cell_type": "code",
   "execution_count": null,
   "id": "58ba62d4-54a0-4032-8067-d13e2882de56",
   "metadata": {
    "deletable": false,
    "editable": false,
    "nbgrader": {
     "cell_type": "code",
     "checksum": "9feb38fda0735e66c3a9ddc3ccea93d3",
     "grade": false,
     "grade_id": "cell-84d1b8d9417132f2",
     "locked": true,
     "schema_version": 3,
     "solution": false,
     "task": false
    },
    "tags": []
   },
   "outputs": [],
   "source": [
    "plt.subplot(2,2,1), plt.scatter(x13,res3c), plt.grid(True), plt.title('Residual vs. x1')\n",
    "plt.subplot(2,2,2), plt.scatter(x23,res3c), plt.grid(True), plt.title('Residual vs. x2')\n",
    "plt.subplot(2,2,3), plt.scatter(x33,res3c), plt.grid(True), plt.title('Residual vs. x3')\n",
    "plt.subplot(2,2,4), plt.scatter(range(len(res3c)),res3c), plt.grid(True), plt.title('Residual vs. Index i')\n",
    "plt.tight_layout()\n",
    "plt.show()"
   ]
  },
  {
   "cell_type": "markdown",
   "id": "39a17651-9a67-42ce-8da3-25e71234f501",
   "metadata": {
    "deletable": false,
    "editable": false,
    "nbgrader": {
     "cell_type": "markdown",
     "checksum": "f3b2d915ee0ecb5e4363a689b934e3b6",
     "grade": false,
     "grade_id": "cell-cdece2112c463580",
     "locked": true,
     "schema_version": 3,
     "solution": false,
     "task": false
    }
   },
   "source": [
    "Do the diagnostic plots show that the residuals are independent of $x_1$, $x_2$, $x_3$ and the index $i$? Enter your response as `True` or `False` and save the value as `diagnostic3d`."
   ]
  },
  {
   "cell_type": "code",
   "execution_count": null,
   "id": "09aec0e3-e794-47b9-9672-c97741f60ee8",
   "metadata": {
    "deletable": false,
    "nbgrader": {
     "cell_type": "code",
     "checksum": "59534e8c0a73ae89bc4aac5ed28f20a1",
     "grade": false,
     "grade_id": "cell-4b50b6c75f4e4d11",
     "locked": false,
     "schema_version": 3,
     "solution": true,
     "task": false
    },
    "tags": []
   },
   "outputs": [],
   "source": [
    "# YOUR CODE HERE"
   ]
  },
  {
   "cell_type": "code",
   "execution_count": null,
   "id": "d88b8d49-df64-430e-9c99-96211e684785",
   "metadata": {
    "deletable": false,
    "editable": false,
    "nbgrader": {
     "cell_type": "code",
     "checksum": "04a231e0490351214cd4235da6b55cc0",
     "grade": true,
     "grade_id": "cell-9e27b194ef91d639",
     "locked": true,
     "points": 1,
     "schema_version": 3,
     "solution": false,
     "task": false
    },
    "tags": []
   },
   "outputs": [],
   "source": [
    "# Test 1: Verify diagnostic3d is the correct value. This cell contains hidden tests. (1 mark)\n",
    "assert isinstance(diagnostic3d,bool)"
   ]
  },
  {
   "cell_type": "markdown",
   "id": "026ba309-00b4-436a-be8c-90a92f3d0c51",
   "metadata": {
    "deletable": false,
    "editable": false,
    "nbgrader": {
     "cell_type": "markdown",
     "checksum": "7d93e6c75f4e9612a1bc2e1f40143471",
     "grade": false,
     "grade_id": "cell-19f4c0eaa0ad55e9",
     "locked": true,
     "schema_version": 3,
     "solution": false,
     "task": false
    },
    "tags": []
   },
   "source": [
    "## Problem 4: Logistic Regression\n",
    "\n",
    "See [MATH 360 > Logistic Regression](https://ubcmath.github.io/MATH360/data-driven/logistic-regression/index.html) for examples of logistic regression. Consider the following data:"
   ]
  },
  {
   "cell_type": "code",
   "execution_count": null,
   "id": "4ea34d75-9bdd-4082-b235-25a9c9d33b06",
   "metadata": {
    "deletable": false,
    "editable": false,
    "nbgrader": {
     "cell_type": "code",
     "checksum": "ee67d693a00936d8ebc179581b6cd183",
     "grade": false,
     "grade_id": "cell-01e3a22283def256",
     "locked": true,
     "schema_version": 3,
     "solution": false,
     "task": false
    },
    "tags": []
   },
   "outputs": [],
   "source": [
    "x4 = [4.05,4.65,4.79,5.45,5.89,6.30,6.75,6.89,7.35,7.45,7.89,8.65,9.05,9.50,9.75,10.05]\n",
    "y4 = [0,0,0,0,0,0,0,1,0,1,1,0,1,1,1,1]\n",
    "plt.plot(x4,y4,'r*')\n",
    "plt.grid(True)\n",
    "plt.show()"
   ]
  },
  {
   "cell_type": "markdown",
   "id": "d4da9510-52c9-4ebb-9c7b-359c2086a7fc",
   "metadata": {
    "deletable": false,
    "editable": false,
    "nbgrader": {
     "cell_type": "markdown",
     "checksum": "459a42fcf0c1642f209b46b677acbc8d",
     "grade": false,
     "grade_id": "cell-e611c99c0c845fea",
     "locked": true,
     "schema_version": 3,
     "solution": false,
     "task": false
    },
    "tags": []
   },
   "source": [
    "### Part 4a (3 marks)\n",
    "\n",
    "Fit a logistic regression model $y = \\sigma(x;W,b)$ using a **cross entropy** cost function **without** regularization ($\\alpha=0$). Save the optimal values $W$ and $b$ as `W4a` and `b4a` respectively.  "
   ]
  },
  {
   "cell_type": "code",
   "execution_count": null,
   "id": "d8bf8c9d-b40a-4e41-9993-e8ff8fd26ef8",
   "metadata": {
    "deletable": false,
    "nbgrader": {
     "cell_type": "code",
     "checksum": "ae787b5cabd2d78bea3efbba88ddabf9",
     "grade": false,
     "grade_id": "cell-21604487cb9e2805",
     "locked": false,
     "schema_version": 3,
     "solution": true,
     "task": false
    },
    "tags": []
   },
   "outputs": [],
   "source": [
    "# YOUR CODE HERE"
   ]
  },
  {
   "cell_type": "code",
   "execution_count": null,
   "id": "dde897a9-6294-4e36-8286-048bb449cca0",
   "metadata": {
    "deletable": false,
    "editable": false,
    "nbgrader": {
     "cell_type": "code",
     "checksum": "c7a645e7c08c49133065e50475e6264e",
     "grade": true,
     "grade_id": "cell-6d4f09aecf2b60ca",
     "locked": true,
     "points": 1,
     "schema_version": 3,
     "solution": false,
     "task": false
    },
    "tags": []
   },
   "outputs": [],
   "source": [
    "# Test 1: Verify W4a is positive and b4a is a negative number. (1 mark)\n",
    "assert W4a > 0\n",
    "assert b4a < 0\n",
    "print(\"Test 1: Success!\")"
   ]
  },
  {
   "cell_type": "code",
   "execution_count": null,
   "id": "5bbd759a-a881-4760-9c68-0f4d63e9e0d1",
   "metadata": {
    "deletable": false,
    "editable": false,
    "nbgrader": {
     "cell_type": "code",
     "checksum": "79505cf0accce8d52f83a1ad0ff4886c",
     "grade": true,
     "grade_id": "cell-1a848f8350b65fa8",
     "locked": true,
     "points": 1,
     "schema_version": 3,
     "solution": false,
     "task": false
    },
    "tags": []
   },
   "outputs": [],
   "source": [
    "# Test 2: Verify W4a is the correct value. This cell contains hidden tests. (1 mark)\n",
    "assert np.round(W4a,1) == 1.4"
   ]
  },
  {
   "cell_type": "code",
   "execution_count": null,
   "id": "24b90b8c-ce88-47a8-a47b-fb05b3632ed6",
   "metadata": {
    "deletable": false,
    "editable": false,
    "nbgrader": {
     "cell_type": "code",
     "checksum": "dff7a684f2c37555203134ba1e88fce8",
     "grade": true,
     "grade_id": "cell-c7804f763b99e759",
     "locked": true,
     "points": 1,
     "schema_version": 3,
     "solution": false,
     "task": false
    },
    "tags": []
   },
   "outputs": [],
   "source": [
    "# Test 3: Verify b4a is the correct value. This cell contains hidden tests. (1 mark)\n",
    "assert np.round(b4a,1) == -10.6"
   ]
  },
  {
   "cell_type": "markdown",
   "id": "4a008a58-3c85-43a2-b7e6-bda6ffbab61e",
   "metadata": {
    "deletable": false,
    "editable": false,
    "nbgrader": {
     "cell_type": "markdown",
     "checksum": "aab044f67848700be845577406ea5ff9",
     "grade": false,
     "grade_id": "cell-6e76758a38e24258",
     "locked": true,
     "schema_version": 3,
     "solution": false,
     "task": false
    }
   },
   "source": [
    "Plot the logistic regression model with the data:"
   ]
  },
  {
   "cell_type": "code",
   "execution_count": null,
   "id": "32c53488-2a75-4a4a-a9a4-fd2c66b7f357",
   "metadata": {
    "deletable": false,
    "editable": false,
    "nbgrader": {
     "cell_type": "code",
     "checksum": "4fea81cd61c9ccaf9ca4210d1ed3dea4",
     "grade": false,
     "grade_id": "cell-5794dac80816f7dc",
     "locked": true,
     "schema_version": 3,
     "solution": false,
     "task": false
    },
    "tags": []
   },
   "outputs": [],
   "source": [
    "xs4 = np.linspace(min(x4),max(x4),100)\n",
    "ys4 = 1/(1 + np.exp(-(W4a*xs4 + b4a)))\n",
    "plt.plot(x4,y4,'r*'), plt.plot(xs4,ys4)\n",
    "plt.grid(True)\n",
    "plt.show()"
   ]
  },
  {
   "cell_type": "markdown",
   "id": "68d35fa3-a6b9-4ab6-81ed-5a1a233766c7",
   "metadata": {
    "deletable": false,
    "editable": false,
    "nbgrader": {
     "cell_type": "markdown",
     "checksum": "742fd8913238c83e1472705d591af255",
     "grade": false,
     "grade_id": "cell-1d643d2fa87856b7",
     "locked": true,
     "schema_version": 3,
     "solution": false,
     "task": false
    },
    "tags": []
   },
   "source": [
    "## Part 4b (1 mark)\n",
    "\n",
    "Suppose we observe $x=7.8$. Does the model computed in part 4a predict $y=0$ or $y=1$? Save the results as `y4b`."
   ]
  },
  {
   "cell_type": "code",
   "execution_count": null,
   "id": "1fe2d908-89da-42ac-b87f-bdb46cc9fe51",
   "metadata": {
    "deletable": false,
    "nbgrader": {
     "cell_type": "code",
     "checksum": "2ee8d562eaeafe767eddad7d4a663f47",
     "grade": false,
     "grade_id": "cell-db7892600a72df78",
     "locked": false,
     "schema_version": 3,
     "solution": true,
     "task": false
    },
    "tags": []
   },
   "outputs": [],
   "source": [
    "# YOUR CODE HERE"
   ]
  },
  {
   "cell_type": "code",
   "execution_count": null,
   "id": "3b233abc-56e3-48ff-a83b-b0d60874a3f7",
   "metadata": {
    "deletable": false,
    "editable": false,
    "nbgrader": {
     "cell_type": "code",
     "checksum": "5ddfb4b0f3953deeaf152277081b539b",
     "grade": true,
     "grade_id": "cell-09db140807e1db85",
     "locked": true,
     "points": 1,
     "schema_version": 3,
     "solution": false,
     "task": false
    },
    "tags": []
   },
   "outputs": [],
   "source": [
    "# Test 1: Verify y4a is the correct value. This cell contains hidden tests. (1 mark)\n",
    "assert y4b == 0 or y4b == 1"
   ]
  },
  {
   "cell_type": "markdown",
   "id": "3bc32619-a8b5-43c6-9c76-ae8718c35c41",
   "metadata": {
    "deletable": false,
    "editable": false,
    "nbgrader": {
     "cell_type": "markdown",
     "checksum": "70f191837df0a36e6c7a381bcff462cd",
     "grade": false,
     "grade_id": "cell-7facbacab0c59646",
     "locked": true,
     "schema_version": 3,
     "solution": false,
     "task": false
    },
    "tags": []
   },
   "source": [
    "## Problem 5: Logistic Regression with Regularization\n",
    "\n",
    "We can use `LogisticRegression` in the `sklearn` package to compute logistic regression models. Note that the parameter $C$ in `LogisticRegression` corresponds to \n",
    "\n",
    "$$\n",
    "C = \\frac{1}{2 S \\alpha}\n",
    "$$\n",
    "\n",
    "where $\\alpha$ is the regularization parameter in our formulation (see [MATH 360 > Multivariable Logistic Regression](https://ubcmath.github.io/MATH360/data-driven/logistic-regression/multivariable.html#cross-entropy)) and $S$ is the number of samples in the training set (see [scikit-learn > Linear Models > Logistic Regression](https://scikit-learn.org/stable/modules/linear_model.html#binary-case)).\n",
    "\n",
    "Consider the following data:"
   ]
  },
  {
   "cell_type": "code",
   "execution_count": null,
   "id": "e6df0170-f95d-412b-8bef-4f0954978914",
   "metadata": {
    "deletable": false,
    "editable": false,
    "nbgrader": {
     "cell_type": "code",
     "checksum": "1e4a244596994a781d3829983c52fd09",
     "grade": false,
     "grade_id": "cell-0a91c428a9bacef6",
     "locked": true,
     "schema_version": 3,
     "solution": false,
     "task": false
    },
    "tags": []
   },
   "outputs": [],
   "source": [
    "x05 = [1.6, 0.7, 0.8, 1.5, 1. , 1.2, 0.7, 1.4, 1.4, 1.3, 0.4, 1.1, 1.9, 0.8, 1.5, 0.7, 1.4, 0.4, 0.1, 1.9, 1.5, 0.6, 1.8, 0.8, 1.2, 0.7, 0.4, 0.3, 0.3, 1. , 1.5, 1.3, 0.8, 1.5, 0.6, 1.4, 1.5, 1. , 1.4, 0.6, 1.9, 1.1, 1.4, 0.9, 1.7, 1.8, 0.8, 1.8, 0.2, 1.6]\n",
    "x15 = [0.9, 1.6, 3. , 0.6, 1.3, 2.9, 2.3, 1.6, 2.6, 0.9, 0.8, 2.2, 2.4, 1.5, 1.2, 1.7, 1.3, 2.5, 2.3, 0.8, 2.6, 0.7, 2.1, 2.9, 2.3, 0.5, 2.9, 1.6, 2.1, 1.5, 1. , 1.5, 0.5, 1.3, 2.9, 2.9, 2.3, 2.1, 0.3, 1.4, 1.7, 2.6, 1. , 2.4, 0.8, 2.5, 1.3, 1.2, 2.4, 2.1]\n",
    "y5  = [ 1.,  0.,  0.,  1.,  1.,  0.,  0.,  1.,  1.,  1.,  0.,  0.,  1.,  0.,  1.,  0.,  1.,  0.,  0.,  1.,  0.,  1.,  1.,  0.,  0.,  0.,  0.,  0.,  0.,  0.,  1.,  1.,  1.,  1.,  0.,  0.,  1.,  0.,  1.,  0.,  1.,  0.,  1.,  0.,  1.,  1.,  0.,  1.,  0.,  1.]\n",
    "\n",
    "plt.scatter(x05,x15,c=y5)\n",
    "plt.colorbar()\n",
    "plt.show()"
   ]
  },
  {
   "cell_type": "markdown",
   "id": "26c6ae99-a339-4ff1-988d-fd2a65c19dba",
   "metadata": {
    "deletable": false,
    "editable": false,
    "nbgrader": {
     "cell_type": "markdown",
     "checksum": "04426e67c0234fc0b484b60282eda8a9",
     "grade": false,
     "grade_id": "cell-7aef87d015b5ae4c",
     "locked": true,
     "schema_version": 3,
     "solution": false,
     "task": false
    },
    "tags": []
   },
   "source": [
    "### Part 5a (2 marks)\n",
    "\n",
    "Use `LogisticRegression` with regularization parameter $\\alpha = 0.01$ to compute the linear regression model. Use `max_iter=1000`. Save the optimal parameters $W_0$, $W_1$ and $b$ as `W05a`, `W15a`, `b5` respectively."
   ]
  },
  {
   "cell_type": "code",
   "execution_count": null,
   "id": "1ac10f3f-268b-41f3-9636-89c00b4ff9e7",
   "metadata": {
    "deletable": false,
    "nbgrader": {
     "cell_type": "code",
     "checksum": "228f68ddd132ebc4d729644c0f0c798f",
     "grade": false,
     "grade_id": "cell-0798c7f3dd5d1a73",
     "locked": false,
     "schema_version": 3,
     "solution": true,
     "task": false
    },
    "tags": []
   },
   "outputs": [],
   "source": [
    "# YOUR CODE HERE"
   ]
  },
  {
   "cell_type": "code",
   "execution_count": null,
   "id": "2b73dbd3-2bea-4877-9d1d-0357167e8622",
   "metadata": {
    "deletable": false,
    "editable": false,
    "nbgrader": {
     "cell_type": "code",
     "checksum": "62521920f33d1a596a290c9648294ea6",
     "grade": true,
     "grade_id": "cell-9c2decd37a14b33f",
     "locked": true,
     "points": 1,
     "schema_version": 3,
     "solution": false,
     "task": false
    },
    "tags": []
   },
   "outputs": [],
   "source": [
    "# Test 1: Verify W05a is positive and W15a is a negative number. (1 mark)\n",
    "assert W05a > 0\n",
    "assert W15a < 0\n",
    "print(\"Test 1: Success!\")"
   ]
  },
  {
   "cell_type": "code",
   "execution_count": null,
   "id": "8020f874-3703-48d9-aa89-a0f7b5aecf03",
   "metadata": {
    "deletable": false,
    "editable": false,
    "nbgrader": {
     "cell_type": "code",
     "checksum": "19e88b2e88d1ea77ffe318afcc051df4",
     "grade": true,
     "grade_id": "cell-502abb83e2a65f0d",
     "locked": true,
     "points": 1,
     "schema_version": 3,
     "solution": false,
     "task": false
    },
    "tags": []
   },
   "outputs": [],
   "source": [
    "# Test 2: Verify W05a and W15a are the correct values. This cell contains hidden tests. (1 mark)\n",
    "assert np.round(W05a) == 3\n",
    "assert np.round(W15a) == -1"
   ]
  },
  {
   "cell_type": "markdown",
   "id": "4dbb8188-000e-4e97-bfb6-7c289038992c",
   "metadata": {
    "deletable": false,
    "editable": false,
    "nbgrader": {
     "cell_type": "markdown",
     "checksum": "3e954c573cb83110609fb55960210c83",
     "grade": false,
     "grade_id": "cell-44df1d07e8988009",
     "locked": true,
     "schema_version": 3,
     "solution": false,
     "task": false
    },
    "tags": []
   },
   "source": [
    "Plot the logistic model with the data: "
   ]
  },
  {
   "cell_type": "code",
   "execution_count": null,
   "id": "750c6ae5-3700-43ec-8e76-e7c0da665dd2",
   "metadata": {
    "deletable": false,
    "editable": false,
    "nbgrader": {
     "cell_type": "code",
     "checksum": "6718c7068a53510875ad4a38bef0e9bd",
     "grade": false,
     "grade_id": "cell-918f0aab75f9310c",
     "locked": true,
     "schema_version": 3,
     "solution": false,
     "task": false
    },
    "tags": []
   },
   "outputs": [],
   "source": [
    "x0 = np.linspace(0,2,50); x1 = np.linspace(0,3.5,50);\n",
    "X0,X1 = np.meshgrid(x0,x1)\n",
    "Y = 1/(1 + np.exp(-(W05a*X0 + W15a*X1 + b5a)))\n",
    "plt.contourf(X0,X1,Y,levels=np.arange(0,1.1,0.1),alpha=0.2)\n",
    "plt.contour(X0,X1,Y,levels=[0.5],colors='r')\n",
    "plt.grid(True)\n",
    "plt.scatter(x05,x15,c=y5)\n",
    "plt.colorbar()\n",
    "plt.show()"
   ]
  },
  {
   "cell_type": "markdown",
   "id": "e05edc1a-aa72-46df-9a5e-1c5badecb806",
   "metadata": {
    "deletable": false,
    "editable": false,
    "nbgrader": {
     "cell_type": "markdown",
     "checksum": "73a194773f9063163061c161569fc5e3",
     "grade": false,
     "grade_id": "cell-9ce05ceb8e248a15",
     "locked": true,
     "schema_version": 3,
     "solution": false,
     "task": false
    },
    "tags": []
   },
   "source": [
    "### Part 5b (2 marks)\n",
    "\n",
    "Use `LogisticRegression` with smaller and smaller values of the regularization parameter $\\alpha$ to compute the linear regression model (always using `max_iter=1000`). Compute the cross entropy (see function `costCE` included below) for each model and observe the results. Approximate the lower bound on the cross entropy up to 4 decimal places. Save the result as `CE5b`."
   ]
  },
  {
   "cell_type": "code",
   "execution_count": null,
   "id": "8c20f23f-8c27-43cc-a6f3-3ea9539b581c",
   "metadata": {
    "deletable": false,
    "editable": false,
    "nbgrader": {
     "cell_type": "code",
     "checksum": "b4cd7e2965d6ddded9160f020a82b40f",
     "grade": false,
     "grade_id": "cell-d2d7316dfc5c91b7",
     "locked": true,
     "schema_version": 3,
     "solution": false,
     "task": false
    },
    "tags": []
   },
   "outputs": [],
   "source": [
    "def costCE(W,b,X,y):\n",
    "    N,p = X.shape\n",
    "    W = np.array(W).reshape(p,1)\n",
    "    y = np.array(y).reshape(N,1)\n",
    "    S = 1/(1 + np.exp(-(X@W + b)))\n",
    "    L = -1/N*np.sum(y*np.log(S) + (1 - y)*np.log(1 - S))\n",
    "    return L"
   ]
  },
  {
   "cell_type": "code",
   "execution_count": null,
   "id": "6a26c10c-b0e5-4cc7-b5b7-64a9c6aa60a5",
   "metadata": {
    "deletable": false,
    "nbgrader": {
     "cell_type": "code",
     "checksum": "f145fd2802d30837bdc9b4fc7ca2040c",
     "grade": false,
     "grade_id": "cell-1b49da4d1e0920dd",
     "locked": false,
     "schema_version": 3,
     "solution": true,
     "task": false
    },
    "tags": []
   },
   "outputs": [],
   "source": [
    "# YOUR CODE HERE"
   ]
  },
  {
   "cell_type": "code",
   "execution_count": null,
   "id": "0ae9d3ed-bdf4-4127-8aca-21082165482d",
   "metadata": {
    "deletable": false,
    "editable": false,
    "nbgrader": {
     "cell_type": "code",
     "checksum": "c8b1fd5cd35120554ac9285c079bc12b",
     "grade": true,
     "grade_id": "cell-a180cc5a5a5dfa82",
     "locked": true,
     "points": 1,
     "schema_version": 3,
     "solution": false,
     "task": false
    },
    "tags": []
   },
   "outputs": [],
   "source": [
    "# Test 1: Verify CE5b is between 0 and 1. (1 mark)\n",
    "assert CE5b > 0\n",
    "assert CE5b < 1\n",
    "print(\"Test 1: Success!\")"
   ]
  },
  {
   "cell_type": "code",
   "execution_count": null,
   "id": "82f880b9-5f20-4ed0-8f6f-28dc50881bd0",
   "metadata": {
    "deletable": false,
    "editable": false,
    "nbgrader": {
     "cell_type": "code",
     "checksum": "fa139a80be7d89f69fbf1fcf68b9a9ca",
     "grade": true,
     "grade_id": "cell-fa41458b11937574",
     "locked": true,
     "points": 1,
     "schema_version": 3,
     "solution": false,
     "task": false
    },
    "tags": []
   },
   "outputs": [],
   "source": [
    "# Test 2: Verify CE5b is the correct value. This cell contains hidden tests. (1 mark)\n",
    "assert np.round(CE5b,2) == 0.14"
   ]
  }
 ],
 "metadata": {
  "kernelspec": {
   "display_name": "Python 3 (ipykernel)",
   "language": "python",
   "name": "python3"
  },
  "language_info": {
   "codemirror_mode": {
    "name": "ipython",
    "version": 3
   },
   "file_extension": ".py",
   "mimetype": "text/x-python",
   "name": "python",
   "nbconvert_exporter": "python",
   "pygments_lexer": "ipython3",
   "version": "3.10.12"
  }
 },
 "nbformat": 4,
 "nbformat_minor": 5
}
