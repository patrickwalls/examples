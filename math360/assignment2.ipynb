{
 "cells": [
  {
   "cell_type": "markdown",
   "id": "07f62ffd-161b-415c-bff3-9bbaff084488",
   "metadata": {
    "deletable": false,
    "editable": false,
    "nbgrader": {
     "cell_type": "markdown",
     "checksum": "2d337896d3409d69e561b9e2f8e56be3",
     "grade": false,
     "grade_id": "cell-b7f80e8512041df5",
     "locked": true,
     "schema_version": 3,
     "solution": false,
     "task": false
    },
    "tags": []
   },
   "source": [
    "# MATH 360 Python Assignment 2\n",
    "\n",
    "* See [Mathematical Python](https://patrickwalls.github.io/mathematicalpython/) for an introduction to Python and Jupyter\n",
    "* See [Introduction to Mathematical Modelling](https://ubcmath.github.io/MATH360/) for more examples\n",
    "* Write solutions in the cells with `YOUR CODE HERE`\n",
    "* Do **not** import any packages (other than the standard packages in the cell below)\n",
    "* Run the tests to verify your solutions\n",
    "* There are **hidden tests** therefore your solutions may not be entirely correct even if they pass the tests below\n",
    "* Submit your `.ipynb` notebook file to Canvas (download from Syzygy to your machine and upload to Canvas)"
   ]
  },
  {
   "cell_type": "code",
   "execution_count": null,
   "id": "8abc7341-da1f-45b5-b6d0-91cb689b07cc",
   "metadata": {
    "deletable": false,
    "editable": false,
    "nbgrader": {
     "cell_type": "code",
     "checksum": "332e155571a829c6239081da455e2166",
     "grade": false,
     "grade_id": "cell-d4aab6994c069d01",
     "locked": true,
     "schema_version": 3,
     "solution": false,
     "task": false
    },
    "tags": []
   },
   "outputs": [],
   "source": [
    "import numpy as np\n",
    "import matplotlib.pyplot as plt\n",
    "import scipy.stats as stats\n",
    "import scipy.integrate as spi"
   ]
  },
  {
   "cell_type": "markdown",
   "id": "ea338a2a-e631-4c46-96e3-77e3cd98ae33",
   "metadata": {
    "deletable": false,
    "editable": false,
    "nbgrader": {
     "cell_type": "markdown",
     "checksum": "f14a5316ed94affceefdd036e409bd33",
     "grade": false,
     "grade_id": "cell-447182ef32f0dc0d",
     "locked": true,
     "schema_version": 3,
     "solution": false,
     "task": false
    },
    "tags": []
   },
   "source": [
    "## Problem 1: Probability Density Functions\n",
    "\n",
    "### Part 1a (2 marks)\n",
    "\n",
    "Let $X \\sim U(1,5)$ be a uniform random variable with parameters $a=1$ and $b=5$ and let $f_X$ be the corresponding probability density function. Create the function $f_X$ and save the result as `f1a`."
   ]
  },
  {
   "cell_type": "code",
   "execution_count": null,
   "id": "751457db-3550-4a90-84df-e86989a0ac7f",
   "metadata": {
    "deletable": false,
    "nbgrader": {
     "cell_type": "code",
     "checksum": "f17f3cbae47ed6777c55d874da6c1eed",
     "grade": false,
     "grade_id": "cell-b19cad801c1e812b",
     "locked": false,
     "schema_version": 3,
     "solution": true,
     "task": false
    },
    "tags": []
   },
   "outputs": [],
   "source": [
    "# YOUR CODE HERE"
   ]
  },
  {
   "cell_type": "code",
   "execution_count": null,
   "id": "6f70a131-aa05-4c04-802b-c6c5888615db",
   "metadata": {
    "deletable": false,
    "editable": false,
    "nbgrader": {
     "cell_type": "code",
     "checksum": "8e7fe1018625826bca77752000e5b160",
     "grade": true,
     "grade_id": "cell-ab43f65ca34c9d1d",
     "locked": true,
     "points": 1,
     "schema_version": 3,
     "solution": false,
     "task": false
    },
    "tags": []
   },
   "outputs": [],
   "source": [
    "# Test 1: Verify f1a is a function with positive values. (1 mark)\n",
    "assert callable(f1a)\n",
    "assert f1a(0) >= 0\n",
    "assert f1a(1) >= 0\n",
    "assert f1a(3) >= 0\n",
    "assert f1a(10) >= 0\n",
    "print(\"Test 1: Success!\")"
   ]
  },
  {
   "cell_type": "code",
   "execution_count": null,
   "id": "62472c75-203d-4fae-8df7-4c9dc458cec3",
   "metadata": {
    "deletable": false,
    "editable": false,
    "nbgrader": {
     "cell_type": "code",
     "checksum": "e2fdbe5c78da06a50f99b3648410961b",
     "grade": true,
     "grade_id": "cell-2dc115903e774b9e",
     "locked": true,
     "points": 1,
     "schema_version": 3,
     "solution": false,
     "task": false
    },
    "tags": []
   },
   "outputs": [],
   "source": [
    "# Test 2: Verify f1a returns the correct values. This cell contains hidden tests. (1 mark)"
   ]
  },
  {
   "cell_type": "code",
   "execution_count": null,
   "id": "70c3fd02-5dff-4de2-8f01-5245ff144830",
   "metadata": {
    "deletable": false,
    "editable": false,
    "nbgrader": {
     "cell_type": "code",
     "checksum": "b03522f0e9a43c6ec7dd49f9f2cd28a3",
     "grade": false,
     "grade_id": "cell-45f91542b0c0ca7a",
     "locked": true,
     "schema_version": 3,
     "solution": false,
     "task": false
    },
    "tags": []
   },
   "outputs": [],
   "source": [
    "# Plot the result\n",
    "x = np.linspace(0,6,200)\n",
    "plt.figure(figsize=(6,3)), plt.plot(x,f1a(x)), plt.grid(True)\n",
    "plt.show()"
   ]
  },
  {
   "cell_type": "markdown",
   "id": "c375f505-0158-4dd0-a36a-0e502ad3d603",
   "metadata": {
    "deletable": false,
    "editable": false,
    "nbgrader": {
     "cell_type": "markdown",
     "checksum": "8c2f892244eba9c8ac994084f7eee657",
     "grade": false,
     "grade_id": "cell-be82f46d0bc25e76",
     "locked": true,
     "schema_version": 3,
     "solution": false,
     "task": false
    },
    "tags": []
   },
   "source": [
    "### Part 1b (2 marks)\n",
    "\n",
    "Let $X \\sim Exp(1/2)$ be an exponential random variable with parameter $\\lambda=1/2$ and let $f_X$ be the corresponding probability density function. Create the function $f_X$ and save the result as `f1b`."
   ]
  },
  {
   "cell_type": "code",
   "execution_count": null,
   "id": "bc36581b-ad15-4c24-8d72-a9ec669fa84e",
   "metadata": {
    "deletable": false,
    "nbgrader": {
     "cell_type": "code",
     "checksum": "7dabd17ff3f89c09e8a64c9eae32be25",
     "grade": false,
     "grade_id": "cell-1e87224b5386cd4e",
     "locked": false,
     "schema_version": 3,
     "solution": true,
     "task": false
    },
    "tags": []
   },
   "outputs": [],
   "source": [
    "# YOUR CODE HERE"
   ]
  },
  {
   "cell_type": "code",
   "execution_count": null,
   "id": "ac033bbf-150d-43c5-aae9-fb37f6fe6f89",
   "metadata": {
    "deletable": false,
    "editable": false,
    "nbgrader": {
     "cell_type": "code",
     "checksum": "3d9fd38ad2204c76c5e5e3c61b0280af",
     "grade": true,
     "grade_id": "cell-2f4725f4befab0e7",
     "locked": true,
     "points": 1,
     "schema_version": 3,
     "solution": false,
     "task": false
    },
    "tags": []
   },
   "outputs": [],
   "source": [
    "# Test 1: Verify f1b is a function with positive values. (1 mark)\n",
    "assert callable(f1b)\n",
    "assert f1b(0) >= 0\n",
    "assert f1b(1) >= 0\n",
    "assert f1b(10) >= 0\n",
    "print(\"Test 1: Success!\")"
   ]
  },
  {
   "cell_type": "code",
   "execution_count": null,
   "id": "47716696-6764-4c4b-9f3a-cd4832cb7c6c",
   "metadata": {
    "deletable": false,
    "editable": false,
    "nbgrader": {
     "cell_type": "code",
     "checksum": "35d3bc5f2a0c8b6b86101b9921f1248e",
     "grade": true,
     "grade_id": "cell-33e3caa8e1722ce0",
     "locked": true,
     "points": 1,
     "schema_version": 3,
     "solution": false,
     "task": false
    },
    "tags": []
   },
   "outputs": [],
   "source": [
    "# Test 2: Verify f1b returns the correct values. This cell contains hidden tests. (1 mark)"
   ]
  },
  {
   "cell_type": "code",
   "execution_count": null,
   "id": "b91e51ba-8ab2-4b04-affd-aa6dc9f8e4b5",
   "metadata": {
    "deletable": false,
    "editable": false,
    "nbgrader": {
     "cell_type": "code",
     "checksum": "cbff2c43f244e565a3da117c0c31aa40",
     "grade": false,
     "grade_id": "cell-c3ed28bdfcd5e84d",
     "locked": true,
     "schema_version": 3,
     "solution": false,
     "task": false
    },
    "tags": []
   },
   "outputs": [],
   "source": [
    "# Plot the result\n",
    "x = np.linspace(0,10,200)\n",
    "plt.figure(figsize=(6,3)), plt.plot(x,f1b(x)), plt.grid(True)\n",
    "plt.show()"
   ]
  },
  {
   "cell_type": "markdown",
   "id": "bcad4470-4a97-4e4c-a5a4-206375a5cf7f",
   "metadata": {
    "deletable": false,
    "editable": false,
    "nbgrader": {
     "cell_type": "markdown",
     "checksum": "8fb8ab7d6e44e27fc7ba0b2a32f7ca58",
     "grade": false,
     "grade_id": "cell-ca0a6ac9af39dea3",
     "locked": true,
     "schema_version": 3,
     "solution": false,
     "task": false
    },
    "tags": []
   },
   "source": [
    "### Part 1c (2 marks)\n",
    "\n",
    "Let $X \\sim N(2,3)$ be a normal random variable with mean $\\mu=2$ and variance $\\sigma^2=3$ and let $f_X$ be the corresponding probability density function. Create the function $f_X$ and save the result as `f1c`."
   ]
  },
  {
   "cell_type": "code",
   "execution_count": null,
   "id": "6f2cc673-96e4-4625-b7fc-66185858a7ac",
   "metadata": {
    "deletable": false,
    "nbgrader": {
     "cell_type": "code",
     "checksum": "6d5c7bd3f9692f71341a3496de9125b3",
     "grade": false,
     "grade_id": "cell-cb6c9397d682448b",
     "locked": false,
     "schema_version": 3,
     "solution": true,
     "task": false
    },
    "tags": []
   },
   "outputs": [],
   "source": [
    "# YOUR CODE HERE"
   ]
  },
  {
   "cell_type": "code",
   "execution_count": null,
   "id": "0131bfdf-14bd-4a46-bdab-b72a7bd4b7c6",
   "metadata": {
    "deletable": false,
    "editable": false,
    "nbgrader": {
     "cell_type": "code",
     "checksum": "1e4c8cf63ac2b6b868484592b62dc1cb",
     "grade": true,
     "grade_id": "cell-e93f417dc13c0c8b",
     "locked": true,
     "points": 1,
     "schema_version": 3,
     "solution": false,
     "task": false
    },
    "tags": []
   },
   "outputs": [],
   "source": [
    "# Test 1: Verify f1c is a function with positive values. (1 mark)\n",
    "assert callable(f1c)\n",
    "assert f1c(0) >= 0\n",
    "assert f1c(1) >= 0\n",
    "assert f1c(10) >= 0\n",
    "print(\"Test 1: Success!\")"
   ]
  },
  {
   "cell_type": "code",
   "execution_count": null,
   "id": "6aca9b34-2170-438b-b35e-723e499e4d32",
   "metadata": {
    "deletable": false,
    "editable": false,
    "nbgrader": {
     "cell_type": "code",
     "checksum": "980ee129afd06165c2179b7374fe3127",
     "grade": true,
     "grade_id": "cell-91ef89509b5cd174",
     "locked": true,
     "points": 1,
     "schema_version": 3,
     "solution": false,
     "task": false
    },
    "tags": []
   },
   "outputs": [],
   "source": [
    "# Test 2: Verify f1c returns the correct values. This cell contains hidden tests. (1 mark)"
   ]
  },
  {
   "cell_type": "code",
   "execution_count": null,
   "id": "451403f2-f21b-4cc1-b1b3-e8898a8c775e",
   "metadata": {
    "deletable": false,
    "editable": false,
    "nbgrader": {
     "cell_type": "code",
     "checksum": "1ae3108fbb1e2c56940b764dda6a308c",
     "grade": false,
     "grade_id": "cell-d6083e604cfacbf4",
     "locked": true,
     "schema_version": 3,
     "solution": false,
     "task": false
    },
    "tags": []
   },
   "outputs": [],
   "source": [
    "# Plot the result\n",
    "x = np.linspace(-6,10,200)\n",
    "plt.figure(figsize=(6,3)), plt.plot(x,f1c(x)), plt.grid(True)\n",
    "plt.show()"
   ]
  },
  {
   "cell_type": "markdown",
   "id": "556fbe0d-7f68-423d-9574-cccf11fa077d",
   "metadata": {
    "deletable": false,
    "editable": false,
    "nbgrader": {
     "cell_type": "markdown",
     "checksum": "8179693eb3021aeba264e89818a6de96",
     "grade": false,
     "grade_id": "cell-99e74ff0f446864c",
     "locked": true,
     "schema_version": 3,
     "solution": false,
     "task": false
    },
    "tags": []
   },
   "source": [
    "## Problem 2: Computing Probabilities\n",
    "\n",
    "### Part 2a (2 marks)\n",
    "\n",
    "Let $X$ be a normal random variable with mean $\\mu=2$ and variance $\\sigma^2=1.2$. Compute the probability $P(X \\geq 1)$. Save the result as `P2a`."
   ]
  },
  {
   "cell_type": "code",
   "execution_count": null,
   "id": "33f5efb4-dbfe-4730-a098-535aae34f70f",
   "metadata": {
    "deletable": false,
    "nbgrader": {
     "cell_type": "code",
     "checksum": "b775e18d744f0f82a1e6af1a60de5575",
     "grade": false,
     "grade_id": "cell-b52715a1e0bbc187",
     "locked": false,
     "schema_version": 3,
     "solution": true,
     "task": false
    },
    "tags": []
   },
   "outputs": [],
   "source": [
    "# YOUR CODE HERE"
   ]
  },
  {
   "cell_type": "code",
   "execution_count": null,
   "id": "7d4fc653-5279-4d5a-b259-f395d668d912",
   "metadata": {
    "deletable": false,
    "editable": false,
    "nbgrader": {
     "cell_type": "code",
     "checksum": "40cde1b8db1d9bdc1d5364caf2ede4c9",
     "grade": true,
     "grade_id": "cell-74e92193b7bd9aba",
     "locked": true,
     "points": 1,
     "schema_version": 3,
     "solution": false,
     "task": false
    },
    "tags": []
   },
   "outputs": [],
   "source": [
    "# Test 1: Verify P2a is a number between 0 and 1. (1 mark)\n",
    "assert P2a > 0\n",
    "assert P2a < 1\n",
    "print(\"Test 1: Success!\")"
   ]
  },
  {
   "cell_type": "code",
   "execution_count": null,
   "id": "7ee605a1-77db-4048-acbb-544034ade37c",
   "metadata": {
    "deletable": false,
    "editable": false,
    "nbgrader": {
     "cell_type": "code",
     "checksum": "f01ee86402ee6e5260a80ac90cc61738",
     "grade": true,
     "grade_id": "cell-302931a652f81e2b",
     "locked": true,
     "points": 1,
     "schema_version": 3,
     "solution": false,
     "task": false
    },
    "tags": []
   },
   "outputs": [],
   "source": [
    "# Test 2: Verify P2a is the correct value. This cell contains hidden tests. (1 mark)\n",
    "assert abs(P2a - 0.82) < 0.01, \"P2a rounded to 2 decimal places is 0.82.\""
   ]
  },
  {
   "cell_type": "markdown",
   "id": "b7a0d291-432c-4d7b-ab28-5b61346925ef",
   "metadata": {
    "deletable": false,
    "editable": false,
    "nbgrader": {
     "cell_type": "markdown",
     "checksum": "181cbbac8123944200c165aecd96e730",
     "grade": false,
     "grade_id": "cell-80ee28d1e215a5a8",
     "locked": true,
     "schema_version": 3,
     "solution": false,
     "task": false
    },
    "tags": []
   },
   "source": [
    "### Part 2b (2 marks)\n",
    "\n",
    "Let $X$ be an exponential random variable with parameter $\\lambda = 1.5$. Compute the probability $P(0.5 \\leq X \\leq 1.5)$. Save the result as `P2b`."
   ]
  },
  {
   "cell_type": "code",
   "execution_count": null,
   "id": "2e3911be-7910-4772-abf9-33c80244432e",
   "metadata": {
    "deletable": false,
    "nbgrader": {
     "cell_type": "code",
     "checksum": "667cfce414f9f7b029b5b6ea20fdc978",
     "grade": false,
     "grade_id": "cell-da363e42d11662f8",
     "locked": false,
     "schema_version": 3,
     "solution": true,
     "task": false
    },
    "tags": []
   },
   "outputs": [],
   "source": [
    "# YOUR CODE HERE"
   ]
  },
  {
   "cell_type": "code",
   "execution_count": null,
   "id": "1b1597b2-a965-4a81-94df-092383b9290f",
   "metadata": {
    "deletable": false,
    "editable": false,
    "nbgrader": {
     "cell_type": "code",
     "checksum": "4c8f4e0a875f2d1078cb5569e63bedad",
     "grade": true,
     "grade_id": "cell-655c18398f8b0ab7",
     "locked": true,
     "points": 1,
     "schema_version": 3,
     "solution": false,
     "task": false
    },
    "tags": []
   },
   "outputs": [],
   "source": [
    "# Test 1: Verify P2b is a number between 0 and 1. (1 mark)\n",
    "assert P2b > 0\n",
    "assert P2b < 1\n",
    "print(\"Test 1: Success!\")"
   ]
  },
  {
   "cell_type": "code",
   "execution_count": null,
   "id": "9be49ae2-6150-4fa3-89c8-e2cf694b7a4b",
   "metadata": {
    "deletable": false,
    "editable": false,
    "nbgrader": {
     "cell_type": "code",
     "checksum": "3c88eb9e1a53f9636831e86eb1cf4cb5",
     "grade": true,
     "grade_id": "cell-592dc76de2c5f707",
     "locked": true,
     "points": 1,
     "schema_version": 3,
     "solution": false,
     "task": false
    },
    "tags": []
   },
   "outputs": [],
   "source": [
    "# Test 2: Verify P2b is the correct value. This cell contains hidden tests. (1 mark)\n",
    "assert abs(P2b - 0.37) < 0.01, \"P2b rounded to 2 decimal places is 0.37.\""
   ]
  },
  {
   "cell_type": "markdown",
   "id": "ff0f9c27-ab6b-4b5d-aeaf-b7bedfcdb889",
   "metadata": {
    "deletable": false,
    "editable": false,
    "nbgrader": {
     "cell_type": "markdown",
     "checksum": "309f11b13de25a8b4e9ac6896e5c632c",
     "grade": false,
     "grade_id": "cell-65a7de7e5c3e76f0",
     "locked": true,
     "schema_version": 3,
     "solution": false,
     "task": false
    },
    "tags": []
   },
   "source": [
    "### Part 2c (2 marks)\n",
    "\n",
    "Let $X$ be a uniform random variable with range $[-1,6]$. Compute the probability $P(2 \\leq X \\leq 3)$. Save the result as `P2c`."
   ]
  },
  {
   "cell_type": "code",
   "execution_count": null,
   "id": "eaa69c5d-a8ad-4fd3-b1fc-928fea54c015",
   "metadata": {
    "deletable": false,
    "nbgrader": {
     "cell_type": "code",
     "checksum": "6f76f67dd87b4c7a67d0fb0b13b1d906",
     "grade": false,
     "grade_id": "cell-00951c5f6e24c3b6",
     "locked": false,
     "schema_version": 3,
     "solution": true,
     "task": false
    },
    "tags": []
   },
   "outputs": [],
   "source": [
    "# YOUR CODE HERE"
   ]
  },
  {
   "cell_type": "code",
   "execution_count": null,
   "id": "a680d9c9-16a0-4c81-bfe2-815e78adc088",
   "metadata": {
    "deletable": false,
    "editable": false,
    "nbgrader": {
     "cell_type": "code",
     "checksum": "dfe19c98cd085bfec371199a0d15a02c",
     "grade": true,
     "grade_id": "cell-45a7d6368e0297c7",
     "locked": true,
     "points": 1,
     "schema_version": 3,
     "solution": false,
     "task": false
    },
    "tags": []
   },
   "outputs": [],
   "source": [
    "# Test 1: Verify P2c is a number between 0 and 1. (1 mark)\n",
    "assert P2c > 0\n",
    "assert P2c < 1\n",
    "print(\"Test 1: Success!\")"
   ]
  },
  {
   "cell_type": "code",
   "execution_count": null,
   "id": "3a291eb7-7ce9-4339-958e-e35ee8cc32f9",
   "metadata": {
    "deletable": false,
    "editable": false,
    "nbgrader": {
     "cell_type": "code",
     "checksum": "b30ebf8ef78bceaa9ba525af71afcbe7",
     "grade": true,
     "grade_id": "cell-ebf06cf103004cca",
     "locked": true,
     "points": 1,
     "schema_version": 3,
     "solution": false,
     "task": false
    },
    "tags": []
   },
   "outputs": [],
   "source": [
    "# Test 2: Verify P2c is the correct value. This cell contains hidden tests. (1 mark)\n",
    "assert abs(P2c - 0.14) < 0.01, \"P2c rounded to 2 decimal places is 0.14.\""
   ]
  },
  {
   "cell_type": "markdown",
   "id": "12a76858-13a9-4c33-ba06-ffe90bbe4064",
   "metadata": {
    "deletable": false,
    "editable": false,
    "nbgrader": {
     "cell_type": "markdown",
     "checksum": "61c29e95adc4ed2820117ee33ca82bc5",
     "grade": false,
     "grade_id": "cell-1f199abe7ef715ce",
     "locked": true,
     "schema_version": 3,
     "solution": false,
     "task": false
    },
    "tags": []
   },
   "source": [
    "## Problem 3: Sampling\n",
    "\n",
    "### Part 3a (2 marks)\n",
    "\n",
    "Let $X$ be a uniform random variable with range $[0,10]$. Generate $4000$ random samples of $X$. Save the result as a NumPy array called `x3a`."
   ]
  },
  {
   "cell_type": "code",
   "execution_count": null,
   "id": "4e8d1632-7475-4506-bd9d-580fc38a25d5",
   "metadata": {
    "deletable": false,
    "nbgrader": {
     "cell_type": "code",
     "checksum": "d80dc247098602221cfbd2c679550bdb",
     "grade": false,
     "grade_id": "cell-af9a96dd0888c1b9",
     "locked": false,
     "schema_version": 3,
     "solution": true,
     "task": false
    },
    "tags": []
   },
   "outputs": [],
   "source": [
    "# YOUR CODE HERE"
   ]
  },
  {
   "cell_type": "code",
   "execution_count": null,
   "id": "d9d884fa-1856-40e4-a7af-95d4f874ca7e",
   "metadata": {
    "deletable": false,
    "editable": false,
    "nbgrader": {
     "cell_type": "code",
     "checksum": "42477db1142889000cc21d455d802808",
     "grade": true,
     "grade_id": "cell-35f72725d7f805fb",
     "locked": true,
     "points": 1,
     "schema_version": 3,
     "solution": false,
     "task": false
    },
    "tags": []
   },
   "outputs": [],
   "source": [
    "# Test 1: Verify x3a is a NumPy array with 4000 entries. (1 mark)\n",
    "assert isinstance(x3a,np.ndarray) , \"x3a should be a NumPy array.\"\n",
    "assert x3a.size == 4000 , \"x3a should have 4000 entries.\"\n",
    "print(\"Test 1: Success!\")"
   ]
  },
  {
   "cell_type": "code",
   "execution_count": null,
   "id": "4e6209fe-c740-4fc8-8434-eceaba995b9b",
   "metadata": {
    "deletable": false,
    "editable": false,
    "nbgrader": {
     "cell_type": "code",
     "checksum": "1dfb98c943954280771bdb152465698e",
     "grade": true,
     "grade_id": "cell-989818a2779f75e4",
     "locked": true,
     "points": 1,
     "schema_version": 3,
     "solution": false,
     "task": false
    },
    "tags": []
   },
   "outputs": [],
   "source": [
    "# Test 2: Verify x3a contains samples of U(0,10). This cell contains hidden tests. (1 mark)\n",
    "assert abs(np.mean(x3a) - 5) < 0.5 , \"Sample mean is close to 5.\"\n",
    "assert abs(np.var(x3a,ddof=1) - 100/12) < 0.5 , \"Unbiased sample variance is near 100/12\""
   ]
  },
  {
   "cell_type": "code",
   "execution_count": null,
   "id": "885b3fb5-9a9e-4808-b14f-c434e327ed7c",
   "metadata": {
    "deletable": false,
    "editable": false,
    "nbgrader": {
     "cell_type": "code",
     "checksum": "03535d76c86ee8787ec5d9847eb997d4",
     "grade": false,
     "grade_id": "cell-fa24ca4e20b0fd1e",
     "locked": true,
     "schema_version": 3,
     "solution": false,
     "task": false
    },
    "tags": []
   },
   "outputs": [],
   "source": [
    "### Plot histogram with the probability density function.\n",
    "plt.hist(x3a,density=True,bins=50)\n",
    "plt.plot([0,10],[1/10,1/10],'r')\n",
    "plt.show()"
   ]
  },
  {
   "cell_type": "markdown",
   "id": "784f6a58-2fa0-41c0-adc5-12e21989bb32",
   "metadata": {
    "deletable": false,
    "editable": false,
    "nbgrader": {
     "cell_type": "markdown",
     "checksum": "1f63c9ed3b5f72b32cf905fd9a956c2c",
     "grade": false,
     "grade_id": "cell-5e0e14ff53c78823",
     "locked": true,
     "schema_version": 3,
     "solution": false,
     "task": false
    },
    "tags": []
   },
   "source": [
    "### Part 3b (2 marks)\n",
    "\n",
    "Let $X$ be a normal random variable with mean $\\mu = 1$ and variance $\\sigma^2 = 6$. Generate $2000$ random samples of $X$. Save the result as a NumPy array called `x3b`."
   ]
  },
  {
   "cell_type": "code",
   "execution_count": null,
   "id": "acd387df-af6b-44d9-8a54-eb7cabdd5ba2",
   "metadata": {
    "deletable": false,
    "nbgrader": {
     "cell_type": "code",
     "checksum": "db8a273ecdb1e743a1549321d08cf511",
     "grade": false,
     "grade_id": "cell-4474bfd486f54a4b",
     "locked": false,
     "schema_version": 3,
     "solution": true,
     "task": false
    },
    "tags": []
   },
   "outputs": [],
   "source": [
    "# YOUR CODE HERE"
   ]
  },
  {
   "cell_type": "code",
   "execution_count": null,
   "id": "526a0ab0-d259-4328-8948-7fa208fd7fac",
   "metadata": {
    "deletable": false,
    "editable": false,
    "nbgrader": {
     "cell_type": "code",
     "checksum": "c309532a0bf8dd3de27a61d1d2370655",
     "grade": true,
     "grade_id": "cell-bfc93281301b8ed6",
     "locked": true,
     "points": 1,
     "schema_version": 3,
     "solution": false,
     "task": false
    },
    "tags": []
   },
   "outputs": [],
   "source": [
    "# Test 1: Verify x3b is a NumPy array with 2000 entries. (1 mark)\n",
    "assert isinstance(x3b,np.ndarray) , \"x3b should be a NumPy array.\"\n",
    "assert x3b.size == 2000 , \"x3b should have 2000 entries.\"\n",
    "print(\"Test 1: Success!\")"
   ]
  },
  {
   "cell_type": "code",
   "execution_count": null,
   "id": "1525f1d2-6585-4bd1-b221-7f435bc16c68",
   "metadata": {
    "deletable": false,
    "editable": false,
    "nbgrader": {
     "cell_type": "code",
     "checksum": "f615616265480f7c4e589ec61023b9a0",
     "grade": true,
     "grade_id": "cell-5dc96105b68ed985",
     "locked": true,
     "points": 1,
     "schema_version": 3,
     "solution": false,
     "task": false
    },
    "tags": []
   },
   "outputs": [],
   "source": [
    "# Test 2: Verify x3b contains samples of N(1,6). This cell contains hidden tests. (1 mark)\n",
    "assert abs(np.mean(x3b) - 1) < 0.1 , \"Sample mean is close to 5.\"\n",
    "assert abs(np.var(x3b,ddof=1) - 6) < 0.5 , \"Unbiased sample variance is near 6\""
   ]
  },
  {
   "cell_type": "code",
   "execution_count": null,
   "id": "ef5db2d3-d022-44d9-b34f-f5868dad1ca4",
   "metadata": {
    "deletable": false,
    "editable": false,
    "nbgrader": {
     "cell_type": "code",
     "checksum": "6d48711acdb7403a1d6123b4ace4b562",
     "grade": false,
     "grade_id": "cell-305a458eaafbda00",
     "locked": true,
     "schema_version": 3,
     "solution": false,
     "task": false
    },
    "tags": []
   },
   "outputs": [],
   "source": [
    "### Plot histogram with the probability density function.\n",
    "plt.hist(x3b,density=True,bins=50)\n",
    "x = np.linspace(-8,10,200)\n",
    "y = stats.norm.pdf(x,loc=1,scale=6**0.5)\n",
    "plt.plot(x,y)\n",
    "plt.show()"
   ]
  },
  {
   "cell_type": "markdown",
   "id": "5fecd5b6-2191-4d0d-b012-9ca438fb10fc",
   "metadata": {
    "deletable": false,
    "editable": false,
    "nbgrader": {
     "cell_type": "markdown",
     "checksum": "a5fc7d0759edd6e9a336240684268d3e",
     "grade": false,
     "grade_id": "cell-ab8feef3b755fe88",
     "locked": true,
     "schema_version": 3,
     "solution": false,
     "task": false
    },
    "tags": []
   },
   "source": [
    "### Part 3c (2 marks)\n",
    "\n",
    "Suppose $Y = X_1 + X_2 X_3,$ where $X_1$ is a standard normal random variable, $X_2$ is an exponential random variable with mean $\\mu=5$, and $X_3$ is a normal random variable with mean $\\mu=4$ and variance $\\sigma^2=10$.\n",
    "\n",
    "Generate $5000$ samples of $Y$ and save the result as `x3c`."
   ]
  },
  {
   "cell_type": "code",
   "execution_count": null,
   "id": "e0352d32-3838-4e70-81da-fc96237c9b06",
   "metadata": {
    "deletable": false,
    "nbgrader": {
     "cell_type": "code",
     "checksum": "985ed5b3dca02d54357e0740e28c821e",
     "grade": false,
     "grade_id": "cell-4b878b58f6795279",
     "locked": false,
     "schema_version": 3,
     "solution": true,
     "task": false
    },
    "tags": []
   },
   "outputs": [],
   "source": [
    "# YOUR CODE HERE"
   ]
  },
  {
   "cell_type": "code",
   "execution_count": null,
   "id": "cf552c37-564c-4066-9a74-77d9f1a7dfab",
   "metadata": {
    "deletable": false,
    "editable": false,
    "nbgrader": {
     "cell_type": "code",
     "checksum": "9c09b2be97318db18d1c5f1c6caaf5d5",
     "grade": true,
     "grade_id": "cell-f73c570e2b67ced9",
     "locked": true,
     "points": 1,
     "schema_version": 3,
     "solution": false,
     "task": false
    },
    "tags": []
   },
   "outputs": [],
   "source": [
    "# Test 1: Verify x3c is a NumPy array with 5000 entries. (1 mark)\n",
    "assert isinstance(x3c,np.ndarray) , \"x3c should be a NumPy array.\"\n",
    "assert x3c.size == 5000 , \"x3c should have 5000 entries.\"\n",
    "print(\"Test 1: Success!\")"
   ]
  },
  {
   "cell_type": "code",
   "execution_count": null,
   "id": "8db06345-2ad4-4677-a711-201b94bb44c9",
   "metadata": {
    "deletable": false,
    "editable": false,
    "nbgrader": {
     "cell_type": "code",
     "checksum": "99371b822e22e8213bb0cb7e4b2f8fef",
     "grade": true,
     "grade_id": "cell-9347d1c34ecb54df",
     "locked": true,
     "points": 1,
     "schema_version": 3,
     "solution": false,
     "task": false
    },
    "tags": []
   },
   "outputs": [],
   "source": [
    "# Test 2: Verify x3c contains samples of Y. This cell contains hidden tests. (1 mark)\n",
    "assert abs(np.mean(x3c) - 20) < 0.75 , \"Sample mean is close to 20.\""
   ]
  },
  {
   "cell_type": "code",
   "execution_count": null,
   "id": "f9817faf-4c22-4744-a52e-c76624feb682",
   "metadata": {
    "deletable": false,
    "editable": false,
    "nbgrader": {
     "cell_type": "code",
     "checksum": "7c3b69f3f4003b82a4ee4cd2b515eb4b",
     "grade": false,
     "grade_id": "cell-646f5722fc8d7412",
     "locked": true,
     "schema_version": 3,
     "solution": false,
     "task": false
    },
    "tags": []
   },
   "outputs": [],
   "source": [
    "### Plot histogram\n",
    "plt.figure(figsize=(6,3))\n",
    "plt.hist(x3c,density=True,bins=50), plt.grid(True)\n",
    "plt.show()"
   ]
  },
  {
   "cell_type": "markdown",
   "id": "44372fe6-c8cd-405c-81f7-adb06d2ffba6",
   "metadata": {
    "deletable": false,
    "editable": false,
    "nbgrader": {
     "cell_type": "markdown",
     "checksum": "74f418dc41310051720f09ffc0bfaa11",
     "grade": false,
     "grade_id": "cell-435b89c2ebff0c2d",
     "locked": true,
     "schema_version": 3,
     "solution": false,
     "task": false
    },
    "tags": []
   },
   "source": [
    "## Problem 4: Kernel Density Estimation\n",
    "\n",
    "Run the cell below to import the data in the file `data2.csv` and plot the histogram:"
   ]
  },
  {
   "cell_type": "code",
   "execution_count": null,
   "id": "e081474e-83f1-4fc4-a8f7-1d9d74569748",
   "metadata": {
    "deletable": false,
    "editable": false,
    "nbgrader": {
     "cell_type": "code",
     "checksum": "0c7edf3e28b016a867f89866fc336338",
     "grade": false,
     "grade_id": "cell-784c50bdc6781234",
     "locked": true,
     "schema_version": 3,
     "solution": false,
     "task": false
    },
    "tags": []
   },
   "outputs": [],
   "source": [
    "x4 = np.loadtxt('data2.txt')\n",
    "plt.hist(x4,bins=50), plt.grid(True)\n",
    "plt.show()"
   ]
  },
  {
   "cell_type": "markdown",
   "id": "909ec4df-15b4-4453-bbb0-13c1a07a0987",
   "metadata": {
    "deletable": false,
    "editable": false,
    "nbgrader": {
     "cell_type": "markdown",
     "checksum": "635feee4bc0e72028921778740431abc",
     "grade": false,
     "grade_id": "cell-15cd632d7c41d910",
     "locked": true,
     "schema_version": 3,
     "solution": false,
     "task": false
    },
    "tags": []
   },
   "source": [
    "### Part 4a (2 marks)\n",
    "\n",
    "Use the function `scipy.stats.gaussian_kde` to approximate the probability density function of the distribution of the data in `x4`. Use the parameter value `bw_method=0.5`. Save the result as `kde4a`."
   ]
  },
  {
   "cell_type": "code",
   "execution_count": null,
   "id": "a541bca0-b247-414b-ba87-8250f2d39ad1",
   "metadata": {
    "deletable": false,
    "nbgrader": {
     "cell_type": "code",
     "checksum": "24a546c59ec5cd9f69446ac92b91ad27",
     "grade": false,
     "grade_id": "cell-3e9f8c5449a263d4",
     "locked": false,
     "schema_version": 3,
     "solution": true,
     "task": false
    },
    "tags": []
   },
   "outputs": [],
   "source": [
    "# YOUR CODE HERE"
   ]
  },
  {
   "cell_type": "code",
   "execution_count": null,
   "id": "3bbff9f8-c80e-422e-a606-cec0770fcd4d",
   "metadata": {
    "deletable": false,
    "editable": false,
    "nbgrader": {
     "cell_type": "code",
     "checksum": "d0bc8cb8b6777044d16175d54dd38e81",
     "grade": true,
     "grade_id": "cell-556d9e73e7a35f27",
     "locked": true,
     "points": 1,
     "schema_version": 3,
     "solution": false,
     "task": false
    },
    "tags": []
   },
   "outputs": [],
   "source": [
    "# Test 1: Verify kde4a is a function with positive values. (1 mark)\n",
    "assert callable(kde4a)\n",
    "assert kde4a(0) >= 0\n",
    "assert kde4a(1) >= 0\n",
    "assert kde4a(10) >= 0\n",
    "print(\"Test 1: Success!\")"
   ]
  },
  {
   "cell_type": "code",
   "execution_count": null,
   "id": "ee3d1658-5d60-407d-82d5-58b982512b8c",
   "metadata": {
    "deletable": false,
    "editable": false,
    "nbgrader": {
     "cell_type": "code",
     "checksum": "376e72348d8db084bf1ab8744a31536f",
     "grade": true,
     "grade_id": "cell-c188e962d26f232a",
     "locked": true,
     "points": 1,
     "schema_version": 3,
     "solution": false,
     "task": false
    },
    "tags": []
   },
   "outputs": [],
   "source": [
    "# Test 1: Verify kde4a returns the correct values. This cell contains hidden tests. (1 mark)\n",
    "assert abs(kde4a(5) - 0.20776092) < 1e-8"
   ]
  },
  {
   "cell_type": "code",
   "execution_count": null,
   "id": "6287166f-5aed-41a5-ae9f-c14ad25f6fc9",
   "metadata": {
    "deletable": false,
    "editable": false,
    "nbgrader": {
     "cell_type": "code",
     "checksum": "4b42c487bd2b20350b67ca6e5ed68f88",
     "grade": false,
     "grade_id": "cell-19c9216da415250f",
     "locked": true,
     "schema_version": 3,
     "solution": false,
     "task": false
    },
    "tags": []
   },
   "outputs": [],
   "source": [
    "# Plot kde with a histogram of the data\n",
    "x = np.linspace(0,15,100)\n",
    "plt.plot(x,kde4a(x),'r')\n",
    "plt.hist(x4,bins=50,density=True,color='b',alpha=0.5), plt.grid(True)\n",
    "plt.show()"
   ]
  },
  {
   "cell_type": "markdown",
   "id": "e38de054-cad6-4c8f-83b5-5149eee17fbf",
   "metadata": {
    "deletable": false,
    "editable": false,
    "nbgrader": {
     "cell_type": "markdown",
     "checksum": "52148ba17e5614af6c641dda74a0c347",
     "grade": false,
     "grade_id": "cell-008544ee25352a59",
     "locked": true,
     "schema_version": 3,
     "solution": false,
     "task": false
    },
    "tags": []
   },
   "source": [
    "The figure above should show that the kernel density estimation is over-smoothed and so the value `bw_method=0.5` is too large for this data. Let's try again with `bw_method=0.1`."
   ]
  },
  {
   "cell_type": "markdown",
   "id": "1ee201a3-c60a-4019-8b95-b3a0b1f2b093",
   "metadata": {
    "deletable": false,
    "editable": false,
    "nbgrader": {
     "cell_type": "markdown",
     "checksum": "99c1eb5e684a86e872284436c5f690ee",
     "grade": false,
     "grade_id": "cell-d7a06782a57ff49b",
     "locked": true,
     "schema_version": 3,
     "solution": false,
     "task": false
    },
    "tags": []
   },
   "source": [
    "### Part 4b (2 marks)\n",
    "\n",
    "Use the function `scipy.stats.gaussian_kde` to approximate the probability density function of the distribution of the data in `x4`. Use the parameter value `bw_method=0.1`. Save the result as `kde4b`."
   ]
  },
  {
   "cell_type": "code",
   "execution_count": null,
   "id": "26f52029-ce7c-43de-b8a9-bb0d85bad6e3",
   "metadata": {
    "deletable": false,
    "nbgrader": {
     "cell_type": "code",
     "checksum": "de9dbf938495b5fd4bf464aa20cba623",
     "grade": false,
     "grade_id": "cell-afc6bc1783a9c124",
     "locked": false,
     "schema_version": 3,
     "solution": true,
     "task": false
    },
    "tags": []
   },
   "outputs": [],
   "source": [
    "# YOUR CODE HERE"
   ]
  },
  {
   "cell_type": "code",
   "execution_count": null,
   "id": "585eea9a-e81c-4c21-9878-a31f1aa96e3e",
   "metadata": {
    "deletable": false,
    "editable": false,
    "nbgrader": {
     "cell_type": "code",
     "checksum": "f1e0534ae82c60e23c0245df2a1445e6",
     "grade": true,
     "grade_id": "cell-c07425b8eb9e746e",
     "locked": true,
     "points": 1,
     "schema_version": 3,
     "solution": false,
     "task": false
    },
    "tags": []
   },
   "outputs": [],
   "source": [
    "# Test 1: Verify kde4b is a function with positive values. (1 mark)\n",
    "assert callable(kde4b)\n",
    "assert kde4b(0) >= 0\n",
    "assert kde4b(1) >= 0\n",
    "assert kde4b(10) >= 0\n",
    "print(\"Test 1: Success!\")"
   ]
  },
  {
   "cell_type": "code",
   "execution_count": null,
   "id": "841e4b4d-a6f6-4b8e-a0b0-86b4cb1438e7",
   "metadata": {
    "deletable": false,
    "editable": false,
    "nbgrader": {
     "cell_type": "code",
     "checksum": "43e44e1f77a0f9d3385ce3b7eabfd00e",
     "grade": true,
     "grade_id": "cell-12c07007ca792914",
     "locked": true,
     "points": 1,
     "schema_version": 3,
     "solution": false,
     "task": false
    },
    "tags": []
   },
   "outputs": [],
   "source": [
    "# Test 2: Verify kde4b returns the correct values. This cell contains hidden tests. (1 mark)\n",
    "assert abs(kde4b(5) - 0.34668468) < 1e-8"
   ]
  },
  {
   "cell_type": "code",
   "execution_count": null,
   "id": "ca9ec0fe-68c2-42df-88ea-e4343b1a057a",
   "metadata": {
    "deletable": false,
    "editable": false,
    "nbgrader": {
     "cell_type": "code",
     "checksum": "13ae661e0c926d3cd945f4ba619d970d",
     "grade": false,
     "grade_id": "cell-d928ac57f1393bb2",
     "locked": true,
     "schema_version": 3,
     "solution": false,
     "task": false
    },
    "tags": []
   },
   "outputs": [],
   "source": [
    "# Plot the kde with a histogram of the data\n",
    "x = np.linspace(0,15,100)\n",
    "plt.plot(x,kde4b(x),'r')\n",
    "plt.hist(x4,bins=50,density=True,color='b',alpha=0.5), plt.grid(True)\n",
    "plt.show()"
   ]
  },
  {
   "cell_type": "markdown",
   "id": "a307fa0d-e44b-4d2e-965f-0ce721559367",
   "metadata": {
    "deletable": false,
    "editable": false,
    "nbgrader": {
     "cell_type": "markdown",
     "checksum": "fae2d9cda117cabcda93ebc6b423a540",
     "grade": false,
     "grade_id": "cell-5207ebf01428dcc1",
     "locked": true,
     "schema_version": 3,
     "solution": false,
     "task": false
    },
    "tags": []
   },
   "source": [
    "### Part 4c (2 marks)\n",
    "\n",
    "The distribution is bimodal. Approximate the `x` values of the two local maximum values of the kernel density function `kde4b` computed with `bw_method=0.1`. Save the smaller value as `x4c1` and the larger value as `x4c2`."
   ]
  },
  {
   "cell_type": "code",
   "execution_count": null,
   "id": "83d50b67-60fc-4df1-8bfe-c25814f80d5c",
   "metadata": {
    "deletable": false,
    "nbgrader": {
     "cell_type": "code",
     "checksum": "ab132b75e41f8cff2fad16675e5d89b9",
     "grade": false,
     "grade_id": "cell-249d84b336424bbc",
     "locked": false,
     "schema_version": 3,
     "solution": true,
     "task": false
    },
    "tags": []
   },
   "outputs": [],
   "source": [
    "# YOUR CODE HERE"
   ]
  },
  {
   "cell_type": "code",
   "execution_count": null,
   "id": "ea46ca62-8e98-4d91-949a-1828942133d0",
   "metadata": {
    "deletable": false,
    "editable": false,
    "nbgrader": {
     "cell_type": "code",
     "checksum": "7a6ffcc0fd22332ff237da984435b204",
     "grade": true,
     "grade_id": "cell-a5619e4105446515",
     "locked": true,
     "points": 1,
     "schema_version": 3,
     "solution": false,
     "task": false
    },
    "tags": []
   },
   "outputs": [],
   "source": [
    "# Test 1: Verify x4c1 is the correct value. This cell contains hidden tests. (1 mark)\n",
    "assert round(x4c1) == 5"
   ]
  },
  {
   "cell_type": "code",
   "execution_count": null,
   "id": "6928b3ae-f0c1-4994-be20-40f607fc5799",
   "metadata": {
    "deletable": false,
    "editable": false,
    "nbgrader": {
     "cell_type": "code",
     "checksum": "04ab3a5ae6ab93a3e8e9151281661457",
     "grade": true,
     "grade_id": "cell-3bc5bf6bea29eb46",
     "locked": true,
     "points": 1,
     "schema_version": 3,
     "solution": false,
     "task": false
    },
    "tags": []
   },
   "outputs": [],
   "source": [
    "# Test 2: Verify x4c2 is the correct value. This cell contains hidden tests. (1 mark)\n",
    "assert round(x4c2) == 9"
   ]
  },
  {
   "cell_type": "markdown",
   "id": "4995256c-0cd4-4107-9143-4563ad1010ce",
   "metadata": {
    "deletable": false,
    "editable": false,
    "nbgrader": {
     "cell_type": "markdown",
     "checksum": "3ccbebd70fbbd044b79c09e8c0c745d0",
     "grade": false,
     "grade_id": "cell-410851dc65470072",
     "locked": true,
     "schema_version": 3,
     "solution": false,
     "task": false
    },
    "tags": []
   },
   "source": [
    "### Part 4d (2 marks)\n",
    "\n",
    "The distribution is bimodal. Let $X$ be a random varaible whose probability density function is given by the kernel density function `kde4b` computed with `bw_method=0.1`. Compute the probability $P(5 \\leq X \\leq 9)$. Save the result as `P4d`."
   ]
  },
  {
   "cell_type": "code",
   "execution_count": null,
   "id": "3b7c100b-eaee-40d1-9e41-b4e358716007",
   "metadata": {
    "deletable": false,
    "nbgrader": {
     "cell_type": "code",
     "checksum": "14bcf3bc9e7f60f8dbea60e9d60fd664",
     "grade": false,
     "grade_id": "cell-9638e3d4efe5fd81",
     "locked": false,
     "schema_version": 3,
     "solution": true,
     "task": false
    },
    "tags": []
   },
   "outputs": [],
   "source": [
    "# YOUR CODE HERE"
   ]
  },
  {
   "cell_type": "code",
   "execution_count": null,
   "id": "6a21afbf-efc1-48bd-aa70-3a313c69c361",
   "metadata": {
    "deletable": false,
    "editable": false,
    "nbgrader": {
     "cell_type": "code",
     "checksum": "81f1c9bdef9d4385066888064ae788b9",
     "grade": true,
     "grade_id": "cell-bf61a4abcd543ff9",
     "locked": true,
     "points": 1,
     "schema_version": 3,
     "solution": false,
     "task": false
    },
    "tags": []
   },
   "outputs": [],
   "source": [
    "# Test 1: Verify P4d is a value between 0 and 1. (1 mark)\n",
    "assert P4d > 0\n",
    "assert P4d < 1\n",
    "print(\"Test 1: Success!\")"
   ]
  },
  {
   "cell_type": "code",
   "execution_count": null,
   "id": "8ee60459-5f1d-4a11-b8a6-4dd666f3fed1",
   "metadata": {
    "deletable": false,
    "editable": false,
    "nbgrader": {
     "cell_type": "code",
     "checksum": "49ae963c15dd1e202d63bc487fbcb1c4",
     "grade": true,
     "grade_id": "cell-e24e052eeed3aab2",
     "locked": true,
     "points": 1,
     "schema_version": 3,
     "solution": false,
     "task": false
    },
    "tags": []
   },
   "outputs": [],
   "source": [
    "# Test 2: Verify P4d is the correct value. This cell contains hidden tests. (1 mark)\n",
    "assert abs(P4d - 0.5) < 0.05"
   ]
  },
  {
   "cell_type": "markdown",
   "id": "e2d7497d-57bc-4de2-a6eb-857aae865612",
   "metadata": {
    "deletable": false,
    "editable": false,
    "nbgrader": {
     "cell_type": "markdown",
     "checksum": "f2aea6a774f47693e2d93a6261fe212c",
     "grade": false,
     "grade_id": "cell-8bac8cc2b54eda07",
     "locked": true,
     "schema_version": 3,
     "solution": false,
     "task": false
    },
    "tags": []
   },
   "source": [
    "## Problem 5: Modelling with Random Variables\n",
    "\n",
    "Suppose you want to get a coffee between classes. The time it takes to get a coffee can be modelled with the following variables:\n",
    "\n",
    "* the total walking time $X_1$ (in minutes) from class, to the coffee shop, and to your next class is a normal random variable with mean 2 and variance 0.5.\n",
    "* the total waiting time $X_2$ (in minutes) to queue for coffee, order, and receive your drink is an exponential random variable with mean 5.\n",
    "\n",
    "The mean value of the total walking plus waiting time is 7 minutes and the time between classes is 10 minutes. What is the probability that you are able to obtain a coffee between classes while arriving at the next class on time?\n",
    "\n",
    "In other words, let $Y = X_1 + X_2$ be the total walking plus waiting time. We want to estimate $P(Y \\leq 10)$.\n",
    "\n",
    "Let's compute the probability in two ways: Monte Carlo and KDE.\n",
    "\n",
    "### Part 5a (2 marks)\n",
    "\n",
    "Compute $N=10000$ samples of $Y$ and count the number of values less than or equal to 10. Use this to compute the probability $P(Y \\leq 10)$. Save the result as `P5a`."
   ]
  },
  {
   "cell_type": "code",
   "execution_count": null,
   "id": "31c71d19-52a6-47b9-9958-e4213ce2ad85",
   "metadata": {
    "deletable": false,
    "nbgrader": {
     "cell_type": "code",
     "checksum": "af4fa4b5b59d3f0d2a64dd16f256254f",
     "grade": false,
     "grade_id": "cell-d314a1a424caeb4b",
     "locked": false,
     "schema_version": 3,
     "solution": true,
     "task": false
    },
    "tags": []
   },
   "outputs": [],
   "source": [
    "# YOUR CODE HERE"
   ]
  },
  {
   "cell_type": "code",
   "execution_count": null,
   "id": "02968a25-a43e-4c47-973a-40c3145a9657",
   "metadata": {
    "deletable": false,
    "editable": false,
    "nbgrader": {
     "cell_type": "code",
     "checksum": "20cdadde56234c93c590afc54334dfb0",
     "grade": true,
     "grade_id": "cell-5368357ffba4d967",
     "locked": true,
     "points": 1,
     "schema_version": 3,
     "solution": false,
     "task": false
    },
    "tags": []
   },
   "outputs": [],
   "source": [
    "# Test 1: Verify P5a is a value between 0 and 1. (1 mark)\n",
    "assert P5a > 0\n",
    "assert P5a < 1\n",
    "print(\"Test 1: Success!\")"
   ]
  },
  {
   "cell_type": "code",
   "execution_count": null,
   "id": "456a6331-f78b-4e7e-a73c-8e4d8c5c5a51",
   "metadata": {
    "deletable": false,
    "editable": false,
    "nbgrader": {
     "cell_type": "code",
     "checksum": "3ccbc77653ab4f9fc5e17cf888870a92",
     "grade": true,
     "grade_id": "cell-a84006bae1763678",
     "locked": true,
     "points": 1,
     "schema_version": 3,
     "solution": false,
     "task": false
    },
    "tags": []
   },
   "outputs": [],
   "source": [
    "# Test 2: Verify P5a is the correct value. This cell contains hidden tests. (1 mark)\n",
    "assert round(P5a,1) == 0.8\n",
    "print(\"Test 2: Success!\")"
   ]
  },
  {
   "cell_type": "markdown",
   "id": "b4ed16da-8638-4127-bbe4-af7812f77fae",
   "metadata": {
    "deletable": false,
    "editable": false,
    "nbgrader": {
     "cell_type": "markdown",
     "checksum": "8d2e27fc2ffa6b66bc433d00c9b2dd93",
     "grade": false,
     "grade_id": "cell-c8d878248e76e863",
     "locked": true,
     "schema_version": 3,
     "solution": false,
     "task": false
    },
    "tags": []
   },
   "source": [
    "### Part 5b (2 marks)\n",
    "\n",
    "Compute $N=1000$ samples of $Y$ (note that this is a smaller number than part 5a) and use `scipy.stats.gaussian_kde` to compute the kernel density function. Plot the KDE with the histgram of the data to choose a good value of `bw_method`. Integrate the KDE to approximate the probability $P(Y \\leq 10)$. Save the result as `P5b`."
   ]
  },
  {
   "cell_type": "code",
   "execution_count": null,
   "id": "b74bf778-9a00-486d-a1ce-b0a8a136b275",
   "metadata": {
    "deletable": false,
    "nbgrader": {
     "cell_type": "code",
     "checksum": "dd5c74ecc2844f77598e22d2c32a0cfb",
     "grade": false,
     "grade_id": "cell-95d8842ad1cfde62",
     "locked": false,
     "schema_version": 3,
     "solution": true,
     "task": false
    },
    "tags": []
   },
   "outputs": [],
   "source": [
    "# YOUR CODE HERE"
   ]
  },
  {
   "cell_type": "code",
   "execution_count": null,
   "id": "c4f1732b-e583-48f6-91df-da1ba5981159",
   "metadata": {
    "deletable": false,
    "editable": false,
    "nbgrader": {
     "cell_type": "code",
     "checksum": "52fddca7023ba4b485a77120f6a2ab6b",
     "grade": true,
     "grade_id": "cell-9fc376da0c7319a3",
     "locked": true,
     "points": 1,
     "schema_version": 3,
     "solution": false,
     "task": false
    },
    "tags": []
   },
   "outputs": [],
   "source": [
    "# Test 1: Verify P5b is a value between 0 and 1. (1 mark)\n",
    "assert P5b > 0\n",
    "assert P5b < 1\n",
    "print(\"Test 1: Success!\")"
   ]
  },
  {
   "cell_type": "code",
   "execution_count": null,
   "id": "3377b613-31f4-4560-9fa5-20e972aa6f57",
   "metadata": {
    "deletable": false,
    "editable": false,
    "nbgrader": {
     "cell_type": "code",
     "checksum": "876e344a90c112384f2992b38fec1f41",
     "grade": true,
     "grade_id": "cell-f615ead394bc4cd2",
     "locked": true,
     "points": 1,
     "schema_version": 3,
     "solution": false,
     "task": false
    },
    "tags": []
   },
   "outputs": [],
   "source": [
    "# Test 2: Verify P5b is the correct value. This cell contains hidden tests. (1 mark)\n",
    "assert round(P5b,1) == 0.8\n",
    "print(\"Test 2: Success!\")"
   ]
  }
 ],
 "metadata": {
  "kernelspec": {
   "display_name": "Python 3 (ipykernel)",
   "language": "python",
   "name": "python3"
  },
  "language_info": {
   "codemirror_mode": {
    "name": "ipython",
    "version": 3
   },
   "file_extension": ".py",
   "mimetype": "text/x-python",
   "name": "python",
   "nbconvert_exporter": "python",
   "pygments_lexer": "ipython3",
   "version": "3.10.12"
  }
 },
 "nbformat": 4,
 "nbformat_minor": 5
}
